{
 "cells": [
  {
   "cell_type": "code",
   "execution_count": 1,
   "id": "934b764b",
   "metadata": {
    "execution": {
     "iopub.execute_input": "2024-08-29T15:34:38.198848Z",
     "iopub.status.busy": "2024-08-29T15:34:38.198726Z",
     "iopub.status.idle": "2024-08-29T15:34:38.212245Z",
     "shell.execute_reply": "2024-08-29T15:34:38.211897Z"
    }
   },
   "outputs": [
    {
     "name": "stdout",
     "output_type": "stream",
     "text": [
      "none object_sensors\n",
      "none object_sensors\n",
      "none object_sensors\n",
      "none object_sensors\n",
      "Activity: cooking\n",
      "data: {'cut0': 0.25, 'agg_location': 'mean', 'ftw_location': [1.0, 1.0, 0.5], 'object_sensors': ['micro_5', 'pans_8', 'dishes_9', 'fridge_13', 'tap_22'], 'processing': ['sensor_kitchen', 'sensor_kitchen2', 'sensor_kitchen3', 'sensor_kitchen_tA', 'cooking']}\n",
      "Activity: shower\n",
      "data: {'cut0': 0.2, 'agg_location': 'mean', 'ftw_location': [1, 0.5], 'object_sensors': ['shower_24_apertura', 'hum_shower_25', 'shower_31'], 'processing': ['sensor_shower', 'shower']}\n",
      "Activity: toileting\n",
      "data: {'cut0': 0.25, 'agg_location': 'max', 'ftw_location': [1.0, 1.0, 1.0, 0.5], 'object_sensors': ['wc_17', 'sink_21'], 'processing': ['wc_tA', 'sink_tA', 'toileting']}\n",
      "Activity: pc\n",
      "data: {'cut0': 0.25, 'agg_location': 'mean', 'ftw_location': [1.0, 1.0, 1.0, 1.0, 1.0, 1.0, 1.0, 1.0, 1.0, 1.0, 0.8, 0.6, 0.4, 0.2], 'object_sensors': ['pc_1_current_consumption'], 'processing': ['pc']}\n",
      "Activity: sleep\n",
      "data: {'cut0': 0.25, 'agg_location': 'mean', 'ftw_location': [1.0, 1.0, 1.0, 1.0, 1.0, 1.0, 1.0, 1.0, 1.0, 1.0, 1.0, 1.0, 1.0, 1.0, 1.0, 1.0, 1.0, 1.0, 1.0, 1.0, 1.0, 1.0, 1.0, 1.0, 1.0, 1.0, 1.0, 1.0, 1.0, 0.8, 0.6, 0.4, 0.2], 'object_sensors': [], 'processing': None}\n",
      "Activity: kitchen\n",
      "data: {'cut0': 0.25, 'agg_location': 'mean', 'ftw_location': [1.0, 1.0, 1.0, 1.0, 1.0, 0.8, 0.6, 0.4, 0.2], 'object_sensors': [], 'processing': None}\n",
      "Activity: resting\n",
      "data: {'cut0': 0.25, 'agg_location': 'mean', 'ftw_location': [1.0, 1.0, 1.0, 1.0, 1.0, 1.0, 1.0, 1.0, 1.0, 1.0, 1.0, 1.0, 1.0, 1.0, 1.0, 1.0, 0.8, 0.6, 0.4, 0.2], 'object_sensors': [], 'processing': None}\n",
      "Activity: exit\n",
      "data: {'cut0': 0.25, 'agg_location': 'mean', 'ftw_location': [1.0, 1.0, 1.0, 1.0, 1.0, 1.0, 1.0, 1.0, 1.0, 1.0, 1.0, 1.0, 1.0, 1.0, 1.0, 1.0, 1.0, 1.0, 1.0, 1.0, 1.0, 1.0, 1.0, 1.0, 1.0, 1.0, 1.0, 1.0, 1.0, 0.8, 0.6, 0.4, 0.2], 'object_sensors': [], 'processing': None}\n"
     ]
    }
   ],
   "source": [
    "%config Completer.use_jedi = False\n",
    "\n",
    "import configparser\n",
    "config = configparser.ConfigParser()\n",
    "config.read('agg-config.txt')\n",
    "\n",
    "\n",
    "time_step = int(config.get('Configuration', 'time_step'))\n",
    "time_step2 = int(config.get('Configuration', 'time_step2'))\n",
    "\n",
    "window_size = int(config.get('Configuration', 'window_size'))\n",
    "processed_data_folder = config.get('Configuration', 'processed_data_folder')\n",
    "\n",
    "ini_date = config.get('Configuration', 'ini_date')\n",
    "end_date = config.get('Configuration', 'end_date')\n",
    "\n",
    "\n",
    "\n",
    "activities=config.get('Configuration', 'activities')\n",
    "activities = [(item.strip()) for item in activities.split(',')]\n",
    "\n",
    "w = int(config.get('Configuration', 'w'))\n",
    "h = int(config.get('Configuration', 'h'))\n",
    "\n",
    "\n",
    "activity_data = {}\n",
    "\n",
    "for activity in activities:\n",
    "    try:\n",
    "        cut0 = float(config.get(activity, 'cut0'))\n",
    "    except:\n",
    "        cut0=0.5\n",
    "    try:\n",
    "        user_location = config.get(activity, 'user_location').split(':')\n",
    "        agg_location = user_location[0]\n",
    "        ftw_location=config.get(activity, user_location[1])\n",
    "        ftw_location = [float(item.strip()) for item in ftw_location.split(',')]\n",
    "    except:\n",
    "        agg_location=\"mean\"\n",
    "        ftw_location=[1,0.5]        \n",
    "    try:\n",
    "        object_sensors=config.get(activity, 'object_sensors')\n",
    "        object_sensors= [(item.strip()) for item in object_sensors.split(',')]\n",
    "        \n",
    "        processing=config.get(activity, 'processing')\n",
    "        processing= [(item.strip()) for item in processing.split(',')]\n",
    "        #condition = condition.replace('&', ' and ').replace('|', ' or ')\n",
    "    except:\n",
    "        object_sensors=[]\n",
    "        processing=None\n",
    "        print(\"none object_sensors\")\n",
    "    \n",
    "    activity_data[activity] = {\n",
    "        'cut0': cut0,\n",
    "        'agg_location' : agg_location,\n",
    "        'ftw_location' : ftw_location,\n",
    "        'object_sensors': object_sensors,\n",
    "        'processing': processing\n",
    "    }\n",
    "\n",
    "for activity, data in activity_data.items():\n",
    "    print(f\"Activity: {activity}\")\n",
    "    print(f\"data: {data}\")\n",
    "\n",
    "\n"
   ]
  },
  {
   "cell_type": "code",
   "execution_count": 2,
   "id": "44ea50ba",
   "metadata": {
    "execution": {
     "iopub.execute_input": "2024-08-29T15:34:38.213987Z",
     "iopub.status.busy": "2024-08-29T15:34:38.213655Z",
     "iopub.status.idle": "2024-08-29T15:34:38.434137Z",
     "shell.execute_reply": "2024-08-29T15:34:38.433565Z"
    }
   },
   "outputs": [
    {
     "name": "stdout",
     "output_type": "stream",
     "text": [
      "2024-08-01 01:59:59 End date is 1722470399 day: 19936 2024-08-01 01:59:59\n",
      "2024-07-31 02:00:00\n",
      "2024-07-31 02:00:00 Init date is 1722384000 day: 19935 2024-07-31 02:00:00\n",
      "19935\n",
      "1440\n",
      "2024-07-31\n",
      "['16fe', '5b66', 'ed9c']\n"
     ]
    }
   ],
   "source": [
    "import numpy as np\n",
    "from pandas import read_csv    \n",
    "import pandas as pd\n",
    "import time\n",
    "\n",
    "from datetime import datetime, timedelta\n",
    "\n",
    "off_zone=60*60*2\n",
    "\n",
    "def day_time(ti):\n",
    "    return int((int)((ti+off_zone)/(60*60*24)))\n",
    "\n",
    "\n",
    "def time2str(tt):\n",
    "    return datetime.fromtimestamp(tt).strftime(\"%Y-%m-%d %H:%M:%S\")\n",
    "\n",
    "tN = (int)(datetime.strptime(end_date, '%Y-%m-%d %H:%M:%S').timestamp())\n",
    "print (end_date,\"End date is\", tN, \"day:\",day_time(tN), time2str(tN))\n",
    "\n",
    "\n",
    "print(ini_date)\n",
    "t0 = (int)(datetime.strptime(ini_date, '%Y-%m-%d %H:%M:%S').timestamp())\n",
    "print (ini_date,\"Init date is\", t0, \"day:\",day_time(t0), time2str(t0))\n",
    "\n",
    "\n",
    "def day_time0(ti):\n",
    "    return day_time(ti)-day_time(t0)+1\n",
    "\n",
    "def relT(ti):\n",
    "    return (int)((ti-t0)/time_step2)\n",
    "\n",
    "def sizeT():\n",
    "    return relT(tN) \n",
    "\n",
    "def absT(tt):\n",
    "    return (int)(tt*time_step2+t0)\n",
    "\n",
    "day=list(range(day_time(t0),day_time(tN)+1))[0]\n",
    "\n",
    "print(day)\n",
    "nT=(int)(round(((tN)-(t0))/time_step2))\n",
    "print(nT)\n",
    "\n",
    "from datetime import datetime, timedelta\n",
    "\n",
    "\n",
    "def getStrDatefrom(day_number):\n",
    "    # Reference date (1970-01-01)\n",
    "    reference_date = datetime(1970, 1, 1)\n",
    "    \n",
    "    # Compute the date corresponding to the day number\n",
    "    resulting_date = reference_date + timedelta(days=day_number)\n",
    "    \n",
    "    return resulting_date.strftime(\"%Y-%m-%d\")\n",
    "\n",
    "\n",
    "\n",
    "\n",
    "day_str=getStrDatefrom(day)\n",
    "print(day_str)\n",
    "users=config.get('Configuration', day_str)\n",
    "users = [(item.strip()) for item in users.split(',')]\n",
    "\n",
    "\n",
    "print(users)"
   ]
  },
  {
   "cell_type": "code",
   "execution_count": 3,
   "id": "61c86089",
   "metadata": {
    "execution": {
     "iopub.execute_input": "2024-08-29T15:34:38.436181Z",
     "iopub.status.busy": "2024-08-29T15:34:38.435817Z",
     "iopub.status.idle": "2024-08-29T15:34:38.476803Z",
     "shell.execute_reply": "2024-08-29T15:34:38.476252Z"
    }
   },
   "outputs": [],
   "source": [
    "import os\n",
    "from PIL import Image \n",
    "import cv2\n",
    "\n",
    "def getGTImg(tt,user):\n",
    "    file_path = os.path.join(processed_data_folder+\"DAY_\"+str(day)+\"/\"+user+\"_agg/FP.\"+str(tt)+\".png\")\n",
    "    if os.path.exists(file_path):\n",
    "        return rescale_image(np.array(Image.open(file_path)),8) / 255.0\n",
    "    else:\n",
    "        return None\n",
    "    \n",
    "def getAREAactivity(activity,user):\n",
    "    file_path = os.path.join(processed_data_folder+\"/mask_loc_act/\"+str(activity)+\".png\")\n",
    "    if os.path.exists(file_path):\n",
    "        return np.array(Image.open(file_path)) / 255.0\n",
    "    else:\n",
    "        file_path = os.path.join(processed_data_folder+\"/mask_loc_act/\"+str(user)+\".\"+activity+\".png\")\n",
    "        if os.path.exists(file_path):\n",
    "            return np.array(Image.open(file_path)) / 255.0\n",
    "        print(\"ERROR MASK ACTIVITY\",activity,user)\n",
    "        return None\n",
    "    \n",
    "def rescale_image(image, scale_factor):\n",
    "    width = int(image.shape[1] * scale_factor)\n",
    "    height = int(image.shape[0] * scale_factor)\n",
    "    dimensions = (width, height)\n",
    "    rescaled_image = cv2.resize(image, dimensions, interpolation=cv2.INTER_LINEAR)\n",
    "    return rescaled_image"
   ]
  },
  {
   "cell_type": "code",
   "execution_count": 4,
   "id": "6dbe748a",
   "metadata": {
    "execution": {
     "iopub.execute_input": "2024-08-29T15:34:38.479180Z",
     "iopub.status.busy": "2024-08-29T15:34:38.478961Z",
     "iopub.status.idle": "2024-08-29T15:34:38.482441Z",
     "shell.execute_reply": "2024-08-29T15:34:38.481975Z"
    }
   },
   "outputs": [],
   "source": [
    "def intervals(s,val0):\n",
    "    ret = []\n",
    "    lastV = 0\n",
    "    lastI = -1\n",
    "    for t in range(0, len(s)):\n",
    "        if lastV >= val0 and s[t] < val0:\n",
    "            #print(\"Interval end at index\",t,\"degree: \", s[t])\n",
    "            ret.append((lastI, t - 1))\n",
    "        if lastV < val0 and s[t] >= val0:\n",
    "            #print(\"Interval start at index\",t,\"degree: \", s[t])\n",
    "            lastI = t\n",
    "        lastV = s[t]\n",
    "    \n",
    "    if lastV >= val0:\n",
    "        ret.append((lastI, len(s) - 1))\n",
    "    print(ret)\n",
    "    return ret"
   ]
  },
  {
   "cell_type": "code",
   "execution_count": 5,
   "id": "1d4ed8d8",
   "metadata": {
    "execution": {
     "iopub.execute_input": "2024-08-29T15:34:38.484438Z",
     "iopub.status.busy": "2024-08-29T15:34:38.484042Z",
     "iopub.status.idle": "2024-08-29T15:34:38.491035Z",
     "shell.execute_reply": "2024-08-29T15:34:38.490598Z"
    }
   },
   "outputs": [],
   "source": [
    "\n",
    "def FTW_f(s,ftw_f):\n",
    "    s2=np.zeros(len(s))\n",
    "    for t in range(0,nT):\n",
    "        s2[t]=0\n",
    "        for incT in range(0, len(ftw_f)):\n",
    "            if(t+incT>=(len(s))):\n",
    "                continue\n",
    "            s2[t]=max(s2[t],min(s[t+incT],ftw_f[incT]))\n",
    "    return s2\n",
    "def FTW_p(s,ftw_f):\n",
    "    s2=np.zeros(len(s))\n",
    "    for t in range(0,nT):\n",
    "        s2[t]=0\n",
    "        for incT in range(0, len(ftw_f)):\n",
    "            if(t-incT<0):\n",
    "                continue\n",
    "            s2[t]=max(s2[t],min(s[t-incT],ftw_f[incT]))\n",
    "    return s2\n",
    "\n",
    "def FTW_fp(s,ftw_f):\n",
    "    sp=FTW_p(s,ftw_f)\n",
    "    sf=FTW_f(s,ftw_f)\n",
    "    return nonZero(sp,sf)\n",
    "\n",
    "def FTW_fp2(s,ftw_f):\n",
    "    sp=FTW_p(s,ftw_f)\n",
    "    sf=FTW_f(s,ftw_f)\n",
    "    return nonZeroMax(sp,sf)\n",
    "\n",
    "def FTW_fw(s,ftw_f):\n",
    "    s2=np.zeros(len(s))\n",
    "    for t in range(0,nT):\n",
    "        s2[t]=0\n",
    "        wt=0\n",
    "        for incT in range(0, len(ftw_f)):\n",
    "            if(t+incT>=(len(s))):\n",
    "                continue\n",
    "            s2[t]=s2[t]+s[t+incT]*ftw_f[incT]\n",
    "            wt=wt+ftw_f[incT]\n",
    "        s2[t]=s2[t]/wt\n",
    "    return s2\n",
    "def FTW_pw(s,ftw_f):\n",
    "    s2=np.zeros(len(s))\n",
    "    for t in range(0,nT):\n",
    "        s2[t]=0\n",
    "        wt=0\n",
    "        for incT in range(0, len(ftw_f)):\n",
    "            if(t-incT<0):\n",
    "                continue\n",
    "            s2[t]=s2[t]+s[t-incT]*ftw_f[incT]\n",
    "            wt=wt+ftw_f[incT]\n",
    "        s2[t]=s2[t]/wt            \n",
    "    return s2\n",
    "\n",
    "def FTW_fpw(s,ftw_f):\n",
    "    sp=FTW_pw(s,ftw_f)\n",
    "    sf=FTW_fw(s,ftw_f)\n",
    "    return nonZero(sp,sf)\n",
    "    \n",
    "\n",
    "def nonZero(sp,sf):\n",
    "    s2=np.zeros(len(sp))\n",
    "    for t in range(0,nT):\n",
    "        if(sp[t]==0 and sf[t]==0):\n",
    "            s2[t]=0\n",
    "        else:\n",
    "            s2[t]=min(sp[t],sf[t])\n",
    "    return s2\n",
    "def nonZeroMax(sp,sf):\n",
    "    s2=np.zeros(len(sp))\n",
    "    for t in range(0,nT):\n",
    "        if(sp[t]==0 and sf[t]==0):\n",
    "            s2[t]=0\n",
    "        else:\n",
    "            s2[t]=max(sp[t],sf[t])\n",
    "    return s2\n"
   ]
  },
  {
   "cell_type": "code",
   "execution_count": null,
   "id": "74da76cf",
   "metadata": {},
   "outputs": [],
   "source": []
  },
  {
   "cell_type": "code",
   "execution_count": 6,
   "id": "b903a6a7",
   "metadata": {
    "execution": {
     "iopub.execute_input": "2024-08-29T15:34:38.492843Z",
     "iopub.status.busy": "2024-08-29T15:34:38.492589Z",
     "iopub.status.idle": "2024-08-29T15:34:38.509333Z",
     "shell.execute_reply": "2024-08-29T15:34:38.508684Z"
    }
   },
   "outputs": [],
   "source": [
    "from pyparsing import Word, alphas, alphanums, oneOf, infixNotation, opAssoc\n",
    "\n",
    "# Definir identificadores (operandos)\n",
    "operand = Word(alphas + alphanums + '_')\n",
    "\n",
    "# Definir operadores\n",
    "operator = oneOf(\"< > + * #\")\n",
    "\n",
    "# Definir la gramática de expresiones\n",
    "expr = infixNotation(operand,\n",
    "                     [\n",
    "                         (\"<\", 2, opAssoc.LEFT),\n",
    "                         (\">\", 2, opAssoc.LEFT),\n",
    "                         (\"+\", 2, opAssoc.LEFT),\n",
    "                         (\"*\", 2, opAssoc.LEFT),\n",
    "                         (\"#\", 2, opAssoc.LEFT),\n",
    "                     ])\n",
    "\n",
    "# Función para parsear y mostrar el resultado\n",
    "def parse_expression(expression):\n",
    "    try:\n",
    "        parsed = expr.parseString(expression, parseAll=True)\n",
    "        return parsed.asList()\n",
    "    except Exception as e:\n",
    "        print(f\"Error al parsear la expresión: {e}\")\n",
    "        return None\n",
    "\n",
    "    \n",
    "\n"
   ]
  },
  {
   "cell_type": "code",
   "execution_count": null,
   "id": "63f2ed21",
   "metadata": {},
   "outputs": [],
   "source": []
  },
  {
   "cell_type": "code",
   "execution_count": 7,
   "id": "10f7b0cc",
   "metadata": {
    "execution": {
     "iopub.execute_input": "2024-08-29T15:34:38.511011Z",
     "iopub.status.busy": "2024-08-29T15:34:38.510862Z",
     "iopub.status.idle": "2024-08-29T15:38:41.386905Z",
     "shell.execute_reply": "2024-08-29T15:38:41.386298Z"
    }
   },
   "outputs": [
    {
     "name": "stdout",
     "output_type": "stream",
     "text": [
      "['cooking', 'shower', 'toileting', 'pc', 'sleep', 'kitchen', 'resting', 'exit']\n",
      "\tcooking\n",
      "['micro_5', 'pans_8', 'dishes_9', 'fridge_13', 'tap_22']\n",
      "\t\tmicro_5\n",
      "Raw stream_obj: (1440,)\n",
      "\t\tpans_8\n",
      "Raw stream_obj: (1440,)\n",
      "\t\tdishes_9\n",
      "Raw stream_obj: (1440,)\n",
      "\t\tfridge_13\n",
      "Raw stream_obj: (1440,)\n",
      "\t\ttap_22\n",
      "Raw stream_obj: (1440,)\n",
      "condition: (micro_5 + pans_8) + dishes_9\n",
      "parsed_expression: [[['micro_5', '+', 'pans_8'], '+', 'dishes_9']]\n",
      "Evaluating  cooking [['micro_5', '+', 'pans_8'], '+', 'dishes_9']\n",
      "Evaluating  cooking ['micro_5', '+', 'pans_8']\n",
      "Evaluating  cooking micro_5\n",
      "Evaluating  cooking pans_8\n",
      "\t micro_5  op: + pans_8\n",
      "Evaluating  cooking dishes_9\n",
      "\t (micro_5 + pans_8)  op: + dishes_9\n",
      "evaluated_expression (micro_5 + pans_8) + dishes_9 ((micro_5 + pans_8) + dishes_9)\n",
      "condition: fridge_13+tap_22\n",
      "parsed_expression: [['fridge_13', '+', 'tap_22']]\n",
      "Evaluating  cooking ['fridge_13', '+', 'tap_22']\n",
      "Evaluating  cooking fridge_13\n",
      "Evaluating  cooking tap_22\n",
      "\t fridge_13  op: + tap_22\n",
      "evaluated_expression fridge_13+tap_22 (fridge_13 + tap_22)\n",
      "condition: sensor_kitchen2+sensor_kitchen\n",
      "parsed_expression: [['sensor_kitchen2', '+', 'sensor_kitchen']]\n",
      "Evaluating  cooking ['sensor_kitchen2', '+', 'sensor_kitchen']\n",
      "Evaluating  cooking sensor_kitchen2\n",
      "Evaluating  cooking sensor_kitchen\n",
      "\t sensor_kitchen2  op: + sensor_kitchen\n",
      "evaluated_expression sensor_kitchen2+sensor_kitchen (sensor_kitchen2 + sensor_kitchen)\n",
      "condition: (sensor_kitchen3 > tA)  # (sensor_kitchen3 < tA)\n",
      "parsed_expression: [[['sensor_kitchen3', '>', 'tA'], '#', ['sensor_kitchen3', '<', 'tA']]]\n",
      "Evaluating  cooking [['sensor_kitchen3', '>', 'tA'], '#', ['sensor_kitchen3', '<', 'tA']]\n",
      "Evaluating  cooking ['sensor_kitchen3', '>', 'tA']\n",
      "Evaluating  cooking sensor_kitchen3\n",
      "Evaluating  cooking tA\n",
      "\t sensor_kitchen3  op: > tA\n",
      "Evaluating  cooking ['sensor_kitchen3', '<', 'tA']\n",
      "Evaluating  cooking sensor_kitchen3\n",
      "Evaluating  cooking tA\n",
      "\t sensor_kitchen3  op: < tA\n",
      "\t (sensor_kitchen3 > tA)  op: # (sensor_kitchen3 < tA)\n",
      "evaluated_expression (sensor_kitchen3 > tA)  # (sensor_kitchen3 < tA) ((sensor_kitchen3 > tA) # (sensor_kitchen3 < tA))\n",
      "condition: (sensor_kitchen_tA > tA)  # (sensor_kitchen_tA < tA)\n"
     ]
    },
    {
     "name": "stdout",
     "output_type": "stream",
     "text": [
      "parsed_expression: [[['sensor_kitchen_tA', '>', 'tA'], '#', ['sensor_kitchen_tA', '<', 'tA']]]\n",
      "Evaluating  cooking [['sensor_kitchen_tA', '>', 'tA'], '#', ['sensor_kitchen_tA', '<', 'tA']]\n",
      "Evaluating  cooking ['sensor_kitchen_tA', '>', 'tA']\n",
      "Evaluating  cooking sensor_kitchen_tA\n",
      "Evaluating  cooking tA\n",
      "\t sensor_kitchen_tA  op: > tA\n",
      "Evaluating  cooking ['sensor_kitchen_tA', '<', 'tA']\n",
      "Evaluating  cooking sensor_kitchen_tA\n",
      "Evaluating  cooking tA\n",
      "\t sensor_kitchen_tA  op: < tA\n",
      "\t (sensor_kitchen_tA > tA)  op: # (sensor_kitchen_tA < tA)\n",
      "evaluated_expression (sensor_kitchen_tA > tA)  # (sensor_kitchen_tA < tA) ((sensor_kitchen_tA > tA) # (sensor_kitchen_tA < tA))\n",
      "0.0006944524820889131\n",
      "0.0013889049641778262\n",
      "0.0020833574462667394\n"
     ]
    },
    {
     "name": "stdout",
     "output_type": "stream",
     "text": [
      "0.0027778099283556523\n",
      "0.0034722624104445653\n",
      "0.004166714892533479\n",
      "0.004861167374622392\n",
      "0.005555619856711305\n",
      "0.006250072338800218\n",
      "0.006944524820889131\n",
      "0.007638977302978044\n"
     ]
    },
    {
     "name": "stdout",
     "output_type": "stream",
     "text": [
      "0.008333429785066957\n",
      "0.00902788226715587\n",
      "0.009722334749244783\n"
     ]
    },
    {
     "name": "stdout",
     "output_type": "stream",
     "text": [
      "0.010416787231333696\n",
      "0.01111123971342261\n",
      "0.011805692195511521\n",
      "0.012500144677600435\n",
      "0.013194597159689347\n",
      "0.013889049641778261\n",
      "0.014583502123867175\n",
      "0.015277954605956087\n"
     ]
    },
    {
     "name": "stdout",
     "output_type": "stream",
     "text": [
      "0.015972407088045\n",
      "0.016666859570133915\n",
      "0.017361312052222827\n"
     ]
    },
    {
     "name": "stdout",
     "output_type": "stream",
     "text": [
      "0.01805576453431174\n",
      "0.01875021701640065\n",
      "0.019444669498489567\n",
      "0.02013912198057848\n",
      "0.02083357446266739\n",
      "0.021528026944756307\n",
      "0.02222247942684522\n"
     ]
    },
    {
     "name": "stdout",
     "output_type": "stream",
     "text": [
      "0.02291693190893413\n",
      "0.023611384391023043\n",
      "0.02430583687311196\n",
      "0.02500028935520087\n"
     ]
    },
    {
     "name": "stdout",
     "output_type": "stream",
     "text": [
      "0.025694741837289783\n",
      "0.026389194319378695\n",
      "0.02708364680146761\n",
      "0.027778099283556523\n",
      "0.028472551765645435\n",
      "0.02916700424773435\n",
      "0.029861456729823262\n"
     ]
    },
    {
     "name": "stdout",
     "output_type": "stream",
     "text": [
      "0.030555909211912174\n",
      "0.03125036169400109\n",
      "0.03194481417609\n",
      "0.032639266658178914\n"
     ]
    },
    {
     "name": "stdout",
     "output_type": "stream",
     "text": [
      "0.03333371914026783\n",
      "0.03402817162235674\n",
      "0.034722624104445654\n",
      "0.03541707658653457\n",
      "0.03611152906862348\n",
      "0.036805981550712394\n",
      "0.0375004340328013\n",
      "0.03819488651489022\n"
     ]
    },
    {
     "name": "stdout",
     "output_type": "stream",
     "text": [
      "0.038889338996979134\n",
      "0.03958379147906804\n",
      "0.04027824396115696\n",
      "0.04097269644324587\n"
     ]
    },
    {
     "name": "stdout",
     "output_type": "stream",
     "text": [
      "0.04166714892533478\n",
      "0.0423616014074237\n",
      "0.04305605388951261\n",
      "0.04375050637160152\n",
      "0.04444495885369044\n",
      "0.045139411335779346\n",
      "0.04583386381786826\n",
      "0.04652831629995718\n"
     ]
    },
    {
     "name": "stdout",
     "output_type": "stream",
     "text": [
      "0.047222768782046086\n",
      "0.047917221264135\n",
      "0.04861167374622392\n",
      "0.049306126228312826\n"
     ]
    },
    {
     "name": "stdout",
     "output_type": "stream",
     "text": [
      "0.05000057871040174\n",
      "0.05069503119249066\n",
      "0.051389483674579566\n",
      "0.05208393615666848\n",
      "0.05277838863875739\n",
      "0.053472841120846305\n",
      "0.05416729360293522\n"
     ]
    },
    {
     "name": "stdout",
     "output_type": "stream",
     "text": [
      "0.05486174608502413\n",
      "0.055556198567113045\n",
      "0.05625065104920196\n",
      "0.05694510353129087\n",
      "0.057639556013379785\n"
     ]
    },
    {
     "name": "stdout",
     "output_type": "stream",
     "text": [
      "0.0583340084954687\n",
      "0.05902846097755761\n",
      "0.059722913459646525\n",
      "0.06041736594173543\n",
      "0.06111181842382435\n"
     ]
    },
    {
     "name": "stdout",
     "output_type": "stream",
     "text": [
      "0.061806270905913265\n",
      "0.06250072338800218\n",
      "0.06319517587009109\n",
      "0.06388962835218\n"
     ]
    },
    {
     "name": "stdout",
     "output_type": "stream",
     "text": [
      "0.06458408083426892\n",
      "0.06527853331635783\n",
      "0.06597298579844674\n",
      "0.06666743828053566\n",
      "0.06736189076262457\n",
      "0.06805634324471348\n",
      "0.0687507957268024\n"
     ]
    },
    {
     "name": "stdout",
     "output_type": "stream",
     "text": [
      "0.06944524820889131\n",
      "0.07013970069098022\n",
      "0.07083415317306914\n",
      "0.07152860565515805\n",
      "0.07222305813724696\n"
     ]
    },
    {
     "name": "stdout",
     "output_type": "stream",
     "text": [
      "0.07291751061933587\n",
      "0.07361196310142479\n",
      "0.0743064155835137\n",
      "0.0750008680656026\n",
      "0.07569532054769153\n",
      "0.07638977302978044\n"
     ]
    },
    {
     "name": "stdout",
     "output_type": "stream",
     "text": [
      "0.07708422551186934\n",
      "0.07777867799395827\n",
      "0.07847313047604718\n",
      "0.07916758295813608\n"
     ]
    },
    {
     "name": "stdout",
     "output_type": "stream",
     "text": [
      "0.07986203544022501\n",
      "0.08055648792231392\n",
      "0.08125094040440282\n",
      "0.08194539288649175\n",
      "0.08263984536858066\n",
      "0.08333429785066956\n",
      "0.08402875033275849\n"
     ]
    },
    {
     "name": "stdout",
     "output_type": "stream",
     "text": [
      "0.0847232028148474\n",
      "0.0854176552969363\n",
      "0.08611210777902523\n",
      "0.08680656026111414\n"
     ]
    },
    {
     "name": "stdout",
     "output_type": "stream",
     "text": [
      "0.08750101274320304\n",
      "0.08819546522529197\n",
      "0.08888991770738087\n",
      "0.08958437018946978\n",
      "0.09027882267155869\n",
      "0.09097327515364761\n",
      "0.09166772763573652\n"
     ]
    },
    {
     "name": "stdout",
     "output_type": "stream",
     "text": [
      "0.09236218011782543\n",
      "0.09305663259991435\n",
      "0.09375108508200326\n",
      "0.09444553756409217\n"
     ]
    },
    {
     "name": "stdout",
     "output_type": "stream",
     "text": [
      "0.0951399900461811\n",
      "0.09583444252827\n",
      "0.09652889501035891\n",
      "0.09722334749244783\n",
      "0.09791779997453674\n",
      "0.09861225245662565\n"
     ]
    },
    {
     "name": "stdout",
     "output_type": "stream",
     "text": [
      "0.09930670493871457\n"
     ]
    },
    {
     "name": "stdout",
     "output_type": "stream",
     "text": [
      "0.10000115742080348\n",
      "0.10069560990289239\n",
      "0.10139006238498131\n",
      "0.10208451486707022\n",
      "0.10277896734915913\n",
      "0.10347341983124805\n",
      "0.10416787231333696\n",
      "0.10486232479542587\n"
     ]
    },
    {
     "name": "stdout",
     "output_type": "stream",
     "text": [
      "0.10555677727751478\n",
      "0.1062512297596037\n",
      "0.10694568224169261\n"
     ]
    },
    {
     "name": "stdout",
     "output_type": "stream",
     "text": [
      "0.10764013472378152\n",
      "0.10833458720587044\n",
      "0.10902903968795935\n",
      "0.10972349217004826\n",
      "0.11041794465213718\n",
      "0.11111239713422609\n",
      "0.111806849616315\n",
      "0.11250130209840392\n",
      "0.11319575458049283\n"
     ]
    },
    {
     "name": "stdout",
     "output_type": "stream",
     "text": [
      "0.11389020706258174\n",
      "0.11458465954467066\n",
      "0.11527911202675957\n"
     ]
    },
    {
     "name": "stdout",
     "output_type": "stream",
     "text": [
      "0.11597356450884848\n",
      "0.1166680169909374\n",
      "0.11736246947302631\n",
      "0.11805692195511522\n",
      "0.11875137443720414\n",
      "0.11944582691929305\n",
      "0.12014027940138196\n",
      "0.12083473188347087\n"
     ]
    },
    {
     "name": "stdout",
     "output_type": "stream",
     "text": [
      "0.12152918436555979\n",
      "0.1222236368476487\n",
      "0.1229180893297376\n"
     ]
    },
    {
     "name": "stdout",
     "output_type": "stream",
     "text": [
      "0.12361254181182653\n",
      "0.12430699429391544\n",
      "0.12500144677600436\n",
      "0.12569589925809327\n",
      "0.12639035174018218\n",
      "0.12708480422227109\n",
      "0.12777925670436\n",
      "0.1284737091864489\n"
     ]
    },
    {
     "name": "stdout",
     "output_type": "stream",
     "text": [
      "0.12916816166853784\n",
      "0.12986261415062675\n"
     ]
    },
    {
     "name": "stdout",
     "output_type": "stream",
     "text": [
      "0.13055706663271566\n",
      "0.13125151911480457\n",
      "0.13194597159689347\n",
      "0.13264042407898238\n",
      "0.13333487656107132\n",
      "0.13402932904316023\n",
      "0.13472378152524914\n",
      "0.13541823400733805\n",
      "0.13611268648942695\n"
     ]
    },
    {
     "name": "stdout",
     "output_type": "stream",
     "text": [
      "0.13680713897151586\n",
      "0.1375015914536048\n"
     ]
    },
    {
     "name": "stdout",
     "output_type": "stream",
     "text": [
      "0.1381960439356937\n",
      "0.13889049641778262\n",
      "0.13958494889987152\n",
      "0.14027940138196043\n",
      "0.14097385386404934\n",
      "0.14166830634613828\n",
      "0.1423627588282272\n",
      "0.1430572113103161\n",
      "0.143751663792405\n"
     ]
    },
    {
     "name": "stdout",
     "output_type": "stream",
     "text": [
      "0.1444461162744939\n",
      "0.14514056875658282\n",
      "0.14583502123867173\n"
     ]
    },
    {
     "name": "stdout",
     "output_type": "stream",
     "text": [
      "0.14652947372076067\n",
      "0.14722392620284958\n",
      "0.14791837868493848\n",
      "0.1486128311670274\n",
      "0.1493072836491163\n",
      "0.1500017361312052\n",
      "0.15069618861329415\n",
      "0.15139064109538306\n",
      "0.15208509357747196\n"
     ]
    },
    {
     "name": "stdout",
     "output_type": "stream",
     "text": [
      "0.15277954605956087\n",
      "0.15347399854164978\n",
      "0.1541684510237387\n"
     ]
    },
    {
     "name": "stdout",
     "output_type": "stream",
     "text": [
      "0.15486290350582763\n",
      "0.15555735598791653\n",
      "0.15625180847000544\n",
      "0.15694626095209435\n",
      "0.15764071343418326\n",
      "0.15833516591627217\n",
      "0.1590296183983611\n",
      "0.15972407088045001\n",
      "0.16041852336253892\n"
     ]
    },
    {
     "name": "stdout",
     "output_type": "stream",
     "text": [
      "0.16111297584462783\n",
      "0.16180742832671674\n"
     ]
    },
    {
     "name": "stdout",
     "output_type": "stream",
     "text": [
      "0.16250188080880565\n",
      "0.16319633329089456\n",
      "0.1638907857729835\n",
      "0.1645852382550724\n",
      "0.1652796907371613\n",
      "0.16597414321925022\n",
      "0.16666859570133913\n",
      "0.16736304818342804\n"
     ]
    },
    {
     "name": "stdout",
     "output_type": "stream",
     "text": [
      "0.16805750066551697\n",
      "0.16875195314760588\n"
     ]
    },
    {
     "name": "stdout",
     "output_type": "stream",
     "text": [
      "0.1694464056296948\n",
      "0.1701408581117837\n",
      "0.1708353105938726\n",
      "0.17152976307596152\n",
      "0.17222421555805045\n",
      "0.17291866804013936\n",
      "0.17361312052222827\n",
      "0.17430757300431718\n",
      "0.1750020254864061\n",
      "0.175696477968495\n"
     ]
    },
    {
     "name": "stdout",
     "output_type": "stream",
     "text": [
      "0.17639093045058393\n"
     ]
    },
    {
     "name": "stdout",
     "output_type": "stream",
     "text": [
      "0.17708538293267284\n",
      "0.17777983541476175\n",
      "0.17847428789685066\n",
      "0.17916874037893957\n",
      "0.17986319286102848\n",
      "0.18055764534311738\n",
      "0.18125209782520632\n"
     ]
    },
    {
     "name": "stdout",
     "output_type": "stream",
     "text": [
      "0.18194655030729523\n",
      "0.18264100278938414\n",
      "0.18333545527147305\n"
     ]
    },
    {
     "name": "stdout",
     "output_type": "stream",
     "text": [
      "0.18402990775356196\n",
      "0.18472436023565086\n",
      "0.1854188127177398\n",
      "0.1861132651998287\n",
      "0.18680771768191762\n",
      "0.18750217016400653\n",
      "0.18819662264609544\n"
     ]
    },
    {
     "name": "stdout",
     "output_type": "stream",
     "text": [
      "0.18889107512818434\n",
      "0.18958552761027328\n",
      "0.1902799800923622\n",
      "0.1909744325744511\n"
     ]
    },
    {
     "name": "stdout",
     "output_type": "stream",
     "text": [
      "0.19166888505654\n",
      "0.19236333753862891\n",
      "0.19305779002071782\n",
      "0.19375224250280673\n",
      "0.19444669498489567\n",
      "0.19514114746698458\n",
      "0.19583559994907349\n"
     ]
    },
    {
     "name": "stdout",
     "output_type": "stream",
     "text": [
      "0.1965300524311624\n",
      "0.1972245049132513\n",
      "0.1979189573953402\n"
     ]
    },
    {
     "name": "stdout",
     "output_type": "stream",
     "text": [
      "0.19861340987742915\n",
      "0.19930786235951806\n",
      "0.20000231484160697\n",
      "0.20069676732369587\n",
      "0.20139121980578478\n",
      "0.2020856722878737\n"
     ]
    },
    {
     "name": "stdout",
     "output_type": "stream",
     "text": [
      "0.20278012476996263\n",
      "0.20347457725205154\n",
      "0.20416902973414044\n"
     ]
    },
    {
     "name": "stdout",
     "output_type": "stream",
     "text": [
      "0.20486348221622935\n",
      "0.20555793469831826\n",
      "0.20625238718040717\n",
      "0.2069468396624961\n",
      "0.20764129214458502\n",
      "0.20833574462667392\n",
      "0.20903019710876283\n",
      "0.20972464959085174\n"
     ]
    },
    {
     "name": "stdout",
     "output_type": "stream",
     "text": [
      "0.21041910207294065\n",
      "0.21111355455502956\n",
      "0.2118080070371185\n"
     ]
    },
    {
     "name": "stdout",
     "output_type": "stream",
     "text": [
      "0.2125024595192074\n",
      "0.2131969120012963\n",
      "0.21389136448338522\n",
      "0.21458581696547413\n",
      "0.21528026944756304\n",
      "0.21597472192965197\n",
      "0.21666917441174088\n",
      "0.2173636268938298\n",
      "0.2180580793759187\n"
     ]
    },
    {
     "name": "stdout",
     "output_type": "stream",
     "text": [
      "0.2187525318580076\n",
      "0.21944698434009652\n",
      "0.22014143682218545\n"
     ]
    },
    {
     "name": "stdout",
     "output_type": "stream",
     "text": [
      "0.22083588930427436\n",
      "0.22153034178636327\n",
      "0.22222479426845218\n",
      "0.2229192467505411\n",
      "0.22361369923263\n",
      "0.22430815171471893\n",
      "0.22500260419680784\n",
      "0.22569705667889675\n",
      "0.22639150916098566\n"
     ]
    },
    {
     "name": "stdout",
     "output_type": "stream",
     "text": [
      "0.22708596164307457\n",
      "0.22778041412516348\n"
     ]
    },
    {
     "name": "stdout",
     "output_type": "stream",
     "text": [
      "0.22847486660725239\n",
      "0.22916931908934132\n",
      "0.22986377157143023\n",
      "0.23055822405351914\n",
      "0.23125267653560805\n",
      "0.23194712901769696\n",
      "0.23264158149978587\n"
     ]
    },
    {
     "name": "stdout",
     "output_type": "stream",
     "text": [
      "0.2333360339818748\n",
      "0.2340304864639637\n"
     ]
    },
    {
     "name": "stdout",
     "output_type": "stream",
     "text": [
      "0.23472493894605262\n",
      "0.23541939142814153\n",
      "0.23611384391023044\n",
      "0.23680829639231935\n",
      "0.23750274887440828\n",
      "0.2381972013564972\n",
      "0.2388916538385861\n",
      "0.239586106320675\n",
      "0.24028055880276392\n"
     ]
    },
    {
     "name": "stdout",
     "output_type": "stream",
     "text": [
      "0.24097501128485282\n",
      "0.24166946376694173\n",
      "0.24236391624903067\n"
     ]
    },
    {
     "name": "stdout",
     "output_type": "stream",
     "text": [
      "0.24305836873111958\n",
      "0.2437528212132085\n",
      "0.2444472736952974\n",
      "0.2451417261773863\n",
      "0.2458361786594752\n",
      "0.24653063114156415\n",
      "0.24722508362365306\n",
      "0.24791953610574197\n"
     ]
    },
    {
     "name": "stdout",
     "output_type": "stream",
     "text": [
      "0.24861398858783088\n",
      "0.24930844106991978\n",
      "0.2500028935520087\n"
     ]
    },
    {
     "name": "stdout",
     "output_type": "stream",
     "text": [
      "0.2506973460340976\n",
      "0.25139179851618654\n",
      "0.2520862509982754\n",
      "0.25278070348036435\n",
      "0.2534751559624533\n",
      "0.25416960844454217\n",
      "0.2548640609266311\n",
      "0.25555851340872\n"
     ]
    },
    {
     "name": "stdout",
     "output_type": "stream",
     "text": [
      "0.2562529658908089\n",
      "0.2569474183728978\n",
      "0.25764187085498674\n"
     ]
    },
    {
     "name": "stdout",
     "output_type": "stream",
     "text": [
      "0.2583363233370757\n",
      "0.25903077581916456\n",
      "0.2597252283012535\n",
      "0.2604196807833424\n",
      "0.2611141332654313\n",
      "0.26180858574752025\n",
      "0.26250303822960913\n"
     ]
    },
    {
     "name": "stdout",
     "output_type": "stream",
     "text": [
      "0.26319749071169807\n",
      "0.26389194319378695\n",
      "0.2645863956758759\n",
      "0.26528084815796477\n"
     ]
    },
    {
     "name": "stdout",
     "output_type": "stream",
     "text": [
      "0.2659753006400537\n",
      "0.26666975312214264\n",
      "0.2673642056042315\n",
      "0.26805865808632046\n",
      "0.26875311056840934\n",
      "0.2694475630504983\n"
     ]
    },
    {
     "name": "stdout",
     "output_type": "stream",
     "text": [
      "0.2701420155325872\n",
      "0.2708364680146761\n",
      "0.271530920496765\n",
      "0.2722253729788539\n"
     ]
    },
    {
     "name": "stdout",
     "output_type": "stream",
     "text": [
      "0.27291982546094284\n",
      "0.2736142779430317\n",
      "0.27430873042512066\n",
      "0.2750031829072096\n",
      "0.2756976353892985\n",
      "0.2763920878713874\n",
      "0.2770865403534763\n"
     ]
    },
    {
     "name": "stdout",
     "output_type": "stream",
     "text": [
      "0.27778099283556523\n",
      "0.2784754453176541\n",
      "0.27916989779974305\n",
      "0.279864350281832\n"
     ]
    },
    {
     "name": "stdout",
     "output_type": "stream",
     "text": [
      "0.28055880276392087\n",
      "0.2812532552460098\n",
      "0.2819477077280987\n",
      "0.2826421602101876\n",
      "0.28333661269227656\n",
      "0.28403106517436544\n",
      "0.2847255176564544\n"
     ]
    },
    {
     "name": "stdout",
     "output_type": "stream",
     "text": [
      "0.28541997013854326\n",
      "0.2861144226206322\n",
      "0.2868088751027211\n",
      "0.28750332758481\n"
     ]
    },
    {
     "name": "stdout",
     "output_type": "stream",
     "text": [
      "0.28819778006689895\n",
      "0.2888922325489878\n",
      "0.28958668503107676\n",
      "0.29028113751316564\n",
      "0.2909755899952546\n",
      "0.29167004247734346\n",
      "0.2923644949594324\n"
     ]
    },
    {
     "name": "stdout",
     "output_type": "stream",
     "text": [
      "0.29305894744152133\n",
      "0.2937533999236102\n",
      "0.29444785240569915\n",
      "0.29514230488778803\n"
     ]
    },
    {
     "name": "stdout",
     "output_type": "stream",
     "text": [
      "0.29583675736987697\n",
      "0.2965312098519659\n",
      "0.2972256623340548\n",
      "0.2979201148161437\n",
      "0.2986145672982326\n",
      "0.29930901978032154\n",
      "0.3000034722624104\n",
      "0.30069792474449936\n"
     ]
    },
    {
     "name": "stdout",
     "output_type": "stream",
     "text": [
      "0.3013923772265883\n",
      "0.3020868297086772\n",
      "0.3027812821907661\n"
     ]
    },
    {
     "name": "stdout",
     "output_type": "stream",
     "text": [
      "0.303475734672855\n",
      "0.3041701871549439\n",
      "0.30486463963703286\n",
      "0.30555909211912174\n",
      "0.3062535446012107\n",
      "0.30694799708329956\n",
      "0.3076424495653885\n",
      "0.3083369020474774\n"
     ]
    },
    {
     "name": "stdout",
     "output_type": "stream",
     "text": [
      "0.3090313545295663\n",
      "0.30972580701165525\n",
      "0.31042025949374413\n"
     ]
    },
    {
     "name": "stdout",
     "output_type": "stream",
     "text": [
      "0.31111471197583307\n",
      "0.31180916445792195\n",
      "0.3125036169400109\n",
      "0.31319806942209977\n",
      "0.3138925219041887\n",
      "0.31458697438627764\n",
      "0.3152814268683665\n",
      "0.31597587935045546\n"
     ]
    },
    {
     "name": "stdout",
     "output_type": "stream",
     "text": [
      "0.31667033183254434\n",
      "0.3173647843146333\n",
      "0.3180592367967222\n",
      "0.3187536892788111\n"
     ]
    },
    {
     "name": "stdout",
     "output_type": "stream",
     "text": [
      "0.31944814176090003\n",
      "0.3201425942429889\n",
      "0.32083704672507785\n",
      "0.3215314992071667\n",
      "0.32222595168925566\n",
      "0.3229204041713446\n",
      "0.3236148566534335\n",
      "0.3243093091355224\n"
     ]
    },
    {
     "name": "stdout",
     "output_type": "stream",
     "text": [
      "0.3250037616176113\n",
      "0.32569821409970023\n",
      "0.3263926665817891\n"
     ]
    },
    {
     "name": "stdout",
     "output_type": "stream",
     "text": [
      "0.32708711906387805\n",
      "0.327781571545967\n",
      "0.32847602402805587\n",
      "0.3291704765101448\n",
      "0.3298649289922337\n",
      "0.3305593814743226\n",
      "0.33125383395641156\n",
      "0.33194828643850044\n"
     ]
    },
    {
     "name": "stdout",
     "output_type": "stream",
     "text": [
      "0.3326427389205894\n",
      "0.33333719140267826\n",
      "0.3340316438847672\n"
     ]
    },
    {
     "name": "stdout",
     "output_type": "stream",
     "text": [
      "0.3347260963668561\n",
      "0.335420548848945\n",
      "0.33611500133103395\n",
      "0.3368094538131228\n",
      "0.33750390629521176\n",
      "0.33819835877730064\n",
      "0.3388928112593896\n",
      "0.33958726374147846\n"
     ]
    },
    {
     "name": "stdout",
     "output_type": "stream",
     "text": [
      "0.3402817162235674\n",
      "0.34097616870565634\n"
     ]
    },
    {
     "name": "stdout",
     "output_type": "stream",
     "text": [
      "0.3416706211877452\n",
      "0.34236507366983415\n",
      "0.34305952615192303\n",
      "0.34375397863401197\n",
      "0.3444484311161009\n",
      "0.3451428835981898\n",
      "0.3458373360802787\n",
      "0.3465317885623676\n",
      "0.34722624104445654\n"
     ]
    },
    {
     "name": "stdout",
     "output_type": "stream",
     "text": [
      "0.3479206935265454\n",
      "0.34861514600863436\n"
     ]
    },
    {
     "name": "stdout",
     "output_type": "stream",
     "text": [
      "0.3493095984907233\n",
      "0.3500040509728122\n",
      "0.3506985034549011\n",
      "0.35139295593699\n",
      "0.35208740841907893\n",
      "0.35278186090116787\n",
      "0.35347631338325675\n",
      "0.3541707658653457\n",
      "0.35486521834743456\n",
      "0.3555596708295235\n"
     ]
    },
    {
     "name": "stdout",
     "output_type": "stream",
     "text": [
      "0.3562541233116124\n"
     ]
    },
    {
     "name": "stdout",
     "output_type": "stream",
     "text": [
      "0.3569485757937013\n",
      "0.35764302827579025\n",
      "0.35833748075787913\n",
      "0.35903193323996807\n",
      "0.35972638572205695\n",
      "0.3604208382041459\n",
      "0.36111529068623477\n",
      "0.3618097431683237\n",
      "0.36250419565041264\n",
      "0.3631986481325015\n"
     ]
    },
    {
     "name": "stdout",
     "output_type": "stream",
     "text": [
      "0.36389310061459046\n",
      "0.36458755309667934\n"
     ]
    },
    {
     "name": "stdout",
     "output_type": "stream",
     "text": [
      "0.3652820055787683\n",
      "0.3659764580608572\n",
      "0.3666709105429461\n",
      "0.36736536302503503\n",
      "0.3680598155071239\n",
      "0.36875426798921285\n",
      "0.36944872047130173\n",
      "0.37014317295339066\n",
      "0.3708376254354796\n"
     ]
    },
    {
     "name": "stdout",
     "output_type": "stream",
     "text": [
      "0.3715320779175685\n",
      "0.3722265303996574\n"
     ]
    },
    {
     "name": "stdout",
     "output_type": "stream",
     "text": [
      "0.3729209828817463\n",
      "0.37361543536383524\n",
      "0.3743098878459241\n",
      "0.37500434032801305\n",
      "0.375698792810102\n",
      "0.37639324529219087\n",
      "0.3770876977742798\n",
      "0.3777821502563687\n",
      "0.3784766027384576\n"
     ]
    },
    {
     "name": "stdout",
     "output_type": "stream",
     "text": [
      "0.37917105522054656\n",
      "0.37986550770263544\n"
     ]
    },
    {
     "name": "stdout",
     "output_type": "stream",
     "text": [
      "0.3805599601847244\n",
      "0.38125441266681326\n",
      "0.3819488651489022\n",
      "0.3826433176309911\n",
      "0.38333777011308\n",
      "0.38403222259516895\n",
      "0.38472667507725783\n",
      "0.38542112755934677\n",
      "0.38611558004143565\n",
      "0.3868100325235246\n"
     ]
    },
    {
     "name": "stdout",
     "output_type": "stream",
     "text": [
      "0.38750448500561346\n",
      "0.3881989374877024\n"
     ]
    },
    {
     "name": "stdout",
     "output_type": "stream",
     "text": [
      "0.38889338996979134\n",
      "0.3895878424518802\n",
      "0.39028229493396915\n",
      "0.39097674741605803\n",
      "0.39167119989814697\n",
      "0.3923656523802359\n",
      "0.3930601048623248\n",
      "0.3937545573444137\n",
      "0.3944490098265026\n",
      "0.39514346230859154\n"
     ]
    },
    {
     "name": "stdout",
     "output_type": "stream",
     "text": [
      "0.3958379147906804\n",
      "0.39653236727276936\n"
     ]
    },
    {
     "name": "stdout",
     "output_type": "stream",
     "text": [
      "0.3972268197548583\n",
      "0.3979212722369472\n",
      "0.3986157247190361\n",
      "0.399310177201125\n",
      "0.40000462968321393\n",
      "0.40069908216530287\n",
      "0.40139353464739175\n",
      "0.4020879871294807\n",
      "0.40278243961156956\n",
      "0.4034768920936585\n"
     ]
    },
    {
     "name": "stdout",
     "output_type": "stream",
     "text": [
      "0.4041713445757474\n",
      "0.4048657970578363\n"
     ]
    },
    {
     "name": "stdout",
     "output_type": "stream",
     "text": [
      "0.40556024953992525\n",
      "0.40625470202201414\n",
      "0.40694915450410307\n",
      "0.40764360698619195\n",
      "0.4083380594682809\n",
      "0.40903251195036977\n",
      "0.4097269644324587\n",
      "0.41042141691454764\n",
      "0.4111158693966365\n"
     ]
    },
    {
     "name": "stdout",
     "output_type": "stream",
     "text": [
      "0.41181032187872546\n",
      "0.41250477436081434\n"
     ]
    },
    {
     "name": "stdout",
     "output_type": "stream",
     "text": [
      "0.4131992268429033\n",
      "0.4138936793249922\n",
      "0.4145881318070811\n",
      "0.41528258428917003\n",
      "0.4159770367712589\n",
      "0.41667148925334785\n",
      "0.41736594173543673\n",
      "0.41806039421752567\n"
     ]
    },
    {
     "name": "stdout",
     "output_type": "stream",
     "text": [
      "0.4187548466996146\n",
      "0.4194492991817035\n"
     ]
    },
    {
     "name": "stdout",
     "output_type": "stream",
     "text": [
      "0.4201437516637924\n",
      "0.4208382041458813\n",
      "0.42153265662797024\n",
      "0.4222271091100591\n",
      "0.42292156159214805\n",
      "0.423616014074237\n",
      "0.42431046655632587\n",
      "0.4250049190384148\n",
      "0.4256993715205037\n",
      "0.4263938240025926\n"
     ]
    },
    {
     "name": "stdout",
     "output_type": "stream",
     "text": [
      "0.42708827648468156\n",
      "0.42778272896677044\n"
     ]
    },
    {
     "name": "stdout",
     "output_type": "stream",
     "text": [
      "0.4284771814488594\n",
      "0.42917163393094826\n",
      "0.4298660864130372\n",
      "0.4305605388951261\n",
      "0.431254991377215\n",
      "0.43194944385930395\n",
      "0.43264389634139283\n",
      "0.43333834882348177\n",
      "0.43403280130557065\n",
      "0.4347272537876596\n"
     ]
    },
    {
     "name": "stdout",
     "output_type": "stream",
     "text": [
      "0.43542170626974847\n",
      "0.4361161587518374\n"
     ]
    },
    {
     "name": "stdout",
     "output_type": "stream",
     "text": [
      "0.43681061123392634\n",
      "0.4375050637160152\n",
      "0.43819951619810416\n",
      "0.43889396868019304\n",
      "0.439588421162282\n",
      "0.4402828736443709\n",
      "0.4409773261264598\n",
      "0.4416717786085487\n"
     ]
    },
    {
     "name": "stdout",
     "output_type": "stream",
     "text": [
      "0.4423662310906376\n",
      "0.44306068357272654\n"
     ]
    },
    {
     "name": "stdout",
     "output_type": "stream",
     "text": [
      "0.4437551360548154\n",
      "0.44444958853690436\n",
      "0.4451440410189933\n",
      "0.4458384935010822\n",
      "0.4465329459831711\n",
      "0.44722739846526\n",
      "0.44792185094734893\n",
      "0.44861630342943787\n"
     ]
    },
    {
     "name": "stdout",
     "output_type": "stream",
     "text": [
      "0.44931075591152675\n",
      "0.4500052083936157\n"
     ]
    },
    {
     "name": "stdout",
     "output_type": "stream",
     "text": [
      "0.45069966087570457\n",
      "0.4513941133577935\n",
      "0.4520885658398824\n",
      "0.4527830183219713\n",
      "0.45347747080406026\n",
      "0.45417192328614914\n",
      "0.4548663757682381\n",
      "0.45556082825032695\n"
     ]
    },
    {
     "name": "stdout",
     "output_type": "stream",
     "text": [
      "0.4562552807324159\n",
      "0.45694973321450477\n",
      "0.4576441856965937\n"
     ]
    },
    {
     "name": "stdout",
     "output_type": "stream",
     "text": [
      "0.45833863817868264\n",
      "0.4590330906607715\n",
      "0.45972754314286046\n",
      "0.46042199562494934\n",
      "0.4611164481070383\n",
      "0.4618109005891272\n",
      "0.4625053530712161\n",
      "0.46319980555330503\n",
      "0.4638942580353939\n"
     ]
    },
    {
     "name": "stdout",
     "output_type": "stream",
     "text": [
      "0.46458871051748285\n",
      "0.46528316299957173\n",
      "0.46597761548166067\n"
     ]
    },
    {
     "name": "stdout",
     "output_type": "stream",
     "text": [
      "0.4666720679637496\n",
      "0.4673665204458385\n",
      "0.4680609729279274\n",
      "0.4687554254100163\n",
      "0.46944987789210524\n",
      "0.4701443303741941\n",
      "0.47083878285628306\n",
      "0.471533235338372\n",
      "0.4722276878204609\n"
     ]
    },
    {
     "name": "stdout",
     "output_type": "stream",
     "text": [
      "0.4729221403025498\n",
      "0.4736165927846387\n",
      "0.4743110452667276\n"
     ]
    },
    {
     "name": "stdout",
     "output_type": "stream",
     "text": [
      "0.47500549774881656\n",
      "0.47569995023090544\n",
      "0.4763944027129944\n",
      "0.47708885519508326\n",
      "0.4777833076771722\n",
      "0.4784777601592611\n",
      "0.47917221264135\n",
      "0.47986666512343895\n"
     ]
    },
    {
     "name": "stdout",
     "output_type": "stream",
     "text": [
      "0.48056111760552783\n",
      "0.48125557008761677\n",
      "0.48195002256970565\n"
     ]
    },
    {
     "name": "stdout",
     "output_type": "stream",
     "text": [
      "0.4826444750517946\n",
      "0.48333892753388347\n",
      "0.4840333800159724\n",
      "0.48472783249806134\n",
      "0.4854222849801502\n",
      "0.48611673746223916\n",
      "0.48681118994432804\n"
     ]
    },
    {
     "name": "stdout",
     "output_type": "stream",
     "text": [
      "0.487505642426417\n",
      "0.4882000949085059\n",
      "0.4888945473905948\n",
      "0.48958899987268373\n"
     ]
    },
    {
     "name": "stdout",
     "output_type": "stream",
     "text": [
      "0.4902834523547726\n",
      "0.49097790483686155\n",
      "0.4916723573189504\n",
      "0.49236680980103936\n",
      "0.4930612622831283\n",
      "0.4937557147652172\n",
      "0.4944501672473061\n"
     ]
    },
    {
     "name": "stdout",
     "output_type": "stream",
     "text": [
      "0.495144619729395\n",
      "0.49583907221148393\n",
      "0.49653352469357287\n",
      "0.49722797717566175\n"
     ]
    },
    {
     "name": "stdout",
     "output_type": "stream",
     "text": [
      "0.4979224296577507\n",
      "0.49861688213983957\n",
      "0.4993113346219285\n",
      "0.5000057871040174\n",
      "0.5007002395861063\n",
      "0.5013946920681952\n",
      "0.5020891445502842\n"
     ]
    },
    {
     "name": "stdout",
     "output_type": "stream",
     "text": [
      "0.5027835970323731\n",
      "0.503478049514462\n",
      "0.5041725019965508\n",
      "0.5048669544786398\n"
     ]
    },
    {
     "name": "stdout",
     "output_type": "stream",
     "text": [
      "0.5055614069607287\n",
      "0.5062558594428176\n",
      "0.5069503119249066\n",
      "0.5076447644069955\n",
      "0.5083392168890843\n",
      "0.5090336693711732\n",
      "0.5097281218532622\n"
     ]
    },
    {
     "name": "stdout",
     "output_type": "stream",
     "text": [
      "0.5104225743353511\n",
      "0.51111702681744\n",
      "0.511811479299529\n",
      "0.5125059317816179\n"
     ]
    },
    {
     "name": "stdout",
     "output_type": "stream",
     "text": [
      "0.5132003842637067\n",
      "0.5138948367457956\n",
      "0.5145892892278846\n",
      "0.5152837417099735\n",
      "0.5159781941920624\n",
      "0.5166726466741514\n",
      "0.5173670991562402\n"
     ]
    },
    {
     "name": "stdout",
     "output_type": "stream",
     "text": [
      "0.5180615516383291\n",
      "0.5187560041204181\n",
      "0.519450456602507\n",
      "0.5201449090845959\n"
     ]
    },
    {
     "name": "stdout",
     "output_type": "stream",
     "text": [
      "0.5208393615666848\n",
      "0.5215338140487737\n",
      "0.5222282665308626\n",
      "0.5229227190129515\n",
      "0.5236171714950405\n",
      "0.5243116239771294\n"
     ]
    },
    {
     "name": "stdout",
     "output_type": "stream",
     "text": [
      "0.5250060764592183\n",
      "0.5257005289413071\n",
      "0.5263949814233961\n",
      "0.527089433905485\n"
     ]
    },
    {
     "name": "stdout",
     "output_type": "stream",
     "text": [
      "0.5277838863875739\n",
      "0.5284783388696629\n",
      "0.5291727913517518\n",
      "0.5298672438338407\n",
      "0.5305616963159295\n",
      "0.5312561487980185\n",
      "0.5319506012801074\n"
     ]
    },
    {
     "name": "stdout",
     "output_type": "stream",
     "text": [
      "0.5326450537621963\n",
      "0.5333395062442853\n",
      "0.5340339587263742\n",
      "0.534728411208463\n"
     ]
    },
    {
     "name": "stdout",
     "output_type": "stream",
     "text": [
      "0.5354228636905519\n",
      "0.5361173161726409\n",
      "0.5368117686547298\n",
      "0.5375062211368187\n",
      "0.5382006736189077\n",
      "0.5388951261009965\n",
      "0.5395895785830854\n"
     ]
    },
    {
     "name": "stdout",
     "output_type": "stream",
     "text": [
      "0.5402840310651744\n",
      "0.5409784835472633\n",
      "0.5416729360293522\n",
      "0.5423673885114411\n"
     ]
    },
    {
     "name": "stdout",
     "output_type": "stream",
     "text": [
      "0.54306184099353\n",
      "0.5437562934756189\n",
      "0.5444507459577078\n",
      "0.5451451984397968\n",
      "0.5458396509218857\n",
      "0.5465341034039746\n",
      "0.5472285558860635\n"
     ]
    },
    {
     "name": "stdout",
     "output_type": "stream",
     "text": [
      "0.5479230083681524\n",
      "0.5486174608502413\n",
      "0.5493119133323302\n",
      "0.5500063658144192\n"
     ]
    },
    {
     "name": "stdout",
     "output_type": "stream",
     "text": [
      "0.5507008182965081\n",
      "0.551395270778597\n",
      "0.5520897232606858\n",
      "0.5527841757427748\n",
      "0.5534786282248637\n",
      "0.5541730807069526\n",
      "0.5548675331890416\n"
     ]
    },
    {
     "name": "stdout",
     "output_type": "stream",
     "text": [
      "0.5555619856711305\n",
      "0.5562564381532193\n",
      "0.5569508906353082\n",
      "0.5576453431173972\n"
     ]
    },
    {
     "name": "stdout",
     "output_type": "stream",
     "text": [
      "0.5583397955994861\n",
      "0.559034248081575\n",
      "0.559728700563664\n",
      "0.5604231530457529\n",
      "0.5611176055278417\n",
      "0.5618120580099307\n"
     ]
    },
    {
     "name": "stdout",
     "output_type": "stream",
     "text": [
      "0.5625065104920196\n",
      "0.5632009629741085\n",
      "0.5638954154561974\n"
     ]
    },
    {
     "name": "stdout",
     "output_type": "stream",
     "text": [
      "0.5645898679382864\n",
      "0.5652843204203752\n",
      "0.5659787729024641\n",
      "0.5666732253845531\n",
      "0.567367677866642\n",
      "0.5680621303487309\n",
      "0.5687565828308198\n"
     ]
    },
    {
     "name": "stdout",
     "output_type": "stream",
     "text": [
      "0.5694510353129087\n",
      "0.5701454877949976\n",
      "0.5708399402770865\n"
     ]
    },
    {
     "name": "stdout",
     "output_type": "stream",
     "text": [
      "0.5715343927591755\n",
      "0.5722288452412644\n",
      "0.5729232977233533\n",
      "0.5736177502054421\n",
      "0.5743122026875311\n",
      "0.57500665516962\n",
      "0.5757011076517089\n",
      "0.5763955601337979\n",
      "0.5770900126158868\n"
     ]
    },
    {
     "name": "stdout",
     "output_type": "stream",
     "text": [
      "0.5777844650979757\n",
      "0.5784789175800645\n",
      "0.5791733700621535\n"
     ]
    },
    {
     "name": "stdout",
     "output_type": "stream",
     "text": [
      "0.5798678225442424\n",
      "0.5805622750263313\n",
      "0.5812567275084203\n",
      "0.5819511799905092\n",
      "0.582645632472598\n",
      "0.5833400849546869\n",
      "0.5840345374367759\n",
      "0.5847289899188648\n"
     ]
    },
    {
     "name": "stdout",
     "output_type": "stream",
     "text": [
      "0.5854234424009537\n",
      "0.5861178948830427\n",
      "0.5868123473651315\n"
     ]
    },
    {
     "name": "stdout",
     "output_type": "stream",
     "text": [
      "0.5875067998472204\n",
      "0.5882012523293094\n",
      "0.5888957048113983\n",
      "0.5895901572934872\n",
      "0.5902846097755761\n",
      "0.590979062257665\n",
      "0.5916735147397539\n",
      "0.5923679672218428\n"
     ]
    },
    {
     "name": "stdout",
     "output_type": "stream",
     "text": [
      "0.5930624197039318\n",
      "0.5937568721860207\n"
     ]
    },
    {
     "name": "stdout",
     "output_type": "stream",
     "text": [
      "0.5944513246681096\n",
      "0.5951457771501985\n",
      "0.5958402296322874\n",
      "0.5965346821143763\n",
      "0.5972291345964652\n",
      "0.5979235870785542\n",
      "0.5986180395606431\n",
      "0.599312492042732\n"
     ]
    },
    {
     "name": "stdout",
     "output_type": "stream",
     "text": [
      "0.6000069445248208\n",
      "0.6007013970069098\n",
      "0.6013958494889987\n"
     ]
    },
    {
     "name": "stdout",
     "output_type": "stream",
     "text": [
      "0.6020903019710876\n",
      "0.6027847544531766\n",
      "0.6034792069352655\n",
      "0.6041736594173543\n",
      "0.6048681118994432\n",
      "0.6055625643815322\n",
      "0.6062570168636211\n",
      "0.60695146934571\n",
      "0.607645921827799\n"
     ]
    },
    {
     "name": "stdout",
     "output_type": "stream",
     "text": [
      "0.6083403743098879\n",
      "0.6090348267919767\n",
      "0.6097292792740657\n"
     ]
    },
    {
     "name": "stdout",
     "output_type": "stream",
     "text": [
      "0.6104237317561546\n",
      "0.6111181842382435\n",
      "0.6118126367203324\n",
      "0.6125070892024214\n",
      "0.6132015416845102\n",
      "0.6138959941665991\n",
      "0.6145904466486881\n",
      "0.615284899130777\n"
     ]
    },
    {
     "name": "stdout",
     "output_type": "stream",
     "text": [
      "0.6159793516128659\n",
      "0.6166738040949548\n",
      "0.6173682565770438\n"
     ]
    },
    {
     "name": "stdout",
     "output_type": "stream",
     "text": [
      "0.6180627090591326\n",
      "0.6187571615412215\n",
      "0.6194516140233105\n",
      "0.6201460665053994\n",
      "0.6208405189874883\n",
      "0.6215349714695771\n",
      "0.6222294239516661\n",
      "0.622923876433755\n"
     ]
    },
    {
     "name": "stdout",
     "output_type": "stream",
     "text": [
      "0.6236183289158439\n",
      "0.6243127813979329\n",
      "0.6250072338800218\n"
     ]
    },
    {
     "name": "stdout",
     "output_type": "stream",
     "text": [
      "0.6257016863621107\n",
      "0.6263961388441995\n",
      "0.6270905913262885\n",
      "0.6277850438083774\n",
      "0.6284794962904663\n",
      "0.6291739487725553\n",
      "0.6298684012546442\n",
      "0.630562853736733\n"
     ]
    },
    {
     "name": "stdout",
     "output_type": "stream",
     "text": [
      "0.6312573062188219\n",
      "0.6319517587009109\n"
     ]
    },
    {
     "name": "stdout",
     "output_type": "stream",
     "text": [
      "0.6326462111829998\n",
      "0.6333406636650887\n",
      "0.6340351161471777\n",
      "0.6347295686292665\n",
      "0.6354240211113554\n",
      "0.6361184735934444\n",
      "0.6368129260755333\n",
      "0.6375073785576222\n"
     ]
    },
    {
     "name": "stdout",
     "output_type": "stream",
     "text": [
      "0.6382018310397111\n"
     ]
    },
    {
     "name": "stdout",
     "output_type": "stream",
     "text": [
      "0.6388962835218001\n",
      "0.6395907360038889\n",
      "0.6402851884859778\n",
      "0.6409796409680668\n",
      "0.6416740934501557\n",
      "0.6423685459322446\n",
      "0.6430629984143335\n",
      "0.6437574508964224\n"
     ]
    },
    {
     "name": "stdout",
     "output_type": "stream",
     "text": [
      "0.6444519033785113\n",
      "0.6451463558606002\n",
      "0.6458408083426892\n"
     ]
    },
    {
     "name": "stdout",
     "output_type": "stream",
     "text": [
      "0.6465352608247781\n",
      "0.647229713306867\n",
      "0.6479241657889558\n",
      "0.6486186182710448\n",
      "0.6493130707531337\n",
      "0.6500075232352226\n",
      "0.6507019757173116\n",
      "0.6513964281994005\n",
      "0.6520908806814893\n"
     ]
    },
    {
     "name": "stdout",
     "output_type": "stream",
     "text": [
      "0.6527853331635782\n",
      "0.6534797856456672\n",
      "0.6541742381277561\n"
     ]
    },
    {
     "name": "stdout",
     "output_type": "stream",
     "text": [
      "0.654868690609845\n",
      "0.655563143091934\n",
      "0.6562575955740229\n",
      "0.6569520480561117\n",
      "0.6576465005382007\n",
      "0.6583409530202896\n",
      "0.6590354055023785\n",
      "0.6597298579844674\n",
      "0.6604243104665564\n"
     ]
    },
    {
     "name": "stdout",
     "output_type": "stream",
     "text": [
      "0.6611187629486452\n",
      "0.6618132154307341\n",
      "0.6625076679128231\n"
     ]
    },
    {
     "name": "stdout",
     "output_type": "stream",
     "text": [
      "0.663202120394912\n",
      "0.6638965728770009\n",
      "0.6645910253590898\n",
      "0.6652854778411788\n",
      "0.6659799303232676\n",
      "0.6666743828053565\n",
      "0.6673688352874455\n",
      "0.6680632877695344\n"
     ]
    },
    {
     "name": "stdout",
     "output_type": "stream",
     "text": [
      "0.6687577402516233\n",
      "0.6694521927337121\n",
      "0.6701466452158011\n"
     ]
    },
    {
     "name": "stdout",
     "output_type": "stream",
     "text": [
      "0.67084109769789\n",
      "0.6715355501799789\n",
      "0.6722300026620679\n",
      "0.6729244551441568\n",
      "0.6736189076262457\n",
      "0.6743133601083345\n",
      "0.6750078125904235\n",
      "0.6757022650725124\n",
      "0.6763967175546013\n"
     ]
    },
    {
     "name": "stdout",
     "output_type": "stream",
     "text": [
      "0.6770911700366903\n",
      "0.6777856225187792\n",
      "0.678480075000868\n"
     ]
    },
    {
     "name": "stdout",
     "output_type": "stream",
     "text": [
      "0.6791745274829569\n",
      "0.6798689799650459\n",
      "0.6805634324471348\n",
      "0.6812578849292237\n",
      "0.6819523374113127\n",
      "0.6826467898934016\n",
      "0.6833412423754904\n",
      "0.6840356948575794\n",
      "0.6847301473396683\n"
     ]
    },
    {
     "name": "stdout",
     "output_type": "stream",
     "text": [
      "0.6854245998217572\n",
      "0.6861190523038461\n",
      "0.6868135047859351\n"
     ]
    },
    {
     "name": "stdout",
     "output_type": "stream",
     "text": [
      "0.6875079572680239\n",
      "0.6882024097501128\n",
      "0.6888968622322018\n",
      "0.6895913147142907\n",
      "0.6902857671963796\n",
      "0.6909802196784685\n",
      "0.6916746721605574\n",
      "0.6923691246426463\n",
      "0.6930635771247352\n"
     ]
    },
    {
     "name": "stdout",
     "output_type": "stream",
     "text": [
      "0.6937580296068242\n",
      "0.6944524820889131\n",
      "0.695146934571002\n"
     ]
    },
    {
     "name": "stdout",
     "output_type": "stream",
     "text": [
      "0.6958413870530908\n",
      "0.6965358395351798\n",
      "0.6972302920172687\n",
      "0.6979247444993576\n",
      "0.6986191969814466\n",
      "0.6993136494635355\n",
      "0.7000081019456244\n",
      "0.7007025544277132\n",
      "0.7013970069098022\n"
     ]
    },
    {
     "name": "stdout",
     "output_type": "stream",
     "text": [
      "0.7020914593918911\n",
      "0.70278591187398\n"
     ]
    },
    {
     "name": "stdout",
     "output_type": "stream",
     "text": [
      "0.703480364356069\n",
      "0.7041748168381579\n",
      "0.7048692693202467\n",
      "0.7055637218023357\n",
      "0.7062581742844246\n",
      "0.7069526267665135\n",
      "0.7076470792486024\n",
      "0.7083415317306914\n"
     ]
    },
    {
     "name": "stdout",
     "output_type": "stream",
     "text": [
      "0.7090359842127802\n",
      "0.7097304366948691\n"
     ]
    },
    {
     "name": "stdout",
     "output_type": "stream",
     "text": [
      "0.7104248891769581\n",
      "0.711119341659047\n",
      "0.7118137941411359\n",
      "0.7125082466232248\n",
      "0.7132026991053138\n",
      "0.7138971515874026\n",
      "0.7145916040694915\n",
      "0.7152860565515805\n",
      "0.7159805090336694\n"
     ]
    },
    {
     "name": "stdout",
     "output_type": "stream",
     "text": [
      "0.7166749615157583\n",
      "0.7173694139978471\n",
      "0.7180638664799361\n",
      "0.718758318962025\n",
      "0.7194527714441139\n",
      "0.7201472239262029\n",
      "0.7208416764082918\n",
      "0.7215361288903807\n",
      "0.7222305813724695\n",
      "0.7229250338545585\n",
      "0.7236194863366474\n"
     ]
    },
    {
     "name": "stdout",
     "output_type": "stream",
     "text": [
      "0.7243139388187363\n",
      "0.7250083913008253\n",
      "0.7257028437829142\n",
      "0.726397296265003\n",
      "0.7270917487470919\n",
      "0.7277862012291809\n",
      "0.7284806537112698\n",
      "0.7291751061933587\n",
      "0.7298695586754477\n",
      "0.7305640111575366\n",
      "0.7312584636396254\n"
     ]
    },
    {
     "name": "stdout",
     "output_type": "stream",
     "text": [
      "0.7319529161217144\n",
      "0.7326473686038033\n",
      "0.7333418210858922\n",
      "0.7340362735679811\n",
      "0.7347307260500701\n",
      "0.7354251785321589\n",
      "0.7361196310142478\n",
      "0.7368140834963368\n",
      "0.7375085359784257\n",
      "0.7382029884605146\n"
     ]
    },
    {
     "name": "stdout",
     "output_type": "stream",
     "text": [
      "0.7388974409426035\n",
      "0.7395918934246924\n",
      "0.7402863459067813\n",
      "0.7409807983888702\n",
      "0.7416752508709592\n",
      "0.7423697033530481\n",
      "0.743064155835137\n",
      "0.7437586083172258\n",
      "0.7444530607993148\n",
      "0.7451475132814037\n",
      "0.7458419657634926\n"
     ]
    },
    {
     "name": "stdout",
     "output_type": "stream",
     "text": [
      "0.7465364182455816\n",
      "0.7472308707276705\n",
      "0.7479253232097594\n",
      "0.7486197756918482\n",
      "0.7493142281739372\n",
      "0.7500086806560261\n",
      "0.750703133138115\n",
      "0.751397585620204\n"
     ]
    },
    {
     "name": "stdout",
     "output_type": "stream",
     "text": [
      "0.7520920381022929\n",
      "0.7527864905843817\n",
      "0.7534809430664707\n",
      "0.7541753955485596\n",
      "0.7548698480306485\n",
      "0.7555643005127374\n",
      "0.7562587529948264\n",
      "0.7569532054769152\n",
      "0.7576476579590041\n",
      "0.7583421104410931\n",
      "0.759036562923182\n"
     ]
    },
    {
     "name": "stdout",
     "output_type": "stream",
     "text": [
      "0.7597310154052709\n",
      "0.7604254678873598\n",
      "0.7611199203694488\n",
      "0.7618143728515376\n",
      "0.7625088253336265\n",
      "0.7632032778157155\n",
      "0.7638977302978044\n",
      "0.7645921827798933\n",
      "0.7652866352619822\n",
      "0.7659810877440711\n",
      "0.76667554022616\n"
     ]
    },
    {
     "name": "stdout",
     "output_type": "stream",
     "text": [
      "0.7673699927082489\n",
      "0.7680644451903379\n",
      "0.7687588976724268\n",
      "0.7694533501545157\n",
      "0.7701478026366045\n",
      "0.7708422551186935\n",
      "0.7715367076007824\n",
      "0.7722311600828713\n",
      "0.7729256125649603\n",
      "0.7736200650470492\n"
     ]
    },
    {
     "name": "stdout",
     "output_type": "stream",
     "text": [
      "0.774314517529138\n",
      "0.7750089700112269\n",
      "0.7757034224933159\n",
      "0.7763978749754048\n",
      "0.7770923274574937\n",
      "0.7777867799395827\n",
      "0.7784812324216716\n",
      "0.7791756849037604\n",
      "0.7798701373858494\n",
      "0.7805645898679383\n",
      "0.7812590423500272\n"
     ]
    },
    {
     "name": "stdout",
     "output_type": "stream",
     "text": [
      "0.7819534948321161\n",
      "0.7826479473142051\n",
      "0.7833423997962939\n",
      "0.7840368522783828\n",
      "0.7847313047604718\n",
      "0.7854257572425607\n",
      "0.7861202097246496\n",
      "0.7868146622067385\n",
      "0.7875091146888274\n",
      "0.7882035671709163\n",
      "0.7888980196530052\n"
     ]
    },
    {
     "name": "stdout",
     "output_type": "stream",
     "text": [
      "0.7895924721350942\n",
      "0.7902869246171831\n",
      "0.790981377099272\n",
      "0.7916758295813608\n",
      "0.7923702820634498\n",
      "0.7930647345455387\n",
      "0.7937591870276276\n",
      "0.7944536395097166\n",
      "0.7951480919918055\n",
      "0.7958425444738944\n",
      "0.7965369969559832\n",
      "0.7972314494380722\n"
     ]
    },
    {
     "name": "stdout",
     "output_type": "stream",
     "text": [
      "0.7979259019201611\n",
      "0.79862035440225\n",
      "0.799314806884339\n",
      "0.8000092593664279\n",
      "0.8007037118485167\n",
      "0.8013981643306057\n",
      "0.8020926168126946\n",
      "0.8027870692947835\n",
      "0.8034815217768724\n",
      "0.8041759742589614\n"
     ]
    },
    {
     "name": "stdout",
     "output_type": "stream",
     "text": [
      "0.8048704267410502\n",
      "0.8055648792231391\n",
      "0.8062593317052281\n",
      "0.806953784187317\n",
      "0.8076482366694059\n",
      "0.8083426891514948\n",
      "0.8090371416335838\n",
      "0.8097315941156726\n",
      "0.8104260465977615\n",
      "0.8111204990798505\n",
      "0.8118149515619394\n"
     ]
    },
    {
     "name": "stdout",
     "output_type": "stream",
     "text": [
      "0.8125094040440283\n",
      "0.8132038565261172\n",
      "0.8138983090082061\n",
      "0.814592761490295\n",
      "0.8152872139723839\n",
      "0.8159816664544729\n",
      "0.8166761189365618\n",
      "0.8173705714186507\n",
      "0.8180650239007395\n",
      "0.8187594763828285\n",
      "0.8194539288649174\n"
     ]
    },
    {
     "name": "stdout",
     "output_type": "stream",
     "text": [
      "0.8201483813470063\n",
      "0.8208428338290953\n",
      "0.8215372863111842\n",
      "0.822231738793273\n",
      "0.8229261912753619\n",
      "0.8236206437574509\n",
      "0.8243150962395398\n",
      "0.8250095487216287\n",
      "0.8257040012037177\n",
      "0.8263984536858066\n",
      "0.8270929061678954\n"
     ]
    },
    {
     "name": "stdout",
     "output_type": "stream",
     "text": [
      "0.8277873586499844\n",
      "0.8284818111320733\n",
      "0.8291762636141622\n",
      "0.8298707160962511\n",
      "0.8305651685783401\n",
      "0.8312596210604289\n",
      "0.8319540735425178\n",
      "0.8326485260246068\n",
      "0.8333429785066957\n",
      "0.8340374309887846\n",
      "0.8347318834708735\n"
     ]
    },
    {
     "name": "stdout",
     "output_type": "stream",
     "text": [
      "0.8354263359529625\n",
      "0.8361207884350513\n",
      "0.8368152409171402\n",
      "0.8375096933992292\n",
      "0.8382041458813181\n",
      "0.838898598363407\n",
      "0.8395930508454958\n",
      "0.8402875033275848\n",
      "0.8409819558096737\n",
      "0.8416764082917626\n"
     ]
    },
    {
     "name": "stdout",
     "output_type": "stream",
     "text": [
      "0.8423708607738516\n",
      "0.8430653132559405\n",
      "0.8437597657380294\n",
      "0.8444542182201182\n",
      "0.8451486707022072\n",
      "0.8458431231842961\n",
      "0.846537575666385\n",
      "0.847232028148474\n",
      "0.8479264806305629\n",
      "0.8486209331126517\n",
      "0.8493153855947407\n"
     ]
    },
    {
     "name": "stdout",
     "output_type": "stream",
     "text": [
      "0.8500098380768296\n",
      "0.8507042905589185\n",
      "0.8513987430410074\n",
      "0.8520931955230964\n",
      "0.8527876480051853\n",
      "0.8534821004872741\n",
      "0.8541765529693631\n",
      "0.854871005451452\n",
      "0.8555654579335409\n",
      "0.8562599104156298\n",
      "0.8569543628977188\n"
     ]
    },
    {
     "name": "stdout",
     "output_type": "stream",
     "text": [
      "0.8576488153798076\n",
      "0.8583432678618965\n",
      "0.8590377203439855\n",
      "0.8597321728260744\n",
      "0.8604266253081633\n",
      "0.8611210777902522\n",
      "0.8618155302723411\n",
      "0.86250998275443\n",
      "0.8632044352365189\n",
      "0.8638988877186079\n",
      "0.8645933402006968\n",
      "0.8652877926827857\n"
     ]
    },
    {
     "name": "stdout",
     "output_type": "stream",
     "text": [
      "0.8659822451648745\n",
      "0.8666766976469635\n",
      "0.8673711501290524\n",
      "0.8680656026111413\n",
      "0.8687600550932303\n",
      "0.8694545075753192\n",
      "0.870148960057408\n",
      "0.8708434125394969\n",
      "0.8715378650215859\n",
      "0.8722323175036748\n",
      "0.8729267699857637\n"
     ]
    },
    {
     "name": "stdout",
     "output_type": "stream",
     "text": [
      "0.8736212224678527\n",
      "0.8743156749499416\n",
      "0.8750101274320304\n",
      "0.8757045799141194\n",
      "0.8763990323962083\n",
      "0.8770934848782972\n",
      "0.8777879373603861\n",
      "0.8784823898424751\n",
      "0.879176842324564\n",
      "0.8798712948066528\n"
     ]
    },
    {
     "name": "stdout",
     "output_type": "stream",
     "text": [
      "0.8805657472887418\n",
      "0.8812601997708307\n",
      "0.8819546522529196\n",
      "0.8826491047350085\n",
      "0.8833435572170975\n",
      "0.8840380096991863\n",
      "0.8847324621812752\n",
      "0.8854269146633642\n",
      "0.8861213671454531\n",
      "0.886815819627542\n",
      "0.8875102721096308\n",
      "0.8882047245917198\n"
     ]
    },
    {
     "name": "stdout",
     "output_type": "stream",
     "text": [
      "0.8888991770738087\n",
      "0.8895936295558976\n",
      "0.8902880820379866\n",
      "0.8909825345200755\n",
      "0.8916769870021644\n",
      "0.8923714394842532\n",
      "0.8930658919663422\n",
      "0.8937603444484311\n",
      "0.89445479693052\n",
      "0.895149249412609\n",
      "0.8958437018946979\n"
     ]
    },
    {
     "name": "stdout",
     "output_type": "stream",
     "text": [
      "0.8965381543767867\n",
      "0.8972326068588757\n",
      "0.8979270593409646\n",
      "0.8986215118230535\n",
      "0.8993159643051424\n",
      "0.9000104167872314\n",
      "0.9007048692693203\n",
      "0.9013993217514091\n",
      "0.9020937742334981\n",
      "0.902788226715587\n",
      "0.9034826791976759\n",
      "0.9041771316797648\n"
     ]
    },
    {
     "name": "stdout",
     "output_type": "stream",
     "text": [
      "0.9048715841618538\n",
      "0.9055660366439426\n",
      "0.9062604891260315\n",
      "0.9069549416081205\n",
      "0.9076493940902094\n",
      "0.9083438465722983\n",
      "0.9090382990543872\n",
      "0.9097327515364761\n",
      "0.910427204018565\n",
      "0.9111216565006539\n",
      "0.9118161089827429\n"
     ]
    },
    {
     "name": "stdout",
     "output_type": "stream",
     "text": [
      "0.9125105614648318\n",
      "0.9132050139469207\n",
      "0.9138994664290095\n",
      "0.9145939189110985\n",
      "0.9152883713931874\n",
      "0.9159828238752763\n",
      "0.9166772763573653\n",
      "0.9173717288394542\n",
      "0.918066181321543\n",
      "0.9187606338036319\n",
      "0.9194550862857209\n"
     ]
    },
    {
     "name": "stdout",
     "output_type": "stream",
     "text": [
      "0.9201495387678098\n",
      "0.9208439912498987\n",
      "0.9215384437319877\n",
      "0.9222328962140766\n",
      "0.9229273486961654\n",
      "0.9236218011782544\n",
      "0.9243162536603433\n",
      "0.9250107061424322\n",
      "0.9257051586245211\n",
      "0.9263996111066101\n",
      "0.927094063588699\n"
     ]
    },
    {
     "name": "stdout",
     "output_type": "stream",
     "text": [
      "0.9277885160707878\n",
      "0.9284829685528768\n",
      "0.9291774210349657\n",
      "0.9298718735170546\n",
      "0.9305663259991435\n",
      "0.9312607784812325\n",
      "0.9319552309633213\n",
      "0.9326496834454102\n",
      "0.9333441359274992\n",
      "0.9340385884095881\n",
      "0.934733040891677\n",
      "0.9354274933737659\n"
     ]
    },
    {
     "name": "stdout",
     "output_type": "stream",
     "text": [
      "0.9361219458558548\n",
      "0.9368163983379437\n",
      "0.9375108508200326\n",
      "0.9382053033021216\n",
      "0.9388997557842105\n",
      "0.9395942082662994\n",
      "0.9402886607483882\n",
      "0.9409831132304772\n",
      "0.9416775657125661\n",
      "0.942372018194655\n",
      "0.943066470676744\n"
     ]
    },
    {
     "name": "stdout",
     "output_type": "stream",
     "text": [
      "0.9437609231588329\n",
      "0.9444553756409217\n",
      "0.9451498281230107\n",
      "0.9458442806050996\n",
      "0.9465387330871885\n",
      "0.9472331855692774\n",
      "0.9479276380513664\n",
      "0.9486220905334553\n",
      "0.9493165430155441\n",
      "0.9500109954976331\n",
      "0.950705447979722\n"
     ]
    },
    {
     "name": "stdout",
     "output_type": "stream",
     "text": [
      "0.9513999004618109\n",
      "0.9520943529438998\n",
      "0.9527888054259888\n",
      "0.9534832579080776\n",
      "0.9541777103901665\n",
      "0.9548721628722555\n",
      "0.9555666153543444\n",
      "0.9562610678364333\n",
      "0.9569555203185222\n",
      "0.9576499728006111\n",
      "0.9583444252827\n"
     ]
    },
    {
     "name": "stdout",
     "output_type": "stream",
     "text": [
      "0.9590388777647889\n",
      "0.9597333302468779\n",
      "0.9604277827289668\n",
      "0.9611222352110557\n",
      "0.9618166876931445\n",
      "0.9625111401752335\n",
      "0.9632055926573224\n",
      "0.9639000451394113\n",
      "0.9645944976215003\n",
      "0.9652889501035892\n",
      "0.965983402585678\n"
     ]
    },
    {
     "name": "stdout",
     "output_type": "stream",
     "text": [
      "0.9666778550677669\n",
      "0.9673723075498559\n",
      "0.9680667600319448\n",
      "0.9687612125140337\n",
      "0.9694556649961227\n",
      "0.9701501174782116\n",
      "0.9708445699603004\n",
      "0.9715390224423894\n",
      "0.9722334749244783\n",
      "0.9729279274065672\n",
      "0.9736223798886561\n"
     ]
    },
    {
     "name": "stdout",
     "output_type": "stream",
     "text": [
      "0.9743168323707451\n",
      "0.975011284852834\n",
      "0.9757057373349228\n",
      "0.9764001898170118\n",
      "0.9770946422991007\n",
      "0.9777890947811896\n",
      "0.9784835472632785\n",
      "0.9791779997453675\n",
      "0.9798724522274563\n",
      "0.9805669047095452\n",
      "0.9812613571916342\n"
     ]
    },
    {
     "name": "stdout",
     "output_type": "stream",
     "text": [
      "0.9819558096737231\n",
      "0.982650262155812\n",
      "0.9833447146379009\n",
      "0.9840391671199898\n",
      "0.9847336196020787\n",
      "0.9854280720841676\n",
      "0.9861225245662566\n",
      "0.9868169770483455\n",
      "0.9875114295304344\n",
      "0.9882058820125232\n",
      "0.9889003344946122\n"
     ]
    },
    {
     "name": "stdout",
     "output_type": "stream",
     "text": [
      "0.9895947869767011\n",
      "0.99028923945879\n",
      "0.990983691940879\n",
      "0.9916781444229679\n",
      "0.9923725969050567\n",
      "0.9930670493871457\n",
      "0.9937615018692346\n",
      "0.9944559543513235\n",
      "0.9951504068334124\n",
      "0.9958448593155014\n",
      "0.9965393117975903\n"
     ]
    },
    {
     "name": "stdout",
     "output_type": "stream",
     "text": [
      "0.9972337642796791\n",
      "0.9979282167617681\n",
      "0.998622669243857\n",
      "\tshower\n",
      "['shower_24_apertura', 'hum_shower_25', 'shower_31']\n",
      "\t\tshower_24_apertura\n",
      "Raw stream_obj: (1440,)\n",
      "\t\thum_shower_25\n",
      "Raw stream_obj: (1440,)\n",
      "\t\tshower_31\n",
      "Raw stream_obj: (1440,)\n",
      "condition: (shower_24_apertura + shower_31 )\n",
      "parsed_expression: [['shower_24_apertura', '+', 'shower_31']]\n",
      "Evaluating  shower ['shower_24_apertura', '+', 'shower_31']\n",
      "Evaluating  shower shower_24_apertura\n",
      "Evaluating  shower shower_31\n",
      "\t shower_24_apertura  op: + shower_31\n",
      "evaluated_expression (shower_24_apertura + shower_31 ) (shower_24_apertura + shower_31)\n",
      "condition: (sensor_shower < tA * hum_shower_25 > tA) # (sensor_shower > tA * hum_shower_25 < tA)\n",
      "parsed_expression: [[[['sensor_shower', '<', 'tA'], '*', ['hum_shower_25', '>', 'tA']], '#', [['sensor_shower', '>', 'tA'], '*', ['hum_shower_25', '<', 'tA']]]]\n",
      "Evaluating  shower [[['sensor_shower', '<', 'tA'], '*', ['hum_shower_25', '>', 'tA']], '#', [['sensor_shower', '>', 'tA'], '*', ['hum_shower_25', '<', 'tA']]]\n",
      "Evaluating  shower [['sensor_shower', '<', 'tA'], '*', ['hum_shower_25', '>', 'tA']]\n",
      "Evaluating  shower ['sensor_shower', '<', 'tA']\n",
      "Evaluating  shower sensor_shower\n",
      "Evaluating  shower tA\n",
      "\t sensor_shower  op: < tA\n",
      "Evaluating  shower ['hum_shower_25', '>', 'tA']\n",
      "Evaluating  shower hum_shower_25\n",
      "Evaluating  shower tA\n",
      "\t hum_shower_25  op: > tA\n",
      "\t (sensor_shower < tA)  op: * (hum_shower_25 > tA)\n",
      "Evaluating  shower [['sensor_shower', '>', 'tA'], '*', ['hum_shower_25', '<', 'tA']]\n",
      "Evaluating  shower ['sensor_shower', '>', 'tA']\n",
      "Evaluating  shower sensor_shower\n",
      "Evaluating  shower tA\n",
      "\t sensor_shower  op: > tA\n",
      "Evaluating  shower ['hum_shower_25', '<', 'tA']\n",
      "Evaluating  shower hum_shower_25\n",
      "Evaluating  shower tA\n",
      "\t hum_shower_25  op: < tA\n",
      "\t (sensor_shower > tA)  op: * (hum_shower_25 < tA)\n",
      "\t ((sensor_shower < tA) * (hum_shower_25 > tA))  op: # ((sensor_shower > tA) * (hum_shower_25 < tA))\n",
      "evaluated_expression (sensor_shower < tA * hum_shower_25 > tA) # (sensor_shower > tA * hum_shower_25 < tA) (((sensor_shower < tA) * (hum_shower_25 > tA)) # ((sensor_shower > tA) * (hum_shower_25 < tA)))\n",
      "0.0006944524820889131\n"
     ]
    },
    {
     "name": "stdout",
     "output_type": "stream",
     "text": [
      "0.0013889049641778262\n",
      "0.0020833574462667394\n",
      "0.0027778099283556523\n",
      "0.0034722624104445653\n",
      "0.004166714892533479\n",
      "0.004861167374622392\n",
      "0.005555619856711305\n",
      "0.006250072338800218\n",
      "0.006944524820889131\n",
      "0.007638977302978044\n",
      "0.008333429785066957\n"
     ]
    },
    {
     "name": "stdout",
     "output_type": "stream",
     "text": [
      "0.00902788226715587\n",
      "0.009722334749244783\n",
      "0.010416787231333696\n",
      "0.01111123971342261\n",
      "0.011805692195511521\n",
      "0.012500144677600435\n",
      "0.013194597159689347\n",
      "0.013889049641778261\n",
      "0.014583502123867175\n",
      "0.015277954605956087\n"
     ]
    },
    {
     "name": "stdout",
     "output_type": "stream",
     "text": [
      "0.015972407088045\n",
      "0.016666859570133915\n",
      "0.017361312052222827\n",
      "0.01805576453431174\n",
      "0.01875021701640065\n",
      "0.019444669498489567\n",
      "0.02013912198057848\n",
      "0.02083357446266739\n",
      "0.021528026944756307\n",
      "0.02222247942684522\n"
     ]
    },
    {
     "name": "stdout",
     "output_type": "stream",
     "text": [
      "0.02291693190893413\n",
      "0.023611384391023043\n",
      "0.02430583687311196\n",
      "0.02500028935520087\n",
      "0.025694741837289783\n",
      "0.026389194319378695\n",
      "0.02708364680146761\n",
      "0.027778099283556523\n",
      "0.028472551765645435\n",
      "0.02916700424773435\n",
      "0.029861456729823262\n",
      "0.030555909211912174\n"
     ]
    },
    {
     "name": "stdout",
     "output_type": "stream",
     "text": [
      "0.03125036169400109\n",
      "0.03194481417609\n",
      "0.032639266658178914\n",
      "0.03333371914026783\n",
      "0.03402817162235674\n",
      "0.034722624104445654\n",
      "0.03541707658653457\n",
      "0.03611152906862348\n",
      "0.036805981550712394\n",
      "0.0375004340328013\n",
      "0.03819488651489022\n"
     ]
    },
    {
     "name": "stdout",
     "output_type": "stream",
     "text": [
      "0.038889338996979134\n",
      "0.03958379147906804\n",
      "0.04027824396115696\n",
      "0.04097269644324587\n",
      "0.04166714892533478\n",
      "0.0423616014074237\n",
      "0.04305605388951261\n",
      "0.04375050637160152\n",
      "0.04444495885369044\n"
     ]
    },
    {
     "name": "stdout",
     "output_type": "stream",
     "text": [
      "0.045139411335779346\n",
      "0.04583386381786826\n",
      "0.04652831629995718\n",
      "0.047222768782046086\n",
      "0.047917221264135\n",
      "0.04861167374622392\n",
      "0.049306126228312826\n",
      "0.05000057871040174\n",
      "0.05069503119249066\n",
      "0.051389483674579566\n"
     ]
    },
    {
     "name": "stdout",
     "output_type": "stream",
     "text": [
      "0.05208393615666848\n",
      "0.05277838863875739\n",
      "0.053472841120846305\n",
      "0.05416729360293522\n",
      "0.05486174608502413\n",
      "0.055556198567113045\n",
      "0.05625065104920196\n",
      "0.05694510353129087\n",
      "0.057639556013379785\n",
      "0.0583340084954687\n",
      "0.05902846097755761\n",
      "0.059722913459646525\n"
     ]
    },
    {
     "name": "stdout",
     "output_type": "stream",
     "text": [
      "0.06041736594173543\n",
      "0.06111181842382435\n",
      "0.061806270905913265\n",
      "0.06250072338800218\n",
      "0.06319517587009109\n",
      "0.06388962835218\n",
      "0.06458408083426892\n",
      "0.06527853331635783\n",
      "0.06597298579844674\n",
      "0.06666743828053566\n",
      "0.06736189076262457\n",
      "0.06805634324471348\n"
     ]
    },
    {
     "name": "stdout",
     "output_type": "stream",
     "text": [
      "0.0687507957268024\n",
      "0.06944524820889131\n",
      "0.07013970069098022\n",
      "0.07083415317306914\n",
      "0.07152860565515805\n",
      "0.07222305813724696\n",
      "0.07291751061933587\n",
      "0.07361196310142479\n",
      "0.0743064155835137\n",
      "0.0750008680656026\n",
      "0.07569532054769153\n"
     ]
    },
    {
     "name": "stdout",
     "output_type": "stream",
     "text": [
      "0.07638977302978044\n",
      "0.07708422551186934\n",
      "0.07777867799395827\n",
      "0.07847313047604718\n",
      "0.07916758295813608\n",
      "0.07986203544022501\n",
      "0.08055648792231392\n",
      "0.08125094040440282\n",
      "0.08194539288649175\n",
      "0.08263984536858066\n",
      "0.08333429785066956\n",
      "0.08402875033275849\n"
     ]
    },
    {
     "name": "stdout",
     "output_type": "stream",
     "text": [
      "0.0847232028148474\n",
      "0.0854176552969363\n",
      "0.08611210777902523\n",
      "0.08680656026111414\n",
      "0.08750101274320304\n",
      "0.08819546522529197\n",
      "0.08888991770738087\n",
      "0.08958437018946978\n",
      "0.09027882267155869\n",
      "0.09097327515364761\n",
      "0.09166772763573652\n"
     ]
    },
    {
     "name": "stdout",
     "output_type": "stream",
     "text": [
      "0.09236218011782543\n",
      "0.09305663259991435\n",
      "0.09375108508200326\n",
      "0.09444553756409217\n",
      "0.0951399900461811\n",
      "0.09583444252827\n",
      "0.09652889501035891\n",
      "0.09722334749244783\n",
      "0.09791779997453674\n",
      "0.09861225245662565\n",
      "0.09930670493871457\n"
     ]
    },
    {
     "name": "stdout",
     "output_type": "stream",
     "text": [
      "0.10000115742080348\n",
      "0.10069560990289239\n",
      "0.10139006238498131\n",
      "0.10208451486707022\n",
      "0.10277896734915913\n",
      "0.10347341983124805\n",
      "0.10416787231333696\n",
      "0.10486232479542587\n",
      "0.10555677727751478\n",
      "0.1062512297596037\n",
      "0.10694568224169261\n"
     ]
    },
    {
     "name": "stdout",
     "output_type": "stream",
     "text": [
      "0.10764013472378152\n",
      "0.10833458720587044\n",
      "0.10902903968795935\n",
      "0.10972349217004826\n",
      "0.11041794465213718\n",
      "0.11111239713422609\n",
      "0.111806849616315\n",
      "0.11250130209840392\n",
      "0.11319575458049283\n",
      "0.11389020706258174\n",
      "0.11458465954467066\n"
     ]
    },
    {
     "name": "stdout",
     "output_type": "stream",
     "text": [
      "0.11527911202675957\n",
      "0.11597356450884848\n",
      "0.1166680169909374\n",
      "0.11736246947302631\n",
      "0.11805692195511522\n",
      "0.11875137443720414\n",
      "0.11944582691929305\n",
      "0.12014027940138196\n",
      "0.12083473188347087\n",
      "0.12152918436555979\n",
      "0.1222236368476487\n"
     ]
    },
    {
     "name": "stdout",
     "output_type": "stream",
     "text": [
      "0.1229180893297376\n",
      "0.12361254181182653\n",
      "0.12430699429391544\n",
      "0.12500144677600436\n",
      "0.12569589925809327\n",
      "0.12639035174018218\n",
      "0.12708480422227109\n",
      "0.12777925670436\n",
      "0.1284737091864489\n",
      "0.12916816166853784\n",
      "0.12986261415062675\n"
     ]
    },
    {
     "name": "stdout",
     "output_type": "stream",
     "text": [
      "0.13055706663271566\n",
      "0.13125151911480457\n",
      "0.13194597159689347\n",
      "0.13264042407898238\n",
      "0.13333487656107132\n",
      "0.13402932904316023\n",
      "0.13472378152524914\n",
      "0.13541823400733805\n",
      "0.13611268648942695\n",
      "0.13680713897151586\n",
      "0.1375015914536048\n",
      "0.1381960439356937\n"
     ]
    },
    {
     "name": "stdout",
     "output_type": "stream",
     "text": [
      "0.13889049641778262\n",
      "0.13958494889987152\n",
      "0.14027940138196043\n",
      "0.14097385386404934\n",
      "0.14166830634613828\n",
      "0.1423627588282272\n",
      "0.1430572113103161\n",
      "0.143751663792405\n",
      "0.1444461162744939\n",
      "0.14514056875658282\n",
      "0.14583502123867173\n"
     ]
    },
    {
     "name": "stdout",
     "output_type": "stream",
     "text": [
      "0.14652947372076067\n",
      "0.14722392620284958\n",
      "0.14791837868493848\n",
      "0.1486128311670274\n",
      "0.1493072836491163\n",
      "0.1500017361312052\n",
      "0.15069618861329415\n",
      "0.15139064109538306\n",
      "0.15208509357747196\n",
      "0.15277954605956087\n",
      "0.15347399854164978\n",
      "0.1541684510237387\n"
     ]
    },
    {
     "name": "stdout",
     "output_type": "stream",
     "text": [
      "0.15486290350582763\n",
      "0.15555735598791653\n",
      "0.15625180847000544\n",
      "0.15694626095209435\n",
      "0.15764071343418326\n",
      "0.15833516591627217\n",
      "0.1590296183983611\n",
      "0.15972407088045001\n",
      "0.16041852336253892\n",
      "0.16111297584462783\n",
      "0.16180742832671674\n"
     ]
    },
    {
     "name": "stdout",
     "output_type": "stream",
     "text": [
      "0.16250188080880565\n",
      "0.16319633329089456\n",
      "0.1638907857729835\n",
      "0.1645852382550724\n",
      "0.1652796907371613\n",
      "0.16597414321925022\n",
      "0.16666859570133913\n",
      "0.16736304818342804\n",
      "0.16805750066551697\n",
      "0.16875195314760588\n",
      "0.1694464056296948\n"
     ]
    },
    {
     "name": "stdout",
     "output_type": "stream",
     "text": [
      "0.1701408581117837\n",
      "0.1708353105938726\n",
      "0.17152976307596152\n",
      "0.17222421555805045\n",
      "0.17291866804013936\n",
      "0.17361312052222827\n",
      "0.17430757300431718\n",
      "0.1750020254864061\n",
      "0.175696477968495\n",
      "0.17639093045058393\n",
      "0.17708538293267284\n"
     ]
    },
    {
     "name": "stdout",
     "output_type": "stream",
     "text": [
      "0.17777983541476175\n",
      "0.17847428789685066\n",
      "0.17916874037893957\n",
      "0.17986319286102848\n",
      "0.18055764534311738\n",
      "0.18125209782520632\n",
      "0.18194655030729523\n",
      "0.18264100278938414\n",
      "0.18333545527147305\n",
      "0.18402990775356196\n",
      "0.18472436023565086\n"
     ]
    },
    {
     "name": "stdout",
     "output_type": "stream",
     "text": [
      "0.1854188127177398\n",
      "0.1861132651998287\n",
      "0.18680771768191762\n",
      "0.18750217016400653\n",
      "0.18819662264609544\n",
      "0.18889107512818434\n",
      "0.18958552761027328\n",
      "0.1902799800923622\n",
      "0.1909744325744511\n",
      "0.19166888505654\n",
      "0.19236333753862891\n"
     ]
    },
    {
     "name": "stdout",
     "output_type": "stream",
     "text": [
      "0.19305779002071782\n",
      "0.19375224250280673\n",
      "0.19444669498489567\n",
      "0.19514114746698458\n",
      "0.19583559994907349\n",
      "0.1965300524311624\n",
      "0.1972245049132513\n",
      "0.1979189573953402\n",
      "0.19861340987742915\n",
      "0.19930786235951806\n",
      "0.20000231484160697\n"
     ]
    },
    {
     "name": "stdout",
     "output_type": "stream",
     "text": [
      "0.20069676732369587\n",
      "0.20139121980578478\n",
      "0.2020856722878737\n",
      "0.20278012476996263\n",
      "0.20347457725205154\n",
      "0.20416902973414044\n",
      "0.20486348221622935\n",
      "0.20555793469831826\n",
      "0.20625238718040717\n",
      "0.2069468396624961\n",
      "0.20764129214458502\n"
     ]
    },
    {
     "name": "stdout",
     "output_type": "stream",
     "text": [
      "0.20833574462667392\n",
      "0.20903019710876283\n",
      "0.20972464959085174\n",
      "0.21041910207294065\n",
      "0.21111355455502956\n",
      "0.2118080070371185\n",
      "0.2125024595192074\n",
      "0.2131969120012963\n",
      "0.21389136448338522\n",
      "0.21458581696547413\n",
      "0.21528026944756304\n"
     ]
    },
    {
     "name": "stdout",
     "output_type": "stream",
     "text": [
      "0.21597472192965197\n",
      "0.21666917441174088\n",
      "0.2173636268938298\n",
      "0.2180580793759187\n",
      "0.2187525318580076\n",
      "0.21944698434009652\n",
      "0.22014143682218545\n",
      "0.22083588930427436\n",
      "0.22153034178636327\n",
      "0.22222479426845218\n",
      "0.2229192467505411\n"
     ]
    },
    {
     "name": "stdout",
     "output_type": "stream",
     "text": [
      "0.22361369923263\n",
      "0.22430815171471893\n",
      "0.22500260419680784\n",
      "0.22569705667889675\n",
      "0.22639150916098566\n",
      "0.22708596164307457\n",
      "0.22778041412516348\n",
      "0.22847486660725239\n",
      "0.22916931908934132\n",
      "0.22986377157143023\n",
      "0.23055822405351914\n"
     ]
    },
    {
     "name": "stdout",
     "output_type": "stream",
     "text": [
      "0.23125267653560805\n",
      "0.23194712901769696\n",
      "0.23264158149978587\n",
      "0.2333360339818748\n",
      "0.2340304864639637\n",
      "0.23472493894605262\n",
      "0.23541939142814153\n",
      "0.23611384391023044\n",
      "0.23680829639231935\n",
      "0.23750274887440828\n",
      "0.2381972013564972\n"
     ]
    },
    {
     "name": "stdout",
     "output_type": "stream",
     "text": [
      "0.2388916538385861\n",
      "0.239586106320675\n",
      "0.24028055880276392\n",
      "0.24097501128485282\n",
      "0.24166946376694173\n",
      "0.24236391624903067\n",
      "0.24305836873111958\n",
      "0.2437528212132085\n",
      "0.2444472736952974\n",
      "0.2451417261773863\n",
      "0.2458361786594752\n"
     ]
    },
    {
     "name": "stdout",
     "output_type": "stream",
     "text": [
      "0.24653063114156415\n",
      "0.24722508362365306\n",
      "0.24791953610574197\n",
      "0.24861398858783088\n",
      "0.24930844106991978\n",
      "0.2500028935520087\n",
      "0.2506973460340976\n",
      "0.25139179851618654\n",
      "0.2520862509982754\n",
      "0.25278070348036435\n"
     ]
    },
    {
     "name": "stdout",
     "output_type": "stream",
     "text": [
      "0.2534751559624533\n",
      "0.25416960844454217\n",
      "0.2548640609266311\n",
      "0.25555851340872\n",
      "0.2562529658908089\n",
      "0.2569474183728978\n",
      "0.25764187085498674\n",
      "0.2583363233370757\n",
      "0.25903077581916456\n",
      "0.2597252283012535\n",
      "0.2604196807833424\n"
     ]
    },
    {
     "name": "stdout",
     "output_type": "stream",
     "text": [
      "0.2611141332654313\n",
      "0.26180858574752025\n",
      "0.26250303822960913\n",
      "0.26319749071169807\n",
      "0.26389194319378695\n",
      "0.2645863956758759\n",
      "0.26528084815796477\n",
      "0.2659753006400537\n",
      "0.26666975312214264\n",
      "0.2673642056042315\n"
     ]
    },
    {
     "name": "stdout",
     "output_type": "stream",
     "text": [
      "0.26805865808632046\n",
      "0.26875311056840934\n",
      "0.2694475630504983\n",
      "0.2701420155325872\n",
      "0.2708364680146761\n",
      "0.271530920496765\n",
      "0.2722253729788539\n",
      "0.27291982546094284\n",
      "0.2736142779430317\n",
      "0.27430873042512066\n",
      "0.2750031829072096\n"
     ]
    },
    {
     "name": "stdout",
     "output_type": "stream",
     "text": [
      "0.2756976353892985\n",
      "0.2763920878713874\n",
      "0.2770865403534763\n",
      "0.27778099283556523\n",
      "0.2784754453176541\n",
      "0.27916989779974305\n",
      "0.279864350281832\n",
      "0.28055880276392087\n",
      "0.2812532552460098\n",
      "0.2819477077280987\n",
      "0.2826421602101876\n"
     ]
    },
    {
     "name": "stdout",
     "output_type": "stream",
     "text": [
      "0.28333661269227656\n",
      "0.28403106517436544\n",
      "0.2847255176564544\n",
      "0.28541997013854326\n",
      "0.2861144226206322\n",
      "0.2868088751027211\n",
      "0.28750332758481\n"
     ]
    },
    {
     "name": "stdout",
     "output_type": "stream",
     "text": [
      "0.28819778006689895\n",
      "0.2888922325489878\n",
      "0.28958668503107676\n",
      "0.29028113751316564\n",
      "0.2909755899952546\n",
      "0.29167004247734346\n",
      "0.2923644949594324\n",
      "0.29305894744152133\n",
      "0.2937533999236102\n",
      "0.29444785240569915\n",
      "0.29514230488778803\n",
      "0.29583675736987697\n"
     ]
    },
    {
     "name": "stdout",
     "output_type": "stream",
     "text": [
      "0.2965312098519659\n",
      "0.2972256623340548\n",
      "0.2979201148161437\n",
      "0.2986145672982326\n",
      "0.29930901978032154\n",
      "0.3000034722624104\n",
      "0.30069792474449936\n",
      "0.3013923772265883\n",
      "0.3020868297086772\n",
      "0.3027812821907661\n"
     ]
    },
    {
     "name": "stdout",
     "output_type": "stream",
     "text": [
      "0.303475734672855\n",
      "0.3041701871549439\n",
      "0.30486463963703286\n",
      "0.30555909211912174\n",
      "0.3062535446012107\n",
      "0.30694799708329956\n",
      "0.3076424495653885\n",
      "0.3083369020474774\n",
      "0.3090313545295663\n",
      "0.30972580701165525\n",
      "0.31042025949374413\n"
     ]
    },
    {
     "name": "stdout",
     "output_type": "stream",
     "text": [
      "0.31111471197583307\n",
      "0.31180916445792195\n",
      "0.3125036169400109\n",
      "0.31319806942209977\n",
      "0.3138925219041887\n",
      "0.31458697438627764\n",
      "0.3152814268683665\n",
      "0.31597587935045546\n",
      "0.31667033183254434\n",
      "0.3173647843146333\n",
      "0.3180592367967222\n"
     ]
    },
    {
     "name": "stdout",
     "output_type": "stream",
     "text": [
      "0.3187536892788111\n",
      "0.31944814176090003\n",
      "0.3201425942429889\n",
      "0.32083704672507785\n",
      "0.3215314992071667\n",
      "0.32222595168925566\n",
      "0.3229204041713446\n",
      "0.3236148566534335\n",
      "0.3243093091355224\n",
      "0.3250037616176113\n",
      "0.32569821409970023\n",
      "0.3263926665817891\n"
     ]
    },
    {
     "name": "stdout",
     "output_type": "stream",
     "text": [
      "0.32708711906387805\n",
      "0.327781571545967\n",
      "0.32847602402805587\n",
      "0.3291704765101448\n",
      "0.3298649289922337\n",
      "0.3305593814743226\n",
      "0.33125383395641156\n",
      "0.33194828643850044\n",
      "0.3326427389205894\n",
      "0.33333719140267826\n",
      "0.3340316438847672\n"
     ]
    },
    {
     "name": "stdout",
     "output_type": "stream",
     "text": [
      "0.3347260963668561\n",
      "0.335420548848945\n",
      "0.33611500133103395\n",
      "0.3368094538131228\n",
      "0.33750390629521176\n",
      "0.33819835877730064\n",
      "0.3388928112593896\n",
      "0.33958726374147846\n",
      "0.3402817162235674\n",
      "0.34097616870565634\n",
      "0.3416706211877452\n"
     ]
    },
    {
     "name": "stdout",
     "output_type": "stream",
     "text": [
      "0.34236507366983415\n",
      "0.34305952615192303\n",
      "0.34375397863401197\n",
      "0.3444484311161009\n",
      "0.3451428835981898\n",
      "0.3458373360802787\n",
      "0.3465317885623676\n",
      "0.34722624104445654\n",
      "0.3479206935265454\n",
      "0.34861514600863436\n"
     ]
    },
    {
     "name": "stdout",
     "output_type": "stream",
     "text": [
      "0.3493095984907233\n",
      "0.3500040509728122\n",
      "0.3506985034549011\n",
      "0.35139295593699\n",
      "0.35208740841907893\n",
      "0.35278186090116787\n",
      "0.35347631338325675\n",
      "0.3541707658653457\n",
      "0.35486521834743456\n",
      "0.3555596708295235\n",
      "0.3562541233116124\n"
     ]
    },
    {
     "name": "stdout",
     "output_type": "stream",
     "text": [
      "0.3569485757937013\n",
      "0.35764302827579025\n",
      "0.35833748075787913\n",
      "0.35903193323996807\n",
      "0.35972638572205695\n",
      "0.3604208382041459\n",
      "0.36111529068623477\n",
      "0.3618097431683237\n",
      "0.36250419565041264\n",
      "0.3631986481325015\n",
      "0.36389310061459046\n"
     ]
    },
    {
     "name": "stdout",
     "output_type": "stream",
     "text": [
      "0.36458755309667934\n",
      "0.3652820055787683\n",
      "0.3659764580608572\n",
      "0.3666709105429461\n",
      "0.36736536302503503\n",
      "0.3680598155071239\n",
      "0.36875426798921285\n",
      "0.36944872047130173\n",
      "0.37014317295339066\n",
      "0.3708376254354796\n",
      "0.3715320779175685\n",
      "0.3722265303996574\n"
     ]
    },
    {
     "name": "stdout",
     "output_type": "stream",
     "text": [
      "0.3729209828817463\n",
      "0.37361543536383524\n",
      "0.3743098878459241\n",
      "0.37500434032801305\n",
      "0.375698792810102\n",
      "0.37639324529219087\n",
      "0.3770876977742798\n",
      "0.3777821502563687\n",
      "0.3784766027384576\n",
      "0.37917105522054656\n"
     ]
    },
    {
     "name": "stdout",
     "output_type": "stream",
     "text": [
      "0.37986550770263544\n",
      "0.3805599601847244\n",
      "0.38125441266681326\n",
      "0.3819488651489022\n",
      "0.3826433176309911\n",
      "0.38333777011308\n",
      "0.38403222259516895\n",
      "0.38472667507725783\n",
      "0.38542112755934677\n"
     ]
    },
    {
     "name": "stdout",
     "output_type": "stream",
     "text": [
      "0.38611558004143565\n",
      "0.3868100325235246\n",
      "0.38750448500561346\n",
      "0.3881989374877024\n",
      "0.38889338996979134\n",
      "0.3895878424518802\n",
      "0.39028229493396915\n",
      "0.39097674741605803\n",
      "0.39167119989814697\n",
      "0.3923656523802359\n",
      "0.3930601048623248\n",
      "0.3937545573444137\n"
     ]
    },
    {
     "name": "stdout",
     "output_type": "stream",
     "text": [
      "0.3944490098265026\n",
      "0.39514346230859154\n",
      "0.3958379147906804\n",
      "0.39653236727276936\n",
      "0.3972268197548583\n",
      "0.3979212722369472\n",
      "0.3986157247190361\n",
      "0.399310177201125\n",
      "0.40000462968321393\n",
      "0.40069908216530287\n",
      "0.40139353464739175\n"
     ]
    },
    {
     "name": "stdout",
     "output_type": "stream",
     "text": [
      "0.4020879871294807\n",
      "0.40278243961156956\n",
      "0.4034768920936585\n",
      "0.4041713445757474\n",
      "0.4048657970578363\n",
      "0.40556024953992525\n",
      "0.40625470202201414\n",
      "0.40694915450410307\n",
      "0.40764360698619195\n",
      "0.4083380594682809\n"
     ]
    },
    {
     "name": "stdout",
     "output_type": "stream",
     "text": [
      "0.40903251195036977\n",
      "0.4097269644324587\n",
      "0.41042141691454764\n",
      "0.4111158693966365\n",
      "0.41181032187872546\n",
      "0.41250477436081434\n",
      "0.4131992268429033\n",
      "0.4138936793249922\n",
      "0.4145881318070811\n",
      "0.41528258428917003\n"
     ]
    },
    {
     "name": "stdout",
     "output_type": "stream",
     "text": [
      "0.4159770367712589\n",
      "0.41667148925334785\n",
      "0.41736594173543673\n",
      "0.41806039421752567\n",
      "0.4187548466996146\n",
      "0.4194492991817035\n",
      "0.4201437516637924\n",
      "0.4208382041458813\n",
      "0.42153265662797024\n",
      "0.4222271091100591\n",
      "0.42292156159214805\n"
     ]
    },
    {
     "name": "stdout",
     "output_type": "stream",
     "text": [
      "0.423616014074237\n",
      "0.42431046655632587\n",
      "0.4250049190384148\n",
      "0.4256993715205037\n",
      "0.4263938240025926\n",
      "0.42708827648468156\n",
      "0.42778272896677044\n"
     ]
    },
    {
     "name": "stdout",
     "output_type": "stream",
     "text": [
      "0.4284771814488594\n",
      "0.42917163393094826\n",
      "0.4298660864130372\n",
      "0.4305605388951261\n",
      "0.431254991377215\n",
      "0.43194944385930395\n",
      "0.43264389634139283\n",
      "0.43333834882348177\n",
      "0.43403280130557065\n",
      "0.4347272537876596\n"
     ]
    },
    {
     "name": "stdout",
     "output_type": "stream",
     "text": [
      "0.43542170626974847\n",
      "0.4361161587518374\n",
      "0.43681061123392634\n",
      "0.4375050637160152\n",
      "0.43819951619810416\n",
      "0.43889396868019304\n",
      "0.439588421162282\n",
      "0.4402828736443709\n",
      "0.4409773261264598\n",
      "0.4416717786085487\n",
      "0.4423662310906376\n"
     ]
    },
    {
     "name": "stdout",
     "output_type": "stream",
     "text": [
      "0.44306068357272654\n",
      "0.4437551360548154\n",
      "0.44444958853690436\n",
      "0.4451440410189933\n",
      "0.4458384935010822\n",
      "0.4465329459831711\n",
      "0.44722739846526\n",
      "0.44792185094734893\n",
      "0.44861630342943787\n",
      "0.44931075591152675\n",
      "0.4500052083936157\n"
     ]
    },
    {
     "name": "stdout",
     "output_type": "stream",
     "text": [
      "0.45069966087570457\n",
      "0.4513941133577935\n",
      "0.4520885658398824\n",
      "0.4527830183219713\n",
      "0.45347747080406026\n",
      "0.45417192328614914\n",
      "0.4548663757682381\n",
      "0.45556082825032695\n",
      "0.4562552807324159\n",
      "0.45694973321450477\n",
      "0.4576441856965937\n"
     ]
    },
    {
     "name": "stdout",
     "output_type": "stream",
     "text": [
      "0.45833863817868264\n",
      "0.4590330906607715\n",
      "0.45972754314286046\n",
      "0.46042199562494934\n",
      "0.4611164481070383\n",
      "0.4618109005891272\n",
      "0.4625053530712161\n",
      "0.46319980555330503\n",
      "0.4638942580353939\n",
      "0.46458871051748285\n",
      "0.46528316299957173\n"
     ]
    },
    {
     "name": "stdout",
     "output_type": "stream",
     "text": [
      "0.46597761548166067\n",
      "0.4666720679637496\n",
      "0.4673665204458385\n",
      "0.4680609729279274\n",
      "0.4687554254100163\n",
      "0.46944987789210524\n",
      "0.4701443303741941\n",
      "0.47083878285628306\n",
      "0.471533235338372\n",
      "0.4722276878204609\n"
     ]
    },
    {
     "name": "stdout",
     "output_type": "stream",
     "text": [
      "0.4729221403025498\n",
      "0.4736165927846387\n",
      "0.4743110452667276\n",
      "0.47500549774881656\n",
      "0.47569995023090544\n",
      "0.4763944027129944\n",
      "0.47708885519508326\n",
      "0.4777833076771722\n",
      "0.4784777601592611\n",
      "0.47917221264135\n",
      "0.47986666512343895\n"
     ]
    },
    {
     "name": "stdout",
     "output_type": "stream",
     "text": [
      "0.48056111760552783\n",
      "0.48125557008761677\n",
      "0.48195002256970565\n",
      "0.4826444750517946\n",
      "0.48333892753388347\n",
      "0.4840333800159724\n",
      "0.48472783249806134\n",
      "0.4854222849801502\n",
      "0.48611673746223916\n"
     ]
    },
    {
     "name": "stdout",
     "output_type": "stream",
     "text": [
      "0.48681118994432804\n",
      "0.487505642426417\n",
      "0.4882000949085059\n",
      "0.4888945473905948\n",
      "0.48958899987268373\n",
      "0.4902834523547726\n",
      "0.49097790483686155\n",
      "0.4916723573189504\n",
      "0.49236680980103936\n",
      "0.4930612622831283\n",
      "0.4937557147652172\n"
     ]
    },
    {
     "name": "stdout",
     "output_type": "stream",
     "text": [
      "0.4944501672473061\n",
      "0.495144619729395\n",
      "0.49583907221148393\n",
      "0.49653352469357287\n",
      "0.49722797717566175\n",
      "0.4979224296577507\n",
      "0.49861688213983957\n",
      "0.4993113346219285\n",
      "0.5000057871040174\n",
      "0.5007002395861063\n",
      "0.5013946920681952\n"
     ]
    },
    {
     "name": "stdout",
     "output_type": "stream",
     "text": [
      "0.5020891445502842\n",
      "0.5027835970323731\n",
      "0.503478049514462\n",
      "0.5041725019965508\n",
      "0.5048669544786398\n",
      "0.5055614069607287\n",
      "0.5062558594428176\n",
      "0.5069503119249066\n",
      "0.5076447644069955\n",
      "0.5083392168890843\n",
      "0.5090336693711732\n"
     ]
    },
    {
     "name": "stdout",
     "output_type": "stream",
     "text": [
      "0.5097281218532622\n",
      "0.5104225743353511\n",
      "0.51111702681744\n",
      "0.511811479299529\n",
      "0.5125059317816179\n",
      "0.5132003842637067\n",
      "0.5138948367457956\n",
      "0.5145892892278846\n",
      "0.5152837417099735\n",
      "0.5159781941920624\n",
      "0.5166726466741514\n"
     ]
    },
    {
     "name": "stdout",
     "output_type": "stream",
     "text": [
      "0.5173670991562402\n",
      "0.5180615516383291\n",
      "0.5187560041204181\n",
      "0.519450456602507\n",
      "0.5201449090845959\n",
      "0.5208393615666848\n",
      "0.5215338140487737\n",
      "0.5222282665308626\n",
      "0.5229227190129515\n",
      "0.5236171714950405\n",
      "0.5243116239771294\n"
     ]
    },
    {
     "name": "stdout",
     "output_type": "stream",
     "text": [
      "0.5250060764592183\n",
      "0.5257005289413071\n",
      "0.5263949814233961\n",
      "0.527089433905485\n",
      "0.5277838863875739\n",
      "0.5284783388696629\n",
      "0.5291727913517518\n",
      "0.5298672438338407\n",
      "0.5305616963159295\n",
      "0.5312561487980185\n",
      "0.5319506012801074\n",
      "0.5326450537621963\n"
     ]
    },
    {
     "name": "stdout",
     "output_type": "stream",
     "text": [
      "0.5333395062442853\n",
      "0.5340339587263742\n",
      "0.534728411208463\n",
      "0.5354228636905519\n",
      "0.5361173161726409\n",
      "0.5368117686547298\n",
      "0.5375062211368187\n",
      "0.5382006736189077\n",
      "0.5388951261009965\n",
      "0.5395895785830854\n",
      "0.5402840310651744\n"
     ]
    },
    {
     "name": "stdout",
     "output_type": "stream",
     "text": [
      "0.5409784835472633\n",
      "0.5416729360293522\n",
      "0.5423673885114411\n",
      "0.54306184099353\n",
      "0.5437562934756189\n",
      "0.5444507459577078\n",
      "0.5451451984397968\n",
      "0.5458396509218857\n",
      "0.5465341034039746\n",
      "0.5472285558860635\n",
      "0.5479230083681524\n"
     ]
    },
    {
     "name": "stdout",
     "output_type": "stream",
     "text": [
      "0.5486174608502413\n",
      "0.5493119133323302\n",
      "0.5500063658144192\n",
      "0.5507008182965081\n",
      "0.551395270778597\n",
      "0.5520897232606858\n",
      "0.5527841757427748\n",
      "0.5534786282248637\n",
      "0.5541730807069526\n",
      "0.5548675331890416\n"
     ]
    },
    {
     "name": "stdout",
     "output_type": "stream",
     "text": [
      "0.5555619856711305\n",
      "0.5562564381532193\n",
      "0.5569508906353082\n",
      "0.5576453431173972\n",
      "0.5583397955994861\n",
      "0.559034248081575\n",
      "0.559728700563664\n",
      "0.5604231530457529\n",
      "0.5611176055278417\n",
      "0.5618120580099307\n",
      "0.5625065104920196\n",
      "0.5632009629741085\n"
     ]
    },
    {
     "name": "stdout",
     "output_type": "stream",
     "text": [
      "0.5638954154561974\n",
      "0.5645898679382864\n",
      "0.5652843204203752\n",
      "0.5659787729024641\n",
      "0.5666732253845531\n",
      "0.567367677866642\n",
      "0.5680621303487309\n",
      "0.5687565828308198\n",
      "0.5694510353129087\n",
      "0.5701454877949976\n"
     ]
    },
    {
     "name": "stdout",
     "output_type": "stream",
     "text": [
      "0.5708399402770865\n",
      "0.5715343927591755\n",
      "0.5722288452412644\n",
      "0.5729232977233533\n",
      "0.5736177502054421\n",
      "0.5743122026875311\n",
      "0.57500665516962\n",
      "0.5757011076517089\n"
     ]
    },
    {
     "name": "stdout",
     "output_type": "stream",
     "text": [
      "0.5763955601337979\n",
      "0.5770900126158868\n",
      "0.5777844650979757\n",
      "0.5784789175800645\n",
      "0.5791733700621535\n",
      "0.5798678225442424\n",
      "0.5805622750263313\n",
      "0.5812567275084203\n",
      "0.5819511799905092\n"
     ]
    },
    {
     "name": "stdout",
     "output_type": "stream",
     "text": [
      "0.582645632472598\n",
      "0.5833400849546869\n",
      "0.5840345374367759\n",
      "0.5847289899188648\n",
      "0.5854234424009537\n",
      "0.5861178948830427\n",
      "0.5868123473651315\n",
      "0.5875067998472204\n",
      "0.5882012523293094\n",
      "0.5888957048113983\n"
     ]
    },
    {
     "name": "stdout",
     "output_type": "stream",
     "text": [
      "0.5895901572934872\n",
      "0.5902846097755761\n",
      "0.590979062257665\n",
      "0.5916735147397539\n",
      "0.5923679672218428\n",
      "0.5930624197039318\n",
      "0.5937568721860207\n",
      "0.5944513246681096\n",
      "0.5951457771501985\n",
      "0.5958402296322874\n",
      "0.5965346821143763\n",
      "0.5972291345964652\n"
     ]
    },
    {
     "name": "stdout",
     "output_type": "stream",
     "text": [
      "0.5979235870785542\n",
      "0.5986180395606431\n",
      "0.599312492042732\n",
      "0.6000069445248208\n",
      "0.6007013970069098\n",
      "0.6013958494889987\n",
      "0.6020903019710876\n",
      "0.6027847544531766\n",
      "0.6034792069352655\n",
      "0.6041736594173543\n",
      "0.6048681118994432\n"
     ]
    },
    {
     "name": "stdout",
     "output_type": "stream",
     "text": [
      "0.6055625643815322\n",
      "0.6062570168636211\n",
      "0.60695146934571\n",
      "0.607645921827799\n",
      "0.6083403743098879\n",
      "0.6090348267919767\n",
      "0.6097292792740657\n",
      "0.6104237317561546\n",
      "0.6111181842382435\n"
     ]
    },
    {
     "name": "stdout",
     "output_type": "stream",
     "text": [
      "0.6118126367203324\n",
      "0.6125070892024214\n",
      "0.6132015416845102\n",
      "0.6138959941665991\n",
      "0.6145904466486881\n",
      "0.615284899130777\n",
      "0.6159793516128659\n",
      "0.6166738040949548\n",
      "0.6173682565770438\n",
      "0.6180627090591326\n",
      "0.6187571615412215\n"
     ]
    },
    {
     "name": "stdout",
     "output_type": "stream",
     "text": [
      "0.6194516140233105\n",
      "0.6201460665053994\n",
      "0.6208405189874883\n",
      "0.6215349714695771\n",
      "0.6222294239516661\n",
      "0.622923876433755\n",
      "0.6236183289158439\n",
      "0.6243127813979329\n",
      "0.6250072338800218\n",
      "0.6257016863621107\n"
     ]
    },
    {
     "name": "stdout",
     "output_type": "stream",
     "text": [
      "0.6263961388441995\n",
      "0.6270905913262885\n",
      "0.6277850438083774\n",
      "0.6284794962904663\n",
      "0.6291739487725553\n",
      "0.6298684012546442\n",
      "0.630562853736733\n",
      "0.6312573062188219\n",
      "0.6319517587009109\n",
      "0.6326462111829998\n"
     ]
    },
    {
     "name": "stdout",
     "output_type": "stream",
     "text": [
      "0.6333406636650887\n",
      "0.6340351161471777\n",
      "0.6347295686292665\n",
      "0.6354240211113554\n",
      "0.6361184735934444\n",
      "0.6368129260755333\n",
      "0.6375073785576222\n",
      "0.6382018310397111\n",
      "0.6388962835218001\n"
     ]
    },
    {
     "name": "stdout",
     "output_type": "stream",
     "text": [
      "0.6395907360038889\n",
      "0.6402851884859778\n",
      "0.6409796409680668\n",
      "0.6416740934501557\n",
      "0.6423685459322446\n",
      "0.6430629984143335\n",
      "0.6437574508964224\n",
      "0.6444519033785113\n",
      "0.6451463558606002\n",
      "0.6458408083426892\n"
     ]
    },
    {
     "name": "stdout",
     "output_type": "stream",
     "text": [
      "0.6465352608247781\n",
      "0.647229713306867\n",
      "0.6479241657889558\n",
      "0.6486186182710448\n",
      "0.6493130707531337\n",
      "0.6500075232352226\n",
      "0.6507019757173116\n",
      "0.6513964281994005\n",
      "0.6520908806814893\n",
      "0.6527853331635782\n",
      "0.6534797856456672\n"
     ]
    },
    {
     "name": "stdout",
     "output_type": "stream",
     "text": [
      "0.6541742381277561\n",
      "0.654868690609845\n",
      "0.655563143091934\n",
      "0.6562575955740229\n",
      "0.6569520480561117\n",
      "0.6576465005382007\n",
      "0.6583409530202896\n",
      "0.6590354055023785\n",
      "0.6597298579844674\n",
      "0.6604243104665564\n"
     ]
    },
    {
     "name": "stdout",
     "output_type": "stream",
     "text": [
      "0.6611187629486452\n",
      "0.6618132154307341\n",
      "0.6625076679128231\n",
      "0.663202120394912\n",
      "0.6638965728770009\n",
      "0.6645910253590898\n",
      "0.6652854778411788\n"
     ]
    },
    {
     "name": "stdout",
     "output_type": "stream",
     "text": [
      "0.6659799303232676\n",
      "0.6666743828053565\n",
      "0.6673688352874455\n",
      "0.6680632877695344\n",
      "0.6687577402516233\n",
      "0.6694521927337121\n",
      "0.6701466452158011\n",
      "0.67084109769789\n",
      "0.6715355501799789\n",
      "0.6722300026620679\n"
     ]
    },
    {
     "name": "stdout",
     "output_type": "stream",
     "text": [
      "0.6729244551441568\n",
      "0.6736189076262457\n",
      "0.6743133601083345\n",
      "0.6750078125904235\n",
      "0.6757022650725124\n",
      "0.6763967175546013\n",
      "0.6770911700366903\n",
      "0.6777856225187792\n",
      "0.678480075000868\n",
      "0.6791745274829569\n",
      "0.6798689799650459\n"
     ]
    },
    {
     "name": "stdout",
     "output_type": "stream",
     "text": [
      "0.6805634324471348\n",
      "0.6812578849292237\n",
      "0.6819523374113127\n",
      "0.6826467898934016\n",
      "0.6833412423754904\n",
      "0.6840356948575794\n",
      "0.6847301473396683\n",
      "0.6854245998217572\n",
      "0.6861190523038461\n"
     ]
    },
    {
     "name": "stdout",
     "output_type": "stream",
     "text": [
      "0.6868135047859351\n",
      "0.6875079572680239\n",
      "0.6882024097501128\n",
      "0.6888968622322018\n",
      "0.6895913147142907\n",
      "0.6902857671963796\n",
      "0.6909802196784685\n",
      "0.6916746721605574\n",
      "0.6923691246426463\n"
     ]
    },
    {
     "name": "stdout",
     "output_type": "stream",
     "text": [
      "0.6930635771247352\n",
      "0.6937580296068242\n",
      "0.6944524820889131\n",
      "0.695146934571002\n",
      "0.6958413870530908\n",
      "0.6965358395351798\n",
      "0.6972302920172687\n",
      "0.6979247444993576\n",
      "0.6986191969814466\n",
      "0.6993136494635355\n"
     ]
    },
    {
     "name": "stdout",
     "output_type": "stream",
     "text": [
      "0.7000081019456244\n",
      "0.7007025544277132\n",
      "0.7013970069098022\n",
      "0.7020914593918911\n",
      "0.70278591187398\n",
      "0.703480364356069\n",
      "0.7041748168381579\n",
      "0.7048692693202467\n",
      "0.7055637218023357\n",
      "0.7062581742844246\n"
     ]
    },
    {
     "name": "stdout",
     "output_type": "stream",
     "text": [
      "0.7069526267665135\n",
      "0.7076470792486024\n",
      "0.7083415317306914\n",
      "0.7090359842127802\n",
      "0.7097304366948691\n",
      "0.7104248891769581\n",
      "0.711119341659047\n",
      "0.7118137941411359\n"
     ]
    },
    {
     "name": "stdout",
     "output_type": "stream",
     "text": [
      "0.7125082466232248\n",
      "0.7132026991053138\n",
      "0.7138971515874026\n",
      "0.7145916040694915\n",
      "0.7152860565515805\n",
      "0.7159805090336694\n",
      "0.7166749615157583\n",
      "0.7173694139978471\n",
      "0.7180638664799361\n",
      "0.718758318962025\n",
      "0.7194527714441139\n"
     ]
    },
    {
     "name": "stdout",
     "output_type": "stream",
     "text": [
      "0.7201472239262029\n",
      "0.7208416764082918\n",
      "0.7215361288903807\n",
      "0.7222305813724695\n",
      "0.7229250338545585\n",
      "0.7236194863366474\n",
      "0.7243139388187363\n",
      "0.7250083913008253\n",
      "0.7257028437829142\n",
      "0.726397296265003\n"
     ]
    },
    {
     "name": "stdout",
     "output_type": "stream",
     "text": [
      "0.7270917487470919\n",
      "0.7277862012291809\n",
      "0.7284806537112698\n",
      "0.7291751061933587\n",
      "0.7298695586754477\n",
      "0.7305640111575366\n",
      "0.7312584636396254\n",
      "0.7319529161217144\n"
     ]
    },
    {
     "name": "stdout",
     "output_type": "stream",
     "text": [
      "0.7326473686038033\n",
      "0.7333418210858922\n",
      "0.7340362735679811\n",
      "0.7347307260500701\n",
      "0.7354251785321589\n",
      "0.7361196310142478\n",
      "0.7368140834963368\n",
      "0.7375085359784257\n",
      "0.7382029884605146\n"
     ]
    },
    {
     "name": "stdout",
     "output_type": "stream",
     "text": [
      "0.7388974409426035\n",
      "0.7395918934246924\n",
      "0.7402863459067813\n",
      "0.7409807983888702\n",
      "0.7416752508709592\n",
      "0.7423697033530481\n",
      "0.743064155835137\n",
      "0.7437586083172258\n",
      "0.7444530607993148\n",
      "0.7451475132814037\n",
      "0.7458419657634926\n"
     ]
    },
    {
     "name": "stdout",
     "output_type": "stream",
     "text": [
      "0.7465364182455816\n",
      "0.7472308707276705\n",
      "0.7479253232097594\n",
      "0.7486197756918482\n",
      "0.7493142281739372\n",
      "0.7500086806560261\n",
      "0.750703133138115\n",
      "0.751397585620204\n",
      "0.7520920381022929\n"
     ]
    },
    {
     "name": "stdout",
     "output_type": "stream",
     "text": [
      "0.7527864905843817\n",
      "0.7534809430664707\n",
      "0.7541753955485596\n",
      "0.7548698480306485\n",
      "0.7555643005127374\n",
      "0.7562587529948264\n",
      "0.7569532054769152\n",
      "0.7576476579590041\n",
      "0.7583421104410931\n",
      "0.759036562923182\n",
      "0.7597310154052709\n",
      "0.7604254678873598\n"
     ]
    },
    {
     "name": "stdout",
     "output_type": "stream",
     "text": [
      "0.7611199203694488\n",
      "0.7618143728515376\n",
      "0.7625088253336265\n",
      "0.7632032778157155\n",
      "0.7638977302978044\n",
      "0.7645921827798933\n",
      "0.7652866352619822\n",
      "0.7659810877440711\n",
      "0.76667554022616\n",
      "0.7673699927082489\n"
     ]
    },
    {
     "name": "stdout",
     "output_type": "stream",
     "text": [
      "0.7680644451903379\n",
      "0.7687588976724268\n",
      "0.7694533501545157\n",
      "0.7701478026366045\n",
      "0.7708422551186935\n",
      "0.7715367076007824\n",
      "0.7722311600828713\n",
      "0.7729256125649603\n",
      "0.7736200650470492\n",
      "0.774314517529138\n"
     ]
    },
    {
     "name": "stdout",
     "output_type": "stream",
     "text": [
      "0.7750089700112269\n",
      "0.7757034224933159\n",
      "0.7763978749754048\n",
      "0.7770923274574937\n",
      "0.7777867799395827\n",
      "0.7784812324216716\n",
      "0.7791756849037604\n",
      "0.7798701373858494\n",
      "0.7805645898679383\n",
      "0.7812590423500272\n",
      "0.7819534948321161\n"
     ]
    },
    {
     "name": "stdout",
     "output_type": "stream",
     "text": [
      "0.7826479473142051\n",
      "0.7833423997962939\n",
      "0.7840368522783828\n",
      "0.7847313047604718\n",
      "0.7854257572425607\n",
      "0.7861202097246496\n",
      "0.7868146622067385\n",
      "0.7875091146888274\n",
      "0.7882035671709163\n",
      "0.7888980196530052\n",
      "0.7895924721350942\n",
      "0.7902869246171831\n"
     ]
    },
    {
     "name": "stdout",
     "output_type": "stream",
     "text": [
      "0.790981377099272\n",
      "0.7916758295813608\n",
      "0.7923702820634498\n",
      "0.7930647345455387\n",
      "0.7937591870276276\n",
      "0.7944536395097166\n",
      "0.7951480919918055\n",
      "0.7958425444738944\n"
     ]
    },
    {
     "name": "stdout",
     "output_type": "stream",
     "text": [
      "0.7965369969559832\n",
      "0.7972314494380722\n",
      "0.7979259019201611\n",
      "0.79862035440225\n",
      "0.799314806884339\n",
      "0.8000092593664279\n",
      "0.8007037118485167\n",
      "0.8013981643306057\n",
      "0.8020926168126946\n",
      "0.8027870692947835\n",
      "0.8034815217768724\n"
     ]
    },
    {
     "name": "stdout",
     "output_type": "stream",
     "text": [
      "0.8041759742589614\n",
      "0.8048704267410502\n",
      "0.8055648792231391\n",
      "0.8062593317052281\n",
      "0.806953784187317\n",
      "0.8076482366694059\n",
      "0.8083426891514948\n",
      "0.8090371416335838\n",
      "0.8097315941156726\n",
      "0.8104260465977615\n",
      "0.8111204990798505\n",
      "0.8118149515619394\n"
     ]
    },
    {
     "name": "stdout",
     "output_type": "stream",
     "text": [
      "0.8125094040440283\n",
      "0.8132038565261172\n",
      "0.8138983090082061\n",
      "0.814592761490295\n",
      "0.8152872139723839\n",
      "0.8159816664544729\n",
      "0.8166761189365618\n",
      "0.8173705714186507\n",
      "0.8180650239007395\n",
      "0.8187594763828285\n",
      "0.8194539288649174\n",
      "0.8201483813470063\n"
     ]
    },
    {
     "name": "stdout",
     "output_type": "stream",
     "text": [
      "0.8208428338290953\n",
      "0.8215372863111842\n",
      "0.822231738793273\n",
      "0.8229261912753619\n",
      "0.8236206437574509\n",
      "0.8243150962395398\n",
      "0.8250095487216287\n",
      "0.8257040012037177\n",
      "0.8263984536858066\n",
      "0.8270929061678954\n",
      "0.8277873586499844\n",
      "0.8284818111320733\n"
     ]
    },
    {
     "name": "stdout",
     "output_type": "stream",
     "text": [
      "0.8291762636141622\n",
      "0.8298707160962511\n",
      "0.8305651685783401\n",
      "0.8312596210604289\n",
      "0.8319540735425178\n",
      "0.8326485260246068\n",
      "0.8333429785066957\n",
      "0.8340374309887846\n",
      "0.8347318834708735\n",
      "0.8354263359529625\n",
      "0.8361207884350513\n",
      "0.8368152409171402\n"
     ]
    },
    {
     "name": "stdout",
     "output_type": "stream",
     "text": [
      "0.8375096933992292\n",
      "0.8382041458813181\n",
      "0.838898598363407\n",
      "0.8395930508454958\n",
      "0.8402875033275848\n",
      "0.8409819558096737\n",
      "0.8416764082917626\n",
      "0.8423708607738516\n",
      "0.8430653132559405\n",
      "0.8437597657380294\n",
      "0.8444542182201182\n"
     ]
    },
    {
     "name": "stdout",
     "output_type": "stream",
     "text": [
      "0.8451486707022072\n",
      "0.8458431231842961\n",
      "0.846537575666385\n",
      "0.847232028148474\n",
      "0.8479264806305629\n",
      "0.8486209331126517\n",
      "0.8493153855947407\n",
      "0.8500098380768296\n",
      "0.8507042905589185\n",
      "0.8513987430410074\n",
      "0.8520931955230964\n"
     ]
    },
    {
     "name": "stdout",
     "output_type": "stream",
     "text": [
      "0.8527876480051853\n",
      "0.8534821004872741\n",
      "0.8541765529693631\n",
      "0.854871005451452\n",
      "0.8555654579335409\n",
      "0.8562599104156298\n",
      "0.8569543628977188\n",
      "0.8576488153798076\n",
      "0.8583432678618965\n",
      "0.8590377203439855\n",
      "0.8597321728260744\n",
      "0.8604266253081633\n"
     ]
    },
    {
     "name": "stdout",
     "output_type": "stream",
     "text": [
      "0.8611210777902522\n",
      "0.8618155302723411\n",
      "0.86250998275443\n",
      "0.8632044352365189\n",
      "0.8638988877186079\n",
      "0.8645933402006968\n",
      "0.8652877926827857\n",
      "0.8659822451648745\n",
      "0.8666766976469635\n",
      "0.8673711501290524\n",
      "0.8680656026111413\n"
     ]
    },
    {
     "name": "stdout",
     "output_type": "stream",
     "text": [
      "0.8687600550932303\n",
      "0.8694545075753192\n",
      "0.870148960057408\n",
      "0.8708434125394969\n",
      "0.8715378650215859\n",
      "0.8722323175036748\n",
      "0.8729267699857637\n",
      "0.8736212224678527\n",
      "0.8743156749499416\n",
      "0.8750101274320304\n",
      "0.8757045799141194\n"
     ]
    },
    {
     "name": "stdout",
     "output_type": "stream",
     "text": [
      "0.8763990323962083\n",
      "0.8770934848782972\n",
      "0.8777879373603861\n",
      "0.8784823898424751\n",
      "0.879176842324564\n",
      "0.8798712948066528\n",
      "0.8805657472887418\n",
      "0.8812601997708307\n"
     ]
    },
    {
     "name": "stdout",
     "output_type": "stream",
     "text": [
      "0.8819546522529196\n",
      "0.8826491047350085\n",
      "0.8833435572170975\n",
      "0.8840380096991863\n",
      "0.8847324621812752\n",
      "0.8854269146633642\n",
      "0.8861213671454531\n",
      "0.886815819627542\n",
      "0.8875102721096308\n",
      "0.8882047245917198\n"
     ]
    },
    {
     "name": "stdout",
     "output_type": "stream",
     "text": [
      "0.8888991770738087\n",
      "0.8895936295558976\n",
      "0.8902880820379866\n",
      "0.8909825345200755\n",
      "0.8916769870021644\n",
      "0.8923714394842532\n",
      "0.8930658919663422\n",
      "0.8937603444484311\n",
      "0.89445479693052\n",
      "0.895149249412609\n",
      "0.8958437018946979\n"
     ]
    },
    {
     "name": "stdout",
     "output_type": "stream",
     "text": [
      "0.8965381543767867\n",
      "0.8972326068588757\n",
      "0.8979270593409646\n",
      "0.8986215118230535\n",
      "0.8993159643051424\n",
      "0.9000104167872314\n",
      "0.9007048692693203\n",
      "0.9013993217514091\n",
      "0.9020937742334981\n",
      "0.902788226715587\n"
     ]
    },
    {
     "name": "stdout",
     "output_type": "stream",
     "text": [
      "0.9034826791976759\n",
      "0.9041771316797648\n",
      "0.9048715841618538\n",
      "0.9055660366439426\n",
      "0.9062604891260315\n",
      "0.9069549416081205\n",
      "0.9076493940902094\n",
      "0.9083438465722983\n",
      "0.9090382990543872\n",
      "0.9097327515364761\n"
     ]
    },
    {
     "name": "stdout",
     "output_type": "stream",
     "text": [
      "0.910427204018565\n",
      "0.9111216565006539\n",
      "0.9118161089827429\n",
      "0.9125105614648318\n",
      "0.9132050139469207\n",
      "0.9138994664290095\n",
      "0.9145939189110985\n",
      "0.9152883713931874\n",
      "0.9159828238752763\n",
      "0.9166772763573653\n",
      "0.9173717288394542\n",
      "0.918066181321543\n"
     ]
    },
    {
     "name": "stdout",
     "output_type": "stream",
     "text": [
      "0.9187606338036319\n",
      "0.9194550862857209\n",
      "0.9201495387678098\n",
      "0.9208439912498987\n",
      "0.9215384437319877\n",
      "0.9222328962140766\n",
      "0.9229273486961654\n",
      "0.9236218011782544\n",
      "0.9243162536603433\n",
      "0.9250107061424322\n",
      "0.9257051586245211\n"
     ]
    },
    {
     "name": "stdout",
     "output_type": "stream",
     "text": [
      "0.9263996111066101\n",
      "0.927094063588699\n",
      "0.9277885160707878\n",
      "0.9284829685528768\n",
      "0.9291774210349657\n",
      "0.9298718735170546\n",
      "0.9305663259991435\n",
      "0.9312607784812325\n",
      "0.9319552309633213\n",
      "0.9326496834454102\n",
      "0.9333441359274992\n"
     ]
    },
    {
     "name": "stdout",
     "output_type": "stream",
     "text": [
      "0.9340385884095881\n",
      "0.934733040891677\n",
      "0.9354274933737659\n",
      "0.9361219458558548\n",
      "0.9368163983379437\n",
      "0.9375108508200326\n",
      "0.9382053033021216\n",
      "0.9388997557842105\n",
      "0.9395942082662994\n",
      "0.9402886607483882\n",
      "0.9409831132304772\n"
     ]
    },
    {
     "name": "stdout",
     "output_type": "stream",
     "text": [
      "0.9416775657125661\n",
      "0.942372018194655\n",
      "0.943066470676744\n",
      "0.9437609231588329\n",
      "0.9444553756409217\n",
      "0.9451498281230107\n",
      "0.9458442806050996\n",
      "0.9465387330871885\n",
      "0.9472331855692774\n"
     ]
    },
    {
     "name": "stdout",
     "output_type": "stream",
     "text": [
      "0.9479276380513664\n",
      "0.9486220905334553\n",
      "0.9493165430155441\n",
      "0.9500109954976331\n",
      "0.950705447979722\n",
      "0.9513999004618109\n",
      "0.9520943529438998\n",
      "0.9527888054259888\n",
      "0.9534832579080776\n",
      "0.9541777103901665\n",
      "0.9548721628722555\n"
     ]
    },
    {
     "name": "stdout",
     "output_type": "stream",
     "text": [
      "0.9555666153543444\n",
      "0.9562610678364333\n",
      "0.9569555203185222\n",
      "0.9576499728006111\n",
      "0.9583444252827\n",
      "0.9590388777647889\n",
      "0.9597333302468779\n",
      "0.9604277827289668\n",
      "0.9611222352110557\n",
      "0.9618166876931445\n"
     ]
    },
    {
     "name": "stdout",
     "output_type": "stream",
     "text": [
      "0.9625111401752335\n",
      "0.9632055926573224\n",
      "0.9639000451394113\n",
      "0.9645944976215003\n",
      "0.9652889501035892\n",
      "0.965983402585678\n",
      "0.9666778550677669\n",
      "0.9673723075498559\n",
      "0.9680667600319448\n",
      "0.9687612125140337\n",
      "0.9694556649961227\n"
     ]
    },
    {
     "name": "stdout",
     "output_type": "stream",
     "text": [
      "0.9701501174782116\n",
      "0.9708445699603004\n",
      "0.9715390224423894\n",
      "0.9722334749244783\n",
      "0.9729279274065672\n",
      "0.9736223798886561\n",
      "0.9743168323707451\n",
      "0.975011284852834\n",
      "0.9757057373349228\n",
      "0.9764001898170118\n",
      "0.9770946422991007\n"
     ]
    },
    {
     "name": "stdout",
     "output_type": "stream",
     "text": [
      "0.9777890947811896\n",
      "0.9784835472632785\n",
      "0.9791779997453675\n",
      "0.9798724522274563\n",
      "0.9805669047095452\n",
      "0.9812613571916342\n",
      "0.9819558096737231\n",
      "0.982650262155812\n",
      "0.9833447146379009\n",
      "0.9840391671199898\n",
      "0.9847336196020787\n"
     ]
    },
    {
     "name": "stdout",
     "output_type": "stream",
     "text": [
      "0.9854280720841676\n",
      "0.9861225245662566\n",
      "0.9868169770483455\n",
      "0.9875114295304344\n",
      "0.9882058820125232\n",
      "0.9889003344946122\n",
      "0.9895947869767011\n",
      "0.99028923945879\n",
      "0.990983691940879\n",
      "0.9916781444229679\n",
      "0.9923725969050567\n",
      "0.9930670493871457\n"
     ]
    },
    {
     "name": "stdout",
     "output_type": "stream",
     "text": [
      "0.9937615018692346\n",
      "0.9944559543513235\n",
      "0.9951504068334124\n",
      "0.9958448593155014\n",
      "0.9965393117975903\n",
      "0.9972337642796791\n",
      "0.9979282167617681\n",
      "0.998622669243857\n",
      "\ttoileting\n",
      "['wc_17', 'sink_21']\n",
      "\t\twc_17\n",
      "Raw stream_obj: (1440,)\n",
      "\t\tsink_21\n",
      "Raw stream_obj: (1440,)\n",
      "condition: (wc_17 > tA)  # (wc_17 < tA)\n",
      "parsed_expression: [[['wc_17', '>', 'tA'], '#', ['wc_17', '<', 'tA']]]\n",
      "Evaluating  toileting [['wc_17', '>', 'tA'], '#', ['wc_17', '<', 'tA']]\n",
      "Evaluating  toileting ['wc_17', '>', 'tA']\n",
      "Evaluating  toileting wc_17\n",
      "Evaluating  toileting tA\n",
      "\t wc_17  op: > tA\n",
      "Evaluating  toileting ['wc_17', '<', 'tA']\n",
      "Evaluating  toileting wc_17\n",
      "Evaluating  toileting tA\n",
      "\t wc_17  op: < tA\n",
      "\t (wc_17 > tA)  op: # (wc_17 < tA)\n",
      "evaluated_expression (wc_17 > tA)  # (wc_17 < tA) ((wc_17 > tA) # (wc_17 < tA))\n",
      "condition: (sink_21 > tA)  # (sink_21 < tA)\n"
     ]
    },
    {
     "name": "stdout",
     "output_type": "stream",
     "text": [
      "parsed_expression: [[['sink_21', '>', 'tA'], '#', ['sink_21', '<', 'tA']]]\n",
      "Evaluating  toileting [['sink_21', '>', 'tA'], '#', ['sink_21', '<', 'tA']]\n",
      "Evaluating  toileting ['sink_21', '>', 'tA']\n",
      "Evaluating  toileting sink_21\n",
      "Evaluating  toileting tA\n",
      "\t sink_21  op: > tA\n",
      "Evaluating  toileting ['sink_21', '<', 'tA']\n",
      "Evaluating  toileting sink_21\n",
      "Evaluating  toileting tA\n",
      "\t sink_21  op: < tA\n",
      "\t (sink_21 > tA)  op: # (sink_21 < tA)\n",
      "evaluated_expression (sink_21 > tA)  # (sink_21 < tA) ((sink_21 > tA) # (sink_21 < tA))\n",
      "condition: wc_tA + sink_tA\n",
      "parsed_expression: [['wc_tA', '+', 'sink_tA']]\n",
      "Evaluating  toileting ['wc_tA', '+', 'sink_tA']\n",
      "Evaluating  toileting wc_tA\n",
      "Evaluating  toileting sink_tA\n",
      "\t wc_tA  op: + sink_tA\n",
      "evaluated_expression wc_tA + sink_tA (wc_tA + sink_tA)\n",
      "0.0006944524820889131\n",
      "0.0013889049641778262\n",
      "0.0020833574462667394\n",
      "0.0027778099283556523\n",
      "0.0034722624104445653\n",
      "0.004166714892533479\n",
      "0.004861167374622392\n",
      "0.005555619856711305\n",
      "0.006250072338800218\n",
      "0.006944524820889131\n"
     ]
    },
    {
     "name": "stdout",
     "output_type": "stream",
     "text": [
      "0.007638977302978044\n",
      "0.008333429785066957\n",
      "0.00902788226715587\n",
      "0.009722334749244783\n",
      "0.010416787231333696\n",
      "0.01111123971342261\n",
      "0.011805692195511521\n",
      "0.012500144677600435\n",
      "0.013194597159689347\n",
      "0.013889049641778261\n",
      "0.014583502123867175\n",
      "0.015277954605956087\n"
     ]
    },
    {
     "name": "stdout",
     "output_type": "stream",
     "text": [
      "0.015972407088045\n",
      "0.016666859570133915\n",
      "0.017361312052222827\n",
      "0.01805576453431174\n",
      "0.01875021701640065\n",
      "0.019444669498489567\n",
      "0.02013912198057848\n"
     ]
    },
    {
     "name": "stdout",
     "output_type": "stream",
     "text": [
      "0.02083357446266739\n",
      "0.021528026944756307\n",
      "0.02222247942684522\n",
      "0.02291693190893413\n",
      "0.023611384391023043\n",
      "0.02430583687311196\n",
      "0.02500028935520087\n"
     ]
    },
    {
     "name": "stdout",
     "output_type": "stream",
     "text": [
      "0.025694741837289783\n",
      "0.026389194319378695\n",
      "0.02708364680146761\n",
      "0.027778099283556523\n",
      "0.028472551765645435\n",
      "0.02916700424773435\n",
      "0.029861456729823262\n",
      "0.030555909211912174\n",
      "0.03125036169400109\n",
      "0.03194481417609\n",
      "0.032639266658178914\n"
     ]
    },
    {
     "name": "stdout",
     "output_type": "stream",
     "text": [
      "0.03333371914026783\n",
      "0.03402817162235674\n",
      "0.034722624104445654\n",
      "0.03541707658653457\n",
      "0.03611152906862348\n",
      "0.036805981550712394\n",
      "0.0375004340328013\n",
      "0.03819488651489022\n",
      "0.038889338996979134\n"
     ]
    },
    {
     "name": "stdout",
     "output_type": "stream",
     "text": [
      "0.03958379147906804\n",
      "0.04027824396115696\n",
      "0.04097269644324587\n",
      "0.04166714892533478\n",
      "0.0423616014074237\n",
      "0.04305605388951261\n",
      "0.04375050637160152\n",
      "0.04444495885369044\n",
      "0.045139411335779346\n",
      "0.04583386381786826\n",
      "0.04652831629995718\n"
     ]
    },
    {
     "name": "stdout",
     "output_type": "stream",
     "text": [
      "0.047222768782046086\n",
      "0.047917221264135\n",
      "0.04861167374622392\n",
      "0.049306126228312826\n",
      "0.05000057871040174\n",
      "0.05069503119249066\n",
      "0.051389483674579566\n",
      "0.05208393615666848\n",
      "0.05277838863875739\n",
      "0.053472841120846305\n",
      "0.05416729360293522\n",
      "0.05486174608502413\n"
     ]
    },
    {
     "name": "stdout",
     "output_type": "stream",
     "text": [
      "0.055556198567113045\n",
      "0.05625065104920196\n",
      "0.05694510353129087\n",
      "0.057639556013379785\n",
      "0.0583340084954687\n",
      "0.05902846097755761\n",
      "0.059722913459646525\n",
      "0.06041736594173543\n",
      "0.06111181842382435\n",
      "0.061806270905913265\n",
      "0.06250072338800218\n"
     ]
    },
    {
     "name": "stdout",
     "output_type": "stream",
     "text": [
      "0.06319517587009109\n",
      "0.06388962835218\n",
      "0.06458408083426892\n",
      "0.06527853331635783\n",
      "0.06597298579844674\n",
      "0.06666743828053566\n",
      "0.06736189076262457\n",
      "0.06805634324471348\n",
      "0.0687507957268024\n",
      "0.06944524820889131\n"
     ]
    },
    {
     "name": "stdout",
     "output_type": "stream",
     "text": [
      "0.07013970069098022\n",
      "0.07083415317306914\n",
      "0.07152860565515805\n",
      "0.07222305813724696\n",
      "0.07291751061933587\n",
      "0.07361196310142479\n",
      "0.0743064155835137\n",
      "0.0750008680656026\n",
      "0.07569532054769153\n",
      "0.07638977302978044\n",
      "0.07708422551186934\n"
     ]
    },
    {
     "name": "stdout",
     "output_type": "stream",
     "text": [
      "0.07777867799395827\n",
      "0.07847313047604718\n",
      "0.07916758295813608\n",
      "0.07986203544022501\n",
      "0.08055648792231392\n",
      "0.08125094040440282\n",
      "0.08194539288649175\n",
      "0.08263984536858066\n",
      "0.08333429785066956\n",
      "0.08402875033275849\n",
      "0.0847232028148474\n"
     ]
    },
    {
     "name": "stdout",
     "output_type": "stream",
     "text": [
      "0.0854176552969363\n",
      "0.08611210777902523\n",
      "0.08680656026111414\n",
      "0.08750101274320304\n",
      "0.08819546522529197\n",
      "0.08888991770738087\n",
      "0.08958437018946978\n",
      "0.09027882267155869\n",
      "0.09097327515364761\n",
      "0.09166772763573652\n"
     ]
    },
    {
     "name": "stdout",
     "output_type": "stream",
     "text": [
      "0.09236218011782543\n",
      "0.09305663259991435\n",
      "0.09375108508200326\n",
      "0.09444553756409217\n",
      "0.0951399900461811\n",
      "0.09583444252827\n",
      "0.09652889501035891\n",
      "0.09722334749244783\n",
      "0.09791779997453674\n",
      "0.09861225245662565\n",
      "0.09930670493871457\n"
     ]
    },
    {
     "name": "stdout",
     "output_type": "stream",
     "text": [
      "0.10000115742080348\n",
      "0.10069560990289239\n",
      "0.10139006238498131\n",
      "0.10208451486707022\n",
      "0.10277896734915913\n",
      "0.10347341983124805\n",
      "0.10416787231333696\n",
      "0.10486232479542587\n",
      "0.10555677727751478\n",
      "0.1062512297596037\n",
      "0.10694568224169261\n",
      "0.10764013472378152\n"
     ]
    },
    {
     "name": "stdout",
     "output_type": "stream",
     "text": [
      "0.10833458720587044\n",
      "0.10902903968795935\n",
      "0.10972349217004826\n",
      "0.11041794465213718\n",
      "0.11111239713422609\n",
      "0.111806849616315\n",
      "0.11250130209840392\n",
      "0.11319575458049283\n",
      "0.11389020706258174\n",
      "0.11458465954467066\n",
      "0.11527911202675957\n"
     ]
    },
    {
     "name": "stdout",
     "output_type": "stream",
     "text": [
      "0.11597356450884848\n",
      "0.1166680169909374\n",
      "0.11736246947302631\n",
      "0.11805692195511522\n",
      "0.11875137443720414\n",
      "0.11944582691929305\n",
      "0.12014027940138196\n",
      "0.12083473188347087\n",
      "0.12152918436555979\n",
      "0.1222236368476487\n"
     ]
    },
    {
     "name": "stdout",
     "output_type": "stream",
     "text": [
      "0.1229180893297376\n",
      "0.12361254181182653\n",
      "0.12430699429391544\n",
      "0.12500144677600436\n",
      "0.12569589925809327\n",
      "0.12639035174018218\n",
      "0.12708480422227109\n",
      "0.12777925670436\n",
      "0.1284737091864489\n",
      "0.12916816166853784\n",
      "0.12986261415062675\n"
     ]
    },
    {
     "name": "stdout",
     "output_type": "stream",
     "text": [
      "0.13055706663271566\n",
      "0.13125151911480457\n",
      "0.13194597159689347\n",
      "0.13264042407898238\n",
      "0.13333487656107132\n",
      "0.13402932904316023\n",
      "0.13472378152524914\n",
      "0.13541823400733805\n",
      "0.13611268648942695\n",
      "0.13680713897151586\n"
     ]
    },
    {
     "name": "stdout",
     "output_type": "stream",
     "text": [
      "0.1375015914536048\n",
      "0.1381960439356937\n",
      "0.13889049641778262\n",
      "0.13958494889987152\n",
      "0.14027940138196043\n",
      "0.14097385386404934\n",
      "0.14166830634613828\n",
      "0.1423627588282272\n",
      "0.1430572113103161\n",
      "0.143751663792405\n"
     ]
    },
    {
     "name": "stdout",
     "output_type": "stream",
     "text": [
      "0.1444461162744939\n",
      "0.14514056875658282\n",
      "0.14583502123867173\n",
      "0.14652947372076067\n",
      "0.14722392620284958\n",
      "0.14791837868493848\n",
      "0.1486128311670274\n",
      "0.1493072836491163\n",
      "0.1500017361312052\n",
      "0.15069618861329415\n"
     ]
    },
    {
     "name": "stdout",
     "output_type": "stream",
     "text": [
      "0.15139064109538306\n",
      "0.15208509357747196\n",
      "0.15277954605956087\n",
      "0.15347399854164978\n",
      "0.1541684510237387\n",
      "0.15486290350582763\n",
      "0.15555735598791653\n",
      "0.15625180847000544\n",
      "0.15694626095209435\n",
      "0.15764071343418326\n",
      "0.15833516591627217\n"
     ]
    },
    {
     "name": "stdout",
     "output_type": "stream",
     "text": [
      "0.1590296183983611\n",
      "0.15972407088045001\n",
      "0.16041852336253892\n",
      "0.16111297584462783\n",
      "0.16180742832671674\n",
      "0.16250188080880565\n",
      "0.16319633329089456\n",
      "0.1638907857729835\n",
      "0.1645852382550724\n",
      "0.1652796907371613\n",
      "0.16597414321925022\n",
      "0.16666859570133913\n"
     ]
    },
    {
     "name": "stdout",
     "output_type": "stream",
     "text": [
      "0.16736304818342804\n",
      "0.16805750066551697\n",
      "0.16875195314760588\n",
      "0.1694464056296948\n",
      "0.1701408581117837\n",
      "0.1708353105938726\n",
      "0.17152976307596152\n",
      "0.17222421555805045\n",
      "0.17291866804013936\n",
      "0.17361312052222827\n",
      "0.17430757300431718\n",
      "0.1750020254864061\n"
     ]
    },
    {
     "name": "stdout",
     "output_type": "stream",
     "text": [
      "0.175696477968495\n",
      "0.17639093045058393\n",
      "0.17708538293267284\n",
      "0.17777983541476175\n",
      "0.17847428789685066\n",
      "0.17916874037893957\n",
      "0.17986319286102848\n",
      "0.18055764534311738\n",
      "0.18125209782520632\n",
      "0.18194655030729523\n",
      "0.18264100278938414\n",
      "0.18333545527147305\n"
     ]
    },
    {
     "name": "stdout",
     "output_type": "stream",
     "text": [
      "0.18402990775356196\n",
      "0.18472436023565086\n",
      "0.1854188127177398\n",
      "0.1861132651998287\n",
      "0.18680771768191762\n",
      "0.18750217016400653\n",
      "0.18819662264609544\n",
      "0.18889107512818434\n",
      "0.18958552761027328\n",
      "0.1902799800923622\n"
     ]
    },
    {
     "name": "stdout",
     "output_type": "stream",
     "text": [
      "0.1909744325744511\n",
      "0.19166888505654\n",
      "0.19236333753862891\n",
      "0.19305779002071782\n",
      "0.19375224250280673\n",
      "0.19444669498489567\n",
      "0.19514114746698458\n",
      "0.19583559994907349\n",
      "0.1965300524311624\n",
      "0.1972245049132513\n",
      "0.1979189573953402\n",
      "0.19861340987742915\n"
     ]
    },
    {
     "name": "stdout",
     "output_type": "stream",
     "text": [
      "0.19930786235951806\n",
      "0.20000231484160697\n",
      "0.20069676732369587\n",
      "0.20139121980578478\n",
      "0.2020856722878737\n",
      "0.20278012476996263\n",
      "0.20347457725205154\n",
      "0.20416902973414044\n",
      "0.20486348221622935\n",
      "0.20555793469831826\n"
     ]
    },
    {
     "name": "stdout",
     "output_type": "stream",
     "text": [
      "0.20625238718040717\n",
      "0.2069468396624961\n",
      "0.20764129214458502\n",
      "0.20833574462667392\n",
      "0.20903019710876283\n",
      "0.20972464959085174\n",
      "0.21041910207294065\n",
      "0.21111355455502956\n",
      "0.2118080070371185\n",
      "0.2125024595192074\n"
     ]
    },
    {
     "name": "stdout",
     "output_type": "stream",
     "text": [
      "0.2131969120012963\n",
      "0.21389136448338522\n",
      "0.21458581696547413\n",
      "0.21528026944756304\n",
      "0.21597472192965197\n",
      "0.21666917441174088\n",
      "0.2173636268938298\n",
      "0.2180580793759187\n",
      "0.2187525318580076\n",
      "0.21944698434009652\n",
      "0.22014143682218545\n"
     ]
    },
    {
     "name": "stdout",
     "output_type": "stream",
     "text": [
      "0.22083588930427436\n",
      "0.22153034178636327\n",
      "0.22222479426845218\n",
      "0.2229192467505411\n",
      "0.22361369923263\n",
      "0.22430815171471893\n",
      "0.22500260419680784\n",
      "0.22569705667889675\n",
      "0.22639150916098566\n"
     ]
    },
    {
     "name": "stdout",
     "output_type": "stream",
     "text": [
      "0.22708596164307457\n",
      "0.22778041412516348\n",
      "0.22847486660725239\n",
      "0.22916931908934132\n",
      "0.22986377157143023\n",
      "0.23055822405351914\n",
      "0.23125267653560805\n",
      "0.23194712901769696\n"
     ]
    },
    {
     "name": "stdout",
     "output_type": "stream",
     "text": [
      "0.23264158149978587\n",
      "0.2333360339818748\n",
      "0.2340304864639637\n",
      "0.23472493894605262\n",
      "0.23541939142814153\n",
      "0.23611384391023044\n",
      "0.23680829639231935\n",
      "0.23750274887440828\n",
      "0.2381972013564972\n"
     ]
    },
    {
     "name": "stdout",
     "output_type": "stream",
     "text": [
      "0.2388916538385861\n",
      "0.239586106320675\n",
      "0.24028055880276392\n",
      "0.24097501128485282\n",
      "0.24166946376694173\n",
      "0.24236391624903067\n",
      "0.24305836873111958\n",
      "0.2437528212132085\n",
      "0.2444472736952974\n",
      "0.2451417261773863\n",
      "0.2458361786594752\n"
     ]
    },
    {
     "name": "stdout",
     "output_type": "stream",
     "text": [
      "0.24653063114156415\n",
      "0.24722508362365306\n",
      "0.24791953610574197\n",
      "0.24861398858783088\n",
      "0.24930844106991978\n",
      "0.2500028935520087\n",
      "0.2506973460340976\n",
      "0.25139179851618654\n"
     ]
    },
    {
     "name": "stdout",
     "output_type": "stream",
     "text": [
      "0.2520862509982754\n",
      "0.25278070348036435\n",
      "0.2534751559624533\n",
      "0.25416960844454217\n",
      "0.2548640609266311\n",
      "0.25555851340872\n",
      "0.2562529658908089\n",
      "0.2569474183728978\n",
      "0.25764187085498674\n",
      "0.2583363233370757\n",
      "0.25903077581916456\n"
     ]
    },
    {
     "name": "stdout",
     "output_type": "stream",
     "text": [
      "0.2597252283012535\n",
      "0.2604196807833424\n",
      "0.2611141332654313\n",
      "0.26180858574752025\n",
      "0.26250303822960913\n",
      "0.26319749071169807\n",
      "0.26389194319378695\n",
      "0.2645863956758759\n",
      "0.26528084815796477\n",
      "0.2659753006400537\n",
      "0.26666975312214264\n"
     ]
    },
    {
     "name": "stdout",
     "output_type": "stream",
     "text": [
      "0.2673642056042315\n",
      "0.26805865808632046\n",
      "0.26875311056840934\n",
      "0.2694475630504983\n",
      "0.2701420155325872\n",
      "0.2708364680146761\n",
      "0.271530920496765\n",
      "0.2722253729788539\n",
      "0.27291982546094284\n",
      "0.2736142779430317\n",
      "0.27430873042512066\n"
     ]
    },
    {
     "name": "stdout",
     "output_type": "stream",
     "text": [
      "0.2750031829072096\n",
      "0.2756976353892985\n",
      "0.2763920878713874\n",
      "0.2770865403534763\n",
      "0.27778099283556523\n",
      "0.2784754453176541\n",
      "0.27916989779974305\n",
      "0.279864350281832\n",
      "0.28055880276392087\n",
      "0.2812532552460098\n"
     ]
    },
    {
     "name": "stdout",
     "output_type": "stream",
     "text": [
      "0.2819477077280987\n",
      "0.2826421602101876\n",
      "0.28333661269227656\n",
      "0.28403106517436544\n",
      "0.2847255176564544\n",
      "0.28541997013854326\n",
      "0.2861144226206322\n",
      "0.2868088751027211\n",
      "0.28750332758481\n",
      "0.28819778006689895\n",
      "0.2888922325489878\n"
     ]
    },
    {
     "name": "stdout",
     "output_type": "stream",
     "text": [
      "0.28958668503107676\n",
      "0.29028113751316564\n",
      "0.2909755899952546\n",
      "0.29167004247734346\n",
      "0.2923644949594324\n",
      "0.29305894744152133\n",
      "0.2937533999236102\n",
      "0.29444785240569915\n",
      "0.29514230488778803\n",
      "0.29583675736987697\n",
      "0.2965312098519659\n"
     ]
    },
    {
     "name": "stdout",
     "output_type": "stream",
     "text": [
      "0.2972256623340548\n",
      "0.2979201148161437\n",
      "0.2986145672982326\n",
      "0.29930901978032154\n",
      "0.3000034722624104\n",
      "0.30069792474449936\n",
      "0.3013923772265883\n",
      "0.3020868297086772\n",
      "0.3027812821907661\n"
     ]
    },
    {
     "name": "stdout",
     "output_type": "stream",
     "text": [
      "0.303475734672855\n",
      "0.3041701871549439\n",
      "0.30486463963703286\n",
      "0.30555909211912174\n",
      "0.3062535446012107\n",
      "0.30694799708329956\n",
      "0.3076424495653885\n",
      "0.3083369020474774\n",
      "0.3090313545295663\n",
      "0.30972580701165525\n",
      "0.31042025949374413\n"
     ]
    },
    {
     "name": "stdout",
     "output_type": "stream",
     "text": [
      "0.31111471197583307\n",
      "0.31180916445792195\n",
      "0.3125036169400109\n",
      "0.31319806942209977\n",
      "0.3138925219041887\n",
      "0.31458697438627764\n",
      "0.3152814268683665\n",
      "0.31597587935045546\n",
      "0.31667033183254434\n",
      "0.3173647843146333\n",
      "0.3180592367967222\n",
      "0.3187536892788111\n"
     ]
    },
    {
     "name": "stdout",
     "output_type": "stream",
     "text": [
      "0.31944814176090003\n",
      "0.3201425942429889\n",
      "0.32083704672507785\n",
      "0.3215314992071667\n",
      "0.32222595168925566\n",
      "0.3229204041713446\n",
      "0.3236148566534335\n",
      "0.3243093091355224\n",
      "0.3250037616176113\n",
      "0.32569821409970023\n"
     ]
    },
    {
     "name": "stdout",
     "output_type": "stream",
     "text": [
      "0.3263926665817891\n",
      "0.32708711906387805\n",
      "0.327781571545967\n",
      "0.32847602402805587\n",
      "0.3291704765101448\n",
      "0.3298649289922337\n",
      "0.3305593814743226\n",
      "0.33125383395641156\n",
      "0.33194828643850044\n",
      "0.3326427389205894\n"
     ]
    },
    {
     "name": "stdout",
     "output_type": "stream",
     "text": [
      "0.33333719140267826\n",
      "0.3340316438847672\n",
      "0.3347260963668561\n",
      "0.335420548848945\n",
      "0.33611500133103395\n",
      "0.3368094538131228\n",
      "0.33750390629521176\n",
      "0.33819835877730064\n",
      "0.3388928112593896\n",
      "0.33958726374147846\n"
     ]
    },
    {
     "name": "stdout",
     "output_type": "stream",
     "text": [
      "0.3402817162235674\n",
      "0.34097616870565634\n",
      "0.3416706211877452\n",
      "0.34236507366983415\n",
      "0.34305952615192303\n",
      "0.34375397863401197\n",
      "0.3444484311161009\n",
      "0.3451428835981898\n",
      "0.3458373360802787\n",
      "0.3465317885623676\n",
      "0.34722624104445654\n"
     ]
    },
    {
     "name": "stdout",
     "output_type": "stream",
     "text": [
      "0.3479206935265454\n",
      "0.34861514600863436\n",
      "0.3493095984907233\n",
      "0.3500040509728122\n",
      "0.3506985034549011\n",
      "0.35139295593699\n",
      "0.35208740841907893\n",
      "0.35278186090116787\n",
      "0.35347631338325675\n",
      "0.3541707658653457\n",
      "0.35486521834743456\n"
     ]
    },
    {
     "name": "stdout",
     "output_type": "stream",
     "text": [
      "0.3555596708295235\n",
      "0.3562541233116124\n",
      "0.3569485757937013\n",
      "0.35764302827579025\n",
      "0.35833748075787913\n",
      "0.35903193323996807\n",
      "0.35972638572205695\n",
      "0.3604208382041459\n",
      "0.36111529068623477\n",
      "0.3618097431683237\n"
     ]
    },
    {
     "name": "stdout",
     "output_type": "stream",
     "text": [
      "0.36250419565041264\n",
      "0.3631986481325015\n",
      "0.36389310061459046\n",
      "0.36458755309667934\n",
      "0.3652820055787683\n",
      "0.3659764580608572\n",
      "0.3666709105429461\n",
      "0.36736536302503503\n",
      "0.3680598155071239\n",
      "0.36875426798921285\n",
      "0.36944872047130173\n"
     ]
    },
    {
     "name": "stdout",
     "output_type": "stream",
     "text": [
      "0.37014317295339066\n",
      "0.3708376254354796\n",
      "0.3715320779175685\n",
      "0.3722265303996574\n",
      "0.3729209828817463\n",
      "0.37361543536383524\n",
      "0.3743098878459241\n",
      "0.37500434032801305\n",
      "0.375698792810102\n",
      "0.37639324529219087\n",
      "0.3770876977742798\n"
     ]
    },
    {
     "name": "stdout",
     "output_type": "stream",
     "text": [
      "0.3777821502563687\n",
      "0.3784766027384576\n",
      "0.37917105522054656\n",
      "0.37986550770263544\n",
      "0.3805599601847244\n",
      "0.38125441266681326\n",
      "0.3819488651489022\n",
      "0.3826433176309911\n",
      "0.38333777011308\n",
      "0.38403222259516895\n",
      "0.38472667507725783\n",
      "0.38542112755934677\n"
     ]
    },
    {
     "name": "stdout",
     "output_type": "stream",
     "text": [
      "0.38611558004143565\n",
      "0.3868100325235246\n",
      "0.38750448500561346\n",
      "0.3881989374877024\n",
      "0.38889338996979134\n",
      "0.3895878424518802\n",
      "0.39028229493396915\n",
      "0.39097674741605803\n",
      "0.39167119989814697\n",
      "0.3923656523802359\n",
      "0.3930601048623248\n",
      "0.3937545573444137\n"
     ]
    },
    {
     "name": "stdout",
     "output_type": "stream",
     "text": [
      "0.3944490098265026\n",
      "0.39514346230859154\n",
      "0.3958379147906804\n",
      "0.39653236727276936\n",
      "0.3972268197548583\n",
      "0.3979212722369472\n",
      "0.3986157247190361\n",
      "0.399310177201125\n",
      "0.40000462968321393\n",
      "0.40069908216530287\n",
      "0.40139353464739175\n"
     ]
    },
    {
     "name": "stdout",
     "output_type": "stream",
     "text": [
      "0.4020879871294807\n",
      "0.40278243961156956\n",
      "0.4034768920936585\n",
      "0.4041713445757474\n",
      "0.4048657970578363\n",
      "0.40556024953992525\n",
      "0.40625470202201414\n",
      "0.40694915450410307\n",
      "0.40764360698619195\n",
      "0.4083380594682809\n",
      "0.40903251195036977\n"
     ]
    },
    {
     "name": "stdout",
     "output_type": "stream",
     "text": [
      "0.4097269644324587\n",
      "0.41042141691454764\n",
      "0.4111158693966365\n",
      "0.41181032187872546\n",
      "0.41250477436081434\n",
      "0.4131992268429033\n",
      "0.4138936793249922\n",
      "0.4145881318070811\n",
      "0.41528258428917003\n",
      "0.4159770367712589\n",
      "0.41667148925334785\n"
     ]
    },
    {
     "name": "stdout",
     "output_type": "stream",
     "text": [
      "0.41736594173543673\n",
      "0.41806039421752567\n",
      "0.4187548466996146\n",
      "0.4194492991817035\n",
      "0.4201437516637924\n",
      "0.4208382041458813\n",
      "0.42153265662797024\n",
      "0.4222271091100591\n",
      "0.42292156159214805\n",
      "0.423616014074237\n",
      "0.42431046655632587\n"
     ]
    },
    {
     "name": "stdout",
     "output_type": "stream",
     "text": [
      "0.4250049190384148\n",
      "0.4256993715205037\n",
      "0.4263938240025926\n",
      "0.42708827648468156\n",
      "0.42778272896677044\n",
      "0.4284771814488594\n",
      "0.42917163393094826\n",
      "0.4298660864130372\n",
      "0.4305605388951261\n",
      "0.431254991377215\n",
      "0.43194944385930395\n",
      "0.43264389634139283\n"
     ]
    },
    {
     "name": "stdout",
     "output_type": "stream",
     "text": [
      "0.43333834882348177\n",
      "0.43403280130557065\n",
      "0.4347272537876596\n",
      "0.43542170626974847\n",
      "0.4361161587518374\n",
      "0.43681061123392634\n",
      "0.4375050637160152\n",
      "0.43819951619810416\n",
      "0.43889396868019304\n"
     ]
    },
    {
     "name": "stdout",
     "output_type": "stream",
     "text": [
      "0.439588421162282\n",
      "0.4402828736443709\n",
      "0.4409773261264598\n",
      "0.4416717786085487\n",
      "0.4423662310906376\n",
      "0.44306068357272654\n",
      "0.4437551360548154\n",
      "0.44444958853690436\n",
      "0.4451440410189933\n",
      "0.4458384935010822\n"
     ]
    },
    {
     "name": "stdout",
     "output_type": "stream",
     "text": [
      "0.4465329459831711\n",
      "0.44722739846526\n",
      "0.44792185094734893\n",
      "0.44861630342943787\n",
      "0.44931075591152675\n",
      "0.4500052083936157\n",
      "0.45069966087570457\n",
      "0.4513941133577935\n",
      "0.4520885658398824\n",
      "0.4527830183219713\n",
      "0.45347747080406026\n"
     ]
    },
    {
     "name": "stdout",
     "output_type": "stream",
     "text": [
      "0.45417192328614914\n",
      "0.4548663757682381\n",
      "0.45556082825032695\n",
      "0.4562552807324159\n",
      "0.45694973321450477\n",
      "0.4576441856965937\n",
      "0.45833863817868264\n",
      "0.4590330906607715\n",
      "0.45972754314286046\n",
      "0.46042199562494934\n",
      "0.4611164481070383\n"
     ]
    },
    {
     "name": "stdout",
     "output_type": "stream",
     "text": [
      "0.4618109005891272\n",
      "0.4625053530712161\n",
      "0.46319980555330503\n",
      "0.4638942580353939\n",
      "0.46458871051748285\n",
      "0.46528316299957173\n",
      "0.46597761548166067\n",
      "0.4666720679637496\n",
      "0.4673665204458385\n",
      "0.4680609729279274\n",
      "0.4687554254100163\n"
     ]
    },
    {
     "name": "stdout",
     "output_type": "stream",
     "text": [
      "0.46944987789210524\n",
      "0.4701443303741941\n",
      "0.47083878285628306\n",
      "0.471533235338372\n",
      "0.4722276878204609\n",
      "0.4729221403025498\n",
      "0.4736165927846387\n",
      "0.4743110452667276\n",
      "0.47500549774881656\n",
      "0.47569995023090544\n",
      "0.4763944027129944\n"
     ]
    },
    {
     "name": "stdout",
     "output_type": "stream",
     "text": [
      "0.47708885519508326\n",
      "0.4777833076771722\n",
      "0.4784777601592611\n",
      "0.47917221264135\n",
      "0.47986666512343895\n",
      "0.48056111760552783\n",
      "0.48125557008761677\n",
      "0.48195002256970565\n",
      "0.4826444750517946\n",
      "0.48333892753388347\n",
      "0.4840333800159724\n"
     ]
    },
    {
     "name": "stdout",
     "output_type": "stream",
     "text": [
      "0.48472783249806134\n",
      "0.4854222849801502\n",
      "0.48611673746223916\n",
      "0.48681118994432804\n",
      "0.487505642426417\n",
      "0.4882000949085059\n",
      "0.4888945473905948\n",
      "0.48958899987268373\n",
      "0.4902834523547726\n",
      "0.49097790483686155\n"
     ]
    },
    {
     "name": "stdout",
     "output_type": "stream",
     "text": [
      "0.4916723573189504\n",
      "0.49236680980103936\n",
      "0.4930612622831283\n",
      "0.4937557147652172\n",
      "0.4944501672473061\n",
      "0.495144619729395\n",
      "0.49583907221148393\n",
      "0.49653352469357287\n",
      "0.49722797717566175\n",
      "0.4979224296577507\n",
      "0.49861688213983957\n",
      "0.4993113346219285\n"
     ]
    },
    {
     "name": "stdout",
     "output_type": "stream",
     "text": [
      "0.5000057871040174\n",
      "0.5007002395861063\n",
      "0.5013946920681952\n",
      "0.5020891445502842\n",
      "0.5027835970323731\n",
      "0.503478049514462\n",
      "0.5041725019965508\n",
      "0.5048669544786398\n",
      "0.5055614069607287\n",
      "0.5062558594428176\n",
      "0.5069503119249066\n"
     ]
    },
    {
     "name": "stdout",
     "output_type": "stream",
     "text": [
      "0.5076447644069955\n",
      "0.5083392168890843\n",
      "0.5090336693711732\n",
      "0.5097281218532622\n",
      "0.5104225743353511\n",
      "0.51111702681744\n",
      "0.511811479299529\n",
      "0.5125059317816179\n",
      "0.5132003842637067\n",
      "0.5138948367457956\n",
      "0.5145892892278846\n"
     ]
    },
    {
     "name": "stdout",
     "output_type": "stream",
     "text": [
      "0.5152837417099735\n",
      "0.5159781941920624\n",
      "0.5166726466741514\n",
      "0.5173670991562402\n",
      "0.5180615516383291\n",
      "0.5187560041204181\n",
      "0.519450456602507\n",
      "0.5201449090845959\n",
      "0.5208393615666848\n",
      "0.5215338140487737\n",
      "0.5222282665308626\n",
      "0.5229227190129515\n"
     ]
    },
    {
     "name": "stdout",
     "output_type": "stream",
     "text": [
      "0.5236171714950405\n",
      "0.5243116239771294\n",
      "0.5250060764592183\n",
      "0.5257005289413071\n",
      "0.5263949814233961\n",
      "0.527089433905485\n",
      "0.5277838863875739\n",
      "0.5284783388696629\n",
      "0.5291727913517518\n",
      "0.5298672438338407\n",
      "0.5305616963159295\n"
     ]
    },
    {
     "name": "stdout",
     "output_type": "stream",
     "text": [
      "0.5312561487980185\n",
      "0.5319506012801074\n",
      "0.5326450537621963\n",
      "0.5333395062442853\n",
      "0.5340339587263742\n",
      "0.534728411208463\n"
     ]
    },
    {
     "name": "stdout",
     "output_type": "stream",
     "text": [
      "0.5354228636905519\n",
      "0.5361173161726409\n",
      "0.5368117686547298\n",
      "0.5375062211368187\n",
      "0.5382006736189077\n",
      "0.5388951261009965\n",
      "0.5395895785830854\n",
      "0.5402840310651744\n",
      "0.5409784835472633\n",
      "0.5416729360293522\n",
      "0.5423673885114411\n"
     ]
    },
    {
     "name": "stdout",
     "output_type": "stream",
     "text": [
      "0.54306184099353\n",
      "0.5437562934756189\n",
      "0.5444507459577078\n",
      "0.5451451984397968\n",
      "0.5458396509218857\n",
      "0.5465341034039746\n",
      "0.5472285558860635\n",
      "0.5479230083681524\n",
      "0.5486174608502413\n",
      "0.5493119133323302\n",
      "0.5500063658144192\n"
     ]
    },
    {
     "name": "stdout",
     "output_type": "stream",
     "text": [
      "0.5507008182965081\n",
      "0.551395270778597\n",
      "0.5520897232606858\n",
      "0.5527841757427748\n",
      "0.5534786282248637\n",
      "0.5541730807069526\n",
      "0.5548675331890416\n",
      "0.5555619856711305\n",
      "0.5562564381532193\n"
     ]
    },
    {
     "name": "stdout",
     "output_type": "stream",
     "text": [
      "0.5569508906353082\n",
      "0.5576453431173972\n",
      "0.5583397955994861\n",
      "0.559034248081575\n",
      "0.559728700563664\n",
      "0.5604231530457529\n",
      "0.5611176055278417\n",
      "0.5618120580099307\n",
      "0.5625065104920196\n",
      "0.5632009629741085\n"
     ]
    },
    {
     "name": "stdout",
     "output_type": "stream",
     "text": [
      "0.5638954154561974\n",
      "0.5645898679382864\n",
      "0.5652843204203752\n",
      "0.5659787729024641\n",
      "0.5666732253845531\n",
      "0.567367677866642\n",
      "0.5680621303487309\n",
      "0.5687565828308198\n",
      "0.5694510353129087\n",
      "0.5701454877949976\n",
      "0.5708399402770865\n"
     ]
    },
    {
     "name": "stdout",
     "output_type": "stream",
     "text": [
      "0.5715343927591755\n",
      "0.5722288452412644\n",
      "0.5729232977233533\n",
      "0.5736177502054421\n",
      "0.5743122026875311\n",
      "0.57500665516962\n",
      "0.5757011076517089\n",
      "0.5763955601337979\n",
      "0.5770900126158868\n",
      "0.5777844650979757\n",
      "0.5784789175800645\n"
     ]
    },
    {
     "name": "stdout",
     "output_type": "stream",
     "text": [
      "0.5791733700621535\n",
      "0.5798678225442424\n",
      "0.5805622750263313\n",
      "0.5812567275084203\n",
      "0.5819511799905092\n",
      "0.582645632472598\n",
      "0.5833400849546869\n",
      "0.5840345374367759\n",
      "0.5847289899188648\n",
      "0.5854234424009537\n",
      "0.5861178948830427\n",
      "0.5868123473651315\n"
     ]
    },
    {
     "name": "stdout",
     "output_type": "stream",
     "text": [
      "0.5875067998472204\n",
      "0.5882012523293094\n",
      "0.5888957048113983\n",
      "0.5895901572934872\n",
      "0.5902846097755761\n",
      "0.590979062257665\n",
      "0.5916735147397539\n",
      "0.5923679672218428\n",
      "0.5930624197039318\n",
      "0.5937568721860207\n",
      "0.5944513246681096\n"
     ]
    },
    {
     "name": "stdout",
     "output_type": "stream",
     "text": [
      "0.5951457771501985\n",
      "0.5958402296322874\n",
      "0.5965346821143763\n",
      "0.5972291345964652\n",
      "0.5979235870785542\n",
      "0.5986180395606431\n",
      "0.599312492042732\n",
      "0.6000069445248208\n",
      "0.6007013970069098\n",
      "0.6013958494889987\n",
      "0.6020903019710876\n"
     ]
    },
    {
     "name": "stdout",
     "output_type": "stream",
     "text": [
      "0.6027847544531766\n",
      "0.6034792069352655\n",
      "0.6041736594173543\n",
      "0.6048681118994432\n",
      "0.6055625643815322\n",
      "0.6062570168636211\n",
      "0.60695146934571\n",
      "0.607645921827799\n",
      "0.6083403743098879\n",
      "0.6090348267919767\n"
     ]
    },
    {
     "name": "stdout",
     "output_type": "stream",
     "text": [
      "0.6097292792740657\n",
      "0.6104237317561546\n",
      "0.6111181842382435\n",
      "0.6118126367203324\n",
      "0.6125070892024214\n",
      "0.6132015416845102\n",
      "0.6138959941665991\n",
      "0.6145904466486881\n",
      "0.615284899130777\n",
      "0.6159793516128659\n",
      "0.6166738040949548\n"
     ]
    },
    {
     "name": "stdout",
     "output_type": "stream",
     "text": [
      "0.6173682565770438\n",
      "0.6180627090591326\n",
      "0.6187571615412215\n",
      "0.6194516140233105\n",
      "0.6201460665053994\n",
      "0.6208405189874883\n",
      "0.6215349714695771\n",
      "0.6222294239516661\n",
      "0.622923876433755\n",
      "0.6236183289158439\n",
      "0.6243127813979329\n",
      "0.6250072338800218\n"
     ]
    },
    {
     "name": "stdout",
     "output_type": "stream",
     "text": [
      "0.6257016863621107\n",
      "0.6263961388441995\n",
      "0.6270905913262885\n",
      "0.6277850438083774\n",
      "0.6284794962904663\n",
      "0.6291739487725553\n",
      "0.6298684012546442\n",
      "0.630562853736733\n",
      "0.6312573062188219\n",
      "0.6319517587009109\n",
      "0.6326462111829998\n"
     ]
    },
    {
     "name": "stdout",
     "output_type": "stream",
     "text": [
      "0.6333406636650887\n",
      "0.6340351161471777\n",
      "0.6347295686292665\n",
      "0.6354240211113554\n",
      "0.6361184735934444\n",
      "0.6368129260755333\n",
      "0.6375073785576222\n",
      "0.6382018310397111\n",
      "0.6388962835218001\n",
      "0.6395907360038889\n"
     ]
    },
    {
     "name": "stdout",
     "output_type": "stream",
     "text": [
      "0.6402851884859778\n",
      "0.6409796409680668\n",
      "0.6416740934501557\n",
      "0.6423685459322446\n",
      "0.6430629984143335\n",
      "0.6437574508964224\n",
      "0.6444519033785113\n",
      "0.6451463558606002\n",
      "0.6458408083426892\n",
      "0.6465352608247781\n",
      "0.647229713306867\n"
     ]
    },
    {
     "name": "stdout",
     "output_type": "stream",
     "text": [
      "0.6479241657889558\n",
      "0.6486186182710448\n",
      "0.6493130707531337\n",
      "0.6500075232352226\n",
      "0.6507019757173116\n",
      "0.6513964281994005\n",
      "0.6520908806814893\n",
      "0.6527853331635782\n",
      "0.6534797856456672\n",
      "0.6541742381277561\n"
     ]
    },
    {
     "name": "stdout",
     "output_type": "stream",
     "text": [
      "0.654868690609845\n",
      "0.655563143091934\n",
      "0.6562575955740229\n",
      "0.6569520480561117\n",
      "0.6576465005382007\n",
      "0.6583409530202896\n",
      "0.6590354055023785\n",
      "0.6597298579844674\n",
      "0.6604243104665564\n",
      "0.6611187629486452\n",
      "0.6618132154307341\n",
      "0.6625076679128231\n"
     ]
    },
    {
     "name": "stdout",
     "output_type": "stream",
     "text": [
      "0.663202120394912\n",
      "0.6638965728770009\n",
      "0.6645910253590898\n",
      "0.6652854778411788\n",
      "0.6659799303232676\n",
      "0.6666743828053565\n",
      "0.6673688352874455\n",
      "0.6680632877695344\n",
      "0.6687577402516233\n",
      "0.6694521927337121\n",
      "0.6701466452158011\n"
     ]
    },
    {
     "name": "stdout",
     "output_type": "stream",
     "text": [
      "0.67084109769789\n",
      "0.6715355501799789\n",
      "0.6722300026620679\n",
      "0.6729244551441568\n",
      "0.6736189076262457\n",
      "0.6743133601083345\n",
      "0.6750078125904235\n",
      "0.6757022650725124\n",
      "0.6763967175546013\n",
      "0.6770911700366903\n",
      "0.6777856225187792\n"
     ]
    },
    {
     "name": "stdout",
     "output_type": "stream",
     "text": [
      "0.678480075000868\n",
      "0.6791745274829569\n",
      "0.6798689799650459\n",
      "0.6805634324471348\n",
      "0.6812578849292237\n",
      "0.6819523374113127\n",
      "0.6826467898934016\n",
      "0.6833412423754904\n"
     ]
    },
    {
     "name": "stdout",
     "output_type": "stream",
     "text": [
      "0.6840356948575794\n",
      "0.6847301473396683\n",
      "0.6854245998217572\n",
      "0.6861190523038461\n",
      "0.6868135047859351\n",
      "0.6875079572680239\n",
      "0.6882024097501128\n",
      "0.6888968622322018\n",
      "0.6895913147142907\n",
      "0.6902857671963796\n"
     ]
    },
    {
     "name": "stdout",
     "output_type": "stream",
     "text": [
      "0.6909802196784685\n",
      "0.6916746721605574\n",
      "0.6923691246426463\n",
      "0.6930635771247352\n",
      "0.6937580296068242\n",
      "0.6944524820889131\n",
      "0.695146934571002\n",
      "0.6958413870530908\n",
      "0.6965358395351798\n",
      "0.6972302920172687\n"
     ]
    },
    {
     "name": "stdout",
     "output_type": "stream",
     "text": [
      "0.6979247444993576\n",
      "0.6986191969814466\n",
      "0.6993136494635355\n",
      "0.7000081019456244\n",
      "0.7007025544277132\n",
      "0.7013970069098022\n",
      "0.7020914593918911\n",
      "0.70278591187398\n",
      "0.703480364356069\n",
      "0.7041748168381579\n",
      "0.7048692693202467\n"
     ]
    },
    {
     "name": "stdout",
     "output_type": "stream",
     "text": [
      "0.7055637218023357\n",
      "0.7062581742844246\n",
      "0.7069526267665135\n",
      "0.7076470792486024\n",
      "0.7083415317306914\n",
      "0.7090359842127802\n",
      "0.7097304366948691\n",
      "0.7104248891769581\n",
      "0.711119341659047\n",
      "0.7118137941411359\n",
      "0.7125082466232248\n"
     ]
    },
    {
     "name": "stdout",
     "output_type": "stream",
     "text": [
      "0.7132026991053138\n",
      "0.7138971515874026\n",
      "0.7145916040694915\n",
      "0.7152860565515805\n",
      "0.7159805090336694\n",
      "0.7166749615157583\n",
      "0.7173694139978471\n",
      "0.7180638664799361\n",
      "0.718758318962025\n",
      "0.7194527714441139\n",
      "0.7201472239262029\n"
     ]
    },
    {
     "name": "stdout",
     "output_type": "stream",
     "text": [
      "0.7208416764082918\n",
      "0.7215361288903807\n",
      "0.7222305813724695\n",
      "0.7229250338545585\n",
      "0.7236194863366474\n",
      "0.7243139388187363\n",
      "0.7250083913008253\n",
      "0.7257028437829142\n",
      "0.726397296265003\n",
      "0.7270917487470919\n",
      "0.7277862012291809\n"
     ]
    },
    {
     "name": "stdout",
     "output_type": "stream",
     "text": [
      "0.7284806537112698\n",
      "0.7291751061933587\n",
      "0.7298695586754477\n",
      "0.7305640111575366\n",
      "0.7312584636396254\n",
      "0.7319529161217144\n",
      "0.7326473686038033\n",
      "0.7333418210858922\n",
      "0.7340362735679811\n",
      "0.7347307260500701\n",
      "0.7354251785321589\n"
     ]
    },
    {
     "name": "stdout",
     "output_type": "stream",
     "text": [
      "0.7361196310142478\n",
      "0.7368140834963368\n",
      "0.7375085359784257\n",
      "0.7382029884605146\n",
      "0.7388974409426035\n",
      "0.7395918934246924\n",
      "0.7402863459067813\n",
      "0.7409807983888702\n",
      "0.7416752508709592\n",
      "0.7423697033530481\n",
      "0.743064155835137\n",
      "0.7437586083172258\n"
     ]
    },
    {
     "name": "stdout",
     "output_type": "stream",
     "text": [
      "0.7444530607993148\n",
      "0.7451475132814037\n",
      "0.7458419657634926\n",
      "0.7465364182455816\n",
      "0.7472308707276705\n",
      "0.7479253232097594\n",
      "0.7486197756918482\n",
      "0.7493142281739372\n",
      "0.7500086806560261\n",
      "0.750703133138115\n",
      "0.751397585620204\n"
     ]
    },
    {
     "name": "stdout",
     "output_type": "stream",
     "text": [
      "0.7520920381022929\n",
      "0.7527864905843817\n",
      "0.7534809430664707\n",
      "0.7541753955485596\n",
      "0.7548698480306485\n",
      "0.7555643005127374\n",
      "0.7562587529948264\n",
      "0.7569532054769152\n",
      "0.7576476579590041\n",
      "0.7583421104410931\n",
      "0.759036562923182\n"
     ]
    },
    {
     "name": "stdout",
     "output_type": "stream",
     "text": [
      "0.7597310154052709\n",
      "0.7604254678873598\n",
      "0.7611199203694488\n",
      "0.7618143728515376\n",
      "0.7625088253336265\n",
      "0.7632032778157155\n",
      "0.7638977302978044\n",
      "0.7645921827798933\n",
      "0.7652866352619822\n",
      "0.7659810877440711\n"
     ]
    },
    {
     "name": "stdout",
     "output_type": "stream",
     "text": [
      "0.76667554022616\n",
      "0.7673699927082489\n",
      "0.7680644451903379\n",
      "0.7687588976724268\n",
      "0.7694533501545157\n",
      "0.7701478026366045\n",
      "0.7708422551186935\n",
      "0.7715367076007824\n",
      "0.7722311600828713\n",
      "0.7729256125649603\n",
      "0.7736200650470492\n"
     ]
    },
    {
     "name": "stdout",
     "output_type": "stream",
     "text": [
      "0.774314517529138\n",
      "0.7750089700112269\n",
      "0.7757034224933159\n",
      "0.7763978749754048\n",
      "0.7770923274574937\n",
      "0.7777867799395827\n",
      "0.7784812324216716\n",
      "0.7791756849037604\n",
      "0.7798701373858494\n",
      "0.7805645898679383\n"
     ]
    },
    {
     "name": "stdout",
     "output_type": "stream",
     "text": [
      "0.7812590423500272\n",
      "0.7819534948321161\n",
      "0.7826479473142051\n",
      "0.7833423997962939\n",
      "0.7840368522783828\n",
      "0.7847313047604718\n",
      "0.7854257572425607\n",
      "0.7861202097246496\n",
      "0.7868146622067385\n",
      "0.7875091146888274\n",
      "0.7882035671709163\n"
     ]
    },
    {
     "name": "stdout",
     "output_type": "stream",
     "text": [
      "0.7888980196530052\n",
      "0.7895924721350942\n",
      "0.7902869246171831\n",
      "0.790981377099272\n",
      "0.7916758295813608\n",
      "0.7923702820634498\n",
      "0.7930647345455387\n",
      "0.7937591870276276\n",
      "0.7944536395097166\n",
      "0.7951480919918055\n",
      "0.7958425444738944\n"
     ]
    },
    {
     "name": "stdout",
     "output_type": "stream",
     "text": [
      "0.7965369969559832\n",
      "0.7972314494380722\n",
      "0.7979259019201611\n",
      "0.79862035440225\n",
      "0.799314806884339\n",
      "0.8000092593664279\n",
      "0.8007037118485167\n",
      "0.8013981643306057\n"
     ]
    },
    {
     "name": "stdout",
     "output_type": "stream",
     "text": [
      "0.8020926168126946\n",
      "0.8027870692947835\n",
      "0.8034815217768724\n",
      "0.8041759742589614\n"
     ]
    },
    {
     "name": "stdout",
     "output_type": "stream",
     "text": [
      "0.8048704267410502\n",
      "0.8055648792231391\n",
      "0.8062593317052281\n",
      "0.806953784187317\n",
      "0.8076482366694059\n",
      "0.8083426891514948\n"
     ]
    },
    {
     "name": "stdout",
     "output_type": "stream",
     "text": [
      "0.8090371416335838\n",
      "0.8097315941156726\n",
      "0.8104260465977615\n",
      "0.8111204990798505\n",
      "0.8118149515619394\n",
      "0.8125094040440283\n",
      "0.8132038565261172\n",
      "0.8138983090082061\n",
      "0.814592761490295\n",
      "0.8152872139723839\n"
     ]
    },
    {
     "name": "stdout",
     "output_type": "stream",
     "text": [
      "0.8159816664544729\n",
      "0.8166761189365618\n",
      "0.8173705714186507\n",
      "0.8180650239007395\n",
      "0.8187594763828285\n",
      "0.8194539288649174\n",
      "0.8201483813470063\n",
      "0.8208428338290953\n",
      "0.8215372863111842\n",
      "0.822231738793273\n",
      "0.8229261912753619\n",
      "0.8236206437574509\n"
     ]
    },
    {
     "name": "stdout",
     "output_type": "stream",
     "text": [
      "0.8243150962395398\n",
      "0.8250095487216287\n",
      "0.8257040012037177\n",
      "0.8263984536858066\n",
      "0.8270929061678954\n",
      "0.8277873586499844\n",
      "0.8284818111320733\n",
      "0.8291762636141622\n",
      "0.8298707160962511\n",
      "0.8305651685783401\n",
      "0.8312596210604289\n",
      "0.8319540735425178\n"
     ]
    },
    {
     "name": "stdout",
     "output_type": "stream",
     "text": [
      "0.8326485260246068\n",
      "0.8333429785066957\n",
      "0.8340374309887846\n",
      "0.8347318834708735\n",
      "0.8354263359529625\n",
      "0.8361207884350513\n",
      "0.8368152409171402\n",
      "0.8375096933992292\n",
      "0.8382041458813181\n",
      "0.838898598363407\n"
     ]
    },
    {
     "name": "stdout",
     "output_type": "stream",
     "text": [
      "0.8395930508454958\n",
      "0.8402875033275848\n",
      "0.8409819558096737\n",
      "0.8416764082917626\n",
      "0.8423708607738516\n",
      "0.8430653132559405\n",
      "0.8437597657380294\n",
      "0.8444542182201182\n",
      "0.8451486707022072\n",
      "0.8458431231842961\n",
      "0.846537575666385\n"
     ]
    },
    {
     "name": "stdout",
     "output_type": "stream",
     "text": [
      "0.847232028148474\n",
      "0.8479264806305629\n",
      "0.8486209331126517\n",
      "0.8493153855947407\n",
      "0.8500098380768296\n",
      "0.8507042905589185\n",
      "0.8513987430410074\n",
      "0.8520931955230964\n",
      "0.8527876480051853\n"
     ]
    },
    {
     "name": "stdout",
     "output_type": "stream",
     "text": [
      "0.8534821004872741\n",
      "0.8541765529693631\n",
      "0.854871005451452\n",
      "0.8555654579335409\n",
      "0.8562599104156298\n",
      "0.8569543628977188\n",
      "0.8576488153798076\n",
      "0.8583432678618965\n",
      "0.8590377203439855\n",
      "0.8597321728260744\n",
      "0.8604266253081633\n",
      "0.8611210777902522\n"
     ]
    },
    {
     "name": "stdout",
     "output_type": "stream",
     "text": [
      "0.8618155302723411\n",
      "0.86250998275443\n",
      "0.8632044352365189\n",
      "0.8638988877186079\n",
      "0.8645933402006968\n",
      "0.8652877926827857\n",
      "0.8659822451648745\n",
      "0.8666766976469635\n",
      "0.8673711501290524\n",
      "0.8680656026111413\n"
     ]
    },
    {
     "name": "stdout",
     "output_type": "stream",
     "text": [
      "0.8687600550932303\n",
      "0.8694545075753192\n",
      "0.870148960057408\n",
      "0.8708434125394969\n",
      "0.8715378650215859\n",
      "0.8722323175036748\n",
      "0.8729267699857637\n",
      "0.8736212224678527\n",
      "0.8743156749499416\n",
      "0.8750101274320304\n",
      "0.8757045799141194\n"
     ]
    },
    {
     "name": "stdout",
     "output_type": "stream",
     "text": [
      "0.8763990323962083\n",
      "0.8770934848782972\n",
      "0.8777879373603861\n",
      "0.8784823898424751\n",
      "0.879176842324564\n",
      "0.8798712948066528\n",
      "0.8805657472887418\n",
      "0.8812601997708307\n",
      "0.8819546522529196\n",
      "0.8826491047350085\n",
      "0.8833435572170975\n"
     ]
    },
    {
     "name": "stdout",
     "output_type": "stream",
     "text": [
      "0.8840380096991863\n",
      "0.8847324621812752\n",
      "0.8854269146633642\n",
      "0.8861213671454531\n",
      "0.886815819627542\n",
      "0.8875102721096308\n",
      "0.8882047245917198\n",
      "0.8888991770738087\n",
      "0.8895936295558976\n",
      "0.8902880820379866\n",
      "0.8909825345200755\n",
      "0.8916769870021644\n"
     ]
    },
    {
     "name": "stdout",
     "output_type": "stream",
     "text": [
      "0.8923714394842532\n",
      "0.8930658919663422\n",
      "0.8937603444484311\n",
      "0.89445479693052\n",
      "0.895149249412609\n",
      "0.8958437018946979\n",
      "0.8965381543767867\n",
      "0.8972326068588757\n",
      "0.8979270593409646\n",
      "0.8986215118230535\n"
     ]
    },
    {
     "name": "stdout",
     "output_type": "stream",
     "text": [
      "0.8993159643051424\n",
      "0.9000104167872314\n",
      "0.9007048692693203\n",
      "0.9013993217514091\n",
      "0.9020937742334981\n",
      "0.902788226715587\n",
      "0.9034826791976759\n",
      "0.9041771316797648\n",
      "0.9048715841618538\n",
      "0.9055660366439426\n",
      "0.9062604891260315\n"
     ]
    },
    {
     "name": "stdout",
     "output_type": "stream",
     "text": [
      "0.9069549416081205\n",
      "0.9076493940902094\n",
      "0.9083438465722983\n",
      "0.9090382990543872\n",
      "0.9097327515364761\n",
      "0.910427204018565\n",
      "0.9111216565006539\n",
      "0.9118161089827429\n",
      "0.9125105614648318\n",
      "0.9132050139469207\n",
      "0.9138994664290095\n"
     ]
    },
    {
     "name": "stdout",
     "output_type": "stream",
     "text": [
      "0.9145939189110985\n",
      "0.9152883713931874\n",
      "0.9159828238752763\n",
      "0.9166772763573653\n",
      "0.9173717288394542\n",
      "0.918066181321543\n",
      "0.9187606338036319\n",
      "0.9194550862857209\n",
      "0.9201495387678098\n",
      "0.9208439912498987\n",
      "0.9215384437319877\n"
     ]
    },
    {
     "name": "stdout",
     "output_type": "stream",
     "text": [
      "0.9222328962140766\n",
      "0.9229273486961654\n",
      "0.9236218011782544\n",
      "0.9243162536603433\n",
      "0.9250107061424322\n",
      "0.9257051586245211\n",
      "0.9263996111066101\n",
      "0.927094063588699\n",
      "0.9277885160707878\n",
      "0.9284829685528768\n",
      "0.9291774210349657\n"
     ]
    },
    {
     "name": "stdout",
     "output_type": "stream",
     "text": [
      "0.9298718735170546\n",
      "0.9305663259991435\n",
      "0.9312607784812325\n",
      "0.9319552309633213\n",
      "0.9326496834454102\n",
      "0.9333441359274992\n",
      "0.9340385884095881\n",
      "0.934733040891677\n",
      "0.9354274933737659\n",
      "0.9361219458558548\n",
      "0.9368163983379437\n"
     ]
    },
    {
     "name": "stdout",
     "output_type": "stream",
     "text": [
      "0.9375108508200326\n",
      "0.9382053033021216\n",
      "0.9388997557842105\n",
      "0.9395942082662994\n",
      "0.9402886607483882\n",
      "0.9409831132304772\n",
      "0.9416775657125661\n",
      "0.942372018194655\n",
      "0.943066470676744\n",
      "0.9437609231588329\n",
      "0.9444553756409217\n"
     ]
    },
    {
     "name": "stdout",
     "output_type": "stream",
     "text": [
      "0.9451498281230107\n",
      "0.9458442806050996\n",
      "0.9465387330871885\n",
      "0.9472331855692774\n",
      "0.9479276380513664\n",
      "0.9486220905334553\n",
      "0.9493165430155441\n",
      "0.9500109954976331\n",
      "0.950705447979722\n",
      "0.9513999004618109\n",
      "0.9520943529438998\n"
     ]
    },
    {
     "name": "stdout",
     "output_type": "stream",
     "text": [
      "0.9527888054259888\n",
      "0.9534832579080776\n",
      "0.9541777103901665\n",
      "0.9548721628722555\n",
      "0.9555666153543444\n",
      "0.9562610678364333\n",
      "0.9569555203185222\n"
     ]
    },
    {
     "name": "stdout",
     "output_type": "stream",
     "text": [
      "0.9576499728006111\n",
      "0.9583444252827\n",
      "0.9590388777647889\n",
      "0.9597333302468779\n",
      "0.9604277827289668\n",
      "0.9611222352110557\n",
      "0.9618166876931445\n",
      "0.9625111401752335\n",
      "0.9632055926573224\n",
      "0.9639000451394113\n"
     ]
    },
    {
     "name": "stdout",
     "output_type": "stream",
     "text": [
      "0.9645944976215003\n",
      "0.9652889501035892\n",
      "0.965983402585678\n",
      "0.9666778550677669\n",
      "0.9673723075498559\n",
      "0.9680667600319448\n",
      "0.9687612125140337\n",
      "0.9694556649961227\n",
      "0.9701501174782116\n",
      "0.9708445699603004\n",
      "0.9715390224423894\n"
     ]
    },
    {
     "name": "stdout",
     "output_type": "stream",
     "text": [
      "0.9722334749244783\n",
      "0.9729279274065672\n",
      "0.9736223798886561\n",
      "0.9743168323707451\n",
      "0.975011284852834\n",
      "0.9757057373349228\n",
      "0.9764001898170118\n",
      "0.9770946422991007\n",
      "0.9777890947811896\n",
      "0.9784835472632785\n"
     ]
    },
    {
     "name": "stdout",
     "output_type": "stream",
     "text": [
      "0.9791779997453675\n",
      "0.9798724522274563\n",
      "0.9805669047095452\n",
      "0.9812613571916342\n",
      "0.9819558096737231\n",
      "0.982650262155812\n",
      "0.9833447146379009\n",
      "0.9840391671199898\n"
     ]
    },
    {
     "name": "stdout",
     "output_type": "stream",
     "text": [
      "0.9847336196020787\n",
      "0.9854280720841676\n",
      "0.9861225245662566\n",
      "0.9868169770483455\n",
      "0.9875114295304344\n",
      "0.9882058820125232\n",
      "0.9889003344946122\n",
      "0.9895947869767011\n",
      "0.99028923945879\n"
     ]
    },
    {
     "name": "stdout",
     "output_type": "stream",
     "text": [
      "0.990983691940879\n",
      "0.9916781444229679\n",
      "0.9923725969050567\n",
      "0.9930670493871457\n",
      "0.9937615018692346\n",
      "0.9944559543513235\n",
      "0.9951504068334124\n",
      "0.9958448593155014\n",
      "0.9965393117975903\n",
      "0.9972337642796791\n",
      "0.9979282167617681\n"
     ]
    },
    {
     "name": "stdout",
     "output_type": "stream",
     "text": [
      "0.998622669243857\n",
      "\tpc\n",
      "['pc_1_current_consumption']\n",
      "\t\tpc_1_current_consumption\n",
      "Raw stream_obj: (1440,)\n",
      "condition: ((pc_1_current_consumption > tA)  # (pc_1_current_consumption < tA))\n"
     ]
    },
    {
     "name": "stdout",
     "output_type": "stream",
     "text": [
      "parsed_expression: [[['pc_1_current_consumption', '>', 'tA'], '#', ['pc_1_current_consumption', '<', 'tA']]]\n",
      "Evaluating  pc [['pc_1_current_consumption', '>', 'tA'], '#', ['pc_1_current_consumption', '<', 'tA']]\n",
      "Evaluating  pc ['pc_1_current_consumption', '>', 'tA']\n",
      "Evaluating  pc pc_1_current_consumption\n",
      "Evaluating  pc tA\n",
      "\t pc_1_current_consumption  op: > tA\n",
      "Evaluating  pc ['pc_1_current_consumption', '<', 'tA']\n",
      "Evaluating  pc pc_1_current_consumption\n",
      "Evaluating  pc tA\n",
      "\t pc_1_current_consumption  op: < tA\n",
      "\t (pc_1_current_consumption > tA)  op: # (pc_1_current_consumption < tA)\n",
      "evaluated_expression ((pc_1_current_consumption > tA)  # (pc_1_current_consumption < tA)) ((pc_1_current_consumption > tA) # (pc_1_current_consumption < tA))\n",
      "0.0006944524820889131\n",
      "0.0013889049641778262\n",
      "0.0020833574462667394\n",
      "0.0027778099283556523\n",
      "0.0034722624104445653\n",
      "0.004166714892533479\n",
      "0.004861167374622392\n",
      "0.005555619856711305\n",
      "0.006250072338800218\n"
     ]
    },
    {
     "name": "stdout",
     "output_type": "stream",
     "text": [
      "0.006944524820889131\n",
      "0.007638977302978044\n",
      "0.008333429785066957\n",
      "0.00902788226715587\n",
      "0.009722334749244783\n",
      "0.010416787231333696\n",
      "0.01111123971342261\n",
      "0.011805692195511521\n"
     ]
    },
    {
     "name": "stdout",
     "output_type": "stream",
     "text": [
      "0.012500144677600435\n",
      "0.013194597159689347\n",
      "0.013889049641778261\n",
      "0.014583502123867175\n",
      "0.015277954605956087\n",
      "0.015972407088045\n",
      "0.016666859570133915\n",
      "0.017361312052222827\n",
      "0.01805576453431174\n",
      "0.01875021701640065\n"
     ]
    },
    {
     "name": "stdout",
     "output_type": "stream",
     "text": [
      "0.019444669498489567\n",
      "0.02013912198057848\n",
      "0.02083357446266739\n",
      "0.021528026944756307\n",
      "0.02222247942684522\n",
      "0.02291693190893413\n",
      "0.023611384391023043\n",
      "0.02430583687311196\n",
      "0.02500028935520087\n",
      "0.025694741837289783\n",
      "0.026389194319378695\n",
      "0.02708364680146761\n"
     ]
    },
    {
     "name": "stdout",
     "output_type": "stream",
     "text": [
      "0.027778099283556523\n",
      "0.028472551765645435\n",
      "0.02916700424773435\n",
      "0.029861456729823262\n",
      "0.030555909211912174\n",
      "0.03125036169400109\n",
      "0.03194481417609\n",
      "0.032639266658178914\n",
      "0.03333371914026783\n",
      "0.03402817162235674\n",
      "0.034722624104445654\n",
      "0.03541707658653457\n"
     ]
    },
    {
     "name": "stdout",
     "output_type": "stream",
     "text": [
      "0.03611152906862348\n",
      "0.036805981550712394\n",
      "0.0375004340328013\n",
      "0.03819488651489022\n",
      "0.038889338996979134\n",
      "0.03958379147906804\n",
      "0.04027824396115696\n",
      "0.04097269644324587\n",
      "0.04166714892533478\n",
      "0.0423616014074237\n",
      "0.04305605388951261\n",
      "0.04375050637160152\n"
     ]
    },
    {
     "name": "stdout",
     "output_type": "stream",
     "text": [
      "0.04444495885369044\n",
      "0.045139411335779346\n",
      "0.04583386381786826\n",
      "0.04652831629995718\n",
      "0.047222768782046086\n",
      "0.047917221264135\n",
      "0.04861167374622392\n",
      "0.049306126228312826\n",
      "0.05000057871040174\n",
      "0.05069503119249066\n",
      "0.051389483674579566\n"
     ]
    },
    {
     "name": "stdout",
     "output_type": "stream",
     "text": [
      "0.05208393615666848\n",
      "0.05277838863875739\n",
      "0.053472841120846305\n",
      "0.05416729360293522\n",
      "0.05486174608502413\n",
      "0.055556198567113045\n",
      "0.05625065104920196\n",
      "0.05694510353129087\n",
      "0.057639556013379785\n",
      "0.0583340084954687\n",
      "0.05902846097755761\n",
      "0.059722913459646525\n"
     ]
    },
    {
     "name": "stdout",
     "output_type": "stream",
     "text": [
      "0.06041736594173543\n",
      "0.06111181842382435\n",
      "0.061806270905913265\n",
      "0.06250072338800218\n",
      "0.06319517587009109\n",
      "0.06388962835218\n",
      "0.06458408083426892\n",
      "0.06527853331635783\n",
      "0.06597298579844674\n",
      "0.06666743828053566\n",
      "0.06736189076262457\n",
      "0.06805634324471348\n"
     ]
    },
    {
     "name": "stdout",
     "output_type": "stream",
     "text": [
      "0.0687507957268024\n",
      "0.06944524820889131\n",
      "0.07013970069098022\n",
      "0.07083415317306914\n",
      "0.07152860565515805\n",
      "0.07222305813724696\n",
      "0.07291751061933587\n",
      "0.07361196310142479\n",
      "0.0743064155835137\n",
      "0.0750008680656026\n",
      "0.07569532054769153\n",
      "0.07638977302978044\n"
     ]
    },
    {
     "name": "stdout",
     "output_type": "stream",
     "text": [
      "0.07708422551186934\n",
      "0.07777867799395827\n",
      "0.07847313047604718\n",
      "0.07916758295813608\n",
      "0.07986203544022501\n",
      "0.08055648792231392\n",
      "0.08125094040440282\n",
      "0.08194539288649175\n",
      "0.08263984536858066\n",
      "0.08333429785066956\n",
      "0.08402875033275849\n"
     ]
    },
    {
     "name": "stdout",
     "output_type": "stream",
     "text": [
      "0.0847232028148474\n",
      "0.0854176552969363\n",
      "0.08611210777902523\n",
      "0.08680656026111414\n",
      "0.08750101274320304\n",
      "0.08819546522529197\n",
      "0.08888991770738087\n",
      "0.08958437018946978\n",
      "0.09027882267155869\n",
      "0.09097327515364761\n",
      "0.09166772763573652\n"
     ]
    },
    {
     "name": "stdout",
     "output_type": "stream",
     "text": [
      "0.09236218011782543\n",
      "0.09305663259991435\n",
      "0.09375108508200326\n",
      "0.09444553756409217\n",
      "0.0951399900461811\n",
      "0.09583444252827\n",
      "0.09652889501035891\n",
      "0.09722334749244783\n",
      "0.09791779997453674\n",
      "0.09861225245662565\n",
      "0.09930670493871457\n",
      "0.10000115742080348\n"
     ]
    },
    {
     "name": "stdout",
     "output_type": "stream",
     "text": [
      "0.10069560990289239\n",
      "0.10139006238498131\n",
      "0.10208451486707022\n",
      "0.10277896734915913\n",
      "0.10347341983124805\n",
      "0.10416787231333696\n",
      "0.10486232479542587\n",
      "0.10555677727751478\n",
      "0.1062512297596037\n",
      "0.10694568224169261\n",
      "0.10764013472378152\n",
      "0.10833458720587044\n"
     ]
    },
    {
     "name": "stdout",
     "output_type": "stream",
     "text": [
      "0.10902903968795935\n",
      "0.10972349217004826\n",
      "0.11041794465213718\n",
      "0.11111239713422609\n",
      "0.111806849616315\n",
      "0.11250130209840392\n",
      "0.11319575458049283\n",
      "0.11389020706258174\n",
      "0.11458465954467066\n",
      "0.11527911202675957\n",
      "0.11597356450884848\n"
     ]
    },
    {
     "name": "stdout",
     "output_type": "stream",
     "text": [
      "0.1166680169909374\n",
      "0.11736246947302631\n",
      "0.11805692195511522\n",
      "0.11875137443720414\n",
      "0.11944582691929305\n",
      "0.12014027940138196\n",
      "0.12083473188347087\n",
      "0.12152918436555979\n",
      "0.1222236368476487\n",
      "0.1229180893297376\n"
     ]
    },
    {
     "name": "stdout",
     "output_type": "stream",
     "text": [
      "0.12361254181182653\n",
      "0.12430699429391544\n",
      "0.12500144677600436\n",
      "0.12569589925809327\n",
      "0.12639035174018218\n",
      "0.12708480422227109\n",
      "0.12777925670436\n",
      "0.1284737091864489\n",
      "0.12916816166853784\n",
      "0.12986261415062675\n",
      "0.13055706663271566\n",
      "0.13125151911480457\n"
     ]
    },
    {
     "name": "stdout",
     "output_type": "stream",
     "text": [
      "0.13194597159689347\n",
      "0.13264042407898238\n",
      "0.13333487656107132\n",
      "0.13402932904316023\n",
      "0.13472378152524914\n",
      "0.13541823400733805\n",
      "0.13611268648942695\n",
      "0.13680713897151586\n",
      "0.1375015914536048\n",
      "0.1381960439356937\n",
      "0.13889049641778262\n",
      "0.13958494889987152\n"
     ]
    },
    {
     "name": "stdout",
     "output_type": "stream",
     "text": [
      "0.14027940138196043\n",
      "0.14097385386404934\n",
      "0.14166830634613828\n",
      "0.1423627588282272\n",
      "0.1430572113103161\n",
      "0.143751663792405\n",
      "0.1444461162744939\n",
      "0.14514056875658282\n",
      "0.14583502123867173\n",
      "0.14652947372076067\n",
      "0.14722392620284958\n",
      "0.14791837868493848\n"
     ]
    },
    {
     "name": "stdout",
     "output_type": "stream",
     "text": [
      "0.1486128311670274\n",
      "0.1493072836491163\n",
      "0.1500017361312052\n",
      "0.15069618861329415\n",
      "0.15139064109538306\n",
      "0.15208509357747196\n",
      "0.15277954605956087\n",
      "0.15347399854164978\n",
      "0.1541684510237387\n",
      "0.15486290350582763\n",
      "0.15555735598791653\n",
      "0.15625180847000544\n"
     ]
    },
    {
     "name": "stdout",
     "output_type": "stream",
     "text": [
      "0.15694626095209435\n",
      "0.15764071343418326\n",
      "0.15833516591627217\n",
      "0.1590296183983611\n",
      "0.15972407088045001\n",
      "0.16041852336253892\n",
      "0.16111297584462783\n",
      "0.16180742832671674\n",
      "0.16250188080880565\n",
      "0.16319633329089456\n",
      "0.1638907857729835\n"
     ]
    },
    {
     "name": "stdout",
     "output_type": "stream",
     "text": [
      "0.1645852382550724\n",
      "0.1652796907371613\n",
      "0.16597414321925022\n",
      "0.16666859570133913\n",
      "0.16736304818342804\n",
      "0.16805750066551697\n",
      "0.16875195314760588\n",
      "0.1694464056296948\n",
      "0.1701408581117837\n",
      "0.1708353105938726\n",
      "0.17152976307596152\n"
     ]
    },
    {
     "name": "stdout",
     "output_type": "stream",
     "text": [
      "0.17222421555805045\n",
      "0.17291866804013936\n",
      "0.17361312052222827\n",
      "0.17430757300431718\n",
      "0.1750020254864061\n",
      "0.175696477968495\n",
      "0.17639093045058393\n",
      "0.17708538293267284\n",
      "0.17777983541476175\n",
      "0.17847428789685066\n",
      "0.17916874037893957\n",
      "0.17986319286102848\n"
     ]
    },
    {
     "name": "stdout",
     "output_type": "stream",
     "text": [
      "0.18055764534311738\n",
      "0.18125209782520632\n",
      "0.18194655030729523\n",
      "0.18264100278938414\n",
      "0.18333545527147305\n",
      "0.18402990775356196\n",
      "0.18472436023565086\n",
      "0.1854188127177398\n",
      "0.1861132651998287\n",
      "0.18680771768191762\n",
      "0.18750217016400653\n",
      "0.18819662264609544\n"
     ]
    },
    {
     "name": "stdout",
     "output_type": "stream",
     "text": [
      "0.18889107512818434\n",
      "0.18958552761027328\n",
      "0.1902799800923622\n",
      "0.1909744325744511\n",
      "0.19166888505654\n",
      "0.19236333753862891\n",
      "0.19305779002071782\n",
      "0.19375224250280673\n",
      "0.19444669498489567\n",
      "0.19514114746698458\n",
      "0.19583559994907349\n"
     ]
    },
    {
     "name": "stdout",
     "output_type": "stream",
     "text": [
      "0.1965300524311624\n",
      "0.1972245049132513\n",
      "0.1979189573953402\n",
      "0.19861340987742915\n",
      "0.19930786235951806\n",
      "0.20000231484160697\n",
      "0.20069676732369587\n",
      "0.20139121980578478\n",
      "0.2020856722878737\n",
      "0.20278012476996263\n",
      "0.20347457725205154\n",
      "0.20416902973414044\n"
     ]
    },
    {
     "name": "stdout",
     "output_type": "stream",
     "text": [
      "0.20486348221622935\n",
      "0.20555793469831826\n",
      "0.20625238718040717\n",
      "0.2069468396624961\n",
      "0.20764129214458502\n",
      "0.20833574462667392\n",
      "0.20903019710876283\n",
      "0.20972464959085174\n",
      "0.21041910207294065\n",
      "0.21111355455502956\n",
      "0.2118080070371185\n",
      "0.2125024595192074\n"
     ]
    },
    {
     "name": "stdout",
     "output_type": "stream",
     "text": [
      "0.2131969120012963\n",
      "0.21389136448338522\n",
      "0.21458581696547413\n",
      "0.21528026944756304\n",
      "0.21597472192965197\n",
      "0.21666917441174088\n",
      "0.2173636268938298\n",
      "0.2180580793759187\n",
      "0.2187525318580076\n",
      "0.21944698434009652\n",
      "0.22014143682218545\n",
      "0.22083588930427436\n"
     ]
    },
    {
     "name": "stdout",
     "output_type": "stream",
     "text": [
      "0.22153034178636327\n",
      "0.22222479426845218\n",
      "0.2229192467505411\n",
      "0.22361369923263\n",
      "0.22430815171471893\n",
      "0.22500260419680784\n",
      "0.22569705667889675\n",
      "0.22639150916098566\n",
      "0.22708596164307457\n",
      "0.22778041412516348\n",
      "0.22847486660725239\n",
      "0.22916931908934132\n"
     ]
    },
    {
     "name": "stdout",
     "output_type": "stream",
     "text": [
      "0.22986377157143023\n",
      "0.23055822405351914\n",
      "0.23125267653560805\n",
      "0.23194712901769696\n",
      "0.23264158149978587\n",
      "0.2333360339818748\n",
      "0.2340304864639637\n",
      "0.23472493894605262\n",
      "0.23541939142814153\n",
      "0.23611384391023044\n",
      "0.23680829639231935\n"
     ]
    },
    {
     "name": "stdout",
     "output_type": "stream",
     "text": [
      "0.23750274887440828\n",
      "0.2381972013564972\n",
      "0.2388916538385861\n",
      "0.239586106320675\n",
      "0.24028055880276392\n",
      "0.24097501128485282\n",
      "0.24166946376694173\n",
      "0.24236391624903067\n",
      "0.24305836873111958\n",
      "0.2437528212132085\n",
      "0.2444472736952974\n",
      "0.2451417261773863\n"
     ]
    },
    {
     "name": "stdout",
     "output_type": "stream",
     "text": [
      "0.2458361786594752\n",
      "0.24653063114156415\n",
      "0.24722508362365306\n",
      "0.24791953610574197\n",
      "0.24861398858783088\n",
      "0.24930844106991978\n",
      "0.2500028935520087\n",
      "0.2506973460340976\n",
      "0.25139179851618654\n",
      "0.2520862509982754\n",
      "0.25278070348036435\n",
      "0.2534751559624533\n"
     ]
    },
    {
     "name": "stdout",
     "output_type": "stream",
     "text": [
      "0.25416960844454217\n",
      "0.2548640609266311\n",
      "0.25555851340872\n",
      "0.2562529658908089\n",
      "0.2569474183728978\n",
      "0.25764187085498674\n",
      "0.2583363233370757\n",
      "0.25903077581916456\n",
      "0.2597252283012535\n",
      "0.2604196807833424\n",
      "0.2611141332654313\n",
      "0.26180858574752025\n"
     ]
    },
    {
     "name": "stdout",
     "output_type": "stream",
     "text": [
      "0.26250303822960913\n",
      "0.26319749071169807\n",
      "0.26389194319378695\n",
      "0.2645863956758759\n",
      "0.26528084815796477\n",
      "0.2659753006400537\n",
      "0.26666975312214264\n",
      "0.2673642056042315\n",
      "0.26805865808632046\n",
      "0.26875311056840934\n",
      "0.2694475630504983\n"
     ]
    },
    {
     "name": "stdout",
     "output_type": "stream",
     "text": [
      "0.2701420155325872\n",
      "0.2708364680146761\n",
      "0.271530920496765\n",
      "0.2722253729788539\n",
      "0.27291982546094284\n",
      "0.2736142779430317\n",
      "0.27430873042512066\n",
      "0.2750031829072096\n",
      "0.2756976353892985\n",
      "0.2763920878713874\n",
      "0.2770865403534763\n"
     ]
    },
    {
     "name": "stdout",
     "output_type": "stream",
     "text": [
      "0.27778099283556523\n",
      "0.2784754453176541\n",
      "0.27916989779974305\n",
      "0.279864350281832\n",
      "0.28055880276392087\n",
      "0.2812532552460098\n",
      "0.2819477077280987\n",
      "0.2826421602101876\n",
      "0.28333661269227656\n",
      "0.28403106517436544\n",
      "0.2847255176564544\n",
      "0.28541997013854326\n"
     ]
    },
    {
     "name": "stdout",
     "output_type": "stream",
     "text": [
      "0.2861144226206322\n",
      "0.2868088751027211\n",
      "0.28750332758481\n",
      "0.28819778006689895\n",
      "0.2888922325489878\n",
      "0.28958668503107676\n",
      "0.29028113751316564\n",
      "0.2909755899952546\n",
      "0.29167004247734346\n",
      "0.2923644949594324\n",
      "0.29305894744152133\n",
      "0.2937533999236102\n"
     ]
    },
    {
     "name": "stdout",
     "output_type": "stream",
     "text": [
      "0.29444785240569915\n",
      "0.29514230488778803\n",
      "0.29583675736987697\n",
      "0.2965312098519659\n",
      "0.2972256623340548\n",
      "0.2979201148161437\n",
      "0.2986145672982326\n",
      "0.29930901978032154\n",
      "0.3000034722624104\n",
      "0.30069792474449936\n",
      "0.3013923772265883\n",
      "0.3020868297086772\n"
     ]
    },
    {
     "name": "stdout",
     "output_type": "stream",
     "text": [
      "0.3027812821907661\n",
      "0.303475734672855\n",
      "0.3041701871549439\n",
      "0.30486463963703286\n",
      "0.30555909211912174\n",
      "0.3062535446012107\n",
      "0.30694799708329956\n",
      "0.3076424495653885\n",
      "0.3083369020474774\n",
      "0.3090313545295663\n",
      "0.30972580701165525\n",
      "0.31042025949374413\n"
     ]
    },
    {
     "name": "stdout",
     "output_type": "stream",
     "text": [
      "0.31111471197583307\n",
      "0.31180916445792195\n",
      "0.3125036169400109\n",
      "0.31319806942209977\n",
      "0.3138925219041887\n",
      "0.31458697438627764\n",
      "0.3152814268683665\n",
      "0.31597587935045546\n",
      "0.31667033183254434\n"
     ]
    },
    {
     "name": "stdout",
     "output_type": "stream",
     "text": [
      "0.3173647843146333\n",
      "0.3180592367967222\n",
      "0.3187536892788111\n",
      "0.31944814176090003\n",
      "0.3201425942429889\n",
      "0.32083704672507785\n",
      "0.3215314992071667\n",
      "0.32222595168925566\n",
      "0.3229204041713446\n",
      "0.3236148566534335\n",
      "0.3243093091355224\n"
     ]
    },
    {
     "name": "stdout",
     "output_type": "stream",
     "text": [
      "0.3250037616176113\n",
      "0.32569821409970023\n",
      "0.3263926665817891\n",
      "0.32708711906387805\n",
      "0.327781571545967\n",
      "0.32847602402805587\n",
      "0.3291704765101448\n",
      "0.3298649289922337\n",
      "0.3305593814743226\n",
      "0.33125383395641156\n",
      "0.33194828643850044\n",
      "0.3326427389205894\n"
     ]
    },
    {
     "name": "stdout",
     "output_type": "stream",
     "text": [
      "0.33333719140267826\n",
      "0.3340316438847672\n",
      "0.3347260963668561\n",
      "0.335420548848945\n",
      "0.33611500133103395\n",
      "0.3368094538131228\n",
      "0.33750390629521176\n",
      "0.33819835877730064\n",
      "0.3388928112593896\n",
      "0.33958726374147846\n",
      "0.3402817162235674\n",
      "0.34097616870565634\n"
     ]
    },
    {
     "name": "stdout",
     "output_type": "stream",
     "text": [
      "0.3416706211877452\n",
      "0.34236507366983415\n",
      "0.34305952615192303\n",
      "0.34375397863401197\n",
      "0.3444484311161009\n",
      "0.3451428835981898\n",
      "0.3458373360802787\n",
      "0.3465317885623676\n",
      "0.34722624104445654\n",
      "0.3479206935265454\n",
      "0.34861514600863436\n"
     ]
    },
    {
     "name": "stdout",
     "output_type": "stream",
     "text": [
      "0.3493095984907233\n",
      "0.3500040509728122\n",
      "0.3506985034549011\n",
      "0.35139295593699\n",
      "0.35208740841907893\n",
      "0.35278186090116787\n",
      "0.35347631338325675\n",
      "0.3541707658653457\n",
      "0.35486521834743456\n",
      "0.3555596708295235\n",
      "0.3562541233116124\n"
     ]
    },
    {
     "name": "stdout",
     "output_type": "stream",
     "text": [
      "0.3569485757937013\n",
      "0.35764302827579025\n",
      "0.35833748075787913\n",
      "0.35903193323996807\n",
      "0.35972638572205695\n",
      "0.3604208382041459\n",
      "0.36111529068623477\n",
      "0.3618097431683237\n",
      "0.36250419565041264\n",
      "0.3631986481325015\n"
     ]
    },
    {
     "name": "stdout",
     "output_type": "stream",
     "text": [
      "0.36389310061459046\n",
      "0.36458755309667934\n",
      "0.3652820055787683\n",
      "0.3659764580608572\n",
      "0.3666709105429461\n",
      "0.36736536302503503\n",
      "0.3680598155071239\n",
      "0.36875426798921285\n",
      "0.36944872047130173\n",
      "0.37014317295339066\n",
      "0.3708376254354796\n"
     ]
    },
    {
     "name": "stdout",
     "output_type": "stream",
     "text": [
      "0.3715320779175685\n",
      "0.3722265303996574\n",
      "0.3729209828817463\n",
      "0.37361543536383524\n",
      "0.3743098878459241\n",
      "0.37500434032801305\n",
      "0.375698792810102\n",
      "0.37639324529219087\n",
      "0.3770876977742798\n",
      "0.3777821502563687\n",
      "0.3784766027384576\n",
      "0.37917105522054656\n"
     ]
    },
    {
     "name": "stdout",
     "output_type": "stream",
     "text": [
      "0.37986550770263544\n",
      "0.3805599601847244\n",
      "0.38125441266681326\n",
      "0.3819488651489022\n",
      "0.3826433176309911\n",
      "0.38333777011308\n",
      "0.38403222259516895\n",
      "0.38472667507725783\n",
      "0.38542112755934677\n",
      "0.38611558004143565\n"
     ]
    },
    {
     "name": "stdout",
     "output_type": "stream",
     "text": [
      "0.3868100325235246\n",
      "0.38750448500561346\n",
      "0.3881989374877024\n",
      "0.38889338996979134\n",
      "0.3895878424518802\n",
      "0.39028229493396915\n",
      "0.39097674741605803\n",
      "0.39167119989814697\n",
      "0.3923656523802359\n",
      "0.3930601048623248\n",
      "0.3937545573444137\n"
     ]
    },
    {
     "name": "stdout",
     "output_type": "stream",
     "text": [
      "0.3944490098265026\n",
      "0.39514346230859154\n",
      "0.3958379147906804\n",
      "0.39653236727276936\n",
      "0.3972268197548583\n",
      "0.3979212722369472\n",
      "0.3986157247190361\n",
      "0.399310177201125\n",
      "0.40000462968321393\n",
      "0.40069908216530287\n",
      "0.40139353464739175\n"
     ]
    },
    {
     "name": "stdout",
     "output_type": "stream",
     "text": [
      "0.4020879871294807\n",
      "0.40278243961156956\n",
      "0.4034768920936585\n",
      "0.4041713445757474\n",
      "0.4048657970578363\n",
      "0.40556024953992525\n",
      "0.40625470202201414\n",
      "0.40694915450410307\n",
      "0.40764360698619195\n",
      "0.4083380594682809\n",
      "0.40903251195036977\n",
      "0.4097269644324587\n"
     ]
    },
    {
     "name": "stdout",
     "output_type": "stream",
     "text": [
      "0.41042141691454764\n",
      "0.4111158693966365\n",
      "0.41181032187872546\n",
      "0.41250477436081434\n",
      "0.4131992268429033\n",
      "0.4138936793249922\n",
      "0.4145881318070811\n",
      "0.41528258428917003\n",
      "0.4159770367712589\n",
      "0.41667148925334785\n",
      "0.41736594173543673\n",
      "0.41806039421752567\n"
     ]
    },
    {
     "name": "stdout",
     "output_type": "stream",
     "text": [
      "0.4187548466996146\n",
      "0.4194492991817035\n",
      "0.4201437516637924\n",
      "0.4208382041458813\n",
      "0.42153265662797024\n",
      "0.4222271091100591\n",
      "0.42292156159214805\n",
      "0.423616014074237\n",
      "0.42431046655632587\n",
      "0.4250049190384148\n",
      "0.4256993715205037\n"
     ]
    },
    {
     "name": "stdout",
     "output_type": "stream",
     "text": [
      "0.4263938240025926\n",
      "0.42708827648468156\n",
      "0.42778272896677044\n",
      "0.4284771814488594\n",
      "0.42917163393094826\n",
      "0.4298660864130372\n",
      "0.4305605388951261\n",
      "0.431254991377215\n",
      "0.43194944385930395\n",
      "0.43264389634139283\n",
      "0.43333834882348177\n",
      "0.43403280130557065\n"
     ]
    },
    {
     "name": "stdout",
     "output_type": "stream",
     "text": [
      "0.4347272537876596\n",
      "0.43542170626974847\n",
      "0.4361161587518374\n",
      "0.43681061123392634\n",
      "0.4375050637160152\n",
      "0.43819951619810416\n",
      "0.43889396868019304\n",
      "0.439588421162282\n",
      "0.4402828736443709\n",
      "0.4409773261264598\n",
      "0.4416717786085487\n",
      "0.4423662310906376\n"
     ]
    },
    {
     "name": "stdout",
     "output_type": "stream",
     "text": [
      "0.44306068357272654\n",
      "0.4437551360548154\n",
      "0.44444958853690436\n",
      "0.4451440410189933\n",
      "0.4458384935010822\n",
      "0.4465329459831711\n",
      "0.44722739846526\n",
      "0.44792185094734893\n",
      "0.44861630342943787\n",
      "0.44931075591152675\n",
      "0.4500052083936157\n",
      "0.45069966087570457\n"
     ]
    },
    {
     "name": "stdout",
     "output_type": "stream",
     "text": [
      "0.4513941133577935\n",
      "0.4520885658398824\n",
      "0.4527830183219713\n",
      "0.45347747080406026\n",
      "0.45417192328614914\n",
      "0.4548663757682381\n",
      "0.45556082825032695\n",
      "0.4562552807324159\n",
      "0.45694973321450477\n",
      "0.4576441856965937\n",
      "0.45833863817868264\n"
     ]
    },
    {
     "name": "stdout",
     "output_type": "stream",
     "text": [
      "0.4590330906607715\n",
      "0.45972754314286046\n",
      "0.46042199562494934\n",
      "0.4611164481070383\n",
      "0.4618109005891272\n",
      "0.4625053530712161\n",
      "0.46319980555330503\n",
      "0.4638942580353939\n",
      "0.46458871051748285\n",
      "0.46528316299957173\n",
      "0.46597761548166067\n"
     ]
    },
    {
     "name": "stdout",
     "output_type": "stream",
     "text": [
      "0.4666720679637496\n",
      "0.4673665204458385\n",
      "0.4680609729279274\n",
      "0.4687554254100163\n",
      "0.46944987789210524\n",
      "0.4701443303741941\n",
      "0.47083878285628306\n",
      "0.471533235338372\n",
      "0.4722276878204609\n",
      "0.4729221403025498\n",
      "0.4736165927846387\n"
     ]
    },
    {
     "name": "stdout",
     "output_type": "stream",
     "text": [
      "0.4743110452667276\n",
      "0.47500549774881656\n",
      "0.47569995023090544\n",
      "0.4763944027129944\n",
      "0.47708885519508326\n",
      "0.4777833076771722\n",
      "0.4784777601592611\n",
      "0.47917221264135\n",
      "0.47986666512343895\n",
      "0.48056111760552783\n",
      "0.48125557008761677\n",
      "0.48195002256970565\n"
     ]
    },
    {
     "name": "stdout",
     "output_type": "stream",
     "text": [
      "0.4826444750517946\n",
      "0.48333892753388347\n",
      "0.4840333800159724\n",
      "0.48472783249806134\n",
      "0.4854222849801502\n",
      "0.48611673746223916\n",
      "0.48681118994432804\n",
      "0.487505642426417\n",
      "0.4882000949085059\n",
      "0.4888945473905948\n",
      "0.48958899987268373\n"
     ]
    },
    {
     "name": "stdout",
     "output_type": "stream",
     "text": [
      "0.4902834523547726\n",
      "0.49097790483686155\n",
      "0.4916723573189504\n",
      "0.49236680980103936\n",
      "0.4930612622831283\n",
      "0.4937557147652172\n",
      "0.4944501672473061\n",
      "0.495144619729395\n",
      "0.49583907221148393\n",
      "0.49653352469357287\n",
      "0.49722797717566175\n"
     ]
    },
    {
     "name": "stdout",
     "output_type": "stream",
     "text": [
      "0.4979224296577507\n",
      "0.49861688213983957\n",
      "0.4993113346219285\n",
      "0.5000057871040174\n",
      "0.5007002395861063\n",
      "0.5013946920681952\n",
      "0.5020891445502842\n",
      "0.5027835970323731\n",
      "0.503478049514462\n",
      "0.5041725019965508\n",
      "0.5048669544786398\n",
      "0.5055614069607287\n"
     ]
    },
    {
     "name": "stdout",
     "output_type": "stream",
     "text": [
      "0.5062558594428176\n",
      "0.5069503119249066\n",
      "0.5076447644069955\n",
      "0.5083392168890843\n",
      "0.5090336693711732\n",
      "0.5097281218532622\n",
      "0.5104225743353511\n",
      "0.51111702681744\n",
      "0.511811479299529\n",
      "0.5125059317816179\n",
      "0.5132003842637067\n",
      "0.5138948367457956\n"
     ]
    },
    {
     "name": "stdout",
     "output_type": "stream",
     "text": [
      "0.5145892892278846\n",
      "0.5152837417099735\n",
      "0.5159781941920624\n",
      "0.5166726466741514\n",
      "0.5173670991562402\n",
      "0.5180615516383291\n",
      "0.5187560041204181\n",
      "0.519450456602507\n",
      "0.5201449090845959\n",
      "0.5208393615666848\n",
      "0.5215338140487737\n",
      "0.5222282665308626\n"
     ]
    },
    {
     "name": "stdout",
     "output_type": "stream",
     "text": [
      "0.5229227190129515\n",
      "0.5236171714950405\n",
      "0.5243116239771294\n",
      "0.5250060764592183\n",
      "0.5257005289413071\n",
      "0.5263949814233961\n",
      "0.527089433905485\n",
      "0.5277838863875739\n",
      "0.5284783388696629\n",
      "0.5291727913517518\n",
      "0.5298672438338407\n"
     ]
    },
    {
     "name": "stdout",
     "output_type": "stream",
     "text": [
      "0.5305616963159295\n",
      "0.5312561487980185\n",
      "0.5319506012801074\n",
      "0.5326450537621963\n",
      "0.5333395062442853\n",
      "0.5340339587263742\n",
      "0.534728411208463\n",
      "0.5354228636905519\n",
      "0.5361173161726409\n",
      "0.5368117686547298\n",
      "0.5375062211368187\n",
      "0.5382006736189077\n"
     ]
    },
    {
     "name": "stdout",
     "output_type": "stream",
     "text": [
      "0.5388951261009965\n",
      "0.5395895785830854\n",
      "0.5402840310651744\n",
      "0.5409784835472633\n",
      "0.5416729360293522\n",
      "0.5423673885114411\n",
      "0.54306184099353\n",
      "0.5437562934756189\n",
      "0.5444507459577078\n",
      "0.5451451984397968\n",
      "0.5458396509218857\n",
      "0.5465341034039746\n"
     ]
    },
    {
     "name": "stdout",
     "output_type": "stream",
     "text": [
      "0.5472285558860635\n",
      "0.5479230083681524\n",
      "0.5486174608502413\n",
      "0.5493119133323302\n",
      "0.5500063658144192\n",
      "0.5507008182965081\n",
      "0.551395270778597\n",
      "0.5520897232606858\n",
      "0.5527841757427748\n",
      "0.5534786282248637\n",
      "0.5541730807069526\n"
     ]
    },
    {
     "name": "stdout",
     "output_type": "stream",
     "text": [
      "0.5548675331890416\n",
      "0.5555619856711305\n",
      "0.5562564381532193\n",
      "0.5569508906353082\n",
      "0.5576453431173972\n",
      "0.5583397955994861\n",
      "0.559034248081575\n",
      "0.559728700563664\n",
      "0.5604231530457529\n",
      "0.5611176055278417\n",
      "0.5618120580099307\n"
     ]
    },
    {
     "name": "stdout",
     "output_type": "stream",
     "text": [
      "0.5625065104920196\n",
      "0.5632009629741085\n",
      "0.5638954154561974\n",
      "0.5645898679382864\n",
      "0.5652843204203752\n",
      "0.5659787729024641\n",
      "0.5666732253845531\n",
      "0.567367677866642\n",
      "0.5680621303487309\n",
      "0.5687565828308198\n"
     ]
    },
    {
     "name": "stdout",
     "output_type": "stream",
     "text": [
      "0.5694510353129087\n",
      "0.5701454877949976\n",
      "0.5708399402770865\n",
      "0.5715343927591755\n",
      "0.5722288452412644\n",
      "0.5729232977233533\n",
      "0.5736177502054421\n",
      "0.5743122026875311\n",
      "0.57500665516962\n",
      "0.5757011076517089\n",
      "0.5763955601337979\n"
     ]
    },
    {
     "name": "stdout",
     "output_type": "stream",
     "text": [
      "0.5770900126158868\n",
      "0.5777844650979757\n",
      "0.5784789175800645\n",
      "0.5791733700621535\n",
      "0.5798678225442424\n",
      "0.5805622750263313\n",
      "0.5812567275084203\n",
      "0.5819511799905092\n",
      "0.582645632472598\n",
      "0.5833400849546869\n",
      "0.5840345374367759\n",
      "0.5847289899188648\n"
     ]
    },
    {
     "name": "stdout",
     "output_type": "stream",
     "text": [
      "0.5854234424009537\n",
      "0.5861178948830427\n",
      "0.5868123473651315\n",
      "0.5875067998472204\n",
      "0.5882012523293094\n",
      "0.5888957048113983\n",
      "0.5895901572934872\n",
      "0.5902846097755761\n",
      "0.590979062257665\n",
      "0.5916735147397539\n",
      "0.5923679672218428\n"
     ]
    },
    {
     "name": "stdout",
     "output_type": "stream",
     "text": [
      "0.5930624197039318\n",
      "0.5937568721860207\n",
      "0.5944513246681096\n",
      "0.5951457771501985\n",
      "0.5958402296322874\n",
      "0.5965346821143763\n",
      "0.5972291345964652\n",
      "0.5979235870785542\n",
      "0.5986180395606431\n",
      "0.599312492042732\n"
     ]
    },
    {
     "name": "stdout",
     "output_type": "stream",
     "text": [
      "0.6000069445248208\n",
      "0.6007013970069098\n",
      "0.6013958494889987\n",
      "0.6020903019710876\n",
      "0.6027847544531766\n",
      "0.6034792069352655\n",
      "0.6041736594173543\n",
      "0.6048681118994432\n",
      "0.6055625643815322\n",
      "0.6062570168636211\n",
      "0.60695146934571\n"
     ]
    },
    {
     "name": "stdout",
     "output_type": "stream",
     "text": [
      "0.607645921827799\n",
      "0.6083403743098879\n",
      "0.6090348267919767\n",
      "0.6097292792740657\n",
      "0.6104237317561546\n",
      "0.6111181842382435\n",
      "0.6118126367203324\n",
      "0.6125070892024214\n",
      "0.6132015416845102\n",
      "0.6138959941665991\n",
      "0.6145904466486881\n"
     ]
    },
    {
     "name": "stdout",
     "output_type": "stream",
     "text": [
      "0.615284899130777\n",
      "0.6159793516128659\n",
      "0.6166738040949548\n",
      "0.6173682565770438\n",
      "0.6180627090591326\n",
      "0.6187571615412215\n",
      "0.6194516140233105\n",
      "0.6201460665053994\n",
      "0.6208405189874883\n",
      "0.6215349714695771\n",
      "0.6222294239516661\n",
      "0.622923876433755\n"
     ]
    },
    {
     "name": "stdout",
     "output_type": "stream",
     "text": [
      "0.6236183289158439\n",
      "0.6243127813979329\n",
      "0.6250072338800218\n",
      "0.6257016863621107\n",
      "0.6263961388441995\n",
      "0.6270905913262885\n",
      "0.6277850438083774\n",
      "0.6284794962904663\n",
      "0.6291739487725553\n",
      "0.6298684012546442\n",
      "0.630562853736733\n",
      "0.6312573062188219\n"
     ]
    },
    {
     "name": "stdout",
     "output_type": "stream",
     "text": [
      "0.6319517587009109\n",
      "0.6326462111829998\n",
      "0.6333406636650887\n",
      "0.6340351161471777\n",
      "0.6347295686292665\n",
      "0.6354240211113554\n",
      "0.6361184735934444\n",
      "0.6368129260755333\n",
      "0.6375073785576222\n",
      "0.6382018310397111\n",
      "0.6388962835218001\n",
      "0.6395907360038889\n"
     ]
    },
    {
     "name": "stdout",
     "output_type": "stream",
     "text": [
      "0.6402851884859778\n",
      "0.6409796409680668\n",
      "0.6416740934501557\n",
      "0.6423685459322446\n",
      "0.6430629984143335\n",
      "0.6437574508964224\n",
      "0.6444519033785113\n",
      "0.6451463558606002\n",
      "0.6458408083426892\n",
      "0.6465352608247781\n",
      "0.647229713306867\n",
      "0.6479241657889558\n"
     ]
    },
    {
     "name": "stdout",
     "output_type": "stream",
     "text": [
      "0.6486186182710448\n",
      "0.6493130707531337\n",
      "0.6500075232352226\n",
      "0.6507019757173116\n",
      "0.6513964281994005\n",
      "0.6520908806814893\n",
      "0.6527853331635782\n",
      "0.6534797856456672\n",
      "0.6541742381277561\n",
      "0.654868690609845\n",
      "0.655563143091934\n"
     ]
    },
    {
     "name": "stdout",
     "output_type": "stream",
     "text": [
      "0.6562575955740229\n",
      "0.6569520480561117\n",
      "0.6576465005382007\n",
      "0.6583409530202896\n",
      "0.6590354055023785\n",
      "0.6597298579844674\n",
      "0.6604243104665564\n",
      "0.6611187629486452\n",
      "0.6618132154307341\n",
      "0.6625076679128231\n",
      "0.663202120394912\n",
      "0.6638965728770009\n"
     ]
    },
    {
     "name": "stdout",
     "output_type": "stream",
     "text": [
      "0.6645910253590898\n",
      "0.6652854778411788\n",
      "0.6659799303232676\n",
      "0.6666743828053565\n",
      "0.6673688352874455\n",
      "0.6680632877695344\n",
      "0.6687577402516233\n",
      "0.6694521927337121\n",
      "0.6701466452158011\n",
      "0.67084109769789\n",
      "0.6715355501799789\n",
      "0.6722300026620679\n"
     ]
    },
    {
     "name": "stdout",
     "output_type": "stream",
     "text": [
      "0.6729244551441568\n",
      "0.6736189076262457\n",
      "0.6743133601083345\n",
      "0.6750078125904235\n",
      "0.6757022650725124\n",
      "0.6763967175546013\n",
      "0.6770911700366903\n",
      "0.6777856225187792\n",
      "0.678480075000868\n",
      "0.6791745274829569\n",
      "0.6798689799650459\n",
      "0.6805634324471348\n"
     ]
    },
    {
     "name": "stdout",
     "output_type": "stream",
     "text": [
      "0.6812578849292237\n",
      "0.6819523374113127\n",
      "0.6826467898934016\n",
      "0.6833412423754904\n",
      "0.6840356948575794\n",
      "0.6847301473396683\n",
      "0.6854245998217572\n",
      "0.6861190523038461\n",
      "0.6868135047859351\n",
      "0.6875079572680239\n",
      "0.6882024097501128\n"
     ]
    },
    {
     "name": "stdout",
     "output_type": "stream",
     "text": [
      "0.6888968622322018\n",
      "0.6895913147142907\n",
      "0.6902857671963796\n",
      "0.6909802196784685\n",
      "0.6916746721605574\n",
      "0.6923691246426463\n",
      "0.6930635771247352\n",
      "0.6937580296068242\n",
      "0.6944524820889131\n",
      "0.695146934571002\n",
      "0.6958413870530908\n"
     ]
    },
    {
     "name": "stdout",
     "output_type": "stream",
     "text": [
      "0.6965358395351798\n",
      "0.6972302920172687\n",
      "0.6979247444993576\n",
      "0.6986191969814466\n",
      "0.6993136494635355\n",
      "0.7000081019456244\n",
      "0.7007025544277132\n",
      "0.7013970069098022\n",
      "0.7020914593918911\n",
      "0.70278591187398\n",
      "0.703480364356069\n",
      "0.7041748168381579\n"
     ]
    },
    {
     "name": "stdout",
     "output_type": "stream",
     "text": [
      "0.7048692693202467\n",
      "0.7055637218023357\n",
      "0.7062581742844246\n",
      "0.7069526267665135\n",
      "0.7076470792486024\n",
      "0.7083415317306914\n",
      "0.7090359842127802\n",
      "0.7097304366948691\n",
      "0.7104248891769581\n",
      "0.711119341659047\n",
      "0.7118137941411359\n"
     ]
    },
    {
     "name": "stdout",
     "output_type": "stream",
     "text": [
      "0.7125082466232248\n",
      "0.7132026991053138\n",
      "0.7138971515874026\n",
      "0.7145916040694915\n",
      "0.7152860565515805\n",
      "0.7159805090336694\n",
      "0.7166749615157583\n",
      "0.7173694139978471\n",
      "0.7180638664799361\n",
      "0.718758318962025\n",
      "0.7194527714441139\n",
      "0.7201472239262029\n"
     ]
    },
    {
     "name": "stdout",
     "output_type": "stream",
     "text": [
      "0.7208416764082918\n",
      "0.7215361288903807\n",
      "0.7222305813724695\n",
      "0.7229250338545585\n",
      "0.7236194863366474\n",
      "0.7243139388187363\n",
      "0.7250083913008253\n",
      "0.7257028437829142\n",
      "0.726397296265003\n",
      "0.7270917487470919\n"
     ]
    },
    {
     "name": "stdout",
     "output_type": "stream",
     "text": [
      "0.7277862012291809\n",
      "0.7284806537112698\n",
      "0.7291751061933587\n",
      "0.7298695586754477\n",
      "0.7305640111575366\n",
      "0.7312584636396254\n",
      "0.7319529161217144\n",
      "0.7326473686038033\n",
      "0.7333418210858922\n",
      "0.7340362735679811\n",
      "0.7347307260500701\n"
     ]
    },
    {
     "name": "stdout",
     "output_type": "stream",
     "text": [
      "0.7354251785321589\n",
      "0.7361196310142478\n",
      "0.7368140834963368\n",
      "0.7375085359784257\n",
      "0.7382029884605146\n",
      "0.7388974409426035\n",
      "0.7395918934246924\n",
      "0.7402863459067813\n",
      "0.7409807983888702\n",
      "0.7416752508709592\n",
      "0.7423697033530481\n"
     ]
    },
    {
     "name": "stdout",
     "output_type": "stream",
     "text": [
      "0.743064155835137\n",
      "0.7437586083172258\n",
      "0.7444530607993148\n",
      "0.7451475132814037\n",
      "0.7458419657634926\n",
      "0.7465364182455816\n",
      "0.7472308707276705\n",
      "0.7479253232097594\n"
     ]
    },
    {
     "name": "stdout",
     "output_type": "stream",
     "text": [
      "0.7486197756918482\n",
      "0.7493142281739372\n",
      "0.7500086806560261\n",
      "0.750703133138115\n",
      "0.751397585620204\n",
      "0.7520920381022929\n",
      "0.7527864905843817\n",
      "0.7534809430664707\n",
      "0.7541753955485596\n",
      "0.7548698480306485\n",
      "0.7555643005127374\n",
      "0.7562587529948264\n"
     ]
    },
    {
     "name": "stdout",
     "output_type": "stream",
     "text": [
      "0.7569532054769152\n",
      "0.7576476579590041\n",
      "0.7583421104410931\n",
      "0.759036562923182\n",
      "0.7597310154052709\n",
      "0.7604254678873598\n",
      "0.7611199203694488\n",
      "0.7618143728515376\n",
      "0.7625088253336265\n",
      "0.7632032778157155\n"
     ]
    },
    {
     "name": "stdout",
     "output_type": "stream",
     "text": [
      "0.7638977302978044\n",
      "0.7645921827798933\n",
      "0.7652866352619822\n",
      "0.7659810877440711\n",
      "0.76667554022616\n",
      "0.7673699927082489\n",
      "0.7680644451903379\n",
      "0.7687588976724268\n",
      "0.7694533501545157\n",
      "0.7701478026366045\n",
      "0.7708422551186935\n"
     ]
    },
    {
     "name": "stdout",
     "output_type": "stream",
     "text": [
      "0.7715367076007824\n",
      "0.7722311600828713\n",
      "0.7729256125649603\n",
      "0.7736200650470492\n",
      "0.774314517529138\n",
      "0.7750089700112269\n",
      "0.7757034224933159\n",
      "0.7763978749754048\n",
      "0.7770923274574937\n",
      "0.7777867799395827\n",
      "0.7784812324216716\n"
     ]
    },
    {
     "name": "stdout",
     "output_type": "stream",
     "text": [
      "0.7791756849037604\n",
      "0.7798701373858494\n",
      "0.7805645898679383\n",
      "0.7812590423500272\n",
      "0.7819534948321161\n",
      "0.7826479473142051\n",
      "0.7833423997962939\n",
      "0.7840368522783828\n",
      "0.7847313047604718\n",
      "0.7854257572425607\n"
     ]
    },
    {
     "name": "stdout",
     "output_type": "stream",
     "text": [
      "0.7861202097246496\n",
      "0.7868146622067385\n",
      "0.7875091146888274\n",
      "0.7882035671709163\n",
      "0.7888980196530052\n",
      "0.7895924721350942\n",
      "0.7902869246171831\n",
      "0.790981377099272\n",
      "0.7916758295813608\n",
      "0.7923702820634498\n"
     ]
    },
    {
     "name": "stdout",
     "output_type": "stream",
     "text": [
      "0.7930647345455387\n",
      "0.7937591870276276\n",
      "0.7944536395097166\n",
      "0.7951480919918055\n",
      "0.7958425444738944\n",
      "0.7965369969559832\n",
      "0.7972314494380722\n",
      "0.7979259019201611\n",
      "0.79862035440225\n",
      "0.799314806884339\n",
      "0.8000092593664279\n"
     ]
    },
    {
     "name": "stdout",
     "output_type": "stream",
     "text": [
      "0.8007037118485167\n",
      "0.8013981643306057\n",
      "0.8020926168126946\n",
      "0.8027870692947835\n",
      "0.8034815217768724\n",
      "0.8041759742589614\n",
      "0.8048704267410502\n",
      "0.8055648792231391\n",
      "0.8062593317052281\n"
     ]
    },
    {
     "name": "stdout",
     "output_type": "stream",
     "text": [
      "0.806953784187317\n",
      "0.8076482366694059\n",
      "0.8083426891514948\n",
      "0.8090371416335838\n",
      "0.8097315941156726\n",
      "0.8104260465977615\n",
      "0.8111204990798505\n",
      "0.8118149515619394\n",
      "0.8125094040440283\n"
     ]
    },
    {
     "name": "stdout",
     "output_type": "stream",
     "text": [
      "0.8132038565261172\n",
      "0.8138983090082061\n",
      "0.814592761490295\n",
      "0.8152872139723839\n",
      "0.8159816664544729\n",
      "0.8166761189365618\n",
      "0.8173705714186507\n",
      "0.8180650239007395\n",
      "0.8187594763828285\n"
     ]
    },
    {
     "name": "stdout",
     "output_type": "stream",
     "text": [
      "0.8194539288649174\n",
      "0.8201483813470063\n",
      "0.8208428338290953\n",
      "0.8215372863111842\n",
      "0.822231738793273\n",
      "0.8229261912753619\n",
      "0.8236206437574509\n",
      "0.8243150962395398\n",
      "0.8250095487216287\n"
     ]
    },
    {
     "name": "stdout",
     "output_type": "stream",
     "text": [
      "0.8257040012037177\n",
      "0.8263984536858066\n",
      "0.8270929061678954\n",
      "0.8277873586499844\n",
      "0.8284818111320733\n",
      "0.8291762636141622\n",
      "0.8298707160962511\n",
      "0.8305651685783401\n",
      "0.8312596210604289\n",
      "0.8319540735425178\n",
      "0.8326485260246068\n",
      "0.8333429785066957\n"
     ]
    },
    {
     "name": "stdout",
     "output_type": "stream",
     "text": [
      "0.8340374309887846\n",
      "0.8347318834708735\n",
      "0.8354263359529625\n",
      "0.8361207884350513\n",
      "0.8368152409171402\n",
      "0.8375096933992292\n",
      "0.8382041458813181\n",
      "0.838898598363407\n",
      "0.8395930508454958\n",
      "0.8402875033275848\n",
      "0.8409819558096737\n"
     ]
    },
    {
     "name": "stdout",
     "output_type": "stream",
     "text": [
      "0.8416764082917626\n",
      "0.8423708607738516\n",
      "0.8430653132559405\n",
      "0.8437597657380294\n",
      "0.8444542182201182\n",
      "0.8451486707022072\n",
      "0.8458431231842961\n",
      "0.846537575666385\n",
      "0.847232028148474\n"
     ]
    },
    {
     "name": "stdout",
     "output_type": "stream",
     "text": [
      "0.8479264806305629\n",
      "0.8486209331126517\n",
      "0.8493153855947407\n",
      "0.8500098380768296\n",
      "0.8507042905589185\n",
      "0.8513987430410074\n",
      "0.8520931955230964\n",
      "0.8527876480051853\n",
      "0.8534821004872741\n",
      "0.8541765529693631\n",
      "0.854871005451452\n"
     ]
    },
    {
     "name": "stdout",
     "output_type": "stream",
     "text": [
      "0.8555654579335409\n",
      "0.8562599104156298\n",
      "0.8569543628977188\n",
      "0.8576488153798076\n",
      "0.8583432678618965\n",
      "0.8590377203439855\n",
      "0.8597321728260744\n",
      "0.8604266253081633\n",
      "0.8611210777902522\n",
      "0.8618155302723411\n"
     ]
    },
    {
     "name": "stdout",
     "output_type": "stream",
     "text": [
      "0.86250998275443\n",
      "0.8632044352365189\n",
      "0.8638988877186079\n",
      "0.8645933402006968\n",
      "0.8652877926827857\n",
      "0.8659822451648745\n",
      "0.8666766976469635\n",
      "0.8673711501290524\n",
      "0.8680656026111413\n",
      "0.8687600550932303\n",
      "0.8694545075753192\n",
      "0.870148960057408\n"
     ]
    },
    {
     "name": "stdout",
     "output_type": "stream",
     "text": [
      "0.8708434125394969\n",
      "0.8715378650215859\n",
      "0.8722323175036748\n",
      "0.8729267699857637\n",
      "0.8736212224678527\n",
      "0.8743156749499416\n",
      "0.8750101274320304\n",
      "0.8757045799141194\n",
      "0.8763990323962083\n",
      "0.8770934848782972\n",
      "0.8777879373603861\n",
      "0.8784823898424751\n"
     ]
    },
    {
     "name": "stdout",
     "output_type": "stream",
     "text": [
      "0.879176842324564\n",
      "0.8798712948066528\n",
      "0.8805657472887418\n",
      "0.8812601997708307\n",
      "0.8819546522529196\n",
      "0.8826491047350085\n",
      "0.8833435572170975\n",
      "0.8840380096991863\n",
      "0.8847324621812752\n",
      "0.8854269146633642\n",
      "0.8861213671454531\n",
      "0.886815819627542\n"
     ]
    },
    {
     "name": "stdout",
     "output_type": "stream",
     "text": [
      "0.8875102721096308\n",
      "0.8882047245917198\n",
      "0.8888991770738087\n",
      "0.8895936295558976\n",
      "0.8902880820379866\n",
      "0.8909825345200755\n",
      "0.8916769870021644\n",
      "0.8923714394842532\n"
     ]
    },
    {
     "name": "stdout",
     "output_type": "stream",
     "text": [
      "0.8930658919663422\n",
      "0.8937603444484311\n",
      "0.89445479693052\n",
      "0.895149249412609\n",
      "0.8958437018946979\n",
      "0.8965381543767867\n",
      "0.8972326068588757\n",
      "0.8979270593409646\n",
      "0.8986215118230535\n",
      "0.8993159643051424\n"
     ]
    },
    {
     "name": "stdout",
     "output_type": "stream",
     "text": [
      "0.9000104167872314\n",
      "0.9007048692693203\n",
      "0.9013993217514091\n",
      "0.9020937742334981\n",
      "0.902788226715587\n",
      "0.9034826791976759\n",
      "0.9041771316797648\n",
      "0.9048715841618538\n",
      "0.9055660366439426\n",
      "0.9062604891260315\n",
      "0.9069549416081205\n",
      "0.9076493940902094\n"
     ]
    },
    {
     "name": "stdout",
     "output_type": "stream",
     "text": [
      "0.9083438465722983\n",
      "0.9090382990543872\n",
      "0.9097327515364761\n",
      "0.910427204018565\n",
      "0.9111216565006539\n",
      "0.9118161089827429\n",
      "0.9125105614648318\n",
      "0.9132050139469207\n",
      "0.9138994664290095\n",
      "0.9145939189110985\n",
      "0.9152883713931874\n"
     ]
    },
    {
     "name": "stdout",
     "output_type": "stream",
     "text": [
      "0.9159828238752763\n",
      "0.9166772763573653\n",
      "0.9173717288394542\n",
      "0.918066181321543\n",
      "0.9187606338036319\n",
      "0.9194550862857209\n",
      "0.9201495387678098\n",
      "0.9208439912498987\n",
      "0.9215384437319877\n",
      "0.9222328962140766\n",
      "0.9229273486961654\n"
     ]
    },
    {
     "name": "stdout",
     "output_type": "stream",
     "text": [
      "0.9236218011782544\n",
      "0.9243162536603433\n",
      "0.9250107061424322\n",
      "0.9257051586245211\n",
      "0.9263996111066101\n",
      "0.927094063588699\n",
      "0.9277885160707878\n",
      "0.9284829685528768\n",
      "0.9291774210349657\n"
     ]
    },
    {
     "name": "stdout",
     "output_type": "stream",
     "text": [
      "0.9298718735170546\n",
      "0.9305663259991435\n",
      "0.9312607784812325\n",
      "0.9319552309633213\n",
      "0.9326496834454102\n",
      "0.9333441359274992\n",
      "0.9340385884095881\n",
      "0.934733040891677\n",
      "0.9354274933737659\n"
     ]
    },
    {
     "name": "stdout",
     "output_type": "stream",
     "text": [
      "0.9361219458558548\n",
      "0.9368163983379437\n",
      "0.9375108508200326\n",
      "0.9382053033021216\n",
      "0.9388997557842105\n",
      "0.9395942082662994\n",
      "0.9402886607483882\n",
      "0.9409831132304772\n",
      "0.9416775657125661\n",
      "0.942372018194655\n",
      "0.943066470676744\n"
     ]
    },
    {
     "name": "stdout",
     "output_type": "stream",
     "text": [
      "0.9437609231588329\n",
      "0.9444553756409217\n",
      "0.9451498281230107\n",
      "0.9458442806050996\n",
      "0.9465387330871885\n",
      "0.9472331855692774\n",
      "0.9479276380513664\n",
      "0.9486220905334553\n",
      "0.9493165430155441\n",
      "0.9500109954976331\n",
      "0.950705447979722\n",
      "0.9513999004618109\n"
     ]
    },
    {
     "name": "stdout",
     "output_type": "stream",
     "text": [
      "0.9520943529438998\n",
      "0.9527888054259888\n",
      "0.9534832579080776\n",
      "0.9541777103901665\n",
      "0.9548721628722555\n",
      "0.9555666153543444\n",
      "0.9562610678364333\n",
      "0.9569555203185222\n"
     ]
    },
    {
     "name": "stdout",
     "output_type": "stream",
     "text": [
      "0.9576499728006111\n",
      "0.9583444252827\n",
      "0.9590388777647889\n",
      "0.9597333302468779\n",
      "0.9604277827289668\n",
      "0.9611222352110557\n",
      "0.9618166876931445\n",
      "0.9625111401752335\n",
      "0.9632055926573224\n",
      "0.9639000451394113\n",
      "0.9645944976215003\n"
     ]
    },
    {
     "name": "stdout",
     "output_type": "stream",
     "text": [
      "0.9652889501035892\n",
      "0.965983402585678\n",
      "0.9666778550677669\n",
      "0.9673723075498559\n",
      "0.9680667600319448\n",
      "0.9687612125140337\n",
      "0.9694556649961227\n",
      "0.9701501174782116\n",
      "0.9708445699603004\n",
      "0.9715390224423894\n",
      "0.9722334749244783\n"
     ]
    },
    {
     "name": "stdout",
     "output_type": "stream",
     "text": [
      "0.9729279274065672\n",
      "0.9736223798886561\n",
      "0.9743168323707451\n",
      "0.975011284852834\n",
      "0.9757057373349228\n",
      "0.9764001898170118\n",
      "0.9770946422991007\n",
      "0.9777890947811896\n",
      "0.9784835472632785\n"
     ]
    },
    {
     "name": "stdout",
     "output_type": "stream",
     "text": [
      "0.9791779997453675\n",
      "0.9798724522274563\n",
      "0.9805669047095452\n",
      "0.9812613571916342\n",
      "0.9819558096737231\n",
      "0.982650262155812\n",
      "0.9833447146379009\n",
      "0.9840391671199898\n",
      "0.9847336196020787\n",
      "0.9854280720841676\n",
      "0.9861225245662566\n"
     ]
    },
    {
     "name": "stdout",
     "output_type": "stream",
     "text": [
      "0.9868169770483455\n",
      "0.9875114295304344\n",
      "0.9882058820125232\n",
      "0.9889003344946122\n",
      "0.9895947869767011\n",
      "0.99028923945879\n",
      "0.990983691940879\n",
      "0.9916781444229679\n",
      "0.9923725969050567\n",
      "0.9930670493871457\n",
      "0.9937615018692346\n",
      "0.9944559543513235\n"
     ]
    },
    {
     "name": "stdout",
     "output_type": "stream",
     "text": [
      "0.9951504068334124\n",
      "0.9958448593155014\n",
      "0.9965393117975903\n",
      "0.9972337642796791\n",
      "0.9979282167617681\n",
      "0.998622669243857\n",
      "\tsleep\n",
      "\t\t None processing, none filter sensors!\n",
      "0.0006944524820889131\n",
      "0.0013889049641778262\n",
      "0.0020833574462667394\n",
      "0.0027778099283556523\n"
     ]
    },
    {
     "name": "stdout",
     "output_type": "stream",
     "text": [
      "0.0034722624104445653\n",
      "0.004166714892533479\n",
      "0.004861167374622392\n",
      "0.005555619856711305\n",
      "0.006250072338800218\n",
      "0.006944524820889131\n",
      "0.007638977302978044\n",
      "0.008333429785066957\n",
      "0.00902788226715587\n",
      "0.009722334749244783\n",
      "0.010416787231333696\n",
      "0.01111123971342261\n"
     ]
    },
    {
     "name": "stdout",
     "output_type": "stream",
     "text": [
      "0.011805692195511521\n",
      "0.012500144677600435\n",
      "0.013194597159689347\n",
      "0.013889049641778261\n",
      "0.014583502123867175\n",
      "0.015277954605956087\n",
      "0.015972407088045\n",
      "0.016666859570133915\n",
      "0.017361312052222827\n",
      "0.01805576453431174\n",
      "0.01875021701640065\n"
     ]
    },
    {
     "name": "stdout",
     "output_type": "stream",
     "text": [
      "0.019444669498489567\n",
      "0.02013912198057848\n",
      "0.02083357446266739\n",
      "0.021528026944756307\n",
      "0.02222247942684522\n",
      "0.02291693190893413\n",
      "0.023611384391023043\n",
      "0.02430583687311196\n",
      "0.02500028935520087\n",
      "0.025694741837289783\n"
     ]
    },
    {
     "name": "stdout",
     "output_type": "stream",
     "text": [
      "0.026389194319378695\n",
      "0.02708364680146761\n",
      "0.027778099283556523\n",
      "0.028472551765645435\n",
      "0.02916700424773435\n",
      "0.029861456729823262\n",
      "0.030555909211912174\n",
      "0.03125036169400109\n",
      "0.03194481417609\n",
      "0.032639266658178914\n"
     ]
    },
    {
     "name": "stdout",
     "output_type": "stream",
     "text": [
      "0.03333371914026783\n",
      "0.03402817162235674\n",
      "0.034722624104445654\n",
      "0.03541707658653457\n",
      "0.03611152906862348\n",
      "0.036805981550712394\n",
      "0.0375004340328013\n",
      "0.03819488651489022\n",
      "0.038889338996979134\n",
      "0.03958379147906804\n"
     ]
    },
    {
     "name": "stdout",
     "output_type": "stream",
     "text": [
      "0.04027824396115696\n",
      "0.04097269644324587\n",
      "0.04166714892533478\n",
      "0.0423616014074237\n",
      "0.04305605388951261\n",
      "0.04375050637160152\n",
      "0.04444495885369044\n",
      "0.045139411335779346\n",
      "0.04583386381786826\n",
      "0.04652831629995718\n",
      "0.047222768782046086\n"
     ]
    },
    {
     "name": "stdout",
     "output_type": "stream",
     "text": [
      "0.047917221264135\n",
      "0.04861167374622392\n",
      "0.049306126228312826\n",
      "0.05000057871040174\n",
      "0.05069503119249066\n",
      "0.051389483674579566\n",
      "0.05208393615666848\n",
      "0.05277838863875739\n",
      "0.053472841120846305\n",
      "0.05416729360293522\n",
      "0.05486174608502413\n"
     ]
    },
    {
     "name": "stdout",
     "output_type": "stream",
     "text": [
      "0.055556198567113045\n",
      "0.05625065104920196\n",
      "0.05694510353129087\n",
      "0.057639556013379785\n",
      "0.0583340084954687\n",
      "0.05902846097755761\n",
      "0.059722913459646525\n",
      "0.06041736594173543\n",
      "0.06111181842382435\n",
      "0.061806270905913265\n",
      "0.06250072338800218\n"
     ]
    },
    {
     "name": "stdout",
     "output_type": "stream",
     "text": [
      "0.06319517587009109\n",
      "0.06388962835218\n",
      "0.06458408083426892\n",
      "0.06527853331635783\n",
      "0.06597298579844674\n",
      "0.06666743828053566\n",
      "0.06736189076262457\n",
      "0.06805634324471348\n",
      "0.0687507957268024\n",
      "0.06944524820889131\n"
     ]
    },
    {
     "name": "stdout",
     "output_type": "stream",
     "text": [
      "0.07013970069098022\n",
      "0.07083415317306914\n",
      "0.07152860565515805\n",
      "0.07222305813724696\n",
      "0.07291751061933587\n",
      "0.07361196310142479\n",
      "0.0743064155835137\n",
      "0.0750008680656026\n",
      "0.07569532054769153\n",
      "0.07638977302978044\n"
     ]
    },
    {
     "name": "stdout",
     "output_type": "stream",
     "text": [
      "0.07708422551186934\n",
      "0.07777867799395827\n",
      "0.07847313047604718\n",
      "0.07916758295813608\n",
      "0.07986203544022501\n",
      "0.08055648792231392\n"
     ]
    },
    {
     "name": "stdout",
     "output_type": "stream",
     "text": [
      "0.08125094040440282\n",
      "0.08194539288649175\n",
      "0.08263984536858066\n",
      "0.08333429785066956\n",
      "0.08402875033275849\n",
      "0.0847232028148474\n",
      "0.0854176552969363\n",
      "0.08611210777902523\n"
     ]
    },
    {
     "name": "stdout",
     "output_type": "stream",
     "text": [
      "0.08680656026111414\n",
      "0.08750101274320304\n",
      "0.08819546522529197\n",
      "0.08888991770738087\n",
      "0.08958437018946978\n",
      "0.09027882267155869\n",
      "0.09097327515364761\n",
      "0.09166772763573652\n"
     ]
    },
    {
     "name": "stdout",
     "output_type": "stream",
     "text": [
      "0.09236218011782543\n",
      "0.09305663259991435\n",
      "0.09375108508200326\n",
      "0.09444553756409217\n",
      "0.0951399900461811\n",
      "0.09583444252827\n",
      "0.09652889501035891\n",
      "0.09722334749244783\n"
     ]
    },
    {
     "name": "stdout",
     "output_type": "stream",
     "text": [
      "0.09791779997453674\n",
      "0.09861225245662565\n",
      "0.09930670493871457\n",
      "0.10000115742080348\n",
      "0.10069560990289239\n",
      "0.10139006238498131\n",
      "0.10208451486707022\n",
      "0.10277896734915913\n",
      "0.10347341983124805\n",
      "0.10416787231333696\n"
     ]
    },
    {
     "name": "stdout",
     "output_type": "stream",
     "text": [
      "0.10486232479542587\n",
      "0.10555677727751478\n",
      "0.1062512297596037\n",
      "0.10694568224169261\n",
      "0.10764013472378152\n",
      "0.10833458720587044\n",
      "0.10902903968795935\n",
      "0.10972349217004826\n",
      "0.11041794465213718\n",
      "0.11111239713422609\n",
      "0.111806849616315\n"
     ]
    },
    {
     "name": "stdout",
     "output_type": "stream",
     "text": [
      "0.11250130209840392\n",
      "0.11319575458049283\n",
      "0.11389020706258174\n",
      "0.11458465954467066\n",
      "0.11527911202675957\n",
      "0.11597356450884848\n",
      "0.1166680169909374\n",
      "0.11736246947302631\n",
      "0.11805692195511522\n",
      "0.11875137443720414\n",
      "0.11944582691929305\n"
     ]
    },
    {
     "name": "stdout",
     "output_type": "stream",
     "text": [
      "0.12014027940138196\n",
      "0.12083473188347087\n",
      "0.12152918436555979\n",
      "0.1222236368476487\n",
      "0.1229180893297376\n",
      "0.12361254181182653\n",
      "0.12430699429391544\n",
      "0.12500144677600436\n",
      "0.12569589925809327\n",
      "0.12639035174018218\n",
      "0.12708480422227109\n"
     ]
    },
    {
     "name": "stdout",
     "output_type": "stream",
     "text": [
      "0.12777925670436\n",
      "0.1284737091864489\n",
      "0.12916816166853784\n",
      "0.12986261415062675\n",
      "0.13055706663271566\n",
      "0.13125151911480457\n",
      "0.13194597159689347\n",
      "0.13264042407898238\n",
      "0.13333487656107132\n",
      "0.13402932904316023\n"
     ]
    },
    {
     "name": "stdout",
     "output_type": "stream",
     "text": [
      "0.13472378152524914\n",
      "0.13541823400733805\n",
      "0.13611268648942695\n",
      "0.13680713897151586\n",
      "0.1375015914536048\n",
      "0.1381960439356937\n",
      "0.13889049641778262\n",
      "0.13958494889987152\n",
      "0.14027940138196043\n",
      "0.14097385386404934\n",
      "0.14166830634613828\n"
     ]
    },
    {
     "name": "stdout",
     "output_type": "stream",
     "text": [
      "0.1423627588282272\n",
      "0.1430572113103161\n",
      "0.143751663792405\n",
      "0.1444461162744939\n",
      "0.14514056875658282\n",
      "0.14583502123867173\n",
      "0.14652947372076067\n",
      "0.14722392620284958\n",
      "0.14791837868493848\n",
      "0.1486128311670274\n"
     ]
    },
    {
     "name": "stdout",
     "output_type": "stream",
     "text": [
      "0.1493072836491163\n",
      "0.1500017361312052\n",
      "0.15069618861329415\n",
      "0.15139064109538306\n",
      "0.15208509357747196\n",
      "0.15277954605956087\n",
      "0.15347399854164978\n",
      "0.1541684510237387\n",
      "0.15486290350582763\n",
      "0.15555735598791653\n",
      "0.15625180847000544\n"
     ]
    },
    {
     "name": "stdout",
     "output_type": "stream",
     "text": [
      "0.15694626095209435\n",
      "0.15764071343418326\n",
      "0.15833516591627217\n",
      "0.1590296183983611\n",
      "0.15972407088045001\n",
      "0.16041852336253892\n",
      "0.16111297584462783\n",
      "0.16180742832671674\n",
      "0.16250188080880565\n",
      "0.16319633329089456\n"
     ]
    },
    {
     "name": "stdout",
     "output_type": "stream",
     "text": [
      "0.1638907857729835\n",
      "0.1645852382550724\n",
      "0.1652796907371613\n",
      "0.16597414321925022\n",
      "0.16666859570133913\n",
      "0.16736304818342804\n",
      "0.16805750066551697\n",
      "0.16875195314760588\n",
      "0.1694464056296948\n",
      "0.1701408581117837\n",
      "0.1708353105938726\n"
     ]
    },
    {
     "name": "stdout",
     "output_type": "stream",
     "text": [
      "0.17152976307596152\n",
      "0.17222421555805045\n",
      "0.17291866804013936\n",
      "0.17361312052222827\n",
      "0.17430757300431718\n",
      "0.1750020254864061\n",
      "0.175696477968495\n",
      "0.17639093045058393\n",
      "0.17708538293267284\n",
      "0.17777983541476175\n",
      "0.17847428789685066\n",
      "0.17916874037893957\n"
     ]
    },
    {
     "name": "stdout",
     "output_type": "stream",
     "text": [
      "0.17986319286102848\n",
      "0.18055764534311738\n",
      "0.18125209782520632\n",
      "0.18194655030729523\n",
      "0.18264100278938414\n",
      "0.18333545527147305\n",
      "0.18402990775356196\n",
      "0.18472436023565086\n",
      "0.1854188127177398\n"
     ]
    },
    {
     "name": "stdout",
     "output_type": "stream",
     "text": [
      "0.1861132651998287\n",
      "0.18680771768191762\n",
      "0.18750217016400653\n",
      "0.18819662264609544\n",
      "0.18889107512818434\n",
      "0.18958552761027328\n",
      "0.1902799800923622\n",
      "0.1909744325744511\n",
      "0.19166888505654\n",
      "0.19236333753862891\n"
     ]
    },
    {
     "name": "stdout",
     "output_type": "stream",
     "text": [
      "0.19305779002071782\n",
      "0.19375224250280673\n",
      "0.19444669498489567\n",
      "0.19514114746698458\n",
      "0.19583559994907349\n",
      "0.1965300524311624\n",
      "0.1972245049132513\n",
      "0.1979189573953402\n",
      "0.19861340987742915\n",
      "0.19930786235951806\n",
      "0.20000231484160697\n"
     ]
    },
    {
     "name": "stdout",
     "output_type": "stream",
     "text": [
      "0.20069676732369587\n",
      "0.20139121980578478\n",
      "0.2020856722878737\n",
      "0.20278012476996263\n",
      "0.20347457725205154\n",
      "0.20416902973414044\n",
      "0.20486348221622935\n",
      "0.20555793469831826\n",
      "0.20625238718040717\n",
      "0.2069468396624961\n",
      "0.20764129214458502\n"
     ]
    },
    {
     "name": "stdout",
     "output_type": "stream",
     "text": [
      "0.20833574462667392\n",
      "0.20903019710876283\n",
      "0.20972464959085174\n",
      "0.21041910207294065\n",
      "0.21111355455502956\n",
      "0.2118080070371185\n",
      "0.2125024595192074\n",
      "0.2131969120012963\n",
      "0.21389136448338522\n",
      "0.21458581696547413\n",
      "0.21528026944756304\n"
     ]
    },
    {
     "name": "stdout",
     "output_type": "stream",
     "text": [
      "0.21597472192965197\n",
      "0.21666917441174088\n",
      "0.2173636268938298\n",
      "0.2180580793759187\n",
      "0.2187525318580076\n",
      "0.21944698434009652\n",
      "0.22014143682218545\n",
      "0.22083588930427436\n",
      "0.22153034178636327\n",
      "0.22222479426845218\n",
      "0.2229192467505411\n"
     ]
    },
    {
     "name": "stdout",
     "output_type": "stream",
     "text": [
      "0.22361369923263\n",
      "0.22430815171471893\n",
      "0.22500260419680784\n",
      "0.22569705667889675\n",
      "0.22639150916098566\n",
      "0.22708596164307457\n",
      "0.22778041412516348\n",
      "0.22847486660725239\n",
      "0.22916931908934132\n",
      "0.22986377157143023\n"
     ]
    },
    {
     "name": "stdout",
     "output_type": "stream",
     "text": [
      "0.23055822405351914\n",
      "0.23125267653560805\n",
      "0.23194712901769696\n",
      "0.23264158149978587\n",
      "0.2333360339818748\n",
      "0.2340304864639637\n",
      "0.23472493894605262\n",
      "0.23541939142814153\n",
      "0.23611384391023044\n",
      "0.23680829639231935\n",
      "0.23750274887440828\n"
     ]
    },
    {
     "name": "stdout",
     "output_type": "stream",
     "text": [
      "0.2381972013564972\n",
      "0.2388916538385861\n",
      "0.239586106320675\n",
      "0.24028055880276392\n",
      "0.24097501128485282\n",
      "0.24166946376694173\n",
      "0.24236391624903067\n",
      "0.24305836873111958\n",
      "0.2437528212132085\n",
      "0.2444472736952974\n",
      "0.2451417261773863\n"
     ]
    },
    {
     "name": "stdout",
     "output_type": "stream",
     "text": [
      "0.2458361786594752\n",
      "0.24653063114156415\n",
      "0.24722508362365306\n",
      "0.24791953610574197\n",
      "0.24861398858783088\n",
      "0.24930844106991978\n",
      "0.2500028935520087\n",
      "0.2506973460340976\n",
      "0.25139179851618654\n",
      "0.2520862509982754\n",
      "0.25278070348036435\n"
     ]
    },
    {
     "name": "stdout",
     "output_type": "stream",
     "text": [
      "0.2534751559624533\n",
      "0.25416960844454217\n",
      "0.2548640609266311\n",
      "0.25555851340872\n",
      "0.2562529658908089\n",
      "0.2569474183728978\n",
      "0.25764187085498674\n",
      "0.2583363233370757\n",
      "0.25903077581916456\n",
      "0.2597252283012535\n",
      "0.2604196807833424\n"
     ]
    },
    {
     "name": "stdout",
     "output_type": "stream",
     "text": [
      "0.2611141332654313\n",
      "0.26180858574752025\n",
      "0.26250303822960913\n",
      "0.26319749071169807\n",
      "0.26389194319378695\n",
      "0.2645863956758759\n",
      "0.26528084815796477\n",
      "0.2659753006400537\n",
      "0.26666975312214264\n",
      "0.2673642056042315\n"
     ]
    },
    {
     "name": "stdout",
     "output_type": "stream",
     "text": [
      "0.26805865808632046\n",
      "0.26875311056840934\n",
      "0.2694475630504983\n",
      "0.2701420155325872\n",
      "0.2708364680146761\n",
      "0.271530920496765\n",
      "0.2722253729788539\n",
      "0.27291982546094284\n",
      "0.2736142779430317\n",
      "0.27430873042512066\n"
     ]
    },
    {
     "name": "stdout",
     "output_type": "stream",
     "text": [
      "0.2750031829072096\n",
      "0.2756976353892985\n",
      "0.2763920878713874\n",
      "0.2770865403534763\n",
      "0.27778099283556523\n",
      "0.2784754453176541\n",
      "0.27916989779974305\n",
      "0.279864350281832\n",
      "0.28055880276392087\n",
      "0.2812532552460098\n",
      "0.2819477077280987\n"
     ]
    },
    {
     "name": "stdout",
     "output_type": "stream",
     "text": [
      "0.2826421602101876\n",
      "0.28333661269227656\n",
      "0.28403106517436544\n",
      "0.2847255176564544\n",
      "0.28541997013854326\n",
      "0.2861144226206322\n",
      "0.2868088751027211\n",
      "0.28750332758481\n",
      "0.28819778006689895\n",
      "0.2888922325489878\n",
      "0.28958668503107676\n"
     ]
    },
    {
     "name": "stdout",
     "output_type": "stream",
     "text": [
      "0.29028113751316564\n",
      "0.2909755899952546\n",
      "0.29167004247734346\n",
      "0.2923644949594324\n",
      "0.29305894744152133\n",
      "0.2937533999236102\n",
      "0.29444785240569915\n",
      "0.29514230488778803\n",
      "0.29583675736987697\n",
      "0.2965312098519659\n",
      "0.2972256623340548\n"
     ]
    },
    {
     "name": "stdout",
     "output_type": "stream",
     "text": [
      "0.2979201148161437\n",
      "0.2986145672982326\n",
      "0.29930901978032154\n",
      "0.3000034722624104\n",
      "0.30069792474449936\n",
      "0.3013923772265883\n",
      "0.3020868297086772\n",
      "0.3027812821907661\n",
      "0.303475734672855\n",
      "0.3041701871549439\n"
     ]
    },
    {
     "name": "stdout",
     "output_type": "stream",
     "text": [
      "0.30486463963703286\n",
      "0.30555909211912174\n",
      "0.3062535446012107\n",
      "0.30694799708329956\n",
      "0.3076424495653885\n",
      "0.3083369020474774\n",
      "0.3090313545295663\n",
      "0.30972580701165525\n",
      "0.31042025949374413\n",
      "0.31111471197583307\n"
     ]
    },
    {
     "name": "stdout",
     "output_type": "stream",
     "text": [
      "0.31180916445792195\n",
      "0.3125036169400109\n",
      "0.31319806942209977\n",
      "0.3138925219041887\n",
      "0.31458697438627764\n",
      "0.3152814268683665\n",
      "0.31597587935045546\n",
      "0.31667033183254434\n",
      "0.3173647843146333\n",
      "0.3180592367967222\n",
      "0.3187536892788111\n"
     ]
    },
    {
     "name": "stdout",
     "output_type": "stream",
     "text": [
      "0.31944814176090003\n",
      "0.3201425942429889\n",
      "0.32083704672507785\n",
      "0.3215314992071667\n",
      "0.32222595168925566\n",
      "0.3229204041713446\n",
      "0.3236148566534335\n",
      "0.3243093091355224\n",
      "0.3250037616176113\n",
      "0.32569821409970023\n",
      "0.3263926665817891\n"
     ]
    },
    {
     "name": "stdout",
     "output_type": "stream",
     "text": [
      "0.32708711906387805\n",
      "0.327781571545967\n",
      "0.32847602402805587\n",
      "0.3291704765101448\n",
      "0.3298649289922337\n",
      "0.3305593814743226\n",
      "0.33125383395641156\n",
      "0.33194828643850044\n",
      "0.3326427389205894\n",
      "0.33333719140267826\n",
      "0.3340316438847672\n"
     ]
    },
    {
     "name": "stdout",
     "output_type": "stream",
     "text": [
      "0.3347260963668561\n",
      "0.335420548848945\n",
      "0.33611500133103395\n",
      "0.3368094538131228\n",
      "0.33750390629521176\n",
      "0.33819835877730064\n",
      "0.3388928112593896\n",
      "0.33958726374147846\n",
      "0.3402817162235674\n",
      "0.34097616870565634\n"
     ]
    },
    {
     "name": "stdout",
     "output_type": "stream",
     "text": [
      "0.3416706211877452\n",
      "0.34236507366983415\n",
      "0.34305952615192303\n",
      "0.34375397863401197\n",
      "0.3444484311161009\n",
      "0.3451428835981898\n",
      "0.3458373360802787\n",
      "0.3465317885623676\n",
      "0.34722624104445654\n",
      "0.3479206935265454\n",
      "0.34861514600863436\n"
     ]
    },
    {
     "name": "stdout",
     "output_type": "stream",
     "text": [
      "0.3493095984907233\n",
      "0.3500040509728122\n",
      "0.3506985034549011\n",
      "0.35139295593699\n",
      "0.35208740841907893\n",
      "0.35278186090116787\n",
      "0.35347631338325675\n",
      "0.3541707658653457\n",
      "0.35486521834743456\n",
      "0.3555596708295235\n",
      "0.3562541233116124\n"
     ]
    },
    {
     "name": "stdout",
     "output_type": "stream",
     "text": [
      "0.3569485757937013\n",
      "0.35764302827579025\n",
      "0.35833748075787913\n",
      "0.35903193323996807\n",
      "0.35972638572205695\n",
      "0.3604208382041459\n",
      "0.36111529068623477\n",
      "0.3618097431683237\n",
      "0.36250419565041264\n"
     ]
    },
    {
     "name": "stdout",
     "output_type": "stream",
     "text": [
      "0.3631986481325015\n",
      "0.36389310061459046\n",
      "0.36458755309667934\n",
      "0.3652820055787683\n",
      "0.3659764580608572\n",
      "0.3666709105429461\n",
      "0.36736536302503503\n",
      "0.3680598155071239\n",
      "0.36875426798921285\n",
      "0.36944872047130173\n"
     ]
    },
    {
     "name": "stdout",
     "output_type": "stream",
     "text": [
      "0.37014317295339066\n",
      "0.3708376254354796\n",
      "0.3715320779175685\n",
      "0.3722265303996574\n",
      "0.3729209828817463\n",
      "0.37361543536383524\n",
      "0.3743098878459241\n",
      "0.37500434032801305\n",
      "0.375698792810102\n",
      "0.37639324529219087\n",
      "0.3770876977742798\n"
     ]
    },
    {
     "name": "stdout",
     "output_type": "stream",
     "text": [
      "0.3777821502563687\n",
      "0.3784766027384576\n",
      "0.37917105522054656\n",
      "0.37986550770263544\n",
      "0.3805599601847244\n",
      "0.38125441266681326\n",
      "0.3819488651489022\n",
      "0.3826433176309911\n",
      "0.38333777011308\n",
      "0.38403222259516895\n",
      "0.38472667507725783\n"
     ]
    },
    {
     "name": "stdout",
     "output_type": "stream",
     "text": [
      "0.38542112755934677\n",
      "0.38611558004143565\n",
      "0.3868100325235246\n",
      "0.38750448500561346\n",
      "0.3881989374877024\n",
      "0.38889338996979134\n",
      "0.3895878424518802\n",
      "0.39028229493396915\n",
      "0.39097674741605803\n",
      "0.39167119989814697\n",
      "0.3923656523802359\n",
      "0.3930601048623248\n"
     ]
    },
    {
     "name": "stdout",
     "output_type": "stream",
     "text": [
      "0.3937545573444137\n",
      "0.3944490098265026\n",
      "0.39514346230859154\n",
      "0.3958379147906804\n",
      "0.39653236727276936\n",
      "0.3972268197548583\n",
      "0.3979212722369472\n",
      "0.3986157247190361\n",
      "0.399310177201125\n",
      "0.40000462968321393\n",
      "0.40069908216530287\n",
      "0.40139353464739175\n"
     ]
    },
    {
     "name": "stdout",
     "output_type": "stream",
     "text": [
      "0.4020879871294807\n",
      "0.40278243961156956\n",
      "0.4034768920936585\n",
      "0.4041713445757474\n",
      "0.4048657970578363\n",
      "0.40556024953992525\n",
      "0.40625470202201414\n",
      "0.40694915450410307\n",
      "0.40764360698619195\n",
      "0.4083380594682809\n"
     ]
    },
    {
     "name": "stdout",
     "output_type": "stream",
     "text": [
      "0.40903251195036977\n",
      "0.4097269644324587\n",
      "0.41042141691454764\n",
      "0.4111158693966365\n",
      "0.41181032187872546\n",
      "0.41250477436081434\n",
      "0.4131992268429033\n",
      "0.4138936793249922\n",
      "0.4145881318070811\n",
      "0.41528258428917003\n",
      "0.4159770367712589\n"
     ]
    },
    {
     "name": "stdout",
     "output_type": "stream",
     "text": [
      "0.41667148925334785\n",
      "0.41736594173543673\n",
      "0.41806039421752567\n",
      "0.4187548466996146\n",
      "0.4194492991817035\n",
      "0.4201437516637924\n",
      "0.4208382041458813\n",
      "0.42153265662797024\n",
      "0.4222271091100591\n"
     ]
    },
    {
     "name": "stdout",
     "output_type": "stream",
     "text": [
      "0.42292156159214805\n",
      "0.423616014074237\n",
      "0.42431046655632587\n",
      "0.4250049190384148\n",
      "0.4256993715205037\n",
      "0.4263938240025926\n",
      "0.42708827648468156\n"
     ]
    },
    {
     "name": "stdout",
     "output_type": "stream",
     "text": [
      "0.42778272896677044\n",
      "0.4284771814488594\n",
      "0.42917163393094826\n",
      "0.4298660864130372\n",
      "0.4305605388951261\n",
      "0.431254991377215\n",
      "0.43194944385930395\n",
      "0.43264389634139283\n",
      "0.43333834882348177\n"
     ]
    },
    {
     "name": "stdout",
     "output_type": "stream",
     "text": [
      "0.43403280130557065\n",
      "0.4347272537876596\n",
      "0.43542170626974847\n",
      "0.4361161587518374\n",
      "0.43681061123392634\n",
      "0.4375050637160152\n",
      "0.43819951619810416\n",
      "0.43889396868019304\n",
      "0.439588421162282\n"
     ]
    },
    {
     "name": "stdout",
     "output_type": "stream",
     "text": [
      "0.4402828736443709\n",
      "0.4409773261264598\n",
      "0.4416717786085487\n",
      "0.4423662310906376\n",
      "0.44306068357272654\n",
      "0.4437551360548154\n",
      "0.44444958853690436\n",
      "0.4451440410189933\n",
      "0.4458384935010822\n",
      "0.4465329459831711\n"
     ]
    },
    {
     "name": "stdout",
     "output_type": "stream",
     "text": [
      "0.44722739846526\n",
      "0.44792185094734893\n",
      "0.44861630342943787\n",
      "0.44931075591152675\n",
      "0.4500052083936157\n",
      "0.45069966087570457\n",
      "0.4513941133577935\n",
      "0.4520885658398824\n",
      "0.4527830183219713\n",
      "0.45347747080406026\n",
      "0.45417192328614914\n"
     ]
    },
    {
     "name": "stdout",
     "output_type": "stream",
     "text": [
      "0.4548663757682381\n",
      "0.45556082825032695\n",
      "0.4562552807324159\n",
      "0.45694973321450477\n",
      "0.4576441856965937\n",
      "0.45833863817868264\n",
      "0.4590330906607715\n",
      "0.45972754314286046\n",
      "0.46042199562494934\n",
      "0.4611164481070383\n",
      "0.4618109005891272\n"
     ]
    },
    {
     "name": "stdout",
     "output_type": "stream",
     "text": [
      "0.4625053530712161\n",
      "0.46319980555330503\n",
      "0.4638942580353939\n",
      "0.46458871051748285\n",
      "0.46528316299957173\n",
      "0.46597761548166067\n",
      "0.4666720679637496\n",
      "0.4673665204458385\n",
      "0.4680609729279274\n",
      "0.4687554254100163\n"
     ]
    },
    {
     "name": "stdout",
     "output_type": "stream",
     "text": [
      "0.46944987789210524\n",
      "0.4701443303741941\n",
      "0.47083878285628306\n",
      "0.471533235338372\n",
      "0.4722276878204609\n",
      "0.4729221403025498\n",
      "0.4736165927846387\n",
      "0.4743110452667276\n",
      "0.47500549774881656\n",
      "0.47569995023090544\n"
     ]
    },
    {
     "name": "stdout",
     "output_type": "stream",
     "text": [
      "0.4763944027129944\n",
      "0.47708885519508326\n",
      "0.4777833076771722\n",
      "0.4784777601592611\n",
      "0.47917221264135\n",
      "0.47986666512343895\n",
      "0.48056111760552783\n",
      "0.48125557008761677\n",
      "0.48195002256970565\n",
      "0.4826444750517946\n",
      "0.48333892753388347\n"
     ]
    },
    {
     "name": "stdout",
     "output_type": "stream",
     "text": [
      "0.4840333800159724\n",
      "0.48472783249806134\n",
      "0.4854222849801502\n",
      "0.48611673746223916\n",
      "0.48681118994432804\n",
      "0.487505642426417\n",
      "0.4882000949085059\n"
     ]
    },
    {
     "name": "stdout",
     "output_type": "stream",
     "text": [
      "0.4888945473905948\n",
      "0.48958899987268373\n",
      "0.4902834523547726\n",
      "0.49097790483686155\n",
      "0.4916723573189504\n",
      "0.49236680980103936\n",
      "0.4930612622831283\n",
      "0.4937557147652172\n"
     ]
    },
    {
     "name": "stdout",
     "output_type": "stream",
     "text": [
      "0.4944501672473061\n",
      "0.495144619729395\n",
      "0.49583907221148393\n",
      "0.49653352469357287\n",
      "0.49722797717566175\n",
      "0.4979224296577507\n",
      "0.49861688213983957\n",
      "0.4993113346219285\n",
      "0.5000057871040174\n"
     ]
    },
    {
     "name": "stdout",
     "output_type": "stream",
     "text": [
      "0.5007002395861063\n",
      "0.5013946920681952\n",
      "0.5020891445502842\n",
      "0.5027835970323731\n",
      "0.503478049514462\n",
      "0.5041725019965508\n",
      "0.5048669544786398\n",
      "0.5055614069607287\n",
      "0.5062558594428176\n",
      "0.5069503119249066\n",
      "0.5076447644069955\n"
     ]
    },
    {
     "name": "stdout",
     "output_type": "stream",
     "text": [
      "0.5083392168890843\n",
      "0.5090336693711732\n",
      "0.5097281218532622\n",
      "0.5104225743353511\n",
      "0.51111702681744\n",
      "0.511811479299529\n",
      "0.5125059317816179\n",
      "0.5132003842637067\n",
      "0.5138948367457956\n",
      "0.5145892892278846\n",
      "0.5152837417099735\n"
     ]
    },
    {
     "name": "stdout",
     "output_type": "stream",
     "text": [
      "0.5159781941920624\n",
      "0.5166726466741514\n",
      "0.5173670991562402\n",
      "0.5180615516383291\n",
      "0.5187560041204181\n",
      "0.519450456602507\n",
      "0.5201449090845959\n",
      "0.5208393615666848\n",
      "0.5215338140487737\n",
      "0.5222282665308626\n",
      "0.5229227190129515\n"
     ]
    },
    {
     "name": "stdout",
     "output_type": "stream",
     "text": [
      "0.5236171714950405\n",
      "0.5243116239771294\n",
      "0.5250060764592183\n",
      "0.5257005289413071\n",
      "0.5263949814233961\n",
      "0.527089433905485\n",
      "0.5277838863875739\n",
      "0.5284783388696629\n",
      "0.5291727913517518\n",
      "0.5298672438338407\n",
      "0.5305616963159295\n"
     ]
    },
    {
     "name": "stdout",
     "output_type": "stream",
     "text": [
      "0.5312561487980185\n",
      "0.5319506012801074\n",
      "0.5326450537621963\n",
      "0.5333395062442853\n",
      "0.5340339587263742\n",
      "0.534728411208463\n",
      "0.5354228636905519\n",
      "0.5361173161726409\n",
      "0.5368117686547298\n",
      "0.5375062211368187\n"
     ]
    },
    {
     "name": "stdout",
     "output_type": "stream",
     "text": [
      "0.5382006736189077\n",
      "0.5388951261009965\n",
      "0.5395895785830854\n",
      "0.5402840310651744\n",
      "0.5409784835472633\n",
      "0.5416729360293522\n",
      "0.5423673885114411\n",
      "0.54306184099353\n",
      "0.5437562934756189\n"
     ]
    },
    {
     "name": "stdout",
     "output_type": "stream",
     "text": [
      "0.5444507459577078\n",
      "0.5451451984397968\n",
      "0.5458396509218857\n",
      "0.5465341034039746\n",
      "0.5472285558860635\n",
      "0.5479230083681524\n",
      "0.5486174608502413\n",
      "0.5493119133323302\n",
      "0.5500063658144192\n",
      "0.5507008182965081\n"
     ]
    },
    {
     "name": "stdout",
     "output_type": "stream",
     "text": [
      "0.551395270778597\n",
      "0.5520897232606858\n",
      "0.5527841757427748\n",
      "0.5534786282248637\n",
      "0.5541730807069526\n",
      "0.5548675331890416\n",
      "0.5555619856711305\n",
      "0.5562564381532193\n",
      "0.5569508906353082\n",
      "0.5576453431173972\n"
     ]
    },
    {
     "name": "stdout",
     "output_type": "stream",
     "text": [
      "0.5583397955994861\n",
      "0.559034248081575\n",
      "0.559728700563664\n",
      "0.5604231530457529\n",
      "0.5611176055278417\n",
      "0.5618120580099307\n",
      "0.5625065104920196\n",
      "0.5632009629741085\n",
      "0.5638954154561974\n",
      "0.5645898679382864\n"
     ]
    },
    {
     "name": "stdout",
     "output_type": "stream",
     "text": [
      "0.5652843204203752\n",
      "0.5659787729024641\n",
      "0.5666732253845531\n",
      "0.567367677866642\n",
      "0.5680621303487309\n",
      "0.5687565828308198\n",
      "0.5694510353129087\n",
      "0.5701454877949976\n",
      "0.5708399402770865\n",
      "0.5715343927591755\n"
     ]
    },
    {
     "name": "stdout",
     "output_type": "stream",
     "text": [
      "0.5722288452412644\n",
      "0.5729232977233533\n",
      "0.5736177502054421\n",
      "0.5743122026875311\n",
      "0.57500665516962\n",
      "0.5757011076517089\n",
      "0.5763955601337979\n",
      "0.5770900126158868\n",
      "0.5777844650979757\n",
      "0.5784789175800645\n",
      "0.5791733700621535\n"
     ]
    },
    {
     "name": "stdout",
     "output_type": "stream",
     "text": [
      "0.5798678225442424\n",
      "0.5805622750263313\n",
      "0.5812567275084203\n",
      "0.5819511799905092\n",
      "0.582645632472598\n",
      "0.5833400849546869\n",
      "0.5840345374367759\n",
      "0.5847289899188648\n",
      "0.5854234424009537\n",
      "0.5861178948830427\n",
      "0.5868123473651315\n"
     ]
    },
    {
     "name": "stdout",
     "output_type": "stream",
     "text": [
      "0.5875067998472204\n",
      "0.5882012523293094\n",
      "0.5888957048113983\n",
      "0.5895901572934872\n",
      "0.5902846097755761\n",
      "0.590979062257665\n",
      "0.5916735147397539\n",
      "0.5923679672218428\n",
      "0.5930624197039318\n",
      "0.5937568721860207\n",
      "0.5944513246681096\n"
     ]
    },
    {
     "name": "stdout",
     "output_type": "stream",
     "text": [
      "0.5951457771501985\n",
      "0.5958402296322874\n",
      "0.5965346821143763\n",
      "0.5972291345964652\n",
      "0.5979235870785542\n",
      "0.5986180395606431\n",
      "0.599312492042732\n",
      "0.6000069445248208\n",
      "0.6007013970069098\n",
      "0.6013958494889987\n"
     ]
    },
    {
     "name": "stdout",
     "output_type": "stream",
     "text": [
      "0.6020903019710876\n",
      "0.6027847544531766\n",
      "0.6034792069352655\n",
      "0.6041736594173543\n",
      "0.6048681118994432\n",
      "0.6055625643815322\n",
      "0.6062570168636211\n",
      "0.60695146934571\n",
      "0.607645921827799\n",
      "0.6083403743098879\n",
      "0.6090348267919767\n"
     ]
    },
    {
     "name": "stdout",
     "output_type": "stream",
     "text": [
      "0.6097292792740657\n",
      "0.6104237317561546\n",
      "0.6111181842382435\n",
      "0.6118126367203324\n",
      "0.6125070892024214\n",
      "0.6132015416845102\n",
      "0.6138959941665991\n",
      "0.6145904466486881\n",
      "0.615284899130777\n",
      "0.6159793516128659\n",
      "0.6166738040949548\n"
     ]
    },
    {
     "name": "stdout",
     "output_type": "stream",
     "text": [
      "0.6173682565770438\n",
      "0.6180627090591326\n",
      "0.6187571615412215\n",
      "0.6194516140233105\n",
      "0.6201460665053994\n",
      "0.6208405189874883\n",
      "0.6215349714695771\n",
      "0.6222294239516661\n",
      "0.622923876433755\n",
      "0.6236183289158439\n",
      "0.6243127813979329\n"
     ]
    },
    {
     "name": "stdout",
     "output_type": "stream",
     "text": [
      "0.6250072338800218\n",
      "0.6257016863621107\n",
      "0.6263961388441995\n",
      "0.6270905913262885\n",
      "0.6277850438083774\n",
      "0.6284794962904663\n",
      "0.6291739487725553\n",
      "0.6298684012546442\n",
      "0.630562853736733\n",
      "0.6312573062188219\n"
     ]
    },
    {
     "name": "stdout",
     "output_type": "stream",
     "text": [
      "0.6319517587009109\n",
      "0.6326462111829998\n",
      "0.6333406636650887\n",
      "0.6340351161471777\n",
      "0.6347295686292665\n",
      "0.6354240211113554\n",
      "0.6361184735934444\n",
      "0.6368129260755333\n",
      "0.6375073785576222\n",
      "0.6382018310397111\n"
     ]
    },
    {
     "name": "stdout",
     "output_type": "stream",
     "text": [
      "0.6388962835218001\n",
      "0.6395907360038889\n",
      "0.6402851884859778\n",
      "0.6409796409680668\n",
      "0.6416740934501557\n",
      "0.6423685459322446\n",
      "0.6430629984143335\n",
      "0.6437574508964224\n",
      "0.6444519033785113\n",
      "0.6451463558606002\n"
     ]
    },
    {
     "name": "stdout",
     "output_type": "stream",
     "text": [
      "0.6458408083426892\n",
      "0.6465352608247781\n",
      "0.647229713306867\n",
      "0.6479241657889558\n",
      "0.6486186182710448\n",
      "0.6493130707531337\n",
      "0.6500075232352226\n",
      "0.6507019757173116\n",
      "0.6513964281994005\n",
      "0.6520908806814893\n",
      "0.6527853331635782\n"
     ]
    },
    {
     "name": "stdout",
     "output_type": "stream",
     "text": [
      "0.6534797856456672\n",
      "0.6541742381277561\n",
      "0.654868690609845\n",
      "0.655563143091934\n",
      "0.6562575955740229\n",
      "0.6569520480561117\n",
      "0.6576465005382007\n",
      "0.6583409530202896\n",
      "0.6590354055023785\n",
      "0.6597298579844674\n",
      "0.6604243104665564\n"
     ]
    },
    {
     "name": "stdout",
     "output_type": "stream",
     "text": [
      "0.6611187629486452\n",
      "0.6618132154307341\n",
      "0.6625076679128231\n",
      "0.663202120394912\n",
      "0.6638965728770009\n",
      "0.6645910253590898\n",
      "0.6652854778411788\n",
      "0.6659799303232676\n",
      "0.6666743828053565\n"
     ]
    },
    {
     "name": "stdout",
     "output_type": "stream",
     "text": [
      "0.6673688352874455\n",
      "0.6680632877695344\n",
      "0.6687577402516233\n",
      "0.6694521927337121\n",
      "0.6701466452158011\n",
      "0.67084109769789\n"
     ]
    },
    {
     "name": "stdout",
     "output_type": "stream",
     "text": [
      "0.6715355501799789\n",
      "0.6722300026620679\n",
      "0.6729244551441568\n",
      "0.6736189076262457\n",
      "0.6743133601083345\n"
     ]
    },
    {
     "name": "stdout",
     "output_type": "stream",
     "text": [
      "0.6750078125904235\n",
      "0.6757022650725124\n",
      "0.6763967175546013\n",
      "0.6770911700366903\n",
      "0.6777856225187792\n",
      "0.678480075000868\n"
     ]
    },
    {
     "name": "stdout",
     "output_type": "stream",
     "text": [
      "0.6791745274829569\n",
      "0.6798689799650459\n",
      "0.6805634324471348\n",
      "0.6812578849292237\n",
      "0.6819523374113127\n",
      "0.6826467898934016\n",
      "0.6833412423754904\n",
      "0.6840356948575794\n",
      "0.6847301473396683\n",
      "0.6854245998217572\n"
     ]
    },
    {
     "name": "stdout",
     "output_type": "stream",
     "text": [
      "0.6861190523038461\n",
      "0.6868135047859351\n",
      "0.6875079572680239\n",
      "0.6882024097501128\n",
      "0.6888968622322018\n",
      "0.6895913147142907\n",
      "0.6902857671963796\n",
      "0.6909802196784685\n",
      "0.6916746721605574\n"
     ]
    },
    {
     "name": "stdout",
     "output_type": "stream",
     "text": [
      "0.6923691246426463\n",
      "0.6930635771247352\n",
      "0.6937580296068242\n",
      "0.6944524820889131\n",
      "0.695146934571002\n"
     ]
    },
    {
     "name": "stdout",
     "output_type": "stream",
     "text": [
      "0.6958413870530908\n",
      "0.6965358395351798\n",
      "0.6972302920172687\n",
      "0.6979247444993576\n",
      "0.6986191969814466\n",
      "0.6993136494635355\n",
      "0.7000081019456244\n"
     ]
    },
    {
     "name": "stdout",
     "output_type": "stream",
     "text": [
      "0.7007025544277132\n",
      "0.7013970069098022\n",
      "0.7020914593918911\n",
      "0.70278591187398\n",
      "0.703480364356069\n",
      "0.7041748168381579\n",
      "0.7048692693202467\n",
      "0.7055637218023357\n"
     ]
    },
    {
     "name": "stdout",
     "output_type": "stream",
     "text": [
      "0.7062581742844246\n",
      "0.7069526267665135\n",
      "0.7076470792486024\n",
      "0.7083415317306914\n",
      "0.7090359842127802\n",
      "0.7097304366948691\n",
      "0.7104248891769581\n",
      "0.711119341659047\n",
      "0.7118137941411359\n"
     ]
    },
    {
     "name": "stdout",
     "output_type": "stream",
     "text": [
      "0.7125082466232248\n",
      "0.7132026991053138\n",
      "0.7138971515874026\n",
      "0.7145916040694915\n",
      "0.7152860565515805\n",
      "0.7159805090336694\n"
     ]
    },
    {
     "name": "stdout",
     "output_type": "stream",
     "text": [
      "0.7166749615157583\n",
      "0.7173694139978471\n",
      "0.7180638664799361\n",
      "0.718758318962025\n"
     ]
    },
    {
     "name": "stdout",
     "output_type": "stream",
     "text": [
      "0.7194527714441139\n",
      "0.7201472239262029\n",
      "0.7208416764082918\n",
      "0.7215361288903807\n",
      "0.7222305813724695\n"
     ]
    },
    {
     "name": "stdout",
     "output_type": "stream",
     "text": [
      "0.7229250338545585\n",
      "0.7236194863366474\n",
      "0.7243139388187363\n",
      "0.7250083913008253\n",
      "0.7257028437829142\n"
     ]
    },
    {
     "name": "stdout",
     "output_type": "stream",
     "text": [
      "0.726397296265003\n",
      "0.7270917487470919\n",
      "0.7277862012291809\n",
      "0.7284806537112698\n",
      "0.7291751061933587\n"
     ]
    },
    {
     "name": "stdout",
     "output_type": "stream",
     "text": [
      "0.7298695586754477\n",
      "0.7305640111575366\n",
      "0.7312584636396254\n",
      "0.7319529161217144\n"
     ]
    },
    {
     "name": "stdout",
     "output_type": "stream",
     "text": [
      "0.7326473686038033\n",
      "0.7333418210858922\n",
      "0.7340362735679811\n",
      "0.7347307260500701\n",
      "0.7354251785321589\n",
      "0.7361196310142478\n",
      "0.7368140834963368\n"
     ]
    },
    {
     "name": "stdout",
     "output_type": "stream",
     "text": [
      "0.7375085359784257\n",
      "0.7382029884605146\n",
      "0.7388974409426035\n",
      "0.7395918934246924\n",
      "0.7402863459067813\n",
      "0.7409807983888702\n",
      "0.7416752508709592\n"
     ]
    },
    {
     "name": "stdout",
     "output_type": "stream",
     "text": [
      "0.7423697033530481\n",
      "0.743064155835137\n",
      "0.7437586083172258\n",
      "0.7444530607993148\n",
      "0.7451475132814037\n",
      "0.7458419657634926\n",
      "0.7465364182455816\n",
      "0.7472308707276705\n"
     ]
    },
    {
     "name": "stdout",
     "output_type": "stream",
     "text": [
      "0.7479253232097594\n",
      "0.7486197756918482\n",
      "0.7493142281739372\n",
      "0.7500086806560261\n",
      "0.750703133138115\n",
      "0.751397585620204\n",
      "0.7520920381022929\n"
     ]
    },
    {
     "name": "stdout",
     "output_type": "stream",
     "text": [
      "0.7527864905843817\n",
      "0.7534809430664707\n",
      "0.7541753955485596\n",
      "0.7548698480306485\n",
      "0.7555643005127374\n",
      "0.7562587529948264\n"
     ]
    },
    {
     "name": "stdout",
     "output_type": "stream",
     "text": [
      "0.7569532054769152\n",
      "0.7576476579590041\n",
      "0.7583421104410931\n",
      "0.759036562923182\n",
      "0.7597310154052709\n",
      "0.7604254678873598\n",
      "0.7611199203694488\n"
     ]
    },
    {
     "name": "stdout",
     "output_type": "stream",
     "text": [
      "0.7618143728515376\n",
      "0.7625088253336265\n",
      "0.7632032778157155\n",
      "0.7638977302978044\n",
      "0.7645921827798933\n",
      "0.7652866352619822\n",
      "0.7659810877440711\n",
      "0.76667554022616\n",
      "0.7673699927082489\n"
     ]
    },
    {
     "name": "stdout",
     "output_type": "stream",
     "text": [
      "0.7680644451903379\n",
      "0.7687588976724268\n",
      "0.7694533501545157\n",
      "0.7701478026366045\n",
      "0.7708422551186935\n",
      "0.7715367076007824\n",
      "0.7722311600828713\n",
      "0.7729256125649603\n",
      "0.7736200650470492\n"
     ]
    },
    {
     "name": "stdout",
     "output_type": "stream",
     "text": [
      "0.774314517529138\n",
      "0.7750089700112269\n",
      "0.7757034224933159\n",
      "0.7763978749754048\n",
      "0.7770923274574937\n",
      "0.7777867799395827\n",
      "0.7784812324216716\n",
      "0.7791756849037604\n",
      "0.7798701373858494\n",
      "0.7805645898679383\n"
     ]
    },
    {
     "name": "stdout",
     "output_type": "stream",
     "text": [
      "0.7812590423500272\n",
      "0.7819534948321161\n",
      "0.7826479473142051\n",
      "0.7833423997962939\n",
      "0.7840368522783828\n",
      "0.7847313047604718\n",
      "0.7854257572425607\n",
      "0.7861202097246496\n",
      "0.7868146622067385\n"
     ]
    },
    {
     "name": "stdout",
     "output_type": "stream",
     "text": [
      "0.7875091146888274\n",
      "0.7882035671709163\n",
      "0.7888980196530052\n",
      "0.7895924721350942\n",
      "0.7902869246171831\n",
      "0.790981377099272\n",
      "0.7916758295813608\n",
      "0.7923702820634498\n",
      "0.7930647345455387\n",
      "0.7937591870276276\n",
      "0.7944536395097166\n"
     ]
    },
    {
     "name": "stdout",
     "output_type": "stream",
     "text": [
      "0.7951480919918055\n",
      "0.7958425444738944\n",
      "0.7965369969559832\n",
      "0.7972314494380722\n",
      "0.7979259019201611\n",
      "0.79862035440225\n",
      "0.799314806884339\n"
     ]
    },
    {
     "name": "stdout",
     "output_type": "stream",
     "text": [
      "0.8000092593664279\n",
      "0.8007037118485167\n",
      "0.8013981643306057\n",
      "0.8020926168126946\n",
      "0.8027870692947835\n",
      "0.8034815217768724\n",
      "0.8041759742589614\n",
      "0.8048704267410502\n",
      "0.8055648792231391\n"
     ]
    },
    {
     "name": "stdout",
     "output_type": "stream",
     "text": [
      "0.8062593317052281\n",
      "0.806953784187317\n",
      "0.8076482366694059\n",
      "0.8083426891514948\n",
      "0.8090371416335838\n",
      "0.8097315941156726\n"
     ]
    },
    {
     "name": "stdout",
     "output_type": "stream",
     "text": [
      "0.8104260465977615\n",
      "0.8111204990798505\n",
      "0.8118149515619394\n",
      "0.8125094040440283\n",
      "0.8132038565261172\n",
      "0.8138983090082061\n",
      "0.814592761490295\n",
      "0.8152872139723839\n"
     ]
    },
    {
     "name": "stdout",
     "output_type": "stream",
     "text": [
      "0.8159816664544729\n",
      "0.8166761189365618\n",
      "0.8173705714186507\n",
      "0.8180650239007395\n",
      "0.8187594763828285\n",
      "0.8194539288649174\n",
      "0.8201483813470063\n",
      "0.8208428338290953\n"
     ]
    },
    {
     "name": "stdout",
     "output_type": "stream",
     "text": [
      "0.8215372863111842\n",
      "0.822231738793273\n",
      "0.8229261912753619\n",
      "0.8236206437574509\n",
      "0.8243150962395398\n",
      "0.8250095487216287\n",
      "0.8257040012037177\n",
      "0.8263984536858066\n",
      "0.8270929061678954\n"
     ]
    },
    {
     "name": "stdout",
     "output_type": "stream",
     "text": [
      "0.8277873586499844\n",
      "0.8284818111320733\n",
      "0.8291762636141622\n",
      "0.8298707160962511\n",
      "0.8305651685783401\n",
      "0.8312596210604289\n",
      "0.8319540735425178\n",
      "0.8326485260246068\n",
      "0.8333429785066957\n",
      "0.8340374309887846\n"
     ]
    },
    {
     "name": "stdout",
     "output_type": "stream",
     "text": [
      "0.8347318834708735\n",
      "0.8354263359529625\n",
      "0.8361207884350513\n",
      "0.8368152409171402\n",
      "0.8375096933992292\n",
      "0.8382041458813181\n",
      "0.838898598363407\n",
      "0.8395930508454958\n",
      "0.8402875033275848\n"
     ]
    },
    {
     "name": "stdout",
     "output_type": "stream",
     "text": [
      "0.8409819558096737\n",
      "0.8416764082917626\n",
      "0.8423708607738516\n",
      "0.8430653132559405\n",
      "0.8437597657380294\n",
      "0.8444542182201182\n",
      "0.8451486707022072\n",
      "0.8458431231842961\n",
      "0.846537575666385\n",
      "0.847232028148474\n",
      "0.8479264806305629\n"
     ]
    },
    {
     "name": "stdout",
     "output_type": "stream",
     "text": [
      "0.8486209331126517\n",
      "0.8493153855947407\n",
      "0.8500098380768296\n",
      "0.8507042905589185\n",
      "0.8513987430410074\n",
      "0.8520931955230964\n",
      "0.8527876480051853\n",
      "0.8534821004872741\n",
      "0.8541765529693631\n",
      "0.854871005451452\n",
      "0.8555654579335409\n"
     ]
    },
    {
     "name": "stdout",
     "output_type": "stream",
     "text": [
      "0.8562599104156298\n",
      "0.8569543628977188\n",
      "0.8576488153798076\n",
      "0.8583432678618965\n",
      "0.8590377203439855\n",
      "0.8597321728260744\n",
      "0.8604266253081633\n",
      "0.8611210777902522\n",
      "0.8618155302723411\n"
     ]
    },
    {
     "name": "stdout",
     "output_type": "stream",
     "text": [
      "0.86250998275443\n",
      "0.8632044352365189\n",
      "0.8638988877186079\n",
      "0.8645933402006968\n",
      "0.8652877926827857\n",
      "0.8659822451648745\n",
      "0.8666766976469635\n",
      "0.8673711501290524\n"
     ]
    },
    {
     "name": "stdout",
     "output_type": "stream",
     "text": [
      "0.8680656026111413\n",
      "0.8687600550932303\n",
      "0.8694545075753192\n",
      "0.870148960057408\n",
      "0.8708434125394969\n",
      "0.8715378650215859\n",
      "0.8722323175036748\n",
      "0.8729267699857637\n",
      "0.8736212224678527\n"
     ]
    },
    {
     "name": "stdout",
     "output_type": "stream",
     "text": [
      "0.8743156749499416\n",
      "0.8750101274320304\n",
      "0.8757045799141194\n",
      "0.8763990323962083\n",
      "0.8770934848782972\n",
      "0.8777879373603861\n",
      "0.8784823898424751\n",
      "0.879176842324564\n"
     ]
    },
    {
     "name": "stdout",
     "output_type": "stream",
     "text": [
      "0.8798712948066528\n",
      "0.8805657472887418\n",
      "0.8812601997708307\n",
      "0.8819546522529196\n",
      "0.8826491047350085\n",
      "0.8833435572170975\n",
      "0.8840380096991863\n",
      "0.8847324621812752\n",
      "0.8854269146633642\n"
     ]
    },
    {
     "name": "stdout",
     "output_type": "stream",
     "text": [
      "0.8861213671454531\n",
      "0.886815819627542\n",
      "0.8875102721096308\n",
      "0.8882047245917198\n",
      "0.8888991770738087\n",
      "0.8895936295558976\n",
      "0.8902880820379866\n",
      "0.8909825345200755\n"
     ]
    },
    {
     "name": "stdout",
     "output_type": "stream",
     "text": [
      "0.8916769870021644\n",
      "0.8923714394842532\n",
      "0.8930658919663422\n",
      "0.8937603444484311\n",
      "0.89445479693052\n",
      "0.895149249412609\n",
      "0.8958437018946979\n",
      "0.8965381543767867\n",
      "0.8972326068588757\n"
     ]
    },
    {
     "name": "stdout",
     "output_type": "stream",
     "text": [
      "0.8979270593409646\n",
      "0.8986215118230535\n",
      "0.8993159643051424\n",
      "0.9000104167872314\n",
      "0.9007048692693203\n",
      "0.9013993217514091\n",
      "0.9020937742334981\n",
      "0.902788226715587\n"
     ]
    },
    {
     "name": "stdout",
     "output_type": "stream",
     "text": [
      "0.9034826791976759\n",
      "0.9041771316797648\n",
      "0.9048715841618538\n",
      "0.9055660366439426\n",
      "0.9062604891260315\n",
      "0.9069549416081205\n",
      "0.9076493940902094\n",
      "0.9083438465722983\n",
      "0.9090382990543872\n",
      "0.9097327515364761\n",
      "0.910427204018565\n"
     ]
    },
    {
     "name": "stdout",
     "output_type": "stream",
     "text": [
      "0.9111216565006539\n",
      "0.9118161089827429\n",
      "0.9125105614648318\n",
      "0.9132050139469207\n",
      "0.9138994664290095\n",
      "0.9145939189110985\n",
      "0.9152883713931874\n",
      "0.9159828238752763\n",
      "0.9166772763573653\n",
      "0.9173717288394542\n",
      "0.918066181321543\n"
     ]
    },
    {
     "name": "stdout",
     "output_type": "stream",
     "text": [
      "0.9187606338036319\n",
      "0.9194550862857209\n",
      "0.9201495387678098\n",
      "0.9208439912498987\n",
      "0.9215384437319877\n",
      "0.9222328962140766\n",
      "0.9229273486961654\n",
      "0.9236218011782544\n",
      "0.9243162536603433\n"
     ]
    },
    {
     "name": "stdout",
     "output_type": "stream",
     "text": [
      "0.9250107061424322\n",
      "0.9257051586245211\n",
      "0.9263996111066101\n",
      "0.927094063588699\n",
      "0.9277885160707878\n",
      "0.9284829685528768\n",
      "0.9291774210349657\n",
      "0.9298718735170546\n",
      "0.9305663259991435\n",
      "0.9312607784812325\n"
     ]
    },
    {
     "name": "stdout",
     "output_type": "stream",
     "text": [
      "0.9319552309633213\n",
      "0.9326496834454102\n",
      "0.9333441359274992\n",
      "0.9340385884095881\n",
      "0.934733040891677\n",
      "0.9354274933737659\n",
      "0.9361219458558548\n",
      "0.9368163983379437\n",
      "0.9375108508200326\n",
      "0.9382053033021216\n",
      "0.9388997557842105\n"
     ]
    },
    {
     "name": "stdout",
     "output_type": "stream",
     "text": [
      "0.9395942082662994\n",
      "0.9402886607483882\n",
      "0.9409831132304772\n",
      "0.9416775657125661\n",
      "0.942372018194655\n",
      "0.943066470676744\n",
      "0.9437609231588329\n",
      "0.9444553756409217\n",
      "0.9451498281230107\n",
      "0.9458442806050996\n",
      "0.9465387330871885\n"
     ]
    },
    {
     "name": "stdout",
     "output_type": "stream",
     "text": [
      "0.9472331855692774\n",
      "0.9479276380513664\n",
      "0.9486220905334553\n",
      "0.9493165430155441\n",
      "0.9500109954976331\n",
      "0.950705447979722\n",
      "0.9513999004618109\n",
      "0.9520943529438998\n",
      "0.9527888054259888\n",
      "0.9534832579080776\n"
     ]
    },
    {
     "name": "stdout",
     "output_type": "stream",
     "text": [
      "0.9541777103901665\n",
      "0.9548721628722555\n",
      "0.9555666153543444\n",
      "0.9562610678364333\n",
      "0.9569555203185222\n",
      "0.9576499728006111\n",
      "0.9583444252827\n",
      "0.9590388777647889\n",
      "0.9597333302468779\n"
     ]
    },
    {
     "name": "stdout",
     "output_type": "stream",
     "text": [
      "0.9604277827289668\n",
      "0.9611222352110557\n",
      "0.9618166876931445\n",
      "0.9625111401752335\n",
      "0.9632055926573224\n",
      "0.9639000451394113\n",
      "0.9645944976215003\n",
      "0.9652889501035892\n",
      "0.965983402585678\n"
     ]
    },
    {
     "name": "stdout",
     "output_type": "stream",
     "text": [
      "0.9666778550677669\n",
      "0.9673723075498559\n",
      "0.9680667600319448\n",
      "0.9687612125140337\n",
      "0.9694556649961227\n",
      "0.9701501174782116\n",
      "0.9708445699603004\n",
      "0.9715390224423894\n",
      "0.9722334749244783\n",
      "0.9729279274065672\n",
      "0.9736223798886561\n"
     ]
    },
    {
     "name": "stdout",
     "output_type": "stream",
     "text": [
      "0.9743168323707451\n",
      "0.975011284852834\n",
      "0.9757057373349228\n",
      "0.9764001898170118\n",
      "0.9770946422991007\n",
      "0.9777890947811896\n",
      "0.9784835472632785\n",
      "0.9791779997453675\n",
      "0.9798724522274563\n",
      "0.9805669047095452\n",
      "0.9812613571916342\n"
     ]
    },
    {
     "name": "stdout",
     "output_type": "stream",
     "text": [
      "0.9819558096737231\n",
      "0.982650262155812\n",
      "0.9833447146379009\n",
      "0.9840391671199898\n",
      "0.9847336196020787\n",
      "0.9854280720841676\n",
      "0.9861225245662566\n",
      "0.9868169770483455\n"
     ]
    },
    {
     "name": "stdout",
     "output_type": "stream",
     "text": [
      "0.9875114295304344\n",
      "0.9882058820125232\n",
      "0.9889003344946122\n",
      "0.9895947869767011\n",
      "0.99028923945879\n",
      "0.990983691940879\n",
      "0.9916781444229679\n",
      "0.9923725969050567\n",
      "0.9930670493871457\n",
      "0.9937615018692346\n",
      "0.9944559543513235\n"
     ]
    },
    {
     "name": "stdout",
     "output_type": "stream",
     "text": [
      "0.9951504068334124\n",
      "0.9958448593155014\n",
      "0.9965393117975903\n",
      "0.9972337642796791\n",
      "0.9979282167617681\n",
      "0.998622669243857\n",
      "\tkitchen\n",
      "\t\t None processing, none filter sensors!\n",
      "0.0006944524820889131\n",
      "0.0013889049641778262\n",
      "0.0020833574462667394\n",
      "0.0027778099283556523\n"
     ]
    },
    {
     "name": "stdout",
     "output_type": "stream",
     "text": [
      "0.0034722624104445653\n",
      "0.004166714892533479\n",
      "0.004861167374622392\n",
      "0.005555619856711305\n",
      "0.006250072338800218\n",
      "0.006944524820889131\n",
      "0.007638977302978044\n",
      "0.008333429785066957\n",
      "0.00902788226715587\n",
      "0.009722334749244783\n",
      "0.010416787231333696\n"
     ]
    },
    {
     "name": "stdout",
     "output_type": "stream",
     "text": [
      "0.01111123971342261\n",
      "0.011805692195511521\n",
      "0.012500144677600435\n",
      "0.013194597159689347\n",
      "0.013889049641778261\n",
      "0.014583502123867175\n",
      "0.015277954605956087\n",
      "0.015972407088045\n",
      "0.016666859570133915\n",
      "0.017361312052222827\n",
      "0.01805576453431174\n"
     ]
    },
    {
     "name": "stdout",
     "output_type": "stream",
     "text": [
      "0.01875021701640065\n",
      "0.019444669498489567\n",
      "0.02013912198057848\n",
      "0.02083357446266739\n",
      "0.021528026944756307\n",
      "0.02222247942684522\n",
      "0.02291693190893413\n",
      "0.023611384391023043\n",
      "0.02430583687311196\n",
      "0.02500028935520087\n"
     ]
    },
    {
     "name": "stdout",
     "output_type": "stream",
     "text": [
      "0.025694741837289783\n",
      "0.026389194319378695\n",
      "0.02708364680146761\n",
      "0.027778099283556523\n",
      "0.028472551765645435\n",
      "0.02916700424773435\n",
      "0.029861456729823262\n",
      "0.030555909211912174\n",
      "0.03125036169400109\n",
      "0.03194481417609\n",
      "0.032639266658178914\n"
     ]
    },
    {
     "name": "stdout",
     "output_type": "stream",
     "text": [
      "0.03333371914026783\n",
      "0.03402817162235674\n",
      "0.034722624104445654\n",
      "0.03541707658653457\n",
      "0.03611152906862348\n",
      "0.036805981550712394\n",
      "0.0375004340328013\n",
      "0.03819488651489022\n",
      "0.038889338996979134\n",
      "0.03958379147906804\n",
      "0.04027824396115696\n"
     ]
    },
    {
     "name": "stdout",
     "output_type": "stream",
     "text": [
      "0.04097269644324587\n",
      "0.04166714892533478\n",
      "0.0423616014074237\n",
      "0.04305605388951261\n",
      "0.04375050637160152\n",
      "0.04444495885369044\n",
      "0.045139411335779346\n",
      "0.04583386381786826\n",
      "0.04652831629995718\n",
      "0.047222768782046086\n",
      "0.047917221264135\n"
     ]
    },
    {
     "name": "stdout",
     "output_type": "stream",
     "text": [
      "0.04861167374622392\n",
      "0.049306126228312826\n",
      "0.05000057871040174\n",
      "0.05069503119249066\n",
      "0.051389483674579566\n",
      "0.05208393615666848\n",
      "0.05277838863875739\n",
      "0.053472841120846305\n",
      "0.05416729360293522\n",
      "0.05486174608502413\n",
      "0.055556198567113045\n"
     ]
    },
    {
     "name": "stdout",
     "output_type": "stream",
     "text": [
      "0.05625065104920196\n",
      "0.05694510353129087\n",
      "0.057639556013379785\n",
      "0.0583340084954687\n",
      "0.05902846097755761\n",
      "0.059722913459646525\n",
      "0.06041736594173543\n",
      "0.06111181842382435\n",
      "0.061806270905913265\n"
     ]
    },
    {
     "name": "stdout",
     "output_type": "stream",
     "text": [
      "0.06250072338800218\n",
      "0.06319517587009109\n",
      "0.06388962835218\n",
      "0.06458408083426892\n",
      "0.06527853331635783\n",
      "0.06597298579844674\n",
      "0.06666743828053566\n",
      "0.06736189076262457\n",
      "0.06805634324471348\n",
      "0.0687507957268024\n"
     ]
    },
    {
     "name": "stdout",
     "output_type": "stream",
     "text": [
      "0.06944524820889131\n",
      "0.07013970069098022\n",
      "0.07083415317306914\n",
      "0.07152860565515805\n",
      "0.07222305813724696\n",
      "0.07291751061933587\n",
      "0.07361196310142479\n",
      "0.0743064155835137\n",
      "0.0750008680656026\n",
      "0.07569532054769153\n",
      "0.07638977302978044\n"
     ]
    },
    {
     "name": "stdout",
     "output_type": "stream",
     "text": [
      "0.07708422551186934\n",
      "0.07777867799395827\n",
      "0.07847313047604718\n",
      "0.07916758295813608\n",
      "0.07986203544022501\n",
      "0.08055648792231392\n",
      "0.08125094040440282\n",
      "0.08194539288649175\n",
      "0.08263984536858066\n",
      "0.08333429785066956\n",
      "0.08402875033275849\n"
     ]
    },
    {
     "name": "stdout",
     "output_type": "stream",
     "text": [
      "0.0847232028148474\n",
      "0.0854176552969363\n",
      "0.08611210777902523\n",
      "0.08680656026111414\n",
      "0.08750101274320304\n",
      "0.08819546522529197\n",
      "0.08888991770738087\n",
      "0.08958437018946978\n",
      "0.09027882267155869\n",
      "0.09097327515364761\n",
      "0.09166772763573652\n"
     ]
    },
    {
     "name": "stdout",
     "output_type": "stream",
     "text": [
      "0.09236218011782543\n",
      "0.09305663259991435\n",
      "0.09375108508200326\n",
      "0.09444553756409217\n",
      "0.0951399900461811\n",
      "0.09583444252827\n",
      "0.09652889501035891\n",
      "0.09722334749244783\n",
      "0.09791779997453674\n",
      "0.09861225245662565\n"
     ]
    },
    {
     "name": "stdout",
     "output_type": "stream",
     "text": [
      "0.09930670493871457\n",
      "0.10000115742080348\n",
      "0.10069560990289239\n",
      "0.10139006238498131\n",
      "0.10208451486707022\n",
      "0.10277896734915913\n",
      "0.10347341983124805\n",
      "0.10416787231333696\n",
      "0.10486232479542587\n",
      "0.10555677727751478\n",
      "0.1062512297596037\n"
     ]
    },
    {
     "name": "stdout",
     "output_type": "stream",
     "text": [
      "0.10694568224169261\n",
      "0.10764013472378152\n",
      "0.10833458720587044\n",
      "0.10902903968795935\n",
      "0.10972349217004826\n",
      "0.11041794465213718\n",
      "0.11111239713422609\n",
      "0.111806849616315\n",
      "0.11250130209840392\n"
     ]
    },
    {
     "name": "stdout",
     "output_type": "stream",
     "text": [
      "0.11319575458049283\n",
      "0.11389020706258174\n",
      "0.11458465954467066\n"
     ]
    },
    {
     "name": "stdout",
     "output_type": "stream",
     "text": [
      "0.11527911202675957\n"
     ]
    },
    {
     "name": "stdout",
     "output_type": "stream",
     "text": [
      "0.11597356450884848\n"
     ]
    },
    {
     "name": "stdout",
     "output_type": "stream",
     "text": [
      "0.1166680169909374\n",
      "0.11736246947302631\n",
      "0.11805692195511522\n",
      "0.11875137443720414\n",
      "0.11944582691929305\n",
      "0.12014027940138196\n",
      "0.12083473188347087\n",
      "0.12152918436555979\n",
      "0.1222236368476487\n"
     ]
    },
    {
     "name": "stdout",
     "output_type": "stream",
     "text": [
      "0.1229180893297376\n",
      "0.12361254181182653\n",
      "0.12430699429391544\n",
      "0.12500144677600436\n",
      "0.12569589925809327\n",
      "0.12639035174018218\n",
      "0.12708480422227109\n",
      "0.12777925670436\n",
      "0.1284737091864489\n"
     ]
    },
    {
     "name": "stdout",
     "output_type": "stream",
     "text": [
      "0.12916816166853784\n",
      "0.12986261415062675\n",
      "0.13055706663271566\n",
      "0.13125151911480457\n",
      "0.13194597159689347\n",
      "0.13264042407898238\n",
      "0.13333487656107132\n",
      "0.13402932904316023\n",
      "0.13472378152524914\n",
      "0.13541823400733805\n"
     ]
    },
    {
     "name": "stdout",
     "output_type": "stream",
     "text": [
      "0.13611268648942695\n",
      "0.13680713897151586\n",
      "0.1375015914536048\n",
      "0.1381960439356937\n",
      "0.13889049641778262\n",
      "0.13958494889987152\n",
      "0.14027940138196043\n",
      "0.14097385386404934\n"
     ]
    },
    {
     "name": "stdout",
     "output_type": "stream",
     "text": [
      "0.14166830634613828\n",
      "0.1423627588282272\n",
      "0.1430572113103161\n"
     ]
    },
    {
     "name": "stdout",
     "output_type": "stream",
     "text": [
      "0.143751663792405\n",
      "0.1444461162744939\n",
      "0.14514056875658282\n",
      "0.14583502123867173\n",
      "0.14652947372076067\n",
      "0.14722392620284958\n",
      "0.14791837868493848\n",
      "0.1486128311670274\n",
      "0.1493072836491163\n"
     ]
    },
    {
     "name": "stdout",
     "output_type": "stream",
     "text": [
      "0.1500017361312052\n",
      "0.15069618861329415\n",
      "0.15139064109538306\n",
      "0.15208509357747196\n"
     ]
    },
    {
     "name": "stdout",
     "output_type": "stream",
     "text": [
      "0.15277954605956087\n",
      "0.15347399854164978\n",
      "0.1541684510237387\n",
      "0.15486290350582763\n",
      "0.15555735598791653\n",
      "0.15625180847000544\n",
      "0.15694626095209435\n"
     ]
    },
    {
     "name": "stdout",
     "output_type": "stream",
     "text": [
      "0.15764071343418326\n",
      "0.15833516591627217\n",
      "0.1590296183983611\n",
      "0.15972407088045001\n",
      "0.16041852336253892\n",
      "0.16111297584462783\n",
      "0.16180742832671674\n",
      "0.16250188080880565\n"
     ]
    },
    {
     "name": "stdout",
     "output_type": "stream",
     "text": [
      "0.16319633329089456\n",
      "0.1638907857729835\n",
      "0.1645852382550724\n",
      "0.1652796907371613\n"
     ]
    },
    {
     "name": "stdout",
     "output_type": "stream",
     "text": [
      "0.16597414321925022\n",
      "0.16666859570133913\n",
      "0.16736304818342804\n",
      "0.16805750066551697\n"
     ]
    },
    {
     "name": "stdout",
     "output_type": "stream",
     "text": [
      "0.16875195314760588\n",
      "0.1694464056296948\n",
      "0.1701408581117837\n",
      "0.1708353105938726\n"
     ]
    },
    {
     "name": "stdout",
     "output_type": "stream",
     "text": [
      "0.17152976307596152\n",
      "0.17222421555805045\n",
      "0.17291866804013936\n",
      "0.17361312052222827\n",
      "0.17430757300431718\n",
      "0.1750020254864061\n",
      "0.175696477968495\n",
      "0.17639093045058393\n"
     ]
    },
    {
     "name": "stdout",
     "output_type": "stream",
     "text": [
      "0.17708538293267284\n",
      "0.17777983541476175\n",
      "0.17847428789685066\n",
      "0.17916874037893957\n",
      "0.17986319286102848\n",
      "0.18055764534311738\n",
      "0.18125209782520632\n",
      "0.18194655030729523\n",
      "0.18264100278938414\n"
     ]
    },
    {
     "name": "stdout",
     "output_type": "stream",
     "text": [
      "0.18333545527147305\n",
      "0.18402990775356196\n",
      "0.18472436023565086\n",
      "0.1854188127177398\n",
      "0.1861132651998287\n",
      "0.18680771768191762\n",
      "0.18750217016400653\n",
      "0.18819662264609544\n",
      "0.18889107512818434\n",
      "0.18958552761027328\n"
     ]
    },
    {
     "name": "stdout",
     "output_type": "stream",
     "text": [
      "0.1902799800923622\n",
      "0.1909744325744511\n",
      "0.19166888505654\n",
      "0.19236333753862891\n",
      "0.19305779002071782\n",
      "0.19375224250280673\n",
      "0.19444669498489567\n",
      "0.19514114746698458\n",
      "0.19583559994907349\n",
      "0.1965300524311624\n",
      "0.1972245049132513\n"
     ]
    },
    {
     "name": "stdout",
     "output_type": "stream",
     "text": [
      "0.1979189573953402\n",
      "0.19861340987742915\n",
      "0.19930786235951806\n",
      "0.20000231484160697\n",
      "0.20069676732369587\n",
      "0.20139121980578478\n",
      "0.2020856722878737\n",
      "0.20278012476996263\n"
     ]
    },
    {
     "name": "stdout",
     "output_type": "stream",
     "text": [
      "0.20347457725205154\n",
      "0.20416902973414044\n",
      "0.20486348221622935\n",
      "0.20555793469831826\n",
      "0.20625238718040717\n",
      "0.2069468396624961\n",
      "0.20764129214458502\n",
      "0.20833574462667392\n",
      "0.20903019710876283\n"
     ]
    },
    {
     "name": "stdout",
     "output_type": "stream",
     "text": [
      "0.20972464959085174\n",
      "0.21041910207294065\n",
      "0.21111355455502956\n",
      "0.2118080070371185\n",
      "0.2125024595192074\n",
      "0.2131969120012963\n",
      "0.21389136448338522\n",
      "0.21458581696547413\n",
      "0.21528026944756304\n"
     ]
    },
    {
     "name": "stdout",
     "output_type": "stream",
     "text": [
      "0.21597472192965197\n",
      "0.21666917441174088\n",
      "0.2173636268938298\n",
      "0.2180580793759187\n",
      "0.2187525318580076\n",
      "0.21944698434009652\n",
      "0.22014143682218545\n",
      "0.22083588930427436\n",
      "0.22153034178636327\n",
      "0.22222479426845218\n"
     ]
    },
    {
     "name": "stdout",
     "output_type": "stream",
     "text": [
      "0.2229192467505411\n",
      "0.22361369923263\n",
      "0.22430815171471893\n",
      "0.22500260419680784\n",
      "0.22569705667889675\n",
      "0.22639150916098566\n",
      "0.22708596164307457\n",
      "0.22778041412516348\n",
      "0.22847486660725239\n",
      "0.22916931908934132\n",
      "0.22986377157143023\n"
     ]
    },
    {
     "name": "stdout",
     "output_type": "stream",
     "text": [
      "0.23055822405351914\n",
      "0.23125267653560805\n",
      "0.23194712901769696\n",
      "0.23264158149978587\n",
      "0.2333360339818748\n",
      "0.2340304864639637\n",
      "0.23472493894605262\n",
      "0.23541939142814153\n",
      "0.23611384391023044\n",
      "0.23680829639231935\n"
     ]
    },
    {
     "name": "stdout",
     "output_type": "stream",
     "text": [
      "0.23750274887440828\n",
      "0.2381972013564972\n",
      "0.2388916538385861\n",
      "0.239586106320675\n",
      "0.24028055880276392\n"
     ]
    },
    {
     "name": "stdout",
     "output_type": "stream",
     "text": [
      "0.24097501128485282\n",
      "0.24166946376694173\n",
      "0.24236391624903067\n",
      "0.24305836873111958\n",
      "0.2437528212132085\n"
     ]
    },
    {
     "name": "stdout",
     "output_type": "stream",
     "text": [
      "0.2444472736952974\n",
      "0.2451417261773863\n",
      "0.2458361786594752\n",
      "0.24653063114156415\n",
      "0.24722508362365306\n",
      "0.24791953610574197\n",
      "0.24861398858783088\n",
      "0.24930844106991978\n"
     ]
    },
    {
     "name": "stdout",
     "output_type": "stream",
     "text": [
      "0.2500028935520087\n",
      "0.2506973460340976\n",
      "0.25139179851618654\n",
      "0.2520862509982754\n",
      "0.25278070348036435\n",
      "0.2534751559624533\n",
      "0.25416960844454217\n",
      "0.2548640609266311\n",
      "0.25555851340872\n",
      "0.2562529658908089\n",
      "0.2569474183728978\n"
     ]
    },
    {
     "name": "stdout",
     "output_type": "stream",
     "text": [
      "0.25764187085498674\n",
      "0.2583363233370757\n",
      "0.25903077581916456\n",
      "0.2597252283012535\n",
      "0.2604196807833424\n",
      "0.2611141332654313\n",
      "0.26180858574752025\n",
      "0.26250303822960913\n",
      "0.26319749071169807\n"
     ]
    },
    {
     "name": "stdout",
     "output_type": "stream",
     "text": [
      "0.26389194319378695\n",
      "0.2645863956758759\n",
      "0.26528084815796477\n",
      "0.2659753006400537\n",
      "0.26666975312214264\n",
      "0.2673642056042315\n",
      "0.26805865808632046\n",
      "0.26875311056840934\n",
      "0.2694475630504983\n",
      "0.2701420155325872\n",
      "0.2708364680146761\n"
     ]
    },
    {
     "name": "stdout",
     "output_type": "stream",
     "text": [
      "0.271530920496765\n",
      "0.2722253729788539\n",
      "0.27291982546094284\n",
      "0.2736142779430317\n",
      "0.27430873042512066\n",
      "0.2750031829072096\n",
      "0.2756976353892985\n",
      "0.2763920878713874\n",
      "0.2770865403534763\n"
     ]
    },
    {
     "name": "stdout",
     "output_type": "stream",
     "text": [
      "0.27778099283556523\n",
      "0.2784754453176541\n",
      "0.27916989779974305\n",
      "0.279864350281832\n",
      "0.28055880276392087\n",
      "0.2812532552460098\n",
      "0.2819477077280987\n",
      "0.2826421602101876\n",
      "0.28333661269227656\n",
      "0.28403106517436544\n",
      "0.2847255176564544\n"
     ]
    },
    {
     "name": "stdout",
     "output_type": "stream",
     "text": [
      "0.28541997013854326\n",
      "0.2861144226206322\n",
      "0.2868088751027211\n",
      "0.28750332758481\n",
      "0.28819778006689895\n",
      "0.2888922325489878\n",
      "0.28958668503107676\n",
      "0.29028113751316564\n",
      "0.2909755899952546\n",
      "0.29167004247734346\n"
     ]
    },
    {
     "name": "stdout",
     "output_type": "stream",
     "text": [
      "0.2923644949594324\n",
      "0.29305894744152133\n",
      "0.2937533999236102\n",
      "0.29444785240569915\n",
      "0.29514230488778803\n",
      "0.29583675736987697\n"
     ]
    },
    {
     "name": "stdout",
     "output_type": "stream",
     "text": [
      "0.2965312098519659\n",
      "0.2972256623340548\n",
      "0.2979201148161437\n",
      "0.2986145672982326\n",
      "0.29930901978032154\n",
      "0.3000034722624104\n",
      "0.30069792474449936\n",
      "0.3013923772265883\n",
      "0.3020868297086772\n",
      "0.3027812821907661\n"
     ]
    },
    {
     "name": "stdout",
     "output_type": "stream",
     "text": [
      "0.303475734672855\n",
      "0.3041701871549439\n",
      "0.30486463963703286\n",
      "0.30555909211912174\n",
      "0.3062535446012107\n",
      "0.30694799708329956\n",
      "0.3076424495653885\n",
      "0.3083369020474774\n",
      "0.3090313545295663\n"
     ]
    },
    {
     "name": "stdout",
     "output_type": "stream",
     "text": [
      "0.30972580701165525\n",
      "0.31042025949374413\n",
      "0.31111471197583307\n",
      "0.31180916445792195\n",
      "0.3125036169400109\n",
      "0.31319806942209977\n",
      "0.3138925219041887\n",
      "0.31458697438627764\n",
      "0.3152814268683665\n"
     ]
    },
    {
     "name": "stdout",
     "output_type": "stream",
     "text": [
      "0.31597587935045546\n",
      "0.31667033183254434\n",
      "0.3173647843146333\n",
      "0.3180592367967222\n",
      "0.3187536892788111\n",
      "0.31944814176090003\n",
      "0.3201425942429889\n",
      "0.32083704672507785\n"
     ]
    },
    {
     "name": "stdout",
     "output_type": "stream",
     "text": [
      "0.3215314992071667\n",
      "0.32222595168925566\n",
      "0.3229204041713446\n",
      "0.3236148566534335\n",
      "0.3243093091355224\n",
      "0.3250037616176113\n",
      "0.32569821409970023\n",
      "0.3263926665817891\n",
      "0.32708711906387805\n"
     ]
    },
    {
     "name": "stdout",
     "output_type": "stream",
     "text": [
      "0.327781571545967\n",
      "0.32847602402805587\n",
      "0.3291704765101448\n",
      "0.3298649289922337\n",
      "0.3305593814743226\n",
      "0.33125383395641156\n",
      "0.33194828643850044\n",
      "0.3326427389205894\n",
      "0.33333719140267826\n",
      "0.3340316438847672\n",
      "0.3347260963668561\n"
     ]
    },
    {
     "name": "stdout",
     "output_type": "stream",
     "text": [
      "0.335420548848945\n",
      "0.33611500133103395\n",
      "0.3368094538131228\n",
      "0.33750390629521176\n",
      "0.33819835877730064\n",
      "0.3388928112593896\n",
      "0.33958726374147846\n",
      "0.3402817162235674\n"
     ]
    },
    {
     "name": "stdout",
     "output_type": "stream",
     "text": [
      "0.34097616870565634\n",
      "0.3416706211877452\n",
      "0.34236507366983415\n",
      "0.34305952615192303\n",
      "0.34375397863401197\n",
      "0.3444484311161009\n",
      "0.3451428835981898\n",
      "0.3458373360802787\n",
      "0.3465317885623676\n",
      "0.34722624104445654\n"
     ]
    },
    {
     "name": "stdout",
     "output_type": "stream",
     "text": [
      "0.3479206935265454\n",
      "0.34861514600863436\n",
      "0.3493095984907233\n",
      "0.3500040509728122\n",
      "0.3506985034549011\n",
      "0.35139295593699\n",
      "0.35208740841907893\n",
      "0.35278186090116787\n",
      "0.35347631338325675\n",
      "0.3541707658653457\n"
     ]
    },
    {
     "name": "stdout",
     "output_type": "stream",
     "text": [
      "0.35486521834743456\n",
      "0.3555596708295235\n",
      "0.3562541233116124\n",
      "0.3569485757937013\n",
      "0.35764302827579025\n",
      "0.35833748075787913\n",
      "0.35903193323996807\n",
      "0.35972638572205695\n",
      "0.3604208382041459\n",
      "0.36111529068623477\n",
      "0.3618097431683237\n"
     ]
    },
    {
     "name": "stdout",
     "output_type": "stream",
     "text": [
      "0.36250419565041264\n",
      "0.3631986481325015\n",
      "0.36389310061459046\n",
      "0.36458755309667934\n",
      "0.3652820055787683\n",
      "0.3659764580608572\n",
      "0.3666709105429461\n",
      "0.36736536302503503\n",
      "0.3680598155071239\n",
      "0.36875426798921285\n"
     ]
    },
    {
     "name": "stdout",
     "output_type": "stream",
     "text": [
      "0.36944872047130173\n",
      "0.37014317295339066\n",
      "0.3708376254354796\n",
      "0.3715320779175685\n",
      "0.3722265303996574\n",
      "0.3729209828817463\n",
      "0.37361543536383524\n",
      "0.3743098878459241\n"
     ]
    },
    {
     "name": "stdout",
     "output_type": "stream",
     "text": [
      "0.37500434032801305\n",
      "0.375698792810102\n",
      "0.37639324529219087\n",
      "0.3770876977742798\n",
      "0.3777821502563687\n",
      "0.3784766027384576\n",
      "0.37917105522054656\n",
      "0.37986550770263544\n",
      "0.3805599601847244\n",
      "0.38125441266681326\n"
     ]
    },
    {
     "name": "stdout",
     "output_type": "stream",
     "text": [
      "0.3819488651489022\n",
      "0.3826433176309911\n",
      "0.38333777011308\n",
      "0.38403222259516895\n",
      "0.38472667507725783\n",
      "0.38542112755934677\n",
      "0.38611558004143565\n"
     ]
    },
    {
     "name": "stdout",
     "output_type": "stream",
     "text": [
      "0.3868100325235246\n",
      "0.38750448500561346\n",
      "0.3881989374877024\n",
      "0.38889338996979134\n",
      "0.3895878424518802\n",
      "0.39028229493396915\n",
      "0.39097674741605803\n",
      "0.39167119989814697\n",
      "0.3923656523802359\n",
      "0.3930601048623248\n"
     ]
    },
    {
     "name": "stdout",
     "output_type": "stream",
     "text": [
      "0.3937545573444137\n",
      "0.3944490098265026\n",
      "0.39514346230859154\n",
      "0.3958379147906804\n",
      "0.39653236727276936\n",
      "0.3972268197548583\n",
      "0.3979212722369472\n",
      "0.3986157247190361\n",
      "0.399310177201125\n"
     ]
    },
    {
     "name": "stdout",
     "output_type": "stream",
     "text": [
      "0.40000462968321393\n",
      "0.40069908216530287\n",
      "0.40139353464739175\n",
      "0.4020879871294807\n",
      "0.40278243961156956\n",
      "0.4034768920936585\n",
      "0.4041713445757474\n",
      "0.4048657970578363\n",
      "0.40556024953992525\n"
     ]
    },
    {
     "name": "stdout",
     "output_type": "stream",
     "text": [
      "0.40625470202201414\n",
      "0.40694915450410307\n",
      "0.40764360698619195\n",
      "0.4083380594682809\n",
      "0.40903251195036977\n",
      "0.4097269644324587\n",
      "0.41042141691454764\n",
      "0.4111158693966365\n",
      "0.41181032187872546\n",
      "0.41250477436081434\n"
     ]
    },
    {
     "name": "stdout",
     "output_type": "stream",
     "text": [
      "0.4131992268429033\n",
      "0.4138936793249922\n",
      "0.4145881318070811\n",
      "0.41528258428917003\n",
      "0.4159770367712589\n",
      "0.41667148925334785\n",
      "0.41736594173543673\n",
      "0.41806039421752567\n",
      "0.4187548466996146\n",
      "0.4194492991817035\n",
      "0.4201437516637924\n"
     ]
    },
    {
     "name": "stdout",
     "output_type": "stream",
     "text": [
      "0.4208382041458813\n",
      "0.42153265662797024\n",
      "0.4222271091100591\n",
      "0.42292156159214805\n",
      "0.423616014074237\n",
      "0.42431046655632587\n",
      "0.4250049190384148\n",
      "0.4256993715205037\n"
     ]
    },
    {
     "name": "stdout",
     "output_type": "stream",
     "text": [
      "0.4263938240025926\n",
      "0.42708827648468156\n",
      "0.42778272896677044\n",
      "0.4284771814488594\n",
      "0.42917163393094826\n",
      "0.4298660864130372\n",
      "0.4305605388951261\n",
      "0.431254991377215\n"
     ]
    },
    {
     "name": "stdout",
     "output_type": "stream",
     "text": [
      "0.43194944385930395\n",
      "0.43264389634139283\n",
      "0.43333834882348177\n",
      "0.43403280130557065\n",
      "0.4347272537876596\n",
      "0.43542170626974847\n",
      "0.4361161587518374\n"
     ]
    },
    {
     "name": "stdout",
     "output_type": "stream",
     "text": [
      "0.43681061123392634\n",
      "0.4375050637160152\n",
      "0.43819951619810416\n",
      "0.43889396868019304\n",
      "0.439588421162282\n",
      "0.4402828736443709\n",
      "0.4409773261264598\n",
      "0.4416717786085487\n"
     ]
    },
    {
     "name": "stdout",
     "output_type": "stream",
     "text": [
      "0.4423662310906376\n",
      "0.44306068357272654\n",
      "0.4437551360548154\n",
      "0.44444958853690436\n",
      "0.4451440410189933\n",
      "0.4458384935010822\n",
      "0.4465329459831711\n",
      "0.44722739846526\n",
      "0.44792185094734893\n",
      "0.44861630342943787\n"
     ]
    },
    {
     "name": "stdout",
     "output_type": "stream",
     "text": [
      "0.44931075591152675\n",
      "0.4500052083936157\n",
      "0.45069966087570457\n",
      "0.4513941133577935\n",
      "0.4520885658398824\n",
      "0.4527830183219713\n",
      "0.45347747080406026\n",
      "0.45417192328614914\n",
      "0.4548663757682381\n",
      "0.45556082825032695\n"
     ]
    },
    {
     "name": "stdout",
     "output_type": "stream",
     "text": [
      "0.4562552807324159\n",
      "0.45694973321450477\n",
      "0.4576441856965937\n",
      "0.45833863817868264\n",
      "0.4590330906607715\n",
      "0.45972754314286046\n",
      "0.46042199562494934\n",
      "0.4611164481070383\n",
      "0.4618109005891272\n",
      "0.4625053530712161\n",
      "0.46319980555330503\n"
     ]
    },
    {
     "name": "stdout",
     "output_type": "stream",
     "text": [
      "0.4638942580353939\n",
      "0.46458871051748285\n",
      "0.46528316299957173\n",
      "0.46597761548166067\n",
      "0.4666720679637496\n",
      "0.4673665204458385\n",
      "0.4680609729279274\n",
      "0.4687554254100163\n",
      "0.46944987789210524\n",
      "0.4701443303741941\n"
     ]
    },
    {
     "name": "stdout",
     "output_type": "stream",
     "text": [
      "0.47083878285628306\n",
      "0.471533235338372\n",
      "0.4722276878204609\n",
      "0.4729221403025498\n",
      "0.4736165927846387\n",
      "0.4743110452667276\n",
      "0.47500549774881656\n",
      "0.47569995023090544\n",
      "0.4763944027129944\n",
      "0.47708885519508326\n"
     ]
    },
    {
     "name": "stdout",
     "output_type": "stream",
     "text": [
      "0.4777833076771722\n",
      "0.4784777601592611\n",
      "0.47917221264135\n",
      "0.47986666512343895\n",
      "0.48056111760552783\n",
      "0.48125557008761677\n",
      "0.48195002256970565\n",
      "0.4826444750517946\n",
      "0.48333892753388347\n"
     ]
    },
    {
     "name": "stdout",
     "output_type": "stream",
     "text": [
      "0.4840333800159724\n",
      "0.48472783249806134\n",
      "0.4854222849801502\n",
      "0.48611673746223916\n",
      "0.48681118994432804\n",
      "0.487505642426417\n",
      "0.4882000949085059\n"
     ]
    },
    {
     "name": "stdout",
     "output_type": "stream",
     "text": [
      "0.4888945473905948\n",
      "0.48958899987268373\n",
      "0.4902834523547726\n",
      "0.49097790483686155\n",
      "0.4916723573189504\n",
      "0.49236680980103936\n"
     ]
    },
    {
     "name": "stdout",
     "output_type": "stream",
     "text": [
      "0.4930612622831283\n",
      "0.4937557147652172\n",
      "0.4944501672473061\n",
      "0.495144619729395\n",
      "0.49583907221148393\n",
      "0.49653352469357287\n",
      "0.49722797717566175\n"
     ]
    },
    {
     "name": "stdout",
     "output_type": "stream",
     "text": [
      "0.4979224296577507\n",
      "0.49861688213983957\n",
      "0.4993113346219285\n",
      "0.5000057871040174\n",
      "0.5007002395861063\n",
      "0.5013946920681952\n",
      "0.5020891445502842\n",
      "0.5027835970323731\n"
     ]
    },
    {
     "name": "stdout",
     "output_type": "stream",
     "text": [
      "0.503478049514462\n",
      "0.5041725019965508\n",
      "0.5048669544786398\n",
      "0.5055614069607287\n",
      "0.5062558594428176\n",
      "0.5069503119249066\n",
      "0.5076447644069955\n",
      "0.5083392168890843\n",
      "0.5090336693711732\n",
      "0.5097281218532622\n",
      "0.5104225743353511\n"
     ]
    },
    {
     "name": "stdout",
     "output_type": "stream",
     "text": [
      "0.51111702681744\n",
      "0.511811479299529\n",
      "0.5125059317816179\n",
      "0.5132003842637067\n",
      "0.5138948367457956\n",
      "0.5145892892278846\n",
      "0.5152837417099735\n",
      "0.5159781941920624\n",
      "0.5166726466741514\n"
     ]
    },
    {
     "name": "stdout",
     "output_type": "stream",
     "text": [
      "0.5173670991562402\n",
      "0.5180615516383291\n",
      "0.5187560041204181\n",
      "0.519450456602507\n",
      "0.5201449090845959\n",
      "0.5208393615666848\n",
      "0.5215338140487737\n",
      "0.5222282665308626\n",
      "0.5229227190129515\n",
      "0.5236171714950405\n"
     ]
    },
    {
     "name": "stdout",
     "output_type": "stream",
     "text": [
      "0.5243116239771294\n",
      "0.5250060764592183\n",
      "0.5257005289413071\n",
      "0.5263949814233961\n",
      "0.527089433905485\n",
      "0.5277838863875739\n",
      "0.5284783388696629\n",
      "0.5291727913517518\n",
      "0.5298672438338407\n"
     ]
    },
    {
     "name": "stdout",
     "output_type": "stream",
     "text": [
      "0.5305616963159295\n",
      "0.5312561487980185\n",
      "0.5319506012801074\n",
      "0.5326450537621963\n",
      "0.5333395062442853\n",
      "0.5340339587263742\n",
      "0.534728411208463\n",
      "0.5354228636905519\n",
      "0.5361173161726409\n",
      "0.5368117686547298\n",
      "0.5375062211368187\n"
     ]
    },
    {
     "name": "stdout",
     "output_type": "stream",
     "text": [
      "0.5382006736189077\n",
      "0.5388951261009965\n",
      "0.5395895785830854\n",
      "0.5402840310651744\n",
      "0.5409784835472633\n",
      "0.5416729360293522\n",
      "0.5423673885114411\n",
      "0.54306184099353\n",
      "0.5437562934756189\n",
      "0.5444507459577078\n"
     ]
    },
    {
     "name": "stdout",
     "output_type": "stream",
     "text": [
      "0.5451451984397968\n",
      "0.5458396509218857\n",
      "0.5465341034039746\n",
      "0.5472285558860635\n",
      "0.5479230083681524\n",
      "0.5486174608502413\n",
      "0.5493119133323302\n",
      "0.5500063658144192\n",
      "0.5507008182965081\n",
      "0.551395270778597\n"
     ]
    },
    {
     "name": "stdout",
     "output_type": "stream",
     "text": [
      "0.5520897232606858\n",
      "0.5527841757427748\n",
      "0.5534786282248637\n",
      "0.5541730807069526\n",
      "0.5548675331890416\n",
      "0.5555619856711305\n",
      "0.5562564381532193\n",
      "0.5569508906353082\n",
      "0.5576453431173972\n",
      "0.5583397955994861\n"
     ]
    },
    {
     "name": "stdout",
     "output_type": "stream",
     "text": [
      "0.559034248081575\n",
      "0.559728700563664\n",
      "0.5604231530457529\n",
      "0.5611176055278417\n",
      "0.5618120580099307\n",
      "0.5625065104920196\n",
      "0.5632009629741085\n",
      "0.5638954154561974\n",
      "0.5645898679382864\n",
      "0.5652843204203752\n"
     ]
    },
    {
     "name": "stdout",
     "output_type": "stream",
     "text": [
      "0.5659787729024641\n",
      "0.5666732253845531\n",
      "0.567367677866642\n",
      "0.5680621303487309\n",
      "0.5687565828308198\n",
      "0.5694510353129087\n",
      "0.5701454877949976\n",
      "0.5708399402770865\n",
      "0.5715343927591755\n",
      "0.5722288452412644\n",
      "0.5729232977233533\n"
     ]
    },
    {
     "name": "stdout",
     "output_type": "stream",
     "text": [
      "0.5736177502054421\n",
      "0.5743122026875311\n",
      "0.57500665516962\n",
      "0.5757011076517089\n",
      "0.5763955601337979\n",
      "0.5770900126158868\n",
      "0.5777844650979757\n",
      "0.5784789175800645\n",
      "0.5791733700621535\n",
      "0.5798678225442424\n",
      "0.5805622750263313\n",
      "0.5812567275084203\n"
     ]
    },
    {
     "name": "stdout",
     "output_type": "stream",
     "text": [
      "0.5819511799905092\n",
      "0.582645632472598\n",
      "0.5833400849546869\n",
      "0.5840345374367759\n",
      "0.5847289899188648\n",
      "0.5854234424009537\n",
      "0.5861178948830427\n",
      "0.5868123473651315\n",
      "0.5875067998472204\n",
      "0.5882012523293094\n",
      "0.5888957048113983\n"
     ]
    },
    {
     "name": "stdout",
     "output_type": "stream",
     "text": [
      "0.5895901572934872\n",
      "0.5902846097755761\n",
      "0.590979062257665\n",
      "0.5916735147397539\n",
      "0.5923679672218428\n",
      "0.5930624197039318\n",
      "0.5937568721860207\n",
      "0.5944513246681096\n"
     ]
    },
    {
     "name": "stdout",
     "output_type": "stream",
     "text": [
      "0.5951457771501985\n",
      "0.5958402296322874\n",
      "0.5965346821143763\n",
      "0.5972291345964652\n",
      "0.5979235870785542\n",
      "0.5986180395606431\n",
      "0.599312492042732\n",
      "0.6000069445248208\n",
      "0.6007013970069098\n",
      "0.6013958494889987\n",
      "0.6020903019710876\n"
     ]
    },
    {
     "name": "stdout",
     "output_type": "stream",
     "text": [
      "0.6027847544531766\n",
      "0.6034792069352655\n",
      "0.6041736594173543\n",
      "0.6048681118994432\n",
      "0.6055625643815322\n",
      "0.6062570168636211\n",
      "0.60695146934571\n",
      "0.607645921827799\n",
      "0.6083403743098879\n",
      "0.6090348267919767\n",
      "0.6097292792740657\n",
      "0.6104237317561546\n"
     ]
    },
    {
     "name": "stdout",
     "output_type": "stream",
     "text": [
      "0.6111181842382435\n",
      "0.6118126367203324\n",
      "0.6125070892024214\n",
      "0.6132015416845102\n",
      "0.6138959941665991\n",
      "0.6145904466486881\n",
      "0.615284899130777\n",
      "0.6159793516128659\n",
      "0.6166738040949548\n",
      "0.6173682565770438\n",
      "0.6180627090591326\n"
     ]
    },
    {
     "name": "stdout",
     "output_type": "stream",
     "text": [
      "0.6187571615412215\n",
      "0.6194516140233105\n",
      "0.6201460665053994\n",
      "0.6208405189874883\n",
      "0.6215349714695771\n",
      "0.6222294239516661\n",
      "0.622923876433755\n",
      "0.6236183289158439\n",
      "0.6243127813979329\n",
      "0.6250072338800218\n",
      "0.6257016863621107\n",
      "0.6263961388441995\n"
     ]
    },
    {
     "name": "stdout",
     "output_type": "stream",
     "text": [
      "0.6270905913262885\n",
      "0.6277850438083774\n",
      "0.6284794962904663\n",
      "0.6291739487725553\n",
      "0.6298684012546442\n",
      "0.630562853736733\n",
      "0.6312573062188219\n",
      "0.6319517587009109\n",
      "0.6326462111829998\n",
      "0.6333406636650887\n"
     ]
    },
    {
     "name": "stdout",
     "output_type": "stream",
     "text": [
      "0.6340351161471777\n",
      "0.6347295686292665\n",
      "0.6354240211113554\n",
      "0.6361184735934444\n",
      "0.6368129260755333\n",
      "0.6375073785576222\n",
      "0.6382018310397111\n",
      "0.6388962835218001\n",
      "0.6395907360038889\n",
      "0.6402851884859778\n",
      "0.6409796409680668\n"
     ]
    },
    {
     "name": "stdout",
     "output_type": "stream",
     "text": [
      "0.6416740934501557\n",
      "0.6423685459322446\n",
      "0.6430629984143335\n",
      "0.6437574508964224\n",
      "0.6444519033785113\n",
      "0.6451463558606002\n",
      "0.6458408083426892\n",
      "0.6465352608247781\n",
      "0.647229713306867\n",
      "0.6479241657889558\n",
      "0.6486186182710448\n"
     ]
    },
    {
     "name": "stdout",
     "output_type": "stream",
     "text": [
      "0.6493130707531337\n",
      "0.6500075232352226\n",
      "0.6507019757173116\n",
      "0.6513964281994005\n",
      "0.6520908806814893\n",
      "0.6527853331635782\n",
      "0.6534797856456672\n",
      "0.6541742381277561\n",
      "0.654868690609845\n",
      "0.655563143091934\n",
      "0.6562575955740229\n"
     ]
    },
    {
     "name": "stdout",
     "output_type": "stream",
     "text": [
      "0.6569520480561117\n",
      "0.6576465005382007\n",
      "0.6583409530202896\n",
      "0.6590354055023785\n",
      "0.6597298579844674\n",
      "0.6604243104665564\n",
      "0.6611187629486452\n",
      "0.6618132154307341\n",
      "0.6625076679128231\n",
      "0.663202120394912\n",
      "0.6638965728770009\n"
     ]
    },
    {
     "name": "stdout",
     "output_type": "stream",
     "text": [
      "0.6645910253590898\n",
      "0.6652854778411788\n",
      "0.6659799303232676\n",
      "0.6666743828053565\n",
      "0.6673688352874455\n",
      "0.6680632877695344\n",
      "0.6687577402516233\n",
      "0.6694521927337121\n",
      "0.6701466452158011\n"
     ]
    },
    {
     "name": "stdout",
     "output_type": "stream",
     "text": [
      "0.67084109769789\n",
      "0.6715355501799789\n",
      "0.6722300026620679\n",
      "0.6729244551441568\n",
      "0.6736189076262457\n",
      "0.6743133601083345\n",
      "0.6750078125904235\n",
      "0.6757022650725124\n",
      "0.6763967175546013\n",
      "0.6770911700366903\n",
      "0.6777856225187792\n",
      "0.678480075000868\n"
     ]
    },
    {
     "name": "stdout",
     "output_type": "stream",
     "text": [
      "0.6791745274829569\n",
      "0.6798689799650459\n",
      "0.6805634324471348\n",
      "0.6812578849292237\n",
      "0.6819523374113127\n",
      "0.6826467898934016\n",
      "0.6833412423754904\n",
      "0.6840356948575794\n",
      "0.6847301473396683\n",
      "0.6854245998217572\n",
      "0.6861190523038461\n"
     ]
    },
    {
     "name": "stdout",
     "output_type": "stream",
     "text": [
      "0.6868135047859351\n",
      "0.6875079572680239\n",
      "0.6882024097501128\n",
      "0.6888968622322018\n",
      "0.6895913147142907\n",
      "0.6902857671963796\n",
      "0.6909802196784685\n",
      "0.6916746721605574\n",
      "0.6923691246426463\n",
      "0.6930635771247352\n",
      "0.6937580296068242\n"
     ]
    },
    {
     "name": "stdout",
     "output_type": "stream",
     "text": [
      "0.6944524820889131\n",
      "0.695146934571002\n",
      "0.6958413870530908\n",
      "0.6965358395351798\n",
      "0.6972302920172687\n",
      "0.6979247444993576\n",
      "0.6986191969814466\n",
      "0.6993136494635355\n",
      "0.7000081019456244\n",
      "0.7007025544277132\n"
     ]
    },
    {
     "name": "stdout",
     "output_type": "stream",
     "text": [
      "0.7013970069098022\n",
      "0.7020914593918911\n",
      "0.70278591187398\n",
      "0.703480364356069\n",
      "0.7041748168381579\n",
      "0.7048692693202467\n",
      "0.7055637218023357\n",
      "0.7062581742844246\n",
      "0.7069526267665135\n",
      "0.7076470792486024\n"
     ]
    },
    {
     "name": "stdout",
     "output_type": "stream",
     "text": [
      "0.7083415317306914\n",
      "0.7090359842127802\n",
      "0.7097304366948691\n",
      "0.7104248891769581\n",
      "0.711119341659047\n",
      "0.7118137941411359\n",
      "0.7125082466232248\n",
      "0.7132026991053138\n",
      "0.7138971515874026\n",
      "0.7145916040694915\n",
      "0.7152860565515805\n"
     ]
    },
    {
     "name": "stdout",
     "output_type": "stream",
     "text": [
      "0.7159805090336694\n",
      "0.7166749615157583\n",
      "0.7173694139978471\n",
      "0.7180638664799361\n",
      "0.718758318962025\n",
      "0.7194527714441139\n",
      "0.7201472239262029\n",
      "0.7208416764082918\n",
      "0.7215361288903807\n",
      "0.7222305813724695\n"
     ]
    },
    {
     "name": "stdout",
     "output_type": "stream",
     "text": [
      "0.7229250338545585\n",
      "0.7236194863366474\n",
      "0.7243139388187363\n",
      "0.7250083913008253\n",
      "0.7257028437829142\n",
      "0.726397296265003\n",
      "0.7270917487470919\n",
      "0.7277862012291809\n",
      "0.7284806537112698\n",
      "0.7291751061933587\n"
     ]
    },
    {
     "name": "stdout",
     "output_type": "stream",
     "text": [
      "0.7298695586754477\n",
      "0.7305640111575366\n",
      "0.7312584636396254\n",
      "0.7319529161217144\n",
      "0.7326473686038033\n",
      "0.7333418210858922\n",
      "0.7340362735679811\n",
      "0.7347307260500701\n",
      "0.7354251785321589\n"
     ]
    },
    {
     "name": "stdout",
     "output_type": "stream",
     "text": [
      "0.7361196310142478\n",
      "0.7368140834963368\n",
      "0.7375085359784257\n",
      "0.7382029884605146\n",
      "0.7388974409426035\n",
      "0.7395918934246924\n",
      "0.7402863459067813\n",
      "0.7409807983888702\n",
      "0.7416752508709592\n",
      "0.7423697033530481\n",
      "0.743064155835137\n"
     ]
    },
    {
     "name": "stdout",
     "output_type": "stream",
     "text": [
      "0.7437586083172258\n",
      "0.7444530607993148\n",
      "0.7451475132814037\n",
      "0.7458419657634926\n",
      "0.7465364182455816\n",
      "0.7472308707276705\n",
      "0.7479253232097594\n",
      "0.7486197756918482\n",
      "0.7493142281739372\n",
      "0.7500086806560261\n",
      "0.750703133138115\n",
      "0.751397585620204\n"
     ]
    },
    {
     "name": "stdout",
     "output_type": "stream",
     "text": [
      "0.7520920381022929\n",
      "0.7527864905843817\n",
      "0.7534809430664707\n",
      "0.7541753955485596\n",
      "0.7548698480306485\n",
      "0.7555643005127374\n"
     ]
    },
    {
     "name": "stdout",
     "output_type": "stream",
     "text": [
      "0.7562587529948264\n",
      "0.7569532054769152\n",
      "0.7576476579590041\n",
      "0.7583421104410931\n",
      "0.759036562923182\n",
      "0.7597310154052709\n",
      "0.7604254678873598\n",
      "0.7611199203694488\n",
      "0.7618143728515376\n"
     ]
    },
    {
     "name": "stdout",
     "output_type": "stream",
     "text": [
      "0.7625088253336265\n",
      "0.7632032778157155\n",
      "0.7638977302978044\n",
      "0.7645921827798933\n",
      "0.7652866352619822\n",
      "0.7659810877440711\n",
      "0.76667554022616\n",
      "0.7673699927082489\n",
      "0.7680644451903379\n"
     ]
    },
    {
     "name": "stdout",
     "output_type": "stream",
     "text": [
      "0.7687588976724268\n",
      "0.7694533501545157\n",
      "0.7701478026366045\n",
      "0.7708422551186935\n",
      "0.7715367076007824\n",
      "0.7722311600828713\n",
      "0.7729256125649603\n",
      "0.7736200650470492\n",
      "0.774314517529138\n",
      "0.7750089700112269\n"
     ]
    },
    {
     "name": "stdout",
     "output_type": "stream",
     "text": [
      "0.7757034224933159\n",
      "0.7763978749754048\n",
      "0.7770923274574937\n",
      "0.7777867799395827\n",
      "0.7784812324216716\n",
      "0.7791756849037604\n",
      "0.7798701373858494\n",
      "0.7805645898679383\n",
      "0.7812590423500272\n",
      "0.7819534948321161\n",
      "0.7826479473142051\n"
     ]
    },
    {
     "name": "stdout",
     "output_type": "stream",
     "text": [
      "0.7833423997962939\n",
      "0.7840368522783828\n",
      "0.7847313047604718\n",
      "0.7854257572425607\n",
      "0.7861202097246496\n",
      "0.7868146622067385\n",
      "0.7875091146888274\n",
      "0.7882035671709163\n",
      "0.7888980196530052\n",
      "0.7895924721350942\n",
      "0.7902869246171831\n"
     ]
    },
    {
     "name": "stdout",
     "output_type": "stream",
     "text": [
      "0.790981377099272\n",
      "0.7916758295813608\n",
      "0.7923702820634498\n",
      "0.7930647345455387\n",
      "0.7937591870276276\n",
      "0.7944536395097166\n",
      "0.7951480919918055\n",
      "0.7958425444738944\n",
      "0.7965369969559832\n",
      "0.7972314494380722\n",
      "0.7979259019201611\n"
     ]
    },
    {
     "name": "stdout",
     "output_type": "stream",
     "text": [
      "0.79862035440225\n",
      "0.799314806884339\n",
      "0.8000092593664279\n",
      "0.8007037118485167\n",
      "0.8013981643306057\n",
      "0.8020926168126946\n",
      "0.8027870692947835\n",
      "0.8034815217768724\n",
      "0.8041759742589614\n"
     ]
    },
    {
     "name": "stdout",
     "output_type": "stream",
     "text": [
      "0.8048704267410502\n",
      "0.8055648792231391\n",
      "0.8062593317052281\n",
      "0.806953784187317\n",
      "0.8076482366694059\n",
      "0.8083426891514948\n",
      "0.8090371416335838\n",
      "0.8097315941156726\n",
      "0.8104260465977615\n",
      "0.8111204990798505\n",
      "0.8118149515619394\n",
      "0.8125094040440283\n"
     ]
    },
    {
     "name": "stdout",
     "output_type": "stream",
     "text": [
      "0.8132038565261172\n",
      "0.8138983090082061\n",
      "0.814592761490295\n",
      "0.8152872139723839\n",
      "0.8159816664544729\n",
      "0.8166761189365618\n",
      "0.8173705714186507\n",
      "0.8180650239007395\n",
      "0.8187594763828285\n",
      "0.8194539288649174\n",
      "0.8201483813470063\n",
      "0.8208428338290953\n"
     ]
    },
    {
     "name": "stdout",
     "output_type": "stream",
     "text": [
      "0.8215372863111842\n",
      "0.822231738793273\n",
      "0.8229261912753619\n",
      "0.8236206437574509\n",
      "0.8243150962395398\n",
      "0.8250095487216287\n",
      "0.8257040012037177\n",
      "0.8263984536858066\n",
      "0.8270929061678954\n",
      "0.8277873586499844\n",
      "0.8284818111320733\n"
     ]
    },
    {
     "name": "stdout",
     "output_type": "stream",
     "text": [
      "0.8291762636141622\n",
      "0.8298707160962511\n",
      "0.8305651685783401\n",
      "0.8312596210604289\n",
      "0.8319540735425178\n",
      "0.8326485260246068\n",
      "0.8333429785066957\n",
      "0.8340374309887846\n",
      "0.8347318834708735\n",
      "0.8354263359529625\n"
     ]
    },
    {
     "name": "stdout",
     "output_type": "stream",
     "text": [
      "0.8361207884350513\n",
      "0.8368152409171402\n",
      "0.8375096933992292\n",
      "0.8382041458813181\n",
      "0.838898598363407\n",
      "0.8395930508454958\n",
      "0.8402875033275848\n",
      "0.8409819558096737\n",
      "0.8416764082917626\n",
      "0.8423708607738516\n"
     ]
    },
    {
     "name": "stdout",
     "output_type": "stream",
     "text": [
      "0.8430653132559405\n",
      "0.8437597657380294\n",
      "0.8444542182201182\n",
      "0.8451486707022072\n",
      "0.8458431231842961\n",
      "0.846537575666385\n",
      "0.847232028148474\n",
      "0.8479264806305629\n",
      "0.8486209331126517\n"
     ]
    },
    {
     "name": "stdout",
     "output_type": "stream",
     "text": [
      "0.8493153855947407\n",
      "0.8500098380768296\n",
      "0.8507042905589185\n",
      "0.8513987430410074\n",
      "0.8520931955230964\n",
      "0.8527876480051853\n",
      "0.8534821004872741\n",
      "0.8541765529693631\n",
      "0.854871005451452\n"
     ]
    },
    {
     "name": "stdout",
     "output_type": "stream",
     "text": [
      "0.8555654579335409\n",
      "0.8562599104156298\n",
      "0.8569543628977188\n",
      "0.8576488153798076\n",
      "0.8583432678618965\n",
      "0.8590377203439855\n",
      "0.8597321728260744\n",
      "0.8604266253081633\n",
      "0.8611210777902522\n",
      "0.8618155302723411\n"
     ]
    },
    {
     "name": "stdout",
     "output_type": "stream",
     "text": [
      "0.86250998275443\n",
      "0.8632044352365189\n",
      "0.8638988877186079\n",
      "0.8645933402006968\n",
      "0.8652877926827857\n",
      "0.8659822451648745\n",
      "0.8666766976469635\n",
      "0.8673711501290524\n",
      "0.8680656026111413\n",
      "0.8687600550932303\n"
     ]
    },
    {
     "name": "stdout",
     "output_type": "stream",
     "text": [
      "0.8694545075753192\n",
      "0.870148960057408\n",
      "0.8708434125394969\n",
      "0.8715378650215859\n",
      "0.8722323175036748\n",
      "0.8729267699857637\n",
      "0.8736212224678527\n",
      "0.8743156749499416\n",
      "0.8750101274320304\n",
      "0.8757045799141194\n",
      "0.8763990323962083\n"
     ]
    },
    {
     "name": "stdout",
     "output_type": "stream",
     "text": [
      "0.8770934848782972\n",
      "0.8777879373603861\n",
      "0.8784823898424751\n",
      "0.879176842324564\n",
      "0.8798712948066528\n"
     ]
    },
    {
     "name": "stdout",
     "output_type": "stream",
     "text": [
      "0.8805657472887418\n",
      "0.8812601997708307\n",
      "0.8819546522529196\n",
      "0.8826491047350085\n",
      "0.8833435572170975\n",
      "0.8840380096991863\n",
      "0.8847324621812752\n",
      "0.8854269146633642\n",
      "0.8861213671454531\n",
      "0.886815819627542\n",
      "0.8875102721096308\n",
      "0.8882047245917198\n"
     ]
    },
    {
     "name": "stdout",
     "output_type": "stream",
     "text": [
      "0.8888991770738087\n",
      "0.8895936295558976\n",
      "0.8902880820379866\n",
      "0.8909825345200755\n",
      "0.8916769870021644\n",
      "0.8923714394842532\n",
      "0.8930658919663422\n",
      "0.8937603444484311\n",
      "0.89445479693052\n",
      "0.895149249412609\n",
      "0.8958437018946979\n",
      "0.8965381543767867\n"
     ]
    },
    {
     "name": "stdout",
     "output_type": "stream",
     "text": [
      "0.8972326068588757\n",
      "0.8979270593409646\n",
      "0.8986215118230535\n",
      "0.8993159643051424\n",
      "0.9000104167872314\n",
      "0.9007048692693203\n",
      "0.9013993217514091\n",
      "0.9020937742334981\n",
      "0.902788226715587\n"
     ]
    },
    {
     "name": "stdout",
     "output_type": "stream",
     "text": [
      "0.9034826791976759\n",
      "0.9041771316797648\n",
      "0.9048715841618538\n",
      "0.9055660366439426\n",
      "0.9062604891260315\n",
      "0.9069549416081205\n",
      "0.9076493940902094\n",
      "0.9083438465722983\n",
      "0.9090382990543872\n",
      "0.9097327515364761\n",
      "0.910427204018565\n"
     ]
    },
    {
     "name": "stdout",
     "output_type": "stream",
     "text": [
      "0.9111216565006539\n",
      "0.9118161089827429\n",
      "0.9125105614648318\n",
      "0.9132050139469207\n",
      "0.9138994664290095\n",
      "0.9145939189110985\n",
      "0.9152883713931874\n",
      "0.9159828238752763\n",
      "0.9166772763573653\n",
      "0.9173717288394542\n"
     ]
    },
    {
     "name": "stdout",
     "output_type": "stream",
     "text": [
      "0.918066181321543\n",
      "0.9187606338036319\n",
      "0.9194550862857209\n",
      "0.9201495387678098\n",
      "0.9208439912498987\n",
      "0.9215384437319877\n",
      "0.9222328962140766\n"
     ]
    },
    {
     "name": "stdout",
     "output_type": "stream",
     "text": [
      "0.9229273486961654\n",
      "0.9236218011782544\n",
      "0.9243162536603433\n",
      "0.9250107061424322\n",
      "0.9257051586245211\n"
     ]
    },
    {
     "name": "stdout",
     "output_type": "stream",
     "text": [
      "0.9263996111066101\n",
      "0.927094063588699\n",
      "0.9277885160707878\n",
      "0.9284829685528768\n",
      "0.9291774210349657\n",
      "0.9298718735170546\n",
      "0.9305663259991435\n"
     ]
    },
    {
     "name": "stdout",
     "output_type": "stream",
     "text": [
      "0.9312607784812325\n",
      "0.9319552309633213\n",
      "0.9326496834454102\n",
      "0.9333441359274992\n",
      "0.9340385884095881\n",
      "0.934733040891677\n",
      "0.9354274933737659\n",
      "0.9361219458558548\n",
      "0.9368163983379437\n",
      "0.9375108508200326\n"
     ]
    },
    {
     "name": "stdout",
     "output_type": "stream",
     "text": [
      "0.9382053033021216\n",
      "0.9388997557842105\n",
      "0.9395942082662994\n",
      "0.9402886607483882\n",
      "0.9409831132304772\n",
      "0.9416775657125661\n",
      "0.942372018194655\n",
      "0.943066470676744\n",
      "0.9437609231588329\n",
      "0.9444553756409217\n",
      "0.9451498281230107\n"
     ]
    },
    {
     "name": "stdout",
     "output_type": "stream",
     "text": [
      "0.9458442806050996\n",
      "0.9465387330871885\n",
      "0.9472331855692774\n",
      "0.9479276380513664\n",
      "0.9486220905334553\n",
      "0.9493165430155441\n",
      "0.9500109954976331\n",
      "0.950705447979722\n",
      "0.9513999004618109\n",
      "0.9520943529438998\n"
     ]
    },
    {
     "name": "stdout",
     "output_type": "stream",
     "text": [
      "0.9527888054259888\n",
      "0.9534832579080776\n",
      "0.9541777103901665\n",
      "0.9548721628722555\n",
      "0.9555666153543444\n",
      "0.9562610678364333\n",
      "0.9569555203185222\n",
      "0.9576499728006111\n",
      "0.9583444252827\n",
      "0.9590388777647889\n"
     ]
    },
    {
     "name": "stdout",
     "output_type": "stream",
     "text": [
      "0.9597333302468779\n",
      "0.9604277827289668\n",
      "0.9611222352110557\n",
      "0.9618166876931445\n",
      "0.9625111401752335\n",
      "0.9632055926573224\n",
      "0.9639000451394113\n",
      "0.9645944976215003\n",
      "0.9652889501035892\n",
      "0.965983402585678\n",
      "0.9666778550677669\n"
     ]
    },
    {
     "name": "stdout",
     "output_type": "stream",
     "text": [
      "0.9673723075498559\n",
      "0.9680667600319448\n",
      "0.9687612125140337\n",
      "0.9694556649961227\n",
      "0.9701501174782116\n",
      "0.9708445699603004\n",
      "0.9715390224423894\n",
      "0.9722334749244783\n",
      "0.9729279274065672\n",
      "0.9736223798886561\n",
      "0.9743168323707451\n"
     ]
    },
    {
     "name": "stdout",
     "output_type": "stream",
     "text": [
      "0.975011284852834\n",
      "0.9757057373349228\n",
      "0.9764001898170118\n",
      "0.9770946422991007\n",
      "0.9777890947811896\n",
      "0.9784835472632785\n",
      "0.9791779997453675\n",
      "0.9798724522274563\n",
      "0.9805669047095452\n",
      "0.9812613571916342\n",
      "0.9819558096737231\n"
     ]
    },
    {
     "name": "stdout",
     "output_type": "stream",
     "text": [
      "0.982650262155812\n",
      "0.9833447146379009\n",
      "0.9840391671199898\n",
      "0.9847336196020787\n",
      "0.9854280720841676\n",
      "0.9861225245662566\n",
      "0.9868169770483455\n",
      "0.9875114295304344\n",
      "0.9882058820125232\n",
      "0.9889003344946122\n"
     ]
    },
    {
     "name": "stdout",
     "output_type": "stream",
     "text": [
      "0.9895947869767011\n",
      "0.99028923945879\n",
      "0.990983691940879\n",
      "0.9916781444229679\n",
      "0.9923725969050567\n",
      "0.9930670493871457\n",
      "0.9937615018692346\n",
      "0.9944559543513235\n",
      "0.9951504068334124\n",
      "0.9958448593155014\n",
      "0.9965393117975903\n"
     ]
    },
    {
     "name": "stdout",
     "output_type": "stream",
     "text": [
      "0.9972337642796791\n",
      "0.9979282167617681\n",
      "0.998622669243857\n",
      "\tresting\n",
      "\t\t None processing, none filter sensors!\n",
      "0.0006944524820889131\n",
      "0.0013889049641778262\n",
      "0.0020833574462667394\n",
      "0.0027778099283556523\n",
      "0.0034722624104445653\n",
      "0.004166714892533479\n",
      "0.004861167374622392\n"
     ]
    },
    {
     "name": "stdout",
     "output_type": "stream",
     "text": [
      "0.005555619856711305\n",
      "0.006250072338800218\n",
      "0.006944524820889131\n",
      "0.007638977302978044\n",
      "0.008333429785066957\n",
      "0.00902788226715587\n",
      "0.009722334749244783\n",
      "0.010416787231333696\n",
      "0.01111123971342261\n",
      "0.011805692195511521\n"
     ]
    },
    {
     "name": "stdout",
     "output_type": "stream",
     "text": [
      "0.012500144677600435\n",
      "0.013194597159689347\n",
      "0.013889049641778261\n",
      "0.014583502123867175\n",
      "0.015277954605956087\n",
      "0.015972407088045\n",
      "0.016666859570133915\n",
      "0.017361312052222827\n",
      "0.01805576453431174\n",
      "0.01875021701640065\n"
     ]
    },
    {
     "name": "stdout",
     "output_type": "stream",
     "text": [
      "0.019444669498489567\n",
      "0.02013912198057848\n",
      "0.02083357446266739\n",
      "0.021528026944756307\n",
      "0.02222247942684522\n",
      "0.02291693190893413\n",
      "0.023611384391023043\n",
      "0.02430583687311196\n",
      "0.02500028935520087\n",
      "0.025694741837289783\n"
     ]
    },
    {
     "name": "stdout",
     "output_type": "stream",
     "text": [
      "0.026389194319378695\n",
      "0.02708364680146761\n",
      "0.027778099283556523\n",
      "0.028472551765645435\n",
      "0.02916700424773435\n",
      "0.029861456729823262\n",
      "0.030555909211912174\n",
      "0.03125036169400109\n",
      "0.03194481417609\n",
      "0.032639266658178914\n",
      "0.03333371914026783\n",
      "0.03402817162235674\n"
     ]
    },
    {
     "name": "stdout",
     "output_type": "stream",
     "text": [
      "0.034722624104445654\n",
      "0.03541707658653457\n",
      "0.03611152906862348\n",
      "0.036805981550712394\n",
      "0.0375004340328013\n",
      "0.03819488651489022\n",
      "0.038889338996979134\n",
      "0.03958379147906804\n",
      "0.04027824396115696\n",
      "0.04097269644324587\n",
      "0.04166714892533478\n"
     ]
    },
    {
     "name": "stdout",
     "output_type": "stream",
     "text": [
      "0.0423616014074237\n",
      "0.04305605388951261\n",
      "0.04375050637160152\n",
      "0.04444495885369044\n",
      "0.045139411335779346\n",
      "0.04583386381786826\n",
      "0.04652831629995718\n",
      "0.047222768782046086\n",
      "0.047917221264135\n",
      "0.04861167374622392\n"
     ]
    },
    {
     "name": "stdout",
     "output_type": "stream",
     "text": [
      "0.049306126228312826\n",
      "0.05000057871040174\n",
      "0.05069503119249066\n",
      "0.051389483674579566\n",
      "0.05208393615666848\n",
      "0.05277838863875739\n",
      "0.053472841120846305\n",
      "0.05416729360293522\n",
      "0.05486174608502413\n"
     ]
    },
    {
     "name": "stdout",
     "output_type": "stream",
     "text": [
      "0.055556198567113045\n",
      "0.05625065104920196\n",
      "0.05694510353129087\n",
      "0.057639556013379785\n",
      "0.0583340084954687\n",
      "0.05902846097755761\n",
      "0.059722913459646525\n",
      "0.06041736594173543\n",
      "0.06111181842382435\n",
      "0.061806270905913265\n"
     ]
    },
    {
     "name": "stdout",
     "output_type": "stream",
     "text": [
      "0.06250072338800218\n",
      "0.06319517587009109\n",
      "0.06388962835218\n",
      "0.06458408083426892\n",
      "0.06527853331635783\n",
      "0.06597298579844674\n",
      "0.06666743828053566\n",
      "0.06736189076262457\n",
      "0.06805634324471348\n",
      "0.0687507957268024\n",
      "0.06944524820889131\n"
     ]
    },
    {
     "name": "stdout",
     "output_type": "stream",
     "text": [
      "0.07013970069098022\n",
      "0.07083415317306914\n",
      "0.07152860565515805\n",
      "0.07222305813724696\n",
      "0.07291751061933587\n",
      "0.07361196310142479\n",
      "0.0743064155835137\n",
      "0.0750008680656026\n",
      "0.07569532054769153\n",
      "0.07638977302978044\n",
      "0.07708422551186934\n"
     ]
    },
    {
     "name": "stdout",
     "output_type": "stream",
     "text": [
      "0.07777867799395827\n",
      "0.07847313047604718\n",
      "0.07916758295813608\n",
      "0.07986203544022501\n",
      "0.08055648792231392\n",
      "0.08125094040440282\n",
      "0.08194539288649175\n",
      "0.08263984536858066\n",
      "0.08333429785066956\n",
      "0.08402875033275849\n",
      "0.0847232028148474\n"
     ]
    },
    {
     "name": "stdout",
     "output_type": "stream",
     "text": [
      "0.0854176552969363\n",
      "0.08611210777902523\n",
      "0.08680656026111414\n",
      "0.08750101274320304\n",
      "0.08819546522529197\n",
      "0.08888991770738087\n",
      "0.08958437018946978\n",
      "0.09027882267155869\n",
      "0.09097327515364761\n",
      "0.09166772763573652\n",
      "0.09236218011782543\n"
     ]
    },
    {
     "name": "stdout",
     "output_type": "stream",
     "text": [
      "0.09305663259991435\n",
      "0.09375108508200326\n",
      "0.09444553756409217\n",
      "0.0951399900461811\n",
      "0.09583444252827\n",
      "0.09652889501035891\n"
     ]
    },
    {
     "name": "stdout",
     "output_type": "stream",
     "text": [
      "0.09722334749244783\n",
      "0.09791779997453674\n",
      "0.09861225245662565\n",
      "0.09930670493871457\n",
      "0.10000115742080348\n",
      "0.10069560990289239\n",
      "0.10139006238498131\n",
      "0.10208451486707022\n",
      "0.10277896734915913\n",
      "0.10347341983124805\n"
     ]
    },
    {
     "name": "stdout",
     "output_type": "stream",
     "text": [
      "0.10416787231333696\n",
      "0.10486232479542587\n",
      "0.10555677727751478\n",
      "0.1062512297596037\n",
      "0.10694568224169261\n",
      "0.10764013472378152\n",
      "0.10833458720587044\n",
      "0.10902903968795935\n",
      "0.10972349217004826\n"
     ]
    },
    {
     "name": "stdout",
     "output_type": "stream",
     "text": [
      "0.11041794465213718\n",
      "0.11111239713422609\n",
      "0.111806849616315\n",
      "0.11250130209840392\n",
      "0.11319575458049283\n",
      "0.11389020706258174\n",
      "0.11458465954467066\n"
     ]
    },
    {
     "name": "stdout",
     "output_type": "stream",
     "text": [
      "0.11527911202675957\n",
      "0.11597356450884848\n",
      "0.1166680169909374\n",
      "0.11736246947302631\n",
      "0.11805692195511522\n",
      "0.11875137443720414\n",
      "0.11944582691929305\n",
      "0.12014027940138196\n",
      "0.12083473188347087\n",
      "0.12152918436555979\n",
      "0.1222236368476487\n"
     ]
    },
    {
     "name": "stdout",
     "output_type": "stream",
     "text": [
      "0.1229180893297376\n",
      "0.12361254181182653\n",
      "0.12430699429391544\n",
      "0.12500144677600436\n",
      "0.12569589925809327\n",
      "0.12639035174018218\n",
      "0.12708480422227109\n",
      "0.12777925670436\n",
      "0.1284737091864489\n",
      "0.12916816166853784\n",
      "0.12986261415062675\n"
     ]
    },
    {
     "name": "stdout",
     "output_type": "stream",
     "text": [
      "0.13055706663271566\n",
      "0.13125151911480457\n",
      "0.13194597159689347\n",
      "0.13264042407898238\n",
      "0.13333487656107132\n",
      "0.13402932904316023\n",
      "0.13472378152524914\n",
      "0.13541823400733805\n",
      "0.13611268648942695\n",
      "0.13680713897151586\n"
     ]
    },
    {
     "name": "stdout",
     "output_type": "stream",
     "text": [
      "0.1375015914536048\n",
      "0.1381960439356937\n",
      "0.13889049641778262\n",
      "0.13958494889987152\n",
      "0.14027940138196043\n",
      "0.14097385386404934\n",
      "0.14166830634613828\n",
      "0.1423627588282272\n",
      "0.1430572113103161\n",
      "0.143751663792405\n",
      "0.1444461162744939\n"
     ]
    },
    {
     "name": "stdout",
     "output_type": "stream",
     "text": [
      "0.14514056875658282\n",
      "0.14583502123867173\n",
      "0.14652947372076067\n",
      "0.14722392620284958\n",
      "0.14791837868493848\n",
      "0.1486128311670274\n",
      "0.1493072836491163\n",
      "0.1500017361312052\n",
      "0.15069618861329415\n"
     ]
    },
    {
     "name": "stdout",
     "output_type": "stream",
     "text": [
      "0.15139064109538306\n",
      "0.15208509357747196\n",
      "0.15277954605956087\n",
      "0.15347399854164978\n",
      "0.1541684510237387\n",
      "0.15486290350582763\n",
      "0.15555735598791653\n",
      "0.15625180847000544\n",
      "0.15694626095209435\n"
     ]
    },
    {
     "name": "stdout",
     "output_type": "stream",
     "text": [
      "0.15764071343418326\n",
      "0.15833516591627217\n",
      "0.1590296183983611\n",
      "0.15972407088045001\n",
      "0.16041852336253892\n",
      "0.16111297584462783\n",
      "0.16180742832671674\n",
      "0.16250188080880565\n",
      "0.16319633329089456\n",
      "0.1638907857729835\n",
      "0.1645852382550724\n",
      "0.1652796907371613\n"
     ]
    },
    {
     "name": "stdout",
     "output_type": "stream",
     "text": [
      "0.16597414321925022\n",
      "0.16666859570133913\n",
      "0.16736304818342804\n",
      "0.16805750066551697\n",
      "0.16875195314760588\n",
      "0.1694464056296948\n",
      "0.1701408581117837\n",
      "0.1708353105938726\n",
      "0.17152976307596152\n",
      "0.17222421555805045\n",
      "0.17291866804013936\n",
      "0.17361312052222827\n"
     ]
    },
    {
     "name": "stdout",
     "output_type": "stream",
     "text": [
      "0.17430757300431718\n",
      "0.1750020254864061\n",
      "0.175696477968495\n",
      "0.17639093045058393\n",
      "0.17708538293267284\n",
      "0.17777983541476175\n",
      "0.17847428789685066\n",
      "0.17916874037893957\n",
      "0.17986319286102848\n",
      "0.18055764534311738\n",
      "0.18125209782520632\n"
     ]
    },
    {
     "name": "stdout",
     "output_type": "stream",
     "text": [
      "0.18194655030729523\n",
      "0.18264100278938414\n",
      "0.18333545527147305\n",
      "0.18402990775356196\n",
      "0.18472436023565086\n",
      "0.1854188127177398\n",
      "0.1861132651998287\n",
      "0.18680771768191762\n",
      "0.18750217016400653\n",
      "0.18819662264609544\n",
      "0.18889107512818434\n"
     ]
    },
    {
     "name": "stdout",
     "output_type": "stream",
     "text": [
      "0.18958552761027328\n",
      "0.1902799800923622\n",
      "0.1909744325744511\n",
      "0.19166888505654\n",
      "0.19236333753862891\n",
      "0.19305779002071782\n",
      "0.19375224250280673\n",
      "0.19444669498489567\n",
      "0.19514114746698458\n",
      "0.19583559994907349\n",
      "0.1965300524311624\n"
     ]
    },
    {
     "name": "stdout",
     "output_type": "stream",
     "text": [
      "0.1972245049132513\n",
      "0.1979189573953402\n",
      "0.19861340987742915\n",
      "0.19930786235951806\n",
      "0.20000231484160697\n",
      "0.20069676732369587\n",
      "0.20139121980578478\n",
      "0.2020856722878737\n",
      "0.20278012476996263\n",
      "0.20347457725205154\n",
      "0.20416902973414044\n",
      "0.20486348221622935\n"
     ]
    },
    {
     "name": "stdout",
     "output_type": "stream",
     "text": [
      "0.20555793469831826\n",
      "0.20625238718040717\n",
      "0.2069468396624961\n",
      "0.20764129214458502\n",
      "0.20833574462667392\n",
      "0.20903019710876283\n",
      "0.20972464959085174\n",
      "0.21041910207294065\n",
      "0.21111355455502956\n",
      "0.2118080070371185\n",
      "0.2125024595192074\n"
     ]
    },
    {
     "name": "stdout",
     "output_type": "stream",
     "text": [
      "0.2131969120012963\n",
      "0.21389136448338522\n",
      "0.21458581696547413\n",
      "0.21528026944756304\n",
      "0.21597472192965197\n",
      "0.21666917441174088\n",
      "0.2173636268938298\n",
      "0.2180580793759187\n",
      "0.2187525318580076\n"
     ]
    },
    {
     "name": "stdout",
     "output_type": "stream",
     "text": [
      "0.21944698434009652\n",
      "0.22014143682218545\n",
      "0.22083588930427436\n",
      "0.22153034178636327\n",
      "0.22222479426845218\n",
      "0.2229192467505411\n",
      "0.22361369923263\n",
      "0.22430815171471893\n",
      "0.22500260419680784\n",
      "0.22569705667889675\n"
     ]
    },
    {
     "name": "stdout",
     "output_type": "stream",
     "text": [
      "0.22639150916098566\n",
      "0.22708596164307457\n",
      "0.22778041412516348\n",
      "0.22847486660725239\n",
      "0.22916931908934132\n",
      "0.22986377157143023\n",
      "0.23055822405351914\n",
      "0.23125267653560805\n",
      "0.23194712901769696\n",
      "0.23264158149978587\n",
      "0.2333360339818748\n",
      "0.2340304864639637\n"
     ]
    },
    {
     "name": "stdout",
     "output_type": "stream",
     "text": [
      "0.23472493894605262\n",
      "0.23541939142814153\n",
      "0.23611384391023044\n",
      "0.23680829639231935\n",
      "0.23750274887440828\n",
      "0.2381972013564972\n",
      "0.2388916538385861\n",
      "0.239586106320675\n",
      "0.24028055880276392\n",
      "0.24097501128485282\n",
      "0.24166946376694173\n"
     ]
    },
    {
     "name": "stdout",
     "output_type": "stream",
     "text": [
      "0.24236391624903067\n",
      "0.24305836873111958\n",
      "0.2437528212132085\n",
      "0.2444472736952974\n",
      "0.2451417261773863\n",
      "0.2458361786594752\n",
      "0.24653063114156415\n",
      "0.24722508362365306\n",
      "0.24791953610574197\n"
     ]
    },
    {
     "name": "stdout",
     "output_type": "stream",
     "text": [
      "0.24861398858783088\n",
      "0.24930844106991978\n",
      "0.2500028935520087\n",
      "0.2506973460340976\n",
      "0.25139179851618654\n",
      "0.2520862509982754\n",
      "0.25278070348036435\n",
      "0.2534751559624533\n",
      "0.25416960844454217\n",
      "0.2548640609266311\n",
      "0.25555851340872\n"
     ]
    },
    {
     "name": "stdout",
     "output_type": "stream",
     "text": [
      "0.2562529658908089\n",
      "0.2569474183728978\n",
      "0.25764187085498674\n",
      "0.2583363233370757\n",
      "0.25903077581916456\n",
      "0.2597252283012535\n",
      "0.2604196807833424\n",
      "0.2611141332654313\n",
      "0.26180858574752025\n",
      "0.26250303822960913\n",
      "0.26319749071169807\n"
     ]
    },
    {
     "name": "stdout",
     "output_type": "stream",
     "text": [
      "0.26389194319378695\n",
      "0.2645863956758759\n",
      "0.26528084815796477\n",
      "0.2659753006400537\n",
      "0.26666975312214264\n",
      "0.2673642056042315\n",
      "0.26805865808632046\n",
      "0.26875311056840934\n",
      "0.2694475630504983\n",
      "0.2701420155325872\n"
     ]
    },
    {
     "name": "stdout",
     "output_type": "stream",
     "text": [
      "0.2708364680146761\n",
      "0.271530920496765\n",
      "0.2722253729788539\n",
      "0.27291982546094284\n",
      "0.2736142779430317\n",
      "0.27430873042512066\n",
      "0.2750031829072096\n",
      "0.2756976353892985\n",
      "0.2763920878713874\n"
     ]
    },
    {
     "name": "stdout",
     "output_type": "stream",
     "text": [
      "0.2770865403534763\n",
      "0.27778099283556523\n",
      "0.2784754453176541\n",
      "0.27916989779974305\n",
      "0.279864350281832\n",
      "0.28055880276392087\n",
      "0.2812532552460098\n",
      "0.2819477077280987\n",
      "0.2826421602101876\n",
      "0.28333661269227656\n"
     ]
    },
    {
     "name": "stdout",
     "output_type": "stream",
     "text": [
      "0.28403106517436544\n",
      "0.2847255176564544\n",
      "0.28541997013854326\n",
      "0.2861144226206322\n",
      "0.2868088751027211\n",
      "0.28750332758481\n",
      "0.28819778006689895\n",
      "0.2888922325489878\n",
      "0.28958668503107676\n"
     ]
    },
    {
     "name": "stdout",
     "output_type": "stream",
     "text": [
      "0.29028113751316564\n",
      "0.2909755899952546\n",
      "0.29167004247734346\n",
      "0.2923644949594324\n",
      "0.29305894744152133\n",
      "0.2937533999236102\n",
      "0.29444785240569915\n",
      "0.29514230488778803\n",
      "0.29583675736987697\n",
      "0.2965312098519659\n",
      "0.2972256623340548\n"
     ]
    },
    {
     "name": "stdout",
     "output_type": "stream",
     "text": [
      "0.2979201148161437\n",
      "0.2986145672982326\n",
      "0.29930901978032154\n",
      "0.3000034722624104\n",
      "0.30069792474449936\n",
      "0.3013923772265883\n",
      "0.3020868297086772\n",
      "0.3027812821907661\n",
      "0.303475734672855\n",
      "0.3041701871549439\n",
      "0.30486463963703286\n",
      "0.30555909211912174\n"
     ]
    },
    {
     "name": "stdout",
     "output_type": "stream",
     "text": [
      "0.3062535446012107\n",
      "0.30694799708329956\n",
      "0.3076424495653885\n",
      "0.3083369020474774\n",
      "0.3090313545295663\n",
      "0.30972580701165525\n",
      "0.31042025949374413\n",
      "0.31111471197583307\n",
      "0.31180916445792195\n",
      "0.3125036169400109\n"
     ]
    },
    {
     "name": "stdout",
     "output_type": "stream",
     "text": [
      "0.31319806942209977\n",
      "0.3138925219041887\n"
     ]
    },
    {
     "name": "stdout",
     "output_type": "stream",
     "text": [
      "0.31458697438627764\n",
      "0.3152814268683665\n",
      "0.31597587935045546\n",
      "0.31667033183254434\n",
      "0.3173647843146333\n",
      "0.3180592367967222\n",
      "0.3187536892788111\n",
      "0.31944814176090003\n",
      "0.3201425942429889\n",
      "0.32083704672507785\n"
     ]
    },
    {
     "name": "stdout",
     "output_type": "stream",
     "text": [
      "0.3215314992071667\n",
      "0.32222595168925566\n",
      "0.3229204041713446\n",
      "0.3236148566534335\n",
      "0.3243093091355224\n",
      "0.3250037616176113\n",
      "0.32569821409970023\n",
      "0.3263926665817891\n",
      "0.32708711906387805\n",
      "0.327781571545967\n",
      "0.32847602402805587\n"
     ]
    },
    {
     "name": "stdout",
     "output_type": "stream",
     "text": [
      "0.3291704765101448\n",
      "0.3298649289922337\n",
      "0.3305593814743226\n",
      "0.33125383395641156\n",
      "0.33194828643850044\n",
      "0.3326427389205894\n",
      "0.33333719140267826\n",
      "0.3340316438847672\n",
      "0.3347260963668561\n",
      "0.335420548848945\n"
     ]
    },
    {
     "name": "stdout",
     "output_type": "stream",
     "text": [
      "0.33611500133103395\n",
      "0.3368094538131228\n",
      "0.33750390629521176\n",
      "0.33819835877730064\n",
      "0.3388928112593896\n",
      "0.33958726374147846\n",
      "0.3402817162235674\n",
      "0.34097616870565634\n",
      "0.3416706211877452\n",
      "0.34236507366983415\n"
     ]
    },
    {
     "name": "stdout",
     "output_type": "stream",
     "text": [
      "0.34305952615192303\n",
      "0.34375397863401197\n",
      "0.3444484311161009\n",
      "0.3451428835981898\n",
      "0.3458373360802787\n",
      "0.3465317885623676\n",
      "0.34722624104445654\n",
      "0.3479206935265454\n",
      "0.34861514600863436\n",
      "0.3493095984907233\n",
      "0.3500040509728122\n",
      "0.3506985034549011\n"
     ]
    },
    {
     "name": "stdout",
     "output_type": "stream",
     "text": [
      "0.35139295593699\n",
      "0.35208740841907893\n",
      "0.35278186090116787\n",
      "0.35347631338325675\n",
      "0.3541707658653457\n",
      "0.35486521834743456\n",
      "0.3555596708295235\n"
     ]
    },
    {
     "name": "stdout",
     "output_type": "stream",
     "text": [
      "0.3562541233116124\n",
      "0.3569485757937013\n",
      "0.35764302827579025\n",
      "0.35833748075787913\n",
      "0.35903193323996807\n",
      "0.35972638572205695\n",
      "0.3604208382041459\n",
      "0.36111529068623477\n",
      "0.3618097431683237\n",
      "0.36250419565041264\n"
     ]
    },
    {
     "name": "stdout",
     "output_type": "stream",
     "text": [
      "0.3631986481325015\n",
      "0.36389310061459046\n",
      "0.36458755309667934\n",
      "0.3652820055787683\n",
      "0.3659764580608572\n",
      "0.3666709105429461\n",
      "0.36736536302503503\n",
      "0.3680598155071239\n",
      "0.36875426798921285\n",
      "0.36944872047130173\n",
      "0.37014317295339066\n"
     ]
    },
    {
     "name": "stdout",
     "output_type": "stream",
     "text": [
      "0.3708376254354796\n",
      "0.3715320779175685\n",
      "0.3722265303996574\n",
      "0.3729209828817463\n",
      "0.37361543536383524\n",
      "0.3743098878459241\n",
      "0.37500434032801305\n",
      "0.375698792810102\n",
      "0.37639324529219087\n",
      "0.3770876977742798\n"
     ]
    },
    {
     "name": "stdout",
     "output_type": "stream",
     "text": [
      "0.3777821502563687\n",
      "0.3784766027384576\n",
      "0.37917105522054656\n",
      "0.37986550770263544\n",
      "0.3805599601847244\n",
      "0.38125441266681326\n",
      "0.3819488651489022\n",
      "0.3826433176309911\n",
      "0.38333777011308\n",
      "0.38403222259516895\n",
      "0.38472667507725783\n"
     ]
    },
    {
     "name": "stdout",
     "output_type": "stream",
     "text": [
      "0.38542112755934677\n",
      "0.38611558004143565\n",
      "0.3868100325235246\n",
      "0.38750448500561346\n",
      "0.3881989374877024\n",
      "0.38889338996979134\n",
      "0.3895878424518802\n",
      "0.39028229493396915\n",
      "0.39097674741605803\n",
      "0.39167119989814697\n",
      "0.3923656523802359\n",
      "0.3930601048623248\n"
     ]
    },
    {
     "name": "stdout",
     "output_type": "stream",
     "text": [
      "0.3937545573444137\n",
      "0.3944490098265026\n",
      "0.39514346230859154\n",
      "0.3958379147906804\n",
      "0.39653236727276936\n",
      "0.3972268197548583\n",
      "0.3979212722369472\n",
      "0.3986157247190361\n",
      "0.399310177201125\n",
      "0.40000462968321393\n",
      "0.40069908216530287\n",
      "0.40139353464739175\n"
     ]
    },
    {
     "name": "stdout",
     "output_type": "stream",
     "text": [
      "0.4020879871294807\n",
      "0.40278243961156956\n",
      "0.4034768920936585\n",
      "0.4041713445757474\n",
      "0.4048657970578363\n",
      "0.40556024953992525\n",
      "0.40625470202201414\n",
      "0.40694915450410307\n",
      "0.40764360698619195\n",
      "0.4083380594682809\n",
      "0.40903251195036977\n"
     ]
    },
    {
     "name": "stdout",
     "output_type": "stream",
     "text": [
      "0.4097269644324587\n",
      "0.41042141691454764\n",
      "0.4111158693966365\n",
      "0.41181032187872546\n",
      "0.41250477436081434\n",
      "0.4131992268429033\n",
      "0.4138936793249922\n",
      "0.4145881318070811\n",
      "0.41528258428917003\n",
      "0.4159770367712589\n"
     ]
    },
    {
     "name": "stdout",
     "output_type": "stream",
     "text": [
      "0.41667148925334785\n",
      "0.41736594173543673\n",
      "0.41806039421752567\n",
      "0.4187548466996146\n",
      "0.4194492991817035\n",
      "0.4201437516637924\n",
      "0.4208382041458813\n",
      "0.42153265662797024\n",
      "0.4222271091100591\n",
      "0.42292156159214805\n",
      "0.423616014074237\n"
     ]
    },
    {
     "name": "stdout",
     "output_type": "stream",
     "text": [
      "0.42431046655632587\n",
      "0.4250049190384148\n",
      "0.4256993715205037\n",
      "0.4263938240025926\n",
      "0.42708827648468156\n",
      "0.42778272896677044\n",
      "0.4284771814488594\n",
      "0.42917163393094826\n"
     ]
    },
    {
     "name": "stdout",
     "output_type": "stream",
     "text": [
      "0.4298660864130372\n",
      "0.4305605388951261\n",
      "0.431254991377215\n",
      "0.43194944385930395\n",
      "0.43264389634139283\n",
      "0.43333834882348177\n"
     ]
    },
    {
     "name": "stdout",
     "output_type": "stream",
     "text": [
      "0.43403280130557065\n",
      "0.4347272537876596\n",
      "0.43542170626974847\n",
      "0.4361161587518374\n",
      "0.43681061123392634\n",
      "0.4375050637160152\n",
      "0.43819951619810416\n",
      "0.43889396868019304\n",
      "0.439588421162282\n",
      "0.4402828736443709\n"
     ]
    },
    {
     "name": "stdout",
     "output_type": "stream",
     "text": [
      "0.4409773261264598\n",
      "0.4416717786085487\n",
      "0.4423662310906376\n",
      "0.44306068357272654\n",
      "0.4437551360548154\n",
      "0.44444958853690436\n",
      "0.4451440410189933\n",
      "0.4458384935010822\n",
      "0.4465329459831711\n",
      "0.44722739846526\n",
      "0.44792185094734893\n"
     ]
    },
    {
     "name": "stdout",
     "output_type": "stream",
     "text": [
      "0.44861630342943787\n",
      "0.44931075591152675\n",
      "0.4500052083936157\n",
      "0.45069966087570457\n",
      "0.4513941133577935\n",
      "0.4520885658398824\n",
      "0.4527830183219713\n",
      "0.45347747080406026\n",
      "0.45417192328614914\n",
      "0.4548663757682381\n",
      "0.45556082825032695\n",
      "0.4562552807324159\n"
     ]
    },
    {
     "name": "stdout",
     "output_type": "stream",
     "text": [
      "0.45694973321450477\n",
      "0.4576441856965937\n",
      "0.45833863817868264\n",
      "0.4590330906607715\n",
      "0.45972754314286046\n",
      "0.46042199562494934\n",
      "0.4611164481070383\n",
      "0.4618109005891272\n",
      "0.4625053530712161\n",
      "0.46319980555330503\n",
      "0.4638942580353939\n"
     ]
    },
    {
     "name": "stdout",
     "output_type": "stream",
     "text": [
      "0.46458871051748285\n",
      "0.46528316299957173\n",
      "0.46597761548166067\n",
      "0.4666720679637496\n",
      "0.4673665204458385\n",
      "0.4680609729279274\n",
      "0.4687554254100163\n",
      "0.46944987789210524\n",
      "0.4701443303741941\n",
      "0.47083878285628306\n"
     ]
    },
    {
     "name": "stdout",
     "output_type": "stream",
     "text": [
      "0.471533235338372\n",
      "0.4722276878204609\n",
      "0.4729221403025498\n",
      "0.4736165927846387\n",
      "0.4743110452667276\n",
      "0.47500549774881656\n",
      "0.47569995023090544\n"
     ]
    },
    {
     "name": "stdout",
     "output_type": "stream",
     "text": [
      "0.4763944027129944\n",
      "0.47708885519508326\n",
      "0.4777833076771722\n",
      "0.4784777601592611\n",
      "0.47917221264135\n",
      "0.47986666512343895\n",
      "0.48056111760552783\n"
     ]
    },
    {
     "name": "stdout",
     "output_type": "stream",
     "text": [
      "0.48125557008761677\n",
      "0.48195002256970565\n",
      "0.4826444750517946\n",
      "0.48333892753388347\n",
      "0.4840333800159724\n",
      "0.48472783249806134\n",
      "0.4854222849801502\n",
      "0.48611673746223916\n",
      "0.48681118994432804\n",
      "0.487505642426417\n"
     ]
    },
    {
     "name": "stdout",
     "output_type": "stream",
     "text": [
      "0.4882000949085059\n",
      "0.4888945473905948\n",
      "0.48958899987268373\n",
      "0.4902834523547726\n",
      "0.49097790483686155\n",
      "0.4916723573189504\n",
      "0.49236680980103936\n",
      "0.4930612622831283\n"
     ]
    },
    {
     "name": "stdout",
     "output_type": "stream",
     "text": [
      "0.4937557147652172\n",
      "0.4944501672473061\n",
      "0.495144619729395\n",
      "0.49583907221148393\n",
      "0.49653352469357287\n",
      "0.49722797717566175\n",
      "0.4979224296577507\n",
      "0.49861688213983957\n",
      "0.4993113346219285\n",
      "0.5000057871040174\n",
      "0.5007002395861063\n"
     ]
    },
    {
     "name": "stdout",
     "output_type": "stream",
     "text": [
      "0.5013946920681952\n",
      "0.5020891445502842\n",
      "0.5027835970323731\n",
      "0.503478049514462\n",
      "0.5041725019965508\n",
      "0.5048669544786398\n",
      "0.5055614069607287\n",
      "0.5062558594428176\n",
      "0.5069503119249066\n"
     ]
    },
    {
     "name": "stdout",
     "output_type": "stream",
     "text": [
      "0.5076447644069955\n",
      "0.5083392168890843\n",
      "0.5090336693711732\n",
      "0.5097281218532622\n",
      "0.5104225743353511\n",
      "0.51111702681744\n",
      "0.511811479299529\n",
      "0.5125059317816179\n",
      "0.5132003842637067\n",
      "0.5138948367457956\n",
      "0.5145892892278846\n",
      "0.5152837417099735\n"
     ]
    },
    {
     "name": "stdout",
     "output_type": "stream",
     "text": [
      "0.5159781941920624\n",
      "0.5166726466741514\n",
      "0.5173670991562402\n",
      "0.5180615516383291\n",
      "0.5187560041204181\n",
      "0.519450456602507\n",
      "0.5201449090845959\n",
      "0.5208393615666848\n",
      "0.5215338140487737\n",
      "0.5222282665308626\n",
      "0.5229227190129515\n"
     ]
    },
    {
     "name": "stdout",
     "output_type": "stream",
     "text": [
      "0.5236171714950405\n",
      "0.5243116239771294\n",
      "0.5250060764592183\n",
      "0.5257005289413071\n",
      "0.5263949814233961\n",
      "0.527089433905485\n",
      "0.5277838863875739\n",
      "0.5284783388696629\n",
      "0.5291727913517518\n"
     ]
    },
    {
     "name": "stdout",
     "output_type": "stream",
     "text": [
      "0.5298672438338407\n",
      "0.5305616963159295\n",
      "0.5312561487980185\n",
      "0.5319506012801074\n",
      "0.5326450537621963\n",
      "0.5333395062442853\n",
      "0.5340339587263742\n",
      "0.534728411208463\n",
      "0.5354228636905519\n",
      "0.5361173161726409\n"
     ]
    },
    {
     "name": "stdout",
     "output_type": "stream",
     "text": [
      "0.5368117686547298\n",
      "0.5375062211368187\n",
      "0.5382006736189077\n",
      "0.5388951261009965\n",
      "0.5395895785830854\n",
      "0.5402840310651744\n",
      "0.5409784835472633\n",
      "0.5416729360293522\n",
      "0.5423673885114411\n",
      "0.54306184099353\n"
     ]
    },
    {
     "name": "stdout",
     "output_type": "stream",
     "text": [
      "0.5437562934756189\n",
      "0.5444507459577078\n",
      "0.5451451984397968\n",
      "0.5458396509218857\n",
      "0.5465341034039746\n",
      "0.5472285558860635\n",
      "0.5479230083681524\n",
      "0.5486174608502413\n",
      "0.5493119133323302\n"
     ]
    },
    {
     "name": "stdout",
     "output_type": "stream",
     "text": [
      "0.5500063658144192\n",
      "0.5507008182965081\n",
      "0.551395270778597\n",
      "0.5520897232606858\n",
      "0.5527841757427748\n",
      "0.5534786282248637\n",
      "0.5541730807069526\n",
      "0.5548675331890416\n",
      "0.5555619856711305\n",
      "0.5562564381532193\n"
     ]
    },
    {
     "name": "stdout",
     "output_type": "stream",
     "text": [
      "0.5569508906353082\n",
      "0.5576453431173972\n",
      "0.5583397955994861\n",
      "0.559034248081575\n",
      "0.559728700563664\n",
      "0.5604231530457529\n",
      "0.5611176055278417\n",
      "0.5618120580099307\n",
      "0.5625065104920196\n",
      "0.5632009629741085\n",
      "0.5638954154561974\n"
     ]
    },
    {
     "name": "stdout",
     "output_type": "stream",
     "text": [
      "0.5645898679382864\n",
      "0.5652843204203752\n",
      "0.5659787729024641\n",
      "0.5666732253845531\n",
      "0.567367677866642\n",
      "0.5680621303487309\n",
      "0.5687565828308198\n",
      "0.5694510353129087\n"
     ]
    },
    {
     "name": "stdout",
     "output_type": "stream",
     "text": [
      "0.5701454877949976\n",
      "0.5708399402770865\n",
      "0.5715343927591755\n",
      "0.5722288452412644\n",
      "0.5729232977233533\n",
      "0.5736177502054421\n",
      "0.5743122026875311\n",
      "0.57500665516962\n",
      "0.5757011076517089\n"
     ]
    },
    {
     "name": "stdout",
     "output_type": "stream",
     "text": [
      "0.5763955601337979\n",
      "0.5770900126158868\n",
      "0.5777844650979757\n",
      "0.5784789175800645\n",
      "0.5791733700621535\n",
      "0.5798678225442424\n",
      "0.5805622750263313\n",
      "0.5812567275084203\n",
      "0.5819511799905092\n",
      "0.582645632472598\n",
      "0.5833400849546869\n"
     ]
    },
    {
     "name": "stdout",
     "output_type": "stream",
     "text": [
      "0.5840345374367759\n",
      "0.5847289899188648\n",
      "0.5854234424009537\n",
      "0.5861178948830427\n",
      "0.5868123473651315\n",
      "0.5875067998472204\n",
      "0.5882012523293094\n",
      "0.5888957048113983\n",
      "0.5895901572934872\n",
      "0.5902846097755761\n"
     ]
    },
    {
     "name": "stdout",
     "output_type": "stream",
     "text": [
      "0.590979062257665\n",
      "0.5916735147397539\n",
      "0.5923679672218428\n",
      "0.5930624197039318\n",
      "0.5937568721860207\n",
      "0.5944513246681096\n",
      "0.5951457771501985\n",
      "0.5958402296322874\n",
      "0.5965346821143763\n",
      "0.5972291345964652\n"
     ]
    },
    {
     "name": "stdout",
     "output_type": "stream",
     "text": [
      "0.5979235870785542\n",
      "0.5986180395606431\n",
      "0.599312492042732\n",
      "0.6000069445248208\n",
      "0.6007013970069098\n",
      "0.6013958494889987\n",
      "0.6020903019710876\n",
      "0.6027847544531766\n",
      "0.6034792069352655\n"
     ]
    },
    {
     "name": "stdout",
     "output_type": "stream",
     "text": [
      "0.6041736594173543\n",
      "0.6048681118994432\n",
      "0.6055625643815322\n",
      "0.6062570168636211\n",
      "0.60695146934571\n",
      "0.607645921827799\n",
      "0.6083403743098879\n",
      "0.6090348267919767\n",
      "0.6097292792740657\n",
      "0.6104237317561546\n",
      "0.6111181842382435\n"
     ]
    },
    {
     "name": "stdout",
     "output_type": "stream",
     "text": [
      "0.6118126367203324\n",
      "0.6125070892024214\n",
      "0.6132015416845102\n",
      "0.6138959941665991\n",
      "0.6145904466486881\n",
      "0.615284899130777\n",
      "0.6159793516128659\n",
      "0.6166738040949548\n",
      "0.6173682565770438\n",
      "0.6180627090591326\n",
      "0.6187571615412215\n",
      "0.6194516140233105\n"
     ]
    },
    {
     "name": "stdout",
     "output_type": "stream",
     "text": [
      "0.6201460665053994\n",
      "0.6208405189874883\n",
      "0.6215349714695771\n",
      "0.6222294239516661\n",
      "0.622923876433755\n",
      "0.6236183289158439\n",
      "0.6243127813979329\n",
      "0.6250072338800218\n",
      "0.6257016863621107\n",
      "0.6263961388441995\n",
      "0.6270905913262885\n"
     ]
    },
    {
     "name": "stdout",
     "output_type": "stream",
     "text": [
      "0.6277850438083774\n",
      "0.6284794962904663\n",
      "0.6291739487725553\n",
      "0.6298684012546442\n",
      "0.630562853736733\n",
      "0.6312573062188219\n",
      "0.6319517587009109\n",
      "0.6326462111829998\n",
      "0.6333406636650887\n",
      "0.6340351161471777\n"
     ]
    },
    {
     "name": "stdout",
     "output_type": "stream",
     "text": [
      "0.6347295686292665\n",
      "0.6354240211113554\n",
      "0.6361184735934444\n",
      "0.6368129260755333\n",
      "0.6375073785576222\n",
      "0.6382018310397111\n",
      "0.6388962835218001\n",
      "0.6395907360038889\n",
      "0.6402851884859778\n"
     ]
    },
    {
     "name": "stdout",
     "output_type": "stream",
     "text": [
      "0.6409796409680668\n",
      "0.6416740934501557\n",
      "0.6423685459322446\n",
      "0.6430629984143335\n",
      "0.6437574508964224\n",
      "0.6444519033785113\n",
      "0.6451463558606002\n",
      "0.6458408083426892\n"
     ]
    },
    {
     "name": "stdout",
     "output_type": "stream",
     "text": [
      "0.6465352608247781\n",
      "0.647229713306867\n",
      "0.6479241657889558\n",
      "0.6486186182710448\n",
      "0.6493130707531337\n",
      "0.6500075232352226\n",
      "0.6507019757173116\n",
      "0.6513964281994005\n",
      "0.6520908806814893\n",
      "0.6527853331635782\n"
     ]
    },
    {
     "name": "stdout",
     "output_type": "stream",
     "text": [
      "0.6534797856456672\n",
      "0.6541742381277561\n",
      "0.654868690609845\n",
      "0.655563143091934\n",
      "0.6562575955740229\n",
      "0.6569520480561117\n",
      "0.6576465005382007\n",
      "0.6583409530202896\n",
      "0.6590354055023785\n"
     ]
    },
    {
     "name": "stdout",
     "output_type": "stream",
     "text": [
      "0.6597298579844674\n",
      "0.6604243104665564\n",
      "0.6611187629486452\n",
      "0.6618132154307341\n",
      "0.6625076679128231\n",
      "0.663202120394912\n",
      "0.6638965728770009\n"
     ]
    },
    {
     "name": "stdout",
     "output_type": "stream",
     "text": [
      "0.6645910253590898\n",
      "0.6652854778411788\n",
      "0.6659799303232676\n",
      "0.6666743828053565\n",
      "0.6673688352874455\n",
      "0.6680632877695344\n",
      "0.6687577402516233\n"
     ]
    },
    {
     "name": "stdout",
     "output_type": "stream",
     "text": [
      "0.6694521927337121\n",
      "0.6701466452158011\n",
      "0.67084109769789\n",
      "0.6715355501799789\n",
      "0.6722300026620679\n",
      "0.6729244551441568\n",
      "0.6736189076262457\n",
      "0.6743133601083345\n"
     ]
    },
    {
     "name": "stdout",
     "output_type": "stream",
     "text": [
      "0.6750078125904235\n",
      "0.6757022650725124\n",
      "0.6763967175546013\n",
      "0.6770911700366903\n",
      "0.6777856225187792\n",
      "0.678480075000868\n",
      "0.6791745274829569\n",
      "0.6798689799650459\n",
      "0.6805634324471348\n"
     ]
    },
    {
     "name": "stdout",
     "output_type": "stream",
     "text": [
      "0.6812578849292237\n",
      "0.6819523374113127\n",
      "0.6826467898934016\n",
      "0.6833412423754904\n",
      "0.6840356948575794\n",
      "0.6847301473396683\n",
      "0.6854245998217572\n",
      "0.6861190523038461\n",
      "0.6868135047859351\n",
      "0.6875079572680239\n",
      "0.6882024097501128\n"
     ]
    },
    {
     "name": "stdout",
     "output_type": "stream",
     "text": [
      "0.6888968622322018\n",
      "0.6895913147142907\n",
      "0.6902857671963796\n",
      "0.6909802196784685\n",
      "0.6916746721605574\n",
      "0.6923691246426463\n",
      "0.6930635771247352\n",
      "0.6937580296068242\n"
     ]
    },
    {
     "name": "stdout",
     "output_type": "stream",
     "text": [
      "0.6944524820889131\n",
      "0.695146934571002\n",
      "0.6958413870530908\n",
      "0.6965358395351798\n",
      "0.6972302920172687\n",
      "0.6979247444993576\n",
      "0.6986191969814466\n",
      "0.6993136494635355\n",
      "0.7000081019456244\n",
      "0.7007025544277132\n",
      "0.7013970069098022\n"
     ]
    },
    {
     "name": "stdout",
     "output_type": "stream",
     "text": [
      "0.7020914593918911\n",
      "0.70278591187398\n",
      "0.703480364356069\n",
      "0.7041748168381579\n",
      "0.7048692693202467\n",
      "0.7055637218023357\n",
      "0.7062581742844246\n",
      "0.7069526267665135\n",
      "0.7076470792486024\n",
      "0.7083415317306914\n",
      "0.7090359842127802\n"
     ]
    },
    {
     "name": "stdout",
     "output_type": "stream",
     "text": [
      "0.7097304366948691\n",
      "0.7104248891769581\n",
      "0.711119341659047\n",
      "0.7118137941411359\n",
      "0.7125082466232248\n",
      "0.7132026991053138\n",
      "0.7138971515874026\n",
      "0.7145916040694915\n",
      "0.7152860565515805\n"
     ]
    },
    {
     "name": "stdout",
     "output_type": "stream",
     "text": [
      "0.7159805090336694\n",
      "0.7166749615157583\n",
      "0.7173694139978471\n",
      "0.7180638664799361\n",
      "0.718758318962025\n",
      "0.7194527714441139\n",
      "0.7201472239262029\n",
      "0.7208416764082918\n",
      "0.7215361288903807\n"
     ]
    },
    {
     "name": "stdout",
     "output_type": "stream",
     "text": [
      "0.7222305813724695\n",
      "0.7229250338545585\n",
      "0.7236194863366474\n",
      "0.7243139388187363\n",
      "0.7250083913008253\n",
      "0.7257028437829142\n",
      "0.726397296265003\n",
      "0.7270917487470919\n",
      "0.7277862012291809\n",
      "0.7284806537112698\n"
     ]
    },
    {
     "name": "stdout",
     "output_type": "stream",
     "text": [
      "0.7291751061933587\n",
      "0.7298695586754477\n",
      "0.7305640111575366\n",
      "0.7312584636396254\n",
      "0.7319529161217144\n",
      "0.7326473686038033\n",
      "0.7333418210858922\n",
      "0.7340362735679811\n",
      "0.7347307260500701\n",
      "0.7354251785321589\n",
      "0.7361196310142478\n"
     ]
    },
    {
     "name": "stdout",
     "output_type": "stream",
     "text": [
      "0.7368140834963368\n",
      "0.7375085359784257\n",
      "0.7382029884605146\n",
      "0.7388974409426035\n",
      "0.7395918934246924\n",
      "0.7402863459067813\n",
      "0.7409807983888702\n"
     ]
    },
    {
     "name": "stdout",
     "output_type": "stream",
     "text": [
      "0.7416752508709592\n",
      "0.7423697033530481\n",
      "0.743064155835137\n",
      "0.7437586083172258\n",
      "0.7444530607993148\n",
      "0.7451475132814037\n",
      "0.7458419657634926\n",
      "0.7465364182455816\n",
      "0.7472308707276705\n",
      "0.7479253232097594\n",
      "0.7486197756918482\n",
      "0.7493142281739372\n"
     ]
    },
    {
     "name": "stdout",
     "output_type": "stream",
     "text": [
      "0.7500086806560261\n",
      "0.750703133138115\n",
      "0.751397585620204\n",
      "0.7520920381022929\n",
      "0.7527864905843817\n",
      "0.7534809430664707\n",
      "0.7541753955485596\n",
      "0.7548698480306485\n",
      "0.7555643005127374\n",
      "0.7562587529948264\n"
     ]
    },
    {
     "name": "stdout",
     "output_type": "stream",
     "text": [
      "0.7569532054769152\n",
      "0.7576476579590041\n",
      "0.7583421104410931\n",
      "0.759036562923182\n",
      "0.7597310154052709\n",
      "0.7604254678873598\n",
      "0.7611199203694488\n",
      "0.7618143728515376\n",
      "0.7625088253336265\n",
      "0.7632032778157155\n",
      "0.7638977302978044\n",
      "0.7645921827798933\n"
     ]
    },
    {
     "name": "stdout",
     "output_type": "stream",
     "text": [
      "0.7652866352619822\n",
      "0.7659810877440711\n",
      "0.76667554022616\n",
      "0.7673699927082489\n",
      "0.7680644451903379\n",
      "0.7687588976724268\n",
      "0.7694533501545157\n",
      "0.7701478026366045\n",
      "0.7708422551186935\n",
      "0.7715367076007824\n",
      "0.7722311600828713\n",
      "0.7729256125649603\n"
     ]
    },
    {
     "name": "stdout",
     "output_type": "stream",
     "text": [
      "0.7736200650470492\n",
      "0.774314517529138\n",
      "0.7750089700112269\n",
      "0.7757034224933159\n",
      "0.7763978749754048\n",
      "0.7770923274574937\n",
      "0.7777867799395827\n",
      "0.7784812324216716\n",
      "0.7791756849037604\n"
     ]
    },
    {
     "name": "stdout",
     "output_type": "stream",
     "text": [
      "0.7798701373858494\n",
      "0.7805645898679383\n",
      "0.7812590423500272\n",
      "0.7819534948321161\n",
      "0.7826479473142051\n",
      "0.7833423997962939\n",
      "0.7840368522783828\n",
      "0.7847313047604718\n",
      "0.7854257572425607\n"
     ]
    },
    {
     "name": "stdout",
     "output_type": "stream",
     "text": [
      "0.7861202097246496\n",
      "0.7868146622067385\n",
      "0.7875091146888274\n",
      "0.7882035671709163\n",
      "0.7888980196530052\n",
      "0.7895924721350942\n",
      "0.7902869246171831\n",
      "0.790981377099272\n",
      "0.7916758295813608\n",
      "0.7923702820634498\n"
     ]
    },
    {
     "name": "stdout",
     "output_type": "stream",
     "text": [
      "0.7930647345455387\n",
      "0.7937591870276276\n",
      "0.7944536395097166\n",
      "0.7951480919918055\n",
      "0.7958425444738944\n",
      "0.7965369969559832\n",
      "0.7972314494380722\n",
      "0.7979259019201611\n",
      "0.79862035440225\n",
      "0.799314806884339\n",
      "0.8000092593664279\n"
     ]
    },
    {
     "name": "stdout",
     "output_type": "stream",
     "text": [
      "0.8007037118485167\n",
      "0.8013981643306057\n",
      "0.8020926168126946\n",
      "0.8027870692947835\n",
      "0.8034815217768724\n",
      "0.8041759742589614\n",
      "0.8048704267410502\n",
      "0.8055648792231391\n",
      "0.8062593317052281\n",
      "0.806953784187317\n",
      "0.8076482366694059\n"
     ]
    },
    {
     "name": "stdout",
     "output_type": "stream",
     "text": [
      "0.8083426891514948\n",
      "0.8090371416335838\n",
      "0.8097315941156726\n",
      "0.8104260465977615\n",
      "0.8111204990798505\n",
      "0.8118149515619394\n",
      "0.8125094040440283\n",
      "0.8132038565261172\n",
      "0.8138983090082061\n",
      "0.814592761490295\n",
      "0.8152872139723839\n"
     ]
    },
    {
     "name": "stdout",
     "output_type": "stream",
     "text": [
      "0.8159816664544729\n",
      "0.8166761189365618\n",
      "0.8173705714186507\n",
      "0.8180650239007395\n",
      "0.8187594763828285\n",
      "0.8194539288649174\n",
      "0.8201483813470063\n",
      "0.8208428338290953\n",
      "0.8215372863111842\n",
      "0.822231738793273\n",
      "0.8229261912753619\n"
     ]
    },
    {
     "name": "stdout",
     "output_type": "stream",
     "text": [
      "0.8236206437574509\n",
      "0.8243150962395398\n",
      "0.8250095487216287\n",
      "0.8257040012037177\n",
      "0.8263984536858066\n",
      "0.8270929061678954\n",
      "0.8277873586499844\n",
      "0.8284818111320733\n",
      "0.8291762636141622\n",
      "0.8298707160962511\n",
      "0.8305651685783401\n"
     ]
    },
    {
     "name": "stdout",
     "output_type": "stream",
     "text": [
      "0.8312596210604289\n",
      "0.8319540735425178\n",
      "0.8326485260246068\n",
      "0.8333429785066957\n",
      "0.8340374309887846\n",
      "0.8347318834708735\n",
      "0.8354263359529625\n",
      "0.8361207884350513\n",
      "0.8368152409171402\n",
      "0.8375096933992292\n",
      "0.8382041458813181\n",
      "0.838898598363407\n"
     ]
    },
    {
     "name": "stdout",
     "output_type": "stream",
     "text": [
      "0.8395930508454958\n",
      "0.8402875033275848\n",
      "0.8409819558096737\n",
      "0.8416764082917626\n",
      "0.8423708607738516\n",
      "0.8430653132559405\n",
      "0.8437597657380294\n",
      "0.8444542182201182\n",
      "0.8451486707022072\n"
     ]
    },
    {
     "name": "stdout",
     "output_type": "stream",
     "text": [
      "0.8458431231842961\n",
      "0.846537575666385\n",
      "0.847232028148474\n",
      "0.8479264806305629\n",
      "0.8486209331126517\n",
      "0.8493153855947407\n",
      "0.8500098380768296\n",
      "0.8507042905589185\n",
      "0.8513987430410074\n",
      "0.8520931955230964\n",
      "0.8527876480051853\n"
     ]
    },
    {
     "name": "stdout",
     "output_type": "stream",
     "text": [
      "0.8534821004872741\n",
      "0.8541765529693631\n",
      "0.854871005451452\n",
      "0.8555654579335409\n",
      "0.8562599104156298\n",
      "0.8569543628977188\n",
      "0.8576488153798076\n",
      "0.8583432678618965\n",
      "0.8590377203439855\n"
     ]
    },
    {
     "name": "stdout",
     "output_type": "stream",
     "text": [
      "0.8597321728260744\n",
      "0.8604266253081633\n",
      "0.8611210777902522\n",
      "0.8618155302723411\n",
      "0.86250998275443\n",
      "0.8632044352365189\n",
      "0.8638988877186079\n",
      "0.8645933402006968\n",
      "0.8652877926827857\n",
      "0.8659822451648745\n",
      "0.8666766976469635\n"
     ]
    },
    {
     "name": "stdout",
     "output_type": "stream",
     "text": [
      "0.8673711501290524\n",
      "0.8680656026111413\n",
      "0.8687600550932303\n",
      "0.8694545075753192\n",
      "0.870148960057408\n",
      "0.8708434125394969\n",
      "0.8715378650215859\n",
      "0.8722323175036748\n",
      "0.8729267699857637\n",
      "0.8736212224678527\n",
      "0.8743156749499416\n"
     ]
    },
    {
     "name": "stdout",
     "output_type": "stream",
     "text": [
      "0.8750101274320304\n",
      "0.8757045799141194\n",
      "0.8763990323962083\n",
      "0.8770934848782972\n",
      "0.8777879373603861\n",
      "0.8784823898424751\n",
      "0.879176842324564\n",
      "0.8798712948066528\n",
      "0.8805657472887418\n",
      "0.8812601997708307\n",
      "0.8819546522529196\n"
     ]
    },
    {
     "name": "stdout",
     "output_type": "stream",
     "text": [
      "0.8826491047350085\n",
      "0.8833435572170975\n",
      "0.8840380096991863\n",
      "0.8847324621812752\n",
      "0.8854269146633642\n",
      "0.8861213671454531\n",
      "0.886815819627542\n",
      "0.8875102721096308\n",
      "0.8882047245917198\n",
      "0.8888991770738087\n",
      "0.8895936295558976\n"
     ]
    },
    {
     "name": "stdout",
     "output_type": "stream",
     "text": [
      "0.8902880820379866\n",
      "0.8909825345200755\n",
      "0.8916769870021644\n",
      "0.8923714394842532\n",
      "0.8930658919663422\n",
      "0.8937603444484311\n",
      "0.89445479693052\n",
      "0.895149249412609\n"
     ]
    },
    {
     "name": "stdout",
     "output_type": "stream",
     "text": [
      "0.8958437018946979\n",
      "0.8965381543767867\n",
      "0.8972326068588757\n",
      "0.8979270593409646\n",
      "0.8986215118230535\n",
      "0.8993159643051424\n",
      "0.9000104167872314\n",
      "0.9007048692693203\n",
      "0.9013993217514091\n",
      "0.9020937742334981\n",
      "0.902788226715587\n"
     ]
    },
    {
     "name": "stdout",
     "output_type": "stream",
     "text": [
      "0.9034826791976759\n",
      "0.9041771316797648\n",
      "0.9048715841618538\n",
      "0.9055660366439426\n",
      "0.9062604891260315\n",
      "0.9069549416081205\n",
      "0.9076493940902094\n",
      "0.9083438465722983\n",
      "0.9090382990543872\n",
      "0.9097327515364761\n",
      "0.910427204018565\n"
     ]
    },
    {
     "name": "stdout",
     "output_type": "stream",
     "text": [
      "0.9111216565006539\n",
      "0.9118161089827429\n",
      "0.9125105614648318\n",
      "0.9132050139469207\n",
      "0.9138994664290095\n",
      "0.9145939189110985\n",
      "0.9152883713931874\n",
      "0.9159828238752763\n"
     ]
    },
    {
     "name": "stdout",
     "output_type": "stream",
     "text": [
      "0.9166772763573653\n",
      "0.9173717288394542\n",
      "0.918066181321543\n",
      "0.9187606338036319\n",
      "0.9194550862857209\n",
      "0.9201495387678098\n",
      "0.9208439912498987\n",
      "0.9215384437319877\n",
      "0.9222328962140766\n",
      "0.9229273486961654\n"
     ]
    },
    {
     "name": "stdout",
     "output_type": "stream",
     "text": [
      "0.9236218011782544\n",
      "0.9243162536603433\n",
      "0.9250107061424322\n",
      "0.9257051586245211\n",
      "0.9263996111066101\n",
      "0.927094063588699\n",
      "0.9277885160707878\n",
      "0.9284829685528768\n",
      "0.9291774210349657\n",
      "0.9298718735170546\n",
      "0.9305663259991435\n"
     ]
    },
    {
     "name": "stdout",
     "output_type": "stream",
     "text": [
      "0.9312607784812325\n",
      "0.9319552309633213\n",
      "0.9326496834454102\n",
      "0.9333441359274992\n",
      "0.9340385884095881\n",
      "0.934733040891677\n",
      "0.9354274933737659\n",
      "0.9361219458558548\n",
      "0.9368163983379437\n",
      "0.9375108508200326\n",
      "0.9382053033021216\n",
      "0.9388997557842105\n"
     ]
    },
    {
     "name": "stdout",
     "output_type": "stream",
     "text": [
      "0.9395942082662994\n",
      "0.9402886607483882\n",
      "0.9409831132304772\n",
      "0.9416775657125661\n",
      "0.942372018194655\n",
      "0.943066470676744\n",
      "0.9437609231588329\n",
      "0.9444553756409217\n",
      "0.9451498281230107\n"
     ]
    },
    {
     "name": "stdout",
     "output_type": "stream",
     "text": [
      "0.9458442806050996\n",
      "0.9465387330871885\n",
      "0.9472331855692774\n",
      "0.9479276380513664\n",
      "0.9486220905334553\n",
      "0.9493165430155441\n",
      "0.9500109954976331\n",
      "0.950705447979722\n",
      "0.9513999004618109\n",
      "0.9520943529438998\n"
     ]
    },
    {
     "name": "stdout",
     "output_type": "stream",
     "text": [
      "0.9527888054259888\n",
      "0.9534832579080776\n",
      "0.9541777103901665\n",
      "0.9548721628722555\n",
      "0.9555666153543444\n",
      "0.9562610678364333\n",
      "0.9569555203185222\n",
      "0.9576499728006111\n",
      "0.9583444252827\n"
     ]
    },
    {
     "name": "stdout",
     "output_type": "stream",
     "text": [
      "0.9590388777647889\n",
      "0.9597333302468779\n",
      "0.9604277827289668\n",
      "0.9611222352110557\n",
      "0.9618166876931445\n",
      "0.9625111401752335\n",
      "0.9632055926573224\n",
      "0.9639000451394113\n",
      "0.9645944976215003\n"
     ]
    },
    {
     "name": "stdout",
     "output_type": "stream",
     "text": [
      "0.9652889501035892\n",
      "0.965983402585678\n",
      "0.9666778550677669\n",
      "0.9673723075498559\n",
      "0.9680667600319448\n",
      "0.9687612125140337\n",
      "0.9694556649961227\n",
      "0.9701501174782116\n",
      "0.9708445699603004\n",
      "0.9715390224423894\n",
      "0.9722334749244783\n",
      "0.9729279274065672\n"
     ]
    },
    {
     "name": "stdout",
     "output_type": "stream",
     "text": [
      "0.9736223798886561\n",
      "0.9743168323707451\n",
      "0.975011284852834\n",
      "0.9757057373349228\n",
      "0.9764001898170118\n",
      "0.9770946422991007\n",
      "0.9777890947811896\n",
      "0.9784835472632785\n",
      "0.9791779997453675\n",
      "0.9798724522274563\n",
      "0.9805669047095452\n",
      "0.9812613571916342\n"
     ]
    },
    {
     "name": "stdout",
     "output_type": "stream",
     "text": [
      "0.9819558096737231\n",
      "0.982650262155812\n",
      "0.9833447146379009\n",
      "0.9840391671199898\n",
      "0.9847336196020787\n",
      "0.9854280720841676\n",
      "0.9861225245662566\n",
      "0.9868169770483455\n",
      "0.9875114295304344\n"
     ]
    },
    {
     "name": "stdout",
     "output_type": "stream",
     "text": [
      "0.9882058820125232\n",
      "0.9889003344946122\n",
      "0.9895947869767011\n",
      "0.99028923945879\n",
      "0.990983691940879\n",
      "0.9916781444229679\n",
      "0.9923725969050567\n",
      "0.9930670493871457\n",
      "0.9937615018692346\n",
      "0.9944559543513235\n"
     ]
    },
    {
     "name": "stdout",
     "output_type": "stream",
     "text": [
      "0.9951504068334124\n",
      "0.9958448593155014\n",
      "0.9965393117975903\n",
      "0.9972337642796791\n",
      "0.9979282167617681\n",
      "0.998622669243857\n",
      "\texit\n",
      "\t\t None processing, none filter sensors!\n",
      "0.0006944524820889131\n",
      "0.0013889049641778262\n",
      "0.0020833574462667394\n"
     ]
    },
    {
     "name": "stdout",
     "output_type": "stream",
     "text": [
      "0.0027778099283556523\n",
      "0.0034722624104445653\n",
      "0.004166714892533479\n",
      "0.004861167374622392\n",
      "0.005555619856711305\n",
      "0.006250072338800218\n",
      "0.006944524820889131\n",
      "0.007638977302978044\n",
      "0.008333429785066957\n",
      "0.00902788226715587\n",
      "0.009722334749244783\n"
     ]
    },
    {
     "name": "stdout",
     "output_type": "stream",
     "text": [
      "0.010416787231333696\n",
      "0.01111123971342261\n",
      "0.011805692195511521\n",
      "0.012500144677600435\n",
      "0.013194597159689347\n",
      "0.013889049641778261\n",
      "0.014583502123867175\n",
      "0.015277954605956087\n",
      "0.015972407088045\n",
      "0.016666859570133915\n",
      "0.017361312052222827\n",
      "0.01805576453431174\n"
     ]
    },
    {
     "name": "stdout",
     "output_type": "stream",
     "text": [
      "0.01875021701640065\n",
      "0.019444669498489567\n",
      "0.02013912198057848\n",
      "0.02083357446266739\n",
      "0.021528026944756307\n",
      "0.02222247942684522\n",
      "0.02291693190893413\n",
      "0.023611384391023043\n"
     ]
    },
    {
     "name": "stdout",
     "output_type": "stream",
     "text": [
      "0.02430583687311196\n",
      "0.02500028935520087\n",
      "0.025694741837289783\n",
      "0.026389194319378695\n",
      "0.02708364680146761\n",
      "0.027778099283556523\n",
      "0.028472551765645435\n",
      "0.02916700424773435\n",
      "0.029861456729823262\n",
      "0.030555909211912174\n"
     ]
    },
    {
     "name": "stdout",
     "output_type": "stream",
     "text": [
      "0.03125036169400109\n",
      "0.03194481417609\n",
      "0.032639266658178914\n",
      "0.03333371914026783\n",
      "0.03402817162235674\n",
      "0.034722624104445654\n",
      "0.03541707658653457\n",
      "0.03611152906862348\n",
      "0.036805981550712394\n",
      "0.0375004340328013\n",
      "0.03819488651489022\n",
      "0.038889338996979134\n"
     ]
    },
    {
     "name": "stdout",
     "output_type": "stream",
     "text": [
      "0.03958379147906804\n",
      "0.04027824396115696\n",
      "0.04097269644324587\n",
      "0.04166714892533478\n",
      "0.0423616014074237\n",
      "0.04305605388951261\n",
      "0.04375050637160152\n",
      "0.04444495885369044\n",
      "0.045139411335779346\n",
      "0.04583386381786826\n",
      "0.04652831629995718\n"
     ]
    },
    {
     "name": "stdout",
     "output_type": "stream",
     "text": [
      "0.047222768782046086\n",
      "0.047917221264135\n",
      "0.04861167374622392\n",
      "0.049306126228312826\n",
      "0.05000057871040174\n",
      "0.05069503119249066\n",
      "0.051389483674579566\n",
      "0.05208393615666848\n",
      "0.05277838863875739\n",
      "0.053472841120846305\n"
     ]
    },
    {
     "name": "stdout",
     "output_type": "stream",
     "text": [
      "0.05416729360293522\n",
      "0.05486174608502413\n",
      "0.055556198567113045\n",
      "0.05625065104920196\n",
      "0.05694510353129087\n",
      "0.057639556013379785\n",
      "0.0583340084954687\n",
      "0.05902846097755761\n",
      "0.059722913459646525\n",
      "0.06041736594173543\n",
      "0.06111181842382435\n"
     ]
    },
    {
     "name": "stdout",
     "output_type": "stream",
     "text": [
      "0.061806270905913265\n",
      "0.06250072338800218\n",
      "0.06319517587009109\n",
      "0.06388962835218\n",
      "0.06458408083426892\n",
      "0.06527853331635783\n",
      "0.06597298579844674\n",
      "0.06666743828053566\n",
      "0.06736189076262457\n"
     ]
    },
    {
     "name": "stdout",
     "output_type": "stream",
     "text": [
      "0.06805634324471348\n",
      "0.0687507957268024\n",
      "0.06944524820889131\n",
      "0.07013970069098022\n",
      "0.07083415317306914\n",
      "0.07152860565515805\n",
      "0.07222305813724696\n",
      "0.07291751061933587\n",
      "0.07361196310142479\n",
      "0.0743064155835137\n",
      "0.0750008680656026\n",
      "0.07569532054769153\n"
     ]
    },
    {
     "name": "stdout",
     "output_type": "stream",
     "text": [
      "0.07638977302978044\n",
      "0.07708422551186934\n",
      "0.07777867799395827\n",
      "0.07847313047604718\n",
      "0.07916758295813608\n",
      "0.07986203544022501\n",
      "0.08055648792231392\n",
      "0.08125094040440282\n",
      "0.08194539288649175\n",
      "0.08263984536858066\n",
      "0.08333429785066956\n",
      "0.08402875033275849\n"
     ]
    },
    {
     "name": "stdout",
     "output_type": "stream",
     "text": [
      "0.0847232028148474\n",
      "0.0854176552969363\n",
      "0.08611210777902523\n",
      "0.08680656026111414\n",
      "0.08750101274320304\n",
      "0.08819546522529197\n",
      "0.08888991770738087\n",
      "0.08958437018946978\n",
      "0.09027882267155869\n",
      "0.09097327515364761\n",
      "0.09166772763573652\n",
      "0.09236218011782543\n"
     ]
    },
    {
     "name": "stdout",
     "output_type": "stream",
     "text": [
      "0.09305663259991435\n",
      "0.09375108508200326\n",
      "0.09444553756409217\n",
      "0.0951399900461811\n",
      "0.09583444252827\n",
      "0.09652889501035891\n",
      "0.09722334749244783\n",
      "0.09791779997453674\n",
      "0.09861225245662565\n",
      "0.09930670493871457\n"
     ]
    },
    {
     "name": "stdout",
     "output_type": "stream",
     "text": [
      "0.10000115742080348\n",
      "0.10069560990289239\n",
      "0.10139006238498131\n",
      "0.10208451486707022\n",
      "0.10277896734915913\n",
      "0.10347341983124805\n",
      "0.10416787231333696\n",
      "0.10486232479542587\n",
      "0.10555677727751478\n",
      "0.1062512297596037\n",
      "0.10694568224169261\n"
     ]
    },
    {
     "name": "stdout",
     "output_type": "stream",
     "text": [
      "0.10764013472378152\n",
      "0.10833458720587044\n",
      "0.10902903968795935\n",
      "0.10972349217004826\n",
      "0.11041794465213718\n",
      "0.11111239713422609\n",
      "0.111806849616315\n",
      "0.11250130209840392\n",
      "0.11319575458049283\n",
      "0.11389020706258174\n",
      "0.11458465954467066\n",
      "0.11527911202675957\n"
     ]
    },
    {
     "name": "stdout",
     "output_type": "stream",
     "text": [
      "0.11597356450884848\n",
      "0.1166680169909374\n",
      "0.11736246947302631\n",
      "0.11805692195511522\n",
      "0.11875137443720414\n",
      "0.11944582691929305\n",
      "0.12014027940138196\n",
      "0.12083473188347087\n",
      "0.12152918436555979\n",
      "0.1222236368476487\n",
      "0.1229180893297376\n",
      "0.12361254181182653\n"
     ]
    },
    {
     "name": "stdout",
     "output_type": "stream",
     "text": [
      "0.12430699429391544\n",
      "0.12500144677600436\n",
      "0.12569589925809327\n",
      "0.12639035174018218\n",
      "0.12708480422227109\n",
      "0.12777925670436\n",
      "0.1284737091864489\n",
      "0.12916816166853784\n",
      "0.12986261415062675\n",
      "0.13055706663271566\n",
      "0.13125151911480457\n"
     ]
    },
    {
     "name": "stdout",
     "output_type": "stream",
     "text": [
      "0.13194597159689347\n",
      "0.13264042407898238\n",
      "0.13333487656107132\n",
      "0.13402932904316023\n",
      "0.13472378152524914\n",
      "0.13541823400733805\n",
      "0.13611268648942695\n",
      "0.13680713897151586\n",
      "0.1375015914536048\n",
      "0.1381960439356937\n",
      "0.13889049641778262\n"
     ]
    },
    {
     "name": "stdout",
     "output_type": "stream",
     "text": [
      "0.13958494889987152\n",
      "0.14027940138196043\n",
      "0.14097385386404934\n",
      "0.14166830634613828\n",
      "0.1423627588282272\n",
      "0.1430572113103161\n",
      "0.143751663792405\n",
      "0.1444461162744939\n",
      "0.14514056875658282\n",
      "0.14583502123867173\n",
      "0.14652947372076067\n"
     ]
    },
    {
     "name": "stdout",
     "output_type": "stream",
     "text": [
      "0.14722392620284958\n",
      "0.14791837868493848\n",
      "0.1486128311670274\n",
      "0.1493072836491163\n",
      "0.1500017361312052\n",
      "0.15069618861329415\n",
      "0.15139064109538306\n",
      "0.15208509357747196\n",
      "0.15277954605956087\n",
      "0.15347399854164978\n"
     ]
    },
    {
     "name": "stdout",
     "output_type": "stream",
     "text": [
      "0.1541684510237387\n",
      "0.15486290350582763\n",
      "0.15555735598791653\n",
      "0.15625180847000544\n",
      "0.15694626095209435\n"
     ]
    },
    {
     "name": "stdout",
     "output_type": "stream",
     "text": [
      "0.15764071343418326\n",
      "0.15833516591627217\n",
      "0.1590296183983611\n",
      "0.15972407088045001\n",
      "0.16041852336253892\n",
      "0.16111297584462783\n",
      "0.16180742832671674\n",
      "0.16250188080880565\n",
      "0.16319633329089456\n",
      "0.1638907857729835\n",
      "0.1645852382550724\n",
      "0.1652796907371613\n"
     ]
    },
    {
     "name": "stdout",
     "output_type": "stream",
     "text": [
      "0.16597414321925022\n",
      "0.16666859570133913\n",
      "0.16736304818342804\n",
      "0.16805750066551697\n",
      "0.16875195314760588\n",
      "0.1694464056296948\n",
      "0.1701408581117837\n",
      "0.1708353105938726\n",
      "0.17152976307596152\n",
      "0.17222421555805045\n",
      "0.17291866804013936\n"
     ]
    },
    {
     "name": "stdout",
     "output_type": "stream",
     "text": [
      "0.17361312052222827\n",
      "0.17430757300431718\n",
      "0.1750020254864061\n",
      "0.175696477968495\n",
      "0.17639093045058393\n",
      "0.17708538293267284\n",
      "0.17777983541476175\n",
      "0.17847428789685066\n",
      "0.17916874037893957\n",
      "0.17986319286102848\n",
      "0.18055764534311738\n"
     ]
    },
    {
     "name": "stdout",
     "output_type": "stream",
     "text": [
      "0.18125209782520632\n",
      "0.18194655030729523\n",
      "0.18264100278938414\n",
      "0.18333545527147305\n",
      "0.18402990775356196\n",
      "0.18472436023565086\n",
      "0.1854188127177398\n",
      "0.1861132651998287\n",
      "0.18680771768191762\n",
      "0.18750217016400653\n",
      "0.18819662264609544\n",
      "0.18889107512818434\n"
     ]
    },
    {
     "name": "stdout",
     "output_type": "stream",
     "text": [
      "0.18958552761027328\n",
      "0.1902799800923622\n",
      "0.1909744325744511\n",
      "0.19166888505654\n",
      "0.19236333753862891\n",
      "0.19305779002071782\n",
      "0.19375224250280673\n",
      "0.19444669498489567\n",
      "0.19514114746698458\n",
      "0.19583559994907349\n",
      "0.1965300524311624\n"
     ]
    },
    {
     "name": "stdout",
     "output_type": "stream",
     "text": [
      "0.1972245049132513\n",
      "0.1979189573953402\n",
      "0.19861340987742915\n",
      "0.19930786235951806\n",
      "0.20000231484160697\n",
      "0.20069676732369587\n",
      "0.20139121980578478\n",
      "0.2020856722878737\n",
      "0.20278012476996263\n",
      "0.20347457725205154\n",
      "0.20416902973414044\n"
     ]
    },
    {
     "name": "stdout",
     "output_type": "stream",
     "text": [
      "0.20486348221622935\n",
      "0.20555793469831826\n",
      "0.20625238718040717\n",
      "0.2069468396624961\n",
      "0.20764129214458502\n",
      "0.20833574462667392\n",
      "0.20903019710876283\n",
      "0.20972464959085174\n",
      "0.21041910207294065\n",
      "0.21111355455502956\n"
     ]
    },
    {
     "name": "stdout",
     "output_type": "stream",
     "text": [
      "0.2118080070371185\n",
      "0.2125024595192074\n",
      "0.2131969120012963\n",
      "0.21389136448338522\n",
      "0.21458581696547413\n",
      "0.21528026944756304\n",
      "0.21597472192965197\n",
      "0.21666917441174088\n"
     ]
    },
    {
     "name": "stdout",
     "output_type": "stream",
     "text": [
      "0.2173636268938298\n",
      "0.2180580793759187\n",
      "0.2187525318580076\n",
      "0.21944698434009652\n",
      "0.22014143682218545\n",
      "0.22083588930427436\n",
      "0.22153034178636327\n",
      "0.22222479426845218\n",
      "0.2229192467505411\n",
      "0.22361369923263\n",
      "0.22430815171471893\n",
      "0.22500260419680784\n"
     ]
    },
    {
     "name": "stdout",
     "output_type": "stream",
     "text": [
      "0.22569705667889675\n",
      "0.22639150916098566\n",
      "0.22708596164307457\n",
      "0.22778041412516348\n",
      "0.22847486660725239\n",
      "0.22916931908934132\n",
      "0.22986377157143023\n",
      "0.23055822405351914\n",
      "0.23125267653560805\n"
     ]
    },
    {
     "name": "stdout",
     "output_type": "stream",
     "text": [
      "0.23194712901769696\n",
      "0.23264158149978587\n",
      "0.2333360339818748\n",
      "0.2340304864639637\n",
      "0.23472493894605262\n",
      "0.23541939142814153\n",
      "0.23611384391023044\n",
      "0.23680829639231935\n",
      "0.23750274887440828\n",
      "0.2381972013564972\n"
     ]
    },
    {
     "name": "stdout",
     "output_type": "stream",
     "text": [
      "0.2388916538385861\n",
      "0.239586106320675\n",
      "0.24028055880276392\n",
      "0.24097501128485282\n",
      "0.24166946376694173\n",
      "0.24236391624903067\n",
      "0.24305836873111958\n",
      "0.2437528212132085\n",
      "0.2444472736952974\n",
      "0.2451417261773863\n",
      "0.2458361786594752\n"
     ]
    },
    {
     "name": "stdout",
     "output_type": "stream",
     "text": [
      "0.24653063114156415\n",
      "0.24722508362365306\n",
      "0.24791953610574197\n",
      "0.24861398858783088\n",
      "0.24930844106991978\n",
      "0.2500028935520087\n",
      "0.2506973460340976\n",
      "0.25139179851618654\n",
      "0.2520862509982754\n"
     ]
    },
    {
     "name": "stdout",
     "output_type": "stream",
     "text": [
      "0.25278070348036435\n",
      "0.2534751559624533\n",
      "0.25416960844454217\n",
      "0.2548640609266311\n",
      "0.25555851340872\n",
      "0.2562529658908089\n",
      "0.2569474183728978\n",
      "0.25764187085498674\n",
      "0.2583363233370757\n",
      "0.25903077581916456\n"
     ]
    },
    {
     "name": "stdout",
     "output_type": "stream",
     "text": [
      "0.2597252283012535\n",
      "0.2604196807833424\n",
      "0.2611141332654313\n",
      "0.26180858574752025\n",
      "0.26250303822960913\n",
      "0.26319749071169807\n",
      "0.26389194319378695\n",
      "0.2645863956758759\n",
      "0.26528084815796477\n",
      "0.2659753006400537\n"
     ]
    },
    {
     "name": "stdout",
     "output_type": "stream",
     "text": [
      "0.26666975312214264\n",
      "0.2673642056042315\n",
      "0.26805865808632046\n",
      "0.26875311056840934\n",
      "0.2694475630504983\n",
      "0.2701420155325872\n",
      "0.2708364680146761\n",
      "0.271530920496765\n",
      "0.2722253729788539\n",
      "0.27291982546094284\n"
     ]
    },
    {
     "name": "stdout",
     "output_type": "stream",
     "text": [
      "0.2736142779430317\n",
      "0.27430873042512066\n",
      "0.2750031829072096\n",
      "0.2756976353892985\n",
      "0.2763920878713874\n",
      "0.2770865403534763\n",
      "0.27778099283556523\n",
      "0.2784754453176541\n",
      "0.27916989779974305\n",
      "0.279864350281832\n",
      "0.28055880276392087\n",
      "0.2812532552460098\n"
     ]
    },
    {
     "name": "stdout",
     "output_type": "stream",
     "text": [
      "0.2819477077280987\n",
      "0.2826421602101876\n",
      "0.28333661269227656\n",
      "0.28403106517436544\n",
      "0.2847255176564544\n",
      "0.28541997013854326\n",
      "0.2861144226206322\n",
      "0.2868088751027211\n",
      "0.28750332758481\n",
      "0.28819778006689895\n",
      "0.2888922325489878\n",
      "0.28958668503107676\n"
     ]
    },
    {
     "name": "stdout",
     "output_type": "stream",
     "text": [
      "0.29028113751316564\n",
      "0.2909755899952546\n",
      "0.29167004247734346\n",
      "0.2923644949594324\n",
      "0.29305894744152133\n",
      "0.2937533999236102\n",
      "0.29444785240569915\n",
      "0.29514230488778803\n",
      "0.29583675736987697\n"
     ]
    },
    {
     "name": "stdout",
     "output_type": "stream",
     "text": [
      "0.2965312098519659\n",
      "0.2972256623340548\n",
      "0.2979201148161437\n",
      "0.2986145672982326\n",
      "0.29930901978032154\n",
      "0.3000034722624104\n",
      "0.30069792474449936\n",
      "0.3013923772265883\n",
      "0.3020868297086772\n",
      "0.3027812821907661\n",
      "0.303475734672855\n"
     ]
    },
    {
     "name": "stdout",
     "output_type": "stream",
     "text": [
      "0.3041701871549439\n",
      "0.30486463963703286\n",
      "0.30555909211912174\n",
      "0.3062535446012107\n",
      "0.30694799708329956\n",
      "0.3076424495653885\n",
      "0.3083369020474774\n",
      "0.3090313545295663\n",
      "0.30972580701165525\n",
      "0.31042025949374413\n",
      "0.31111471197583307\n"
     ]
    },
    {
     "name": "stdout",
     "output_type": "stream",
     "text": [
      "0.31180916445792195\n",
      "0.3125036169400109\n",
      "0.31319806942209977\n",
      "0.3138925219041887\n",
      "0.31458697438627764\n",
      "0.3152814268683665\n",
      "0.31597587935045546\n",
      "0.31667033183254434\n",
      "0.3173647843146333\n",
      "0.3180592367967222\n"
     ]
    },
    {
     "name": "stdout",
     "output_type": "stream",
     "text": [
      "0.3187536892788111\n",
      "0.31944814176090003\n",
      "0.3201425942429889\n",
      "0.32083704672507785\n",
      "0.3215314992071667\n",
      "0.32222595168925566\n",
      "0.3229204041713446\n",
      "0.3236148566534335\n",
      "0.3243093091355224\n",
      "0.3250037616176113\n",
      "0.32569821409970023\n"
     ]
    },
    {
     "name": "stdout",
     "output_type": "stream",
     "text": [
      "0.3263926665817891\n",
      "0.32708711906387805\n",
      "0.327781571545967\n",
      "0.32847602402805587\n",
      "0.3291704765101448\n",
      "0.3298649289922337\n",
      "0.3305593814743226\n",
      "0.33125383395641156\n",
      "0.33194828643850044\n",
      "0.3326427389205894\n",
      "0.33333719140267826\n",
      "0.3340316438847672\n"
     ]
    },
    {
     "name": "stdout",
     "output_type": "stream",
     "text": [
      "0.3347260963668561\n",
      "0.335420548848945\n",
      "0.33611500133103395\n",
      "0.3368094538131228\n",
      "0.33750390629521176\n",
      "0.33819835877730064\n",
      "0.3388928112593896\n",
      "0.33958726374147846\n",
      "0.3402817162235674\n",
      "0.34097616870565634\n"
     ]
    },
    {
     "name": "stdout",
     "output_type": "stream",
     "text": [
      "0.3416706211877452\n",
      "0.34236507366983415\n",
      "0.34305952615192303\n",
      "0.34375397863401197\n",
      "0.3444484311161009\n",
      "0.3451428835981898\n",
      "0.3458373360802787\n",
      "0.3465317885623676\n"
     ]
    },
    {
     "name": "stdout",
     "output_type": "stream",
     "text": [
      "0.34722624104445654\n",
      "0.3479206935265454\n",
      "0.34861514600863436\n",
      "0.3493095984907233\n",
      "0.3500040509728122\n",
      "0.3506985034549011\n",
      "0.35139295593699\n",
      "0.35208740841907893\n",
      "0.35278186090116787\n",
      "0.35347631338325675\n",
      "0.3541707658653457\n",
      "0.35486521834743456\n"
     ]
    },
    {
     "name": "stdout",
     "output_type": "stream",
     "text": [
      "0.3555596708295235\n",
      "0.3562541233116124\n",
      "0.3569485757937013\n",
      "0.35764302827579025\n",
      "0.35833748075787913\n",
      "0.35903193323996807\n",
      "0.35972638572205695\n",
      "0.3604208382041459\n",
      "0.36111529068623477\n",
      "0.3618097431683237\n",
      "0.36250419565041264\n"
     ]
    },
    {
     "name": "stdout",
     "output_type": "stream",
     "text": [
      "0.3631986481325015\n",
      "0.36389310061459046\n",
      "0.36458755309667934\n",
      "0.3652820055787683\n",
      "0.3659764580608572\n",
      "0.3666709105429461\n",
      "0.36736536302503503\n",
      "0.3680598155071239\n",
      "0.36875426798921285\n",
      "0.36944872047130173\n"
     ]
    },
    {
     "name": "stdout",
     "output_type": "stream",
     "text": [
      "0.37014317295339066\n",
      "0.3708376254354796\n",
      "0.3715320779175685\n",
      "0.3722265303996574\n",
      "0.3729209828817463\n",
      "0.37361543536383524\n",
      "0.3743098878459241\n",
      "0.37500434032801305\n",
      "0.375698792810102\n",
      "0.37639324529219087\n"
     ]
    },
    {
     "name": "stdout",
     "output_type": "stream",
     "text": [
      "0.3770876977742798\n",
      "0.3777821502563687\n",
      "0.3784766027384576\n",
      "0.37917105522054656\n",
      "0.37986550770263544\n",
      "0.3805599601847244\n",
      "0.38125441266681326\n",
      "0.3819488651489022\n",
      "0.3826433176309911\n",
      "0.38333777011308\n"
     ]
    },
    {
     "name": "stdout",
     "output_type": "stream",
     "text": [
      "0.38403222259516895\n",
      "0.38472667507725783\n",
      "0.38542112755934677\n",
      "0.38611558004143565\n",
      "0.3868100325235246\n",
      "0.38750448500561346\n",
      "0.3881989374877024\n",
      "0.38889338996979134\n"
     ]
    },
    {
     "name": "stdout",
     "output_type": "stream",
     "text": [
      "0.3895878424518802\n",
      "0.39028229493396915\n",
      "0.39097674741605803\n",
      "0.39167119989814697\n",
      "0.3923656523802359\n",
      "0.3930601048623248\n",
      "0.3937545573444137\n",
      "0.3944490098265026\n",
      "0.39514346230859154\n",
      "0.3958379147906804\n",
      "0.39653236727276936\n"
     ]
    },
    {
     "name": "stdout",
     "output_type": "stream",
     "text": [
      "0.3972268197548583\n",
      "0.3979212722369472\n",
      "0.3986157247190361\n",
      "0.399310177201125\n",
      "0.40000462968321393\n",
      "0.40069908216530287\n",
      "0.40139353464739175\n",
      "0.4020879871294807\n",
      "0.40278243961156956\n",
      "0.4034768920936585\n",
      "0.4041713445757474\n"
     ]
    },
    {
     "name": "stdout",
     "output_type": "stream",
     "text": [
      "0.4048657970578363\n",
      "0.40556024953992525\n",
      "0.40625470202201414\n",
      "0.40694915450410307\n",
      "0.40764360698619195\n",
      "0.4083380594682809\n",
      "0.40903251195036977\n",
      "0.4097269644324587\n",
      "0.41042141691454764\n",
      "0.4111158693966365\n",
      "0.41181032187872546\n"
     ]
    },
    {
     "name": "stdout",
     "output_type": "stream",
     "text": [
      "0.41250477436081434\n",
      "0.4131992268429033\n",
      "0.4138936793249922\n",
      "0.4145881318070811\n",
      "0.41528258428917003\n",
      "0.4159770367712589\n",
      "0.41667148925334785\n",
      "0.41736594173543673\n",
      "0.41806039421752567\n",
      "0.4187548466996146\n",
      "0.4194492991817035\n"
     ]
    },
    {
     "name": "stdout",
     "output_type": "stream",
     "text": [
      "0.4201437516637924\n",
      "0.4208382041458813\n",
      "0.42153265662797024\n",
      "0.4222271091100591\n",
      "0.42292156159214805\n",
      "0.423616014074237\n",
      "0.42431046655632587\n",
      "0.4250049190384148\n",
      "0.4256993715205037\n",
      "0.4263938240025926\n",
      "0.42708827648468156\n"
     ]
    },
    {
     "name": "stdout",
     "output_type": "stream",
     "text": [
      "0.42778272896677044\n",
      "0.4284771814488594\n",
      "0.42917163393094826\n",
      "0.4298660864130372\n",
      "0.4305605388951261\n",
      "0.431254991377215\n",
      "0.43194944385930395\n",
      "0.43264389634139283\n",
      "0.43333834882348177\n"
     ]
    },
    {
     "name": "stdout",
     "output_type": "stream",
     "text": [
      "0.43403280130557065\n",
      "0.4347272537876596\n",
      "0.43542170626974847\n",
      "0.4361161587518374\n",
      "0.43681061123392634\n",
      "0.4375050637160152\n",
      "0.43819951619810416\n",
      "0.43889396868019304\n",
      "0.439588421162282\n",
      "0.4402828736443709\n"
     ]
    },
    {
     "name": "stdout",
     "output_type": "stream",
     "text": [
      "0.4409773261264598\n",
      "0.4416717786085487\n",
      "0.4423662310906376\n",
      "0.44306068357272654\n",
      "0.4437551360548154\n",
      "0.44444958853690436\n",
      "0.4451440410189933\n",
      "0.4458384935010822\n",
      "0.4465329459831711\n",
      "0.44722739846526\n",
      "0.44792185094734893\n"
     ]
    },
    {
     "name": "stdout",
     "output_type": "stream",
     "text": [
      "0.44861630342943787\n",
      "0.44931075591152675\n",
      "0.4500052083936157\n",
      "0.45069966087570457\n",
      "0.4513941133577935\n",
      "0.4520885658398824\n",
      "0.4527830183219713\n",
      "0.45347747080406026\n",
      "0.45417192328614914\n"
     ]
    },
    {
     "name": "stdout",
     "output_type": "stream",
     "text": [
      "0.4548663757682381\n",
      "0.45556082825032695\n",
      "0.4562552807324159\n",
      "0.45694973321450477\n",
      "0.4576441856965937\n",
      "0.45833863817868264\n",
      "0.4590330906607715\n",
      "0.45972754314286046\n",
      "0.46042199562494934\n",
      "0.4611164481070383\n"
     ]
    },
    {
     "name": "stdout",
     "output_type": "stream",
     "text": [
      "0.4618109005891272\n",
      "0.4625053530712161\n",
      "0.46319980555330503\n",
      "0.4638942580353939\n",
      "0.46458871051748285\n",
      "0.46528316299957173\n",
      "0.46597761548166067\n",
      "0.4666720679637496\n",
      "0.4673665204458385\n",
      "0.4680609729279274\n"
     ]
    },
    {
     "name": "stdout",
     "output_type": "stream",
     "text": [
      "0.4687554254100163\n",
      "0.46944987789210524\n",
      "0.4701443303741941\n",
      "0.47083878285628306\n",
      "0.471533235338372\n",
      "0.4722276878204609\n",
      "0.4729221403025498\n",
      "0.4736165927846387\n",
      "0.4743110452667276\n",
      "0.47500549774881656\n",
      "0.47569995023090544\n"
     ]
    },
    {
     "name": "stdout",
     "output_type": "stream",
     "text": [
      "0.4763944027129944\n",
      "0.47708885519508326\n",
      "0.4777833076771722\n",
      "0.4784777601592611\n",
      "0.47917221264135\n",
      "0.47986666512343895\n",
      "0.48056111760552783\n",
      "0.48125557008761677\n",
      "0.48195002256970565\n",
      "0.4826444750517946\n",
      "0.48333892753388347\n"
     ]
    },
    {
     "name": "stdout",
     "output_type": "stream",
     "text": [
      "0.4840333800159724\n",
      "0.48472783249806134\n",
      "0.4854222849801502\n",
      "0.48611673746223916\n",
      "0.48681118994432804\n",
      "0.487505642426417\n",
      "0.4882000949085059\n",
      "0.4888945473905948\n",
      "0.48958899987268373\n",
      "0.4902834523547726\n",
      "0.49097790483686155\n"
     ]
    },
    {
     "name": "stdout",
     "output_type": "stream",
     "text": [
      "0.4916723573189504\n",
      "0.49236680980103936\n",
      "0.4930612622831283\n",
      "0.4937557147652172\n",
      "0.4944501672473061\n",
      "0.495144619729395\n",
      "0.49583907221148393\n",
      "0.49653352469357287\n",
      "0.49722797717566175\n",
      "0.4979224296577507\n",
      "0.49861688213983957\n"
     ]
    },
    {
     "name": "stdout",
     "output_type": "stream",
     "text": [
      "0.4993113346219285\n",
      "0.5000057871040174\n",
      "0.5007002395861063\n",
      "0.5013946920681952\n",
      "0.5020891445502842\n",
      "0.5027835970323731\n",
      "0.503478049514462\n",
      "0.5041725019965508\n",
      "0.5048669544786398\n",
      "0.5055614069607287\n",
      "0.5062558594428176\n"
     ]
    },
    {
     "name": "stdout",
     "output_type": "stream",
     "text": [
      "0.5069503119249066\n",
      "0.5076447644069955\n",
      "0.5083392168890843\n",
      "0.5090336693711732\n",
      "0.5097281218532622\n",
      "0.5104225743353511\n",
      "0.51111702681744\n",
      "0.511811479299529\n",
      "0.5125059317816179\n",
      "0.5132003842637067\n",
      "0.5138948367457956\n"
     ]
    },
    {
     "name": "stdout",
     "output_type": "stream",
     "text": [
      "0.5145892892278846\n",
      "0.5152837417099735\n",
      "0.5159781941920624\n",
      "0.5166726466741514\n",
      "0.5173670991562402\n",
      "0.5180615516383291\n",
      "0.5187560041204181\n",
      "0.519450456602507\n",
      "0.5201449090845959\n",
      "0.5208393615666848\n"
     ]
    },
    {
     "name": "stdout",
     "output_type": "stream",
     "text": [
      "0.5215338140487737\n",
      "0.5222282665308626\n",
      "0.5229227190129515\n",
      "0.5236171714950405\n",
      "0.5243116239771294\n",
      "0.5250060764592183\n",
      "0.5257005289413071\n",
      "0.5263949814233961\n",
      "0.527089433905485\n",
      "0.5277838863875739\n",
      "0.5284783388696629\n"
     ]
    },
    {
     "name": "stdout",
     "output_type": "stream",
     "text": [
      "0.5291727913517518\n",
      "0.5298672438338407\n",
      "0.5305616963159295\n",
      "0.5312561487980185\n",
      "0.5319506012801074\n",
      "0.5326450537621963\n",
      "0.5333395062442853\n",
      "0.5340339587263742\n",
      "0.534728411208463\n",
      "0.5354228636905519\n",
      "0.5361173161726409\n",
      "0.5368117686547298\n"
     ]
    },
    {
     "name": "stdout",
     "output_type": "stream",
     "text": [
      "0.5375062211368187\n",
      "0.5382006736189077\n",
      "0.5388951261009965\n",
      "0.5395895785830854\n",
      "0.5402840310651744\n",
      "0.5409784835472633\n",
      "0.5416729360293522\n",
      "0.5423673885114411\n",
      "0.54306184099353\n",
      "0.5437562934756189\n",
      "0.5444507459577078\n"
     ]
    },
    {
     "name": "stdout",
     "output_type": "stream",
     "text": [
      "0.5451451984397968\n",
      "0.5458396509218857\n",
      "0.5465341034039746\n",
      "0.5472285558860635\n",
      "0.5479230083681524\n",
      "0.5486174608502413\n",
      "0.5493119133323302\n",
      "0.5500063658144192\n",
      "0.5507008182965081\n",
      "0.551395270778597\n",
      "0.5520897232606858\n",
      "0.5527841757427748\n"
     ]
    },
    {
     "name": "stdout",
     "output_type": "stream",
     "text": [
      "0.5534786282248637\n",
      "0.5541730807069526\n",
      "0.5548675331890416\n",
      "0.5555619856711305\n",
      "0.5562564381532193\n",
      "0.5569508906353082\n",
      "0.5576453431173972\n",
      "0.5583397955994861\n",
      "0.559034248081575\n",
      "0.559728700563664\n",
      "0.5604231530457529\n"
     ]
    },
    {
     "name": "stdout",
     "output_type": "stream",
     "text": [
      "0.5611176055278417\n",
      "0.5618120580099307\n",
      "0.5625065104920196\n",
      "0.5632009629741085\n",
      "0.5638954154561974\n",
      "0.5645898679382864\n",
      "0.5652843204203752\n",
      "0.5659787729024641\n",
      "0.5666732253845531\n",
      "0.567367677866642\n"
     ]
    },
    {
     "name": "stdout",
     "output_type": "stream",
     "text": [
      "0.5680621303487309\n",
      "0.5687565828308198\n",
      "0.5694510353129087\n",
      "0.5701454877949976\n",
      "0.5708399402770865\n",
      "0.5715343927591755\n",
      "0.5722288452412644\n",
      "0.5729232977233533\n",
      "0.5736177502054421\n"
     ]
    },
    {
     "name": "stdout",
     "output_type": "stream",
     "text": [
      "0.5743122026875311\n",
      "0.57500665516962\n",
      "0.5757011076517089\n",
      "0.5763955601337979\n",
      "0.5770900126158868\n",
      "0.5777844650979757\n",
      "0.5784789175800645\n",
      "0.5791733700621535\n",
      "0.5798678225442424\n",
      "0.5805622750263313\n",
      "0.5812567275084203\n"
     ]
    },
    {
     "name": "stdout",
     "output_type": "stream",
     "text": [
      "0.5819511799905092\n",
      "0.582645632472598\n",
      "0.5833400849546869\n",
      "0.5840345374367759\n",
      "0.5847289899188648\n",
      "0.5854234424009537\n",
      "0.5861178948830427\n",
      "0.5868123473651315\n",
      "0.5875067998472204\n"
     ]
    },
    {
     "name": "stdout",
     "output_type": "stream",
     "text": [
      "0.5882012523293094\n",
      "0.5888957048113983\n",
      "0.5895901572934872\n",
      "0.5902846097755761\n",
      "0.590979062257665\n",
      "0.5916735147397539\n",
      "0.5923679672218428\n",
      "0.5930624197039318\n",
      "0.5937568721860207\n",
      "0.5944513246681096\n",
      "0.5951457771501985\n",
      "0.5958402296322874\n"
     ]
    },
    {
     "name": "stdout",
     "output_type": "stream",
     "text": [
      "0.5965346821143763\n",
      "0.5972291345964652\n",
      "0.5979235870785542\n",
      "0.5986180395606431\n",
      "0.599312492042732\n",
      "0.6000069445248208\n",
      "0.6007013970069098\n",
      "0.6013958494889987\n",
      "0.6020903019710876\n",
      "0.6027847544531766\n",
      "0.6034792069352655\n",
      "0.6041736594173543\n"
     ]
    },
    {
     "name": "stdout",
     "output_type": "stream",
     "text": [
      "0.6048681118994432\n",
      "0.6055625643815322\n",
      "0.6062570168636211\n",
      "0.60695146934571\n",
      "0.607645921827799\n",
      "0.6083403743098879\n",
      "0.6090348267919767\n",
      "0.6097292792740657\n",
      "0.6104237317561546\n",
      "0.6111181842382435\n"
     ]
    },
    {
     "name": "stdout",
     "output_type": "stream",
     "text": [
      "0.6118126367203324\n",
      "0.6125070892024214\n",
      "0.6132015416845102\n",
      "0.6138959941665991\n",
      "0.6145904466486881\n",
      "0.615284899130777\n",
      "0.6159793516128659\n",
      "0.6166738040949548\n",
      "0.6173682565770438\n",
      "0.6180627090591326\n",
      "0.6187571615412215\n"
     ]
    },
    {
     "name": "stdout",
     "output_type": "stream",
     "text": [
      "0.6194516140233105\n",
      "0.6201460665053994\n",
      "0.6208405189874883\n",
      "0.6215349714695771\n",
      "0.6222294239516661\n",
      "0.622923876433755\n",
      "0.6236183289158439\n",
      "0.6243127813979329\n",
      "0.6250072338800218\n",
      "0.6257016863621107\n",
      "0.6263961388441995\n"
     ]
    },
    {
     "name": "stdout",
     "output_type": "stream",
     "text": [
      "0.6270905913262885\n",
      "0.6277850438083774\n",
      "0.6284794962904663\n",
      "0.6291739487725553\n",
      "0.6298684012546442\n",
      "0.630562853736733\n",
      "0.6312573062188219\n",
      "0.6319517587009109\n",
      "0.6326462111829998\n",
      "0.6333406636650887\n",
      "0.6340351161471777\n",
      "0.6347295686292665\n"
     ]
    },
    {
     "name": "stdout",
     "output_type": "stream",
     "text": [
      "0.6354240211113554\n",
      "0.6361184735934444\n",
      "0.6368129260755333\n",
      "0.6375073785576222\n",
      "0.6382018310397111\n",
      "0.6388962835218001\n",
      "0.6395907360038889\n",
      "0.6402851884859778\n",
      "0.6409796409680668\n",
      "0.6416740934501557\n",
      "0.6423685459322446\n",
      "0.6430629984143335\n"
     ]
    },
    {
     "name": "stdout",
     "output_type": "stream",
     "text": [
      "0.6437574508964224\n",
      "0.6444519033785113\n",
      "0.6451463558606002\n",
      "0.6458408083426892\n",
      "0.6465352608247781\n",
      "0.647229713306867\n",
      "0.6479241657889558\n",
      "0.6486186182710448\n",
      "0.6493130707531337\n",
      "0.6500075232352226\n",
      "0.6507019757173116\n",
      "0.6513964281994005\n"
     ]
    },
    {
     "name": "stdout",
     "output_type": "stream",
     "text": [
      "0.6520908806814893\n",
      "0.6527853331635782\n",
      "0.6534797856456672\n",
      "0.6541742381277561\n",
      "0.654868690609845\n",
      "0.655563143091934\n",
      "0.6562575955740229\n",
      "0.6569520480561117\n",
      "0.6576465005382007\n",
      "0.6583409530202896\n",
      "0.6590354055023785\n"
     ]
    },
    {
     "name": "stdout",
     "output_type": "stream",
     "text": [
      "0.6597298579844674\n",
      "0.6604243104665564\n",
      "0.6611187629486452\n",
      "0.6618132154307341\n",
      "0.6625076679128231\n",
      "0.663202120394912\n",
      "0.6638965728770009\n",
      "0.6645910253590898\n",
      "0.6652854778411788\n",
      "0.6659799303232676\n"
     ]
    },
    {
     "name": "stdout",
     "output_type": "stream",
     "text": [
      "0.6666743828053565\n",
      "0.6673688352874455\n",
      "0.6680632877695344\n",
      "0.6687577402516233\n",
      "0.6694521927337121\n",
      "0.6701466452158011\n",
      "0.67084109769789\n",
      "0.6715355501799789\n",
      "0.6722300026620679\n",
      "0.6729244551441568\n",
      "0.6736189076262457\n",
      "0.6743133601083345\n"
     ]
    },
    {
     "name": "stdout",
     "output_type": "stream",
     "text": [
      "0.6750078125904235\n",
      "0.6757022650725124\n",
      "0.6763967175546013\n",
      "0.6770911700366903\n",
      "0.6777856225187792\n",
      "0.678480075000868\n",
      "0.6791745274829569\n",
      "0.6798689799650459\n",
      "0.6805634324471348\n",
      "0.6812578849292237\n",
      "0.6819523374113127\n",
      "0.6826467898934016\n"
     ]
    },
    {
     "name": "stdout",
     "output_type": "stream",
     "text": [
      "0.6833412423754904\n",
      "0.6840356948575794\n",
      "0.6847301473396683\n",
      "0.6854245998217572\n",
      "0.6861190523038461\n",
      "0.6868135047859351\n",
      "0.6875079572680239\n",
      "0.6882024097501128\n",
      "0.6888968622322018\n"
     ]
    },
    {
     "name": "stdout",
     "output_type": "stream",
     "text": [
      "0.6895913147142907\n",
      "0.6902857671963796\n",
      "0.6909802196784685\n",
      "0.6916746721605574\n",
      "0.6923691246426463\n",
      "0.6930635771247352\n",
      "0.6937580296068242\n",
      "0.6944524820889131\n",
      "0.695146934571002\n",
      "0.6958413870530908\n",
      "0.6965358395351798\n",
      "0.6972302920172687\n"
     ]
    },
    {
     "name": "stdout",
     "output_type": "stream",
     "text": [
      "0.6979247444993576\n",
      "0.6986191969814466\n",
      "0.6993136494635355\n",
      "0.7000081019456244\n",
      "0.7007025544277132\n",
      "0.7013970069098022\n",
      "0.7020914593918911\n",
      "0.70278591187398\n",
      "0.703480364356069\n",
      "0.7041748168381579\n",
      "0.7048692693202467\n"
     ]
    },
    {
     "name": "stdout",
     "output_type": "stream",
     "text": [
      "0.7055637218023357\n",
      "0.7062581742844246\n",
      "0.7069526267665135\n",
      "0.7076470792486024\n",
      "0.7083415317306914\n",
      "0.7090359842127802\n",
      "0.7097304366948691\n",
      "0.7104248891769581\n",
      "0.711119341659047\n",
      "0.7118137941411359\n",
      "0.7125082466232248\n"
     ]
    },
    {
     "name": "stdout",
     "output_type": "stream",
     "text": [
      "0.7132026991053138\n",
      "0.7138971515874026\n",
      "0.7145916040694915\n",
      "0.7152860565515805\n",
      "0.7159805090336694\n",
      "0.7166749615157583\n",
      "0.7173694139978471\n",
      "0.7180638664799361\n",
      "0.718758318962025\n",
      "0.7194527714441139\n",
      "0.7201472239262029\n",
      "0.7208416764082918\n"
     ]
    },
    {
     "name": "stdout",
     "output_type": "stream",
     "text": [
      "0.7215361288903807\n",
      "0.7222305813724695\n",
      "0.7229250338545585\n",
      "0.7236194863366474\n",
      "0.7243139388187363\n",
      "0.7250083913008253\n",
      "0.7257028437829142\n",
      "0.726397296265003\n",
      "0.7270917487470919\n",
      "0.7277862012291809\n",
      "0.7284806537112698\n"
     ]
    },
    {
     "name": "stdout",
     "output_type": "stream",
     "text": [
      "0.7291751061933587\n",
      "0.7298695586754477\n",
      "0.7305640111575366\n",
      "0.7312584636396254\n",
      "0.7319529161217144\n",
      "0.7326473686038033\n",
      "0.7333418210858922\n",
      "0.7340362735679811\n",
      "0.7347307260500701\n",
      "0.7354251785321589\n",
      "0.7361196310142478\n",
      "0.7368140834963368\n"
     ]
    },
    {
     "name": "stdout",
     "output_type": "stream",
     "text": [
      "0.7375085359784257\n",
      "0.7382029884605146\n",
      "0.7388974409426035\n",
      "0.7395918934246924\n",
      "0.7402863459067813\n",
      "0.7409807983888702\n",
      "0.7416752508709592\n",
      "0.7423697033530481\n",
      "0.743064155835137\n",
      "0.7437586083172258\n",
      "0.7444530607993148\n",
      "0.7451475132814037\n"
     ]
    },
    {
     "name": "stdout",
     "output_type": "stream",
     "text": [
      "0.7458419657634926\n",
      "0.7465364182455816\n",
      "0.7472308707276705\n",
      "0.7479253232097594\n",
      "0.7486197756918482\n",
      "0.7493142281739372\n",
      "0.7500086806560261\n",
      "0.750703133138115\n",
      "0.751397585620204\n",
      "0.7520920381022929\n",
      "0.7527864905843817\n",
      "0.7534809430664707\n"
     ]
    },
    {
     "name": "stdout",
     "output_type": "stream",
     "text": [
      "0.7541753955485596\n",
      "0.7548698480306485\n",
      "0.7555643005127374\n",
      "0.7562587529948264\n",
      "0.7569532054769152\n",
      "0.7576476579590041\n",
      "0.7583421104410931\n",
      "0.759036562923182\n",
      "0.7597310154052709\n",
      "0.7604254678873598\n",
      "0.7611199203694488\n",
      "0.7618143728515376\n"
     ]
    },
    {
     "name": "stdout",
     "output_type": "stream",
     "text": [
      "0.7625088253336265\n",
      "0.7632032778157155\n",
      "0.7638977302978044\n",
      "0.7645921827798933\n",
      "0.7652866352619822\n",
      "0.7659810877440711\n",
      "0.76667554022616\n",
      "0.7673699927082489\n"
     ]
    },
    {
     "name": "stdout",
     "output_type": "stream",
     "text": [
      "0.7680644451903379\n",
      "0.7687588976724268\n",
      "0.7694533501545157\n",
      "0.7701478026366045\n",
      "0.7708422551186935\n",
      "0.7715367076007824\n",
      "0.7722311600828713\n",
      "0.7729256125649603\n",
      "0.7736200650470492\n",
      "0.774314517529138\n",
      "0.7750089700112269\n",
      "0.7757034224933159\n"
     ]
    },
    {
     "name": "stdout",
     "output_type": "stream",
     "text": [
      "0.7763978749754048\n",
      "0.7770923274574937\n",
      "0.7777867799395827\n",
      "0.7784812324216716\n",
      "0.7791756849037604\n",
      "0.7798701373858494\n",
      "0.7805645898679383\n",
      "0.7812590423500272\n",
      "0.7819534948321161\n",
      "0.7826479473142051\n",
      "0.7833423997962939\n",
      "0.7840368522783828\n"
     ]
    },
    {
     "name": "stdout",
     "output_type": "stream",
     "text": [
      "0.7847313047604718\n",
      "0.7854257572425607\n",
      "0.7861202097246496\n",
      "0.7868146622067385\n",
      "0.7875091146888274\n",
      "0.7882035671709163\n",
      "0.7888980196530052\n",
      "0.7895924721350942\n",
      "0.7902869246171831\n",
      "0.790981377099272\n"
     ]
    },
    {
     "name": "stdout",
     "output_type": "stream",
     "text": [
      "0.7916758295813608\n",
      "0.7923702820634498\n",
      "0.7930647345455387\n",
      "0.7937591870276276\n",
      "0.7944536395097166\n",
      "0.7951480919918055\n",
      "0.7958425444738944\n",
      "0.7965369969559832\n",
      "0.7972314494380722\n",
      "0.7979259019201611\n",
      "0.79862035440225\n"
     ]
    },
    {
     "name": "stdout",
     "output_type": "stream",
     "text": [
      "0.799314806884339\n",
      "0.8000092593664279\n",
      "0.8007037118485167\n",
      "0.8013981643306057\n",
      "0.8020926168126946\n",
      "0.8027870692947835\n",
      "0.8034815217768724\n",
      "0.8041759742589614\n",
      "0.8048704267410502\n",
      "0.8055648792231391\n"
     ]
    },
    {
     "name": "stdout",
     "output_type": "stream",
     "text": [
      "0.8062593317052281\n",
      "0.806953784187317\n",
      "0.8076482366694059\n",
      "0.8083426891514948\n",
      "0.8090371416335838\n",
      "0.8097315941156726\n",
      "0.8104260465977615\n",
      "0.8111204990798505\n"
     ]
    },
    {
     "name": "stdout",
     "output_type": "stream",
     "text": [
      "0.8118149515619394\n",
      "0.8125094040440283\n",
      "0.8132038565261172\n",
      "0.8138983090082061\n",
      "0.814592761490295\n",
      "0.8152872139723839\n",
      "0.8159816664544729\n",
      "0.8166761189365618\n",
      "0.8173705714186507\n",
      "0.8180650239007395\n",
      "0.8187594763828285\n"
     ]
    },
    {
     "name": "stdout",
     "output_type": "stream",
     "text": [
      "0.8194539288649174\n",
      "0.8201483813470063\n",
      "0.8208428338290953\n",
      "0.8215372863111842\n",
      "0.822231738793273\n",
      "0.8229261912753619\n",
      "0.8236206437574509\n",
      "0.8243150962395398\n",
      "0.8250095487216287\n",
      "0.8257040012037177\n"
     ]
    },
    {
     "name": "stdout",
     "output_type": "stream",
     "text": [
      "0.8263984536858066\n",
      "0.8270929061678954\n",
      "0.8277873586499844\n",
      "0.8284818111320733\n",
      "0.8291762636141622\n",
      "0.8298707160962511\n",
      "0.8305651685783401\n",
      "0.8312596210604289\n",
      "0.8319540735425178\n",
      "0.8326485260246068\n"
     ]
    },
    {
     "name": "stdout",
     "output_type": "stream",
     "text": [
      "0.8333429785066957\n",
      "0.8340374309887846\n",
      "0.8347318834708735\n",
      "0.8354263359529625\n",
      "0.8361207884350513\n",
      "0.8368152409171402\n",
      "0.8375096933992292\n",
      "0.8382041458813181\n",
      "0.838898598363407\n",
      "0.8395930508454958\n"
     ]
    },
    {
     "name": "stdout",
     "output_type": "stream",
     "text": [
      "0.8402875033275848\n",
      "0.8409819558096737\n",
      "0.8416764082917626\n",
      "0.8423708607738516\n",
      "0.8430653132559405\n",
      "0.8437597657380294\n",
      "0.8444542182201182\n",
      "0.8451486707022072\n",
      "0.8458431231842961\n"
     ]
    },
    {
     "name": "stdout",
     "output_type": "stream",
     "text": [
      "0.846537575666385\n",
      "0.847232028148474\n",
      "0.8479264806305629\n",
      "0.8486209331126517\n",
      "0.8493153855947407\n",
      "0.8500098380768296\n",
      "0.8507042905589185\n",
      "0.8513987430410074\n",
      "0.8520931955230964\n",
      "0.8527876480051853\n",
      "0.8534821004872741\n"
     ]
    },
    {
     "name": "stdout",
     "output_type": "stream",
     "text": [
      "0.8541765529693631\n",
      "0.854871005451452\n",
      "0.8555654579335409\n",
      "0.8562599104156298\n",
      "0.8569543628977188\n",
      "0.8576488153798076\n",
      "0.8583432678618965\n",
      "0.8590377203439855\n",
      "0.8597321728260744\n"
     ]
    },
    {
     "name": "stdout",
     "output_type": "stream",
     "text": [
      "0.8604266253081633\n",
      "0.8611210777902522\n",
      "0.8618155302723411\n",
      "0.86250998275443\n",
      "0.8632044352365189\n",
      "0.8638988877186079\n",
      "0.8645933402006968\n",
      "0.8652877926827857\n",
      "0.8659822451648745\n"
     ]
    },
    {
     "name": "stdout",
     "output_type": "stream",
     "text": [
      "0.8666766976469635\n",
      "0.8673711501290524\n",
      "0.8680656026111413\n",
      "0.8687600550932303\n",
      "0.8694545075753192\n",
      "0.870148960057408\n",
      "0.8708434125394969\n",
      "0.8715378650215859\n",
      "0.8722323175036748\n",
      "0.8729267699857637\n",
      "0.8736212224678527\n"
     ]
    },
    {
     "name": "stdout",
     "output_type": "stream",
     "text": [
      "0.8743156749499416\n",
      "0.8750101274320304\n",
      "0.8757045799141194\n",
      "0.8763990323962083\n",
      "0.8770934848782972\n",
      "0.8777879373603861\n",
      "0.8784823898424751\n",
      "0.879176842324564\n",
      "0.8798712948066528\n",
      "0.8805657472887418\n"
     ]
    },
    {
     "name": "stdout",
     "output_type": "stream",
     "text": [
      "0.8812601997708307\n",
      "0.8819546522529196\n",
      "0.8826491047350085\n",
      "0.8833435572170975\n",
      "0.8840380096991863\n",
      "0.8847324621812752\n",
      "0.8854269146633642\n",
      "0.8861213671454531\n",
      "0.886815819627542\n",
      "0.8875102721096308\n"
     ]
    },
    {
     "name": "stdout",
     "output_type": "stream",
     "text": [
      "0.8882047245917198\n",
      "0.8888991770738087\n",
      "0.8895936295558976\n",
      "0.8902880820379866\n",
      "0.8909825345200755\n",
      "0.8916769870021644\n",
      "0.8923714394842532\n",
      "0.8930658919663422\n",
      "0.8937603444484311\n",
      "0.89445479693052\n",
      "0.895149249412609\n"
     ]
    },
    {
     "name": "stdout",
     "output_type": "stream",
     "text": [
      "0.8958437018946979\n",
      "0.8965381543767867\n",
      "0.8972326068588757\n",
      "0.8979270593409646\n",
      "0.8986215118230535\n",
      "0.8993159643051424\n",
      "0.9000104167872314\n",
      "0.9007048692693203\n",
      "0.9013993217514091\n",
      "0.9020937742334981\n",
      "0.902788226715587\n"
     ]
    },
    {
     "name": "stdout",
     "output_type": "stream",
     "text": [
      "0.9034826791976759\n",
      "0.9041771316797648\n",
      "0.9048715841618538\n",
      "0.9055660366439426\n",
      "0.9062604891260315\n",
      "0.9069549416081205\n",
      "0.9076493940902094\n",
      "0.9083438465722983\n",
      "0.9090382990543872\n",
      "0.9097327515364761\n",
      "0.910427204018565\n",
      "0.9111216565006539\n"
     ]
    },
    {
     "name": "stdout",
     "output_type": "stream",
     "text": [
      "0.9118161089827429\n",
      "0.9125105614648318\n",
      "0.9132050139469207\n",
      "0.9138994664290095\n",
      "0.9145939189110985\n",
      "0.9152883713931874\n",
      "0.9159828238752763\n",
      "0.9166772763573653\n",
      "0.9173717288394542\n",
      "0.918066181321543\n",
      "0.9187606338036319\n",
      "0.9194550862857209\n"
     ]
    },
    {
     "name": "stdout",
     "output_type": "stream",
     "text": [
      "0.9201495387678098\n",
      "0.9208439912498987\n",
      "0.9215384437319877\n",
      "0.9222328962140766\n",
      "0.9229273486961654\n",
      "0.9236218011782544\n",
      "0.9243162536603433\n",
      "0.9250107061424322\n",
      "0.9257051586245211\n",
      "0.9263996111066101\n",
      "0.927094063588699\n",
      "0.9277885160707878\n"
     ]
    },
    {
     "name": "stdout",
     "output_type": "stream",
     "text": [
      "0.9284829685528768\n",
      "0.9291774210349657\n",
      "0.9298718735170546\n",
      "0.9305663259991435\n",
      "0.9312607784812325\n",
      "0.9319552309633213\n",
      "0.9326496834454102\n",
      "0.9333441359274992\n",
      "0.9340385884095881\n",
      "0.934733040891677\n",
      "0.9354274933737659\n"
     ]
    },
    {
     "name": "stdout",
     "output_type": "stream",
     "text": [
      "0.9361219458558548\n",
      "0.9368163983379437\n",
      "0.9375108508200326\n",
      "0.9382053033021216\n",
      "0.9388997557842105\n",
      "0.9395942082662994\n",
      "0.9402886607483882\n",
      "0.9409831132304772\n",
      "0.9416775657125661\n",
      "0.942372018194655\n",
      "0.943066470676744\n",
      "0.9437609231588329\n"
     ]
    },
    {
     "name": "stdout",
     "output_type": "stream",
     "text": [
      "0.9444553756409217\n",
      "0.9451498281230107\n",
      "0.9458442806050996\n",
      "0.9465387330871885\n",
      "0.9472331855692774\n",
      "0.9479276380513664\n",
      "0.9486220905334553\n",
      "0.9493165430155441\n",
      "0.9500109954976331\n",
      "0.950705447979722\n",
      "0.9513999004618109\n"
     ]
    },
    {
     "name": "stdout",
     "output_type": "stream",
     "text": [
      "0.9520943529438998\n",
      "0.9527888054259888\n",
      "0.9534832579080776\n",
      "0.9541777103901665\n",
      "0.9548721628722555\n",
      "0.9555666153543444\n",
      "0.9562610678364333\n",
      "0.9569555203185222\n",
      "0.9576499728006111\n",
      "0.9583444252827\n",
      "0.9590388777647889\n"
     ]
    },
    {
     "name": "stdout",
     "output_type": "stream",
     "text": [
      "0.9597333302468779\n",
      "0.9604277827289668\n",
      "0.9611222352110557\n",
      "0.9618166876931445\n",
      "0.9625111401752335\n",
      "0.9632055926573224\n",
      "0.9639000451394113\n",
      "0.9645944976215003\n"
     ]
    },
    {
     "name": "stdout",
     "output_type": "stream",
     "text": [
      "0.9652889501035892\n",
      "0.965983402585678\n",
      "0.9666778550677669\n",
      "0.9673723075498559\n",
      "0.9680667600319448\n",
      "0.9687612125140337\n",
      "0.9694556649961227\n",
      "0.9701501174782116\n",
      "0.9708445699603004\n"
     ]
    },
    {
     "name": "stdout",
     "output_type": "stream",
     "text": [
      "0.9715390224423894\n",
      "0.9722334749244783\n",
      "0.9729279274065672\n",
      "0.9736223798886561\n",
      "0.9743168323707451\n",
      "0.975011284852834\n",
      "0.9757057373349228\n",
      "0.9764001898170118\n",
      "0.9770946422991007\n",
      "0.9777890947811896\n",
      "0.9784835472632785\n",
      "0.9791779997453675\n"
     ]
    },
    {
     "name": "stdout",
     "output_type": "stream",
     "text": [
      "0.9798724522274563\n",
      "0.9805669047095452\n",
      "0.9812613571916342\n",
      "0.9819558096737231\n",
      "0.982650262155812\n",
      "0.9833447146379009\n",
      "0.9840391671199898\n",
      "0.9847336196020787\n",
      "0.9854280720841676\n",
      "0.9861225245662566\n",
      "0.9868169770483455\n",
      "0.9875114295304344\n"
     ]
    },
    {
     "name": "stdout",
     "output_type": "stream",
     "text": [
      "0.9882058820125232\n",
      "0.9889003344946122\n",
      "0.9895947869767011\n",
      "0.99028923945879\n",
      "0.990983691940879\n",
      "0.9916781444229679\n",
      "0.9923725969050567\n",
      "0.9930670493871457\n"
     ]
    },
    {
     "name": "stdout",
     "output_type": "stream",
     "text": [
      "0.9937615018692346\n",
      "0.9944559543513235\n",
      "0.9951504068334124\n",
      "0.9958448593155014\n",
      "0.9965393117975903\n",
      "0.9972337642796791\n",
      "0.9979282167617681\n",
      "0.998622669243857\n"
     ]
    }
   ],
   "source": [
    "def evaluate(activity,stream_obj,parsed_expr):\n",
    "    print(\"Evaluating \",activity,parsed_expr)\n",
    "    if isinstance(parsed_expr, list):\n",
    "        if len(parsed_expr) == 3:  # Es una expresión binaria\n",
    "            left = evaluate(activity,stream_obj,parsed_expr[0])\n",
    "            op = parsed_expr[1]\n",
    "            right = evaluate(activity,stream_obj,parsed_expr[2])\n",
    "            print(\"\\t\",left,\" op:\",op,right)\n",
    "            \n",
    "            target=f\"({left} {op} {right})\"\n",
    "            if (op == \"<\"):\n",
    "                ftw_f1 = config.get(activity, right)\n",
    "                ftw_f1 = [float(item.strip()) for item in ftw_f1.split(',')]\n",
    "                stream_obj[target] = FTW_p(stream_obj[left], ftw_f1)\n",
    "            if (op == \">\"):\n",
    "                ftw_f1 = config.get(activity, right)\n",
    "                ftw_f1 = [float(item.strip()) for item in ftw_f1.split(',')]\n",
    "                stream_obj[target] = FTW_f(stream_obj[left], ftw_f1)\n",
    "            if (op == \"#\"):\n",
    "                stream_obj[target] = nonZero(stream_obj[left], stream_obj[right])\n",
    "            if (op == \"*\"):\n",
    "                stream_obj[target] = np.minimum(stream_obj[left], stream_obj[right])\n",
    "            if (op == \"+\"):\n",
    "                stream_obj[target] = np.maximum(stream_obj[left], stream_obj[right])\n",
    "                \n",
    "            \n",
    "            \n",
    "            return f\"({left} {op} {right})\"  # Aquí puedes implementar tu lógica de evaluación personalizada\n",
    "        else:\n",
    "            return parsed_expr\n",
    "    else:\n",
    "        return parsed_expr\n",
    "\n",
    "\n",
    "\n",
    "\n",
    "print(activities)\n",
    "os.makedirs(processed_data_folder+\"DAY_\"+str(day)+\"/act/\", exist_ok=True)\n",
    "S={}\n",
    "U={}\n",
    "for activity in activities:\n",
    "    print(\"\\t\"+activity)\n",
    "    stream_obj={}\n",
    "    \n",
    "    \n",
    "    processing=activity_data[activity]['processing']\n",
    "    U[activity]= np.zeros((len(users), nT))\n",
    "    S[activity]= np.zeros((nT))\n",
    "    if(processing is None):\n",
    "        print(\"\\t\\t None processing, none filter sensors!\")\n",
    "        stream_obj[activity]=np.ones((nT))\n",
    "        evaluated_expression=activity\n",
    "    else:\n",
    "        S[activity]= np.zeros((nT))\n",
    "        objs=activity_data[activity]['object_sensors']\n",
    "        print(objs)\n",
    "        for obj in objs:\n",
    "            print(\"\\t\\t\"+obj)\n",
    "            series=read_csv(processed_data_folder+\"DAY_\"+str(day)+\"/object_sensor/\"+obj+\".tsv\", sep=\"\\t\",parse_dates=True,header=None)\n",
    "            stream_obj[obj]=  np.array(series.values[:,[1]]).flatten()  \n",
    "            print(\"Raw stream_obj:\",stream_obj[obj].shape)\n",
    "     #       stream_obj[obj] = FTW_sensor(stream_obj[obj], activity_data[activity]['ftw_f1'])\n",
    "     #       print(\"FTW stream_obj:\",stream_obj[obj].shape)\n",
    "\n",
    "        df = pd.DataFrame(stream_obj)\n",
    "\n",
    "        # Ejemplo de uso\n",
    "        for term in processing:\n",
    "            condition=config.get(activity, term)\n",
    "            print(\"condition:\",condition)\n",
    "    \n",
    "            parsed_expression = parse_expression(condition)\n",
    "            print(\"parsed_expression:\",parsed_expression)\n",
    "    \n",
    "            # Ejemplo de uso\n",
    "            evaluated_expression = evaluate(activity,stream_obj,parsed_expression[0])\n",
    "            print(\"evaluated_expression\",condition,evaluated_expression)\n",
    "            stream_obj[term]=stream_obj[evaluated_expression].copy()\n",
    "\n",
    "    #filtered_df = df.query(condition)\n",
    "    #print(\"filtered_df:\",filtered_df)\n",
    "    lastImg=np.zeros((h*8,w*8))\n",
    "            \n",
    "    with open(processed_data_folder+\"/DAY_\"+str(day)+\"/act/\"+activity+\".tsv\", \"w\") as file: \n",
    "        file.write(\"time\")\n",
    "        for ox,obj in enumerate(stream_obj):\n",
    "            file.write(\"\\t\"+obj)\n",
    "        #file.write(\"\\t\"+evaluated_expression+\"\\t\"+activity)\n",
    "        for user in users:     \n",
    "            file.write(\"\\t\"+user)\n",
    "        file.write(\"\\n\")\n",
    "            \n",
    "\n",
    "        for tt in range(t0+time_step2,tN-time_step2,time_step2):\n",
    "            print(float(tt-t0)/float(tN-t0))\n",
    "            file.write(time2str(tt))\n",
    "\n",
    "            ti=relT(tt)\n",
    "            S[activity][ti]=stream_obj[activity][ti]\n",
    "            for obj in stream_obj:\n",
    "                 #print(\"\\t\\t\\t\",user,activity,str(tt),\"obj\",str(obj),stream_obj[obj][ti])\n",
    "                file.write(\"\\t\"+str(\"{:,.2f}\".format(stream_obj[obj][ti])))\n",
    "            for ux,user in enumerate(users):\n",
    "                imgAreaActivity=getAREAactivity(activity,user)\n",
    "                #print(imgAreaActivity.shape)\n",
    "\n",
    "    \n",
    "                imgLocation=getGTImg(tt,user)\n",
    "\n",
    "                A_min = np.min(imgLocation)\n",
    "                A_max = np.max(imgLocation)\n",
    "                if(A_min==A_max):\n",
    "                     #print(\"\\t zero image!\")\n",
    "                    imgLocation=lastImg\n",
    "                else:\n",
    "                    lastImg=imgLocation\n",
    "                    imgLocation = (imgLocation - A_min) / (A_max - A_min)\n",
    "\n",
    "                #print(user,tt,A_min,A_max,imgAreaActivity.shape,imgLocation.shape)\n",
    "                degree = np.max(np.minimum(imgLocation, imgAreaActivity))\n",
    "                #print(degree)\n",
    "                timestamp=pd.to_datetime(time2str(tt))\n",
    "                #print(\"\\t\\t\\t\",user,activity,ti,str(timestamp),\"IMG\",str(degree))\n",
    "                file.write(\"\\t\"+\"{:,.2f}\".format(degree))\n",
    "                U[activity][ux][ti]=degree\n",
    "            #file.write(\"\\t\"+str(stream_obj[obj][ti]))\n",
    "            \n",
    "            file.write(\"\\n\")\n",
    "    \n",
    "\n",
    "    \n",
    "            "
   ]
  },
  {
   "cell_type": "code",
   "execution_count": 8,
   "id": "887c3771",
   "metadata": {
    "execution": {
     "iopub.execute_input": "2024-08-29T15:38:41.389296Z",
     "iopub.status.busy": "2024-08-29T15:38:41.389053Z",
     "iopub.status.idle": "2024-08-29T15:38:42.180836Z",
     "shell.execute_reply": "2024-08-29T15:38:42.180358Z"
    }
   },
   "outputs": [
    {
     "name": "stdout",
     "output_type": "stream",
     "text": [
      "cooking 0.125 [1.0, 1.0, 0.5]\n",
      "\t 16fe\n",
      "[(6, 6), (288, 288), (306, 306), (338, 338), (434, 434), (494, 494), (642, 643), (649, 659), (682, 682), (691, 694), (725, 739), (757, 764), (777, 777), (782, 784), (791, 801), (807, 808), (836, 836), (1034, 1034), (1040, 1041), (1070, 1070), (1153, 1154), (1187, 1203), (1211, 1213), (1243, 1244), (1298, 1299), (1327, 1331), (1426, 1427)]\n",
      "\t intervals raw  [(6, 6), (288, 288), (306, 306), (338, 338), (434, 434), (494, 494), (642, 643), (649, 659), (682, 682), (691, 694), (725, 739), (757, 764), (777, 777), (782, 784), (791, 801), (807, 808), (836, 836), (1034, 1034), (1040, 1041), (1070, 1070), (1153, 1154), (1187, 1203), (1211, 1213), (1243, 1244), (1298, 1299), (1327, 1331), (1426, 1427)]\n",
      "None FPu\n",
      "[(306, 306), (338, 338), (762, 764), (777, 777), (782, 784), (791, 791), (1187, 1188), (1298, 1298), (1327, 1327)]\n",
      "\t inter intervals: [(306, 306), (338, 338), (762, 764), (777, 777), (782, 784), (791, 791), (1187, 1188), (1298, 1298), (1327, 1327)]\n",
      "[(306, 306), (338, 338), (762, 764), (777, 777), (782, 784), (791, 791), (1187, 1188), (1298, 1298), (1327, 1327)]\n",
      "\t Interval (306, 306) 2024-07-31 07:06:00 2024-07-31 07:06:00 0.39215686274509803\n",
      "\t Interval (338, 338) 2024-07-31 07:38:00 2024-07-31 07:38:00 0.26153846153846155\n",
      "\t Interval (762, 764) 2024-07-31 14:42:00 2024-07-31 14:44:00 0.49882352941176467\n",
      "\t Interval (777, 777) 2024-07-31 14:57:00 2024-07-31 14:57:00 0.3603305785123967\n",
      "\t Interval (782, 784) 2024-07-31 15:02:00 2024-07-31 15:04:00 0.47326797385620917\n",
      "\t Interval (791, 791) 2024-07-31 15:11:00 2024-07-31 15:11:00 0.3689922480620155\n",
      "\t Interval (1187, 1188) 2024-07-31 21:47:00 2024-07-31 21:48:00 0.3024614100959533\n",
      "\t Interval (1298, 1298) 2024-07-31 23:38:00 2024-07-31 23:38:00 0.39215686274509803\n",
      "\t Interval (1327, 1327) 2024-08-01 00:07:00 2024-08-01 00:07:00 0.38811881188118813\n",
      "\t 5b66\n",
      "[(6, 6), (288, 288), (306, 306), (338, 338), (434, 434), (494, 494), (642, 643), (649, 659), (682, 682), (691, 694), (725, 739), (757, 764), (777, 777), (782, 784), (791, 801), (807, 808), (836, 836), (1034, 1034), (1040, 1041), (1070, 1070), (1153, 1154), (1187, 1203), (1211, 1213), (1243, 1244), (1298, 1299), (1327, 1331), (1426, 1427)]\n",
      "\t intervals raw  [(6, 6), (288, 288), (306, 306), (338, 338), (434, 434), (494, 494), (642, 643), (649, 659), (682, 682), (691, 694), (725, 739), (757, 764), (777, 777), (782, 784), (791, 801), (807, 808), (836, 836), (1034, 1034), (1040, 1041), (1070, 1070), (1153, 1154), (1187, 1203), (1211, 1213), (1243, 1244), (1298, 1299), (1327, 1331), (1426, 1427)]\n",
      "None FPu\n",
      "[(6, 6), (434, 434), (494, 494), (642, 643), (649, 659), (682, 682), (691, 694), (725, 739), (757, 764), (777, 777), (782, 784), (791, 801), (807, 808), (836, 836), (1034, 1034), (1040, 1040), (1070, 1070), (1153, 1153), (1187, 1203), (1211, 1213), (1243, 1244), (1331, 1331), (1426, 1427)]\n",
      "\t inter intervals: [(6, 6), (434, 434), (494, 494), (642, 643), (649, 659), (682, 682), (691, 694), (725, 739), (757, 764), (777, 777), (782, 784), (791, 801), (807, 808), (836, 836), (1034, 1034), (1040, 1040), (1070, 1070), (1153, 1153), (1187, 1203), (1211, 1213), (1243, 1244), (1331, 1331), (1426, 1427)]\n",
      "[(6, 6), (434, 434), (494, 494), (642, 643), (649, 659), (682, 682), (691, 694), (725, 739), (757, 764), (777, 777), (782, 784), (791, 801), (807, 808), (836, 836), (1034, 1034), (1040, 1040), (1070, 1070), (1153, 1153), (1187, 1203), (1211, 1213), (1243, 1244), (1331, 1331), (1426, 1427)]\n",
      "\t Interval (6, 6) 2024-07-31 02:06:00 2024-07-31 02:06:00 0.39215686274509803\n",
      "\t Interval (434, 434) 2024-07-31 09:14:00 2024-07-31 09:14:00 0.3772357723577236\n",
      "\t Interval (494, 494) 2024-07-31 10:14:00 2024-07-31 10:14:00 0.39215686274509803\n",
      "\t Interval (642, 643) 2024-07-31 12:42:00 2024-07-31 12:43:00 0.39215686274509803\n",
      "\t Interval (649, 659) 2024-07-31 12:49:00 2024-07-31 12:59:00 0.6119961149241372\n",
      "\t Interval (682, 682) 2024-07-31 13:22:00 2024-07-31 13:22:00 0.3529411764705882\n",
      "\t Interval (691, 694) 2024-07-31 13:31:00 2024-07-31 13:34:00 0.44999999999999996\n",
      "\t Interval (725, 739) 2024-07-31 14:05:00 2024-07-31 14:19:00 0.4980564594632179\n",
      "\t Interval (757, 764) 2024-07-31 14:37:00 2024-07-31 14:44:00 0.55186850901887\n",
      "\t Interval (777, 777) 2024-07-31 14:57:00 2024-07-31 14:57:00 0.38745098039215686\n",
      "\t Interval (782, 784) 2024-07-31 15:02:00 2024-07-31 15:04:00 0.5092117871231009\n",
      "\t Interval (791, 801) 2024-07-31 15:11:00 2024-07-31 15:21:00 0.6573686547037921\n",
      "\t Interval (807, 808) 2024-07-31 15:27:00 2024-07-31 15:28:00 0.3908152734778122\n",
      "\t Interval (836, 836) 2024-07-31 15:56:00 2024-07-31 15:56:00 0.39215686274509803\n",
      "\t Interval (1034, 1034) 2024-07-31 19:14:00 2024-07-31 19:14:00 0.39215686274509803\n",
      "\t Interval (1040, 1040) 2024-07-31 19:20:00 2024-07-31 19:20:00 0.39215686274509803\n",
      "\t Interval (1070, 1070) 2024-07-31 19:50:00 2024-07-31 19:50:00 0.39215686274509803\n",
      "\t Interval (1153, 1153) 2024-07-31 21:13:00 2024-07-31 21:13:00 0.39215686274509803\n",
      "\t Interval (1187, 1203) 2024-07-31 21:47:00 2024-07-31 22:03:00 0.7007682890867359\n",
      "\t Interval (1211, 1213) 2024-07-31 22:11:00 2024-07-31 22:13:00 0.455377302436126\n",
      "\t Interval (1243, 1244) 2024-07-31 22:43:00 2024-07-31 22:44:00 0.39215686274509803\n",
      "\t Interval (1331, 1331) 2024-08-01 00:11:00 2024-08-01 00:11:00 0.39215686274509803\n",
      "\t Interval (1426, 1427) 2024-08-01 01:46:00 2024-08-01 01:47:00 0.3852148518982061\n",
      "\t ed9c\n",
      "[(6, 6), (288, 288), (306, 306), (338, 338), (434, 434), (494, 494), (642, 643), (649, 659), (682, 682), (691, 694), (725, 739), (757, 764), (777, 777), (782, 784), (791, 801), (807, 808), (836, 836), (1034, 1034), (1040, 1041), (1070, 1070), (1153, 1154), (1187, 1203), (1211, 1213), (1243, 1244), (1298, 1299), (1327, 1331), (1426, 1427)]\n",
      "\t intervals raw  [(6, 6), (288, 288), (306, 306), (338, 338), (434, 434), (494, 494), (642, 643), (649, 659), (682, 682), (691, 694), (725, 739), (757, 764), (777, 777), (782, 784), (791, 801), (807, 808), (836, 836), (1034, 1034), (1040, 1041), (1070, 1070), (1153, 1154), (1187, 1203), (1211, 1213), (1243, 1244), (1298, 1299), (1327, 1331), (1426, 1427)]\n",
      "None FPu\n",
      "[(288, 288), (760, 764), (777, 777), (782, 784), (791, 791), (1154, 1154), (1427, 1427)]\n",
      "\t inter intervals: [(288, 288), (760, 764), (777, 777), (782, 784), (791, 791), (1154, 1154), (1427, 1427)]\n",
      "[(288, 288), (760, 764), (777, 777), (782, 784), (791, 791), (1154, 1154), (1427, 1427)]\n",
      "\t Interval (288, 288) 2024-07-31 06:48:00 2024-07-31 06:48:00 0.3900826446280992\n",
      "\t Interval (760, 764) 2024-07-31 14:40:00 2024-07-31 14:44:00 0.5705882352941176\n",
      "\t Interval (777, 777) 2024-07-31 14:57:00 2024-07-31 14:57:00 0.39215686274509803\n",
      "\t Interval (782, 784) 2024-07-31 15:02:00 2024-07-31 15:04:00 0.5228758169934641\n",
      "\t Interval (791, 791) 2024-07-31 15:11:00 2024-07-31 15:11:00 0.39215686274509803\n",
      "\t Interval (1154, 1154) 2024-07-31 21:14:00 2024-07-31 21:14:00 0.3905882352941176\n",
      "\t Interval (1427, 1427) 2024-08-01 01:47:00 2024-08-01 01:47:00 0.39215686274509803\n",
      "shower 0.1 [1, 0.5]\n",
      "\t 16fe\n",
      "[(304, 305)]\n",
      "\t intervals raw  [(304, 305)]\n",
      "FPu [1.0, 1.0, 1.0, 0.5]\n",
      "[]\n",
      "\t inter intervals: []\n",
      "[]\n",
      "\t 5b66\n",
      "[(304, 305)]\n",
      "\t intervals raw  [(304, 305)]\n",
      "FPu [1.0, 1.0, 1.0, 0.5]\n",
      "[]\n",
      "\t inter intervals: []\n",
      "[]\n",
      "\t ed9c\n",
      "[(304, 305)]\n",
      "\t intervals raw  [(304, 305)]\n",
      "FPu [1.0, 1.0, 1.0, 0.5]\n",
      "[(304, 305)]\n",
      "\t inter intervals: [(304, 305)]\n",
      "[(304, 305)]\n",
      "\t Interval (304, 305) 2024-07-31 07:04:00 2024-07-31 07:05:00 0.6300653594771242\n",
      "toileting 0.125 [1.0, 1.0, 1.0, 0.5]\n",
      "\t 16fe\n",
      "[(105, 107), (271, 272), (287, 291), (309, 312), (423, 424), (436, 438), (482, 488), (728, 734), (752, 753), (756, 756), (759, 761), (792, 795), (806, 807), (809, 810), (812, 813), (829, 830), (845, 847), (904, 908), (969, 970), (983, 984), (1038, 1039), (1062, 1063), (1073, 1075), (1232, 1235), (1328, 1331), (1402, 1403), (1424, 1427), (1430, 1430), (1433, 1436)]\n",
      "\t intervals raw  [(105, 107), (271, 272), (287, 291), (309, 312), (423, 424), (436, 438), (482, 488), (728, 734), (752, 753), (756, 756), (759, 761), (792, 795), (806, 807), (809, 810), (812, 813), (829, 830), (845, 847), (904, 908), (969, 970), (983, 984), (1038, 1039), (1062, 1063), (1073, 1075), (1232, 1235), (1328, 1331), (1402, 1403), (1424, 1427), (1430, 1430), (1433, 1436)]\n",
      "None FPu\n",
      "[(271, 272), (752, 761), (904, 907), (1062, 1063), (1328, 1328), (1402, 1402)]\n",
      "\t inter intervals: [(271, 272), (752, 761), (904, 907), (1062, 1063), (1328, 1328), (1402, 1402)]\n",
      "[(271, 272), (752, 761), (904, 907), (1062, 1063), (1328, 1328), (1402, 1402)]\n",
      "\t Interval (271, 272) 2024-07-31 06:31:00 2024-07-31 06:32:00 0.8155339805825242\n",
      "\t Interval (752, 761) 2024-07-31 14:32:00 2024-07-31 14:41:00 0.9568627450980393\n",
      "\t Interval (904, 907) 2024-07-31 17:04:00 2024-07-31 17:07:00 0.9568627450980393\n",
      "\t Interval (1062, 1063) 2024-07-31 19:42:00 2024-07-31 19:43:00 0.9568627450980393\n",
      "\t Interval (1328, 1328) 2024-08-01 00:08:00 2024-08-01 00:08:00 0.9568627450980393\n",
      "\t Interval (1402, 1402) 2024-08-01 01:22:00 2024-08-01 01:22:00 0.9568627450980393\n",
      "\t 5b66\n",
      "[(105, 107), (271, 272), (287, 291), (309, 312), (423, 424), (436, 438), (482, 488), (728, 734), (752, 753), (756, 756), (759, 761), (792, 795), (806, 807), (809, 810), (812, 813), (829, 830), (845, 847), (904, 908), (969, 970), (983, 984), (1038, 1039), (1062, 1063), (1073, 1075), (1232, 1235), (1328, 1331), (1402, 1403), (1424, 1427), (1430, 1430), (1433, 1436)]\n",
      "\t intervals raw  [(105, 107), (271, 272), (287, 291), (309, 312), (423, 424), (436, 438), (482, 488), (728, 734), (752, 753), (756, 756), (759, 761), (792, 795), (806, 807), (809, 810), (812, 813), (829, 830), (845, 847), (904, 908), (969, 970), (983, 984), (1038, 1039), (1062, 1063), (1073, 1075), (1232, 1235), (1328, 1331), (1402, 1403), (1424, 1427), (1430, 1430), (1433, 1436)]\n",
      "None FPu\n",
      "[(105, 106), (287, 288), (423, 423), (436, 438), (482, 488), (728, 734), (759, 761), (792, 795), (806, 813), (829, 830), (845, 847), (1038, 1039), (1062, 1063), (1073, 1075), (1232, 1235), (1328, 1331), (1425, 1436)]\n",
      "\t inter intervals: [(105, 106), (287, 288), (423, 423), (436, 438), (482, 488), (728, 734), (759, 761), (792, 795), (806, 813), (829, 830), (845, 847), (1038, 1039), (1062, 1063), (1073, 1075), (1232, 1235), (1328, 1331), (1425, 1436)]\n",
      "[(105, 106), (287, 288), (423, 423), (436, 438), (482, 488), (728, 734), (759, 761), (792, 795), (806, 813), (829, 830), (845, 847), (1038, 1039), (1062, 1063), (1073, 1075), (1232, 1235), (1328, 1331), (1425, 1436)]\n",
      "\t Interval (105, 106) 2024-07-31 03:45:00 2024-07-31 03:46:00 0.9568627450980393\n",
      "\t Interval (287, 288) 2024-07-31 06:47:00 2024-07-31 06:48:00 0.9156626506024096\n",
      "\t Interval (423, 423) 2024-07-31 09:03:00 2024-07-31 09:03:00 0.8709677419354839\n",
      "\t Interval (436, 438) 2024-07-31 09:16:00 2024-07-31 09:18:00 0.9568627450980393\n",
      "\t Interval (482, 488) 2024-07-31 10:02:00 2024-07-31 10:08:00 0.9568627450980393\n",
      "\t Interval (728, 734) 2024-07-31 14:08:00 2024-07-31 14:14:00 0.3962264150943396\n",
      "\t Interval (759, 761) 2024-07-31 14:39:00 2024-07-31 14:41:00 0.9568627450980393\n",
      "\t Interval (792, 795) 2024-07-31 15:12:00 2024-07-31 15:15:00 0.29411764705882354\n",
      "\t Interval (806, 813) 2024-07-31 15:26:00 2024-07-31 15:33:00 0.3284671532846716\n",
      "\t Interval (829, 830) 2024-07-31 15:49:00 2024-07-31 15:50:00 0.792156862745098\n",
      "\t Interval (845, 847) 2024-07-31 16:05:00 2024-07-31 16:07:00 0.9281045751633987\n",
      "\t Interval (1038, 1039) 2024-07-31 19:18:00 2024-07-31 19:19:00 0.9568627450980393\n",
      "\t Interval (1062, 1063) 2024-07-31 19:42:00 2024-07-31 19:43:00 0.3191489361702127\n",
      "\t Interval (1073, 1075) 2024-07-31 19:53:00 2024-07-31 19:55:00 0.9568627450980393\n",
      "\t Interval (1232, 1235) 2024-07-31 22:32:00 2024-07-31 22:35:00 0.7652173913043478\n",
      "\t Interval (1328, 1331) 2024-08-01 00:08:00 2024-08-01 00:11:00 0.9568627450980393\n",
      "\t Interval (1425, 1436) 2024-08-01 01:45:00 2024-08-01 01:56:00 0.9568627450980393\n",
      "\t ed9c\n",
      "[(105, 107), (271, 272), (287, 291), (309, 312), (423, 424), (436, 438), (482, 488), (728, 734), (752, 753), (756, 756), (759, 761), (792, 795), (806, 807), (809, 810), (812, 813), (829, 830), (845, 847), (904, 908), (969, 970), (983, 984), (1038, 1039), (1062, 1063), (1073, 1075), (1232, 1235), (1328, 1331), (1402, 1403), (1424, 1427), (1430, 1430), (1433, 1436)]\n",
      "\t intervals raw  [(105, 107), (271, 272), (287, 291), (309, 312), (423, 424), (436, 438), (482, 488), (728, 734), (752, 753), (756, 756), (759, 761), (792, 795), (806, 807), (809, 810), (812, 813), (829, 830), (845, 847), (904, 908), (969, 970), (983, 984), (1038, 1039), (1062, 1063), (1073, 1075), (1232, 1235), (1328, 1331), (1402, 1403), (1424, 1427), (1430, 1430), (1433, 1436)]\n",
      "None FPu\n",
      "[(288, 291), (309, 312), (728, 733), (759, 761), (792, 795), (806, 812), (969, 970), (983, 984), (1424, 1427)]\n",
      "\t inter intervals: [(288, 291), (309, 312), (728, 733), (759, 761), (792, 795), (806, 812), (969, 970), (983, 984), (1424, 1427)]\n",
      "[(288, 291), (309, 312), (728, 733), (759, 761), (792, 795), (806, 812), (969, 970), (983, 984), (1424, 1427)]\n",
      "\t Interval (288, 291) 2024-07-31 06:48:00 2024-07-31 06:51:00 0.9568627450980393\n",
      "\t Interval (309, 312) 2024-07-31 07:09:00 2024-07-31 07:12:00 0.6842105263157895\n",
      "\t Interval (728, 733) 2024-07-31 14:08:00 2024-07-31 14:13:00 0.9568627450980393\n",
      "\t Interval (759, 761) 2024-07-31 14:39:00 2024-07-31 14:41:00 0.22745098039215686\n",
      "\t Interval (792, 795) 2024-07-31 15:12:00 2024-07-31 15:15:00 0.7272727272727273\n",
      "\t Interval (806, 812) 2024-07-31 15:26:00 2024-07-31 15:32:00 0.9568627450980393\n",
      "\t Interval (969, 970) 2024-07-31 18:09:00 2024-07-31 18:10:00 0.9568627450980393\n",
      "\t Interval (983, 984) 2024-07-31 18:23:00 2024-07-31 18:24:00 0.7686274509803922\n",
      "\t Interval (1424, 1427) 2024-08-01 01:44:00 2024-08-01 01:47:00 0.7372549019607844\n",
      "pc 0.125 [1.0, 1.0, 1.0, 1.0, 1.0, 1.0, 1.0, 1.0, 1.0, 1.0, 0.8, 0.6, 0.4, 0.2]\n",
      "\t 16fe\n",
      "[(985, 1075)]\n",
      "\t intervals raw  [(985, 1075)]\n",
      "None FPu\n",
      "[]\n",
      "\t inter intervals: []\n",
      "[]\n",
      "\t 5b66\n",
      "[(985, 1075)]\n",
      "\t intervals raw  [(985, 1075)]\n",
      "None FPu\n",
      "[]\n",
      "\t inter intervals: []\n",
      "[]\n",
      "\t ed9c\n",
      "[(985, 1075)]\n",
      "\t intervals raw  [(985, 1075)]\n",
      "None FPu\n"
     ]
    },
    {
     "name": "stdout",
     "output_type": "stream",
     "text": [
      "[(986, 1074)]\n",
      "\t inter intervals: [(986, 1074)]\n",
      "[(986, 1074)]\n",
      "\t Interval (986, 1074) 2024-07-31 18:26:00 2024-07-31 19:54:00 0.8635382242784754\n",
      "sleep 0.125 [1.0, 1.0, 1.0, 1.0, 1.0, 1.0, 1.0, 1.0, 1.0, 1.0, 1.0, 1.0, 1.0, 1.0, 1.0, 1.0, 1.0, 1.0, 1.0, 1.0, 1.0, 1.0, 1.0, 1.0, 1.0, 1.0, 1.0, 1.0, 1.0, 0.8, 0.6, 0.4, 0.2]\n",
      "\t 16fe\n",
      "[(1, 1438)]\n",
      "\t intervals raw  [(1, 1438)]\n",
      "None FPu\n",
      "[(1, 265), (1333, 1438)]\n",
      "\t inter intervals: [(1, 265), (1333, 1438)]\n",
      "[(1, 265), (1333, 1438)]\n",
      "\t Interval (1, 265) 2024-07-31 02:01:00 2024-07-31 06:25:00 0.7115708019733452\n",
      "\t Interval (1333, 1438) 2024-08-01 00:13:00 2024-08-01 01:58:00 0.6053644308076095\n",
      "\t 5b66\n",
      "[(1, 1438)]\n",
      "\t intervals raw  [(1, 1438)]\n",
      "None FPu\n",
      "[(10, 418)]\n",
      "\t inter intervals: [(10, 418)]\n",
      "[(10, 418)]\n",
      "\t Interval (10, 418) 2024-07-31 02:10:00 2024-07-31 08:58:00 0.7917144731653366\n",
      "\t ed9c\n",
      "[(1, 1438)]\n",
      "\t intervals raw  [(1, 1438)]\n",
      "None FPu\n",
      "[(1, 287), (799, 964), (1430, 1438)]\n",
      "\t inter intervals: [(1, 287), (799, 964), (1430, 1438)]\n",
      "[(1, 287), (799, 964), (1430, 1438)]\n",
      "\t Interval (1, 287) 2024-07-31 02:01:00 2024-07-31 06:47:00 0.8637066298426799\n",
      "\t Interval (799, 964) 2024-07-31 15:19:00 2024-07-31 18:04:00 0.7564866809651136\n",
      "\t Interval (1430, 1438) 2024-08-01 01:50:00 2024-08-01 01:58:00 0.24946459451700662\n",
      "kitchen 0.125 [1.0, 1.0, 1.0, 1.0, 1.0, 0.8, 0.6, 0.4, 0.2]\n",
      "\t 16fe\n",
      "[(1, 1438)]\n",
      "\t intervals raw  [(1, 1438)]\n",
      "None FPu\n"
     ]
    },
    {
     "name": "stdout",
     "output_type": "stream",
     "text": [
      "[(338, 338), (563, 568), (763, 790)]\n",
      "\t inter intervals: [(338, 338), (563, 568), (763, 790)]\n",
      "[(338, 338), (563, 568), (763, 790)]\n",
      "\t Interval (338, 338) 2024-07-31 07:38:00 2024-07-31 07:38:00 0.18431372549019606\n",
      "\t Interval (563, 568) 2024-07-31 11:23:00 2024-07-31 11:28:00 0.20260441872508975\n",
      "\t Interval (763, 790) 2024-07-31 14:43:00 2024-07-31 15:10:00 0.7013159834698158\n",
      "\t 5b66\n",
      "[(1, 1438)]\n",
      "\t intervals raw  [(1, 1438)]\n",
      "None FPu\n",
      "[(1, 7), (425, 439), (459, 473), (476, 481), (484, 495), (643, 739), (758, 848), (1039, 1039), (1063, 1088), (1153, 1156), (1174, 1247), (1426, 1438)]\n",
      "\t inter intervals: [(1, 7), (425, 439), (459, 473), (476, 481), (484, 495), (643, 739), (758, 848), (1039, 1039), (1063, 1088), (1153, 1156), (1174, 1247), (1426, 1438)]\n",
      "[(1, 7), (425, 439), (459, 473), (476, 481), (484, 495), (643, 739), (758, 848), (1039, 1039), (1063, 1088), (1153, 1156), (1174, 1247), (1426, 1438)]\n",
      "\t Interval (1, 7) 2024-07-31 02:01:00 2024-07-31 02:07:00 0.451487449499754\n",
      "\t Interval (425, 439) 2024-07-31 09:05:00 2024-07-31 09:19:00 0.31767862529304736\n",
      "\t Interval (459, 473) 2024-07-31 09:39:00 2024-07-31 09:53:00 0.21630498935948125\n",
      "\t Interval (476, 481) 2024-07-31 09:56:00 2024-07-31 10:01:00 0.12717086834733893\n",
      "\t Interval (484, 495) 2024-07-31 10:04:00 2024-07-31 10:15:00 0.15126437566896675\n",
      "\t Interval (643, 739) 2024-07-31 12:43:00 2024-07-31 14:19:00 0.5780193794238494\n",
      "\t Interval (758, 848) 2024-07-31 14:38:00 2024-07-31 16:08:00 0.6647494568020754\n",
      "\t Interval (1039, 1039) 2024-07-31 19:19:00 2024-07-31 19:19:00 0.21249543295579104\n",
      "\t Interval (1063, 1088) 2024-07-31 19:43:00 2024-07-31 20:08:00 0.35711703354822283\n",
      "\t Interval (1153, 1156) 2024-07-31 21:13:00 2024-07-31 21:16:00 0.2002953954390343\n",
      "\t Interval (1174, 1247) 2024-07-31 21:34:00 2024-07-31 22:47:00 0.4020720453379834\n",
      "\t Interval (1426, 1438) 2024-08-01 01:46:00 2024-08-01 01:58:00 0.25729748913139916\n",
      "\t ed9c\n",
      "[(1, 1438)]\n",
      "\t intervals raw  [(1, 1438)]\n",
      "None FPu\n",
      "[(520, 522), (761, 790), (1076, 1076), (1301, 1301)]\n",
      "\t inter intervals: [(520, 522), (761, 790), (1076, 1076), (1301, 1301)]\n",
      "[(520, 522), (761, 790), (1076, 1076), (1301, 1301)]\n",
      "\t Interval (520, 522) 2024-07-31 10:40:00 2024-07-31 10:42:00 0.17322311038236435\n",
      "\t Interval (761, 790) 2024-07-31 14:41:00 2024-07-31 15:10:00 0.7122878156223637\n",
      "\t Interval (1076, 1076) 2024-07-31 19:56:00 2024-07-31 19:56:00 0.13837535014005603\n",
      "\t Interval (1301, 1301) 2024-07-31 23:41:00 2024-07-31 23:41:00 0.14827054417272528\n",
      "resting 0.125 [1.0, 1.0, 1.0, 1.0, 1.0, 1.0, 1.0, 1.0, 1.0, 1.0, 1.0, 1.0, 1.0, 1.0, 1.0, 1.0, 0.8, 0.6, 0.4, 0.2]\n",
      "\t 16fe\n",
      "[(1, 1438)]\n",
      "\t intervals raw  [(1, 1438)]\n",
      "None FPu\n",
      "[(520, 539), (794, 1058)]\n",
      "\t inter intervals: [(520, 539), (794, 1058)]\n",
      "[(520, 539), (794, 1058)]\n",
      "\t Interval (520, 539) 2024-07-31 10:40:00 2024-07-31 10:59:00 0.20375444479990756\n",
      "\t Interval (794, 1058) 2024-07-31 15:14:00 2024-07-31 19:38:00 0.8072446065717738\n",
      "\t 5b66\n",
      "[(1, 1438)]\n",
      "\t intervals raw  [(1, 1438)]\n",
      "None FPu\n",
      "[(445, 462), (673, 674), (740, 754), (871, 874), (936, 937), (991, 998), (1065, 1065), (1159, 1423)]\n",
      "\t inter intervals: [(445, 462), (673, 674), (740, 754), (871, 874), (936, 937), (991, 998), (1065, 1065), (1159, 1423)]\n",
      "[(445, 462), (673, 674), (740, 754), (871, 874), (936, 937), (991, 998), (1065, 1065), (1159, 1423)]\n",
      "\t Interval (445, 462) 2024-07-31 09:25:00 2024-07-31 09:42:00 0.12674026772199054\n",
      "\t Interval (673, 674) 2024-07-31 13:13:00 2024-07-31 13:14:00 0.14407656968398658\n",
      "\t Interval (740, 754) 2024-07-31 14:20:00 2024-07-31 14:34:00 0.30916476930165077\n",
      "\t Interval (871, 874) 2024-07-31 16:31:00 2024-07-31 16:34:00 0.16514176337634054\n",
      "\t Interval (936, 937) 2024-07-31 17:36:00 2024-07-31 17:37:00 0.14122797669792553\n",
      "\t Interval (991, 998) 2024-07-31 18:31:00 2024-07-31 18:38:00 0.20260266856405112\n",
      "\t Interval (1065, 1065) 2024-07-31 19:45:00 2024-07-31 19:45:00 0.12727611028730831\n",
      "\t Interval (1159, 1423) 2024-07-31 21:19:00 2024-08-01 01:43:00 0.5848480477589613\n",
      "\t ed9c\n",
      "[(1, 1438)]\n",
      "\t intervals raw  [(1, 1438)]\n",
      "None FPu\n",
      "[(554, 566)]\n",
      "\t inter intervals: [(554, 566)]\n",
      "[(554, 566)]\n",
      "\t Interval (554, 566) 2024-07-31 11:14:00 2024-07-31 11:26:00 0.15816074225766558\n",
      "exit 0.125 [1.0, 1.0, 1.0, 1.0, 1.0, 1.0, 1.0, 1.0, 1.0, 1.0, 1.0, 1.0, 1.0, 1.0, 1.0, 1.0, 1.0, 1.0, 1.0, 1.0, 1.0, 1.0, 1.0, 1.0, 1.0, 1.0, 1.0, 1.0, 1.0, 0.8, 0.6, 0.4, 0.2]\n",
      "\t 16fe\n",
      "[(1, 1438)]\n",
      "\t intervals raw  [(1, 1438)]\n",
      "None FPu\n"
     ]
    },
    {
     "name": "stdout",
     "output_type": "stream",
     "text": [
      "[(343, 748), (1067, 1183)]\n",
      "\t inter intervals: [(343, 748), (1067, 1183)]\n",
      "[(343, 748), (1067, 1183)]\n",
      "\t Interval (343, 748) 2024-07-31 07:43:00 2024-07-31 14:28:00 0.84038303752645\n",
      "\t Interval (1067, 1183) 2024-07-31 19:47:00 2024-07-31 21:43:00 0.7910118555279846\n",
      "\t 5b66\n",
      "[(1, 1438)]\n",
      "\t intervals raw  [(1, 1438)]\n",
      "None FPu\n",
      "[(498, 638), (1094, 1149)]\n",
      "\t inter intervals: [(498, 638), (1094, 1149)]\n",
      "[(498, 638), (1094, 1149)]\n",
      "\t Interval (498, 638) 2024-07-31 10:18:00 2024-07-31 12:38:00 0.8309082589796387\n",
      "\t Interval (1094, 1149) 2024-07-31 20:14:00 2024-07-31 21:09:00 0.563594470046083\n",
      "\t ed9c\n",
      "[(1, 1438)]\n",
      "\t intervals raw  [(1, 1438)]\n",
      "None FPu\n",
      "[(316, 722), (1085, 1418)]\n",
      "\t inter intervals: [(316, 722), (1085, 1418)]\n",
      "[(316, 722), (1085, 1418)]\n",
      "\t Interval (316, 722) 2024-07-31 07:16:00 2024-07-31 14:02:00 0.8469496656623807\n",
      "\t Interval (1085, 1418) 2024-07-31 20:05:00 2024-08-01 01:38:00 0.8562156938380363\n"
     ]
    }
   ],
   "source": [
    "I={}\n",
    "import copy\n",
    "U0=copy.deepcopy(U)\n",
    "for activity in activities:\n",
    "    cut0=activity_data[activity]['cut0']/2.0\n",
    "    ftw_location=activity_data[activity]['ftw_location']\n",
    "    agg_location=activity_data[activity]['agg_location']\n",
    "    print(activity,cut0,ftw_location)\n",
    "    I[activity]= np.zeros((len(users), nT))\n",
    "    for ux,user in enumerate(users):\n",
    "        print(\"\\t\",user)\n",
    "        print(\"\\t intervals raw \",intervals(S[activity],cut0))\n",
    "        try:\n",
    "            FPu=config.get(activity, 'FPu')\n",
    "            FPu = [float(item.strip()) for item in FPu.split(',')]\n",
    "            print(\"FPu\",FPu)\n",
    "            U[activity][ux]=FTW_fp2(U[activity][ux],FPu)\n",
    "        except:\n",
    "            print(\"None FPu\")\n",
    "        #U[activity][ux]=FTW_fp(U[activity][ux],[1,0.5])\n",
    "        #print(\"\\t interval user:\",intervals(I[activity][ux],cut0))\n",
    "        #I[activity][ux]=FTW_fp(I[activity][ux],ftw_location)\n",
    "        if(agg_location=='mean' or agg_location is None):\n",
    "            U[activity][ux][U[activity][ux] <= cut0*4.0] = 0\n",
    "            I[activity][ux]=np.minimum(U[activity][ux],S[activity])\n",
    "            I[activity][ux]=FTW_fpw(I[activity][ux],ftw_location)\n",
    "            I[activity][ux]=FTW_fp(I[activity][ux],ftw_location)\n",
    "        else:\n",
    "            if (agg_location=='max'):\n",
    "                I[activity][ux]=np.minimum(U[activity][ux],S[activity])\n",
    "                I[activity][ux]=FTW_fp(I[activity][ux],ftw_location)\n",
    "        print(\"\\t inter intervals:\",intervals(I[activity][ux],cut0))\n",
    "        with open(processed_data_folder+\"/DAY_\"+str(day)+\"/act/\"+activity+\".\"+user+\".tsv\", \"w\") as file:    \n",
    "            for ii in intervals(I[activity][ux],cut0):\n",
    "                if(agg_location=='mean' or agg_location is None):\n",
    "                    degree=np.mean(I[activity][ux][ii[0]:ii[1]+1])\n",
    "                else:\n",
    "                    if (agg_location=='max'):\n",
    "                        degree=np.max(I[activity][ux][ii[0]:ii[1]+1])\n",
    "                    else:\n",
    "                        print(\"ERROR DEGREE\")\n",
    "                        degree=-1.0\n",
    "                print(\"\\t Interval\",ii, datetime.fromtimestamp(absT(ii[0])).strftime(\"%Y-%m-%d %H:%M:%S\"), datetime.fromtimestamp(absT(ii[1])).strftime(\"%Y-%m-%d %H:%M:%S\"),degree)\n",
    "                if degree < cut0:\n",
    "                    degree=0.0\n",
    "                file.write(str(ii)+\"\\t\"+datetime.fromtimestamp(absT(ii[0])).strftime(\"%Y-%m-%d %H:%M:%S\")+\"\\t\"+datetime.fromtimestamp(absT(ii[1])).strftime(\"%Y-%m-%d %H:%M:%S\")+\"\\t\")\n",
    "                file.write(\"{:,.2f}\".format(degree)+\"\\n\")\n"
   ]
  },
  {
   "cell_type": "code",
   "execution_count": 9,
   "id": "a4c7d4d1",
   "metadata": {
    "execution": {
     "iopub.execute_input": "2024-08-29T15:38:42.183582Z",
     "iopub.status.busy": "2024-08-29T15:38:42.183196Z",
     "iopub.status.idle": "2024-08-29T15:38:42.262906Z",
     "shell.execute_reply": "2024-08-29T15:38:42.262350Z"
    }
   },
   "outputs": [
    {
     "name": "stdout",
     "output_type": "stream",
     "text": [
      "##### cooking\n",
      "## 16fe\n",
      "[(306, 306), (338, 338), (762, 764), (777, 777), (782, 784), (791, 791), (1187, 1188), (1298, 1298), (1327, 1327)]\n",
      "\t Interval (306, 306) 2024-07-31 07:06:00 2024-07-31 07:06:00 0.39215686274509803 [0.39215686] [0.98039216] [1.]\n",
      "\t Interval (338, 338) 2024-07-31 07:38:00 2024-07-31 07:38:00 0.26153846153846155 [0.26153846] [0.65384615] [1.]\n",
      "\t Interval (762, 764) 2024-07-31 14:42:00 2024-07-31 14:44:00 0.49882352941176467 [0.39215686 0.71215686 0.39215686] [0.98039216 0.8        0.98039216] [1. 1. 1.]\n",
      "\t Interval (777, 777) 2024-07-31 14:57:00 2024-07-31 14:57:00 0.3603305785123967 [0.36033058] [0.90082645] [1.]\n",
      "\t Interval (782, 784) 2024-07-31 15:02:00 2024-07-31 15:04:00 0.47326797385620917 [0.39215686 0.68882353 0.33882353] [0.98039216 0.875      0.84705882] [1. 1. 1.]\n",
      "\t Interval (791, 791) 2024-07-31 15:11:00 2024-07-31 15:11:00 0.3689922480620155 [0.36899225] [0.92248062] [1.]\n",
      "\t Interval (1187, 1188) 2024-07-31 21:47:00 2024-07-31 21:48:00 0.3024614100959533 [0.21276596 0.39215686] [0.53191489 0.98039216] [1. 1.]\n",
      "\t Interval (1298, 1298) 2024-07-31 23:38:00 2024-07-31 23:38:00 0.39215686274509803 [0.39215686] [0.98039216] [1.]\n",
      "\t Interval (1327, 1327) 2024-08-01 00:07:00 2024-08-01 00:07:00 0.38811881188118813 [0.38811881] [0.97029703] [1.]\n",
      "## 5b66\n",
      "[(6, 6), (434, 434), (494, 494), (642, 643), (649, 659), (682, 682), (691, 694), (725, 739), (757, 764), (777, 777), (782, 784), (791, 801), (807, 808), (836, 836), (1034, 1034), (1040, 1040), (1070, 1070), (1153, 1153), (1187, 1203), (1211, 1213), (1243, 1244), (1331, 1331), (1426, 1427)]\n",
      "\t Interval (6, 6) 2024-07-31 02:06:00 2024-07-31 02:06:00 0.39215686274509803 [0.39215686] [0.98039216] [1.]\n",
      "\t Interval (434, 434) 2024-07-31 09:14:00 2024-07-31 09:14:00 0.3772357723577236 [0.37723577] [0.94308943] [1.]\n",
      "\t Interval (494, 494) 2024-07-31 10:14:00 2024-07-31 10:14:00 0.39215686274509803 [0.39215686] [0.98039216] [1.]\n",
      "\t Interval (642, 643) 2024-07-31 12:42:00 2024-07-31 12:43:00 0.39215686274509803 [0.39215686 0.39215686] [0.98039216 0.98039216] [1. 1.]\n",
      "\t Interval (649, 659) 2024-07-31 12:49:00 2024-07-31 12:59:00 0.6119961149241372 [0.39215686 0.59215686 0.59607843 0.69215686 0.59607843 0.59607843\n",
      " 0.59607843 0.69215686 0.88431373 0.70415118 0.39055118] [0.98039216 0.97457627 0.98039216 0.98039216 0.79562044 0.90178571\n",
      " 0.98039216 0.98039216 0.98039216 0.784      0.97637795] [1.  0.5 0.5 1.  0.5 0.5 0.5 1.  1.  1.  1. ]\n",
      "\t Interval (682, 682) 2024-07-31 13:22:00 2024-07-31 13:22:00 0.3529411764705882 [0.35294118] [0.88235294] [1.]\n",
      "\t Interval (691, 694) 2024-07-31 13:31:00 2024-07-31 13:34:00 0.44999999999999996 [0.32313725 0.52313725 0.56156863 0.39215686] [0.80784314 0.88321168 0.96862745 0.98039216] [1.  0.5 0.5 1. ]\n",
      "\t Interval (725, 739) 2024-07-31 14:05:00 2024-07-31 14:19:00 0.4980564594632179 [0.39215686 0.2        0.39215686 0.2        0.41276596 0.51276596\n",
      " 0.51276596 0.68745098 0.59607843 0.59607843 0.69215686 0.59607843\n",
      " 0.59607843 0.69215686 0.39215686] [0.98039216 0.         0.         0.64150943 0.53191489 0.88461538\n",
      " 0.96402878 0.96862745 0.96862745 0.96946565 0.98039216 0.84347826\n",
      " 0.95652174 0.98039216 0.98039216] [1.  0.5 0.5 0.5 1.  0.5 0.5 1.  0.5 0.5 1.  0.5 0.5 1.  1. ]\n",
      "\t Interval (757, 764) 2024-07-31 14:37:00 2024-07-31 14:44:00 0.55186850901887 [0.39215686 0.49215686 0.49215686 0.49215686 0.58139535 0.87355221\n",
      " 0.71593446 0.3754386 ] [0.98039216 0.98039216 0.         0.78823529 0.95348837 0.98039216\n",
      " 0.85123967 0.93859649] [1.  1.  0.5 0.5 1.  1.  1.  1. ]\n",
      "\t Interval (777, 777) 2024-07-31 14:57:00 2024-07-31 14:57:00 0.38745098039215686 [0.38745098] [0.96862745] [1.]\n",
      "\t Interval (782, 784) 2024-07-31 15:02:00 2024-07-31 15:04:00 0.5092117871231009 [0.39097744 0.74610674 0.39055118] [0.97744361 0.88888889 0.97637795] [1. 1. 1.]\n",
      "\t Interval (791, 801) 2024-07-31 15:11:00 2024-07-31 15:21:00 0.6573686547037921 [0.39117647 0.49215686 0.49215686 0.49215686 0.50508475 0.79567298\n",
      " 0.93496734 0.97568627 0.97552621 0.78431373 0.39215686] [0.97794118 0.98039216 0.         0.98039216 0.76271186 0.97647059\n",
      " 0.97959184 0.98039216 0.96862745 0.98039216 0.98039216] [1.  1.  0.5 0.5 1.  1.  1.  1.  1.  1.  1. ]\n",
      "\t Interval (807, 808) 2024-07-31 15:27:00 2024-07-31 15:28:00 0.3908152734778122 [0.39215686 0.38947368] [0.98039216 0.97368421] [1. 1.]\n",
      "\t Interval (836, 836) 2024-07-31 15:56:00 2024-07-31 15:56:00 0.39215686274509803 [0.39215686] [0.98039216] [1.]\n",
      "\t Interval (1034, 1034) 2024-07-31 19:14:00 2024-07-31 19:14:00 0.39215686274509803 [0.39215686] [0.98039216] [1.]\n",
      "\t Interval (1040, 1040) 2024-07-31 19:20:00 2024-07-31 19:20:00 0.39215686274509803 [0.39215686] [0.98039216] [1.]\n",
      "\t Interval (1070, 1070) 2024-07-31 19:50:00 2024-07-31 19:50:00 0.39215686274509803 [0.39215686] [0.98039216] [1.]\n",
      "\t Interval (1153, 1153) 2024-07-31 21:13:00 2024-07-31 21:13:00 0.39215686274509803 [0.39215686] [0.98039216] [1.]\n",
      "\t Interval (1187, 1203) 2024-07-31 21:47:00 2024-07-31 22:03:00 0.7007682890867359 [0.38961039 0.78176725 0.91832332 0.92594021 0.86639676 0.68947368\n",
      " 0.57708333 0.57708333 0.57708333 0.65416667 0.84632353 0.95669118\n",
      " 0.88213753 0.69058824 0.59607843 0.59215686 0.39215686] [0.97402597 0.98039216 0.8442623  0.98039216 0.94230769 0.97368421\n",
      " 0.97183099 0.91525424 0.98039216 0.88541667 0.98039216 0.96862745\n",
      " 0.97887324 0.97647059 0.9140625  0.8976378  0.98039216] [1.  1.  1.  1.  1.  1.  0.5 0.5 0.5 1.  1.  1.  1.  1.  0.5 0.5 1. ]\n",
      "\t Interval (1211, 1213) 2024-07-31 22:11:00 2024-07-31 22:13:00 0.455377302436126 [0.39215686 0.68306595 0.29090909] [0.98039216 0.98039216 0.72727273] [1. 1. 1.]\n",
      "\t Interval (1243, 1244) 2024-07-31 22:43:00 2024-07-31 22:44:00 0.39215686274509803 [0.39215686 0.39215686] [0.98039216 0.98039216] [1. 1.]\n",
      "\t Interval (1331, 1331) 2024-08-01 00:11:00 2024-08-01 00:11:00 0.39215686274509803 [0.39215686] [0.98039216] [1.]\n",
      "\t Interval (1426, 1427) 2024-08-01 01:46:00 2024-08-01 01:47:00 0.3852148518982061 [0.38745098 0.38297872] [0.96862745 0.95744681] [1. 1.]\n",
      "## ed9c\n",
      "[(288, 288), (760, 764), (777, 777), (782, 784), (791, 791), (1154, 1154), (1427, 1427)]\n",
      "\t Interval (288, 288) 2024-07-31 06:48:00 2024-07-31 06:48:00 0.3900826446280992 [0.39008264] [0.97520661] [1.]\n",
      "\t Interval (760, 764) 2024-07-31 14:40:00 2024-07-31 14:44:00 0.5705882352941176 [0.2        0.59215686 0.88431373 0.78431373 0.39215686] [0.98039216 0.98039216 0.98039216 0.98039216 0.98039216] [0.5 1.  1.  1.  1. ]\n",
      "\t Interval (777, 777) 2024-07-31 14:57:00 2024-07-31 14:57:00 0.39215686274509803 [0.39215686] [0.98039216] [1.]\n",
      "\t Interval (782, 784) 2024-07-31 15:02:00 2024-07-31 15:04:00 0.5228758169934641 [0.39215686 0.78431373 0.39215686] [0.98039216 0.98039216 0.98039216] [1. 1. 1.]\n",
      "\t Interval (791, 791) 2024-07-31 15:11:00 2024-07-31 15:11:00 0.39215686274509803 [0.39215686] [0.98039216] [1.]\n",
      "\t Interval (1154, 1154) 2024-07-31 21:14:00 2024-07-31 21:14:00 0.3905882352941176 [0.39058824] [0.97647059] [1.]\n",
      "\t Interval (1427, 1427) 2024-08-01 01:47:00 2024-08-01 01:47:00 0.39215686274509803 [0.39215686] [0.98039216] [1.]\n",
      "##### shower\n",
      "## 16fe\n",
      "[]\n",
      "## 5b66\n",
      "[]\n",
      "## ed9c\n",
      "[(304, 305)]\n",
      "\t Interval (304, 305) 2024-07-31 07:04:00 2024-07-31 07:05:00 0.6300653594771242 [0.63006536 0.63006536] [0.94509804 0.94509804] [1. 1.]\n",
      "##### toileting\n",
      "## 16fe\n",
      "[(271, 272), (752, 761), (904, 907), (1062, 1063), (1328, 1328), (1402, 1402)]\n",
      "\t Interval (271, 272) 2024-07-31 06:31:00 2024-07-31 06:32:00 0.8155339805825242 [0.77777778 0.81553398] [0.77777778 0.81553398] [1. 1.]\n",
      "\t Interval (752, 761) 2024-07-31 14:32:00 2024-07-31 14:41:00 0.9568627450980393 [0.95686275 0.40784314 0.37647059 0.37647059 0.37647059 0.37647059\n",
      " 0.37647059 0.37647059 0.46043165 0.34821429] [0.95686275 0.40784314 0.37254902 0.37209302 0.37647059 0.40784314\n",
      " 0.56862745 0.3483871  0.46043165 0.34821429] [1.  1.  0.  0.  0.5 0.  0.  1.  1.  1. ]\n",
      "\t Interval (904, 907) 2024-07-31 17:04:00 2024-07-31 17:07:00 0.9568627450980393 [0.95686275 0.95686275 0.95686275 0.24358974] [0.95686275 0.95686275 0.95686275 0.24358974] [1. 1. 1. 1.]\n",
      "\t Interval (1062, 1063) 2024-07-31 19:42:00 2024-07-31 19:43:00 0.9568627450980393 [0.95686275 0.18367347] [0.95686275 0.18367347] [1. 1.]\n",
      "\t Interval (1328, 1328) 2024-08-01 00:08:00 2024-08-01 00:08:00 0.9568627450980393 [0.95686275] [0.95686275] [1.]\n",
      "\t Interval (1402, 1402) 2024-08-01 01:22:00 2024-08-01 01:22:00 0.9568627450980393 [0.95686275] [0.95686275] [1.]\n",
      "## 5b66\n",
      "[(105, 106), (287, 288), (423, 423), (436, 438), (482, 488), (728, 734), (759, 761), (792, 795), (806, 813), (829, 830), (845, 847), (1038, 1039), (1062, 1063), (1073, 1075), (1232, 1235), (1328, 1331), (1425, 1436)]\n",
      "\t Interval (105, 106) 2024-07-31 03:45:00 2024-07-31 03:46:00 0.9568627450980393 [0.95686275 0.95686275] [0.95686275 0.95686275] [1. 1.]\n",
      "\t Interval (287, 288) 2024-07-31 06:47:00 2024-07-31 06:48:00 0.9156626506024096 [0.91566265 0.69047619] [0.91566265 0.69047619] [1. 1.]\n",
      "\t Interval (423, 423) 2024-07-31 09:03:00 2024-07-31 09:03:00 0.8709677419354839 [0.87096774] [0.87096774] [1.]\n",
      "\t Interval (436, 438) 2024-07-31 09:16:00 2024-07-31 09:18:00 0.9568627450980393 [0.95686275 0.95686275 0.95686275] [0.95686275 0.74509804 0.95686275] [1. 1. 1.]\n",
      "\t Interval (482, 488) 2024-07-31 10:02:00 2024-07-31 10:08:00 0.9568627450980393 [0.69230769 0.69230769 0.69230769 0.95686275 0.69019608 0.69019608\n",
      " 0.69019608] [0.69230769 0.50196078 0.2        0.95686275 0.60784314 0.56862745\n",
      " 0.69019608] [1.  1.  0.5 1.  1.  1.  1. ]\n",
      "\t Interval (728, 734) 2024-07-31 14:08:00 2024-07-31 14:14:00 0.3962264150943396 [0.39622642 0.31764706 0.31764706 0.30588235 0.29078014 0.29078014\n",
      " 0.2627451 ] [0.39622642 0.14893617 0.31764706 0.30588235 0.2761194  0.29078014\n",
      " 0.2627451 ] [1. 1. 1. 1. 1. 1. 1.]\n",
      "\t Interval (759, 761) 2024-07-31 14:39:00 2024-07-31 14:41:00 0.9568627450980393 [0.95686275 0.37647059 0.17829457] [0.95686275 0.37647059 0.17829457] [1. 1. 1.]\n",
      "\t Interval (792, 795) 2024-07-31 15:12:00 2024-07-31 15:15:00 0.29411764705882354 [0.14457831 0.14457831 0.14457831 0.29411765] [0.14457831 0.05940594 0.13513514 0.29411765] [1. 1. 1. 1.]\n",
      "\t Interval (806, 813) 2024-07-31 15:26:00 2024-07-31 15:33:00 0.3284671532846716 [0.18431373 0.18431373 0.18431373 0.32846715 0.3        0.3\n",
      " 0.3        0.21960784] [0.18431373 0.14285714 0.21052632 0.32846715 0.2037037  0.23703704\n",
      " 0.3        0.21960784] [1.  1.  0.  0.5 0.5 0.  1.  1. ]\n",
      "\t Interval (829, 830) 2024-07-31 15:49:00 2024-07-31 15:50:00 0.792156862745098 [0.79215686 0.70731707] [0.79215686 0.70731707] [1. 1.]\n",
      "\t Interval (845, 847) 2024-07-31 16:05:00 2024-07-31 16:07:00 0.9281045751633987 [0.92810458 0.85       0.14117647] [0.92810458 0.85       0.14117647] [1. 1. 1.]\n",
      "\t Interval (1038, 1039) 2024-07-31 19:18:00 2024-07-31 19:19:00 0.9568627450980393 [0.95686275 0.31111111] [0.95686275 0.31111111] [1. 1.]\n",
      "\t Interval (1062, 1063) 2024-07-31 19:42:00 2024-07-31 19:43:00 0.3191489361702127 [0.31914894 0.14285714] [0.31914894 0.14285714] [1. 1.]\n",
      "\t Interval (1073, 1075) 2024-07-31 19:53:00 2024-07-31 19:55:00 0.9568627450980393 [0.69911504 0.95686275 0.265625  ] [0.69911504 0.95686275 0.265625  ] [1. 1. 1.]\n",
      "\t Interval (1232, 1235) 2024-07-31 22:32:00 2024-07-31 22:35:00 0.7652173913043478 [0.76521739 0.70873786 0.70873786 0.32653061] [0.76521739 0.56862745 0.70873786 0.32653061] [1. 1. 1. 1.]\n",
      "\t Interval (1328, 1331) 2024-08-01 00:08:00 2024-08-01 00:11:00 0.9568627450980393 [0.625      0.95686275 0.95686275 0.16470588] [0.625      0.95686275 0.95686275 0.16470588] [1. 1. 1. 1.]\n",
      "\t Interval (1425, 1436) 2024-08-01 01:45:00 2024-08-01 01:56:00 0.9568627450980393 [0.21568627 0.3        0.41568627 0.15833333 0.15833333 0.41568627\n",
      " 0.15833333 0.15833333 0.85245902 0.95686275 0.95686275 0.25882353] [0.21568627 0.3        0.41568627 0.57777778 0.23684211 0.15833333\n",
      " 0.05882353 0.70175439 0.85245902 0.95686275 0.95686275 0.25882353] [1.  1.  1.  0.  0.  0.5 0.  0.  1.  1.  1.  1. ]\n",
      "## ed9c\n",
      "[(288, 291), (309, 312), (728, 733), (759, 761), (792, 795), (806, 812), (969, 970), (983, 984), (1424, 1427)]\n",
      "\t Interval (288, 291) 2024-07-31 06:48:00 2024-07-31 06:51:00 0.9568627450980393 [0.23966942 0.95686275 0.775      0.23076923] [0.23966942 0.95686275 0.775      0.23076923] [1. 1. 1. 1.]\n",
      "\t Interval (309, 312) 2024-07-31 07:09:00 2024-07-31 07:12:00 0.6842105263157895 [0.62804878 0.6627451  0.6627451  0.68421053] [0.62804878 0.6627451  0.65490196 0.68421053] [1. 1. 1. 1.]\n",
      "\t Interval (728, 733) 2024-07-31 14:08:00 2024-07-31 14:13:00 0.9568627450980393 [0.95686275 0.95686275 0.95686275 0.95686275 0.95686275 0.69662921] [0.95686275 0.95686275 0.95686275 0.95686275 0.95686275 0.69662921] [1. 1. 1. 1. 1. 1.]\n",
      "\t Interval (759, 761) 2024-07-31 14:39:00 2024-07-31 14:41:00 0.22745098039215686 [0.22745098 0.16025641 0.14117647] [0.22745098 0.16025641 0.14117647] [1. 1. 1.]\n",
      "\t Interval (792, 795) 2024-07-31 15:12:00 2024-07-31 15:15:00 0.7272727272727273 [0.72727273 0.7254902  0.7254902  0.68181818] [0.72727273 0.69852941 0.7254902  0.68181818] [1. 1. 1. 1.]\n",
      "\t Interval (806, 812) 2024-07-31 15:26:00 2024-07-31 15:32:00 0.9568627450980393 [0.95686275 0.95686275 0.5        0.5        0.5        0.5\n",
      " 0.78676471] [0.95686275 0.95686275 0.95686275 0.95686275 0.95686275 0.95686275\n",
      " 0.78676471] [1.  1.  0.  0.5 0.5 0.  1. ]\n",
      "\t Interval (969, 970) 2024-07-31 18:09:00 2024-07-31 18:10:00 0.9568627450980393 [0.95686275 0.95686275] [0.95686275 0.95686275] [1. 1.]\n",
      "\t Interval (983, 984) 2024-07-31 18:23:00 2024-07-31 18:24:00 0.7686274509803922 [0.76862745 0.19444444] [0.76862745 0.19444444] [1. 1.]\n",
      "\t Interval (1424, 1427) 2024-08-01 01:44:00 2024-08-01 01:47:00 0.7372549019607844 [0.67692308 0.68181818 0.7372549  0.70196078] [0.67692308 0.68181818 0.7372549  0.70196078] [1. 1. 1. 1.]\n",
      "##### pc\n",
      "## 16fe\n",
      "[]\n",
      "## 5b66\n",
      "[]\n",
      "## ed9c\n",
      "[(986, 1074)]\n",
      "\t Interval (986, 1074) 2024-07-31 18:26:00 2024-07-31 19:54:00 0.8635382242784754 [0.16078431 0.24117647 0.32156863 0.40196078 0.48235294 0.5627451\n",
      " 0.64313725 0.72352941 0.80392157 0.86823529 0.91647059 0.94862745\n",
      " 0.96470588 0.96470588 0.96470588 0.96470588 0.96470588 0.96470588\n",
      " 0.96470588 0.96470588 0.96470588 0.96470588 0.96470588 0.96470588\n",
      " 0.96470588 0.96470588 0.96470588 0.96470588 0.96470588 0.96470588\n",
      " 0.96470588 0.96470588 0.96470588 0.96470588 0.96470588 0.96470588\n",
      " 0.96470588 0.96470588 0.96470588 0.96470588 0.96470588 0.96470588\n",
      " 0.96470588 0.96470588 0.96470588 0.96470588 0.96470588 0.96470588\n",
      " 0.96470588 0.96470588 0.96470588 0.96470588 0.96470588 0.96470588\n",
      " 0.96470588 0.96470588 0.96470588 0.96470588 0.96470588 0.96470588\n",
      " 0.96470588 0.96470588 0.96470588 0.96470588 0.96470588 0.96470588\n",
      " 0.96470588 0.96470588 0.96470588 0.96470588 0.96470588 0.96470588\n",
      " 0.96470588 0.96470588 0.96470588 0.96470588 0.96470588 0.94862745\n",
      " 0.91647059 0.86823529 0.80392157 0.72352941 0.64313725 0.5627451\n",
      " 0.48235294 0.40196078 0.32156863 0.24117647 0.16078431] [0.96470588 0.96470588 0.96470588 0.96470588 0.96470588 0.96470588\n",
      " 0.96470588 0.96470588 0.96470588 0.96470588 0.96470588 0.96470588\n",
      " 0.96470588 0.96470588 0.96470588 0.96470588 0.96470588 0.96470588\n",
      " 0.96470588 0.96470588 0.96470588 0.96470588 0.96470588 0.96470588\n",
      " 0.96470588 0.96470588 0.96470588 0.96470588 0.96470588 0.96470588\n",
      " 0.96470588 0.96470588 0.96470588 0.96470588 0.96470588 0.96470588\n",
      " 0.96470588 0.96470588 0.96470588 0.96470588 0.96470588 0.96470588\n",
      " 0.96470588 0.96470588 0.96470588 0.96470588 0.96470588 0.96470588\n",
      " 0.96470588 0.96470588 0.96470588 0.96470588 0.96470588 0.96470588\n",
      " 0.96470588 0.96470588 0.96470588 0.96470588 0.96470588 0.96470588\n",
      " 0.96470588 0.96470588 0.96470588 0.96470588 0.96470588 0.96470588\n",
      " 0.96470588 0.96470588 0.96470588 0.96470588 0.96470588 0.96470588\n",
      " 0.96470588 0.96470588 0.96470588 0.96470588 0.96470588 0.96470588\n",
      " 0.96470588 0.96470588 0.96470588 0.96470588 0.96470588 0.96470588\n",
      " 0.96470588 0.96470588 0.96470588 0.96470588 0.96470588] [1. 1. 1. 1. 1. 1. 1. 1. 1. 1. 1. 1. 1. 1. 1. 1. 1. 1. 1. 1. 1. 1. 1. 1.\n",
      " 1. 1. 1. 1. 1. 1. 1. 1. 1. 1. 1. 1. 1. 1. 1. 1. 1. 1. 1. 1. 1. 1. 1. 1.\n",
      " 1. 1. 1. 1. 1. 1. 1. 1. 1. 1. 1. 1. 1. 1. 1. 1. 1. 1. 1. 1. 1. 1. 1. 1.\n",
      " 1. 1. 1. 1. 1. 1. 1. 1. 1. 1. 1. 1. 1. 1. 1. 1. 1.]\n",
      "##### sleep\n",
      "## 16fe\n",
      "[(1, 265), (1333, 1438)]\n",
      "\t Interval (1, 265) 2024-07-31 02:01:00 2024-07-31 06:25:00 0.7115708019733452 [0.41007194 0.55573424 0.64131048 0.70285231 0.74118289 0.75379353\n",
      " 0.76193154 0.7709544  0.77785896 0.78253254 0.78767668 0.78767668\n",
      " 0.78767668 0.78767668 0.78767668 0.78767668 0.78767668 0.78767668\n",
      " 0.78767668 0.78767668 0.78767668 0.78767668 0.78767668 0.79224308\n",
      " 0.79827295 0.80385616 0.80748292 0.81201025 0.82205761 0.82669093\n",
      " 0.81685687 0.80669265 0.79642686 0.78598743 0.77533594 0.76680969\n",
      " 0.7585997  0.75182486 0.74828788 0.7451327  0.74092756 0.73908026\n",
      " 0.73908026 0.73908026 0.73908026 0.73908026 0.73908026 0.73908026\n",
      " 0.73908026 0.73908026 0.73908026 0.73847111 0.73659197 0.73561273\n",
      " 0.73528731 0.73528731 0.73528731 0.73528731 0.73528731 0.73467911\n",
      " 0.73460831 0.73460831 0.73460831 0.73460831 0.73460831 0.73460831\n",
      " 0.73460831 0.73460831 0.72398153 0.72186084 0.71607381 0.71472044\n",
      " 0.71235641 0.70857886 0.70494776 0.70120875 0.69476766 0.68314776\n",
      " 0.68283835 0.68283835 0.68283835 0.68283835 0.68283835 0.68283835\n",
      " 0.68283835 0.68283835 0.68283835 0.68283835 0.68283835 0.68283835\n",
      " 0.68283835 0.68283835 0.68283835 0.68283835 0.68283835 0.68283835\n",
      " 0.68283835 0.68436812 0.68436812 0.68436812 0.68436812 0.68436812\n",
      " 0.68436812 0.68436812 0.68436812 0.68436812 0.68314776 0.68283835\n",
      " 0.68283835 0.68283835 0.68283835 0.68283835 0.68283835 0.68283835\n",
      " 0.68283835 0.68283835 0.68283835 0.68283835 0.68283835 0.68283835\n",
      " 0.68283835 0.68283835 0.68283835 0.68283835 0.68283835 0.68283835\n",
      " 0.68436812 0.68436812 0.68436812 0.68436812 0.68436812 0.68436812\n",
      " 0.68436812 0.68436812 0.68436812 0.68436812 0.68436812 0.68436812\n",
      " 0.68436812 0.68436812 0.69314246 0.69367925 0.69767218 0.70686967\n",
      " 0.70686967 0.70728743 0.70728743 0.70728743 0.70728743 0.70728743\n",
      " 0.70728743 0.70728743 0.70728743 0.70728743 0.70728743 0.70728743\n",
      " 0.70728743 0.70728743 0.70728743 0.70728743 0.70728743 0.70728743\n",
      " 0.71132188 0.71160339 0.71741386 0.72259003 0.72327561 0.72812225\n",
      " 0.73499617 0.73569719 0.74340462 0.75011169 0.75468365 0.75842713\n",
      " 0.76334614 0.76646633 0.77129869 0.77129869 0.77129869 0.77129869\n",
      " 0.7720781  0.7720781  0.7720781  0.7720781  0.7720781  0.7720781\n",
      " 0.7720781  0.7720781  0.7720781  0.7720781  0.7720781  0.7720781\n",
      " 0.7720781  0.7720781  0.7720781  0.7720781  0.7720781  0.7720781\n",
      " 0.7720781  0.7720781  0.7720781  0.77253266 0.78435671 0.79581702\n",
      " 0.8071279  0.80846204 0.80727609 0.80846204 0.80846204 0.80846204\n",
      " 0.80846204 0.80846204 0.80846204 0.80846204 0.80846204 0.80846204\n",
      " 0.80846204 0.80846204 0.80846204 0.80846204 0.80846204 0.80846204\n",
      " 0.80846204 0.80846204 0.80846204 0.80846204 0.80846204 0.80846204\n",
      " 0.80846204 0.80846204 0.80846204 0.80846204 0.80846204 0.80846204\n",
      " 0.80727609 0.81872076 0.81154388 0.80455142 0.79325872 0.77796855\n",
      " 0.75830514 0.73645725 0.70864051 0.68175879 0.66090019 0.63800737\n",
      " 0.61691556 0.59245319 0.56524422 0.54519813 0.52526086 0.5047675\n",
      " 0.47415396 0.44408289 0.41394011 0.38332657 0.35271303 0.3220995\n",
      " 0.29148596 0.26087243 0.23083906 0.20022552 0.17302754 0.15423805\n",
      " 0.13547571] [0.82014388 0.84705882 0.89803922 0.94901961 0.93283582 0.82945736\n",
      " 0.81889764 0.84313725 0.84       0.82926829 0.8442623  0.59585492\n",
      " 0.59607843 0.59685864 0.59607843 0.67924528 0.66666667 0.93706294\n",
      " 0.94901961 0.94901961 0.94482759 0.94520548 0.94901961 0.94901961\n",
      " 0.94901961 0.94901961 0.90540541 0.93877551 0.94901961 0.93835616\n",
      " 0.94520548 0.93706294 0.94244604 0.94901961 0.94901961 0.94901961\n",
      " 0.94117647 0.84705882 0.84705882 0.83333333 0.84313725 0.84313725\n",
      " 0.84       0.82978723 0.81196581 0.76271186 0.79215686 0.82608696\n",
      " 0.79215686 0.84705882 0.82051282 0.84684685 0.84705882 0.84705882\n",
      " 0.84313725 0.625      0.625      0.61960784 0.64634146 0.66233766\n",
      " 0.61960784 0.61960784 0.61960784 0.62941176 0.60588235 0.61960784\n",
      " 0.61960784 0.94901961 0.67843137 0.78911565 0.65088757 0.67878788\n",
      " 0.71764706 0.71153846 0.70967742 0.78823529 0.94901961 0.94901961\n",
      " 0.94901961 0.93859649 0.74117647 0.77464789 0.84705882 0.70666667\n",
      " 0.87341772 0.88172043 0.6        0.62087912 0.66470588 0.62569832\n",
      " 0.61202186 0.61413043 0.61538462 0.60989011 0.64204545 0.63687151\n",
      " 0.63841808 0.61878453 0.60784314 0.61202186 0.62087912 0.60392157\n",
      " 0.60392157 0.60392157 0.59487179 0.59607843 0.59607843 0.57788945\n",
      " 0.57788945 0.59607843 0.57948718 0.58854167 0.59067358 0.66666667\n",
      " 0.89411765 0.89411765 0.80985915 0.75333333 0.79432624 0.77941176\n",
      " 0.74       0.77697842 0.8        0.76760563 0.75       0.89411765\n",
      " 0.6835443  0.60773481 0.60989011 0.6010929  0.6043956  0.61797753\n",
      " 0.60555556 0.59607843 0.61235955 0.61235955 0.5786802  0.57425743\n",
      " 0.57647059 0.57425743 0.94901961 0.6031746  0.72807018 0.94901961\n",
      " 0.68067227 0.83018868 0.71551724 0.63934426 0.70940171 0.73684211\n",
      " 0.65289256 0.77272727 0.78181818 0.89215686 0.64754098 0.88118812\n",
      " 0.73684211 0.68067227 0.73684211 0.77777778 0.69230769 0.75454545\n",
      " 0.76576577 0.616      0.78899083 0.76146789 0.616      0.74107143\n",
      " 0.7962963  0.67226891 0.8943662  0.89411765 0.90243902 0.89803922\n",
      " 0.91071429 0.87741935 0.91275168 0.6779661  0.6779661  0.71551724\n",
      " 0.78703704 0.69230769 0.8        0.91452991 0.92857143 0.89473684\n",
      " 0.88461538 0.89411765 0.88819876 0.88198758 0.89411765 0.89411765\n",
      " 0.89411765 0.88607595 0.88819876 0.89411765 0.89308176 0.89411765\n",
      " 0.8699187  0.91935484 0.73943662 0.58247423 0.59375    0.59607843\n",
      " 0.58918919 0.59607843 0.59607843 0.59607843 0.59668508 0.59607843\n",
      " 0.59607843 0.59607843 0.59607843 0.59607843 0.59782609 0.59459459\n",
      " 0.84732824 0.94901961 0.93939394 0.94814815 0.94901961 0.94074074\n",
      " 0.9375     0.94901961 0.9296875  0.94901961 0.94901961 0.94901961\n",
      " 0.9453125  0.94901961 0.94901961 0.94901961 0.94901961 0.94901961\n",
      " 0.94901961 0.94901961 0.9375     0.94901961 0.94901961 0.94901961\n",
      " 0.84848485 0.86231884 0.83333333 0.64661654 0.70967742 0.65384615\n",
      " 0.75833333 0.84347826 0.62142857 0.61805556 0.63529412 0.94901961\n",
      " 0.93220339 0.93442623 0.94901961 0.94901961 0.94901961 0.94901961\n",
      " 0.94901961 0.93103448 0.94901961 0.84313725 0.58247423 0.58163265\n",
      " 0.59607843] [1. 1. 1. 1. 1. 1. 1. 1. 1. 1. 1. 1. 1. 1. 1. 1. 1. 1. 1. 1. 1. 1. 1. 1.\n",
      " 1. 1. 1. 1. 1. 1. 1. 1. 1. 1. 1. 1. 1. 1. 1. 1. 1. 1. 1. 1. 1. 1. 1. 1.\n",
      " 1. 1. 1. 1. 1. 1. 1. 1. 1. 1. 1. 1. 1. 1. 1. 1. 1. 1. 1. 1. 1. 1. 1. 1.\n",
      " 1. 1. 1. 1. 1. 1. 1. 1. 1. 1. 1. 1. 1. 1. 1. 1. 1. 1. 1. 1. 1. 1. 1. 1.\n",
      " 1. 1. 1. 1. 1. 1. 1. 1. 1. 1. 1. 1. 1. 1. 1. 1. 1. 1. 1. 1. 1. 1. 1. 1.\n",
      " 1. 1. 1. 1. 1. 1. 1. 1. 1. 1. 1. 1. 1. 1. 1. 1. 1. 1. 1. 1. 1. 1. 1. 1.\n",
      " 1. 1. 1. 1. 1. 1. 1. 1. 1. 1. 1. 1. 1. 1. 1. 1. 1. 1. 1. 1. 1. 1. 1. 1.\n",
      " 1. 1. 1. 1. 1. 1. 1. 1. 1. 1. 1. 1. 1. 1. 1. 1. 1. 1. 1. 1. 1. 1. 1. 1.\n",
      " 1. 1. 1. 1. 1. 1. 1. 1. 1. 1. 1. 1. 1. 1. 1. 1. 1. 1. 1. 1. 1. 1. 1. 1.\n",
      " 1. 1. 1. 1. 1. 1. 1. 1. 1. 1. 1. 1. 1. 1. 1. 1. 1. 1. 1. 1. 1. 1. 1. 1.\n",
      " 1. 1. 1. 1. 1. 1. 1. 1. 1. 1. 1. 1. 1. 1. 1. 1. 1. 1. 1. 1. 1. 1. 1. 1.\n",
      " 1.]\n",
      "\t Interval (1333, 1438) 2024-08-01 00:13:00 2024-08-01 01:58:00 0.6053644308076095 [0.13871826 0.16492794 0.19156528 0.21711872 0.24395743 0.27011949\n",
      " 0.29731746 0.32317512 0.34938479 0.37713622 0.4044607  0.42988764\n",
      " 0.45590221 0.48132915 0.50821087 0.53504742 0.56162806 0.58765137\n",
      " 0.61480191 0.64160092 0.66715437 0.69447884 0.72078157 0.72881994\n",
      " 0.72274879 0.71724919 0.71147844 0.70614394 0.70087745 0.69735209\n",
      " 0.696218   0.696218   0.69563251 0.69554346 0.69554346 0.69554346\n",
      " 0.69554346 0.69257158 0.68772401 0.68048243 0.67271255 0.67271255\n",
      " 0.67271255 0.67271255 0.67271255 0.67271255 0.67271255 0.67271255\n",
      " 0.67271255 0.67261049 0.67116283 0.67056518 0.67052774 0.67052774\n",
      " 0.67052774 0.67052774 0.67052774 0.67052774 0.67052774 0.66994232\n",
      " 0.66627421 0.66355471 0.66135948 0.65461629 0.65261003 0.65261003\n",
      " 0.65261003 0.65261003 0.65261003 0.65261003 0.65261003 0.65261003\n",
      " 0.65261003 0.65261003 0.65097762 0.64918679 0.64542403 0.64508333\n",
      " 0.64508333 0.64508333 0.64508333 0.64508333 0.64508333 0.64508333\n",
      " 0.64508333 0.64508333 0.64508333 0.64508333 0.64508333 0.64508333\n",
      " 0.64508333 0.64508333 0.64508333 0.64508333 0.63421222 0.62985984\n",
      " 0.6282963  0.62576645 0.61568101 0.61077494 0.60279041 0.59018358\n",
      " 0.5656116  0.53488335 0.4763357  0.34589041] [0.86764706 0.8125     0.82575758 0.79215686 0.832      0.81102362\n",
      " 0.84313725 0.8015873  0.8125     0.86029412 0.84705882 0.78823529\n",
      " 0.80645161 0.78823529 0.83333333 0.83193277 0.824      0.80672269\n",
      " 0.84166667 0.83076923 0.79215686 0.84705882 0.81538462 0.80909091\n",
      " 0.78823529 0.80451128 0.81203008 0.83464567 0.80451128 0.8034188\n",
      " 0.78823529 0.8442623  0.89411765 0.84496124 0.84251969 0.78813559\n",
      " 0.75757576 0.7804878  0.808      0.8203125  0.75294118 0.61029412\n",
      " 0.64313725 0.6011236  0.61445783 0.63529412 0.60571429 0.61494253\n",
      " 0.61960784 0.63157895 0.5989011  0.59607843 0.61960784 0.61960784\n",
      " 0.63529412 0.61363636 0.61627907 0.60392157 0.65895954 0.74050633\n",
      " 0.7372549  0.73548387 0.88235294 0.93233083 0.84313725 0.78082192\n",
      " 0.84313725 0.80916031 0.89411765 0.         0.60465116 0.60962567\n",
      " 0.60540541 0.61621622 0.61325967 0.65986395 0.82051282 0.7372549\n",
      " 0.60810811 0.61309524 0.56435644 0.55940594 0.58854167 0.57647059\n",
      " 0.57647059 0.59607843 0.67105263 0.68275862 0.65562914 0.61403509\n",
      " 0.61764706 0.63398693 0.61267606 0.78640777 0.68644068 0.64705882\n",
      " 0.65359477 0.71653543 0.65492958 0.66666667 0.67843137 0.71304348\n",
      " 0.68852459 0.71052632 0.73722628 0.69178082] [1. 1. 1. 1. 1. 1. 1. 1. 1. 1. 1. 1. 1. 1. 1. 1. 1. 1. 1. 1. 1. 1. 1. 1.\n",
      " 1. 1. 1. 1. 1. 1. 1. 1. 1. 1. 1. 1. 1. 1. 1. 1. 1. 1. 1. 1. 1. 1. 1. 1.\n",
      " 1. 1. 1. 1. 1. 1. 1. 1. 1. 1. 1. 1. 1. 1. 1. 1. 1. 1. 1. 1. 1. 1. 1. 1.\n",
      " 1. 1. 1. 1. 1. 1. 1. 1. 1. 1. 1. 1. 1. 1. 1. 1. 1. 1. 1. 1. 1. 1. 1. 1.\n",
      " 1. 1. 1. 1. 1. 1. 1. 1. 1. 1.]\n",
      "## 5b66\n",
      "[(10, 418)]\n",
      "\t Interval (10, 418) 2024-07-31 02:10:00 2024-07-31 08:58:00 0.7917144731653366 [0.14814294 0.2045728  0.2526263  0.29424065 0.33062461 0.36227799\n",
      " 0.39056382 0.41570679 0.43820313 0.45844984 0.47676829 0.49297579\n",
      " 0.5082002  0.52215591 0.53499517 0.54684678 0.55782051 0.56758853\n",
      " 0.57442223 0.58466277 0.59834267 0.61412687 0.63668805 0.66341616\n",
      " 0.69166833 0.7193181  0.74651607 0.77381136 0.79575588 0.81244048\n",
      " 0.82380056 0.82981053 0.83043193 0.83088743 0.83094517 0.831145\n",
      " 0.83116789 0.83122722 0.8312663  0.8312663  0.83132956 0.83139281\n",
      " 0.83145606 0.83151931 0.8341126  0.83641896 0.83898252 0.84196144\n",
      " 0.84549244 0.84928097 0.85414477 0.8590673  0.86345813 0.86646511\n",
      " 0.86961645 0.8715682  0.87376059 0.87215376 0.86994273 0.86782262\n",
      " 0.86551585 0.86364593 0.86150885 0.85912315 0.85118767 0.84338876\n",
      " 0.83549576 0.82857248 0.82294928 0.82411966 0.82411966 0.82411966\n",
      " 0.82411966 0.82411966 0.82411966 0.82411966 0.82411966 0.82411966\n",
      " 0.82411966 0.82411966 0.82411966 0.82411966 0.82411966 0.82411966\n",
      " 0.82411966 0.82411966 0.82411966 0.82411966 0.82411966 0.82411966\n",
      " 0.82411966 0.82411966 0.82411966 0.82411966 0.82411966 0.82411966\n",
      " 0.82294928 0.82411966 0.82342471 0.82411966 0.82411966 0.82411966\n",
      " 0.82411966 0.82411966 0.82411966 0.82411966 0.82411966 0.82411966\n",
      " 0.82411966 0.82411966 0.82411966 0.82411966 0.82411966 0.82411966\n",
      " 0.82411966 0.82411966 0.82411966 0.82411966 0.82411966 0.82411966\n",
      " 0.82411966 0.82411966 0.82411966 0.82411966 0.82411966 0.82411966\n",
      " 0.82342471 0.82716533 0.83250765 0.83682946 0.83682946 0.83682946\n",
      " 0.83682946 0.83682946 0.83682946 0.83682946 0.83682946 0.83682946\n",
      " 0.83682946 0.83682946 0.83682946 0.83682946 0.83682946 0.83682946\n",
      " 0.83682946 0.83682946 0.83682946 0.83682946 0.83682946 0.83682946\n",
      " 0.83682946 0.83682946 0.83682946 0.83682946 0.83682946 0.83682946\n",
      " 0.83682946 0.83732518 0.83703524 0.83732518 0.83732518 0.83732518\n",
      " 0.83732518 0.83732518 0.83732518 0.83732518 0.83732518 0.83732518\n",
      " 0.83732518 0.83732518 0.83732518 0.83732518 0.83732518 0.83732518\n",
      " 0.83732518 0.83732518 0.83732518 0.83732518 0.83732518 0.83732518\n",
      " 0.83732518 0.83732518 0.83732518 0.83732518 0.83732518 0.83732518\n",
      " 0.83703524 0.8373909  0.83793111 0.83823789 0.83875374 0.83902951\n",
      " 0.83902951 0.83902951 0.83942293 0.84028412 0.84096698 0.84158038\n",
      " 0.84201738 0.84265167 0.84401785 0.84430962 0.84497612 0.84575415\n",
      " 0.84642632 0.84689836 0.84753258 0.84761709 0.8476742  0.8476742\n",
      " 0.84792231 0.84827055 0.84844834 0.84866039 0.8488274  0.84907551\n",
      " 0.84952731 0.84972165 0.84979134 0.84990429 0.85047716 0.85075857\n",
      " 0.85127487 0.85147746 0.85154632 0.85154632 0.85154632 0.85154632\n",
      " 0.85154632 0.85154632 0.85154632 0.85154632 0.85154632 0.85154632\n",
      " 0.85154632 0.85154632 0.85154632 0.85154632 0.85154632 0.85154632\n",
      " 0.85154632 0.85217074 0.85237601 0.85274423 0.85316684 0.85153294\n",
      " 0.84548548 0.8395059  0.83350385 0.83053706 0.83053706 0.83053706\n",
      " 0.83053706 0.83053706 0.83053706 0.83053706 0.83053706 0.83053706\n",
      " 0.83053706 0.83053706 0.83053706 0.83053706 0.83053706 0.83053706\n",
      " 0.83053706 0.83053706 0.83053706 0.83053706 0.83053706 0.83053706\n",
      " 0.83053706 0.83053706 0.83053706 0.83053706 0.83053706 0.83053706\n",
      " 0.83053706 0.82964922 0.83053706 0.83053706 0.83053706 0.83053706\n",
      " 0.83053706 0.83053706 0.83053706 0.83053706 0.83053706 0.83053706\n",
      " 0.83053706 0.83053706 0.83053706 0.83053706 0.83053706 0.83053706\n",
      " 0.83053706 0.83053706 0.83053706 0.83053706 0.83053706 0.83053706\n",
      " 0.83053706 0.83053706 0.83053706 0.83053706 0.83053706 0.82964922\n",
      " 0.8356931  0.8417506  0.84787732 0.85074961 0.84991318 0.84983926\n",
      " 0.84961363 0.84937118 0.84937118 0.84925599 0.8488836  0.84879937\n",
      " 0.84862862 0.84822836 0.84784207 0.84766088 0.84728572 0.84714262\n",
      " 0.84700936 0.84674578 0.84674578 0.84674578 0.84674578 0.84674578\n",
      " 0.84674578 0.84674578 0.84674578 0.84674578 0.84674578 0.84674578\n",
      " 0.84674578 0.84674578 0.84674578 0.84674578 0.84674578 0.84674578\n",
      " 0.84674578 0.84674578 0.84674578 0.84674578 0.84674578 0.84551407\n",
      " 0.84490165 0.84396669 0.84259172 0.84159699 0.84116488 0.84047976\n",
      " 0.84000894 0.83966995 0.8389639  0.83858439 0.83817044 0.83817044\n",
      " 0.83817044 0.83817044 0.83817044 0.83817044 0.83817044 0.83817044\n",
      " 0.83817044 0.83817044 0.83817044 0.83817044 0.83817044 0.83817044\n",
      " 0.83817044 0.83742776 0.83644788 0.8362166  0.8362166  0.8362166\n",
      " 0.8362166  0.8362166  0.8362166  0.83077797 0.82062177 0.80503378\n",
      " 0.78362166 0.75642369 0.73049073 0.70329276 0.67609478 0.64877714\n",
      " 0.62233134 0.59639839 0.56920041 0.54293721 0.51700425 0.4910713\n",
      " 0.46387332 0.43667535 0.40947737 0.3822794  0.35508142 0.32780631\n",
      " 0.30060833 0.27227184 0.24478665 0.21758867 0.1903907  0.16319272\n",
      " 0.13599475] [0.81528662 0.8253012  0.82926829 0.83522727 0.84       0.83707865\n",
      " 0.84313725 0.84313725 0.84313725 0.84313725 0.84313725 0.83333333\n",
      " 0.84313725 0.84313725 0.84313725 0.84313725 0.84313725 0.8313253\n",
      " 0.76576577 0.76470588 0.76666667 0.7254902  0.82222222 0.82857143\n",
      " 0.87581699 0.85714286 0.84313725 0.84615385 0.84313725 0.84313725\n",
      " 0.84313725 0.84313725 0.84313725 0.84313725 0.83516484 0.84313725\n",
      " 0.84042553 0.84313725 0.84313725 0.84313725 0.84313725 0.84313725\n",
      " 0.84313725 0.84313725 0.92156863 0.91463415 0.9202454  0.91764706\n",
      " 0.91907514 0.91176471 0.92156863 0.92156863 0.91764706 0.8969697\n",
      " 0.91954023 0.90588235 0.91812865 0.92156863 0.91875    0.92485549\n",
      " 0.91304348 0.92307692 0.92156863 0.92156863 0.91515152 0.91447368\n",
      " 0.87951807 0.84313725 0.84313725 0.84313725 0.84313725 0.84313725\n",
      " 0.85024155 0.84313725 0.84313725 0.84313725 0.85128205 0.86413043\n",
      " 0.85326087 0.85245902 0.84699454 0.84324324 0.85789474 0.85863874\n",
      " 0.87765957 0.87165775 0.86021505 0.85245902 0.85245902 0.85\n",
      " 0.85       0.86021505 0.85405405 0.86111111 0.85875706 0.80392157\n",
      " 0.         0.84313725 0.84313725 0.83428571 0.82352941 0.83798883\n",
      " 0.8245614  0.83428571 0.83707865 0.83428571 0.82738095 0.83625731\n",
      " 0.83522727 0.84       0.83139535 0.84313725 0.83815029 0.83333333\n",
      " 0.84313725 0.83815029 0.84313725 0.84313725 0.84313725 0.84313725\n",
      " 0.84313725 0.84313725 0.84313725 0.84313725 0.84313725 0.84313725\n",
      " 0.84313725 0.83425414 0.83050847 0.84313725 0.84313725 0.84180791\n",
      " 0.83333333 0.83798883 0.83888889 0.82758621 0.83798883 0.83977901\n",
      " 0.83707865 0.83888889 0.8423913  0.84090909 0.84180791 0.84065934\n",
      " 0.83707865 0.84090909 0.84065934 0.83522727 0.83522727 0.8423913\n",
      " 0.83522727 0.84180791 0.83428571 0.83522727 0.83888889 0.8423913\n",
      " 0.82248521 0.83908046 0.80981595 0.81818182 0.8245614  0.83428571\n",
      " 0.83707865 0.83236994 0.83707865 0.83522727 0.83428571 0.84090909\n",
      " 0.84313725 0.83707865 0.82857143 0.84153005 0.83522727 0.84\n",
      " 0.83888889 0.83428571 0.84313725 0.84313725 0.84313725 0.84313725\n",
      " 0.84313725 0.84313725 0.84313725 0.84313725 0.84313725 0.84313725\n",
      " 0.84313725 0.84313725 0.84313725 0.83233533 0.84117647 0.83333333\n",
      " 0.82208589 0.83428571 0.85340314 0.86190476 0.85714286 0.85714286\n",
      " 0.85167464 0.85645933 0.88059701 0.84615385 0.85714286 0.86096257\n",
      " 0.85882353 0.85294118 0.85955056 0.84313725 0.84313725 0.84313725\n",
      " 0.85082873 0.85393258 0.84864865 0.84971098 0.84831461 0.85082873\n",
      " 0.85714286 0.84916201 0.84313725 0.84408602 0.85638298 0.84313725\n",
      " 0.84864865 0.84313725 0.84313725 0.84313725 0.84864865 0.84946237\n",
      " 0.84313725 0.84324324 0.859375   0.859375   0.86082474 0.85714286\n",
      " 0.85789474 0.85863874 0.85863874 0.84946237 0.86153846 0.86082474\n",
      " 0.86153846 0.86734694 0.85561497 0.86170213 0.86338798 0.86243386\n",
      " 0.86243386 0.86772487 0.86170213 0.86243386 0.86772487 0.86170213\n",
      " 0.86702128 0.86842105 0.86096257 0.85638298 0.87368421 0.86702128\n",
      " 0.86096257 0.86096257 0.85561497 0.86096257 0.86486486 0.85869565\n",
      " 0.86096257 0.85483871 0.84864865 0.84313725 0.84313725 0.84313725\n",
      " 0.84699454 0.84864865 0.84324324 0.85245902 0.84313725 0.83139535\n",
      " 0.84313725 0.         0.85714286 0.85365854 0.85436893 0.86124402\n",
      " 0.85365854 0.85221675 0.8647343  0.85436893 0.86538462 0.86124402\n",
      " 0.86407767 0.86893204 0.86407767 0.8627451  0.85221675 0.86699507\n",
      " 0.85784314 0.85784314 0.86341463 0.86206897 0.86206897 0.86138614\n",
      " 0.85074627 0.845      0.84653465 0.86206897 0.8627451  0.84924623\n",
      " 0.86138614 0.8627451  0.86699507 0.86341463 0.85148515 0.85784314\n",
      " 0.86206897 0.84653465 0.85643564 0.86206897 0.855      0.85572139\n",
      " 0.85784314 0.85784314 0.85148515 0.85572139 0.85148515 0.85074627\n",
      " 0.86138614 0.85643564 0.86341463 0.85643564 0.84422111 0.85714286\n",
      " 0.85148515 0.84771574 0.855      0.85436893 0.85416667 0.87817259\n",
      " 0.85380117 0.75       0.7962963  0.83486239 0.86607143 0.84705882\n",
      " 0.84313725 0.85483871 0.84313725 0.85294118 0.87027027 0.84313725\n",
      " 0.84313725 0.85245902 0.84313725 0.84530387 0.84530387 0.84313725\n",
      " 0.84357542 0.8579235  0.84313725 0.84916201 0.86413043 0.84313725\n",
      " 0.84313725 0.85164835 0.84313725 0.84313725 0.84313725 0.84313725\n",
      " 0.80392157 0.80392157 0.80392157 0.80392157 0.84137931 0.84313725\n",
      " 0.875      0.88235294 0.90780142 0.8828125  0.8707483  0.84210526\n",
      " 0.81967213 0.74509804 0.84313725 0.82075472 0.82051282 0.832\n",
      " 0.84313725 0.80392157 0.84313725 0.84313725 0.84684685 0.81981982\n",
      " 0.80392157 0.84313725 0.81415929 0.80392157 0.80392157 0.84313725\n",
      " 0.84313725 0.84313725 0.84313725 0.84313725 0.84552846 0.84313725\n",
      " 0.87843137 0.85204082 0.84313725 0.84313725 0.84313725 0.84313725\n",
      " 0.84313725] [1. 1. 1. 1. 1. 1. 1. 1. 1. 1. 1. 1. 1. 1. 1. 1. 1. 1. 1. 1. 1. 1. 1. 1.\n",
      " 1. 1. 1. 1. 1. 1. 1. 1. 1. 1. 1. 1. 1. 1. 1. 1. 1. 1. 1. 1. 1. 1. 1. 1.\n",
      " 1. 1. 1. 1. 1. 1. 1. 1. 1. 1. 1. 1. 1. 1. 1. 1. 1. 1. 1. 1. 1. 1. 1. 1.\n",
      " 1. 1. 1. 1. 1. 1. 1. 1. 1. 1. 1. 1. 1. 1. 1. 1. 1. 1. 1. 1. 1. 1. 1. 1.\n",
      " 1. 1. 1. 1. 1. 1. 1. 1. 1. 1. 1. 1. 1. 1. 1. 1. 1. 1. 1. 1. 1. 1. 1. 1.\n",
      " 1. 1. 1. 1. 1. 1. 1. 1. 1. 1. 1. 1. 1. 1. 1. 1. 1. 1. 1. 1. 1. 1. 1. 1.\n",
      " 1. 1. 1. 1. 1. 1. 1. 1. 1. 1. 1. 1. 1. 1. 1. 1. 1. 1. 1. 1. 1. 1. 1. 1.\n",
      " 1. 1. 1. 1. 1. 1. 1. 1. 1. 1. 1. 1. 1. 1. 1. 1. 1. 1. 1. 1. 1. 1. 1. 1.\n",
      " 1. 1. 1. 1. 1. 1. 1. 1. 1. 1. 1. 1. 1. 1. 1. 1. 1. 1. 1. 1. 1. 1. 1. 1.\n",
      " 1. 1. 1. 1. 1. 1. 1. 1. 1. 1. 1. 1. 1. 1. 1. 1. 1. 1. 1. 1. 1. 1. 1. 1.\n",
      " 1. 1. 1. 1. 1. 1. 1. 1. 1. 1. 1. 1. 1. 1. 1. 1. 1. 1. 1. 1. 1. 1. 1. 1.\n",
      " 1. 1. 1. 1. 1. 1. 1. 1. 1. 1. 1. 1. 1. 1. 1. 1. 1. 1. 1. 1. 1. 1. 1. 1.\n",
      " 1. 1. 1. 1. 1. 1. 1. 1. 1. 1. 1. 1. 1. 1. 1. 1. 1. 1. 1. 1. 1. 1. 1. 1.\n",
      " 1. 1. 1. 1. 1. 1. 1. 1. 1. 1. 1. 1. 1. 1. 1. 1. 1. 1. 1. 1. 1. 1. 1. 1.\n",
      " 1. 1. 1. 1. 1. 1. 1. 1. 1. 1. 1. 1. 1. 1. 1. 1. 1. 1. 1. 1. 1. 1. 1. 1.\n",
      " 1. 1. 1. 1. 1. 1. 1. 1. 1. 1. 1. 1. 1. 1. 1. 1. 1. 1. 1. 1. 1. 1. 1. 1.\n",
      " 1. 1. 1. 1. 1. 1. 1. 1. 1. 1. 1. 1. 1. 1. 1. 1. 1. 1. 1. 1. 1. 1. 1. 1.\n",
      " 1.]\n",
      "## ed9c\n",
      "[(1, 287), (799, 964), (1430, 1438)]\n",
      "\t Interval (1, 287) 2024-07-31 02:01:00 2024-07-31 06:47:00 0.8637066298426799 [0.45490196 0.60957428 0.68691044 0.73250708 0.76290483 0.78531644\n",
      " 0.80207124 0.81460706 0.82468075 0.83320779 0.84001494 0.84577484\n",
      " 0.85096794 0.85513765 0.85917818 0.86248204 0.86561743 0.86818696\n",
      " 0.8705448  0.87265665 0.87455583 0.87630964 0.87789835 0.87955661\n",
      " 0.88113654 0.88243631 0.88383023 0.88512801 0.8921413  0.89870121\n",
      " 0.90505925 0.91099145 0.91694601 0.91694601 0.91694601 0.91694601\n",
      " 0.91694601 0.91694601 0.91694601 0.91694601 0.91694601 0.91694601\n",
      " 0.91694601 0.91694601 0.91694601 0.91694601 0.91694601 0.91694601\n",
      " 0.91694601 0.91694601 0.91694601 0.91694601 0.91694601 0.91694601\n",
      " 0.91694601 0.91694601 0.91694601 0.91694601 0.91710786 0.91729948\n",
      " 0.91753644 0.91780157 0.91811377 0.91845875 0.91886331 0.91932226\n",
      " 0.91982827 0.92031501 0.92075747 0.92114137 0.92146523 0.92176651\n",
      " 0.92203999 0.9223107  0.92253052 0.92278972 0.92300955 0.92322937\n",
      " 0.92350008 0.92336576 0.92310904 0.92282151 0.92254832 0.92228533\n",
      " 0.92202234 0.92175488 0.92146763 0.92107184 0.92060729 0.92010128\n",
      " 0.91960677 0.91911227 0.91863074 0.91813623 0.9176811  0.91717509\n",
      " 0.9167264  0.91631763 0.91590886 0.91550009 0.91509132 0.91492214\n",
      " 0.91492214 0.91492214 0.91492214 0.91492214 0.91492214 0.91492214\n",
      " 0.91492214 0.91492214 0.91492214 0.91492214 0.91492214 0.91492214\n",
      " 0.91492214 0.91492214 0.91492214 0.91492214 0.91492214 0.91492214\n",
      " 0.91492214 0.91492214 0.91492214 0.91492214 0.91492214 0.91492214\n",
      " 0.91492214 0.91492214 0.91492214 0.91492214 0.91492214 0.91492214\n",
      " 0.91492214 0.91492214 0.91492214 0.91492214 0.91492214 0.91492214\n",
      " 0.91492214 0.91492214 0.91492214 0.91492214 0.91492214 0.91492214\n",
      " 0.91492214 0.91492214 0.91492214 0.91492214 0.91492214 0.91492214\n",
      " 0.91492214 0.91492214 0.91492214 0.91492214 0.91492214 0.91492214\n",
      " 0.91492214 0.9148893  0.91481608 0.91481608 0.91481608 0.91481608\n",
      " 0.91481608 0.91489272 0.91492214 0.91492214 0.91492214 0.91492214\n",
      " 0.91492214 0.91492214 0.91492214 0.91492214 0.91492214 0.91492214\n",
      " 0.91492214 0.91492214 0.91492214 0.91492214 0.91492214 0.91492214\n",
      " 0.91492214 0.91492214 0.91492214 0.91492214 0.91492214 0.9148893\n",
      " 0.91481608 0.91481608 0.91481608 0.91481608 0.91481608 0.91489272\n",
      " 0.91517887 0.91543391 0.91543939 0.91543939 0.91566773 0.91566773\n",
      " 0.91566773 0.91566773 0.91579847 0.91611514 0.91622229 0.91622229\n",
      " 0.91622229 0.91622674 0.91618998 0.91608827 0.91608827 0.91589426\n",
      " 0.91562215 0.91534775 0.91500423 0.91507972 0.91507972 0.91507972\n",
      " 0.91507972 0.91509919 0.91534553 0.91560645 0.91585236 0.91585236\n",
      " 0.91585236 0.91585236 0.91585236 0.91585236 0.91585236 0.91585236\n",
      " 0.91585236 0.91585236 0.91585236 0.91585236 0.91585236 0.91585236\n",
      " 0.91585236 0.91585236 0.91585236 0.91585236 0.91562215 0.91534775\n",
      " 0.91500423 0.91507972 0.91507972 0.91507972 0.91507972 0.91509919\n",
      " 0.91534553 0.91560645 0.91585236 0.91581411 0.91553347 0.91524729\n",
      " 0.91495832 0.91468212 0.91464846 0.91250215 0.90077856 0.88313035\n",
      " 0.85949744 0.83331539 0.80714713 0.78113137 0.75483555 0.72868122\n",
      " 0.69895651 0.66937269 0.63978887 0.61020505 0.58062123 0.55120454\n",
      " 0.52162072 0.49205083 0.46246701 0.43875289 0.42066639 0.40831708\n",
      " 0.39598156 0.38363226 0.36541325 0.34142575 0.31175523 0.28224643\n",
      " 0.25239191 0.22254393 0.19268941 0.16299732 0.1331428 ] [0.90980392 0.91891892 0.91891892 0.91489362 0.91489362 0.9197861\n",
      " 0.91935484 0.91489362 0.91534392 0.91847826 0.91489362 0.91489362\n",
      " 0.91847826 0.91351351 0.9197861  0.91534392 0.91891892 0.9144385\n",
      " 0.91534392 0.91489362 0.9144385  0.91489362 0.9144385  0.91935484\n",
      " 0.92063492 0.91623037 0.92146597 0.92146597 0.91709845 0.91666667\n",
      " 0.92105263 0.9144385  0.91709845 0.90980392 0.90980392 0.90980392\n",
      " 0.90980392 0.90980392 0.9127907  0.91666667 0.91709845 0.91709845\n",
      " 0.91709845 0.91709845 0.91709845 0.91709845 0.91709845 0.91709845\n",
      " 0.91709845 0.91709845 0.91709845 0.91709845 0.91709845 0.91709845\n",
      " 0.92146597 0.9254902  0.9254902  0.9254902  0.9254902  0.9254902\n",
      " 0.9254902  0.9254902  0.9254902  0.92513369 0.92473118 0.9254902\n",
      " 0.9254902  0.9254902  0.9254902  0.92513369 0.92473118 0.9254902\n",
      " 0.9254902  0.9254902  0.92391304 0.92513369 0.92391304 0.92391304\n",
      " 0.9254902  0.9254902  0.9254902  0.92513369 0.92473118 0.92473118\n",
      " 0.92349727 0.92265193 0.92473118 0.9254902  0.9254902  0.92513369\n",
      " 0.92513369 0.92473118 0.92513369 0.92391304 0.9254902  0.92473118\n",
      " 0.9254902  0.9254902  0.9254902  0.9254902  0.9254902  0.92513369\n",
      " 0.91847826 0.9197861  0.91935484 0.91891892 0.9197861  0.91666667\n",
      " 0.921875   0.91578947 0.91709845 0.91623037 0.91666667 0.91709845\n",
      " 0.91623037 0.91666667 0.91623037 0.90980392 0.90980392 0.90980392\n",
      " 0.90980392 0.90980392 0.90980392 0.90980392 0.90980392 0.90980392\n",
      " 0.90980392 0.90980392 0.91489362 0.9197861  0.90980392 0.90980392\n",
      " 0.90980392 0.90980392 0.90980392 0.90980392 0.90980392 0.90980392\n",
      " 0.9254902  0.91709845 0.91709845 0.91709845 0.91709845 0.91666667\n",
      " 0.9119171  0.91237113 0.91752577 0.91752577 0.91752577 0.91752577\n",
      " 0.91752577 0.91752577 0.92105263 0.91709845 0.91709845 0.91752577\n",
      " 0.91709845 0.90980392 0.90980392 0.90980392 0.90980392 0.91616766\n",
      " 0.91061453 0.90980392 0.9132948  0.91011236 0.91061453 0.90980392\n",
      " 0.90980392 0.90980392 0.90980392 0.91666667 0.91764706 0.91525424\n",
      " 0.91573034 0.91573034 0.92265193 0.92121212 0.91061453 0.92045455\n",
      " 0.91712707 0.92178771 0.92156863 0.92156863 0.92222222 0.92156863\n",
      " 0.91428571 0.91758242 0.91954023 0.91525424 0.90980392 0.90980392\n",
      " 0.90980392 0.91666667 0.91907514 0.90980392 0.92090395 0.92\n",
      " 0.92349727 0.90980392 0.90980392 0.91534392 0.92063492 0.91534392\n",
      " 0.91489362 0.91351351 0.91477273 0.90980392 0.90980392 0.90980392\n",
      " 0.90980392 0.90980392 0.90980392 0.90980392 0.91304348 0.92105263\n",
      " 0.92513369 0.91666667 0.91666667 0.91666667 0.92105263 0.92146597\n",
      " 0.91752577 0.91709845 0.91623037 0.91623037 0.91709845 0.92105263\n",
      " 0.92146597 0.921875   0.91709845 0.91578947 0.92146597 0.921875\n",
      " 0.91709845 0.91666667 0.90980392 0.90980392 0.90849673 0.90980392\n",
      " 0.91463415 0.91907514 0.92156863 0.92134831 0.90980392 0.90980392\n",
      " 0.90980392 0.90980392 0.90980392 0.90980392 0.90980392 0.90980392\n",
      " 0.90980392 0.91011236 0.91666667 0.91752577 0.91709845 0.91752577\n",
      " 0.91752577 0.91709845 0.91237113 0.92105263 0.91666667 0.92146597\n",
      " 0.91709845 0.91709845 0.91709845 0.91709845 0.9119171  0.91709845\n",
      " 0.91666667 0.91709845 0.91709845 0.92146597 0.91752577 0.91709845\n",
      " 0.91752577 0.91752577 0.91752577 0.9197861  0.91477273 0.9254902\n",
      " 0.92528736 0.9254902  0.92045455 0.9254902  0.9245283 ] [1. 1. 1. 1. 1. 1. 1. 1. 1. 1. 1. 1. 1. 1. 1. 1. 1. 1. 1. 1. 1. 1. 1. 1.\n",
      " 1. 1. 1. 1. 1. 1. 1. 1. 1. 1. 1. 1. 1. 1. 1. 1. 1. 1. 1. 1. 1. 1. 1. 1.\n",
      " 1. 1. 1. 1. 1. 1. 1. 1. 1. 1. 1. 1. 1. 1. 1. 1. 1. 1. 1. 1. 1. 1. 1. 1.\n",
      " 1. 1. 1. 1. 1. 1. 1. 1. 1. 1. 1. 1. 1. 1. 1. 1. 1. 1. 1. 1. 1. 1. 1. 1.\n",
      " 1. 1. 1. 1. 1. 1. 1. 1. 1. 1. 1. 1. 1. 1. 1. 1. 1. 1. 1. 1. 1. 1. 1. 1.\n",
      " 1. 1. 1. 1. 1. 1. 1. 1. 1. 1. 1. 1. 1. 1. 1. 1. 1. 1. 1. 1. 1. 1. 1. 1.\n",
      " 1. 1. 1. 1. 1. 1. 1. 1. 1. 1. 1. 1. 1. 1. 1. 1. 1. 1. 1. 1. 1. 1. 1. 1.\n",
      " 1. 1. 1. 1. 1. 1. 1. 1. 1. 1. 1. 1. 1. 1. 1. 1. 1. 1. 1. 1. 1. 1. 1. 1.\n",
      " 1. 1. 1. 1. 1. 1. 1. 1. 1. 1. 1. 1. 1. 1. 1. 1. 1. 1. 1. 1. 1. 1. 1. 1.\n",
      " 1. 1. 1. 1. 1. 1. 1. 1. 1. 1. 1. 1. 1. 1. 1. 1. 1. 1. 1. 1. 1. 1. 1. 1.\n",
      " 1. 1. 1. 1. 1. 1. 1. 1. 1. 1. 1. 1. 1. 1. 1. 1. 1. 1. 1. 1. 1. 1. 1. 1.\n",
      " 1. 1. 1. 1. 1. 1. 1. 1. 1. 1. 1. 1. 1. 1. 1. 1. 1. 1. 1. 1. 1. 1. 1.]\n",
      "\t Interval (799, 964) 2024-07-31 15:19:00 2024-07-31 18:04:00 0.7564866809651136 [0.13927817 0.16908182 0.19892484 0.22877936 0.25863389 0.28847691\n",
      " 0.31828056 0.33805163 0.33805163 0.33805163 0.33805163 0.33805163\n",
      " 0.33805163 0.33805163 0.36740014 0.39698716 0.42633567 0.45583369\n",
      " 0.48544765 0.51518555 0.54492064 0.57459116 0.60431587 0.63401377\n",
      " 0.66373847 0.68942417 0.70911693 0.722766   0.73043646 0.73216465\n",
      " 0.73220482 0.73220482 0.73220482 0.73220482 0.73220482 0.73220482\n",
      " 0.73330728 0.74105044 0.75476449 0.7744608  0.80010419 0.8297018\n",
      " 0.85913948 0.8828536  0.90073701 0.9125929  0.91851369 0.91883813\n",
      " 0.91903201 0.91918322 0.91927002 0.9192983  0.91930978 0.91932391\n",
      " 0.91933999 0.91933999 0.91933999 0.91933999 0.91933999 0.91933999\n",
      " 0.91934707 0.91944996 0.91939132 0.91938702 0.91938702 0.91859282\n",
      " 0.91834325 0.91834325 0.91834325 0.91834325 0.91834325 0.91834325\n",
      " 0.91834325 0.91834325 0.91834325 0.91834325 0.91834325 0.91834325\n",
      " 0.91834325 0.91834325 0.91820721 0.91820721 0.91820721 0.91820721\n",
      " 0.91820721 0.91820721 0.91820721 0.91820721 0.91820721 0.91820721\n",
      " 0.91820721 0.91820721 0.91820721 0.91820721 0.91820721 0.91820721\n",
      " 0.91820721 0.91820721 0.91820721 0.91820721 0.91820721 0.91820721\n",
      " 0.91820721 0.91820721 0.91820721 0.91820721 0.91820721 0.91820721\n",
      " 0.91820721 0.91811191 0.91811191 0.91795003 0.91773378 0.91751753\n",
      " 0.91750133 0.91743817 0.91743817 0.91743817 0.91743817 0.91743817\n",
      " 0.91743817 0.91743817 0.91743817 0.91743817 0.91743817 0.91743817\n",
      " 0.91743817 0.91732616 0.91708206 0.91705769 0.91705769 0.91705769\n",
      " 0.91705769 0.91705769 0.91705769 0.91705769 0.91705769 0.91705769\n",
      " 0.91111204 0.89908123 0.88128226 0.85786923 0.82890022 0.79993121\n",
      " 0.7705827  0.74134158 0.71167106 0.68210116 0.65253127 0.62296138\n",
      " 0.5935447  0.56397481 0.53440491 0.50469354 0.47510972 0.44553982\n",
      " 0.41582845 0.38624463 0.35667474 0.32711892 0.29747637 0.26783383\n",
      " 0.2379793  0.20818907 0.17833455 0.1487498 ] [0.92105263 0.92391304 0.92513369 0.9254902  0.9254902  0.92513369\n",
      " 0.92391304 0.61290323 0.         0.         0.         0.\n",
      " 0.         0.         0.90980392 0.91719745 0.90980392 0.9144385\n",
      " 0.91803279 0.921875   0.92178771 0.9197861  0.92146597 0.92063492\n",
      " 0.92146597 0.92352941 0.921875   0.91847826 0.91709845 0.91709845\n",
      " 0.92227979 0.921875   0.91709845 0.91623037 0.921875   0.91709845\n",
      " 0.921875   0.91752577 0.91752577 0.91794872 0.91752577 0.91752577\n",
      " 0.91256831 0.91709845 0.9197861  0.91489362 0.9137931  0.92391304\n",
      " 0.92227979 0.921875   0.921875   0.92146597 0.92146597 0.92146597\n",
      " 0.921875   0.91666667 0.91666667 0.92227979 0.92227979 0.92227979\n",
      " 0.921875   0.92227979 0.91709845 0.91752577 0.921875   0.91752577\n",
      " 0.921875   0.91666667 0.92227979 0.921875   0.91666667 0.92227979\n",
      " 0.92146597 0.92227979 0.92227979 0.91709845 0.92227979 0.9144385\n",
      " 0.9137931  0.9254902  0.9254902  0.92473118 0.91891892 0.92222222\n",
      " 0.9254902  0.91847826 0.92391304 0.92432432 0.91847826 0.92349727\n",
      " 0.92391304 0.92134831 0.92178771 0.89411765 0.89411765 0.89411765\n",
      " 0.89411765 0.90980392 0.9254902  0.92473118 0.92513369 0.9254902\n",
      " 0.91666667 0.91578947 0.92513369 0.92021277 0.9254902  0.92105263\n",
      " 0.92146597 0.91666667 0.92146597 0.91666667 0.91666667 0.91666667\n",
      " 0.92146597 0.91666667 0.92105263 0.91666667 0.91666667 0.91666667\n",
      " 0.92146597 0.92063492 0.92146597 0.92063492 0.91623037 0.91666667\n",
      " 0.92146597 0.92513369 0.92063492 0.92513369 0.92063492 0.92\n",
      " 0.92349727 0.92473118 0.92105263 0.92063492 0.92146597 0.92146597\n",
      " 0.9254902  0.92021277 0.90980392 0.89803922 0.89803922 0.90980392\n",
      " 0.90647482 0.9197861  0.91666667 0.91666667 0.91666667 0.9119171\n",
      " 0.91666667 0.91666667 0.92105263 0.91709845 0.91666667 0.92105263\n",
      " 0.91709845 0.91666667 0.91623037 0.91891892 0.91891892 0.9254902\n",
      " 0.92349727 0.9254902  0.91712707 0.9254902 ] [1. 1. 1. 1. 1. 1. 1. 1. 1. 1. 1. 1. 1. 1. 1. 1. 1. 1. 1. 1. 1. 1. 1. 1.\n",
      " 1. 1. 1. 1. 1. 1. 1. 1. 1. 1. 1. 1. 1. 1. 1. 1. 1. 1. 1. 1. 1. 1. 1. 1.\n",
      " 1. 1. 1. 1. 1. 1. 1. 1. 1. 1. 1. 1. 1. 1. 1. 1. 1. 1. 1. 1. 1. 1. 1. 1.\n",
      " 1. 1. 1. 1. 1. 1. 1. 1. 1. 1. 1. 1. 1. 1. 1. 1. 1. 1. 1. 1. 1. 1. 1. 1.\n",
      " 1. 1. 1. 1. 1. 1. 1. 1. 1. 1. 1. 1. 1. 1. 1. 1. 1. 1. 1. 1. 1. 1. 1. 1.\n",
      " 1. 1. 1. 1. 1. 1. 1. 1. 1. 1. 1. 1. 1. 1. 1. 1. 1. 1. 1. 1. 1. 1. 1. 1.\n",
      " 1. 1. 1. 1. 1. 1. 1. 1. 1. 1. 1. 1. 1. 1. 1. 1. 1. 1. 1. 1. 1. 1.]\n",
      "\t Interval (1430, 1438) 2024-08-01 01:50:00 2024-08-01 01:58:00 0.24946459451700662 [0.13066188 0.16039697 0.19005034 0.21971293 0.24939035 0.27916703\n",
      " 0.30889505 0.33859295 0.36831386] [0.91935484 0.92178771 0.91925466 0.91954023 0.92       0.92307692\n",
      " 0.92156863 0.92063492 0.92134831] [1. 1. 1. 1. 1. 1. 1. 1. 1.]\n",
      "##### kitchen\n",
      "## 16fe\n",
      "[(338, 338), (563, 568), (763, 790)]\n",
      "\t Interval (338, 338) 2024-07-31 07:38:00 2024-07-31 07:38:00 0.18431372549019606 [0.18431373] [0.57647059] [1.]\n",
      "\t Interval (563, 568) 2024-07-31 11:23:00 2024-07-31 11:28:00 0.20260441872508975 [0.1512605  0.23081232 0.30270509 0.22707484 0.15188687 0.15188687] [0.52941176 0.55686275 0.52941176 0.52631579 0.         0.5503876 ] [1. 1. 1. 1. 1. 1.]\n",
      "\t Interval (763, 790) 2024-07-31 14:43:00 2024-07-31 15:10:00 0.7013159834698158 [0.20972549 0.33487307 0.45588147 0.58544958 0.69057661 0.77748305\n",
      " 0.83879975 0.85413193 0.83998211 0.83285686 0.83285686 0.83310249\n",
      " 0.83386614 0.83285686 0.83285686 0.83310249 0.83386614 0.83524952\n",
      " 0.84265798 0.8529292  0.84612924 0.81612924 0.78341737 0.70330532\n",
      " 0.6162465  0.4907563  0.36246499 0.23529412] [0.672      0.87603306 0.84705882 0.90697674 0.8951049  0.90196078\n",
      " 0.89803922 0.90980392 0.88372093 0.87843137 0.89019608 0.90131579\n",
      " 0.8015873  0.56329114 0.89019608 0.90066225 0.89803922 0.88073394\n",
      " 0.85882353 0.91034483 0.89705882 0.73643411 0.89019608 0.76078431\n",
      " 0.87843137 0.89803922 0.89019608 0.89019608] [1. 1. 1. 1. 1. 1. 1. 1. 1. 1. 1. 1. 1. 1. 1. 1. 1. 1. 1. 1. 1. 1. 1. 1.\n",
      " 1. 1. 1. 1.]\n",
      "## 5b66\n",
      "[(1, 7), (425, 439), (459, 473), (476, 481), (484, 495), (643, 739), (758, 848), (1039, 1039), (1063, 1088), (1153, 1156), (1174, 1247), (1426, 1438)]\n",
      "\t Interval (1, 7) 2024-07-31 02:01:00 2024-07-31 02:07:00 0.451487449499754 [0.44901961 0.58562092 0.56666667 0.5185673  0.43920222 0.3596504\n",
      " 0.24168503] [0.89803922 0.85882353 0.50980392 0.55555556 0.55686275 0.82575758\n",
      " 0.85483871] [1. 1. 1. 1. 1. 1. 1.]\n",
      "\t Interval (425, 439) 2024-07-31 09:05:00 2024-07-31 09:19:00 0.31767862529304736 [0.1806312  0.29435669 0.40247994 0.48468943 0.4675129  0.4675129\n",
      " 0.4675129  0.46656873 0.42888854 0.33487659 0.25262935 0.12938005\n",
      " 0.12938005 0.12938005 0.12938005] [0.65151515 0.79607843 0.75686275 0.74242424 0.         0.\n",
      " 0.62295082 0.55686275 0.83921569 0.75686275 0.8627451  0.\n",
      " 0.         0.         0.90566038] [1. 1. 1. 1. 1. 1. 1. 1. 1. 1. 1. 1. 1. 1. 1.]\n",
      "\t Interval (459, 473) 2024-07-31 09:39:00 2024-07-31 09:53:00 0.21630498935948125 [0.21481696 0.33981696 0.42467572 0.30142642 0.20161345 0.20161345\n",
      " 0.20161345 0.20161345 0.20161345 0.20161345 0.20161345 0.1466352\n",
      " 0.13530315 0.13530315 0.13530315] [0.74509804 0.875      0.8627451  0.87843137 0.         0.67241379\n",
      " 0.55913978 0.         0.         0.         0.         0.\n",
      " 0.         0.         0.83529412] [1. 1. 1. 1. 1. 1. 1. 1. 1. 1. 1. 1. 1. 1. 1.]\n",
      "\t Interval (476, 481) 2024-07-31 09:56:00 2024-07-31 10:01:00 0.12717086834733893 [0.12717087 0.12717087 0.12717087 0.12717087 0.12717087 0.12717087] [0. 0. 0. 0. 0. 0.] [1. 1. 1. 1. 1. 1.]\n",
      "\t Interval (484, 495) 2024-07-31 10:04:00 2024-07-31 10:15:00 0.15126437566896675 [0.12717087 0.12717087 0.12717087 0.12717087 0.12717087 0.12717087\n",
      " 0.12717087 0.18364146 0.18364146 0.18364146 0.24800164 0.12605042] [0.89019608 0.         0.         0.         0.         0.\n",
      " 0.         0.92941176 0.         0.         0.85365854 0.88235294] [1. 1. 1. 1. 1. 1. 1. 1. 1. 1. 1. 1.]\n",
      "\t Interval (643, 739) 2024-07-31 12:43:00 2024-07-31 14:19:00 0.5780193794238494 [0.23801965 0.36182918 0.36182918 0.44642301 0.52080689 0.60177439\n",
      " 0.64313405 0.68335901 0.72561613 0.75379249 0.76266601 0.78234986\n",
      " 0.7886492  0.78779986 0.7864502  0.77219254 0.77219254 0.76991998\n",
      " 0.72203806 0.67923694 0.6360643  0.6288027  0.6288027  0.62547007\n",
      " 0.62547007 0.62547007 0.62547007 0.62547007 0.57909061 0.52464471\n",
      " 0.52464471 0.52464471 0.52464471 0.50629383 0.54956438 0.52464471\n",
      " 0.52464471 0.52464471 0.52464471 0.50629383 0.54956438 0.54956438\n",
      " 0.54956438 0.54956438 0.54966298 0.55231471 0.57977316 0.59519799\n",
      " 0.62712739 0.66031529 0.64631775 0.62165333 0.59196305 0.59170151\n",
      " 0.58152561 0.58152561 0.57985647 0.57985647 0.57985647 0.57478104\n",
      " 0.5579444  0.55665387 0.54125766 0.53229829 0.52466116 0.51876351\n",
      " 0.54836274 0.54836274 0.54125766 0.53229829 0.52466116 0.51876351\n",
      " 0.54836274 0.54836274 0.54836274 0.54836274 0.5850329  0.60326241\n",
      " 0.61761275 0.5642635  0.5642635  0.5642635  0.5642635  0.5642635\n",
      " 0.58549815 0.5642635  0.5642635  0.5642635  0.5642635  0.5642635\n",
      " 0.58549815 0.64006198 0.62390289 0.52922502 0.44631186 0.33818861\n",
      " 0.22072829] [0.85185185 0.86666667 0.         0.59215686 0.6835443  0.9\n",
      " 0.79607843 0.78813559 0.92079208 0.79607843 0.67058824 0.73214286\n",
      " 0.79607843 0.81176471 0.83076923 0.68       0.79607843 0.89019608\n",
      " 0.83529412 0.8245614  0.75968992 0.80392157 0.93589744 0.87843137\n",
      " 0.         0.         0.96078431 0.83921569 0.81176471 0.70940171\n",
      " 0.92156863 0.         0.79607843 0.87931034 0.         0.\n",
      " 0.55686275 0.71372549 0.71372549 0.71372549 0.77777778 0.\n",
      " 0.         0.87096774 0.8028169  0.71372549 0.776      0.54901961\n",
      " 0.696      0.72262774 0.76691729 0.78813559 0.58823529 0.66176471\n",
      " 0.55686275 0.57961783 0.57254902 0.56687898 0.64166667 0.61061947\n",
      " 0.50980392 0.60305344 0.54074074 0.56687898 0.55686275 0.55686275\n",
      " 0.71372549 0.63636364 0.         0.59689922 0.52941176 0.62745098\n",
      " 0.81333333 0.         0.75294118 0.71372549 0.75686275 0.64102564\n",
      " 0.76296296 0.78947368 0.84337349 0.79607843 0.81325301 0.\n",
      " 0.         0.52941176 0.53191489 0.71372549 0.75294118 0.75686275\n",
      " 0.75686275 0.75686275 0.79607843 0.71372549 0.75686275 0.82222222\n",
      " 0.87843137] [1. 1. 1. 1. 1. 1. 1. 1. 1. 1. 1. 1. 1. 1. 1. 1. 1. 1. 1. 1. 1. 1. 1. 1.\n",
      " 1. 1. 1. 1. 1. 1. 1. 1. 1. 1. 1. 1. 1. 1. 1. 1. 1. 1. 1. 1. 1. 1. 1. 1.\n",
      " 1. 1. 1. 1. 1. 1. 1. 1. 1. 1. 1. 1. 1. 1. 1. 1. 1. 1. 1. 1. 1. 1. 1. 1.\n",
      " 1. 1. 1. 1. 1. 1. 1. 1. 1. 1. 1. 1. 1. 1. 1. 1. 1. 1. 1. 1. 1. 1. 1. 1.\n",
      " 1.]\n",
      "\t Interval (758, 848) 2024-07-31 14:38:00 2024-07-31 16:08:00 0.6647494568020754 [0.24657863 0.24657863 0.34293717 0.45666267 0.55023053 0.61661729\n",
      " 0.68760231 0.73825927 0.75123513 0.77848874 0.81365428 0.81424787\n",
      " 0.80297178 0.78783624 0.78056273 0.78056273 0.77918759 0.77918759\n",
      " 0.77918759 0.76939337 0.76939337 0.76939337 0.76739073 0.75929349\n",
      " 0.74950993 0.74712405 0.74712405 0.72432265 0.70768964 0.69591674\n",
      " 0.68341437 0.68341437 0.68341437 0.68341437 0.68341437 0.68341437\n",
      " 0.68341437 0.68341437 0.68341437 0.68341437 0.70405264 0.72068564\n",
      " 0.74369956 0.77056068 0.78900914 0.78567353 0.78036811 0.7799606\n",
      " 0.77763929 0.77367097 0.77150579 0.77150579 0.77150579 0.77038749\n",
      " 0.77038749 0.76977769 0.7706401  0.7706401  0.77038749 0.77038749\n",
      " 0.76977769 0.7706401  0.76284371 0.75904362 0.74042591 0.69451564\n",
      " 0.6474011  0.67021273 0.67021273 0.67021273 0.67021273 0.6474011\n",
      " 0.67021273 0.67021273 0.67021273 0.67021273 0.67021273 0.67021273\n",
      " 0.68964592 0.60790499 0.48409546 0.3876733  0.35893755 0.35893755\n",
      " 0.35893755 0.35893755 0.35893755 0.35893755 0.26585075 0.26585075\n",
      " 0.23764857] [0.8907563  0.         0.6745098  0.79607843 0.8220339  0.80991736\n",
      " 0.84210526 0.83471074 0.73015873 0.82745098 0.86666667 0.85470085\n",
      " 0.87387387 0.86666667 0.72794118 0.79607843 0.79607843 0.74117647\n",
      " 0.86666667 0.76119403 0.71372549 0.75686275 0.79607843 0.79607843\n",
      " 0.78947368 0.73333333 0.77952756 0.75686275 0.7173913  0.74615385\n",
      " 0.71428571 0.76229508 0.69784173 0.79607843 0.84337349 0.\n",
      " 0.86486486 0.67058824 0.79607843 0.83673469 0.79607843 0.75686275\n",
      " 0.79607843 0.82300885 0.79844961 0.79607843 0.75886525 0.78873239\n",
      " 0.79607843 0.83766234 0.78947368 0.71372549 0.77777778 0.75686275\n",
      " 0.75686275 0.77483444 0.79607843 0.75686275 0.77852349 0.78125\n",
      " 0.76510067 0.75686275 0.71372549 0.74603175 0.79607843 0.81818182\n",
      " 0.75686275 0.92307692 0.63888889 0.78740157 0.75686275 0.\n",
      " 0.82926829 0.         0.85576923 0.81578947 0.89019608 0.82075472\n",
      " 0.79607843 0.86666667 0.8503937  0.90980392 0.87640449 0.75206612\n",
      " 0.         0.         0.         0.         0.         0.87719298\n",
      " 0.83921569] [1. 1. 1. 1. 1. 1. 1. 1. 1. 1. 1. 1. 1. 1. 1. 1. 1. 1. 1. 1. 1. 1. 1. 1.\n",
      " 1. 1. 1. 1. 1. 1. 1. 1. 1. 1. 1. 1. 1. 1. 1. 1. 1. 1. 1. 1. 1. 1. 1. 1.\n",
      " 1. 1. 1. 1. 1. 1. 1. 1. 1. 1. 1. 1. 1. 1. 1. 1. 1. 1. 1. 1. 1. 1. 1. 1.\n",
      " 1. 1. 1. 1. 1. 1. 1. 1. 1. 1. 1. 1. 1. 1. 1. 1. 1. 1. 1.]\n",
      "\t Interval (1039, 1039) 2024-07-31 19:19:00 2024-07-31 19:19:00 0.21249543295579104 [0.21249543] [0.83529412] [1.]\n",
      "\t Interval (1063, 1088) 2024-07-31 19:43:00 2024-07-31 20:08:00 0.35711703354822283 [0.20504202 0.20504202 0.20504202 0.33047756 0.33047756 0.36943468\n",
      " 0.41994413 0.49266122 0.49266122 0.49266122 0.49266122 0.49266122\n",
      " 0.52147506 0.5101263  0.47010041 0.45657743 0.4430556  0.39568475\n",
      " 0.33505044 0.29803564 0.26533835 0.23250148 0.20708283 0.20708283\n",
      " 0.20708283 0.20708283] [0.77254902 0.         0.         0.87804878 0.         0.69230769\n",
      " 0.640625   0.79607843 0.91525424 0.90566038 0.         0.\n",
      " 0.53125    0.52941176 0.50980392 0.55686275 0.55686275 0.5472973\n",
      " 0.54901961 0.51879699 0.51977401 0.51204819 0.         0.\n",
      " 0.         0.61428571] [1. 1. 1. 1. 1. 1. 1. 1. 1. 1. 1. 1. 1. 1. 1. 1. 1. 1. 1. 1. 1. 1. 1. 1.\n",
      " 1. 1.]\n",
      "\t Interval (1153, 1156) 2024-07-31 21:13:00 2024-07-31 21:16:00 0.2002953954390343 [0.19625081 0.19625081 0.19625081 0.21242916] [0.83529412 0.         0.         0.88235294] [1. 1. 1. 1.]\n",
      "\t Interval (1174, 1247) 2024-07-31 21:34:00 2024-07-31 22:47:00 0.4020720453379834 [0.20112045 0.28983013 0.41812144 0.41812144 0.45230156 0.44996321\n",
      " 0.44996321 0.44996321 0.44996321 0.45230156 0.45230156 0.44996321\n",
      " 0.44996321 0.44996321 0.44996321 0.4672129  0.56254796 0.65592298\n",
      " 0.72259699 0.76807059 0.78179745 0.78493622 0.75972765 0.71939653\n",
      " 0.64485673 0.5563101  0.44258461 0.32661823 0.29647059 0.29647059\n",
      " 0.29647059 0.29647059 0.33669468 0.33669468 0.32661823 0.29647059\n",
      " 0.29647059 0.29647059 0.29647059 0.33669468 0.33669468 0.45434174\n",
      " 0.54227743 0.60334186 0.55405947 0.50079529 0.44136865 0.35720854\n",
      " 0.24348305 0.24348305 0.24348305 0.17005296 0.17005296 0.17005296\n",
      " 0.17733247 0.2        0.24348305 0.24348305 0.2        0.17005296\n",
      " 0.17005296 0.17005296 0.17733247 0.27257057 0.37257057 0.45548373\n",
      " 0.52663219 0.52663219 0.53525102 0.5744624  0.54865338 0.43073955\n",
      " 0.32248062 0.22051984] [0.57254902 0.62096774 0.89803922 0.         0.55686275 0.79607843\n",
      " 0.81528662 0.83974359 0.         0.         0.         0.\n",
      " 0.79069767 0.77922078 0.81889764 0.71372549 0.83529412 0.81176471\n",
      " 0.78070175 0.79607843 0.75686275 0.79607843 0.73958333 0.83529412\n",
      " 0.78688525 0.79607843 0.81176471 0.71875    0.73228346 0.83529412\n",
      " 0.         0.         0.         0.         0.         0.\n",
      " 0.         0.83529412 0.81176471 0.70980392 0.         0.82352941\n",
      " 0.7826087  0.75686275 0.71372549 0.75686275 0.75686275 0.79607843\n",
      " 0.         0.         0.86567164 0.83870968 0.         0.\n",
      " 0.         0.         0.         0.         0.         0.\n",
      " 0.         0.54901961 0.69230769 0.66666667 0.7        0.58039216\n",
      " 0.60784314 0.         0.69019608 0.79607843 0.82539683 0.7578125\n",
      " 0.71372549 0.75294118] [1. 1. 1. 1. 1. 1. 1. 1. 1. 1. 1. 1. 1. 1. 1. 1. 1. 1. 1. 1. 1. 1. 1. 1.\n",
      " 1. 1. 1. 1. 1. 1. 1. 1. 1. 1. 1. 1. 1. 1. 1. 1. 1. 1. 1. 1. 1. 1. 1. 1.\n",
      " 1. 1. 1. 1. 1. 1. 1. 1. 1. 1. 1. 1. 1. 1. 1. 1. 1. 1. 1. 1. 1. 1. 1. 1.\n",
      " 1. 1.]\n",
      "\t Interval (1426, 1438) 2024-08-01 01:46:00 2024-08-01 01:58:00 0.25729748913139916 [0.22941176 0.22941176 0.22941176 0.22941176 0.22941176 0.22941176\n",
      " 0.27577855 0.27577855 0.27577855 0.27577855 0.27577855 0.27577855\n",
      " 0.31372549] [0.76666667 0.85106383 0.62222222 0.         0.         0.\n",
      " 0.         0.         0.         0.         0.79607843 0.87843137\n",
      " 0.62745098] [1. 1. 1. 1. 1. 1. 1. 1. 1. 1. 1. 1. 1.]\n",
      "## ed9c\n",
      "[(520, 522), (761, 790), (1076, 1076), (1301, 1301)]\n",
      "\t Interval (520, 522) 2024-07-31 10:40:00 2024-07-31 10:42:00 0.17322311038236435 [0.15272255 0.22128852 0.14565826] [0.55686275 0.52941176 0.50980392] [1. 1. 1.]\n",
      "\t Interval (761, 790) 2024-07-31 14:41:00 2024-07-31 15:10:00 0.7122878156223637 [0.23932589 0.36313542 0.48246315 0.59999101 0.69590138 0.76736393\n",
      " 0.8146248  0.84194169 0.84110694 0.83837143 0.83837143 0.83837143\n",
      " 0.83837143 0.83837143 0.83810433 0.83792971 0.83837143 0.83837143\n",
      " 0.83810433 0.83792971 0.83870373 0.83888819 0.83742229 0.81982167\n",
      " 0.77282971 0.70128671 0.6042559  0.48436794 0.36447999 0.24005602] [0.83606557 0.86666667 0.83529412 0.82269504 0.83921569 0.83529412\n",
      " 0.83921569 0.86666667 0.86666667 0.85185185 0.83529412 0.83921569\n",
      " 0.81707317 0.83921569 0.83921569 0.83921569 0.83529412 0.83815029\n",
      " 0.83597884 0.83333333 0.85416667 0.83529412 0.82795699 0.83921569\n",
      " 0.83687943 0.84705882 0.83921569 0.83921569 0.87096774 0.84117647] [1. 1. 1. 1. 1. 1. 1. 1. 1. 1. 1. 1. 1. 1. 1. 1. 1. 1. 1. 1. 1. 1. 1. 1.\n",
      " 1. 1. 1. 1. 1. 1.]\n",
      "\t Interval (1076, 1076) 2024-07-31 19:56:00 2024-07-31 19:56:00 0.13837535014005603 [0.13837535] [0.96862745] [1.]\n",
      "\t Interval (1301, 1301) 2024-07-31 23:41:00 2024-07-31 23:41:00 0.14827054417272528 [0.14827054] [0.52808989] [1.]\n",
      "##### resting\n",
      "## 16fe\n",
      "[(520, 539), (794, 1058)]\n",
      "\t Interval (520, 539) 2024-07-31 10:40:00 2024-07-31 10:59:00 0.20375444479990756 [0.13698626 0.17454494 0.17454494 0.17454494 0.17454494 0.20504603\n",
      " 0.20504603 0.20504603 0.20504603 0.20504603 0.2381615  0.27308213\n",
      " 0.28819335 0.25558465 0.25558465 0.22573716 0.19392888 0.19392888\n",
      " 0.16170666 0.12878485] [0.63157895 0.67605634 0.         0.         0.         0.54901961\n",
      " 0.         0.         0.         0.         0.59607843 0.62857143\n",
      " 0.58695652 0.         0.5372549  0.57254902 0.         0.58\n",
      " 0.59259259 0.58431373] [1. 1. 1. 1. 1. 1. 1. 1. 1. 1. 1. 1. 1. 1. 1. 1. 1. 1. 1. 1.]\n",
      "\t Interval (794, 1058) 2024-07-31 15:14:00 2024-07-31 19:38:00 0.8072446065717738 [0.13281151 0.18249853 0.23631116 0.2901238  0.34208223 0.39530678\n",
      " 0.44853134 0.50234397 0.55615661 0.60996925 0.66378188 0.71759452\n",
      " 0.77140715 0.82521979 0.86968663 0.90652691 0.93268792 0.94452783\n",
      " 0.94452783 0.94452783 0.94773891 0.94826356 0.95069847 0.95130454\n",
      " 0.95130454 0.95130454 0.95130454 0.95130454 0.95130454 0.95130454\n",
      " 0.95130454 0.95130454 0.95130454 0.95130454 0.95130454 0.95130454\n",
      " 0.95130454 0.95130454 0.95130454 0.95362682 0.95682089 0.95722092\n",
      " 0.95722092 0.95722657 0.95722657 0.95722657 0.96086183 0.95989781\n",
      " 0.95989781 0.95989781 0.95850453 0.95850453 0.95850453 0.95763307\n",
      " 0.95763307 0.95763307 0.95761135 0.95761135 0.95761135 0.95471967\n",
      " 0.95105799 0.94781918 0.94658234 0.94458784 0.94325485 0.94305231\n",
      " 0.94238261 0.9415945  0.94047222 0.93995445 0.93970987 0.93970987\n",
      " 0.9389948  0.93718058 0.9344508  0.93079015 0.93000967 0.92941867\n",
      " 0.9286416  0.92707665 0.92435665 0.92298956 0.91845299 0.91357915\n",
      " 0.9092377  0.90699461 0.90568349 0.90415653 0.90220162 0.89903103\n",
      " 0.89635904 0.89338244 0.8830836  0.86547234 0.83639031 0.80763511\n",
      " 0.80600906 0.80600906 0.80600906 0.80600906 0.80600906 0.80600906\n",
      " 0.80600906 0.80600906 0.80600906 0.80600906 0.80600906 0.80600906\n",
      " 0.80600906 0.80600906 0.80600906 0.80600906 0.80600906 0.80600906\n",
      " 0.80600906 0.80600906 0.80600906 0.80600906 0.80600906 0.80600906\n",
      " 0.80600906 0.80600906 0.80600906 0.80600906 0.80600906 0.80600906\n",
      " 0.80600906 0.81228768 0.83599916 0.86965897 0.90208482 0.93306521\n",
      " 0.95459027 0.95978277 0.96032295 0.96032295 0.96119441 0.96070966\n",
      " 0.9605041  0.95915631 0.95725913 0.95406947 0.95331649 0.95331649\n",
      " 0.95073754 0.94859433 0.947279   0.94688685 0.94649469 0.94610253\n",
      " 0.94610253 0.94594933 0.94579612 0.94564291 0.94336915 0.9393437\n",
      " 0.93882646 0.93882646 0.93882646 0.93882646 0.93882646 0.93882646\n",
      " 0.93882646 0.93882646 0.93882646 0.93882646 0.93882646 0.93882646\n",
      " 0.93858637 0.93882646 0.93882646 0.93882646 0.93882646 0.93882646\n",
      " 0.93882646 0.93882646 0.93882646 0.93882646 0.93882646 0.93882646\n",
      " 0.93882646 0.93882646 0.93882646 0.93858637 0.93882646 0.93882646\n",
      " 0.93897966 0.93897966 0.93897966 0.93897966 0.94198835 0.94685666\n",
      " 0.9494737  0.9552807  0.95896713 0.95990132 0.96084    0.96177868\n",
      " 0.96177868 0.96177868 0.96089397 0.95890563 0.95013645 0.93510448\n",
      " 0.91616425 0.89465249 0.87329744 0.85285743 0.83285315 0.81213334\n",
      " 0.79088852 0.76990493 0.74940064 0.72924494 0.70926858 0.68996617\n",
      " 0.66962054 0.64822916 0.62579202 0.60298275 0.58818734 0.58652804\n",
      " 0.58652804 0.58602518 0.58312644 0.58194948 0.58029397 0.5770364\n",
      " 0.5683322  0.56215011 0.55665111 0.54600157 0.53257841 0.52669014\n",
      " 0.52479741 0.52273039 0.52051788 0.51757647 0.51647552 0.51590929\n",
      " 0.51468313 0.51275573 0.51058159 0.50667433 0.50667433 0.50667433\n",
      " 0.50667433 0.50667433 0.50667433 0.50459859 0.49326961 0.47605828\n",
      " 0.45435102 0.4253912  0.39663303 0.36634981 0.33759164 0.30892734\n",
      " 0.27947986 0.25081555 0.22106449 0.19145521 0.16184593 0.16184593\n",
      " 0.13156271] [0.86309524 0.8943662  0.96862745 0.96862745 0.9352518  0.95804196\n",
      " 0.95804196 0.96862745 0.96862745 0.96862745 0.96862745 0.96862745\n",
      " 0.96862745 0.96862745 0.96862745 0.96862745 0.94901961 0.96862745\n",
      " 0.96862745 0.91082803 0.95918367 0.89189189 0.83766234 0.96862745\n",
      " 0.89830508 0.89403974 0.96862745 0.96202532 0.96129032 0.96862745\n",
      " 0.96862745 0.96862745 0.96862745 0.96862745 0.96862745 0.96862745\n",
      " 0.96862745 0.96862745 0.96862745 0.96862745 0.96862745 0.96862745\n",
      " 0.95138889 0.96862745 0.96862745 0.85034014 0.96862745 0.94701987\n",
      " 0.96862745 0.96862745 0.94354839 0.96862745 0.96862745 0.95294118\n",
      " 0.96862745 0.96862745 0.96478873 0.96862745 0.96862745 0.96453901\n",
      " 0.95890411 0.93959732 0.96862745 0.96862745 0.95294118 0.96478873\n",
      " 0.96478873 0.96862745 0.95774648 0.96862745 0.95172414 0.96862745\n",
      " 0.96862745 0.96862745 0.96862745 0.896      0.87603306 0.89166667\n",
      " 0.90909091 0.92035398 0.90588235 0.95967742 0.96862745 0.96862745\n",
      " 0.94366197 0.92307692 0.94901961 0.95774648 0.96862745 0.96862745\n",
      " 0.96862745 0.91515152 0.85882353 0.88622754 0.88484848 0.86470588\n",
      " 0.83236994 0.9202454  0.90243902 0.8372093  0.91411043 0.81609195\n",
      " 0.93464052 0.95035461 0.90123457 0.89506173 0.92638037 0.93975904\n",
      " 0.89534884 0.94610778 0.86764706 0.         0.         0.\n",
      " 0.96862745 0.96862745 0.96862745 0.96862745 0.96862745 0.96862745\n",
      " 0.96862745 0.96862745 0.96862745 0.96862745 0.96862745 0.95092025\n",
      " 0.96862745 0.96862745 0.96862745 0.96862745 0.95092025 0.94509804\n",
      " 0.96862745 0.95890411 0.96862745 0.95294118 0.96862745 0.96\n",
      " 0.96527778 0.9602649  0.96862745 0.96862745 0.85517241 0.96862745\n",
      " 0.96862745 0.96862745 0.96862745 0.96862745 0.96862745 0.96862745\n",
      " 0.96862745 0.96862745 0.96862745 0.96862745 0.96862745 0.96862745\n",
      " 0.925      0.95061728 0.89221557 0.89411765 0.89411765 0.88554217\n",
      " 0.96862745 0.96862745 0.93333333 0.96862745 0.96862745 0.96862745\n",
      " 0.96862745 0.96862745 0.95483871 0.96862745 0.96862745 0.77777778\n",
      " 0.81097561 0.87898089 0.96862745 0.88414634 0.96862745 0.96862745\n",
      " 0.96862745 0.96862745 0.96862745 0.96862745 0.96862745 0.96862745\n",
      " 0.96862745 0.94701987 0.95294118 0.94117647 0.96862745 0.96862745\n",
      " 0.92810458 0.96862745 0.96862745 0.95061728 0.96862745 0.96862745\n",
      " 0.96862745 0.96862745 0.9527027  0.93589744 0.96862745 0.96862745\n",
      " 0.96862745 0.96862745 0.96862745 0.96862745 0.96862745 0.96862745\n",
      " 0.96862745 0.96862745 0.96862745 0.96862745 0.96202532 0.96862745\n",
      " 0.96862745 0.96862745 0.96862745 0.81967213 0.58823529 0.54509804\n",
      " 0.56862745 0.61688312 0.58823529 0.60233918 0.62745098 0.60784314\n",
      " 0.55248619 0.54098361 0.62585034 0.67058824 0.63921569 0.56862745\n",
      " 0.56862745 0.56497175 0.57647059 0.54509804 0.53513514 0.54509804\n",
      " 0.56078431 0.56862745 0.58823529 0.56078431 0.55681818 0.58823529\n",
      " 0.55       0.         0.51098901 0.56078431 0.54901961 0.52406417\n",
      " 0.5212766  0.51764706 0.54509804 0.51764706 0.51595745 0.53005464\n",
      " 0.51595745 0.53551913 0.53296703 0.53296703 0.         0.54509804\n",
      " 0.58381503] [1. 1. 1. 1. 1. 1. 1. 1. 1. 1. 1. 1. 1. 1. 1. 1. 1. 1. 1. 1. 1. 1. 1. 1.\n",
      " 1. 1. 1. 1. 1. 1. 1. 1. 1. 1. 1. 1. 1. 1. 1. 1. 1. 1. 1. 1. 1. 1. 1. 1.\n",
      " 1. 1. 1. 1. 1. 1. 1. 1. 1. 1. 1. 1. 1. 1. 1. 1. 1. 1. 1. 1. 1. 1. 1. 1.\n",
      " 1. 1. 1. 1. 1. 1. 1. 1. 1. 1. 1. 1. 1. 1. 1. 1. 1. 1. 1. 1. 1. 1. 1. 1.\n",
      " 1. 1. 1. 1. 1. 1. 1. 1. 1. 1. 1. 1. 1. 1. 1. 1. 1. 1. 1. 1. 1. 1. 1. 1.\n",
      " 1. 1. 1. 1. 1. 1. 1. 1. 1. 1. 1. 1. 1. 1. 1. 1. 1. 1. 1. 1. 1. 1. 1. 1.\n",
      " 1. 1. 1. 1. 1. 1. 1. 1. 1. 1. 1. 1. 1. 1. 1. 1. 1. 1. 1. 1. 1. 1. 1. 1.\n",
      " 1. 1. 1. 1. 1. 1. 1. 1. 1. 1. 1. 1. 1. 1. 1. 1. 1. 1. 1. 1. 1. 1. 1. 1.\n",
      " 1. 1. 1. 1. 1. 1. 1. 1. 1. 1. 1. 1. 1. 1. 1. 1. 1. 1. 1. 1. 1. 1. 1. 1.\n",
      " 1. 1. 1. 1. 1. 1. 1. 1. 1. 1. 1. 1. 1. 1. 1. 1. 1. 1. 1. 1. 1. 1. 1. 1.\n",
      " 1. 1. 1. 1. 1. 1. 1. 1. 1. 1. 1. 1. 1. 1. 1. 1. 1. 1. 1. 1. 1. 1. 1. 1.\n",
      " 1.]\n",
      "## 5b66\n",
      "[(445, 462), (673, 674), (740, 754), (871, 874), (936, 937), (991, 998), (1065, 1065), (1159, 1423)]\n",
      "\t Interval (445, 462) 2024-07-31 09:25:00 2024-07-31 09:42:00 0.12674026772199054 [0.13328502 0.12635528 0.12635528 0.12635528 0.12635528 0.12635528\n",
      " 0.12635528 0.12635528 0.12635528 0.12635528 0.12635528 0.12635528\n",
      " 0.12635528 0.12635528 0.12635528 0.12635528 0.12635528 0.12635528] [0.         0.         0.         0.         0.         0.\n",
      " 0.         0.         0.         0.         0.         0.\n",
      " 0.61960784 0.         0.         0.825      0.         0.82978723] [1. 1. 1. 1. 1. 1. 1. 1. 1. 1. 1. 1. 1. 1. 1. 1. 1. 1.]\n",
      "\t Interval (673, 674) 2024-07-31 13:13:00 2024-07-31 13:14:00 0.14407656968398658 [0.15351262 0.13464052] [0.5254902  0.70588235] [1. 1.]\n",
      "\t Interval (740, 754) 2024-07-31 14:20:00 2024-07-31 14:34:00 0.30916476930165077 [0.13970036 0.17041932 0.2220467  0.27585934 0.3270576  0.37141397\n",
      " 0.41397469 0.45686885 0.48431373 0.43050109 0.37668845 0.32287582\n",
      " 0.26906318 0.21525054 0.16143791] [0.96862745 0.55294118 0.92929293 0.96862745 0.92156863 0.96862745\n",
      " 0.93630573 0.94230769 0.96862745 0.96862745 0.96862745 0.96862745\n",
      " 0.96862745 0.96862745 0.96862745] [1. 1. 1. 1. 1. 1. 1. 1. 1. 1. 1. 1. 1. 1. 1.]\n",
      "\t Interval (871, 874) 2024-07-31 16:31:00 2024-07-31 16:34:00 0.16514176337634054 [0.14793028 0.19885621 0.18033905 0.13344151] [0.90196078 0.91666667 0.84415584 0.87919463] [1. 1. 1. 1.]\n",
      "\t Interval (936, 937) 2024-07-31 17:36:00 2024-07-31 17:37:00 0.14122797669792553 [0.15530454 0.12715142] [0.67391304 0.78787879] [1. 1.]\n",
      "\t Interval (991, 998) 2024-07-31 18:31:00 2024-07-31 18:38:00 0.20260266856405112 [0.15437781 0.18466104 0.21608961 0.24667638 0.2518727  0.22044413\n",
      " 0.18885372 0.15784596] [0.54509804 0.54509804 0.56571429 0.5505618  0.56571429 0.56862745\n",
      " 0.55813953 0.63265306] [1. 1. 1. 1. 1. 1. 1. 1.]\n",
      "\t Interval (1065, 1065) 2024-07-31 19:45:00 2024-07-31 19:45:00 0.12727611028730831 [0.12727611] [0.94444444] [1.]\n",
      "\t Interval (1159, 1423) 2024-07-31 21:19:00 2024-08-01 01:43:00 0.5848480477589613 [0.13709494 0.19090758 0.24472021 0.29583132 0.34540938 0.39601094\n",
      " 0.44934427 0.46853464 0.45214443 0.42724814 0.39316731 0.34855007\n",
      " 0.29473744 0.24820149 0.23425813 0.23425813 0.23425813 0.23425813\n",
      " 0.23425813 0.23425813 0.23425813 0.23425813 0.23425813 0.23425813\n",
      " 0.23425813 0.23425813 0.23425813 0.23425813 0.23425813 0.23425813\n",
      " 0.23425813 0.23425813 0.23425813 0.22349561 0.22349561 0.22349561\n",
      " 0.22349561 0.22349561 0.22349561 0.21486815 0.20436116 0.20436116\n",
      " 0.20436116 0.20436116 0.20436116 0.20436116 0.20436116 0.20436116\n",
      " 0.20436116 0.19520697 0.14662309 0.1453159  0.1453159  0.1453159\n",
      " 0.1453159  0.1453159  0.1453159  0.1453159  0.1453159  0.1453159\n",
      " 0.1453159  0.1453159  0.1453159  0.1453159  0.1453159  0.1453159\n",
      " 0.1453159  0.1453159  0.1453159  0.1453159  0.1453159  0.1453159\n",
      " 0.1453159  0.1453159  0.1453159  0.1453159  0.1453159  0.1453159\n",
      " 0.1453159  0.1453159  0.1453159  0.1453159  0.1453159  0.1453159\n",
      " 0.1453159  0.1453159  0.1453159  0.1453159  0.1453159  0.1453159\n",
      " 0.16981811 0.21840199 0.26785732 0.31164817 0.3516046  0.38258499\n",
      " 0.41356538 0.44367432 0.47958226 0.52267594 0.57087855 0.62120535\n",
      " 0.67379229 0.72433531 0.77204773 0.81756124 0.85460715 0.88064353\n",
      " 0.8862107  0.88626115 0.88687373 0.88721126 0.88975867 0.88975867\n",
      " 0.8911162  0.89186916 0.88979478 0.8893986  0.88913533 0.88913533\n",
      " 0.88865541 0.88865541 0.88737    0.87569332 0.85239632 0.82968758\n",
      " 0.80597671 0.78731591 0.78731591 0.78731591 0.78731591 0.78731591\n",
      " 0.78731591 0.78731591 0.78731591 0.78731591 0.78731591 0.78731591\n",
      " 0.78731591 0.78731591 0.78731591 0.78731591 0.78731591 0.77736738\n",
      " 0.77736738 0.77736738 0.77736738 0.77460211 0.77202701 0.77202701\n",
      " 0.77202701 0.77202701 0.77202701 0.77202701 0.77224259 0.77224259\n",
      " 0.77224259 0.77224259 0.77224259 0.77224259 0.77224259 0.77224259\n",
      " 0.77224259 0.77224259 0.77202701 0.77202701 0.77202701 0.77202701\n",
      " 0.77202701 0.77202701 0.77224259 0.77224259 0.77224259 0.77224259\n",
      " 0.77224259 0.77224259 0.77224259 0.77224259 0.77224259 0.77224259\n",
      " 0.77224259 0.77224259 0.77224259 0.77224259 0.77224259 0.77224259\n",
      " 0.77224259 0.78926656 0.82394269 0.84977351 0.87148777 0.88440827\n",
      " 0.88440827 0.88440827 0.88440827 0.88440827 0.88440827 0.88440827\n",
      " 0.88440827 0.88440827 0.88781186 0.89069703 0.89363931 0.89363931\n",
      " 0.89363931 0.89363931 0.89363931 0.89363931 0.89363931 0.89363931\n",
      " 0.89363931 0.89363931 0.89363931 0.89398577 0.89578248 0.89624036\n",
      " 0.89633839 0.8975989  0.8975989  0.89899704 0.9015834  0.90580053\n",
      " 0.91204295 0.90961356 0.90893696 0.90745427 0.90682121 0.90682121\n",
      " 0.906111   0.906111   0.906111   0.906111   0.906111   0.906111\n",
      " 0.906111   0.906111   0.906111   0.906111   0.906111   0.906111\n",
      " 0.906111   0.9053142  0.90444598 0.9040026  0.90355922 0.9030354\n",
      " 0.90177178 0.89959    0.88750482 0.86535428 0.83331268 0.79194646\n",
      " 0.7427766  0.69138771 0.64106091 0.59160557 0.54127877 0.49095198\n",
      " 0.44062518 0.39029838 0.34044083 0.29011877 0.24336752 0.19780148\n",
      " 0.15094425] [0.94285714 0.96862745 0.96862745 0.92       0.89240506 0.91082803\n",
      " 0.96       0.96862745 0.96644295 0.96862745 0.96862745 0.96862745\n",
      " 0.96862745 0.96862745 0.         0.         0.         0.\n",
      " 0.         0.         0.         0.         0.         0.77647059\n",
      " 0.81568627 0.94827586 0.82758621 0.         0.         0.\n",
      " 0.         0.         0.65490196 0.         0.         0.\n",
      " 0.         0.         0.         0.         0.         0.\n",
      " 0.         0.         0.         0.90697674 0.74698795 0.64179104\n",
      " 0.85882353 0.8745098  0.89019608 0.8745098  0.         0.\n",
      " 0.         0.         0.         0.         0.         0.\n",
      " 0.         0.         0.         0.         0.8745098  0.\n",
      " 0.         0.         0.         0.         0.         0.\n",
      " 0.         0.         0.         0.         0.         0.50980392\n",
      " 0.58039216 0.65098039 0.         0.         0.         0.\n",
      " 0.         0.         0.         0.         0.         0.51162791\n",
      " 0.80392157 0.8745098  0.89019608 0.89019608 0.9372549  0.90588235\n",
      " 0.90588235 0.89019608 0.89261745 0.90588235 0.86764706 0.90588235\n",
      " 0.94656489 0.90977444 0.85882353 0.92156863 0.92993631 0.90666667\n",
      " 0.90588235 0.90070922 0.90566038 0.8627451  0.90588235 0.86805556\n",
      " 0.86330935 0.90588235 0.87142857 0.89019608 0.84       0.90588235\n",
      " 0.85882353 0.86896552 0.89019608 0.90532544 0.89473684 0.90588235\n",
      " 0.90588235 0.90588235 0.92156863 0.91946309 0.90588235 0.89019608\n",
      " 0.89019608 0.85882353 0.83921569 0.86428571 0.86896552 0.85882353\n",
      " 0.90588235 0.90588235 0.93577982 0.58823529 0.         0.\n",
      " 0.90588235 0.90131579 0.95294118 0.85882353 0.85882353 0.85882353\n",
      " 0.85882353 0.85882353 0.87857143 0.90588235 0.89583333 0.93055556\n",
      " 0.92424242 0.85882353 0.85882353 0.86861314 0.85882353 0.85882353\n",
      " 0.85882353 0.86524823 0.86524823 0.92517007 0.91194969 0.9068323\n",
      " 0.         0.625      0.         0.         0.70512821 0.8745098\n",
      " 0.92810458 0.9372549  0.92156863 0.89019608 0.9025974  0.87671233\n",
      " 0.83921569 0.84827586 0.83921569 0.85882353 0.84892086 0.8745098\n",
      " 0.92156863 0.89019608 0.89019608 0.90588235 0.89240506 0.92156863\n",
      " 0.88235294 0.82857143 0.85074627 0.90225564 0.89705882 0.90588235\n",
      " 0.89019608 0.90588235 0.92156863 0.90588235 0.92156863 0.66666667\n",
      " 0.88095238 0.90588235 0.90625    0.9270073  0.91071429 0.90588235\n",
      " 0.90588235 0.92948718 0.90588235 0.90804598 0.92156863 0.90849673\n",
      " 0.90588235 0.92857143 0.90588235 0.89261745 0.90588235 0.93209877\n",
      " 0.96862745 0.92156863 0.9372549  0.92156863 0.9037037  0.92156863\n",
      " 0.90588235 0.90588235 0.92156863 0.90588235 0.90588235 0.90588235\n",
      " 0.90588235 0.89019608 0.9017341  0.90588235 0.89375    0.9\n",
      " 0.91851852 0.91666667 0.90588235 0.90588235 0.90588235 0.90588235\n",
      " 0.90566038 0.90588235 0.90588235 0.90588235 0.90588235 0.88505747\n",
      " 0.925      0.90588235 0.89019608 0.90588235 0.90588235 0.90588235\n",
      " 0.90588235 0.8974359  0.9057971  0.89019608 0.89019608 0.90588235\n",
      " 0.89019608] [1. 1. 1. 1. 1. 1. 1. 1. 1. 1. 1. 1. 1. 1. 1. 1. 1. 1. 1. 1. 1. 1. 1. 1.\n",
      " 1. 1. 1. 1. 1. 1. 1. 1. 1. 1. 1. 1. 1. 1. 1. 1. 1. 1. 1. 1. 1. 1. 1. 1.\n",
      " 1. 1. 1. 1. 1. 1. 1. 1. 1. 1. 1. 1. 1. 1. 1. 1. 1. 1. 1. 1. 1. 1. 1. 1.\n",
      " 1. 1. 1. 1. 1. 1. 1. 1. 1. 1. 1. 1. 1. 1. 1. 1. 1. 1. 1. 1. 1. 1. 1. 1.\n",
      " 1. 1. 1. 1. 1. 1. 1. 1. 1. 1. 1. 1. 1. 1. 1. 1. 1. 1. 1. 1. 1. 1. 1. 1.\n",
      " 1. 1. 1. 1. 1. 1. 1. 1. 1. 1. 1. 1. 1. 1. 1. 1. 1. 1. 1. 1. 1. 1. 1. 1.\n",
      " 1. 1. 1. 1. 1. 1. 1. 1. 1. 1. 1. 1. 1. 1. 1. 1. 1. 1. 1. 1. 1. 1. 1. 1.\n",
      " 1. 1. 1. 1. 1. 1. 1. 1. 1. 1. 1. 1. 1. 1. 1. 1. 1. 1. 1. 1. 1. 1. 1. 1.\n",
      " 1. 1. 1. 1. 1. 1. 1. 1. 1. 1. 1. 1. 1. 1. 1. 1. 1. 1. 1. 1. 1. 1. 1. 1.\n",
      " 1. 1. 1. 1. 1. 1. 1. 1. 1. 1. 1. 1. 1. 1. 1. 1. 1. 1. 1. 1. 1. 1. 1. 1.\n",
      " 1. 1. 1. 1. 1. 1. 1. 1. 1. 1. 1. 1. 1. 1. 1. 1. 1. 1. 1. 1. 1. 1. 1. 1.\n",
      " 1.]\n",
      "## ed9c\n",
      "[(554, 566)]\n",
      "\t Interval (554, 566) 2024-07-31 11:14:00 2024-07-31 11:26:00 0.15816074225766558 [0.14877754 0.14877754 0.14877754 0.14877754 0.14877754 0.14877754\n",
      " 0.17709998 0.17703916 0.17163399 0.17163399 0.17163399 0.14719167\n",
      " 0.14719167] [0.55555556 0.         0.         0.         0.         0.\n",
      " 0.50980392 0.         0.         0.         0.5372549  0.\n",
      " 0.51764706] [1. 1. 1. 1. 1. 1. 1. 1. 1. 1. 1. 1. 1.]\n",
      "##### exit\n",
      "## 16fe\n",
      "[(343, 748), (1067, 1183)]\n",
      "\t Interval (343, 748) 2024-07-31 07:43:00 2024-07-31 14:28:00 0.84038303752645 [0.12903226 0.16129032 0.19354839 0.22580645 0.25806452 0.29032258\n",
      " 0.32258065 0.35483871 0.38709677 0.41935484 0.4516129  0.48387097\n",
      " 0.51612903 0.5483871  0.58064516 0.61290323 0.64516129 0.67741935\n",
      " 0.70967742 0.74193548 0.77419355 0.80645161 0.83870968 0.87096774\n",
      " 0.90322581 0.93548387 0.96129032 0.98064516 0.99354839 1.\n",
      " 1.         1.         1.         1.         1.         1.\n",
      " 1.         1.         1.         1.         1.         1.\n",
      " 1.         1.         1.         1.         1.         1.\n",
      " 1.         1.         1.         1.         1.         1.\n",
      " 1.         1.         1.         1.         1.         1.\n",
      " 1.         1.         1.         1.         1.         1.\n",
      " 1.         1.         1.         1.         1.         1.\n",
      " 1.         1.         1.         1.         1.         1.\n",
      " 1.         1.         1.         1.         1.         1.\n",
      " 1.         1.         1.         1.         1.         1.\n",
      " 1.         1.         1.         1.         1.         1.\n",
      " 1.         1.         1.         1.         1.         1.\n",
      " 1.         1.         1.         1.         1.         1.\n",
      " 1.         1.         1.         1.         1.         1.\n",
      " 1.         1.         1.         1.         1.         1.\n",
      " 1.         1.         1.         1.         1.         1.\n",
      " 1.         1.         1.         1.         1.         1.\n",
      " 1.         1.         1.         1.         1.         1.\n",
      " 1.         1.         1.         1.         0.99354839 0.98064516\n",
      " 0.96129032 0.93548387 0.90322581 0.87096774 0.83870968 0.80645161\n",
      " 0.77419355 0.74193548 0.70967742 0.67741935 0.64516129 0.61290323\n",
      " 0.58064516 0.5483871  0.5483871  0.5483871  0.5483871  0.5483871\n",
      " 0.5483871  0.5483871  0.5483871  0.5483871  0.5483871  0.5483871\n",
      " 0.5483871  0.5483871  0.5483871  0.5483871  0.5483871  0.5483871\n",
      " 0.5483871  0.5483871  0.5483871  0.5483871  0.5483871  0.5483871\n",
      " 0.5483871  0.5483871  0.5483871  0.5483871  0.5483871  0.5483871\n",
      " 0.5483871  0.5483871  0.5483871  0.5483871  0.5483871  0.5483871\n",
      " 0.5483871  0.5483871  0.5483871  0.5483871  0.5483871  0.5483871\n",
      " 0.5483871  0.5483871  0.5483871  0.5483871  0.5483871  0.5483871\n",
      " 0.5483871  0.5483871  0.5483871  0.5483871  0.5483871  0.5483871\n",
      " 0.5483871  0.5483871  0.5483871  0.5483871  0.5483871  0.5483871\n",
      " 0.5483871  0.58064516 0.6043529  0.6043529  0.6043529  0.6043529\n",
      " 0.6043529  0.6043529  0.63481885 0.63481885 0.63481885 0.66707691\n",
      " 0.69933497 0.72514143 0.74449626 0.75739949 0.7638511  0.7638511\n",
      " 0.7638511  0.7638511  0.7638511  0.7638511  0.7638511  0.7638511\n",
      " 0.7638511  0.7638511  0.7638511  0.7638511  0.7638511  0.7638511\n",
      " 0.7638511  0.76556117 0.77372285 0.78833614 0.80940105 0.83691756\n",
      " 0.86917563 0.8953405  0.92150538 0.94767025 0.96738351 0.98064516\n",
      " 0.99354839 1.         1.         1.         1.         1.\n",
      " 1.         1.         1.         1.         1.         1.\n",
      " 1.         1.         1.         1.         1.         1.\n",
      " 1.         1.         1.         1.         1.         1.\n",
      " 1.         1.         1.         1.         1.         1.\n",
      " 1.         1.         1.         1.         1.         1.\n",
      " 1.         1.         1.         1.         1.         1.\n",
      " 1.         1.         1.         1.         1.         1.\n",
      " 1.         1.         1.         1.         1.         1.\n",
      " 1.         1.         1.         1.         1.         1.\n",
      " 1.         1.         1.         1.         1.         1.\n",
      " 1.         1.         1.         1.         1.         1.\n",
      " 1.         1.         1.         1.         1.         1.\n",
      " 1.         1.         1.         1.         1.         1.\n",
      " 1.         1.         1.         1.         1.         1.\n",
      " 1.         1.         1.         1.         1.         1.\n",
      " 1.         1.         1.         1.         1.         1.\n",
      " 1.         1.         1.         1.         1.         1.\n",
      " 1.         1.         1.         1.         1.         1.\n",
      " 1.         1.         1.         1.         1.         0.99354839\n",
      " 0.98064516 0.96129032 0.93548387 0.90322581 0.87096774 0.83870968\n",
      " 0.80645161 0.77419355 0.74193548 0.70967742 0.67741935 0.64516129\n",
      " 0.61290323 0.58064516 0.5483871  0.51612903 0.48387097 0.4516129\n",
      " 0.41935484 0.38709677 0.35483871 0.32258065 0.29032258 0.25806452\n",
      " 0.22580645 0.19354839 0.16129032 0.12903226] [1.         1.         1.         1.         1.         1.\n",
      " 1.         1.         1.         1.         1.         1.\n",
      " 1.         1.         1.         1.         1.         1.\n",
      " 1.         1.         1.         1.         1.         1.\n",
      " 1.         1.         1.         1.         1.         1.\n",
      " 1.         1.         1.         1.         1.         1.\n",
      " 1.         1.         1.         1.         1.         1.\n",
      " 1.         1.         1.         1.         1.         1.\n",
      " 1.         1.         1.         1.         1.         1.\n",
      " 1.         1.         1.         1.         1.         1.\n",
      " 1.         1.         1.         1.         1.         1.\n",
      " 1.         1.         1.         1.         1.         1.\n",
      " 1.         1.         1.         1.         1.         1.\n",
      " 1.         1.         1.         1.         1.         1.\n",
      " 1.         1.         1.         1.         1.         1.\n",
      " 1.         1.         1.         1.         1.         1.\n",
      " 1.         1.         1.         1.         1.         1.\n",
      " 1.         1.         1.         1.         1.         1.\n",
      " 1.         1.         1.         1.         1.         1.\n",
      " 1.         1.         1.         1.         1.         1.\n",
      " 1.         1.         1.         1.         1.         1.\n",
      " 1.         1.         1.         1.         1.         1.\n",
      " 1.         1.         1.         1.         1.         1.\n",
      " 1.         1.         1.         1.         1.         1.\n",
      " 1.         1.         1.         1.         1.         1.\n",
      " 1.         1.         1.         1.         1.         1.\n",
      " 1.         1.         1.         1.         1.         1.\n",
      " 1.         1.         1.         1.         1.         1.\n",
      " 1.         1.         1.         1.         1.         1.\n",
      " 0.         0.         0.         0.         0.         0.\n",
      " 0.         0.         0.         0.         0.         0.\n",
      " 0.         0.         0.         0.         0.         0.\n",
      " 0.         0.         0.         0.         0.         0.\n",
      " 0.         0.         1.         1.         1.         1.\n",
      " 1.         1.         1.         1.         1.         1.\n",
      " 1.         1.         1.         1.         1.         1.\n",
      " 1.         1.         0.73493976 0.         0.         0.\n",
      " 0.         0.         0.94444444 0.         0.         1.\n",
      " 1.         1.         1.         1.         1.         1.\n",
      " 1.         1.         1.         1.         1.         1.\n",
      " 1.         1.         1.         1.         1.         1.\n",
      " 1.         1.         1.         1.         1.         1.\n",
      " 1.         1.         1.         1.         1.         1.\n",
      " 1.         1.         1.         1.         1.         1.\n",
      " 1.         1.         1.         1.         1.         1.\n",
      " 1.         1.         1.         1.         1.         1.\n",
      " 1.         1.         1.         1.         1.         1.\n",
      " 1.         1.         1.         1.         1.         1.\n",
      " 1.         1.         1.         1.         1.         1.\n",
      " 1.         1.         1.         1.         1.         1.\n",
      " 1.         1.         1.         1.         1.         1.\n",
      " 1.         1.         1.         1.         1.         1.\n",
      " 1.         1.         1.         1.         1.         1.\n",
      " 1.         1.         1.         1.         1.         1.\n",
      " 1.         1.         1.         1.         1.         1.\n",
      " 1.         1.         1.         1.         1.         1.\n",
      " 1.         1.         1.         1.         1.         1.\n",
      " 1.         1.         1.         1.         1.         1.\n",
      " 1.         1.         1.         1.         1.         1.\n",
      " 1.         1.         1.         1.         1.         1.\n",
      " 1.         1.         1.         1.         1.         1.\n",
      " 1.         1.         1.         1.         1.         1.\n",
      " 1.         1.         1.         1.         1.         1.\n",
      " 1.         1.         1.         1.         1.         1.\n",
      " 1.         1.         1.         1.         1.         1.\n",
      " 1.         1.         1.         1.         1.         1.\n",
      " 1.         1.         1.         1.         1.         1.\n",
      " 1.         1.         1.         1.        ] [1. 1. 1. 1. 1. 1. 1. 1. 1. 1. 1. 1. 1. 1. 1. 1. 1. 1. 1. 1. 1. 1. 1. 1.\n",
      " 1. 1. 1. 1. 1. 1. 1. 1. 1. 1. 1. 1. 1. 1. 1. 1. 1. 1. 1. 1. 1. 1. 1. 1.\n",
      " 1. 1. 1. 1. 1. 1. 1. 1. 1. 1. 1. 1. 1. 1. 1. 1. 1. 1. 1. 1. 1. 1. 1. 1.\n",
      " 1. 1. 1. 1. 1. 1. 1. 1. 1. 1. 1. 1. 1. 1. 1. 1. 1. 1. 1. 1. 1. 1. 1. 1.\n",
      " 1. 1. 1. 1. 1. 1. 1. 1. 1. 1. 1. 1. 1. 1. 1. 1. 1. 1. 1. 1. 1. 1. 1. 1.\n",
      " 1. 1. 1. 1. 1. 1. 1. 1. 1. 1. 1. 1. 1. 1. 1. 1. 1. 1. 1. 1. 1. 1. 1. 1.\n",
      " 1. 1. 1. 1. 1. 1. 1. 1. 1. 1. 1. 1. 1. 1. 1. 1. 1. 1. 1. 1. 1. 1. 1. 1.\n",
      " 1. 1. 1. 1. 1. 1. 1. 1. 1. 1. 1. 1. 1. 1. 1. 1. 1. 1. 1. 1. 1. 1. 1. 1.\n",
      " 1. 1. 1. 1. 1. 1. 1. 1. 1. 1. 1. 1. 1. 1. 1. 1. 1. 1. 1. 1. 1. 1. 1. 1.\n",
      " 1. 1. 1. 1. 1. 1. 1. 1. 1. 1. 1. 1. 1. 1. 1. 1. 1. 1. 1. 1. 1. 1. 1. 1.\n",
      " 1. 1. 1. 1. 1. 1. 1. 1. 1. 1. 1. 1. 1. 1. 1. 1. 1. 1. 1. 1. 1. 1. 1. 1.\n",
      " 1. 1. 1. 1. 1. 1. 1. 1. 1. 1. 1. 1. 1. 1. 1. 1. 1. 1. 1. 1. 1. 1. 1. 1.\n",
      " 1. 1. 1. 1. 1. 1. 1. 1. 1. 1. 1. 1. 1. 1. 1. 1. 1. 1. 1. 1. 1. 1. 1. 1.\n",
      " 1. 1. 1. 1. 1. 1. 1. 1. 1. 1. 1. 1. 1. 1. 1. 1. 1. 1. 1. 1. 1. 1. 1. 1.\n",
      " 1. 1. 1. 1. 1. 1. 1. 1. 1. 1. 1. 1. 1. 1. 1. 1. 1. 1. 1. 1. 1. 1. 1. 1.\n",
      " 1. 1. 1. 1. 1. 1. 1. 1. 1. 1. 1. 1. 1. 1. 1. 1. 1. 1. 1. 1. 1. 1. 1. 1.\n",
      " 1. 1. 1. 1. 1. 1. 1. 1. 1. 1. 1. 1. 1. 1. 1. 1. 1. 1. 1. 1. 1. 1.]\n",
      "\t Interval (1067, 1183) 2024-07-31 19:47:00 2024-07-31 21:43:00 0.7910118555279846 [0.12903226 0.16129032 0.19354839 0.22580645 0.25806452 0.29032258\n",
      " 0.32258065 0.35483871 0.38709677 0.41935484 0.4516129  0.48387097\n",
      " 0.51612903 0.5483871  0.58064516 0.61290323 0.64516129 0.67741935\n",
      " 0.70967742 0.74193548 0.77419355 0.80645161 0.83870968 0.87096774\n",
      " 0.90322581 0.93548387 0.96129032 0.98064516 0.99354839 1.\n",
      " 1.         1.         1.         1.         1.         1.\n",
      " 1.         1.         1.         1.         1.         1.\n",
      " 1.         1.         1.         1.         1.         1.\n",
      " 1.         1.         1.         1.         1.         1.\n",
      " 1.         1.         1.         1.         1.         1.\n",
      " 1.         1.         1.         1.         1.         1.\n",
      " 1.         1.         1.         1.         1.         1.\n",
      " 1.         1.         1.         1.         1.         1.\n",
      " 1.         1.         1.         1.         1.         1.\n",
      " 1.         1.         1.         1.         0.99354839 0.98064516\n",
      " 0.96129032 0.93548387 0.90322581 0.87096774 0.83870968 0.80645161\n",
      " 0.77419355 0.74193548 0.70967742 0.67741935 0.64516129 0.61290323\n",
      " 0.58064516 0.5483871  0.51612903 0.48387097 0.4516129  0.41935484\n",
      " 0.38709677 0.35483871 0.32258065 0.29032258 0.25806452 0.22580645\n",
      " 0.19354839 0.16129032 0.12903226] [1. 1. 1. 1. 1. 1. 1. 1. 1. 1. 1. 1. 1. 1. 1. 1. 1. 1. 1. 1. 1. 1. 1. 1.\n",
      " 1. 1. 1. 1. 1. 1. 1. 1. 1. 1. 1. 1. 1. 1. 1. 1. 1. 1. 1. 1. 1. 1. 1. 1.\n",
      " 1. 1. 1. 1. 1. 1. 1. 1. 1. 1. 1. 1. 1. 1. 1. 1. 1. 1. 1. 1. 1. 1. 1. 1.\n",
      " 1. 1. 1. 1. 1. 1. 1. 1. 1. 1. 1. 1. 1. 1. 1. 1. 1. 1. 1. 1. 1. 1. 1. 1.\n",
      " 1. 1. 1. 1. 1. 1. 1. 1. 1. 1. 1. 1. 1. 1. 1. 1. 1. 1. 1. 1. 1.] [1. 1. 1. 1. 1. 1. 1. 1. 1. 1. 1. 1. 1. 1. 1. 1. 1. 1. 1. 1. 1. 1. 1. 1.\n",
      " 1. 1. 1. 1. 1. 1. 1. 1. 1. 1. 1. 1. 1. 1. 1. 1. 1. 1. 1. 1. 1. 1. 1. 1.\n",
      " 1. 1. 1. 1. 1. 1. 1. 1. 1. 1. 1. 1. 1. 1. 1. 1. 1. 1. 1. 1. 1. 1. 1. 1.\n",
      " 1. 1. 1. 1. 1. 1. 1. 1. 1. 1. 1. 1. 1. 1. 1. 1. 1. 1. 1. 1. 1. 1. 1. 1.\n",
      " 1. 1. 1. 1. 1. 1. 1. 1. 1. 1. 1. 1. 1. 1. 1. 1. 1. 1. 1. 1. 1.]\n",
      "## 5b66\n",
      "[(498, 638), (1094, 1149)]\n",
      "\t Interval (498, 638) 2024-07-31 10:18:00 2024-07-31 12:38:00 0.8309082589796387 [0.12903226 0.16129032 0.19354839 0.22580645 0.25806452 0.29032258\n",
      " 0.32258065 0.35483871 0.38709677 0.41935484 0.4516129  0.48387097\n",
      " 0.51612903 0.5483871  0.58064516 0.61290323 0.64516129 0.67741935\n",
      " 0.70967742 0.74193548 0.77419355 0.80645161 0.83870968 0.87096774\n",
      " 0.90322581 0.93548387 0.96129032 0.98064516 0.99354839 1.\n",
      " 1.         1.         1.         1.         1.         1.\n",
      " 1.         1.         1.         1.         1.         1.\n",
      " 1.         1.         1.         1.         1.         1.\n",
      " 1.         1.         1.         1.         1.         1.\n",
      " 1.         1.         1.         1.         1.         1.\n",
      " 1.         1.         1.         1.         1.         1.\n",
      " 1.         1.         1.         1.         1.         1.\n",
      " 1.         1.         1.         1.         1.         1.\n",
      " 1.         1.         1.         1.         1.         1.\n",
      " 1.         1.         1.         1.         1.         1.\n",
      " 1.         1.         1.         1.         1.         1.\n",
      " 1.         1.         1.         1.         1.         1.\n",
      " 1.         1.         1.         1.         1.         1.\n",
      " 1.         1.         1.         1.         0.99806452 0.98967742\n",
      " 0.97483871 0.95354839 0.92580645 0.89354839 0.86129032 0.82903226\n",
      " 0.79677419 0.76451613 0.73225806 0.7        0.66774194 0.63548387\n",
      " 0.60322581 0.57096774 0.53870968 0.50645161 0.47419355 0.44193548\n",
      " 0.40967742 0.37741935 0.34516129 0.31290323 0.28064516 0.2483871\n",
      " 0.21612903 0.18387097 0.1516129 ] [1. 1. 1. 1. 1. 1. 1. 1. 1. 1. 1. 1. 1. 1. 1. 1. 1. 1. 1. 1. 1. 1. 1. 1.\n",
      " 1. 1. 1. 1. 1. 1. 1. 1. 1. 1. 1. 1. 1. 1. 1. 1. 1. 1. 1. 1. 1. 1. 1. 1.\n",
      " 1. 1. 1. 1. 1. 1. 1. 1. 1. 1. 1. 1. 1. 1. 1. 1. 1. 1. 1. 1. 1. 1. 1. 1.\n",
      " 1. 1. 1. 1. 1. 1. 1. 1. 1. 1. 1. 1. 1. 1. 1. 1. 1. 1. 1. 1. 1. 1. 1. 1.\n",
      " 1. 1. 1. 1. 1. 1. 1. 1. 1. 1. 1. 1. 1. 1. 1. 1. 1. 1. 1. 1. 1. 1. 1. 1.\n",
      " 1. 1. 1. 1. 1. 1. 1. 1. 1. 1. 1. 1. 1. 1. 1. 1. 1. 1. 1. 1. 1.] [1. 1. 1. 1. 1. 1. 1. 1. 1. 1. 1. 1. 1. 1. 1. 1. 1. 1. 1. 1. 1. 1. 1. 1.\n",
      " 1. 1. 1. 1. 1. 1. 1. 1. 1. 1. 1. 1. 1. 1. 1. 1. 1. 1. 1. 1. 1. 1. 1. 1.\n",
      " 1. 1. 1. 1. 1. 1. 1. 1. 1. 1. 1. 1. 1. 1. 1. 1. 1. 1. 1. 1. 1. 1. 1. 1.\n",
      " 1. 1. 1. 1. 1. 1. 1. 1. 1. 1. 1. 1. 1. 1. 1. 1. 1. 1. 1. 1. 1. 1. 1. 1.\n",
      " 1. 1. 1. 1. 1. 1. 1. 1. 1. 1. 1. 1. 1. 1. 1. 1. 1. 1. 1. 1. 1. 1. 1. 1.\n",
      " 1. 1. 1. 1. 1. 1. 1. 1. 1. 1. 1. 1. 1. 1. 1. 1. 1. 1. 1. 1. 1.]\n",
      "\t Interval (1094, 1149) 2024-07-31 20:14:00 2024-07-31 21:09:00 0.563594470046083 [0.12903226 0.16129032 0.19354839 0.22580645 0.25806452 0.29032258\n",
      " 0.32258065 0.35483871 0.38709677 0.41935484 0.4516129  0.48387097\n",
      " 0.51612903 0.5483871  0.58064516 0.61290323 0.64516129 0.67741935\n",
      " 0.70967742 0.74193548 0.77419355 0.80645161 0.83870968 0.87096774\n",
      " 0.90322581 0.93548387 0.96129032 0.98064516 0.98064516 0.96129032\n",
      " 0.93548387 0.90322581 0.87096774 0.83870968 0.80645161 0.77419355\n",
      " 0.74193548 0.70967742 0.67741935 0.64516129 0.61290323 0.58064516\n",
      " 0.5483871  0.51612903 0.48387097 0.4516129  0.41935484 0.38709677\n",
      " 0.35483871 0.32258065 0.29032258 0.25806452 0.22580645 0.19354839\n",
      " 0.16129032 0.12903226] [1. 1. 1. 1. 1. 1. 1. 1. 1. 1. 1. 1. 1. 1. 1. 1. 1. 1. 1. 1. 1. 1. 1. 1.\n",
      " 1. 1. 1. 1. 1. 1. 1. 1. 1. 1. 1. 1. 1. 1. 1. 1. 1. 1. 1. 1. 1. 1. 1. 1.\n",
      " 1. 1. 1. 1. 1. 1. 1. 1.] [1. 1. 1. 1. 1. 1. 1. 1. 1. 1. 1. 1. 1. 1. 1. 1. 1. 1. 1. 1. 1. 1. 1. 1.\n",
      " 1. 1. 1. 1. 1. 1. 1. 1. 1. 1. 1. 1. 1. 1. 1. 1. 1. 1. 1. 1. 1. 1. 1. 1.\n",
      " 1. 1. 1. 1. 1. 1. 1. 1.]\n",
      "## ed9c\n",
      "[(316, 722), (1085, 1418)]\n",
      "\t Interval (316, 722) 2024-07-31 07:16:00 2024-07-31 14:02:00 0.8469496656623807 [0.15434243 0.1866005  0.21885856 0.24466501 0.26540943 0.28615385\n",
      " 0.30689826 0.32764268 0.35483871 0.38709677 0.41935484 0.4516129\n",
      " 0.48387097 0.51612903 0.5483871  0.58064516 0.61290323 0.64516129\n",
      " 0.67741935 0.70967742 0.74193548 0.77419355 0.80645161 0.83870968\n",
      " 0.87096774 0.90322581 0.93548387 0.96129032 0.98064516 0.99354839\n",
      " 0.98709677 0.98064516 0.97419355 0.96774194 0.96129032 0.95948987\n",
      " 0.95948987 0.95948987 0.95948987 0.95948987 0.95948987 0.95948987\n",
      " 0.95948987 0.95948987 0.95948987 0.95948987 0.95948987 0.95948987\n",
      " 0.95948987 0.95948987 0.95948987 0.95948987 0.95948987 0.95948987\n",
      " 0.95948987 0.95948987 0.95948987 0.95948987 0.95948987 0.95948987\n",
      " 0.95948987 0.95948987 0.95948987 0.95948987 0.95948987 0.95948987\n",
      " 0.95948987 0.95948987 0.95948987 0.95948987 0.95948987 0.95948987\n",
      " 0.95948987 0.95948987 0.95948987 0.95948987 0.95948987 0.95948987\n",
      " 0.95948987 0.95948987 0.95948987 0.95948987 0.95948987 0.95948987\n",
      " 0.95948987 0.95948987 0.95948987 0.95948987 0.95948987 0.95948987\n",
      " 0.95948987 0.95948987 0.95948987 0.95948987 0.95948987 0.96594149\n",
      " 0.9723931  0.97884471 0.98529632 0.99174794 0.99174794 0.99174794\n",
      " 0.99339835 0.99504876 0.99669917 0.99834959 1.         1.\n",
      " 1.         1.         1.         1.         1.         1.\n",
      " 1.         1.         1.         1.         1.         1.\n",
      " 1.         1.         1.         1.         1.         1.\n",
      " 1.         1.         1.         1.         1.         1.\n",
      " 1.         1.         1.         1.         1.         1.\n",
      " 1.         1.         1.         1.         1.         1.\n",
      " 1.         1.         1.         1.         1.         1.\n",
      " 1.         1.         1.         1.         1.         1.\n",
      " 1.         1.         1.         1.         1.         1.\n",
      " 1.         1.         1.         1.         1.         1.\n",
      " 1.         0.99988479 0.99976959 0.99320276 0.98018433 0.96071429\n",
      " 0.93875799 0.91680169 0.8989108  0.88747152 0.88248385 0.88009763\n",
      " 0.87771142 0.87771142 0.87771142 0.87771142 0.87771142 0.87771142\n",
      " 0.87771142 0.87771142 0.87771142 0.87771142 0.87771142 0.87771142\n",
      " 0.87771142 0.87771142 0.87771142 0.87771142 0.87771142 0.87771142\n",
      " 0.87498189 0.86580075 0.850168   0.82808363 0.80012369 0.76786562\n",
      " 0.76786562 0.76786562 0.76786562 0.74861484 0.71635678 0.69939474\n",
      " 0.67389189 0.64838904 0.6228862  0.59738335 0.58064516 0.58064516\n",
      " 0.58064516 0.58064516 0.58064516 0.58064516 0.58064516 0.58064516\n",
      " 0.58064516 0.58064516 0.58064516 0.58064516 0.58064516 0.58064516\n",
      " 0.58064516 0.58064516 0.58064516 0.58064516 0.58064516 0.58064516\n",
      " 0.58064516 0.58064516 0.58064516 0.58064516 0.58064516 0.58064516\n",
      " 0.58064516 0.58064516 0.58064516 0.59079064 0.58064516 0.58064516\n",
      " 0.58064516 0.58064516 0.58064516 0.58064516 0.58064516 0.58064516\n",
      " 0.58064516 0.58064516 0.58064516 0.58064516 0.58064516 0.58064516\n",
      " 0.58064516 0.58064516 0.58064516 0.58064516 0.58064516 0.58064516\n",
      " 0.58064516 0.58064516 0.58064516 0.58064516 0.58064516 0.58064516\n",
      " 0.58064516 0.58064516 0.58064516 0.59079064 0.61629349 0.64516129\n",
      " 0.67741935 0.70967742 0.74193548 0.77419355 0.80645161 0.83870968\n",
      " 0.87096774 0.90322581 0.93548387 0.96129032 0.98064516 0.99354839\n",
      " 1.         1.         1.         1.         1.         1.\n",
      " 1.         1.         1.         1.         1.         1.\n",
      " 1.         1.         1.         1.         1.         1.\n",
      " 1.         1.         1.         1.         1.         1.\n",
      " 1.         1.         1.         1.         1.         1.\n",
      " 1.         1.         1.         1.         1.         1.\n",
      " 1.         1.         1.         1.         1.         1.\n",
      " 1.         1.         1.         1.         1.         1.\n",
      " 1.         1.         1.         1.         1.         1.\n",
      " 1.         1.         1.         1.         1.         1.\n",
      " 1.         1.         1.         1.         1.         1.\n",
      " 1.         1.         1.         1.         1.         1.\n",
      " 1.         1.         1.         1.         1.         1.\n",
      " 1.         1.         1.         1.         1.         1.\n",
      " 1.         1.         1.         1.         1.         1.\n",
      " 0.99354839 0.98064516 0.96129032 0.93548387 0.90322581 0.87096774\n",
      " 0.83870968 0.80645161 0.77419355 0.74193548 0.70967742 0.67741935\n",
      " 0.64516129 0.61290323 0.58064516 0.5483871  0.51612903 0.48387097\n",
      " 0.4516129  0.41935484 0.38709677 0.35483871 0.32258065 0.29032258\n",
      " 0.25806452 0.22580645 0.19354839 0.16129032 0.12903226] [1.         1.         1.         1.         1.         1.\n",
      " 1.         1.         1.         1.         1.         1.\n",
      " 1.         1.         1.         1.         1.         1.\n",
      " 1.         1.         1.         1.         1.         1.\n",
      " 1.         1.         1.         1.         1.         1.\n",
      " 1.         1.         1.         1.         1.         1.\n",
      " 1.         1.         1.         1.         1.         1.\n",
      " 1.         1.         1.         1.         1.         1.\n",
      " 1.         1.         1.         1.         1.         1.\n",
      " 1.         1.         1.         1.         1.         1.\n",
      " 1.         0.         1.         1.         1.         1.\n",
      " 0.         1.         1.         1.         1.         1.\n",
      " 1.         0.74418605 1.         1.         1.         1.\n",
      " 1.         1.         1.         1.         1.         1.\n",
      " 1.         1.         1.         1.         1.         1.\n",
      " 1.         1.         1.         1.         1.         1.\n",
      " 1.         1.         1.         1.         1.         1.\n",
      " 1.         1.         1.         1.         1.         1.\n",
      " 1.         1.         1.         1.         1.         1.\n",
      " 1.         1.         1.         1.         1.         1.\n",
      " 1.         1.         1.         1.         1.         1.\n",
      " 1.         1.         1.         1.         1.         1.\n",
      " 1.         1.         1.         1.         1.         1.\n",
      " 1.         1.         1.         1.         1.         1.\n",
      " 1.         1.         1.         1.         1.         1.\n",
      " 1.         1.         1.         1.         1.         1.\n",
      " 1.         1.         1.         1.         1.         1.\n",
      " 1.         1.         1.         1.         1.         1.\n",
      " 1.         1.         1.         1.         1.         1.\n",
      " 1.         1.         1.         1.         1.         1.\n",
      " 1.         1.         1.         1.         1.         1.\n",
      " 1.         1.         1.         1.         1.         1.\n",
      " 1.         1.         1.         1.         1.         1.\n",
      " 1.         1.         1.         0.98214286 1.         0.\n",
      " 0.         0.         0.59677419 1.         0.63013699 1.\n",
      " 1.         1.         1.         1.         1.         1.\n",
      " 1.         1.         1.         1.         1.         1.\n",
      " 1.         1.         1.         1.         1.         1.\n",
      " 1.         1.         0.57692308 0.         0.         0.\n",
      " 0.         0.         0.         0.         0.         0.\n",
      " 0.         0.52156863 0.5254902  0.         0.         0.\n",
      " 0.         0.         0.         0.         0.         0.\n",
      " 0.         0.         0.         0.         1.         1.\n",
      " 1.         1.         1.         1.         1.         1.\n",
      " 1.         1.         1.         1.         1.         1.\n",
      " 1.         1.         1.         1.         1.         1.\n",
      " 1.         1.         1.         1.         1.         1.\n",
      " 1.         1.         1.         1.         1.         1.\n",
      " 1.         1.         1.         1.         1.         1.\n",
      " 1.         1.         1.         1.         1.         1.\n",
      " 1.         1.         1.         1.         1.         1.\n",
      " 1.         1.         1.         1.         1.         1.\n",
      " 1.         1.         1.         1.         1.         1.\n",
      " 1.         1.         1.         1.         1.         1.\n",
      " 1.         1.         1.         1.         1.         1.\n",
      " 1.         1.         1.         1.         1.         1.\n",
      " 1.         1.         1.         1.         1.         1.\n",
      " 1.         1.         1.         1.         1.         1.\n",
      " 1.         1.         1.         1.         1.         1.\n",
      " 1.         1.         1.         1.         1.         1.\n",
      " 1.         1.         1.         1.         1.         1.\n",
      " 1.         1.         1.         1.         1.         1.\n",
      " 1.         1.         1.         1.         1.         1.\n",
      " 1.         1.         1.         1.         1.         1.\n",
      " 1.         1.         1.         1.         1.         1.\n",
      " 1.         1.         1.         1.         1.         1.\n",
      " 1.         1.         1.         1.         1.         1.\n",
      " 1.         1.         1.         1.         1.        ] [1. 1. 1. 1. 1. 1. 1. 1. 1. 1. 1. 1. 1. 1. 1. 1. 1. 1. 1. 1. 1. 1. 1. 1.\n",
      " 1. 1. 1. 1. 1. 1. 1. 1. 1. 1. 1. 1. 1. 1. 1. 1. 1. 1. 1. 1. 1. 1. 1. 1.\n",
      " 1. 1. 1. 1. 1. 1. 1. 1. 1. 1. 1. 1. 1. 1. 1. 1. 1. 1. 1. 1. 1. 1. 1. 1.\n",
      " 1. 1. 1. 1. 1. 1. 1. 1. 1. 1. 1. 1. 1. 1. 1. 1. 1. 1. 1. 1. 1. 1. 1. 1.\n",
      " 1. 1. 1. 1. 1. 1. 1. 1. 1. 1. 1. 1. 1. 1. 1. 1. 1. 1. 1. 1. 1. 1. 1. 1.\n",
      " 1. 1. 1. 1. 1. 1. 1. 1. 1. 1. 1. 1. 1. 1. 1. 1. 1. 1. 1. 1. 1. 1. 1. 1.\n",
      " 1. 1. 1. 1. 1. 1. 1. 1. 1. 1. 1. 1. 1. 1. 1. 1. 1. 1. 1. 1. 1. 1. 1. 1.\n",
      " 1. 1. 1. 1. 1. 1. 1. 1. 1. 1. 1. 1. 1. 1. 1. 1. 1. 1. 1. 1. 1. 1. 1. 1.\n",
      " 1. 1. 1. 1. 1. 1. 1. 1. 1. 1. 1. 1. 1. 1. 1. 1. 1. 1. 1. 1. 1. 1. 1. 1.\n",
      " 1. 1. 1. 1. 1. 1. 1. 1. 1. 1. 1. 1. 1. 1. 1. 1. 1. 1. 1. 1. 1. 1. 1. 1.\n",
      " 1. 1. 1. 1. 1. 1. 1. 1. 1. 1. 1. 1. 1. 1. 1. 1. 1. 1. 1. 1. 1. 1. 1. 1.\n",
      " 1. 1. 1. 1. 1. 1. 1. 1. 1. 1. 1. 1. 1. 1. 1. 1. 1. 1. 1. 1. 1. 1. 1. 1.\n",
      " 1. 1. 1. 1. 1. 1. 1. 1. 1. 1. 1. 1. 1. 1. 1. 1. 1. 1. 1. 1. 1. 1. 1. 1.\n",
      " 1. 1. 1. 1. 1. 1. 1. 1. 1. 1. 1. 1. 1. 1. 1. 1. 1. 1. 1. 1. 1. 1. 1. 1.\n",
      " 1. 1. 1. 1. 1. 1. 1. 1. 1. 1. 1. 1. 1. 1. 1. 1. 1. 1. 1. 1. 1. 1. 1. 1.\n",
      " 1. 1. 1. 1. 1. 1. 1. 1. 1. 1. 1. 1. 1. 1. 1. 1. 1. 1. 1. 1. 1. 1. 1. 1.\n",
      " 1. 1. 1. 1. 1. 1. 1. 1. 1. 1. 1. 1. 1. 1. 1. 1. 1. 1. 1. 1. 1. 1. 1.]\n",
      "\t Interval (1085, 1418) 2024-07-31 20:05:00 2024-08-01 01:38:00 0.8562156938380363 [0.12903226 0.16129032 0.19354839 0.22580645 0.25806452 0.29032258\n",
      " 0.32258065 0.35483871 0.38709677 0.41935484 0.4516129  0.48387097\n",
      " 0.51612903 0.5483871  0.58064516 0.61290323 0.64516129 0.67741935\n",
      " 0.70967742 0.74193548 0.77419355 0.80645161 0.83870968 0.87096774\n",
      " 0.90322581 0.93548387 0.96129032 0.98064516 0.99354839 1.\n",
      " 1.         1.         1.         1.         1.         1.\n",
      " 0.99354839 0.98064516 0.96129032 0.94193548 0.92258065 0.90967742\n",
      " 0.90322581 0.90322581 0.89677419 0.88387097 0.86451613 0.83870968\n",
      " 0.80645161 0.77419355 0.74193548 0.70967742 0.70967742 0.70967742\n",
      " 0.70967742 0.70967742 0.70967742 0.70967742 0.70967742 0.70967742\n",
      " 0.70967742 0.70967742 0.70967742 0.70967742 0.70967742 0.70967742\n",
      " 0.70967742 0.70967742 0.70967742 0.70967742 0.70967742 0.70967742\n",
      " 0.70967742 0.70967742 0.70967742 0.70967742 0.70967742 0.70967742\n",
      " 0.70967742 0.70967742 0.70967742 0.70967742 0.70967742 0.70967742\n",
      " 0.70967742 0.70967742 0.70967742 0.70967742 0.70967742 0.70967742\n",
      " 0.70967742 0.70967742 0.70967742 0.70967742 0.70967742 0.70967742\n",
      " 0.70967742 0.70967742 0.70967742 0.70967742 0.70967742 0.70967742\n",
      " 0.70967742 0.70967742 0.70967742 0.70967742 0.70967742 0.70967742\n",
      " 0.70967742 0.70967742 0.70967742 0.74193548 0.77419355 0.80645161\n",
      " 0.83870968 0.87096774 0.90322581 0.93548387 0.96129032 0.98064516\n",
      " 0.99354839 1.         1.         1.         1.         1.\n",
      " 1.         1.         1.         1.         1.         1.\n",
      " 1.         1.         1.         1.         1.         1.\n",
      " 1.         1.         1.         1.         1.         1.\n",
      " 1.         1.         1.         1.         1.         1.\n",
      " 1.         1.         1.         1.         1.         1.\n",
      " 1.         1.         1.         1.         1.         1.\n",
      " 1.         1.         1.         1.         1.         1.\n",
      " 1.         1.         1.         1.         1.         1.\n",
      " 1.         1.         1.         1.         1.         1.\n",
      " 1.         1.         1.         0.99354839 0.98484958 0.97368898\n",
      " 0.96252838 0.95136777 0.95650598 0.95650598 0.95650598 0.95650598\n",
      " 0.95650598 0.95650598 0.95650598 0.95650598 0.95650598 0.95650598\n",
      " 0.95650598 0.95650598 0.95650598 0.95650598 0.95650598 0.95650598\n",
      " 0.95650598 0.95650598 0.95650598 0.95650598 0.95650598 0.95650598\n",
      " 0.95650598 0.95650598 0.95650598 0.95650598 0.95650598 0.95136777\n",
      " 0.95650598 0.95650598 0.95650598 0.95650598 0.95650598 0.95650598\n",
      " 0.95650598 0.95650598 0.95650598 0.95650598 0.95650598 0.95650598\n",
      " 0.95650598 0.95650598 0.95650598 0.95650598 0.95650598 0.95650598\n",
      " 0.95650598 0.95650598 0.95650598 0.95650598 0.95650598 0.95650598\n",
      " 0.95650598 0.95650598 0.95650598 0.95650598 0.95650598 0.9593474\n",
      " 0.970508   0.98166861 0.99282921 0.9975382  1.         1.\n",
      " 1.         1.         1.         1.         1.         1.\n",
      " 1.         1.         1.         1.         1.         1.\n",
      " 1.         1.         1.         1.         1.         1.\n",
      " 1.         1.         1.         1.         1.         1.\n",
      " 1.         1.         1.         1.         1.         1.\n",
      " 1.         1.         1.         1.         1.         1.\n",
      " 1.         1.         1.         1.         1.         1.\n",
      " 1.         1.         1.         1.         1.         1.\n",
      " 1.         1.         1.         1.         0.99354839 0.98064516\n",
      " 0.96129032 0.93548387 0.90322581 0.87096774 0.83870968 0.80645161\n",
      " 0.77419355 0.74193548 0.70967742 0.67741935 0.64516129 0.61290323\n",
      " 0.58064516 0.5483871  0.51612903 0.48387097 0.4516129  0.42207792\n",
      " 0.39473684 0.36912752 0.34482759 0.32142857 0.2962963  0.26923077\n",
      " 0.24       0.20833333 0.17391304 0.13636364] [1.         1.         1.         1.         1.         1.\n",
      " 1.         1.         1.         1.         1.         1.\n",
      " 1.         1.         1.         1.         1.         1.\n",
      " 1.         1.         1.         1.         1.         1.\n",
      " 1.         1.         1.         1.         1.         1.\n",
      " 1.         1.         1.         1.         1.         1.\n",
      " 1.         1.         1.         1.         1.         1.\n",
      " 1.         1.         1.         1.         1.         1.\n",
      " 1.         1.         1.         1.         1.         1.\n",
      " 1.         1.         1.         1.         1.         1.\n",
      " 1.         1.         1.         1.         1.         1.\n",
      " 1.         1.         0.         0.         0.         1.\n",
      " 1.         1.         1.         1.         0.         0.\n",
      " 0.         0.         0.         0.         0.         0.\n",
      " 0.         0.         0.         0.         0.         1.\n",
      " 1.         1.         1.         1.         1.         1.\n",
      " 1.         1.         1.         1.         1.         1.\n",
      " 1.         1.         1.         1.         1.         1.\n",
      " 1.         1.         1.         1.         1.         1.\n",
      " 1.         1.         1.         1.         1.         1.\n",
      " 1.         1.         1.         1.         1.         1.\n",
      " 1.         1.         1.         1.         1.         1.\n",
      " 1.         1.         1.         1.         1.         1.\n",
      " 1.         1.         1.         1.         1.         1.\n",
      " 1.         1.         1.         1.         1.         1.\n",
      " 1.         1.         1.         1.         1.         1.\n",
      " 1.         1.         1.         1.         1.         1.\n",
      " 1.         1.         1.         1.         1.         1.\n",
      " 1.         1.         1.         1.         1.         1.\n",
      " 1.         1.         1.         1.         1.         1.\n",
      " 1.         1.         1.         1.         1.         1.\n",
      " 1.         1.         1.         1.         1.         1.\n",
      " 1.         1.         1.         1.         1.         1.\n",
      " 1.         1.         1.         1.         1.         1.\n",
      " 1.         1.         1.         1.         1.         1.\n",
      " 1.         1.         1.         1.         1.         0.\n",
      " 0.65168539 0.61842105 1.         1.         1.         1.\n",
      " 1.         1.         1.         1.         1.         1.\n",
      " 1.         1.         1.         1.         1.         1.\n",
      " 1.         1.         1.         1.         1.         1.\n",
      " 1.         1.         1.         1.         1.         1.\n",
      " 1.         1.         1.         1.         1.         1.\n",
      " 1.         1.         1.         1.         1.         1.\n",
      " 1.         1.         1.         1.         1.         1.\n",
      " 1.         1.         1.         1.         1.         1.\n",
      " 1.         1.         1.         1.         1.         1.\n",
      " 1.         1.         1.         1.         1.         1.\n",
      " 1.         1.         1.         1.         1.         1.\n",
      " 1.         1.         1.         1.         1.         1.\n",
      " 1.         1.         1.         1.         1.         1.\n",
      " 1.         1.         1.         1.         1.         1.\n",
      " 1.         1.         1.         1.         1.         1.\n",
      " 1.         1.         1.         1.         1.         1.\n",
      " 1.         1.         1.         1.         1.         1.\n",
      " 1.         1.         1.         1.         1.         1.\n",
      " 1.         1.         1.         1.        ] [1. 1. 1. 1. 1. 1. 1. 1. 1. 1. 1. 1. 1. 1. 1. 1. 1. 1. 1. 1. 1. 1. 1. 1.\n",
      " 1. 1. 1. 1. 1. 1. 1. 1. 1. 1. 1. 1. 1. 1. 1. 1. 1. 1. 1. 1. 1. 1. 1. 1.\n",
      " 1. 1. 1. 1. 1. 1. 1. 1. 1. 1. 1. 1. 1. 1. 1. 1. 1. 1. 1. 1. 1. 1. 1. 1.\n",
      " 1. 1. 1. 1. 1. 1. 1. 1. 1. 1. 1. 1. 1. 1. 1. 1. 1. 1. 1. 1. 1. 1. 1. 1.\n",
      " 1. 1. 1. 1. 1. 1. 1. 1. 1. 1. 1. 1. 1. 1. 1. 1. 1. 1. 1. 1. 1. 1. 1. 1.\n",
      " 1. 1. 1. 1. 1. 1. 1. 1. 1. 1. 1. 1. 1. 1. 1. 1. 1. 1. 1. 1. 1. 1. 1. 1.\n",
      " 1. 1. 1. 1. 1. 1. 1. 1. 1. 1. 1. 1. 1. 1. 1. 1. 1. 1. 1. 1. 1. 1. 1. 1.\n",
      " 1. 1. 1. 1. 1. 1. 1. 1. 1. 1. 1. 1. 1. 1. 1. 1. 1. 1. 1. 1. 1. 1. 1. 1.\n",
      " 1. 1. 1. 1. 1. 1. 1. 1. 1. 1. 1. 1. 1. 1. 1. 1. 1. 1. 1. 1. 1. 1. 1. 1.\n",
      " 1. 1. 1. 1. 1. 1. 1. 1. 1. 1. 1. 1. 1. 1. 1. 1. 1. 1. 1. 1. 1. 1. 1. 1.\n",
      " 1. 1. 1. 1. 1. 1. 1. 1. 1. 1. 1. 1. 1. 1. 1. 1. 1. 1. 1. 1. 1. 1. 1. 1.\n",
      " 1. 1. 1. 1. 1. 1. 1. 1. 1. 1. 1. 1. 1. 1. 1. 1. 1. 1. 1. 1. 1. 1. 1. 1.\n",
      " 1. 1. 1. 1. 1. 1. 1. 1. 1. 1. 1. 1. 1. 1. 1. 1. 1. 1. 1. 1. 1. 1. 1. 1.\n",
      " 1. 1. 1. 1. 1. 1. 1. 1. 1. 1. 1. 1. 1. 1. 1. 1. 1. 1. 1. 1. 1. 1.]\n"
     ]
    }
   ],
   "source": [
    "for activity in activities:\n",
    "    print(\"#####\",activity)\n",
    "    cut0=activity_data[activity]['cut0']/2.0\n",
    "    agg_location=activity_data[activity]['agg_location']\n",
    "\n",
    "    with open(processed_data_folder+\"/DAY_\"+str(day)+\"/act/\"+activity+\".all.tsv\", \"w\") as file:    \n",
    "        file.write(\"index\\ttime-ini\\ttime-end\")\n",
    "        for ux,user in enumerate(users):\n",
    "            file.write(\"\\t\"+user)\n",
    "        file.write(\"\\n\")\n",
    "        \n",
    "        for ux,user in enumerate(users):\n",
    "            print(\"##\",user)\n",
    "            for ii in intervals(I[activity][ux],cut0):\n",
    "                if(agg_location=='mean' or agg_location is None):\n",
    "                    degree=np.mean(I[activity][ux][ii[0]:ii[1]+1])\n",
    "                else:\n",
    "                    if (agg_location=='max'):\n",
    "                        degree=np.max(I[activity][ux][ii[0]:ii[1]+1])\n",
    "                    else:\n",
    "                        print(\"ERROR DEGREE\")\n",
    "                        degree=-1.0\n",
    "                print(\"\\t Interval\",ii, datetime.fromtimestamp(absT(ii[0])).strftime(\"%Y-%m-%d %H:%M:%S\"), datetime.fromtimestamp(absT(ii[1])).strftime(\"%Y-%m-%d %H:%M:%S\"),degree,I[activity][ux][ii[0]:ii[1]+1],U[activity][ux][ii[0]:ii[1]+1],S[activity][ii[0]:ii[1]+1])\n",
    "                if degree < cut0:\n",
    "                    degree=0.0\n",
    "                file.write(str(ii)+\"\\t\"+datetime.fromtimestamp(absT(ii[0])).strftime(\"%Y-%m-%d %H:%M:%S\")+\"\\t\"+datetime.fromtimestamp(absT(ii[1])).strftime(\"%Y-%m-%d %H:%M:%S\"))\n",
    "                for ux2,user2 in enumerate(users):\n",
    "                    if(ux==ux2):\n",
    "                        file.write(\"\\t\"+\"{:,.2f}\".format(degree))\n",
    "                    else:\n",
    "                        file.write(\"\\t0.0\")\n",
    "                file.write(\"\\n\")"
   ]
  },
  {
   "cell_type": "code",
   "execution_count": 10,
   "id": "45bf813e",
   "metadata": {
    "execution": {
     "iopub.execute_input": "2024-08-29T15:38:42.265172Z",
     "iopub.status.busy": "2024-08-29T15:38:42.264724Z",
     "iopub.status.idle": "2024-08-29T15:38:42.297757Z",
     "shell.execute_reply": "2024-08-29T15:38:42.297251Z"
    }
   },
   "outputs": [
    {
     "name": "stdout",
     "output_type": "stream",
     "text": [
      "\t2024-07-31 02:00:00\t0.0\t0.0\t0.0\t0.0\t0.0\t0.0\t0.0\n",
      "\t2024-07-31 02:01:00\t0.0\t0.0\t0.0\t0.0\t0.0\t0.0\t0.0\n",
      "\t2024-07-31 02:02:00\t0.0\t0.0\t0.0\t0.0\t0.0\t0.0\t0.0\n",
      "\t2024-07-31 02:03:00\t0.0\t0.0\t0.0\t0.0\t0.0\t0.0\t0.0\n",
      "\t2024-07-31 02:04:00\t0.0\t0.0\t0.0\t0.0\t0.0\t0.0\t0.0\n",
      "\t2024-07-31 02:05:00\t0.0\t0.0\t0.0\t0.0\t0.0\t0.0\t0.0\n",
      "\t2024-07-31 02:06:00\t0.0\t0.0\t0.0\t0.0\t0.0\t0.0\t0.0\n",
      "\t2024-07-31 02:07:00\t0.0\t0.0\t0.0\t0.0\t0.0\t0.0\t0.0\n",
      "\t2024-07-31 02:08:00\t0.0\t0.0\t0.0\t0.0\t0.0\t0.0\t0.0\n",
      "\t2024-07-31 02:09:00\t0.0\t0.0\t0.0\t0.0\t0.0\t0.0\t0.0\n",
      "\t2024-07-31 02:10:00\t0.0\t0.0\t0.0\t0.0\t0.0\t0.0\t0.0\n",
      "\t2024-07-31 02:11:00\t0.0\t0.0\t0.0\t0.0\t0.0\t0.0\t0.0\n",
      "\t2024-07-31 02:12:00\t0.0\t0.0\t0.0\t0.0\t0.0\t0.0\t0.0\n",
      "\t2024-07-31 02:13:00\t0.0\t0.0\t0.0\t0.0\t0.0\t0.0\t0.0\n",
      "\t2024-07-31 02:14:00\t0.0\t0.0\t0.0\t0.0\t0.0\t0.0\t0.0\n",
      "\t2024-07-31 02:15:00\t0.0\t0.0\t0.0\t0.0\t0.0\t0.0\t0.0\n",
      "\t2024-07-31 02:16:00\t0.0\t0.0\t0.0\t0.0\t0.0\t0.0\t0.0\n",
      "\t2024-07-31 02:17:00\t0.0\t0.0\t0.0\t0.0\t0.0\t0.0\t0.0\n",
      "\t2024-07-31 02:18:00\t0.0\t0.0\t0.0\t0.0\t0.0\t0.0\t0.0\n",
      "\t2024-07-31 02:19:00\t0.0\t0.0\t0.0\t0.0\t0.0\t0.0\t0.0\n",
      "\t2024-07-31 02:20:00\t0.0\t0.0\t0.0\t0.0\t0.0\t0.0\t0.0\n",
      "\t2024-07-31 02:21:00\t0.0\t0.0\t0.0\t0.0\t0.0\t0.0\t0.0\n",
      "\t2024-07-31 02:22:00\t0.0\t0.0\t0.0\t0.0\t0.0\t0.0\t0.0\n",
      "\t2024-07-31 02:23:00\t0.0\t0.0\t0.0\t0.0\t0.0\t0.0\t0.0\n",
      "\t2024-07-31 02:24:00\t0.0\t0.0\t0.0\t0.0\t0.0\t0.0\t0.0\n",
      "\t2024-07-31 02:25:00\t0.0\t0.0\t0.0\t0.0\t0.0\t0.0\t0.0\n",
      "\t2024-07-31 02:26:00\t0.0\t0.0\t0.0\t0.0\t0.0\t0.0\t0.0\n",
      "\t2024-07-31 02:27:00\t0.0\t0.0\t0.0\t0.0\t0.0\t0.0\t0.0\n",
      "\t2024-07-31 02:28:00\t0.0\t0.0\t0.0\t0.0\t0.0\t0.0\t0.0\n",
      "\t2024-07-31 02:29:00\t0.0\t0.0\t0.0\t0.0\t0.0\t0.0\t0.0\n",
      "\t2024-07-31 02:30:00\t0.0\t0.0\t0.0\t0.0\t0.0\t0.0\t0.0\n",
      "\t2024-07-31 02:31:00\t0.0\t0.0\t0.0\t0.0\t0.0\t0.0\t0.0\n",
      "\t2024-07-31 02:32:00\t0.0\t0.0\t0.0\t0.0\t0.0\t0.0\t0.0\n",
      "\t2024-07-31 02:33:00\t0.0\t0.0\t0.0\t0.0\t0.0\t0.0\t0.0\n",
      "\t2024-07-31 02:34:00\t0.0\t0.0\t0.0\t0.0\t0.0\t0.0\t0.0\n",
      "\t2024-07-31 02:35:00\t0.0\t0.0\t0.0\t0.0\t0.0\t0.0\t0.0\n",
      "\t2024-07-31 02:36:00\t0.0\t0.0\t0.0\t0.0\t0.0\t0.0\t0.0\n",
      "\t2024-07-31 02:37:00\t0.0\t0.0\t0.0\t0.0\t0.0\t0.0\t0.0\n",
      "\t2024-07-31 02:38:00\t0.0\t0.0\t0.0\t0.0\t0.0\t0.0\t0.0\n",
      "\t2024-07-31 02:39:00\t0.0\t0.0\t0.0\t0.0\t0.0\t0.0\t0.0\n",
      "\t2024-07-31 02:40:00\t0.0\t0.0\t0.0\t0.0\t0.0\t0.0\t0.0\n",
      "\t2024-07-31 02:41:00\t0.0\t0.0\t0.0\t0.0\t0.0\t0.0\t0.0\n",
      "\t2024-07-31 02:42:00\t0.0\t0.0\t0.0\t0.0\t0.0\t0.0\t0.0\n",
      "\t2024-07-31 02:43:00\t0.0\t0.0\t0.0\t0.0\t0.0\t0.0\t0.0\n",
      "\t2024-07-31 02:44:00\t0.0\t0.0\t0.0\t0.0\t0.0\t0.0\t0.0\n",
      "\t2024-07-31 02:45:00\t0.0\t0.0\t0.0\t0.0\t0.0\t0.0\t0.0\n",
      "\t2024-07-31 02:46:00\t0.0\t0.0\t0.0\t0.0\t0.0\t0.0\t0.0\n",
      "\t2024-07-31 02:47:00\t0.0\t0.0\t0.0\t0.0\t0.0\t0.0\t0.0\n",
      "\t2024-07-31 02:48:00\t0.0\t0.0\t0.0\t0.0\t0.0\t0.0\t0.0\n",
      "\t2024-07-31 02:49:00\t0.0\t0.0\t0.0\t0.0\t0.0\t0.0\t0.0\n",
      "\t2024-07-31 02:50:00\t0.0\t0.0\t0.0\t0.0\t0.0\t0.0\t0.0\n",
      "\t2024-07-31 02:51:00\t0.0\t0.0\t0.0\t0.0\t0.0\t0.0\t0.0\n",
      "\t2024-07-31 02:52:00\t0.0\t0.0\t0.0\t0.0\t0.0\t0.0\t0.0\n",
      "\t2024-07-31 02:53:00\t0.0\t0.0\t0.0\t0.0\t0.0\t0.0\t0.0\n",
      "\t2024-07-31 02:54:00\t0.0\t0.0\t0.0\t0.0\t0.0\t0.0\t0.0\n",
      "\t2024-07-31 02:55:00\t0.0\t0.0\t0.0\t0.0\t0.0\t0.0\t0.0\n",
      "\t2024-07-31 02:56:00\t0.0\t0.0\t0.0\t0.0\t0.0\t0.0\t0.0\n",
      "\t2024-07-31 02:57:00\t0.0\t0.0\t0.0\t0.0\t0.0\t0.0\t0.0\n",
      "\t2024-07-31 02:58:00\t0.0\t0.0\t0.0\t0.0\t0.0\t0.0\t0.0\n",
      "\t2024-07-31 02:59:00\t0.0\t0.0\t0.0\t0.0\t0.0\t0.0\t0.0\n",
      "\t2024-07-31 03:00:00\t0.0\t0.0\t0.0\t0.0\t0.0\t0.0\t0.0\n",
      "\t2024-07-31 03:01:00\t0.0\t0.0\t0.0\t0.0\t0.0\t0.0\t0.0\n",
      "\t2024-07-31 03:02:00\t0.0\t0.0\t0.0\t0.0\t0.0\t0.0\t0.0\n",
      "\t2024-07-31 03:03:00\t0.0\t0.0\t0.0\t0.0\t0.0\t0.0\t0.0\n",
      "\t2024-07-31 03:04:00\t0.0\t0.0\t0.0\t0.0\t0.0\t0.0\t0.0\n",
      "\t2024-07-31 03:05:00\t0.0\t0.0\t0.0\t0.0\t0.0\t0.0\t0.0\n",
      "\t2024-07-31 03:06:00\t0.0\t0.0\t0.0\t0.0\t0.0\t0.0\t0.0\n",
      "\t2024-07-31 03:07:00\t0.0\t0.0\t0.0\t0.0\t0.0\t0.0\t0.0\n",
      "\t2024-07-31 03:08:00\t0.0\t0.0\t0.0\t0.0\t0.0\t0.0\t0.0\n",
      "\t2024-07-31 03:09:00\t0.0\t0.0\t0.0\t0.0\t0.0\t0.0\t0.0\n",
      "\t2024-07-31 03:10:00\t0.0\t0.0\t0.0\t0.0\t0.0\t0.0\t0.0\n",
      "\t2024-07-31 03:11:00\t0.0\t0.0\t0.0\t0.0\t0.0\t0.0\t0.0\n",
      "\t2024-07-31 03:12:00\t0.0\t0.0\t0.0\t0.0\t0.0\t0.0\t0.0\n",
      "\t2024-07-31 03:13:00\t0.0\t0.0\t0.0\t0.0\t0.0\t0.0\t0.0\n",
      "\t2024-07-31 03:14:00\t0.0\t0.0\t0.0\t0.0\t0.0\t0.0\t0.0\n",
      "\t2024-07-31 03:15:00\t0.0\t0.0\t0.0\t0.0\t0.0\t0.0\t0.0\n",
      "\t2024-07-31 03:16:00\t0.0\t0.0\t0.0\t0.0\t0.0\t0.0\t0.0\n",
      "\t2024-07-31 03:17:00\t0.0\t0.0\t0.0\t0.0\t0.0\t0.0\t0.0\n",
      "\t2024-07-31 03:18:00\t0.0\t0.0\t0.0\t0.0\t0.0\t0.0\t0.0\n",
      "\t2024-07-31 03:19:00\t0.0\t0.0\t0.0\t0.0\t0.0\t0.0\t0.0\n",
      "\t2024-07-31 03:20:00\t0.0\t0.0\t0.0\t0.0\t0.0\t0.0\t0.0\n",
      "\t2024-07-31 03:21:00\t0.0\t0.0\t0.0\t0.0\t0.0\t0.0\t0.0\n",
      "\t2024-07-31 03:22:00\t0.0\t0.0\t0.0\t0.0\t0.0\t0.0\t0.0\n",
      "\t2024-07-31 03:23:00\t0.0\t0.0\t0.0\t0.0\t0.0\t0.0\t0.0\n",
      "\t2024-07-31 03:24:00\t0.0\t0.0\t0.0\t0.0\t0.0\t0.0\t0.0\n",
      "\t2024-07-31 03:25:00\t0.0\t0.0\t0.0\t0.0\t0.0\t0.0\t0.0\n",
      "\t2024-07-31 03:26:00\t0.0\t0.0\t0.0\t0.0\t0.0\t0.0\t0.0\n",
      "\t2024-07-31 03:27:00\t0.0\t0.0\t0.0\t0.0\t0.0\t0.0\t0.0\n",
      "\t2024-07-31 03:28:00\t0.0\t0.0\t0.0\t0.0\t0.0\t0.0\t0.0\n",
      "\t2024-07-31 03:29:00\t0.0\t0.0\t0.0\t0.0\t0.0\t0.0\t0.0\n",
      "\t2024-07-31 03:30:00\t0.0\t0.0\t0.0\t0.0\t0.0\t0.0\t0.0\n",
      "\t2024-07-31 03:31:00\t0.0\t0.0\t0.0\t0.0\t0.0\t0.0\t0.0\n",
      "\t2024-07-31 03:32:00\t0.0\t0.0\t0.0\t0.0\t0.0\t0.0\t0.0\n",
      "\t2024-07-31 03:33:00\t0.0\t0.0\t0.0\t0.0\t0.0\t0.0\t0.0\n",
      "\t2024-07-31 03:34:00\t0.0\t0.0\t0.0\t0.0\t0.0\t0.0\t0.0\n",
      "\t2024-07-31 03:35:00\t0.0\t0.0\t0.0\t0.0\t0.0\t0.0\t0.0\n",
      "\t2024-07-31 03:36:00\t0.0\t0.0\t0.0\t0.0\t0.0\t0.0\t0.0\n",
      "\t2024-07-31 03:37:00\t0.0\t0.0\t0.0\t0.0\t0.0\t0.0\t0.0\n",
      "\t2024-07-31 03:38:00\t0.0\t0.0\t0.0\t0.0\t0.0\t0.0\t0.0\n",
      "\t2024-07-31 03:39:00\t0.0\t0.0\t0.0\t0.0\t0.0\t0.0\t0.0\n",
      "\t2024-07-31 03:40:00\t0.0\t0.0\t0.0\t0.0\t0.0\t0.0\t0.0\n",
      "\t2024-07-31 03:41:00\t0.0\t0.0\t0.0\t0.0\t0.0\t0.0\t0.0\n",
      "\t2024-07-31 03:42:00\t0.0\t0.0\t0.0\t0.0\t0.0\t0.0\t0.0\n",
      "\t2024-07-31 03:43:00\t0.0\t0.0\t0.0\t0.0\t0.0\t0.0\t0.0\n",
      "\t2024-07-31 03:44:00\t0.0\t0.0\t0.0\t0.0\t0.0\t0.0\t0.0\n",
      "\t2024-07-31 03:45:00\t0.0\t0.0\t0.0\t0.0\t0.0\t0.0\t0.0\n",
      "\t2024-07-31 03:46:00\t0.0\t0.0\t0.0\t0.0\t0.0\t0.0\t0.0\n",
      "\t2024-07-31 03:47:00\t0.0\t0.0\t0.0\t0.0\t0.0\t0.0\t0.0\n",
      "\t2024-07-31 03:48:00\t0.0\t0.0\t0.0\t0.0\t0.0\t0.0\t0.0\n",
      "\t2024-07-31 03:49:00\t0.0\t0.0\t0.0\t0.0\t0.0\t0.0\t0.0\n",
      "\t2024-07-31 03:50:00\t0.0\t0.0\t0.0\t0.0\t0.0\t0.0\t0.0\n",
      "\t2024-07-31 03:51:00\t0.0\t0.0\t0.0\t0.0\t0.0\t0.0\t0.0\n",
      "\t2024-07-31 03:52:00\t0.0\t0.0\t0.0\t0.0\t0.0\t0.0\t0.0\n",
      "\t2024-07-31 03:53:00\t0.0\t0.0\t0.0\t0.0\t0.0\t0.0\t0.0\n",
      "\t2024-07-31 03:54:00\t0.0\t0.0\t0.0\t0.0\t0.0\t0.0\t0.0\n",
      "\t2024-07-31 03:55:00\t0.0\t0.0\t0.0\t0.0\t0.0\t0.0\t0.0\n",
      "\t2024-07-31 03:56:00\t0.0\t0.0\t0.0\t0.0\t0.0\t0.0\t0.0\n",
      "\t2024-07-31 03:57:00\t0.0\t0.0\t0.0\t0.0\t0.0\t0.0\t0.0\n",
      "\t2024-07-31 03:58:00\t0.0\t0.0\t0.0\t0.0\t0.0\t0.0\t0.0\n",
      "\t2024-07-31 03:59:00\t0.0\t0.0\t0.0\t0.0\t0.0\t0.0\t0.0\n",
      "\t2024-07-31 04:00:00\t0.0\t0.0\t0.0\t0.0\t0.0\t0.0\t0.0\n",
      "\t2024-07-31 04:01:00\t0.0\t0.0\t0.0\t0.0\t0.0\t0.0\t0.0\n",
      "\t2024-07-31 04:02:00\t0.0\t0.0\t0.0\t0.0\t0.0\t0.0\t0.0\n",
      "\t2024-07-31 04:03:00\t0.0\t0.0\t0.0\t0.0\t0.0\t0.0\t0.0\n",
      "\t2024-07-31 04:04:00\t0.0\t0.0\t0.0\t0.0\t0.0\t0.0\t0.0\n",
      "\t2024-07-31 04:05:00\t0.0\t0.0\t0.0\t0.0\t0.0\t0.0\t0.0\n",
      "\t2024-07-31 04:06:00\t0.0\t0.0\t0.0\t0.0\t0.0\t0.0\t0.0\n",
      "\t2024-07-31 04:07:00\t0.0\t0.0\t0.0\t0.0\t0.0\t0.0\t0.0\n",
      "\t2024-07-31 04:08:00\t0.0\t0.0\t0.0\t0.0\t0.0\t0.0\t0.0\n",
      "\t2024-07-31 04:09:00\t0.0\t0.0\t0.0\t0.0\t0.0\t0.0\t0.0\n",
      "\t2024-07-31 04:10:00\t0.0\t0.0\t0.0\t0.0\t0.0\t0.0\t0.0\n",
      "\t2024-07-31 04:11:00\t0.0\t0.0\t0.0\t0.0\t0.0\t0.0\t0.0\n",
      "\t2024-07-31 04:12:00\t0.0\t0.0\t0.0\t0.0\t0.0\t0.0\t0.0\n",
      "\t2024-07-31 04:13:00\t0.0\t0.0\t0.0\t0.0\t0.0\t0.0\t0.0\n",
      "\t2024-07-31 04:14:00\t0.0\t0.0\t0.0\t0.0\t0.0\t0.0\t0.0\n",
      "\t2024-07-31 04:15:00\t0.0\t0.0\t0.0\t0.0\t0.0\t0.0\t0.0\n",
      "\t2024-07-31 04:16:00\t0.0\t0.0\t0.0\t0.0\t0.0\t0.0\t0.0\n",
      "\t2024-07-31 04:17:00\t0.0\t0.0\t0.0\t0.0\t0.0\t0.0\t0.0\n",
      "\t2024-07-31 04:18:00\t0.0\t0.0\t0.0\t0.0\t0.0\t0.0\t0.0\n",
      "\t2024-07-31 04:19:00\t0.0\t0.0\t0.0\t0.0\t0.0\t0.0\t0.0\n",
      "\t2024-07-31 04:20:00\t0.0\t0.0\t0.0\t0.0\t0.0\t0.0\t0.0\n",
      "\t2024-07-31 04:21:00\t0.0\t0.0\t0.0\t0.0\t0.0\t0.0\t0.0\n",
      "\t2024-07-31 04:22:00\t0.0\t0.0\t0.0\t0.0\t0.0\t0.0\t0.0\n",
      "\t2024-07-31 04:23:00\t0.0\t0.0\t0.0\t0.0\t0.0\t0.0\t0.0\n",
      "\t2024-07-31 04:24:00\t0.0\t0.0\t0.0\t0.0\t0.0\t0.0\t0.0\n",
      "\t2024-07-31 04:25:00\t0.0\t0.0\t0.0\t0.0\t0.0\t0.0\t0.0\n",
      "\t2024-07-31 04:26:00\t0.0\t0.0\t0.0\t0.0\t0.0\t0.0\t0.0\n",
      "\t2024-07-31 04:27:00\t0.0\t0.0\t0.0\t0.0\t0.0\t0.0\t0.0\n",
      "\t2024-07-31 04:28:00\t0.0\t0.0\t0.0\t0.0\t0.0\t0.0\t0.0\n",
      "\t2024-07-31 04:29:00\t0.0\t0.0\t0.0\t0.0\t0.0\t0.0\t0.0\n",
      "\t2024-07-31 04:30:00\t0.0\t0.0\t0.0\t0.0\t0.0\t0.0\t0.0\n",
      "\t2024-07-31 04:31:00\t0.0\t0.0\t0.0\t0.0\t0.0\t0.0\t0.0\n",
      "\t2024-07-31 04:32:00\t0.0\t0.0\t0.0\t0.0\t0.0\t0.0\t0.0\n",
      "\t2024-07-31 04:33:00\t0.0\t0.0\t0.0\t0.0\t0.0\t0.0\t0.0\n",
      "\t2024-07-31 04:34:00\t0.0\t0.0\t0.0\t0.0\t0.0\t0.0\t0.0\n",
      "\t2024-07-31 04:35:00\t0.0\t0.0\t0.0\t0.0\t0.0\t0.0\t0.0\n",
      "\t2024-07-31 04:36:00\t0.0\t0.0\t0.0\t0.0\t0.0\t0.0\t0.0\n",
      "\t2024-07-31 04:37:00\t0.0\t0.0\t0.0\t0.0\t0.0\t0.0\t0.0\n",
      "\t2024-07-31 04:38:00\t0.0\t0.0\t0.0\t0.0\t0.0\t0.0\t0.0\n",
      "\t2024-07-31 04:39:00\t0.0\t0.0\t0.0\t0.0\t0.0\t0.0\t0.0\n",
      "\t2024-07-31 04:40:00\t0.0\t0.0\t0.0\t0.0\t0.0\t0.0\t0.0\n",
      "\t2024-07-31 04:41:00\t0.0\t0.0\t0.0\t0.0\t0.0\t0.0\t0.0\n",
      "\t2024-07-31 04:42:00\t0.0\t0.0\t0.0\t0.0\t0.0\t0.0\t0.0\n",
      "\t2024-07-31 04:43:00\t0.0\t0.0\t0.0\t0.0\t0.0\t0.0\t0.0\n",
      "\t2024-07-31 04:44:00\t0.0\t0.0\t0.0\t0.0\t0.0\t0.0\t0.0\n",
      "\t2024-07-31 04:45:00\t0.0\t0.0\t0.0\t0.0\t0.0\t0.0\t0.0\n",
      "\t2024-07-31 04:46:00\t0.0\t0.0\t0.0\t0.0\t0.0\t0.0\t0.0\n",
      "\t2024-07-31 04:47:00\t0.0\t0.0\t0.0\t0.0\t0.0\t0.0\t0.0\n",
      "\t2024-07-31 04:48:00\t0.0\t0.0\t0.0\t0.0\t0.0\t0.0\t0.0\n",
      "\t2024-07-31 04:49:00\t0.0\t0.0\t0.0\t0.0\t0.0\t0.0\t0.0\n",
      "\t2024-07-31 04:50:00\t0.0\t0.0\t0.0\t0.0\t0.0\t0.0\t0.0\n",
      "\t2024-07-31 04:51:00\t0.0\t0.0\t0.0\t0.0\t0.0\t0.0\t0.0\n",
      "\t2024-07-31 04:52:00\t0.0\t0.0\t0.0\t0.0\t0.0\t0.0\t0.0\n",
      "\t2024-07-31 04:53:00\t0.0\t0.0\t0.0\t0.0\t0.0\t0.0\t0.0\n",
      "\t2024-07-31 04:54:00\t0.0\t0.0\t0.0\t0.0\t0.0\t0.0\t0.0\n",
      "\t2024-07-31 04:55:00\t0.0\t0.0\t0.0\t0.0\t0.0\t0.0\t0.0\n",
      "\t2024-07-31 04:56:00\t0.0\t0.0\t0.0\t0.0\t0.0\t0.0\t0.0\n",
      "\t2024-07-31 04:57:00\t0.0\t0.0\t0.0\t0.0\t0.0\t0.0\t0.0\n",
      "\t2024-07-31 04:58:00\t0.006060606060606061\t0.0\t0.0\t0.0\t0.0\t0.0\t0.0\n",
      "\t2024-07-31 04:59:00\t0.0\t0.0\t0.0\t0.0\t0.0\t0.0\t0.0\n",
      "\t2024-07-31 05:00:00\t0.0\t0.0\t0.0\t0.0\t0.0\t0.0\t0.0\n",
      "\t2024-07-31 05:01:00\t0.0\t0.0\t0.0\t0.0\t0.0\t0.0\t0.0\n",
      "\t2024-07-31 05:02:00\t0.0\t0.0\t0.0\t0.0\t0.0\t0.0\t0.0\n",
      "\t2024-07-31 05:03:00\t0.0\t0.0\t0.0\t0.0\t0.0\t0.0\t0.0\n",
      "\t2024-07-31 05:04:00\t0.0\t0.0\t0.0\t0.0\t0.0\t0.0\t0.0\n",
      "\t2024-07-31 05:05:00\t0.0\t0.0\t0.0\t0.0\t0.0\t0.0\t0.0\n",
      "\t2024-07-31 05:06:00\t0.0\t0.0\t0.0\t0.0\t0.0\t0.0\t0.0\n",
      "\t2024-07-31 05:07:00\t0.0\t0.0\t0.0\t0.0\t0.0\t0.0\t0.0\n",
      "\t2024-07-31 05:08:00\t0.0\t0.0\t0.0\t0.0\t0.0\t0.0\t0.0\n",
      "\t2024-07-31 05:09:00\t0.0\t0.0\t0.0\t0.0\t0.0\t0.0\t0.0\n",
      "\t2024-07-31 05:10:00\t0.0\t0.0\t0.0\t0.0\t0.0\t0.0\t0.0\n",
      "\t2024-07-31 05:11:00\t0.0\t0.0\t0.0\t0.0\t0.0\t0.0\t0.0\n",
      "\t2024-07-31 05:12:00\t0.0\t0.0\t0.0\t0.0\t0.0\t0.0\t0.0\n",
      "\t2024-07-31 05:13:00\t0.0\t0.0\t0.0\t0.0\t0.0\t0.0\t0.0\n",
      "\t2024-07-31 05:14:00\t0.0\t0.0\t0.0\t0.0\t0.0\t0.0\t0.0\n",
      "\t2024-07-31 05:15:00\t0.0\t0.0\t0.0\t0.0\t0.0\t0.0\t0.0\n",
      "\t2024-07-31 05:16:00\t0.0\t0.0\t0.0\t0.0\t0.0\t0.0\t0.0\n",
      "\t2024-07-31 05:17:00\t0.0\t0.0\t0.0\t0.0\t0.0\t0.0\t0.0\n",
      "\t2024-07-31 05:18:00\t0.0\t0.0\t0.0\t0.0\t0.0\t0.0\t0.0\n",
      "\t2024-07-31 05:19:00\t0.0\t0.0\t0.0\t0.0\t0.0\t0.0\t0.0\n",
      "\t2024-07-31 05:20:00\t0.0\t0.0\t0.0\t0.0\t0.0\t0.0\t0.0\n",
      "\t2024-07-31 05:21:00\t0.03205128205128205\t0.0\t0.0\t0.0\t0.0\t0.0\t0.0\n",
      "\t2024-07-31 05:22:00\t0.0\t0.0\t0.0\t0.0\t0.0\t0.0\t0.0\n",
      "\t2024-07-31 05:23:00\t0.0\t0.0\t0.0\t0.0\t0.0\t0.0\t0.0\n",
      "\t2024-07-31 05:24:00\t0.0\t0.0\t0.0\t0.0\t0.0\t0.0\t0.0\n",
      "\t2024-07-31 05:25:00\t0.0\t0.0\t0.0\t0.0\t0.0\t0.0\t0.0\n",
      "\t2024-07-31 05:26:00\t0.0\t0.0\t0.0\t0.0\t0.0\t0.0\t0.0\n",
      "\t2024-07-31 05:27:00\t0.0\t0.0\t0.0\t0.0\t0.0\t0.0\t0.0\n",
      "\t2024-07-31 05:28:00\t0.0\t0.0\t0.0\t0.0\t0.0\t0.0\t0.0\n",
      "\t2024-07-31 05:29:00\t0.0\t0.0\t0.0\t0.0\t0.0\t0.0\t0.0\n",
      "\t2024-07-31 05:30:00\t0.0\t0.0\t0.0\t0.0\t0.0\t0.0\t0.0\n",
      "\t2024-07-31 05:31:00\t0.0\t0.0\t0.0\t0.0\t0.0\t0.0\t0.0\n",
      "\t2024-07-31 05:32:00\t0.0\t0.0\t0.0\t0.0\t0.0\t0.0\t0.0\n",
      "\t2024-07-31 05:33:00\t0.0\t0.0\t0.0\t0.0\t0.0\t0.0\t0.0\n",
      "\t2024-07-31 05:34:00\t0.0\t0.0\t0.0\t0.0\t0.0\t0.0\t0.0\n",
      "\t2024-07-31 05:35:00\t0.0\t0.0\t0.0\t0.0\t0.0\t0.0\t0.0\n",
      "\t2024-07-31 05:36:00\t0.0\t0.0\t0.0\t0.0\t0.0\t0.0\t0.0\n",
      "\t2024-07-31 05:37:00\t0.0\t0.0\t0.0\t0.0\t0.0\t0.0\t0.0\n",
      "\t2024-07-31 05:38:00\t0.0\t0.0\t0.0\t0.0\t0.0\t0.0\t0.0\n",
      "\t2024-07-31 05:39:00\t0.0\t0.0\t0.0\t0.0\t0.0\t0.0\t0.0\n",
      "\t2024-07-31 05:40:00\t0.0\t0.0\t0.0\t0.0\t0.0\t0.0\t0.0\n",
      "\t2024-07-31 05:41:00\t0.0\t0.0\t0.0\t0.0\t0.0\t0.0\t0.0\n",
      "\t2024-07-31 05:42:00\t0.0\t0.0\t0.0\t0.0\t0.0\t0.0\t0.0\n",
      "\t2024-07-31 05:43:00\t0.0\t0.0\t0.0\t0.0\t0.0\t0.0\t0.0\n",
      "\t2024-07-31 05:44:00\t0.0\t0.0\t0.0\t0.0\t0.0\t0.0\t0.0\n",
      "\t2024-07-31 05:45:00\t0.0\t0.0\t0.0\t0.0\t0.0\t0.0\t0.0\n",
      "\t2024-07-31 05:46:00\t0.0\t0.0\t0.0\t0.0\t0.0\t0.0\t0.0\n",
      "\t2024-07-31 05:47:00\t0.0\t0.0\t0.0\t0.0\t0.0\t0.0\t0.0\n",
      "\t2024-07-31 05:48:00\t0.0\t0.0\t0.0\t0.0\t0.0\t0.0\t0.0\n",
      "\t2024-07-31 05:49:00\t0.0\t0.0\t0.0\t0.0\t0.0\t0.0\t0.0\n",
      "\t2024-07-31 05:50:00\t0.0\t0.0\t0.0\t0.0\t0.0\t0.0\t0.0\n",
      "\t2024-07-31 05:51:00\t0.0\t0.0\t0.0\t0.0\t0.0\t0.0\t0.0\n",
      "\t2024-07-31 05:52:00\t0.0\t0.0\t0.0\t0.0\t0.0\t0.0\t0.0\n",
      "\t2024-07-31 05:53:00\t0.0\t0.0\t0.0\t0.0\t0.0\t0.0\t0.0\n",
      "\t2024-07-31 05:54:00\t0.0\t0.0\t0.0\t0.0\t0.0\t0.0\t0.0\n",
      "\t2024-07-31 05:55:00\t0.0\t0.0\t0.0\t0.0\t0.0\t0.0\t0.0\n",
      "\t2024-07-31 05:56:00\t0.0\t0.0\t0.0\t0.0\t0.0\t0.0\t0.0\n",
      "\t2024-07-31 05:57:00\t0.0\t0.0\t0.0\t0.0\t0.0\t0.0\t0.0\n",
      "\t2024-07-31 05:58:00\t0.0\t0.0\t0.0\t0.0\t0.0\t0.0\t0.0\n",
      "\t2024-07-31 05:59:00\t0.0\t0.0\t0.0\t0.0\t0.0\t0.0\t0.0\n",
      "\t2024-07-31 06:00:00\t0.0\t0.0\t0.0\t0.0\t0.0\t0.0\t0.0\n",
      "\t2024-07-31 06:01:00\t0.0\t0.0\t0.0\t0.0\t0.0\t0.0\t0.0\n",
      "\t2024-07-31 06:02:00\t0.0\t0.0\t0.0\t0.0\t0.0\t0.0\t0.0\n",
      "\t2024-07-31 06:03:00\t0.0\t0.0\t0.0\t0.0\t0.0\t0.0\t0.0\n",
      "\t2024-07-31 06:04:00\t0.0\t0.0\t0.0\t0.0\t0.0\t0.0\t0.0\n",
      "\t2024-07-31 06:05:00\t0.0\t0.0\t0.0\t0.0\t0.0\t0.0\t0.0\n",
      "\t2024-07-31 06:06:00\t0.0\t0.0\t0.0\t0.0\t0.0\t0.0\t0.0\n",
      "\t2024-07-31 06:07:00\t0.0\t0.0\t0.0\t0.0\t0.0\t0.0\t0.0\n",
      "\t2024-07-31 06:08:00\t0.0\t0.0\t0.0\t0.0\t0.0\t0.0\t0.0\n",
      "\t2024-07-31 06:09:00\t0.0\t0.0\t0.0\t0.0\t0.0\t0.0\t0.0\n",
      "\t2024-07-31 06:10:00\t0.0\t0.0\t0.0\t0.0\t0.0\t0.0\t0.0\n",
      "\t2024-07-31 06:11:00\t0.0\t0.0\t0.0\t0.0\t0.0\t0.0\t0.0\n",
      "\t2024-07-31 06:12:00\t0.0\t0.0\t0.0\t0.0\t0.0\t0.0\t0.0\n",
      "\t2024-07-31 06:13:00\t0.0\t0.0\t0.0\t0.0\t0.0\t0.0\t0.0\n",
      "\t2024-07-31 06:14:00\t0.0\t0.0\t0.0\t0.0\t0.0\t0.0\t0.0\n",
      "\t2024-07-31 06:15:00\t0.0\t0.0\t0.0\t0.0\t0.0\t0.0\t0.0\n",
      "\t2024-07-31 06:16:00\t0.0\t0.0\t0.0\t0.0\t0.0\t0.0\t0.0\n",
      "\t2024-07-31 06:17:00\t0.0\t0.0\t0.0\t0.0\t0.0\t0.0\t0.0\n",
      "\t2024-07-31 06:18:00\t0.0\t0.0\t0.0\t0.0\t0.0\t0.0\t0.0\n",
      "\t2024-07-31 06:19:00\t0.0\t0.0\t0.0\t0.0\t0.0\t0.0\t0.0\n",
      "\t2024-07-31 06:20:00\t0.0\t0.0\t0.0\t0.0\t0.0\t0.0\t0.0\n",
      "\t2024-07-31 06:21:00\t0.0\t0.0\t0.0\t0.0\t0.0\t0.0\t0.0\n",
      "\t2024-07-31 06:22:00\t0.0\t0.0\t0.0\t0.0\t0.0\t0.0\t0.0\n",
      "\t2024-07-31 06:23:00\t0.0\t0.0\t0.0\t0.0\t0.0\t0.0\t0.0\n",
      "\t2024-07-31 06:24:00\t0.0\t0.0\t0.0\t0.0\t0.0\t0.0\t0.0\n",
      "\t2024-07-31 06:25:00\t0.0\t0.0\t0.0\t0.0\t0.0\t0.0\t0.0\n",
      "\t2024-07-31 06:26:00\t0.0\t0.0\t0.0\t0.0\t0.0\t0.0\t0.0\n",
      "\t2024-07-31 06:27:00\t0.0\t0.0\t0.0\t0.0\t0.0\t0.0\t0.0\n",
      "\t2024-07-31 06:28:00\t0.0\t0.0\t0.0\t0.0\t0.0\t0.0\t0.0\n",
      "\t2024-07-31 06:29:00\t0.0\t0.0\t0.0\t0.0\t0.0\t0.0\t0.0\n",
      "\t2024-07-31 06:30:00\t0.0\t0.0\t0.0\t0.0\t0.0\t0.0\t0.0\n",
      "\t2024-07-31 06:31:00\t0.0\t0.0\t0.0\t0.0\t0.0\t0.0\t0.0\n",
      "\t2024-07-31 06:32:00\t0.0\t0.0\t0.0\t0.0\t0.0\t0.0\t0.0\n",
      "\t2024-07-31 06:33:00\t0.0\t0.0\t0.0\t0.0\t0.0\t0.0\t0.0\n",
      "\t2024-07-31 06:34:00\t0.0\t0.0\t0.0\t0.0\t0.0\t0.0\t0.0\n",
      "\t2024-07-31 06:35:00\t0.0\t0.0\t0.0\t0.0\t0.0\t0.0\t0.0\n",
      "\t2024-07-31 06:36:00\t0.0\t0.0\t0.0\t0.0\t0.0\t0.0\t0.0\n",
      "\t2024-07-31 06:37:00\t0.0\t0.0\t0.0\t0.0\t0.0\t0.0\t0.0\n",
      "\t2024-07-31 06:38:00\t0.0\t0.0\t0.0\t0.0\t0.0\t0.0\t0.0\n",
      "\t2024-07-31 06:39:00\t0.0\t0.0\t0.0\t0.0\t0.0\t0.0\t0.0\n",
      "\t2024-07-31 06:40:00\t0.0\t0.0\t0.0\t0.0\t0.0\t0.022668240850059033\t0.0\n",
      "\t2024-07-31 06:41:00\t0.0\t0.0\t0.0\t0.0\t0.0\t0.045336481700118066\t0.0\n",
      "\t2024-07-31 06:42:00\t0.0\t0.0\t0.0\t0.0\t0.0\t0.0680047225501771\t0.0\n",
      "\t2024-07-31 06:43:00\t0.0\t0.0\t0.0\t0.0\t0.0\t0.09067296340023613\t0.0\n",
      "\t2024-07-31 06:44:00\t0.0\t0.0\t0.0\t0.0\t0.0\t0.11334120425029516\t0.0\n",
      "\t2024-07-31 06:45:00\t0.0\t0.0\t0.0\t0.0\t0.0\t0.11334120425029516\t0.0\n",
      "\t2024-07-31 06:46:00\t0.0\t0.0\t0.0\t0.0\t0.0\t0.11334120425029516\t0.0\n",
      "\t2024-07-31 06:47:00\t0.0\t0.0\t0.0\t0.0\t0.0\t0.11334120425029516\t0.0\n",
      "\t2024-07-31 06:48:00\t0.7933884297520661\t0.7933884297520661\t0.7933884297520661\t0.11334120425029516\t0.11334120425029516\t0.11334120425029516\t0.11334120425029516\n",
      "\t2024-07-31 06:49:00\t0.07936507936507936\t0.0\t0.0\t0.0\t0.11334120425029516\t0.0\t0.0\n",
      "\t2024-07-31 06:50:00\t0.425\t0.0\t0.0\t0.0\t0.11334120425029516\t0.0\t0.0\n",
      "\t2024-07-31 06:51:00\t0.4196078431372549\t0.0\t0.0\t0.0\t0.11334120425029516\t0.0\t0.0\n",
      "\t2024-07-31 06:52:00\t0.47058823529411764\t0.0\t0.0\t0.0\t0.11334120425029516\t0.0\t0.0\n",
      "\t2024-07-31 06:53:00\t0.00784313725490196\t0.0\t0.0\t0.0\t0.09067296340023613\t0.0\t0.0\n",
      "\t2024-07-31 06:54:00\t0.00392156862745098\t0.0\t0.0\t0.0\t0.0680047225501771\t0.0\t0.0\n",
      "\t2024-07-31 06:55:00\t0.00392156862745098\t0.0\t0.0\t0.0\t0.045336481700118066\t0.0\t0.0\n",
      "\t2024-07-31 06:56:00\t0.00392156862745098\t0.0\t0.0\t0.0\t0.022668240850059033\t0.0\t0.0\n",
      "\t2024-07-31 06:57:00\t0.00392156862745098\t0.0\t0.0\t0.0\t0.0\t0.0\t0.0\n",
      "\t2024-07-31 06:58:00\t0.00392156862745098\t0.0\t0.0\t0.0\t0.0\t0.0\t0.0\n",
      "\t2024-07-31 06:59:00\t0.00392156862745098\t0.0\t0.0\t0.0\t0.0\t0.0\t0.0\n",
      "\t2024-07-31 07:00:00\t0.00392156862745098\t0.0\t0.0\t0.0\t0.0\t0.0\t0.0\n",
      "\t2024-07-31 07:01:00\t0.00392156862745098\t0.0\t0.0\t0.0\t0.0\t0.0\t0.0\n",
      "\t2024-07-31 07:02:00\t0.00392156862745098\t0.0\t0.0\t0.0\t0.0\t0.0\t0.0\n",
      "\t2024-07-31 07:03:00\t0.00392156862745098\t0.0\t0.0\t0.0\t0.0\t0.0\t0.0\n",
      "\t2024-07-31 07:04:00\t0.00392156862745098\t0.0\t0.0\t0.0\t0.0\t0.022745098039215685\t0.0\n",
      "\t2024-07-31 07:05:00\t0.00784313725490196\t0.0\t0.0\t0.0\t0.0\t0.04549019607843137\t0.0\n",
      "\t2024-07-31 07:06:00\t0.0\t0.0\t0.0\t0.0\t0.0\t0.06823529411764705\t0.0\n",
      "\t2024-07-31 07:07:00\t0.0\t0.0\t0.0\t0.0\t0.0\t0.09098039215686274\t0.0\n",
      "\t2024-07-31 07:08:00\t0.00784313725490196\t0.0\t0.0\t0.0\t0.0\t0.11372549019607843\t0.0\n",
      "\t2024-07-31 07:09:00\t0.0060975609756097554\t0.0\t0.0\t0.0\t0.0\t0.11372549019607843\t0.0\n",
      "\t2024-07-31 07:10:00\t0.0070921985815602835\t0.0\t0.0\t0.0\t0.0\t0.11372549019607843\t0.0\n",
      "\t2024-07-31 07:11:00\t0.005681818181818182\t0.0\t0.0\t0.0\t0.0\t0.11372549019607843\t0.0\n",
      "\t2024-07-31 07:12:00\t0.796078431372549\t0.796078431372549\t0.796078431372549\t0.11372549019607843\t0.11372549019607843\t0.11372549019607843\t0.11372549019607843\n",
      "\t2024-07-31 07:13:00\t0.05031446540880503\t0.0\t0.0\t0.0\t0.11372549019607843\t0.0\t0.0\n",
      "\t2024-07-31 07:14:00\t0.08484848484848484\t0.0\t0.0\t0.0\t0.11372549019607843\t0.0\t0.0\n",
      "\t2024-07-31 07:15:00\t0.06666666666666667\t0.0\t0.0\t0.0\t0.11372549019607843\t0.0\t0.0\n",
      "\t2024-07-31 07:16:00\t0.06274509803921569\t0.0\t0.0\t0.0\t0.11372549019607843\t0.0\t0.0\n",
      "\t2024-07-31 07:17:00\t0.06666666666666667\t0.0\t0.0\t0.0\t0.09098039215686274\t0.0\t0.0\n",
      "\t2024-07-31 07:18:00\t0.06274509803921569\t0.0\t0.0\t0.0\t0.06823529411764705\t0.0\t0.0\n",
      "\t2024-07-31 07:19:00\t0.06274509803921569\t0.0\t0.0\t0.0\t0.04549019607843137\t0.0\t0.0\n",
      "\t2024-07-31 07:20:00\t0.06280193236714976\t0.0\t0.0\t0.0\t0.022745098039215685\t0.0\t0.0\n",
      "\t2024-07-31 07:21:00\t0.06341463414634146\t0.0\t0.0\t0.0\t0.0\t0.0\t0.0\n",
      "\t2024-07-31 07:22:00\t0.06274509803921569\t0.0\t0.0\t0.0\t0.0\t0.0\t0.0\n",
      "\t2024-07-31 07:23:00\t0.06274509803921569\t0.0\t0.0\t0.0\t0.0\t0.0\t0.0\n",
      "\t2024-07-31 07:24:00\t0.06274509803921569\t0.0\t0.0\t0.0\t0.0\t0.0\t0.0\n",
      "\t2024-07-31 07:25:00\t0.06274509803921569\t0.0\t0.0\t0.0\t0.0\t0.0\t0.0\n",
      "\t2024-07-31 07:26:00\t0.06274509803921569\t0.0\t0.0\t0.0\t0.0\t0.0\t0.0\n",
      "\t2024-07-31 07:27:00\t0.06467661691542288\t0.0\t0.0\t0.0\t0.0\t0.0\t0.0\n",
      "\t2024-07-31 07:28:00\t0.06467661691542288\t0.0\t0.0\t0.0\t0.0\t0.0\t0.0\n",
      "\t2024-07-31 07:29:00\t0.06274509803921569\t0.0\t0.0\t0.0\t0.0\t0.0\t0.0\n",
      "\t2024-07-31 07:30:00\t0.06417112299465241\t0.0\t0.0\t0.0\t0.0\t0.0\t0.0\n",
      "\t2024-07-31 07:31:00\t0.06274509803921569\t0.0\t0.0\t0.0\t0.0\t0.0\t0.0\n",
      "\t2024-07-31 07:32:00\t0.06403940886699508\t0.0\t0.0\t0.0\t0.0\t0.0\t0.0\n",
      "\t2024-07-31 07:33:00\t0.06274509803921569\t0.0\t0.0\t0.0\t0.0\t0.0\t0.0\n",
      "\t2024-07-31 07:34:00\t0.06598984771573603\t0.0\t0.0\t0.0\t0.0\t0.0\t0.0\n",
      "\t2024-07-31 07:35:00\t0.06666666666666667\t0.0\t0.0\t0.0\t0.0\t0.0\t0.0\n",
      "\t2024-07-31 07:36:00\t0.06274509803921569\t0.0\t0.0\t0.0\t0.0\t0.0\t0.0\n",
      "\t2024-07-31 07:37:00\t0.06274509803921569\t0.0\t0.0\t0.0\t0.0\t0.0\t0.0\n",
      "\t2024-07-31 07:38:00\t0.06274509803921569\t0.0\t0.0\t0.0\t0.0\t0.0\t0.0\n",
      "\t2024-07-31 07:39:00\t0.06274509803921569\t0.0\t0.0\t0.0\t0.0\t0.0\t0.0\n",
      "\t2024-07-31 07:40:00\t0.0925925925925926\t0.0\t0.0\t0.0\t0.0\t0.0\t0.0\n",
      "\t2024-07-31 07:41:00\t0.14788732394366197\t0.0\t0.0\t0.0\t0.0\t0.0\t0.0\n",
      "\t2024-07-31 07:42:00\t0.16923076923076924\t0.0\t0.0\t0.0\t0.0\t0.0\t0.0\n",
      "\t2024-07-31 07:43:00\t0.20392156862745098\t0.0\t0.0\t0.0\t0.0\t0.0\t0.0\n",
      "\t2024-07-31 07:44:00\t0.08496732026143791\t0.0\t0.0\t0.0\t0.0\t0.0\t0.0\n",
      "\t2024-07-31 07:45:00\t0.16964285714285715\t0.0\t0.0\t0.0\t0.0\t0.0\t0.0\n",
      "\t2024-07-31 07:46:00\t0.16153846153846155\t0.0\t0.0\t0.0\t0.0\t0.0\t0.0\n",
      "\t2024-07-31 07:47:00\t0.06274509803921569\t0.0\t0.0\t0.0\t0.0\t0.0\t0.0\n",
      "\t2024-07-31 07:48:00\t0.07058823529411765\t0.0\t0.0\t0.0\t0.0\t0.0\t0.0\n",
      "\t2024-07-31 07:49:00\t0.06862745098039215\t0.0\t0.0\t0.0\t0.0\t0.0\t0.0\n",
      "\t2024-07-31 07:50:00\t0.06572769953051642\t0.0\t0.0\t0.0\t0.0\t0.0\t0.0\n",
      "\t2024-07-31 07:51:00\t0.06274509803921569\t0.0\t0.0\t0.0\t0.0\t0.0\t0.0\n",
      "\t2024-07-31 07:52:00\t0.0606060606060606\t0.0\t0.0\t0.0\t0.0\t0.0\t0.0\n",
      "\t2024-07-31 07:53:00\t0.06274509803921569\t0.0\t0.0\t0.0\t0.0\t0.0\t0.0\n",
      "\t2024-07-31 07:54:00\t0.06914893617021275\t0.0\t0.0\t0.0\t0.0\t0.0\t0.0\n",
      "\t2024-07-31 07:55:00\t0.0783132530120482\t0.0\t0.0\t0.0\t0.0\t0.0\t0.0\n",
      "\t2024-07-31 07:56:00\t0.06635071090047394\t0.0\t0.0\t0.0\t0.0\t0.0\t0.0\n",
      "\t2024-07-31 07:57:00\t0.06274509803921569\t0.0\t0.0\t0.0\t0.0\t0.0\t0.0\n",
      "\t2024-07-31 07:58:00\t0.06282722513089005\t0.0\t0.0\t0.0\t0.0\t0.0\t0.0\n",
      "\t2024-07-31 07:59:00\t0.06274509803921569\t0.0\t0.0\t0.0\t0.0\t0.0\t0.0\n",
      "\t2024-07-31 08:00:00\t0.06274509803921569\t0.0\t0.0\t0.0\t0.0\t0.0\t0.0\n",
      "\t2024-07-31 08:01:00\t0.06274509803921569\t0.0\t0.0\t0.0\t0.0\t0.0\t0.0\n",
      "\t2024-07-31 08:02:00\t0.06274509803921569\t0.0\t0.0\t0.0\t0.0\t0.0\t0.0\n",
      "\t2024-07-31 08:03:00\t0.1111111111111111\t0.0\t0.0\t0.0\t0.0\t0.0\t0.0\n",
      "\t2024-07-31 08:04:00\t0.12878787878787878\t0.0\t0.0\t0.0\t0.0\t0.0\t0.0\n",
      "\t2024-07-31 08:05:00\t0.06274509803921569\t0.0\t0.0\t0.0\t0.0\t0.0\t0.0\n",
      "\t2024-07-31 08:06:00\t0.06274509803921569\t0.0\t0.0\t0.0\t0.0\t0.0\t0.0\n",
      "\t2024-07-31 08:07:00\t0.06274509803921569\t0.0\t0.0\t0.0\t0.0\t0.0\t0.0\n",
      "\t2024-07-31 08:08:00\t0.06274509803921569\t0.0\t0.0\t0.0\t0.0\t0.0\t0.0\n",
      "\t2024-07-31 08:09:00\t0.06542056074766354\t0.0\t0.0\t0.0\t0.0\t0.0\t0.0\n",
      "\t2024-07-31 08:10:00\t0.06763285024154589\t0.0\t0.0\t0.0\t0.0\t0.0\t0.0\n",
      "\t2024-07-31 08:11:00\t0.15833333333333333\t0.0\t0.0\t0.0\t0.0\t0.0\t0.0\n",
      "\t2024-07-31 08:12:00\t0.07009345794392523\t0.0\t0.0\t0.0\t0.0\t0.0\t0.0\n",
      "\t2024-07-31 08:13:00\t0.07009345794392523\t0.0\t0.0\t0.0\t0.0\t0.0\t0.0\n",
      "\t2024-07-31 08:14:00\t0.09375\t0.0\t0.0\t0.0\t0.0\t0.0\t0.0\n",
      "\t2024-07-31 08:15:00\t0.10126582278481013\t0.0\t0.0\t0.0\t0.0\t0.0\t0.0\n",
      "\t2024-07-31 08:16:00\t0.18627450980392155\t0.0\t0.0\t0.0\t0.0\t0.0\t0.0\n",
      "\t2024-07-31 08:17:00\t0.37254901960784315\t0.0\t0.0\t0.0\t0.0\t0.0\t0.0\n",
      "\t2024-07-31 08:18:00\t0.36363636363636365\t0.0\t0.0\t0.0\t0.0\t0.0\t0.0\n",
      "\t2024-07-31 08:19:00\t0.3684210526315789\t0.0\t0.0\t0.0\t0.0\t0.0\t0.0\n",
      "\t2024-07-31 08:20:00\t0.35294117647058826\t0.0\t0.0\t0.0\t0.0\t0.0\t0.0\n",
      "\t2024-07-31 08:21:00\t0.058823529411764705\t0.0\t0.0\t0.0\t0.0\t0.0\t0.0\n",
      "\t2024-07-31 08:22:00\t0.40384615384615385\t0.0\t0.0\t0.0\t0.0\t0.0\t0.0\n",
      "\t2024-07-31 08:23:00\t0.2826086956521739\t0.0\t0.0\t0.0\t0.0\t0.0\t0.0\n",
      "\t2024-07-31 08:24:00\t0.15254237288135591\t0.0\t0.0\t0.0\t0.0\t0.0\t0.0\n",
      "\t2024-07-31 08:25:00\t0.07534246575342467\t0.0\t0.0\t0.0\t0.0\t0.0\t0.0\n",
      "\t2024-07-31 08:26:00\t0.06435643564356436\t0.0\t0.0\t0.0\t0.0\t0.0\t0.0\n",
      "\t2024-07-31 08:27:00\t0.25098039215686274\t0.0\t0.0\t0.0\t0.0\t0.0\t0.0\n",
      "\t2024-07-31 08:28:00\t0.1724137931034483\t0.0\t0.0\t0.0\t0.0\t0.0\t0.0\n",
      "\t2024-07-31 08:29:00\t0.13953488372093023\t0.0\t0.0\t0.0\t0.0\t0.0\t0.0\n",
      "\t2024-07-31 08:30:00\t0.16\t0.0\t0.0\t0.0\t0.0\t0.0\t0.0\n",
      "\t2024-07-31 08:31:00\t0.06111111111111111\t0.0\t0.0\t0.0\t0.0\t0.0\t0.0\n",
      "\t2024-07-31 08:32:00\t0.36470588235294116\t0.0\t0.0\t0.0\t0.0\t0.0\t0.0\n",
      "\t2024-07-31 08:33:00\t0.1134020618556701\t0.0\t0.0\t0.0\t0.0\t0.0\t0.0\n",
      "\t2024-07-31 08:34:00\t0.06153846153846154\t0.0\t0.0\t0.0\t0.0\t0.0\t0.0\n",
      "\t2024-07-31 08:35:00\t0.06274509803921569\t0.0\t0.0\t0.0\t0.0\t0.0\t0.0\n",
      "\t2024-07-31 08:36:00\t0.06274509803921569\t0.0\t0.0\t0.0\t0.0\t0.0\t0.0\n",
      "\t2024-07-31 08:37:00\t0.1212121212121212\t0.0\t0.0\t0.0\t0.0\t0.0\t0.0\n",
      "\t2024-07-31 08:38:00\t0.11464968152866241\t0.0\t0.0\t0.0\t0.0\t0.0\t0.0\n",
      "\t2024-07-31 08:39:00\t0.08433734939759036\t0.0\t0.0\t0.0\t0.0\t0.0\t0.0\n",
      "\t2024-07-31 08:40:00\t0.1\t0.0\t0.0\t0.0\t0.0\t0.0\t0.0\n",
      "\t2024-07-31 08:41:00\t0.14482758620689656\t0.0\t0.0\t0.0\t0.0\t0.0\t0.0\n",
      "\t2024-07-31 08:42:00\t0.2333333333333333\t0.0\t0.0\t0.0\t0.0\t0.0\t0.0\n",
      "\t2024-07-31 08:43:00\t0.06741573033707865\t0.0\t0.0\t0.0\t0.0\t0.0\t0.0\n",
      "\t2024-07-31 08:44:00\t0.06274509803921569\t0.0\t0.0\t0.0\t0.0\t0.0\t0.0\n",
      "\t2024-07-31 08:45:00\t0.06274509803921569\t0.0\t0.0\t0.0\t0.0\t0.0\t0.0\n",
      "\t2024-07-31 08:46:00\t0.06274509803921569\t0.0\t0.0\t0.0\t0.0\t0.0\t0.0\n",
      "\t2024-07-31 08:47:00\t0.06349206349206349\t0.0\t0.0\t0.0\t0.0\t0.0\t0.0\n",
      "\t2024-07-31 08:48:00\t0.06274509803921569\t0.0\t0.0\t0.0\t0.0\t0.0\t0.0\n",
      "\t2024-07-31 08:49:00\t0.06274509803921569\t0.0\t0.0\t0.0\t0.0\t0.0\t0.0\n",
      "\t2024-07-31 08:50:00\t0.06274509803921569\t0.0\t0.0\t0.0\t0.0\t0.0\t0.0\n",
      "\t2024-07-31 08:51:00\t0.06274509803921569\t0.0\t0.0\t0.0\t0.0\t0.0\t0.0\n",
      "\t2024-07-31 08:52:00\t0.06349206349206349\t0.0\t0.0\t0.0\t0.0\t0.0\t0.0\n",
      "\t2024-07-31 08:53:00\t0.06274509803921569\t0.0\t0.0\t0.0\t0.0\t0.0\t0.0\n",
      "\t2024-07-31 08:54:00\t0.06274509803921569\t0.0\t0.0\t0.0\t0.0\t0.0\t0.0\n",
      "\t2024-07-31 08:55:00\t0.06274509803921569\t0.0\t0.0\t0.0\t0.0\t0.0\t0.0\n",
      "\t2024-07-31 08:56:00\t0.06565656565656565\t0.0\t0.0\t0.0\t0.0\t0.0\t0.0\n",
      "\t2024-07-31 08:57:00\t0.06274509803921569\t0.0\t0.0\t0.0\t0.0\t0.0\t0.0\n",
      "\t2024-07-31 08:58:00\t0.061224489795918366\t0.0\t0.0\t0.0\t0.0\t0.0\t0.0\n",
      "\t2024-07-31 08:59:00\t0.06274509803921569\t0.0\t0.0\t0.0\t0.0\t0.0\t0.0\n",
      "\t2024-07-31 09:00:00\t0.06274509803921569\t0.0\t0.0\t0.0\t0.0\t0.0\t0.0\n",
      "\t2024-07-31 09:01:00\t0.06274509803921569\t0.0\t0.0\t0.0\t0.0\t0.0\t0.0\n",
      "\t2024-07-31 09:02:00\t0.06532663316582915\t0.0\t0.0\t0.0\t0.0\t0.0\t0.0\n",
      "\t2024-07-31 09:03:00\t0.06403940886699508\t0.0\t0.0\t0.0\t0.0\t0.0\t0.0\n",
      "\t2024-07-31 09:04:00\t0.06274509803921569\t0.0\t0.0\t0.0\t0.0\t0.0\t0.0\n",
      "\t2024-07-31 09:05:00\t0.065\t0.0\t0.0\t0.0\t0.0\t0.0\t0.0\n",
      "\t2024-07-31 09:06:00\t0.06435643564356436\t0.0\t0.0\t0.0\t0.0\t0.0\t0.0\n",
      "\t2024-07-31 09:07:00\t0.06274509803921569\t0.0\t0.0\t0.0\t0.0\t0.0\t0.0\n",
      "\t2024-07-31 09:08:00\t0.06274509803921569\t0.0\t0.0\t0.0\t0.0\t0.0\t0.0\n",
      "\t2024-07-31 09:09:00\t0.06274509803921569\t0.0\t0.0\t0.0\t0.0\t0.0\t0.0\n",
      "\t2024-07-31 09:10:00\t0.06341463414634146\t0.0\t0.0\t0.0\t0.0\t0.0\t0.0\n",
      "\t2024-07-31 09:11:00\t0.0660377358490566\t0.0\t0.0\t0.0\t0.0\t0.0\t0.0\n",
      "\t2024-07-31 09:12:00\t0.06274509803921569\t0.0\t0.0\t0.0\t0.0\t0.0\t0.0\n",
      "\t2024-07-31 09:13:00\t0.06274509803921569\t0.0\t0.0\t0.0\t0.0\t0.0\t0.0\n",
      "\t2024-07-31 09:14:00\t0.06274509803921569\t0.0\t0.0\t0.0\t0.0\t0.0\t0.0\n",
      "\t2024-07-31 09:15:00\t0.06274509803921569\t0.0\t0.0\t0.0\t0.0\t0.0\t0.0\n",
      "\t2024-07-31 09:16:00\t0.06274509803921569\t0.0\t0.0\t0.0\t0.0\t0.0\t0.0\n",
      "\t2024-07-31 09:17:00\t0.06274509803921569\t0.0\t0.0\t0.0\t0.0\t0.0\t0.0\n",
      "\t2024-07-31 09:18:00\t0.06274509803921569\t0.0\t0.0\t0.0\t0.0\t0.0\t0.0\n",
      "\t2024-07-31 09:19:00\t0.06521739130434782\t0.0\t0.0\t0.0\t0.0\t0.0\t0.0\n",
      "\t2024-07-31 09:20:00\t0.06274509803921569\t0.0\t0.0\t0.0\t0.0\t0.0\t0.0\n",
      "\t2024-07-31 09:21:00\t0.06435643564356436\t0.0\t0.0\t0.0\t0.0\t0.0\t0.0\n",
      "\t2024-07-31 09:22:00\t0.06315789473684211\t0.0\t0.0\t0.0\t0.0\t0.0\t0.0\n",
      "\t2024-07-31 09:23:00\t0.06435643564356436\t0.0\t0.0\t0.0\t0.0\t0.0\t0.0\n",
      "\t2024-07-31 09:24:00\t0.06274509803921569\t0.0\t0.0\t0.0\t0.0\t0.0\t0.0\n",
      "\t2024-07-31 09:25:00\t0.06532663316582915\t0.0\t0.0\t0.0\t0.0\t0.0\t0.0\n",
      "\t2024-07-31 09:26:00\t0.06274509803921569\t0.0\t0.0\t0.0\t0.0\t0.0\t0.0\n",
      "\t2024-07-31 09:27:00\t0.06806282722513089\t0.0\t0.0\t0.0\t0.0\t0.0\t0.0\n",
      "\t2024-07-31 09:28:00\t0.06417112299465241\t0.0\t0.0\t0.0\t0.0\t0.0\t0.0\n",
      "\t2024-07-31 09:29:00\t0.06735751295336788\t0.0\t0.0\t0.0\t0.0\t0.0\t0.0\n",
      "\t2024-07-31 09:30:00\t0.06274509803921569\t0.0\t0.0\t0.0\t0.0\t0.0\t0.0\n",
      "\t2024-07-31 09:31:00\t0.06341463414634146\t0.0\t0.0\t0.0\t0.0\t0.0\t0.0\n",
      "\t2024-07-31 09:32:00\t0.06467661691542288\t0.0\t0.0\t0.0\t0.0\t0.0\t0.0\n",
      "\t2024-07-31 09:33:00\t0.06274509803921569\t0.0\t0.0\t0.0\t0.0\t0.0\t0.0\n",
      "\t2024-07-31 09:34:00\t0.06280193236714976\t0.0\t0.0\t0.0\t0.0\t0.0\t0.0\n",
      "\t2024-07-31 09:35:00\t0.06274509803921569\t0.0\t0.0\t0.0\t0.0\t0.0\t0.0\n",
      "\t2024-07-31 09:36:00\t0.06274509803921569\t0.0\t0.0\t0.0\t0.0\t0.0\t0.0\n",
      "\t2024-07-31 09:37:00\t0.06403940886699508\t0.0\t0.0\t0.0\t0.0\t0.0\t0.0\n",
      "\t2024-07-31 09:38:00\t0.06632653061224489\t0.0\t0.0\t0.0\t0.0\t0.0\t0.0\n",
      "\t2024-07-31 09:39:00\t0.06598984771573603\t0.0\t0.0\t0.0\t0.0\t0.0\t0.0\n",
      "\t2024-07-31 09:40:00\t0.06274509803921569\t0.0\t0.0\t0.0\t0.0\t0.0\t0.0\n",
      "\t2024-07-31 09:41:00\t0.07058823529411765\t0.0\t0.0\t0.0\t0.0\t0.0\t0.0\n",
      "\t2024-07-31 09:42:00\t0.06274509803921569\t0.0\t0.0\t0.0\t0.0\t0.0\t0.0\n",
      "\t2024-07-31 09:43:00\t0.06274509803921569\t0.0\t0.0\t0.0\t0.0\t0.0\t0.0\n",
      "\t2024-07-31 09:44:00\t0.06372549019607843\t0.0\t0.0\t0.0\t0.0\t0.0\t0.0\n",
      "\t2024-07-31 09:45:00\t0.06735751295336788\t0.0\t0.0\t0.0\t0.0\t0.0\t0.0\n",
      "\t2024-07-31 09:46:00\t0.06310679611650485\t0.0\t0.0\t0.0\t0.0\t0.0\t0.0\n",
      "\t2024-07-31 09:47:00\t0.06632653061224489\t0.0\t0.0\t0.0\t0.0\t0.0\t0.0\n",
      "\t2024-07-31 09:48:00\t0.06467661691542288\t0.0\t0.0\t0.0\t0.0\t0.0\t0.0\n",
      "\t2024-07-31 09:49:00\t0.06274509803921569\t0.0\t0.0\t0.0\t0.0\t0.0\t0.0\n",
      "\t2024-07-31 09:50:00\t0.06274509803921569\t0.0\t0.0\t0.0\t0.0\t0.0\t0.0\n",
      "\t2024-07-31 09:51:00\t0.06282722513089005\t0.0\t0.0\t0.0\t0.0\t0.0\t0.0\n",
      "\t2024-07-31 09:52:00\t0.06274509803921569\t0.0\t0.0\t0.0\t0.0\t0.0\t0.0\n",
      "\t2024-07-31 09:53:00\t0.06521739130434782\t0.0\t0.0\t0.0\t0.0\t0.0\t0.0\n",
      "\t2024-07-31 09:54:00\t0.06701030927835051\t0.0\t0.0\t0.0\t0.0\t0.0\t0.0\n",
      "\t2024-07-31 09:55:00\t0.06598984771573603\t0.0\t0.0\t0.0\t0.0\t0.0\t0.0\n",
      "\t2024-07-31 09:56:00\t0.06862745098039215\t0.0\t0.0\t0.0\t0.0\t0.0\t0.0\n",
      "\t2024-07-31 09:57:00\t0.08620689655172413\t0.0\t0.0\t0.0\t0.0\t0.0\t0.0\n",
      "\t2024-07-31 09:58:00\t0.06701030927835051\t0.0\t0.0\t0.0\t0.0\t0.0\t0.0\n",
      "\t2024-07-31 09:59:00\t0.06274509803921569\t0.0\t0.0\t0.0\t0.0\t0.0\t0.0\n",
      "\t2024-07-31 10:00:00\t0.06598984771573603\t0.0\t0.0\t0.0\t0.0\t0.0\t0.0\n",
      "\t2024-07-31 10:01:00\t0.06282722513089005\t0.0\t0.0\t0.0\t0.0\t0.0\t0.0\n",
      "\t2024-07-31 10:02:00\t0.06486486486486487\t0.0\t0.0\t0.0\t0.0\t0.0\t0.0\n",
      "\t2024-07-31 10:03:00\t0.07058823529411765\t0.0\t0.0\t0.0\t0.0\t0.0\t0.0\n",
      "\t2024-07-31 10:04:00\t0.06274509803921569\t0.0\t0.0\t0.0\t0.0\t0.0\t0.0\n",
      "\t2024-07-31 10:05:00\t0.06632653061224489\t0.0\t0.0\t0.0\t0.0\t0.0\t0.0\n",
      "\t2024-07-31 10:06:00\t0.06274509803921569\t0.0\t0.0\t0.0\t0.0\t0.0\t0.0\n",
      "\t2024-07-31 10:07:00\t0.06403940886699508\t0.0\t0.0\t0.0\t0.0\t0.0\t0.0\n",
      "\t2024-07-31 10:08:00\t0.06565656565656565\t0.0\t0.0\t0.0\t0.0\t0.0\t0.0\n",
      "\t2024-07-31 10:09:00\t0.06666666666666667\t0.0\t0.0\t0.0\t0.0\t0.0\t0.0\n",
      "\t2024-07-31 10:10:00\t0.06274509803921569\t0.0\t0.0\t0.0\t0.0\t0.0\t0.0\n",
      "\t2024-07-31 10:11:00\t0.06274509803921569\t0.0\t0.0\t0.0\t0.0\t0.0\t0.0\n",
      "\t2024-07-31 10:12:00\t0.06511627906976744\t0.0\t0.0\t0.0\t0.0\t0.0\t0.0\n",
      "\t2024-07-31 10:13:00\t0.06280193236714976\t0.0\t0.0\t0.0\t0.0\t0.0\t0.0\n",
      "\t2024-07-31 10:14:00\t0.06829268292682926\t0.0\t0.0\t0.0\t0.0\t0.0\t0.0\n",
      "\t2024-07-31 10:15:00\t0.06274509803921569\t0.0\t0.0\t0.0\t0.0\t0.0\t0.0\n",
      "\t2024-07-31 10:16:00\t0.06842105263157894\t0.0\t0.0\t0.0\t0.0\t0.0\t0.0\n",
      "\t2024-07-31 10:17:00\t0.06274509803921569\t0.0\t0.0\t0.0\t0.0\t0.0\t0.0\n",
      "\t2024-07-31 10:18:00\t0.06274509803921569\t0.0\t0.0\t0.0\t0.0\t0.0\t0.0\n",
      "\t2024-07-31 10:19:00\t0.06417112299465241\t0.0\t0.0\t0.0\t0.0\t0.0\t0.0\n",
      "\t2024-07-31 10:20:00\t0.06349206349206349\t0.0\t0.0\t0.0\t0.0\t0.0\t0.0\n",
      "\t2024-07-31 10:21:00\t0.06274509803921569\t0.0\t0.0\t0.0\t0.0\t0.0\t0.0\n",
      "\t2024-07-31 10:22:00\t0.06532663316582915\t0.0\t0.0\t0.0\t0.0\t0.0\t0.0\n",
      "\t2024-07-31 10:23:00\t0.06382978723404255\t0.0\t0.0\t0.0\t0.0\t0.0\t0.0\n",
      "\t2024-07-31 10:24:00\t0.06274509803921569\t0.0\t0.0\t0.0\t0.0\t0.0\t0.0\n",
      "\t2024-07-31 10:25:00\t0.06382978723404255\t0.0\t0.0\t0.0\t0.0\t0.0\t0.0\n",
      "\t2024-07-31 10:26:00\t0.06274509803921569\t0.0\t0.0\t0.0\t0.0\t0.0\t0.0\n",
      "\t2024-07-31 10:27:00\t0.06417112299465241\t0.0\t0.0\t0.0\t0.0\t0.0\t0.0\n",
      "\t2024-07-31 10:28:00\t0.06565656565656565\t0.0\t0.0\t0.0\t0.0\t0.0\t0.0\n",
      "\t2024-07-31 10:29:00\t0.06382978723404255\t0.0\t0.0\t0.0\t0.0\t0.0\t0.0\n",
      "\t2024-07-31 10:30:00\t0.06467661691542288\t0.0\t0.0\t0.0\t0.0\t0.0\t0.0\n",
      "\t2024-07-31 10:31:00\t0.06565656565656565\t0.0\t0.0\t0.0\t0.0\t0.014634146341463415\t0.0\n",
      "\t2024-07-31 10:32:00\t0.06349206349206349\t0.0\t0.0\t0.0\t0.0\t0.045178656828585094\t0.0\n",
      "\t2024-07-31 10:33:00\t0.06274509803921569\t0.0\t0.0\t0.0\t0.0\t0.09084921773587484\t0.0\n",
      "\t2024-07-31 10:34:00\t0.06274509803921569\t0.0\t0.0\t0.0\t0.0\t0.1510856049736968\t0.0\n",
      "\t2024-07-31 10:35:00\t0.17391304347826086\t0.0\t0.0\t0.0\t0.0\t0.21132199221151876\t0.0\n",
      "\t2024-07-31 10:36:00\t0.062146892655367235\t0.0\t0.0\t0.0\t0.0\t0.27149005943840954\t0.0\n",
      "\t2024-07-31 10:37:00\t0.44313725490196076\t0.0\t0.0\t0.0\t0.0\t0.31574776251964204\t0.0\n",
      "\t2024-07-31 10:38:00\t0.32941176470588235\t0.0\t0.0\t0.0\t0.0\t0.3448794151807064\t0.0\n",
      "\t2024-07-31 10:39:00\t0.5121951219512195\t0.5121951219512195\t0.5121951219512195\t0.07317073170731707\t0.07317073170731707\t0.35944524151123863\t0.07317073170731707\n",
      "\t2024-07-31 10:40:00\t0.5568627450980392\t0.5568627450980392\t0.5568627450980392\t0.1527225524356084\t0.1527225524356084\t0.30084033613445377\t0.1527225524356084\n",
      "\t2024-07-31 10:41:00\t0.5294117647058824\t0.5294117647058824\t0.5294117647058824\t0.22128851540616243\t0.22835280453644874\t0.22128851540616243\t0.22128851540616243\n",
      "\t2024-07-31 10:42:00\t0.5098039215686274\t0.5098039215686274\t0.5098039215686274\t0.1456582633053221\t0.3011819361891098\t0.1456582633053221\t0.1456582633053221\n",
      "\t2024-07-31 10:43:00\t0.42592592592592593\t0.0\t0.0\t0.07282913165266106\t0.3011819361891098\t0.07282913165266106\t0.07282913165266106\n",
      "\t2024-07-31 10:44:00\t0.5098039215686274\t0.5098039215686274\t0.5098039215686274\t0.07282913165266106\t0.35937692150030737\t0.07282913165266106\t0.07282913165266106\n",
      "\t2024-07-31 10:45:00\t0.42\t0.0\t0.0\t0.0\t0.3288324110131858\t0.0\t0.0\n",
      "\t2024-07-31 10:46:00\t0.1843137254901961\t0.0\t0.0\t0.0\t0.283161850105896\t0.0\t0.0\n",
      "\t2024-07-31 10:47:00\t0.23529411764705882\t0.0\t0.0\t0.0\t0.22292546286807408\t0.0\t0.0\n",
      "\t2024-07-31 10:48:00\t0.08421052631578947\t0.0\t0.0\t0.0\t0.1626890756302521\t0.0\t0.0\n",
      "\t2024-07-31 10:49:00\t0.07975460122699388\t0.0\t0.0\t0.0\t0.10252100840336136\t0.0\t0.0\n",
      "\t2024-07-31 10:50:00\t0.17254901960784313\t0.0\t0.0\t0.0\t0.05826330532212885\t0.0\t0.0\n",
      "\t2024-07-31 10:51:00\t0.15337423312883436\t0.0\t0.0\t0.0\t0.029131652661064426\t0.0\t0.0\n",
      "\t2024-07-31 10:52:00\t0.06315789473684211\t0.0\t0.0\t0.0\t0.014565826330532213\t0.0\t0.0\n",
      "\t2024-07-31 10:53:00\t0.06274509803921569\t0.0\t0.0\t0.0\t0.0\t0.0\t0.0\n",
      "\t2024-07-31 10:54:00\t0.1954022988505747\t0.0\t0.0\t0.0\t0.0\t0.0\t0.0\n",
      "\t2024-07-31 10:55:00\t0.18627450980392155\t0.0\t0.0\t0.0\t0.0\t0.0\t0.0\n",
      "\t2024-07-31 10:56:00\t0.05882352941176471\t0.0\t0.0\t0.0\t0.0\t0.0\t0.0\n",
      "\t2024-07-31 10:57:00\t0.06274509803921569\t0.0\t0.0\t0.0\t0.0\t0.0\t0.0\n",
      "\t2024-07-31 10:58:00\t0.06274509803921569\t0.0\t0.0\t0.0\t0.0\t0.0\t0.0\n",
      "\t2024-07-31 10:59:00\t0.06217616580310881\t0.0\t0.0\t0.0\t0.0\t0.0\t0.0\n",
      "\t2024-07-31 11:00:00\t0.06274509803921569\t0.0\t0.0\t0.0\t0.0\t0.0\t0.0\n",
      "\t2024-07-31 11:01:00\t0.06274509803921569\t0.0\t0.0\t0.0\t0.0\t0.0\t0.0\n",
      "\t2024-07-31 11:02:00\t0.14754098360655737\t0.0\t0.0\t0.0\t0.0\t0.0\t0.0\n",
      "\t2024-07-31 11:03:00\t0.2840909090909091\t0.0\t0.0\t0.0\t0.0\t0.0\t0.0\n",
      "\t2024-07-31 11:04:00\t0.2626262626262626\t0.0\t0.0\t0.0\t0.0\t0.0\t0.0\n",
      "\t2024-07-31 11:05:00\t0.31868131868131866\t0.0\t0.0\t0.0\t0.0\t0.0\t0.0\n",
      "\t2024-07-31 11:06:00\t0.42745098039215684\t0.0\t0.0\t0.0\t0.0\t0.0\t0.0\n",
      "\t2024-07-31 11:07:00\t0.4\t0.0\t0.0\t0.0\t0.0\t0.0\t0.0\n",
      "\t2024-07-31 11:08:00\t0.3764705882352941\t0.0\t0.0\t0.0\t0.0\t0.0\t0.0\n",
      "\t2024-07-31 11:09:00\t0.2\t0.0\t0.0\t0.0\t0.0\t0.0\t0.0\n",
      "\t2024-07-31 11:10:00\t0.375\t0.0\t0.0\t0.0\t0.0\t0.0\t0.0\n",
      "\t2024-07-31 11:11:00\t0.058823529411764705\t0.0\t0.0\t0.0\t0.0\t0.0\t0.0\n",
      "\t2024-07-31 11:12:00\t0.058823529411764705\t0.0\t0.0\t0.0\t0.0\t0.0\t0.0\n",
      "\t2024-07-31 11:13:00\t0.2222222222222222\t0.0\t0.0\t0.0\t0.0\t0.0\t0.0\n",
      "\t2024-07-31 11:14:00\t0.42745098039215684\t0.0\t0.0\t0.0\t0.0\t0.0\t0.0\n",
      "\t2024-07-31 11:15:00\t0.21052631578947367\t0.0\t0.0\t0.0\t0.0\t0.0\t0.0\n",
      "\t2024-07-31 11:16:00\t0.058823529411764705\t0.0\t0.0\t0.0\t0.0\t0.0\t0.0\n",
      "\t2024-07-31 11:17:00\t0.058823529411764705\t0.0\t0.0\t0.0\t0.0\t0.0\t0.0\n",
      "\t2024-07-31 11:18:00\t0.058823529411764705\t0.0\t0.0\t0.0\t0.0\t0.0\t0.0\n",
      "\t2024-07-31 11:19:00\t0.2222222222222222\t0.0\t0.0\t0.0\t0.0\t0.0\t0.0\n",
      "\t2024-07-31 11:20:00\t0.375\t0.0\t0.0\t0.0\t0.0\t0.0\t0.0\n",
      "\t2024-07-31 11:21:00\t0.2\t0.0\t0.0\t0.0\t0.0\t0.0\t0.0\n",
      "\t2024-07-31 11:22:00\t0.20689655172413793\t0.0\t0.0\t0.0\t0.0\t0.0\t0.0\n",
      "\t2024-07-31 11:23:00\t0.20392156862745098\t0.0\t0.0\t0.0\t0.0\t0.0\t0.0\n",
      "\t2024-07-31 11:24:00\t0.375\t0.0\t0.0\t0.0\t0.0\t0.0\t0.0\n",
      "\t2024-07-31 11:25:00\t0.5\t0.0\t0.0\t0.0\t0.0\t0.0\t0.0\n",
      "\t2024-07-31 11:26:00\t0.3243243243243243\t0.0\t0.0\t0.0\t0.0\t0.0\t0.0\n",
      "\t2024-07-31 11:27:00\t0.2\t0.0\t0.0\t0.0\t0.0\t0.0\t0.0\n",
      "\t2024-07-31 11:28:00\t0.3333333333333333\t0.0\t0.0\t0.0\t0.0\t0.0\t0.0\n",
      "\t2024-07-31 11:29:00\t0.4\t0.0\t0.0\t0.0\t0.0\t0.0\t0.0\n",
      "\t2024-07-31 11:30:00\t0.2222222222222222\t0.0\t0.0\t0.0\t0.0\t0.0\t0.0\n",
      "\t2024-07-31 11:31:00\t0.375\t0.0\t0.0\t0.0\t0.0\t0.0\t0.0\n",
      "\t2024-07-31 11:32:00\t0.2195121951219512\t0.0\t0.0\t0.0\t0.0\t0.0\t0.0\n",
      "\t2024-07-31 11:33:00\t0.06274509803921569\t0.0\t0.0\t0.0\t0.0\t0.0\t0.0\n",
      "\t2024-07-31 11:34:00\t0.06806282722513089\t0.0\t0.0\t0.0\t0.0\t0.0\t0.0\n",
      "\t2024-07-31 11:35:00\t0.06274509803921569\t0.0\t0.0\t0.0\t0.0\t0.0\t0.0\n",
      "\t2024-07-31 11:36:00\t0.06274509803921569\t0.0\t0.0\t0.0\t0.0\t0.0\t0.0\n",
      "\t2024-07-31 11:37:00\t0.07058823529411765\t0.0\t0.0\t0.0\t0.0\t0.0\t0.0\n",
      "\t2024-07-31 11:38:00\t0.06417112299465241\t0.0\t0.0\t0.0\t0.0\t0.0\t0.0\n",
      "\t2024-07-31 11:39:00\t0.06770833333333333\t0.0\t0.0\t0.0\t0.0\t0.0\t0.0\n",
      "\t2024-07-31 11:40:00\t0.06382978723404255\t0.0\t0.0\t0.0\t0.0\t0.0\t0.0\n",
      "\t2024-07-31 11:41:00\t0.06565656565656565\t0.0\t0.0\t0.0\t0.0\t0.0\t0.0\n",
      "\t2024-07-31 11:42:00\t0.06417112299465241\t0.0\t0.0\t0.0\t0.0\t0.0\t0.0\n",
      "\t2024-07-31 11:43:00\t0.06274509803921569\t0.0\t0.0\t0.0\t0.0\t0.0\t0.0\n",
      "\t2024-07-31 11:44:00\t0.06274509803921569\t0.0\t0.0\t0.0\t0.0\t0.0\t0.0\n",
      "\t2024-07-31 11:45:00\t0.06315789473684211\t0.0\t0.0\t0.0\t0.0\t0.0\t0.0\n",
      "\t2024-07-31 11:46:00\t0.06565656565656565\t0.0\t0.0\t0.0\t0.0\t0.0\t0.0\n",
      "\t2024-07-31 11:47:00\t0.06598984771573603\t0.0\t0.0\t0.0\t0.0\t0.0\t0.0\n",
      "\t2024-07-31 11:48:00\t0.06565656565656565\t0.0\t0.0\t0.0\t0.0\t0.0\t0.0\n",
      "\t2024-07-31 11:49:00\t0.06896551724137931\t0.0\t0.0\t0.0\t0.0\t0.0\t0.0\n",
      "\t2024-07-31 11:50:00\t0.06274509803921569\t0.0\t0.0\t0.0\t0.0\t0.0\t0.0\n",
      "\t2024-07-31 11:51:00\t0.06274509803921569\t0.0\t0.0\t0.0\t0.0\t0.0\t0.0\n",
      "\t2024-07-31 11:52:00\t0.06666666666666667\t0.0\t0.0\t0.0\t0.0\t0.0\t0.0\n",
      "\t2024-07-31 11:53:00\t0.06770833333333333\t0.0\t0.0\t0.0\t0.0\t0.0\t0.0\n",
      "\t2024-07-31 11:54:00\t0.06282722513089005\t0.0\t0.0\t0.0\t0.0\t0.0\t0.0\n",
      "\t2024-07-31 11:55:00\t0.06274509803921569\t0.0\t0.0\t0.0\t0.0\t0.0\t0.0\n",
      "\t2024-07-31 11:56:00\t0.06282722513089005\t0.0\t0.0\t0.0\t0.0\t0.0\t0.0\n",
      "\t2024-07-31 11:57:00\t0.06274509803921569\t0.0\t0.0\t0.0\t0.0\t0.0\t0.0\n",
      "\t2024-07-31 11:58:00\t0.06382978723404255\t0.0\t0.0\t0.0\t0.0\t0.0\t0.0\n",
      "\t2024-07-31 11:59:00\t0.06274509803921569\t0.0\t0.0\t0.0\t0.0\t0.0\t0.0\n",
      "\t2024-07-31 12:00:00\t0.06467661691542288\t0.0\t0.0\t0.0\t0.0\t0.0\t0.0\n",
      "\t2024-07-31 12:01:00\t0.06274509803921569\t0.0\t0.0\t0.0\t0.0\t0.0\t0.0\n",
      "\t2024-07-31 12:02:00\t0.06598984771573603\t0.0\t0.0\t0.0\t0.0\t0.0\t0.0\n",
      "\t2024-07-31 12:03:00\t0.06274509803921569\t0.0\t0.0\t0.0\t0.0\t0.0\t0.0\n",
      "\t2024-07-31 12:04:00\t0.06914893617021275\t0.0\t0.0\t0.0\t0.0\t0.0\t0.0\n",
      "\t2024-07-31 12:05:00\t0.06274509803921569\t0.0\t0.0\t0.0\t0.0\t0.0\t0.0\n",
      "\t2024-07-31 12:06:00\t0.06274509803921569\t0.0\t0.0\t0.0\t0.0\t0.0\t0.0\n",
      "\t2024-07-31 12:07:00\t0.06521739130434782\t0.0\t0.0\t0.0\t0.0\t0.0\t0.0\n",
      "\t2024-07-31 12:08:00\t0.06282722513089005\t0.0\t0.0\t0.0\t0.0\t0.0\t0.0\n",
      "\t2024-07-31 12:09:00\t0.06274509803921569\t0.0\t0.0\t0.0\t0.0\t0.0\t0.0\n",
      "\t2024-07-31 12:10:00\t0.06274509803921569\t0.0\t0.0\t0.0\t0.0\t0.0\t0.0\n",
      "\t2024-07-31 12:11:00\t0.06565656565656565\t0.0\t0.0\t0.0\t0.0\t0.0\t0.0\n",
      "\t2024-07-31 12:12:00\t0.06914893617021275\t0.0\t0.0\t0.0\t0.0\t0.0\t0.0\n",
      "\t2024-07-31 12:13:00\t0.06701030927835051\t0.0\t0.0\t0.0\t0.0\t0.0\t0.0\n",
      "\t2024-07-31 12:14:00\t0.06557377049180328\t0.0\t0.0\t0.0\t0.0\t0.0\t0.0\n",
      "\t2024-07-31 12:15:00\t0.06806282722513089\t0.0\t0.0\t0.0\t0.0\t0.0\t0.0\n",
      "\t2024-07-31 12:16:00\t0.06274509803921569\t0.0\t0.0\t0.0\t0.0\t0.0\t0.0\n",
      "\t2024-07-31 12:17:00\t0.06770833333333333\t0.0\t0.0\t0.0\t0.0\t0.0\t0.0\n",
      "\t2024-07-31 12:18:00\t0.06274509803921569\t0.0\t0.0\t0.0\t0.0\t0.0\t0.0\n",
      "\t2024-07-31 12:19:00\t0.06282722513089005\t0.0\t0.0\t0.0\t0.0\t0.0\t0.0\n",
      "\t2024-07-31 12:20:00\t0.06274509803921569\t0.0\t0.0\t0.0\t0.0\t0.0\t0.0\n",
      "\t2024-07-31 12:21:00\t0.06274509803921569\t0.0\t0.0\t0.0\t0.0\t0.0\t0.0\n",
      "\t2024-07-31 12:22:00\t0.06274509803921569\t0.0\t0.0\t0.0\t0.0\t0.0\t0.0\n",
      "\t2024-07-31 12:23:00\t0.06532663316582915\t0.0\t0.0\t0.0\t0.0\t0.0\t0.0\n",
      "\t2024-07-31 12:24:00\t0.06467661691542288\t0.0\t0.0\t0.0\t0.0\t0.0\t0.0\n",
      "\t2024-07-31 12:25:00\t0.06382978723404255\t0.0\t0.0\t0.0\t0.0\t0.0\t0.0\n",
      "\t2024-07-31 12:26:00\t0.06914893617021275\t0.0\t0.0\t0.0\t0.0\t0.0\t0.0\n",
      "\t2024-07-31 12:27:00\t0.06349206349206349\t0.0\t0.0\t0.0\t0.0\t0.0\t0.0\n",
      "\t2024-07-31 12:28:00\t0.06435643564356436\t0.0\t0.0\t0.0\t0.0\t0.0\t0.0\n",
      "\t2024-07-31 12:29:00\t0.06274509803921569\t0.0\t0.0\t0.0\t0.0\t0.0\t0.0\n",
      "\t2024-07-31 12:30:00\t0.06274509803921569\t0.0\t0.0\t0.0\t0.0\t0.0\t0.0\n",
      "\t2024-07-31 12:31:00\t0.06796116504854369\t0.0\t0.0\t0.0\t0.0\t0.0\t0.0\n",
      "\t2024-07-31 12:32:00\t0.06315789473684211\t0.0\t0.0\t0.0\t0.0\t0.0\t0.0\n",
      "\t2024-07-31 12:33:00\t0.06315789473684211\t0.0\t0.0\t0.0\t0.0\t0.0\t0.0\n",
      "\t2024-07-31 12:34:00\t0.06274509803921569\t0.0\t0.0\t0.0\t0.0\t0.0\t0.0\n",
      "\t2024-07-31 12:35:00\t0.06666666666666667\t0.0\t0.0\t0.0\t0.0\t0.0\t0.0\n",
      "\t2024-07-31 12:36:00\t0.06315789473684211\t0.0\t0.0\t0.0\t0.0\t0.0\t0.0\n",
      "\t2024-07-31 12:37:00\t0.06274509803921569\t0.0\t0.0\t0.0\t0.0\t0.0\t0.0\n",
      "\t2024-07-31 12:38:00\t0.06557377049180328\t0.0\t0.0\t0.0\t0.0\t0.0\t0.0\n",
      "\t2024-07-31 12:39:00\t0.06598984771573603\t0.0\t0.0\t0.0\t0.0\t0.0\t0.0\n",
      "\t2024-07-31 12:40:00\t0.06282722513089005\t0.0\t0.0\t0.0\t0.0\t0.0\t0.0\n",
      "\t2024-07-31 12:41:00\t0.06274509803921569\t0.0\t0.0\t0.0\t0.0\t0.0\t0.0\n",
      "\t2024-07-31 12:42:00\t0.06763285024154589\t0.0\t0.0\t0.0\t0.0\t0.0\t0.0\n",
      "\t2024-07-31 12:43:00\t0.06274509803921569\t0.0\t0.0\t0.0\t0.0\t0.0\t0.0\n",
      "\t2024-07-31 12:44:00\t0.06280193236714976\t0.0\t0.0\t0.0\t0.0\t0.0\t0.0\n",
      "\t2024-07-31 12:45:00\t0.06372549019607843\t0.0\t0.0\t0.0\t0.0\t0.0\t0.0\n",
      "\t2024-07-31 12:46:00\t0.06572769953051642\t0.0\t0.0\t0.0\t0.0\t0.0\t0.0\n",
      "\t2024-07-31 12:47:00\t0.06435643564356436\t0.0\t0.0\t0.0\t0.0\t0.0\t0.0\n",
      "\t2024-07-31 12:48:00\t0.06467661691542288\t0.0\t0.0\t0.0\t0.0\t0.0\t0.0\n",
      "\t2024-07-31 12:49:00\t0.06417112299465241\t0.0\t0.0\t0.0\t0.0\t0.0\t0.0\n",
      "\t2024-07-31 12:50:00\t0.06274509803921569\t0.0\t0.0\t0.0\t0.0\t0.0\t0.0\n",
      "\t2024-07-31 12:51:00\t0.06274509803921569\t0.0\t0.0\t0.0\t0.0\t0.0\t0.0\n",
      "\t2024-07-31 12:52:00\t0.0673076923076923\t0.0\t0.0\t0.0\t0.0\t0.0\t0.0\n",
      "\t2024-07-31 12:53:00\t0.06372549019607843\t0.0\t0.0\t0.0\t0.0\t0.0\t0.0\n",
      "\t2024-07-31 12:54:00\t0.06315789473684211\t0.0\t0.0\t0.0\t0.0\t0.0\t0.0\n",
      "\t2024-07-31 12:55:00\t0.065\t0.0\t0.0\t0.0\t0.0\t0.0\t0.0\n",
      "\t2024-07-31 12:56:00\t0.06532663316582915\t0.0\t0.0\t0.0\t0.0\t0.0\t0.0\n",
      "\t2024-07-31 12:57:00\t0.06403940886699508\t0.0\t0.0\t0.0\t0.0\t0.0\t0.0\n",
      "\t2024-07-31 12:58:00\t0.06493506493506494\t0.0\t0.0\t0.0\t0.0\t0.0\t0.0\n",
      "\t2024-07-31 12:59:00\t0.06274509803921569\t0.0\t0.0\t0.0\t0.0\t0.0\t0.0\n",
      "\t2024-07-31 13:00:00\t0.06285714285714286\t0.0\t0.0\t0.0\t0.0\t0.0\t0.0\n",
      "\t2024-07-31 13:01:00\t0.06598984771573603\t0.0\t0.0\t0.0\t0.0\t0.0\t0.0\n",
      "\t2024-07-31 13:02:00\t0.06315789473684211\t0.0\t0.0\t0.0\t0.0\t0.0\t0.0\n",
      "\t2024-07-31 13:03:00\t0.06818181818181818\t0.0\t0.0\t0.0\t0.0\t0.0\t0.0\n",
      "\t2024-07-31 13:04:00\t0.06666666666666667\t0.0\t0.0\t0.0\t0.0\t0.0\t0.0\n",
      "\t2024-07-31 13:05:00\t0.06532663316582915\t0.0\t0.0\t0.0\t0.0\t0.0\t0.0\n",
      "\t2024-07-31 13:06:00\t0.06274509803921569\t0.0\t0.0\t0.0\t0.0\t0.0\t0.0\n",
      "\t2024-07-31 13:07:00\t0.06274509803921569\t0.0\t0.0\t0.0\t0.0\t0.0\t0.0\n",
      "\t2024-07-31 13:08:00\t0.06403940886699508\t0.0\t0.0\t0.0\t0.0\t0.0\t0.0\n",
      "\t2024-07-31 13:09:00\t0.06403940886699508\t0.0\t0.0\t0.0\t0.0\t0.0\t0.0\n",
      "\t2024-07-31 13:10:00\t0.06274509803921569\t0.0\t0.0\t0.0\t0.0\t0.0\t0.0\n",
      "\t2024-07-31 13:11:00\t0.065\t0.0\t0.0\t0.0\t0.0\t0.0\t0.0\n",
      "\t2024-07-31 13:12:00\t0.06467661691542288\t0.0\t0.0\t0.0\t0.0\t0.0\t0.0\n",
      "\t2024-07-31 13:13:00\t0.06274509803921569\t0.0\t0.0\t0.0\t0.0\t0.0\t0.0\n",
      "\t2024-07-31 13:14:00\t0.06274509803921569\t0.0\t0.0\t0.0\t0.0\t0.0\t0.0\n",
      "\t2024-07-31 13:15:00\t0.06274509803921569\t0.0\t0.0\t0.0\t0.0\t0.0\t0.0\n",
      "\t2024-07-31 13:16:00\t0.06829268292682926\t0.0\t0.0\t0.0\t0.0\t0.0\t0.0\n",
      "\t2024-07-31 13:17:00\t0.06274509803921569\t0.0\t0.0\t0.0\t0.0\t0.0\t0.0\n",
      "\t2024-07-31 13:18:00\t0.06666666666666667\t0.0\t0.0\t0.0\t0.0\t0.0\t0.0\n",
      "\t2024-07-31 13:19:00\t0.06451612903225806\t0.0\t0.0\t0.0\t0.0\t0.0\t0.0\n",
      "\t2024-07-31 13:20:00\t0.06274509803921569\t0.0\t0.0\t0.0\t0.0\t0.0\t0.0\n",
      "\t2024-07-31 13:21:00\t0.06372549019607843\t0.0\t0.0\t0.0\t0.0\t0.0\t0.0\n",
      "\t2024-07-31 13:22:00\t0.06274509803921569\t0.0\t0.0\t0.0\t0.0\t0.0\t0.0\n",
      "\t2024-07-31 13:23:00\t0.06280193236714976\t0.0\t0.0\t0.0\t0.0\t0.0\t0.0\n",
      "\t2024-07-31 13:24:00\t0.06274509803921569\t0.0\t0.0\t0.0\t0.0\t0.0\t0.0\n",
      "\t2024-07-31 13:25:00\t0.06274509803921569\t0.0\t0.0\t0.0\t0.0\t0.0\t0.0\n",
      "\t2024-07-31 13:26:00\t0.06274509803921569\t0.0\t0.0\t0.0\t0.0\t0.0\t0.0\n",
      "\t2024-07-31 13:27:00\t0.06403940886699508\t0.0\t0.0\t0.0\t0.0\t0.0\t0.0\n",
      "\t2024-07-31 13:28:00\t0.06310679611650485\t0.0\t0.0\t0.0\t0.0\t0.0\t0.0\n",
      "\t2024-07-31 13:29:00\t0.06274509803921569\t0.0\t0.0\t0.0\t0.0\t0.0\t0.0\n",
      "\t2024-07-31 13:30:00\t0.06274509803921569\t0.0\t0.0\t0.0\t0.0\t0.0\t0.0\n",
      "\t2024-07-31 13:31:00\t0.06274509803921569\t0.0\t0.0\t0.0\t0.0\t0.0\t0.0\n",
      "\t2024-07-31 13:32:00\t0.06274509803921569\t0.0\t0.0\t0.0\t0.0\t0.0\t0.0\n",
      "\t2024-07-31 13:33:00\t0.06274509803921569\t0.0\t0.0\t0.0\t0.0\t0.0\t0.0\n",
      "\t2024-07-31 13:34:00\t0.06274509803921569\t0.0\t0.0\t0.0\t0.0\t0.0\t0.0\n",
      "\t2024-07-31 13:35:00\t0.06666666666666667\t0.0\t0.0\t0.0\t0.0\t0.0\t0.0\n",
      "\t2024-07-31 13:36:00\t0.06349206349206349\t0.0\t0.0\t0.0\t0.0\t0.0\t0.0\n",
      "\t2024-07-31 13:37:00\t0.06274509803921569\t0.0\t0.0\t0.0\t0.0\t0.0\t0.0\n",
      "\t2024-07-31 13:38:00\t0.06285714285714286\t0.0\t0.0\t0.0\t0.0\t0.0\t0.0\n",
      "\t2024-07-31 13:39:00\t0.06274509803921569\t0.0\t0.0\t0.0\t0.0\t0.0\t0.0\n",
      "\t2024-07-31 13:40:00\t0.06310679611650485\t0.0\t0.0\t0.0\t0.0\t0.0\t0.0\n",
      "\t2024-07-31 13:41:00\t0.06274509803921569\t0.0\t0.0\t0.0\t0.0\t0.0\t0.0\n",
      "\t2024-07-31 13:42:00\t0.06274509803921569\t0.0\t0.0\t0.0\t0.0\t0.0\t0.0\n",
      "\t2024-07-31 13:43:00\t0.06274509803921569\t0.0\t0.0\t0.0\t0.0\t0.0\t0.0\n",
      "\t2024-07-31 13:44:00\t0.06274509803921569\t0.0\t0.0\t0.0\t0.0\t0.0\t0.0\n",
      "\t2024-07-31 13:45:00\t0.06274509803921569\t0.0\t0.0\t0.0\t0.0\t0.0\t0.0\n",
      "\t2024-07-31 13:46:00\t0.06274509803921569\t0.0\t0.0\t0.0\t0.0\t0.0\t0.0\n",
      "\t2024-07-31 13:47:00\t0.06274509803921569\t0.0\t0.0\t0.0\t0.0\t0.0\t0.0\n",
      "\t2024-07-31 13:48:00\t0.06274509803921569\t0.0\t0.0\t0.0\t0.0\t0.0\t0.0\n",
      "\t2024-07-31 13:49:00\t0.06274509803921569\t0.0\t0.0\t0.0\t0.0\t0.0\t0.0\n",
      "\t2024-07-31 13:50:00\t0.06372549019607843\t0.0\t0.0\t0.0\t0.0\t0.0\t0.0\n",
      "\t2024-07-31 13:51:00\t0.06274509803921569\t0.0\t0.0\t0.0\t0.0\t0.0\t0.0\n",
      "\t2024-07-31 13:52:00\t0.06280193236714976\t0.0\t0.0\t0.0\t0.0\t0.0\t0.0\n",
      "\t2024-07-31 13:53:00\t0.06382978723404255\t0.0\t0.0\t0.0\t0.0\t0.0\t0.0\n",
      "\t2024-07-31 13:54:00\t0.06274509803921569\t0.0\t0.0\t0.0\t0.0\t0.0\t0.0\n",
      "\t2024-07-31 13:55:00\t0.06372549019607843\t0.0\t0.0\t0.0\t0.0\t0.0\t0.0\n",
      "\t2024-07-31 13:56:00\t0.06403940886699508\t0.0\t0.0\t0.0\t0.0\t0.0\t0.0\n",
      "\t2024-07-31 13:57:00\t0.06372549019607843\t0.0\t0.0\t0.0\t0.0\t0.0\t0.0\n",
      "\t2024-07-31 13:58:00\t0.06274509803921569\t0.0\t0.0\t0.0\t0.0\t0.0\t0.0\n",
      "\t2024-07-31 13:59:00\t0.06274509803921569\t0.0\t0.0\t0.0\t0.0\t0.0\t0.0\n",
      "\t2024-07-31 14:00:00\t0.06274509803921569\t0.0\t0.0\t0.0\t0.0\t0.0\t0.0\n",
      "\t2024-07-31 14:01:00\t0.06274509803921569\t0.0\t0.0\t0.0\t0.0\t0.0\t0.0\n",
      "\t2024-07-31 14:02:00\t0.06274509803921569\t0.0\t0.0\t0.0\t0.0\t0.0\t0.0\n",
      "\t2024-07-31 14:03:00\t0.06274509803921569\t0.0\t0.0\t0.0\t0.0\t0.0\t0.0\n",
      "\t2024-07-31 14:04:00\t0.06486486486486487\t0.0\t0.0\t0.0\t0.0\t0.0\t0.0\n",
      "\t2024-07-31 14:05:00\t0.10576923076923077\t0.0\t0.0\t0.0\t0.0\t0.0\t0.0\n",
      "\t2024-07-31 14:06:00\t0.13432835820895522\t0.0\t0.0\t0.0\t0.0\t0.0\t0.0\n",
      "\t2024-07-31 14:07:00\t0.00784313725490196\t0.0\t0.0\t0.0\t0.0\t0.0\t0.0\n",
      "\t2024-07-31 14:08:00\t0.008771929824561403\t0.0\t0.0\t0.0\t0.0\t0.0\t0.0\n",
      "\t2024-07-31 14:09:00\t0.00784313725490196\t0.0\t0.0\t0.0\t0.0\t0.0\t0.0\n",
      "\t2024-07-31 14:10:00\t0.00784313725490196\t0.0\t0.0\t0.0\t0.0\t0.0\t0.0\n",
      "\t2024-07-31 14:11:00\t0.00784313725490196\t0.0\t0.0\t0.0\t0.0\t0.0\t0.0\n",
      "\t2024-07-31 14:12:00\t0.00784313725490196\t0.0\t0.0\t0.0\t0.0\t0.0\t0.0\n",
      "\t2024-07-31 14:13:00\t0.0898876404494382\t0.0\t0.0\t0.0\t0.0\t0.0\t0.0\n",
      "\t2024-07-31 14:14:00\t0.011764705882352941\t0.0\t0.0\t0.0\t0.0\t0.0\t0.0\n",
      "\t2024-07-31 14:15:00\t0.011764705882352941\t0.0\t0.0\t0.0\t0.0\t0.0\t0.0\n",
      "\t2024-07-31 14:16:00\t0.011764705882352941\t0.0\t0.0\t0.0\t0.0\t0.0\t0.0\n",
      "\t2024-07-31 14:17:00\t0.011764705882352941\t0.0\t0.0\t0.0\t0.0\t0.0\t0.0\n",
      "\t2024-07-31 14:18:00\t0.011764705882352941\t0.0\t0.0\t0.0\t0.0\t0.0\t0.0\n",
      "\t2024-07-31 14:19:00\t0.011764705882352941\t0.0\t0.0\t0.0\t0.0\t0.0\t0.0\n",
      "\t2024-07-31 14:20:00\t0.011764705882352941\t0.0\t0.0\t0.0\t0.0\t0.0\t0.0\n",
      "\t2024-07-31 14:21:00\t0.011764705882352941\t0.0\t0.0\t0.0\t0.0\t0.0\t0.0\n",
      "\t2024-07-31 14:22:00\t0.011764705882352941\t0.0\t0.0\t0.0\t0.0\t0.0\t0.0\n",
      "\t2024-07-31 14:23:00\t0.011764705882352941\t0.0\t0.0\t0.0\t0.0\t0.0\t0.0\n",
      "\t2024-07-31 14:24:00\t0.011764705882352941\t0.0\t0.0\t0.0\t0.0\t0.0\t0.0\n",
      "\t2024-07-31 14:25:00\t0.011764705882352941\t0.0\t0.0\t0.0\t0.0\t0.0\t0.0\n",
      "\t2024-07-31 14:26:00\t0.011764705882352941\t0.0\t0.0\t0.0\t0.0\t0.0\t0.0\n",
      "\t2024-07-31 14:27:00\t0.011764705882352941\t0.0\t0.0\t0.0\t0.0\t0.0\t0.0\n",
      "\t2024-07-31 14:28:00\t0.011764705882352941\t0.0\t0.0\t0.0\t0.0\t0.0\t0.0\n",
      "\t2024-07-31 14:29:00\t0.011764705882352941\t0.0\t0.0\t0.0\t0.0\t0.0\t0.0\n",
      "\t2024-07-31 14:30:00\t0.011764705882352941\t0.0\t0.0\t0.0\t0.0\t0.0\t0.0\n",
      "\t2024-07-31 14:31:00\t0.011764705882352941\t0.0\t0.0\t0.0\t0.0\t0.0\t0.0\n",
      "\t2024-07-31 14:32:00\t0.011764705882352941\t0.0\t0.0\t0.0\t0.0\t0.023977591036414565\t0.0\n",
      "\t2024-07-31 14:33:00\t0.011764705882352941\t0.0\t0.0\t0.0\t0.0\t0.07184276989484319\t0.0\n",
      "\t2024-07-31 14:34:00\t0.011764705882352941\t0.0\t0.0\t0.0\t0.0\t0.14446985351517655\t0.0\n",
      "\t2024-07-31 14:35:00\t0.011764705882352941\t0.0\t0.0\t0.0\t0.0\t0.24096248335399734\t0.0\n",
      "\t2024-07-31 14:36:00\t0.011764705882352941\t0.0\t0.0\t0.0\t0.0\t0.3609606856345607\t0.0\n",
      "\t2024-07-31 14:37:00\t0.011764705882352941\t0.0\t0.0\t0.0\t0.0\t0.4809588879151242\t0.0\n",
      "\t2024-07-31 14:38:00\t0.011764705882352941\t0.0\t0.0\t0.0\t0.0\t0.600935048592161\t0.0\n",
      "\t2024-07-31 14:39:00\t0.16071428571428573\t0.0\t0.0\t0.0\t0.0\t0.7201268955437076\t0.0\n",
      "\t2024-07-31 14:40:00\t0.8392156862745098\t0.8392156862745098\t0.8392156862745098\t0.11988795518207283\t0.11988795518207283\t0.8402151010386714\t0.11988795518207283\n",
      "\t2024-07-31 14:41:00\t0.8360655737704917\t0.8360655737704917\t0.8360655737704917\t0.23932589429214307\t0.23932589429214307\t0.8416716836717247\t0.23932589429214307\n",
      "\t2024-07-31 14:42:00\t0.8666666666666667\t0.8666666666666667\t0.8666666666666667\t0.3631354181016669\t0.3631354181016669\t0.8439393156789902\t0.3631354181016669\n",
      "\t2024-07-31 14:43:00\t0.8352941176470589\t0.8352941176470589\t0.8352941176470589\t0.4824631491941039\t0.4824631491941039\t0.8418353629868024\t0.4824631491941039\n",
      "\t2024-07-31 14:44:00\t0.8226950354609929\t0.8226950354609929\t0.8226950354609929\t0.5999910114028172\t0.5999910114028172\t0.8442132030117012\t0.5999910114028172\n",
      "\t2024-07-31 14:45:00\t0.8392156862745098\t0.8392156862745098\t0.8392156862745098\t0.6959013755484753\t0.6959013755484753\t0.8469739548936105\t0.6959013755484753\n",
      "\t2024-07-31 14:46:00\t0.8352941176470589\t0.8352941176470589\t0.8352941176470589\t0.7673639277824839\t0.7673639277824839\t0.8465903000766702\t0.7673639277824839\n",
      "\t2024-07-31 14:47:00\t0.8392156862745098\t0.8392156862745098\t0.8392156862745098\t0.8146247993442232\t0.8146247993442232\t0.846405836047156\t0.8146247993442232\n",
      "\t2024-07-31 14:48:00\t0.8666666666666667\t0.8666666666666667\t0.8666666666666667\t0.8419416933149264\t0.8419416933149264\t0.8457731927459332\t0.8419416933149264\n",
      "\t2024-07-31 14:49:00\t0.8666666666666667\t0.8666666666666667\t0.8666666666666667\t0.8411069359993322\t0.8457530148438865\t0.8411069359993322\t0.8411069359993322\n",
      "\t2024-07-31 14:50:00\t0.8518518518518519\t0.8518518518518519\t0.8518518518518519\t0.8370428826323204\t0.8474479342564448\t0.8370428826323204\t0.8370428826323204\n",
      "\t2024-07-31 14:51:00\t0.8352941176470589\t0.8352941176470589\t0.8352941176470589\t0.8350027499446917\t0.846799504671845\t0.8350027499446917\t0.8350027499446917\n",
      "\t2024-07-31 14:52:00\t0.8392156862745098\t0.8392156862745098\t0.8392156862745098\t0.8351599406308571\t0.8474956129023713\t0.8351599406308571\t0.8351599406308571\n",
      "\t2024-07-31 14:53:00\t0.8170731707317073\t0.8170731707317073\t0.8170731707317073\t0.8351840780957337\t0.8441321460833657\t0.8351840780957337\t0.8351840780957337\n",
      "\t2024-07-31 14:54:00\t0.8392156862745098\t0.8392156862745098\t0.8392156862745098\t0.8383714320667252\t0.8426755634503124\t0.8383714320667252\t0.8383714320667252\n",
      "\t2024-07-31 14:55:00\t0.8392156862745098\t0.8392156862745098\t0.8392156862745098\t0.8381043323953155\t0.8408579475150494\t0.8381043323953155\t0.8381043323953155\n",
      "\t2024-07-31 14:56:00\t0.8392156862745098\t0.8392156862745098\t0.8392156862745098\t0.8379297141609249\t0.8390403315797863\t0.8379297141609249\t0.8379297141609249\n",
      "\t2024-07-31 14:57:00\t0.8352941176470589\t0.8352941176470589\t0.8352941176470589\t0.8366624915548877\t0.8366624915548877\t0.8378564130491283\t0.8366624915548877\n",
      "\t2024-07-31 14:58:00\t0.838150289017341\t0.838150289017341\t0.838150289017341\t0.8361096330381707\t0.8361096330381707\t0.838140254794474\t0.8361096330381707\n",
      "\t2024-07-31 14:59:00\t0.8359788359788359\t0.8359788359788359\t0.8359788359788359\t0.8360308806700146\t0.8360308806700146\t0.8381281168762785\t0.8360308806700146\n",
      "\t2024-07-31 15:00:00\t0.8333333333333334\t0.8333333333333334\t0.8333333333333334\t0.835935232654711\t0.835935232654711\t0.8387478635929321\t0.835935232654711\n",
      "\t2024-07-31 15:01:00\t0.8541666666666667\t0.8541666666666667\t0.8541666666666667\t0.8387037302976708\t0.8387037302976708\t0.8406527408492568\t0.8387037302976708\n",
      "\t2024-07-31 15:02:00\t0.8352941176470589\t0.8352941176470589\t0.8352941176470589\t0.8388881943271851\t0.8388881943271851\t0.8397042001426513\t0.8388881943271851\n",
      "\t2024-07-31 15:03:00\t0.8279569892473119\t0.8279569892473119\t0.8279569892473119\t0.8374222937771458\t0.8374222937771458\t0.8412276482315644\t0.8374222937771458\n",
      "\t2024-07-31 15:04:00\t0.8392156862745098\t0.8392156862745098\t0.8392156862745098\t0.8198216664840269\t0.8376572599537254\t0.8198216664840269\t0.8198216664840269\n",
      "\t2024-07-31 15:05:00\t0.8368794326241135\t0.8368794326241135\t0.8368794326241135\t0.7728297084104748\t0.8377265428357111\t0.7728297084104748\t0.7728297084104748\n",
      "\t2024-07-31 15:06:00\t0.8470588235294118\t0.8470588235294118\t0.8470588235294118\t0.7012867082316797\t0.838822853550106\t0.7012867082316797\t0.7012867082316797\n",
      "\t2024-07-31 15:07:00\t0.8392156862745098\t0.8392156862745098\t0.8392156862745098\t0.6042558959067499\t0.838798716085229\t0.6042558959067499\t0.6042558959067499\n",
      "\t2024-07-31 15:08:00\t0.8392156862745098\t0.8392156862745098\t0.8392156862745098\t0.48436794072467704\t0.839065815756639\t0.48436794072467704\t0.48436794072467704\n",
      "\t2024-07-31 15:09:00\t0.870967741935484\t0.870967741935484\t0.870967741935484\t0.3644799855426042\t0.8437764419425974\t0.3644799855426042\t0.3644799855426042\n",
      "\t2024-07-31 15:10:00\t0.8411764705882353\t0.8411764705882353\t0.8411764705882353\t0.2400560224089636\t0.8441298550992121\t0.2400560224089636\t0.2400560224089636\n",
      "\t2024-07-31 15:11:00\t0.8392156862745098\t0.8392156862745098\t0.8392156862745098\t0.11988795518207283\t0.8444062374435019\t0.11988795518207283\t0.11988795518207283\n",
      "\t2024-07-31 15:12:00\t0.00784313725490196\t0.0\t0.0\t0.0\t0.7246826197877916\t0.0\t0.0\n",
      "\t2024-07-31 15:13:00\t0.00784313725490196\t0.0\t0.0\t0.0\t0.6046373250741615\t0.0\t0.0\n",
      "\t2024-07-31 15:14:00\t0.00784313725490196\t0.0\t0.0\t0.0\t0.48368482877021785\t0.0\t0.0\n",
      "\t2024-07-31 15:15:00\t0.01515151515151515\t0.0\t0.0\t0.0\t0.3626095599530134\t0.0\t0.0\n",
      "\t2024-07-31 15:16:00\t0.0\t0.0\t0.0\t0.0\t0.2417583807716635\t0.0\t0.0\n",
      "\t2024-07-31 15:17:00\t0.0\t0.0\t0.0\t0.0\t0.14488479262672813\t0.0\t0.0\n",
      "\t2024-07-31 15:18:00\t0.0\t0.0\t0.0\t0.0\t0.07198879551820728\t0.0\t0.0\n",
      "\t2024-07-31 15:19:00\t0.0\t0.0\t0.0\t0.0\t0.023977591036414565\t0.0\t0.0\n",
      "\t2024-07-31 15:20:00\t0.0\t0.0\t0.0\t0.0\t0.0\t0.0\t0.0\n",
      "\t2024-07-31 15:21:00\t0.0\t0.0\t0.0\t0.0\t0.0\t0.0\t0.0\n",
      "\t2024-07-31 15:22:00\t0.0\t0.0\t0.0\t0.0\t0.0\t0.0\t0.0\n",
      "\t2024-07-31 15:23:00\t0.0\t0.0\t0.0\t0.0\t0.0\t0.0\t0.0\n",
      "\t2024-07-31 15:24:00\t0.0\t0.0\t0.0\t0.0\t0.0\t0.0\t0.0\n",
      "\t2024-07-31 15:25:00\t0.0\t0.0\t0.0\t0.0\t0.0\t0.0\t0.0\n",
      "\t2024-07-31 15:26:00\t0.010752688172043012\t0.0\t0.0\t0.0\t0.0\t0.0\t0.0\n",
      "\t2024-07-31 15:27:00\t0.00784313725490196\t0.0\t0.0\t0.0\t0.0\t0.0\t0.0\n",
      "\t2024-07-31 15:28:00\t0.2627450980392157\t0.0\t0.0\t0.0\t0.0\t0.0\t0.0\n",
      "\t2024-07-31 15:29:00\t0.24705882352941178\t0.0\t0.0\t0.0\t0.0\t0.0\t0.0\n",
      "\t2024-07-31 15:30:00\t0.011764705882352941\t0.0\t0.0\t0.0\t0.0\t0.0\t0.0\n",
      "\t2024-07-31 15:31:00\t0.009259259259259259\t0.0\t0.0\t0.0\t0.0\t0.0\t0.0\n",
      "\t2024-07-31 15:32:00\t0.00784313725490196\t0.0\t0.0\t0.0\t0.0\t0.0\t0.0\n",
      "\t2024-07-31 15:33:00\t0.0\t0.0\t0.0\t0.0\t0.0\t0.0\t0.0\n",
      "\t2024-07-31 15:34:00\t0.0\t0.0\t0.0\t0.0\t0.0\t0.0\t0.0\n",
      "\t2024-07-31 15:35:00\t0.0\t0.0\t0.0\t0.0\t0.0\t0.0\t0.0\n",
      "\t2024-07-31 15:36:00\t0.0\t0.0\t0.0\t0.0\t0.0\t0.0\t0.0\n",
      "\t2024-07-31 15:37:00\t0.0\t0.0\t0.0\t0.0\t0.0\t0.0\t0.0\n",
      "\t2024-07-31 15:38:00\t0.0\t0.0\t0.0\t0.0\t0.0\t0.0\t0.0\n",
      "\t2024-07-31 15:39:00\t0.0\t0.0\t0.0\t0.0\t0.0\t0.0\t0.0\n",
      "\t2024-07-31 15:40:00\t0.0\t0.0\t0.0\t0.0\t0.0\t0.0\t0.0\n",
      "\t2024-07-31 15:41:00\t0.0\t0.0\t0.0\t0.0\t0.0\t0.0\t0.0\n",
      "\t2024-07-31 15:42:00\t0.0\t0.0\t0.0\t0.0\t0.0\t0.0\t0.0\n",
      "\t2024-07-31 15:43:00\t0.0\t0.0\t0.0\t0.0\t0.0\t0.0\t0.0\n",
      "\t2024-07-31 15:44:00\t0.0\t0.0\t0.0\t0.0\t0.0\t0.0\t0.0\n",
      "\t2024-07-31 15:45:00\t0.0\t0.0\t0.0\t0.0\t0.0\t0.0\t0.0\n",
      "\t2024-07-31 15:46:00\t0.0\t0.0\t0.0\t0.0\t0.0\t0.0\t0.0\n",
      "\t2024-07-31 15:47:00\t0.0\t0.0\t0.0\t0.0\t0.0\t0.0\t0.0\n",
      "\t2024-07-31 15:48:00\t0.0\t0.0\t0.0\t0.0\t0.0\t0.0\t0.0\n",
      "\t2024-07-31 15:49:00\t0.0\t0.0\t0.0\t0.0\t0.0\t0.0\t0.0\n",
      "\t2024-07-31 15:50:00\t0.0\t0.0\t0.0\t0.0\t0.0\t0.0\t0.0\n",
      "\t2024-07-31 15:51:00\t0.0\t0.0\t0.0\t0.0\t0.0\t0.0\t0.0\n",
      "\t2024-07-31 15:52:00\t0.0\t0.0\t0.0\t0.0\t0.0\t0.0\t0.0\n",
      "\t2024-07-31 15:53:00\t0.0\t0.0\t0.0\t0.0\t0.0\t0.0\t0.0\n",
      "\t2024-07-31 15:54:00\t0.0\t0.0\t0.0\t0.0\t0.0\t0.0\t0.0\n",
      "\t2024-07-31 15:55:00\t0.0\t0.0\t0.0\t0.0\t0.0\t0.0\t0.0\n",
      "\t2024-07-31 15:56:00\t0.0\t0.0\t0.0\t0.0\t0.0\t0.0\t0.0\n",
      "\t2024-07-31 15:57:00\t0.0\t0.0\t0.0\t0.0\t0.0\t0.0\t0.0\n",
      "\t2024-07-31 15:58:00\t0.0\t0.0\t0.0\t0.0\t0.0\t0.0\t0.0\n",
      "\t2024-07-31 15:59:00\t0.0\t0.0\t0.0\t0.0\t0.0\t0.0\t0.0\n",
      "\t2024-07-31 16:00:00\t0.0\t0.0\t0.0\t0.0\t0.0\t0.0\t0.0\n",
      "\t2024-07-31 16:01:00\t0.0\t0.0\t0.0\t0.0\t0.0\t0.0\t0.0\n",
      "\t2024-07-31 16:02:00\t0.0\t0.0\t0.0\t0.0\t0.0\t0.0\t0.0\n",
      "\t2024-07-31 16:03:00\t0.0\t0.0\t0.0\t0.0\t0.0\t0.0\t0.0\n",
      "\t2024-07-31 16:04:00\t0.0\t0.0\t0.0\t0.0\t0.0\t0.0\t0.0\n",
      "\t2024-07-31 16:05:00\t0.0\t0.0\t0.0\t0.0\t0.0\t0.0\t0.0\n",
      "\t2024-07-31 16:06:00\t0.0\t0.0\t0.0\t0.0\t0.0\t0.0\t0.0\n",
      "\t2024-07-31 16:07:00\t0.0\t0.0\t0.0\t0.0\t0.0\t0.0\t0.0\n",
      "\t2024-07-31 16:08:00\t0.0\t0.0\t0.0\t0.0\t0.0\t0.0\t0.0\n",
      "\t2024-07-31 16:09:00\t0.0\t0.0\t0.0\t0.0\t0.0\t0.0\t0.0\n",
      "\t2024-07-31 16:10:00\t0.0\t0.0\t0.0\t0.0\t0.0\t0.0\t0.0\n",
      "\t2024-07-31 16:11:00\t0.0\t0.0\t0.0\t0.0\t0.0\t0.0\t0.0\n",
      "\t2024-07-31 16:12:00\t0.0\t0.0\t0.0\t0.0\t0.0\t0.0\t0.0\n",
      "\t2024-07-31 16:13:00\t0.0\t0.0\t0.0\t0.0\t0.0\t0.0\t0.0\n",
      "\t2024-07-31 16:14:00\t0.0\t0.0\t0.0\t0.0\t0.0\t0.0\t0.0\n",
      "\t2024-07-31 16:15:00\t0.0\t0.0\t0.0\t0.0\t0.0\t0.0\t0.0\n",
      "\t2024-07-31 16:16:00\t0.0\t0.0\t0.0\t0.0\t0.0\t0.0\t0.0\n",
      "\t2024-07-31 16:17:00\t0.0\t0.0\t0.0\t0.0\t0.0\t0.0\t0.0\n",
      "\t2024-07-31 16:18:00\t0.0\t0.0\t0.0\t0.0\t0.0\t0.0\t0.0\n",
      "\t2024-07-31 16:19:00\t0.0\t0.0\t0.0\t0.0\t0.0\t0.0\t0.0\n",
      "\t2024-07-31 16:20:00\t0.0\t0.0\t0.0\t0.0\t0.0\t0.0\t0.0\n",
      "\t2024-07-31 16:21:00\t0.0\t0.0\t0.0\t0.0\t0.0\t0.0\t0.0\n",
      "\t2024-07-31 16:22:00\t0.0\t0.0\t0.0\t0.0\t0.0\t0.0\t0.0\n",
      "\t2024-07-31 16:23:00\t0.0\t0.0\t0.0\t0.0\t0.0\t0.0\t0.0\n",
      "\t2024-07-31 16:24:00\t0.0\t0.0\t0.0\t0.0\t0.0\t0.0\t0.0\n",
      "\t2024-07-31 16:25:00\t0.0\t0.0\t0.0\t0.0\t0.0\t0.0\t0.0\n",
      "\t2024-07-31 16:26:00\t0.0\t0.0\t0.0\t0.0\t0.0\t0.0\t0.0\n",
      "\t2024-07-31 16:27:00\t0.0\t0.0\t0.0\t0.0\t0.0\t0.0\t0.0\n",
      "\t2024-07-31 16:28:00\t0.0\t0.0\t0.0\t0.0\t0.0\t0.0\t0.0\n",
      "\t2024-07-31 16:29:00\t0.0\t0.0\t0.0\t0.0\t0.0\t0.0\t0.0\n",
      "\t2024-07-31 16:30:00\t0.0\t0.0\t0.0\t0.0\t0.0\t0.0\t0.0\n",
      "\t2024-07-31 16:31:00\t0.0\t0.0\t0.0\t0.0\t0.0\t0.0\t0.0\n",
      "\t2024-07-31 16:32:00\t0.0\t0.0\t0.0\t0.0\t0.0\t0.0\t0.0\n",
      "\t2024-07-31 16:33:00\t0.0\t0.0\t0.0\t0.0\t0.0\t0.0\t0.0\n",
      "\t2024-07-31 16:34:00\t0.0\t0.0\t0.0\t0.0\t0.0\t0.0\t0.0\n",
      "\t2024-07-31 16:35:00\t0.0\t0.0\t0.0\t0.0\t0.0\t0.0\t0.0\n",
      "\t2024-07-31 16:36:00\t0.0\t0.0\t0.0\t0.0\t0.0\t0.0\t0.0\n",
      "\t2024-07-31 16:37:00\t0.0\t0.0\t0.0\t0.0\t0.0\t0.0\t0.0\n",
      "\t2024-07-31 16:38:00\t0.0\t0.0\t0.0\t0.0\t0.0\t0.0\t0.0\n",
      "\t2024-07-31 16:39:00\t0.0\t0.0\t0.0\t0.0\t0.0\t0.0\t0.0\n",
      "\t2024-07-31 16:40:00\t0.0\t0.0\t0.0\t0.0\t0.0\t0.0\t0.0\n",
      "\t2024-07-31 16:41:00\t0.0\t0.0\t0.0\t0.0\t0.0\t0.0\t0.0\n",
      "\t2024-07-31 16:42:00\t0.0\t0.0\t0.0\t0.0\t0.0\t0.0\t0.0\n",
      "\t2024-07-31 16:43:00\t0.0\t0.0\t0.0\t0.0\t0.0\t0.0\t0.0\n",
      "\t2024-07-31 16:44:00\t0.0\t0.0\t0.0\t0.0\t0.0\t0.0\t0.0\n",
      "\t2024-07-31 16:45:00\t0.0\t0.0\t0.0\t0.0\t0.0\t0.0\t0.0\n",
      "\t2024-07-31 16:46:00\t0.0\t0.0\t0.0\t0.0\t0.0\t0.0\t0.0\n",
      "\t2024-07-31 16:47:00\t0.0\t0.0\t0.0\t0.0\t0.0\t0.0\t0.0\n",
      "\t2024-07-31 16:48:00\t0.0\t0.0\t0.0\t0.0\t0.0\t0.0\t0.0\n",
      "\t2024-07-31 16:49:00\t0.0\t0.0\t0.0\t0.0\t0.0\t0.0\t0.0\n",
      "\t2024-07-31 16:50:00\t0.0\t0.0\t0.0\t0.0\t0.0\t0.0\t0.0\n",
      "\t2024-07-31 16:51:00\t0.0\t0.0\t0.0\t0.0\t0.0\t0.0\t0.0\n",
      "\t2024-07-31 16:52:00\t0.0\t0.0\t0.0\t0.0\t0.0\t0.0\t0.0\n",
      "\t2024-07-31 16:53:00\t0.0\t0.0\t0.0\t0.0\t0.0\t0.0\t0.0\n",
      "\t2024-07-31 16:54:00\t0.0\t0.0\t0.0\t0.0\t0.0\t0.0\t0.0\n",
      "\t2024-07-31 16:55:00\t0.0\t0.0\t0.0\t0.0\t0.0\t0.0\t0.0\n",
      "\t2024-07-31 16:56:00\t0.0\t0.0\t0.0\t0.0\t0.0\t0.0\t0.0\n",
      "\t2024-07-31 16:57:00\t0.0\t0.0\t0.0\t0.0\t0.0\t0.0\t0.0\n",
      "\t2024-07-31 16:58:00\t0.0\t0.0\t0.0\t0.0\t0.0\t0.0\t0.0\n",
      "\t2024-07-31 16:59:00\t0.0\t0.0\t0.0\t0.0\t0.0\t0.0\t0.0\n",
      "\t2024-07-31 17:00:00\t0.0\t0.0\t0.0\t0.0\t0.0\t0.0\t0.0\n",
      "\t2024-07-31 17:01:00\t0.0\t0.0\t0.0\t0.0\t0.0\t0.0\t0.0\n",
      "\t2024-07-31 17:02:00\t0.0\t0.0\t0.0\t0.0\t0.0\t0.0\t0.0\n",
      "\t2024-07-31 17:03:00\t0.0\t0.0\t0.0\t0.0\t0.0\t0.0\t0.0\n",
      "\t2024-07-31 17:04:00\t0.0\t0.0\t0.0\t0.0\t0.0\t0.0\t0.0\n",
      "\t2024-07-31 17:05:00\t0.0\t0.0\t0.0\t0.0\t0.0\t0.0\t0.0\n",
      "\t2024-07-31 17:06:00\t0.0\t0.0\t0.0\t0.0\t0.0\t0.0\t0.0\n",
      "\t2024-07-31 17:07:00\t0.0\t0.0\t0.0\t0.0\t0.0\t0.0\t0.0\n",
      "\t2024-07-31 17:08:00\t0.0\t0.0\t0.0\t0.0\t0.0\t0.0\t0.0\n",
      "\t2024-07-31 17:09:00\t0.0\t0.0\t0.0\t0.0\t0.0\t0.0\t0.0\n",
      "\t2024-07-31 17:10:00\t0.0\t0.0\t0.0\t0.0\t0.0\t0.0\t0.0\n",
      "\t2024-07-31 17:11:00\t0.0\t0.0\t0.0\t0.0\t0.0\t0.0\t0.0\n",
      "\t2024-07-31 17:12:00\t0.0\t0.0\t0.0\t0.0\t0.0\t0.0\t0.0\n",
      "\t2024-07-31 17:13:00\t0.0\t0.0\t0.0\t0.0\t0.0\t0.0\t0.0\n",
      "\t2024-07-31 17:14:00\t0.0\t0.0\t0.0\t0.0\t0.0\t0.0\t0.0\n",
      "\t2024-07-31 17:15:00\t0.0\t0.0\t0.0\t0.0\t0.0\t0.0\t0.0\n",
      "\t2024-07-31 17:16:00\t0.0\t0.0\t0.0\t0.0\t0.0\t0.0\t0.0\n",
      "\t2024-07-31 17:17:00\t0.0\t0.0\t0.0\t0.0\t0.0\t0.0\t0.0\n",
      "\t2024-07-31 17:18:00\t0.0\t0.0\t0.0\t0.0\t0.0\t0.0\t0.0\n",
      "\t2024-07-31 17:19:00\t0.0\t0.0\t0.0\t0.0\t0.0\t0.0\t0.0\n",
      "\t2024-07-31 17:20:00\t0.0\t0.0\t0.0\t0.0\t0.0\t0.0\t0.0\n",
      "\t2024-07-31 17:21:00\t0.0\t0.0\t0.0\t0.0\t0.0\t0.0\t0.0\n",
      "\t2024-07-31 17:22:00\t0.0\t0.0\t0.0\t0.0\t0.0\t0.0\t0.0\n",
      "\t2024-07-31 17:23:00\t0.0\t0.0\t0.0\t0.0\t0.0\t0.0\t0.0\n",
      "\t2024-07-31 17:24:00\t0.0\t0.0\t0.0\t0.0\t0.0\t0.0\t0.0\n",
      "\t2024-07-31 17:25:00\t0.0\t0.0\t0.0\t0.0\t0.0\t0.0\t0.0\n",
      "\t2024-07-31 17:26:00\t0.0\t0.0\t0.0\t0.0\t0.0\t0.0\t0.0\n",
      "\t2024-07-31 17:27:00\t0.0\t0.0\t0.0\t0.0\t0.0\t0.0\t0.0\n",
      "\t2024-07-31 17:28:00\t0.0\t0.0\t0.0\t0.0\t0.0\t0.0\t0.0\n",
      "\t2024-07-31 17:29:00\t0.0\t0.0\t0.0\t0.0\t0.0\t0.0\t0.0\n",
      "\t2024-07-31 17:30:00\t0.0\t0.0\t0.0\t0.0\t0.0\t0.0\t0.0\n",
      "\t2024-07-31 17:31:00\t0.0\t0.0\t0.0\t0.0\t0.0\t0.0\t0.0\n",
      "\t2024-07-31 17:32:00\t0.0\t0.0\t0.0\t0.0\t0.0\t0.0\t0.0\n",
      "\t2024-07-31 17:33:00\t0.0\t0.0\t0.0\t0.0\t0.0\t0.0\t0.0\n",
      "\t2024-07-31 17:34:00\t0.0\t0.0\t0.0\t0.0\t0.0\t0.0\t0.0\n",
      "\t2024-07-31 17:35:00\t0.0\t0.0\t0.0\t0.0\t0.0\t0.0\t0.0\n",
      "\t2024-07-31 17:36:00\t0.0\t0.0\t0.0\t0.0\t0.0\t0.0\t0.0\n",
      "\t2024-07-31 17:37:00\t0.0\t0.0\t0.0\t0.0\t0.0\t0.0\t0.0\n",
      "\t2024-07-31 17:38:00\t0.0\t0.0\t0.0\t0.0\t0.0\t0.0\t0.0\n",
      "\t2024-07-31 17:39:00\t0.0\t0.0\t0.0\t0.0\t0.0\t0.0\t0.0\n",
      "\t2024-07-31 17:40:00\t0.0\t0.0\t0.0\t0.0\t0.0\t0.0\t0.0\n",
      "\t2024-07-31 17:41:00\t0.0\t0.0\t0.0\t0.0\t0.0\t0.0\t0.0\n",
      "\t2024-07-31 17:42:00\t0.0\t0.0\t0.0\t0.0\t0.0\t0.0\t0.0\n",
      "\t2024-07-31 17:43:00\t0.0\t0.0\t0.0\t0.0\t0.0\t0.0\t0.0\n",
      "\t2024-07-31 17:44:00\t0.0\t0.0\t0.0\t0.0\t0.0\t0.0\t0.0\n",
      "\t2024-07-31 17:45:00\t0.0\t0.0\t0.0\t0.0\t0.0\t0.0\t0.0\n",
      "\t2024-07-31 17:46:00\t0.0\t0.0\t0.0\t0.0\t0.0\t0.0\t0.0\n",
      "\t2024-07-31 17:47:00\t0.0\t0.0\t0.0\t0.0\t0.0\t0.0\t0.0\n",
      "\t2024-07-31 17:48:00\t0.0\t0.0\t0.0\t0.0\t0.0\t0.0\t0.0\n",
      "\t2024-07-31 17:49:00\t0.0\t0.0\t0.0\t0.0\t0.0\t0.0\t0.0\n",
      "\t2024-07-31 17:50:00\t0.0\t0.0\t0.0\t0.0\t0.0\t0.0\t0.0\n",
      "\t2024-07-31 17:51:00\t0.0\t0.0\t0.0\t0.0\t0.0\t0.0\t0.0\n",
      "\t2024-07-31 17:52:00\t0.0\t0.0\t0.0\t0.0\t0.0\t0.0\t0.0\n",
      "\t2024-07-31 17:53:00\t0.0\t0.0\t0.0\t0.0\t0.0\t0.0\t0.0\n",
      "\t2024-07-31 17:54:00\t0.0\t0.0\t0.0\t0.0\t0.0\t0.0\t0.0\n",
      "\t2024-07-31 17:55:00\t0.0\t0.0\t0.0\t0.0\t0.0\t0.0\t0.0\n",
      "\t2024-07-31 17:56:00\t0.0\t0.0\t0.0\t0.0\t0.0\t0.0\t0.0\n",
      "\t2024-07-31 17:57:00\t0.0\t0.0\t0.0\t0.0\t0.0\t0.0\t0.0\n",
      "\t2024-07-31 17:58:00\t0.0\t0.0\t0.0\t0.0\t0.0\t0.0\t0.0\n",
      "\t2024-07-31 17:59:00\t0.0\t0.0\t0.0\t0.0\t0.0\t0.0\t0.0\n",
      "\t2024-07-31 18:00:00\t0.0\t0.0\t0.0\t0.0\t0.0\t0.0\t0.0\n",
      "\t2024-07-31 18:01:00\t0.0\t0.0\t0.0\t0.0\t0.0\t0.0\t0.0\n",
      "\t2024-07-31 18:02:00\t0.0\t0.0\t0.0\t0.0\t0.0\t0.0\t0.0\n",
      "\t2024-07-31 18:03:00\t0.0\t0.0\t0.0\t0.0\t0.0\t0.0\t0.0\n",
      "\t2024-07-31 18:04:00\t0.0\t0.0\t0.0\t0.0\t0.0\t0.0\t0.0\n",
      "\t2024-07-31 18:05:00\t0.0\t0.0\t0.0\t0.0\t0.0\t0.0\t0.0\n",
      "\t2024-07-31 18:06:00\t0.0\t0.0\t0.0\t0.0\t0.0\t0.0\t0.0\n",
      "\t2024-07-31 18:07:00\t0.0\t0.0\t0.0\t0.0\t0.0\t0.0\t0.0\n",
      "\t2024-07-31 18:08:00\t0.00392156862745098\t0.0\t0.0\t0.0\t0.0\t0.0\t0.0\n",
      "\t2024-07-31 18:09:00\t0.00784313725490196\t0.0\t0.0\t0.0\t0.0\t0.0\t0.0\n",
      "\t2024-07-31 18:10:00\t0.00784313725490196\t0.0\t0.0\t0.0\t0.0\t0.0\t0.0\n",
      "\t2024-07-31 18:11:00\t0.00784313725490196\t0.0\t0.0\t0.0\t0.0\t0.0\t0.0\n",
      "\t2024-07-31 18:12:00\t0.00784313725490196\t0.0\t0.0\t0.0\t0.0\t0.0\t0.0\n",
      "\t2024-07-31 18:13:00\t0.00784313725490196\t0.0\t0.0\t0.0\t0.0\t0.0\t0.0\n",
      "\t2024-07-31 18:14:00\t0.028368794326241134\t0.0\t0.0\t0.0\t0.0\t0.0\t0.0\n",
      "\t2024-07-31 18:15:00\t0.021428571428571425\t0.0\t0.0\t0.0\t0.0\t0.0\t0.0\n",
      "\t2024-07-31 18:16:00\t0.020689655172413793\t0.0\t0.0\t0.0\t0.0\t0.0\t0.0\n",
      "\t2024-07-31 18:17:00\t0.013513513513513513\t0.0\t0.0\t0.0\t0.0\t0.0\t0.0\n",
      "\t2024-07-31 18:18:00\t0.00784313725490196\t0.0\t0.0\t0.0\t0.0\t0.0\t0.0\n",
      "\t2024-07-31 18:19:00\t0.020134228187919462\t0.0\t0.0\t0.0\t0.0\t0.0\t0.0\n",
      "\t2024-07-31 18:20:00\t0.013333333333333332\t0.0\t0.0\t0.0\t0.0\t0.0\t0.0\n",
      "\t2024-07-31 18:21:00\t0.00784313725490196\t0.0\t0.0\t0.0\t0.0\t0.0\t0.0\n",
      "\t2024-07-31 18:22:00\t0.00784313725490196\t0.0\t0.0\t0.0\t0.0\t0.0\t0.0\n",
      "\t2024-07-31 18:23:00\t0.00784313725490196\t0.0\t0.0\t0.0\t0.0\t0.0\t0.0\n",
      "\t2024-07-31 18:24:00\t0.06944444444444445\t0.0\t0.0\t0.0\t0.0\t0.0\t0.0\n",
      "\t2024-07-31 18:25:00\t0.0\t0.0\t0.0\t0.0\t0.0\t0.0\t0.0\n",
      "\t2024-07-31 18:26:00\t0.0\t0.0\t0.0\t0.0\t0.0\t0.0\t0.0\n",
      "\t2024-07-31 18:27:00\t0.0\t0.0\t0.0\t0.0\t0.0\t0.0\t0.0\n",
      "\t2024-07-31 18:28:00\t0.0\t0.0\t0.0\t0.0\t0.0\t0.0\t0.0\n",
      "\t2024-07-31 18:29:00\t0.0\t0.0\t0.0\t0.0\t0.0\t0.0\t0.0\n",
      "\t2024-07-31 18:30:00\t0.0\t0.0\t0.0\t0.0\t0.0\t0.0\t0.0\n",
      "\t2024-07-31 18:31:00\t0.0\t0.0\t0.0\t0.0\t0.0\t0.0\t0.0\n",
      "\t2024-07-31 18:32:00\t0.0\t0.0\t0.0\t0.0\t0.0\t0.0\t0.0\n",
      "\t2024-07-31 18:33:00\t0.0\t0.0\t0.0\t0.0\t0.0\t0.0\t0.0\n",
      "\t2024-07-31 18:34:00\t0.0\t0.0\t0.0\t0.0\t0.0\t0.0\t0.0\n",
      "\t2024-07-31 18:35:00\t0.0\t0.0\t0.0\t0.0\t0.0\t0.0\t0.0\n",
      "\t2024-07-31 18:36:00\t0.0\t0.0\t0.0\t0.0\t0.0\t0.0\t0.0\n",
      "\t2024-07-31 18:37:00\t0.0\t0.0\t0.0\t0.0\t0.0\t0.0\t0.0\n",
      "\t2024-07-31 18:38:00\t0.0\t0.0\t0.0\t0.0\t0.0\t0.0\t0.0\n",
      "\t2024-07-31 18:39:00\t0.0\t0.0\t0.0\t0.0\t0.0\t0.0\t0.0\n",
      "\t2024-07-31 18:40:00\t0.0\t0.0\t0.0\t0.0\t0.0\t0.0\t0.0\n",
      "\t2024-07-31 18:41:00\t0.0\t0.0\t0.0\t0.0\t0.0\t0.0\t0.0\n",
      "\t2024-07-31 18:42:00\t0.0\t0.0\t0.0\t0.0\t0.0\t0.0\t0.0\n",
      "\t2024-07-31 18:43:00\t0.0\t0.0\t0.0\t0.0\t0.0\t0.0\t0.0\n",
      "\t2024-07-31 18:44:00\t0.0\t0.0\t0.0\t0.0\t0.0\t0.0\t0.0\n",
      "\t2024-07-31 18:45:00\t0.0\t0.0\t0.0\t0.0\t0.0\t0.0\t0.0\n",
      "\t2024-07-31 18:46:00\t0.0\t0.0\t0.0\t0.0\t0.0\t0.0\t0.0\n",
      "\t2024-07-31 18:47:00\t0.0\t0.0\t0.0\t0.0\t0.0\t0.0\t0.0\n",
      "\t2024-07-31 18:48:00\t0.0\t0.0\t0.0\t0.0\t0.0\t0.0\t0.0\n",
      "\t2024-07-31 18:49:00\t0.0\t0.0\t0.0\t0.0\t0.0\t0.0\t0.0\n",
      "\t2024-07-31 18:50:00\t0.0\t0.0\t0.0\t0.0\t0.0\t0.0\t0.0\n",
      "\t2024-07-31 18:51:00\t0.0\t0.0\t0.0\t0.0\t0.0\t0.0\t0.0\n",
      "\t2024-07-31 18:52:00\t0.0\t0.0\t0.0\t0.0\t0.0\t0.0\t0.0\n",
      "\t2024-07-31 18:53:00\t0.0\t0.0\t0.0\t0.0\t0.0\t0.0\t0.0\n",
      "\t2024-07-31 18:54:00\t0.0\t0.0\t0.0\t0.0\t0.0\t0.0\t0.0\n",
      "\t2024-07-31 18:55:00\t0.0\t0.0\t0.0\t0.0\t0.0\t0.0\t0.0\n",
      "\t2024-07-31 18:56:00\t0.0\t0.0\t0.0\t0.0\t0.0\t0.0\t0.0\n",
      "\t2024-07-31 18:57:00\t0.0\t0.0\t0.0\t0.0\t0.0\t0.0\t0.0\n",
      "\t2024-07-31 18:58:00\t0.0\t0.0\t0.0\t0.0\t0.0\t0.0\t0.0\n",
      "\t2024-07-31 18:59:00\t0.0\t0.0\t0.0\t0.0\t0.0\t0.0\t0.0\n",
      "\t2024-07-31 19:00:00\t0.0\t0.0\t0.0\t0.0\t0.0\t0.0\t0.0\n",
      "\t2024-07-31 19:01:00\t0.0\t0.0\t0.0\t0.0\t0.0\t0.0\t0.0\n",
      "\t2024-07-31 19:02:00\t0.0\t0.0\t0.0\t0.0\t0.0\t0.0\t0.0\n",
      "\t2024-07-31 19:03:00\t0.0\t0.0\t0.0\t0.0\t0.0\t0.0\t0.0\n",
      "\t2024-07-31 19:04:00\t0.0\t0.0\t0.0\t0.0\t0.0\t0.0\t0.0\n",
      "\t2024-07-31 19:05:00\t0.0\t0.0\t0.0\t0.0\t0.0\t0.0\t0.0\n",
      "\t2024-07-31 19:06:00\t0.0\t0.0\t0.0\t0.0\t0.0\t0.0\t0.0\n",
      "\t2024-07-31 19:07:00\t0.0\t0.0\t0.0\t0.0\t0.0\t0.0\t0.0\n",
      "\t2024-07-31 19:08:00\t0.0\t0.0\t0.0\t0.0\t0.0\t0.0\t0.0\n",
      "\t2024-07-31 19:09:00\t0.0\t0.0\t0.0\t0.0\t0.0\t0.0\t0.0\n",
      "\t2024-07-31 19:10:00\t0.0\t0.0\t0.0\t0.0\t0.0\t0.0\t0.0\n",
      "\t2024-07-31 19:11:00\t0.013698630136986302\t0.0\t0.0\t0.0\t0.0\t0.0\t0.0\n",
      "\t2024-07-31 19:12:00\t0.09876543209876544\t0.0\t0.0\t0.0\t0.0\t0.0\t0.0\n",
      "\t2024-07-31 19:13:00\t0.049019607843137254\t0.0\t0.0\t0.0\t0.0\t0.0\t0.0\n",
      "\t2024-07-31 19:14:00\t0.0\t0.0\t0.0\t0.0\t0.0\t0.0\t0.0\n",
      "\t2024-07-31 19:15:00\t0.020689655172413793\t0.0\t0.0\t0.0\t0.0\t0.0\t0.0\n",
      "\t2024-07-31 19:16:00\t0.0\t0.0\t0.0\t0.0\t0.0\t0.0\t0.0\n",
      "\t2024-07-31 19:17:00\t0.0\t0.0\t0.0\t0.0\t0.0\t0.0\t0.0\n",
      "\t2024-07-31 19:18:00\t0.0\t0.0\t0.0\t0.0\t0.0\t0.0\t0.0\n",
      "\t2024-07-31 19:19:00\t0.0\t0.0\t0.0\t0.0\t0.0\t0.0\t0.0\n",
      "\t2024-07-31 19:20:00\t0.0\t0.0\t0.0\t0.0\t0.0\t0.0\t0.0\n",
      "\t2024-07-31 19:21:00\t0.0\t0.0\t0.0\t0.0\t0.0\t0.0\t0.0\n",
      "\t2024-07-31 19:22:00\t0.0\t0.0\t0.0\t0.0\t0.0\t0.0\t0.0\n",
      "\t2024-07-31 19:23:00\t0.0\t0.0\t0.0\t0.0\t0.0\t0.0\t0.0\n",
      "\t2024-07-31 19:24:00\t0.0\t0.0\t0.0\t0.0\t0.0\t0.0\t0.0\n",
      "\t2024-07-31 19:25:00\t0.0\t0.0\t0.0\t0.0\t0.0\t0.0\t0.0\n",
      "\t2024-07-31 19:26:00\t0.0\t0.0\t0.0\t0.0\t0.0\t0.0\t0.0\n",
      "\t2024-07-31 19:27:00\t0.125\t0.0\t0.0\t0.0\t0.0\t0.0\t0.0\n",
      "\t2024-07-31 19:28:00\t0.05263157894736842\t0.0\t0.0\t0.0\t0.0\t0.0\t0.0\n",
      "\t2024-07-31 19:29:00\t0.0\t0.0\t0.0\t0.0\t0.0\t0.0\t0.0\n",
      "\t2024-07-31 19:30:00\t0.0\t0.0\t0.0\t0.0\t0.0\t0.0\t0.0\n",
      "\t2024-07-31 19:31:00\t0.0\t0.0\t0.0\t0.0\t0.0\t0.0\t0.0\n",
      "\t2024-07-31 19:32:00\t0.0\t0.0\t0.0\t0.0\t0.0\t0.0\t0.0\n",
      "\t2024-07-31 19:33:00\t0.0608695652173913\t0.0\t0.0\t0.0\t0.0\t0.0\t0.0\n",
      "\t2024-07-31 19:34:00\t0.0\t0.0\t0.0\t0.0\t0.0\t0.0\t0.0\n",
      "\t2024-07-31 19:35:00\t0.0\t0.0\t0.0\t0.0\t0.0\t0.0\t0.0\n",
      "\t2024-07-31 19:36:00\t0.0\t0.0\t0.0\t0.0\t0.0\t0.0\t0.0\n",
      "\t2024-07-31 19:37:00\t0.0\t0.0\t0.0\t0.0\t0.0\t0.0\t0.0\n",
      "\t2024-07-31 19:38:00\t0.0\t0.0\t0.0\t0.0\t0.0\t0.0\t0.0\n",
      "\t2024-07-31 19:39:00\t0.0\t0.0\t0.0\t0.0\t0.0\t0.0\t0.0\n",
      "\t2024-07-31 19:40:00\t0.0\t0.0\t0.0\t0.0\t0.0\t0.0\t0.0\n",
      "\t2024-07-31 19:41:00\t0.0\t0.0\t0.0\t0.0\t0.0\t0.0\t0.0\n",
      "\t2024-07-31 19:42:00\t0.0\t0.0\t0.0\t0.0\t0.0\t0.0\t0.0\n",
      "\t2024-07-31 19:43:00\t0.0\t0.0\t0.0\t0.0\t0.0\t0.0\t0.0\n",
      "\t2024-07-31 19:44:00\t0.0\t0.0\t0.0\t0.0\t0.0\t0.0\t0.0\n",
      "\t2024-07-31 19:45:00\t0.0\t0.0\t0.0\t0.0\t0.0\t0.0\t0.0\n",
      "\t2024-07-31 19:46:00\t0.0\t0.0\t0.0\t0.0\t0.0\t0.0\t0.0\n",
      "\t2024-07-31 19:47:00\t0.0\t0.0\t0.0\t0.0\t0.0\t0.0\t0.0\n",
      "\t2024-07-31 19:48:00\t0.0\t0.0\t0.0\t0.0\t0.0\t0.027675070028011204\t0.0\n",
      "\t2024-07-31 19:49:00\t0.0\t0.0\t0.0\t0.0\t0.0\t0.05535014005602241\t0.0\n",
      "\t2024-07-31 19:50:00\t0.0\t0.0\t0.0\t0.0\t0.0\t0.08302521008403362\t0.0\n",
      "\t2024-07-31 19:51:00\t0.0\t0.0\t0.0\t0.0\t0.0\t0.11070028011204482\t0.0\n",
      "\t2024-07-31 19:52:00\t0.0\t0.0\t0.0\t0.0\t0.0\t0.13837535014005603\t0.0\n",
      "\t2024-07-31 19:53:00\t0.0\t0.0\t0.0\t0.0\t0.0\t0.13837535014005603\t0.0\n",
      "\t2024-07-31 19:54:00\t0.0\t0.0\t0.0\t0.0\t0.0\t0.13837535014005603\t0.0\n",
      "\t2024-07-31 19:55:00\t0.0\t0.0\t0.0\t0.0\t0.0\t0.13837535014005603\t0.0\n",
      "\t2024-07-31 19:56:00\t0.9686274509803922\t0.9686274509803922\t0.9686274509803922\t0.13837535014005603\t0.13837535014005603\t0.13837535014005603\t0.13837535014005603\n",
      "\t2024-07-31 19:57:00\t0.0\t0.0\t0.0\t0.0\t0.13837535014005603\t0.0\t0.0\n",
      "\t2024-07-31 19:58:00\t0.0\t0.0\t0.0\t0.0\t0.13837535014005603\t0.0\t0.0\n",
      "\t2024-07-31 19:59:00\t0.00392156862745098\t0.0\t0.0\t0.0\t0.13837535014005603\t0.0\t0.0\n",
      "\t2024-07-31 20:00:00\t0.00784313725490196\t0.0\t0.0\t0.0\t0.13837535014005603\t0.0\t0.0\n",
      "\t2024-07-31 20:01:00\t0.39999999999999997\t0.0\t0.0\t0.0\t0.11070028011204482\t0.0\t0.0\n",
      "\t2024-07-31 20:02:00\t0.10204081632653061\t0.0\t0.0\t0.0\t0.08302521008403362\t0.0\t0.0\n",
      "\t2024-07-31 20:03:00\t0.06701030927835051\t0.0\t0.0\t0.0\t0.05535014005602241\t0.0\t0.0\n",
      "\t2024-07-31 20:04:00\t0.07058823529411765\t0.0\t0.0\t0.0\t0.027675070028011204\t0.0\t0.0\n",
      "\t2024-07-31 20:05:00\t0.06666666666666667\t0.0\t0.0\t0.0\t0.0\t0.0\t0.0\n",
      "\t2024-07-31 20:06:00\t0.06796116504854369\t0.0\t0.0\t0.0\t0.0\t0.0\t0.0\n",
      "\t2024-07-31 20:07:00\t0.06735751295336788\t0.0\t0.0\t0.0\t0.0\t0.0\t0.0\n",
      "\t2024-07-31 20:08:00\t0.06796116504854369\t0.0\t0.0\t0.0\t0.0\t0.0\t0.0\n",
      "\t2024-07-31 20:09:00\t0.06598984771573603\t0.0\t0.0\t0.0\t0.0\t0.0\t0.0\n",
      "\t2024-07-31 20:10:00\t0.06896551724137931\t0.0\t0.0\t0.0\t0.0\t0.0\t0.0\n",
      "\t2024-07-31 20:11:00\t0.1\t0.0\t0.0\t0.0\t0.0\t0.0\t0.0\n",
      "\t2024-07-31 20:12:00\t0.07058823529411765\t0.0\t0.0\t0.0\t0.0\t0.0\t0.0\n",
      "\t2024-07-31 20:13:00\t0.07303370786516854\t0.0\t0.0\t0.0\t0.0\t0.0\t0.0\n",
      "\t2024-07-31 20:14:00\t0.1746031746031746\t0.0\t0.0\t0.0\t0.0\t0.0\t0.0\n",
      "\t2024-07-31 20:15:00\t0.16470588235294117\t0.0\t0.0\t0.0\t0.0\t0.0\t0.0\n",
      "\t2024-07-31 20:16:00\t0.12666666666666665\t0.0\t0.0\t0.0\t0.0\t0.0\t0.0\n",
      "\t2024-07-31 20:17:00\t0.14901960784313725\t0.0\t0.0\t0.0\t0.0\t0.0\t0.0\n",
      "\t2024-07-31 20:18:00\t0.18644067796610167\t0.0\t0.0\t0.0\t0.0\t0.0\t0.0\n",
      "\t2024-07-31 20:19:00\t0.1342281879194631\t0.0\t0.0\t0.0\t0.0\t0.0\t0.0\n",
      "\t2024-07-31 20:20:00\t0.14383561643835618\t0.0\t0.0\t0.0\t0.0\t0.0\t0.0\n",
      "\t2024-07-31 20:21:00\t0.16793893129770993\t0.0\t0.0\t0.0\t0.0\t0.0\t0.0\n",
      "\t2024-07-31 20:22:00\t0.17886178861788618\t0.0\t0.0\t0.0\t0.0\t0.0\t0.0\n",
      "\t2024-07-31 20:23:00\t0.17647058823529413\t0.0\t0.0\t0.0\t0.0\t0.0\t0.0\n",
      "\t2024-07-31 20:24:00\t0.11643835616438357\t0.0\t0.0\t0.0\t0.0\t0.0\t0.0\n",
      "\t2024-07-31 20:25:00\t0.16176470588235295\t0.0\t0.0\t0.0\t0.0\t0.0\t0.0\n",
      "\t2024-07-31 20:26:00\t0.11920529801324503\t0.0\t0.0\t0.0\t0.0\t0.0\t0.0\n",
      "\t2024-07-31 20:27:00\t0.15328467153284672\t0.0\t0.0\t0.0\t0.0\t0.0\t0.0\n",
      "\t2024-07-31 20:28:00\t0.18487394957983191\t0.0\t0.0\t0.0\t0.0\t0.0\t0.0\n",
      "\t2024-07-31 20:29:00\t0.09937888198757765\t0.0\t0.0\t0.0\t0.0\t0.0\t0.0\n",
      "\t2024-07-31 20:30:00\t0.11392405063291139\t0.0\t0.0\t0.0\t0.0\t0.0\t0.0\n",
      "\t2024-07-31 20:31:00\t0.16470588235294117\t0.0\t0.0\t0.0\t0.0\t0.0\t0.0\n",
      "\t2024-07-31 20:32:00\t0.09937888198757765\t0.0\t0.0\t0.0\t0.0\t0.0\t0.0\n",
      "\t2024-07-31 20:33:00\t0.1342281879194631\t0.0\t0.0\t0.0\t0.0\t0.0\t0.0\n",
      "\t2024-07-31 20:34:00\t0.1388888888888889\t0.0\t0.0\t0.0\t0.0\t0.0\t0.0\n",
      "\t2024-07-31 20:35:00\t0.15789473684210525\t0.0\t0.0\t0.0\t0.0\t0.0\t0.0\n",
      "\t2024-07-31 20:36:00\t0.14285714285714288\t0.0\t0.0\t0.0\t0.0\t0.0\t0.0\n",
      "\t2024-07-31 20:37:00\t0.15555555555555556\t0.0\t0.0\t0.0\t0.0\t0.0\t0.0\n",
      "\t2024-07-31 20:38:00\t0.1388888888888889\t0.0\t0.0\t0.0\t0.0\t0.0\t0.0\n",
      "\t2024-07-31 20:39:00\t0.18803418803418803\t0.0\t0.0\t0.0\t0.0\t0.0\t0.0\n",
      "\t2024-07-31 20:40:00\t0.16862745098039217\t0.0\t0.0\t0.0\t0.0\t0.0\t0.0\n",
      "\t2024-07-31 20:41:00\t0.12162162162162161\t0.0\t0.0\t0.0\t0.0\t0.0\t0.0\n",
      "\t2024-07-31 20:42:00\t0.11801242236024845\t0.0\t0.0\t0.0\t0.0\t0.0\t0.0\n",
      "\t2024-07-31 20:43:00\t0.07142857142857142\t0.0\t0.0\t0.0\t0.0\t0.0\t0.0\n",
      "\t2024-07-31 20:44:00\t0.07058823529411765\t0.0\t0.0\t0.0\t0.0\t0.0\t0.0\n",
      "\t2024-07-31 20:45:00\t0.13999999999999999\t0.0\t0.0\t0.0\t0.0\t0.0\t0.0\n",
      "\t2024-07-31 20:46:00\t0.07450980392156863\t0.0\t0.0\t0.0\t0.0\t0.0\t0.0\n",
      "\t2024-07-31 20:47:00\t0.09316770186335403\t0.0\t0.0\t0.0\t0.0\t0.0\t0.0\n",
      "\t2024-07-31 20:48:00\t0.13071895424836602\t0.0\t0.0\t0.0\t0.0\t0.0\t0.0\n",
      "\t2024-07-31 20:49:00\t0.1282051282051282\t0.0\t0.0\t0.0\t0.0\t0.0\t0.0\n",
      "\t2024-07-31 20:50:00\t0.13999999999999999\t0.0\t0.0\t0.0\t0.0\t0.0\t0.0\n",
      "\t2024-07-31 20:51:00\t0.1568627450980392\t0.0\t0.0\t0.0\t0.0\t0.0\t0.0\n",
      "\t2024-07-31 20:52:00\t0.1746031746031746\t0.0\t0.0\t0.0\t0.0\t0.0\t0.0\n",
      "\t2024-07-31 20:53:00\t0.14583333333333334\t0.0\t0.0\t0.0\t0.0\t0.0\t0.0\n",
      "\t2024-07-31 20:54:00\t0.20392156862745098\t0.0\t0.0\t0.0\t0.0\t0.0\t0.0\n",
      "\t2024-07-31 20:55:00\t0.14685314685314685\t0.0\t0.0\t0.0\t0.0\t0.0\t0.0\n",
      "\t2024-07-31 20:56:00\t0.15294117647058825\t0.0\t0.0\t0.0\t0.0\t0.0\t0.0\n",
      "\t2024-07-31 20:57:00\t0.07738095238095238\t0.0\t0.0\t0.0\t0.0\t0.0\t0.0\n",
      "\t2024-07-31 20:58:00\t0.16862745098039217\t0.0\t0.0\t0.0\t0.0\t0.0\t0.0\n",
      "\t2024-07-31 20:59:00\t0.16058394160583941\t0.0\t0.0\t0.0\t0.0\t0.0\t0.0\n",
      "\t2024-07-31 21:00:00\t0.14482758620689656\t0.0\t0.0\t0.0\t0.0\t0.0\t0.0\n",
      "\t2024-07-31 21:01:00\t0.16153846153846155\t0.0\t0.0\t0.0\t0.0\t0.0\t0.0\n",
      "\t2024-07-31 21:02:00\t0.16862745098039217\t0.0\t0.0\t0.0\t0.0\t0.0\t0.0\n",
      "\t2024-07-31 21:03:00\t0.16862745098039217\t0.0\t0.0\t0.0\t0.0\t0.0\t0.0\n",
      "\t2024-07-31 21:04:00\t0.17254901960784313\t0.0\t0.0\t0.0\t0.0\t0.0\t0.0\n",
      "\t2024-07-31 21:05:00\t0.15294117647058825\t0.0\t0.0\t0.0\t0.0\t0.0\t0.0\n",
      "\t2024-07-31 21:06:00\t0.18803418803418803\t0.0\t0.0\t0.0\t0.0\t0.02302357836338419\t0.0\n",
      "\t2024-07-31 21:07:00\t0.1292517006802721\t0.0\t0.0\t0.0\t0.0\t0.06601273331885099\t0.0\n",
      "\t2024-07-31 21:08:00\t0.16862745098039217\t0.0\t0.0\t0.0\t0.0\t0.10900188827431778\t0.0\n",
      "\t2024-07-31 21:09:00\t0.10897435897435896\t0.0\t0.0\t0.0\t0.0\t0.1519910432297846\t0.0\n",
      "\t2024-07-31 21:10:00\t0.10828025477707005\t0.0\t0.0\t0.0\t0.0\t0.19498019818525142\t0.0\n",
      "\t2024-07-31 21:11:00\t0.13245033112582782\t0.0\t0.0\t0.0\t0.0\t0.214945774777334\t0.0\n",
      "\t2024-07-31 21:12:00\t0.09580838323353293\t0.0\t0.0\t0.0\t0.0\t0.214945774777334\t0.0\n",
      "\t2024-07-31 21:13:00\t0.2708333333333333\t0.0\t0.0\t0.0\t0.0\t0.214945774777334\t0.0\n",
      "\t2024-07-31 21:14:00\t0.8058252427184466\t0.8058252427184466\t0.8058252427184466\t0.11511789181692093\t0.11511789181692093\t0.214945774777334\t0.11511789181692093\n",
      "\t2024-07-31 21:15:00\t0.6987951807228915\t0.6987951807228915\t0.6987951807228915\t0.09982788296041308\t0.214945774777334\t0.09982788296041308\t0.09982788296041308\n",
      "\t2024-07-31 21:16:00\t0.3153153153153153\t0.0\t0.0\t0.0\t0.214945774777334\t0.0\t0.0\n",
      "\t2024-07-31 21:17:00\t0.06666666666666667\t0.0\t0.0\t0.0\t0.214945774777334\t0.0\t0.0\n",
      "\t2024-07-31 21:18:00\t0.07058823529411765\t0.0\t0.0\t0.0\t0.214945774777334\t0.0\t0.0\n",
      "\t2024-07-31 21:19:00\t0.06542056074766354\t0.0\t0.0\t0.0\t0.19192219641394984\t0.0\t0.0\n",
      "\t2024-07-31 21:20:00\t0.07142857142857142\t0.0\t0.0\t0.0\t0.14893304145848302\t0.0\t0.0\n",
      "\t2024-07-31 21:21:00\t0.26153846153846155\t0.0\t0.0\t0.0\t0.10594388650301623\t0.0\t0.0\n",
      "\t2024-07-31 21:22:00\t0.01234567901234568\t0.0\t0.0\t0.0\t0.06295473154754941\t0.0\t0.0\n",
      "\t2024-07-31 21:23:00\t0.00392156862745098\t0.0\t0.0\t0.0\t0.019965576592082614\t0.0\t0.0\n",
      "\t2024-07-31 21:24:00\t0.00392156862745098\t0.0\t0.0\t0.0\t0.0\t0.0\t0.0\n",
      "\t2024-07-31 21:25:00\t0.00392156862745098\t0.0\t0.0\t0.0\t0.0\t0.0\t0.0\n",
      "\t2024-07-31 21:26:00\t0.00392156862745098\t0.0\t0.0\t0.0\t0.0\t0.0\t0.0\n",
      "\t2024-07-31 21:27:00\t0.00392156862745098\t0.0\t0.0\t0.0\t0.0\t0.0\t0.0\n",
      "\t2024-07-31 21:28:00\t0.00392156862745098\t0.0\t0.0\t0.0\t0.0\t0.0\t0.0\n",
      "\t2024-07-31 21:29:00\t0.00784313725490196\t0.0\t0.0\t0.0\t0.0\t0.0\t0.0\n",
      "\t2024-07-31 21:30:00\t0.0\t0.0\t0.0\t0.0\t0.0\t0.0\t0.0\n",
      "\t2024-07-31 21:31:00\t0.00392156862745098\t0.0\t0.0\t0.0\t0.0\t0.0\t0.0\n",
      "\t2024-07-31 21:32:00\t0.032786885245901634\t0.0\t0.0\t0.0\t0.0\t0.0\t0.0\n",
      "\t2024-07-31 21:33:00\t0.13924050632911392\t0.0\t0.0\t0.0\t0.0\t0.0\t0.0\n",
      "\t2024-07-31 21:34:00\t0.06274509803921569\t0.0\t0.0\t0.0\t0.0\t0.0\t0.0\n",
      "\t2024-07-31 21:35:00\t0.058823529411764705\t0.0\t0.0\t0.0\t0.0\t0.0\t0.0\n",
      "\t2024-07-31 21:36:00\t0.06274509803921569\t0.0\t0.0\t0.0\t0.0\t0.0\t0.0\n",
      "\t2024-07-31 21:37:00\t0.0606060606060606\t0.0\t0.0\t0.0\t0.0\t0.0\t0.0\n",
      "\t2024-07-31 21:38:00\t0.06274509803921569\t0.0\t0.0\t0.0\t0.0\t0.0\t0.0\n",
      "\t2024-07-31 21:39:00\t0.06018518518518518\t0.0\t0.0\t0.0\t0.0\t0.0\t0.0\n",
      "\t2024-07-31 21:40:00\t0.06274509803921569\t0.0\t0.0\t0.0\t0.0\t0.0\t0.0\n",
      "\t2024-07-31 21:41:00\t0.058823529411764705\t0.0\t0.0\t0.0\t0.0\t0.0\t0.0\n",
      "\t2024-07-31 21:42:00\t0.06274509803921569\t0.0\t0.0\t0.0\t0.0\t0.0\t0.0\n",
      "\t2024-07-31 21:43:00\t0.06467661691542288\t0.0\t0.0\t0.0\t0.0\t0.0\t0.0\n",
      "\t2024-07-31 21:44:00\t0.06274509803921569\t0.0\t0.0\t0.0\t0.0\t0.0\t0.0\n",
      "\t2024-07-31 21:45:00\t0.06274509803921569\t0.0\t0.0\t0.0\t0.0\t0.0\t0.0\n",
      "\t2024-07-31 21:46:00\t0.06274509803921569\t0.0\t0.0\t0.0\t0.0\t0.0\t0.0\n",
      "\t2024-07-31 21:47:00\t0.10493827160493828\t0.0\t0.0\t0.0\t0.0\t0.0\t0.0\n",
      "\t2024-07-31 21:48:00\t0.11949685534591195\t0.0\t0.0\t0.0\t0.0\t0.0\t0.0\n",
      "\t2024-07-31 21:49:00\t0.08433734939759036\t0.0\t0.0\t0.0\t0.0\t0.0\t0.0\n",
      "\t2024-07-31 21:50:00\t0.07692307692307693\t0.0\t0.0\t0.0\t0.0\t0.0\t0.0\n",
      "\t2024-07-31 21:51:00\t0.07647058823529412\t0.0\t0.0\t0.0\t0.0\t0.0\t0.0\n",
      "\t2024-07-31 21:52:00\t0.12179487179487178\t0.0\t0.0\t0.0\t0.0\t0.0\t0.0\n",
      "\t2024-07-31 21:53:00\t0.10493827160493828\t0.0\t0.0\t0.0\t0.0\t0.0\t0.0\n",
      "\t2024-07-31 21:54:00\t0.07647058823529412\t0.0\t0.0\t0.0\t0.0\t0.0\t0.0\n",
      "\t2024-07-31 21:55:00\t0.06274509803921569\t0.0\t0.0\t0.0\t0.0\t0.0\t0.0\n",
      "\t2024-07-31 21:56:00\t0.06274509803921569\t0.0\t0.0\t0.0\t0.0\t0.0\t0.0\n",
      "\t2024-07-31 21:57:00\t0.06521739130434782\t0.0\t0.0\t0.0\t0.0\t0.0\t0.0\n",
      "\t2024-07-31 21:58:00\t0.06486486486486487\t0.0\t0.0\t0.0\t0.0\t0.0\t0.0\n",
      "\t2024-07-31 21:59:00\t0.10365853658536585\t0.0\t0.0\t0.0\t0.0\t0.0\t0.0\n",
      "\t2024-07-31 22:00:00\t0.16666666666666669\t0.0\t0.0\t0.0\t0.0\t0.0\t0.0\n",
      "\t2024-07-31 22:01:00\t0.06274509803921569\t0.0\t0.0\t0.0\t0.0\t0.0\t0.0\n",
      "\t2024-07-31 22:02:00\t0.06870229007633588\t0.0\t0.0\t0.0\t0.0\t0.0\t0.0\n",
      "\t2024-07-31 22:03:00\t0.06417112299465241\t0.0\t0.0\t0.0\t0.0\t0.0\t0.0\n",
      "\t2024-07-31 22:04:00\t0.14901960784313725\t0.0\t0.0\t0.0\t0.0\t0.0\t0.0\n",
      "\t2024-07-31 22:05:00\t0.11920529801324503\t0.0\t0.0\t0.0\t0.0\t0.0\t0.0\n",
      "\t2024-07-31 22:06:00\t0.13013698630136986\t0.0\t0.0\t0.0\t0.0\t0.0\t0.0\n",
      "\t2024-07-31 22:07:00\t0.1\t0.0\t0.0\t0.0\t0.0\t0.0\t0.0\n",
      "\t2024-07-31 22:08:00\t0.16470588235294117\t0.0\t0.0\t0.0\t0.0\t0.0\t0.0\n",
      "\t2024-07-31 22:09:00\t0.08928571428571429\t0.0\t0.0\t0.0\t0.0\t0.0\t0.0\n",
      "\t2024-07-31 22:10:00\t0.06274509803921569\t0.0\t0.0\t0.0\t0.0\t0.0\t0.0\n",
      "\t2024-07-31 22:11:00\t0.0759493670886076\t0.0\t0.0\t0.0\t0.0\t0.0\t0.0\n",
      "\t2024-07-31 22:12:00\t0.09615384615384615\t0.0\t0.0\t0.0\t0.0\t0.0\t0.0\n",
      "\t2024-07-31 22:13:00\t0.0925925925925926\t0.0\t0.0\t0.0\t0.0\t0.0\t0.0\n",
      "\t2024-07-31 22:14:00\t0.06818181818181818\t0.0\t0.0\t0.0\t0.0\t0.0\t0.0\n",
      "\t2024-07-31 22:15:00\t0.11464968152866241\t0.0\t0.0\t0.0\t0.0\t0.0\t0.0\n",
      "\t2024-07-31 22:16:00\t0.11875\t0.0\t0.0\t0.0\t0.0\t0.0\t0.0\n",
      "\t2024-07-31 22:17:00\t0.07222222222222222\t0.0\t0.0\t0.0\t0.0\t0.0\t0.0\n",
      "\t2024-07-31 22:18:00\t0.06274509803921569\t0.0\t0.0\t0.0\t0.0\t0.0\t0.0\n",
      "\t2024-07-31 22:19:00\t0.058823529411764705\t0.0\t0.0\t0.0\t0.0\t0.0\t0.0\n",
      "\t2024-07-31 22:20:00\t0.07386363636363637\t0.0\t0.0\t0.0\t0.0\t0.0\t0.0\n",
      "\t2024-07-31 22:21:00\t0.06593406593406594\t0.0\t0.0\t0.0\t0.0\t0.0\t0.0\n",
      "\t2024-07-31 22:22:00\t0.13245033112582782\t0.0\t0.0\t0.0\t0.0\t0.0\t0.0\n",
      "\t2024-07-31 22:23:00\t0.12056737588652482\t0.0\t0.0\t0.0\t0.0\t0.0\t0.0\n",
      "\t2024-07-31 22:24:00\t0.09375\t0.0\t0.0\t0.0\t0.0\t0.0\t0.0\n",
      "\t2024-07-31 22:25:00\t0.06417112299465241\t0.0\t0.0\t0.0\t0.0\t0.0\t0.0\n",
      "\t2024-07-31 22:26:00\t0.06770833333333333\t0.0\t0.0\t0.0\t0.0\t0.0\t0.0\n",
      "\t2024-07-31 22:27:00\t0.06632653061224489\t0.0\t0.0\t0.0\t0.0\t0.0\t0.0\n",
      "\t2024-07-31 22:28:00\t0.07784431137724551\t0.0\t0.0\t0.0\t0.0\t0.0\t0.0\n",
      "\t2024-07-31 22:29:00\t0.07058823529411765\t0.0\t0.0\t0.0\t0.0\t0.0\t0.0\n",
      "\t2024-07-31 22:30:00\t0.065\t0.0\t0.0\t0.0\t0.0\t0.0\t0.0\n",
      "\t2024-07-31 22:31:00\t0.06274509803921569\t0.0\t0.0\t0.0\t0.0\t0.0\t0.0\n",
      "\t2024-07-31 22:32:00\t0.06741573033707865\t0.0\t0.0\t0.0\t0.0\t0.0\t0.0\n",
      "\t2024-07-31 22:33:00\t0.10625\t0.0\t0.0\t0.0\t0.0\t0.0\t0.0\n",
      "\t2024-07-31 22:34:00\t0.06532663316582915\t0.0\t0.0\t0.0\t0.0\t0.0\t0.0\n",
      "\t2024-07-31 22:35:00\t0.06417112299465241\t0.0\t0.0\t0.0\t0.0\t0.0\t0.0\n",
      "\t2024-07-31 22:36:00\t0.058823529411764705\t0.0\t0.0\t0.0\t0.0\t0.0\t0.0\n",
      "\t2024-07-31 22:37:00\t0.06030150753768844\t0.0\t0.0\t0.0\t0.0\t0.0\t0.0\n",
      "\t2024-07-31 22:38:00\t0.06593406593406594\t0.0\t0.0\t0.0\t0.0\t0.0\t0.0\n",
      "\t2024-07-31 22:39:00\t0.11538461538461538\t0.0\t0.0\t0.0\t0.0\t0.0\t0.0\n",
      "\t2024-07-31 22:40:00\t0.10559006211180125\t0.0\t0.0\t0.0\t0.0\t0.0\t0.0\n",
      "\t2024-07-31 22:41:00\t0.06289308176100629\t0.0\t0.0\t0.0\t0.0\t0.0\t0.0\n",
      "\t2024-07-31 22:42:00\t0.1103896103896104\t0.0\t0.0\t0.0\t0.0\t0.0\t0.0\n",
      "\t2024-07-31 22:43:00\t0.06274509803921569\t0.0\t0.0\t0.0\t0.0\t0.0\t0.0\n",
      "\t2024-07-31 22:44:00\t0.0625\t0.0\t0.0\t0.0\t0.0\t0.0\t0.0\n",
      "\t2024-07-31 22:45:00\t0.061855670103092786\t0.0\t0.0\t0.0\t0.0\t0.0\t0.0\n",
      "\t2024-07-31 22:46:00\t0.06896551724137931\t0.0\t0.0\t0.0\t0.0\t0.0\t0.0\n",
      "\t2024-07-31 22:47:00\t0.06349206349206349\t0.0\t0.0\t0.0\t0.0\t0.0\t0.0\n",
      "\t2024-07-31 22:48:00\t0.09036144578313253\t0.0\t0.0\t0.0\t0.0\t0.0\t0.0\n",
      "\t2024-07-31 22:49:00\t0.06951871657754011\t0.0\t0.0\t0.0\t0.0\t0.0\t0.0\n",
      "\t2024-07-31 22:50:00\t0.06989247311827958\t0.0\t0.0\t0.0\t0.0\t0.0\t0.0\n",
      "\t2024-07-31 22:51:00\t0.07058823529411765\t0.0\t0.0\t0.0\t0.0\t0.0\t0.0\n",
      "\t2024-07-31 22:52:00\t0.07058823529411765\t0.0\t0.0\t0.0\t0.0\t0.0\t0.0\n",
      "\t2024-07-31 22:53:00\t0.09554140127388534\t0.0\t0.0\t0.0\t0.0\t0.0\t0.0\n",
      "\t2024-07-31 22:54:00\t0.06989247311827958\t0.0\t0.0\t0.0\t0.0\t0.0\t0.0\n",
      "\t2024-07-31 22:55:00\t0.0755813953488372\t0.0\t0.0\t0.0\t0.0\t0.0\t0.0\n",
      "\t2024-07-31 22:56:00\t0.18699186991869918\t0.0\t0.0\t0.0\t0.0\t0.0\t0.0\n",
      "\t2024-07-31 22:57:00\t0.17424242424242423\t0.0\t0.0\t0.0\t0.0\t0.0\t0.0\n",
      "\t2024-07-31 22:58:00\t0.16862745098039217\t0.0\t0.0\t0.0\t0.0\t0.0\t0.0\n",
      "\t2024-07-31 22:59:00\t0.06965174129353234\t0.0\t0.0\t0.0\t0.0\t0.0\t0.0\n",
      "\t2024-07-31 23:00:00\t0.06914893617021275\t0.0\t0.0\t0.0\t0.0\t0.0\t0.0\n",
      "\t2024-07-31 23:01:00\t0.06806282722513089\t0.0\t0.0\t0.0\t0.0\t0.0\t0.0\n",
      "\t2024-07-31 23:02:00\t0.06565656565656565\t0.0\t0.0\t0.0\t0.0\t0.0\t0.0\n",
      "\t2024-07-31 23:03:00\t0.06666666666666667\t0.0\t0.0\t0.0\t0.0\t0.0\t0.0\n",
      "\t2024-07-31 23:04:00\t0.07058823529411765\t0.0\t0.0\t0.0\t0.0\t0.0\t0.0\n",
      "\t2024-07-31 23:05:00\t0.07100591715976332\t0.0\t0.0\t0.0\t0.0\t0.0\t0.0\n",
      "\t2024-07-31 23:06:00\t0.07058823529411765\t0.0\t0.0\t0.0\t0.0\t0.0\t0.0\n",
      "\t2024-07-31 23:07:00\t0.06565656565656565\t0.0\t0.0\t0.0\t0.0\t0.0\t0.0\n",
      "\t2024-07-31 23:08:00\t0.06467661691542288\t0.0\t0.0\t0.0\t0.0\t0.0\t0.0\n",
      "\t2024-07-31 23:09:00\t0.06735751295336788\t0.0\t0.0\t0.0\t0.0\t0.0\t0.0\n",
      "\t2024-07-31 23:10:00\t0.07027027027027027\t0.0\t0.0\t0.0\t0.0\t0.0\t0.0\n",
      "\t2024-07-31 23:11:00\t0.07058823529411765\t0.0\t0.0\t0.0\t0.0\t0.0\t0.0\n",
      "\t2024-07-31 23:12:00\t0.07027027027027027\t0.0\t0.0\t0.0\t0.0\t0.0\t0.0\n",
      "\t2024-07-31 23:13:00\t0.07058823529411765\t0.0\t0.0\t0.0\t0.0\t0.0\t0.0\n",
      "\t2024-07-31 23:14:00\t0.07058823529411765\t0.0\t0.0\t0.0\t0.0\t0.0\t0.0\n",
      "\t2024-07-31 23:15:00\t0.06951871657754011\t0.0\t0.0\t0.0\t0.0\t0.0\t0.0\n",
      "\t2024-07-31 23:16:00\t0.06735751295336788\t0.0\t0.0\t0.0\t0.0\t0.0\t0.0\n",
      "\t2024-07-31 23:17:00\t0.0813953488372093\t0.0\t0.0\t0.0\t0.0\t0.0\t0.0\n",
      "\t2024-07-31 23:18:00\t0.07058823529411765\t0.0\t0.0\t0.0\t0.0\t0.0\t0.0\n",
      "\t2024-07-31 23:19:00\t0.07058823529411765\t0.0\t0.0\t0.0\t0.0\t0.0\t0.0\n",
      "\t2024-07-31 23:20:00\t0.07058823529411765\t0.0\t0.0\t0.0\t0.0\t0.0\t0.0\n",
      "\t2024-07-31 23:21:00\t0.06770833333333333\t0.0\t0.0\t0.0\t0.0\t0.0\t0.0\n",
      "\t2024-07-31 23:22:00\t0.06521739130434782\t0.0\t0.0\t0.0\t0.0\t0.0\t0.0\n",
      "\t2024-07-31 23:23:00\t0.06976744186046512\t0.0\t0.0\t0.0\t0.0\t0.0\t0.0\n",
      "\t2024-07-31 23:24:00\t0.07058823529411765\t0.0\t0.0\t0.0\t0.0\t0.0\t0.0\n",
      "\t2024-07-31 23:25:00\t0.06598984771573603\t0.0\t0.0\t0.0\t0.0\t0.0\t0.0\n",
      "\t2024-07-31 23:26:00\t0.07058823529411765\t0.0\t0.0\t0.0\t0.0\t0.0\t0.0\n",
      "\t2024-07-31 23:27:00\t0.06857142857142857\t0.0\t0.0\t0.0\t0.0\t0.0\t0.0\n",
      "\t2024-07-31 23:28:00\t0.06635071090047394\t0.0\t0.0\t0.0\t0.0\t0.0\t0.0\n",
      "\t2024-07-31 23:29:00\t0.06467661691542288\t0.0\t0.0\t0.0\t0.0\t0.0\t0.0\n",
      "\t2024-07-31 23:30:00\t0.06542056074766354\t0.0\t0.0\t0.0\t0.0\t0.0\t0.0\n",
      "\t2024-07-31 23:31:00\t0.06726457399103139\t0.0\t0.0\t0.0\t0.0\t0.0\t0.0\n",
      "\t2024-07-31 23:32:00\t0.06701030927835051\t0.0\t0.0\t0.0\t0.0\t0.014565826330532213\t0.0\n",
      "\t2024-07-31 23:33:00\t0.06878306878306878\t0.0\t0.0\t0.0\t0.0\t0.04421993516507727\t0.0\n",
      "\t2024-07-31 23:34:00\t0.06989247311827958\t0.0\t0.0\t0.0\t0.0\t0.08843987033015453\t0.0\n",
      "\t2024-07-31 23:35:00\t0.06735751295336788\t0.0\t0.0\t0.0\t0.0\t0.1326598054952318\t0.0\n",
      "\t2024-07-31 23:36:00\t0.06334841628959276\t0.0\t0.0\t0.0\t0.0\t0.17687974066030906\t0.0\n",
      "\t2024-07-31 23:37:00\t0.07058823529411765\t0.0\t0.0\t0.0\t0.0\t0.20653384949485412\t0.0\n",
      "\t2024-07-31 23:38:00\t0.06829268292682926\t0.0\t0.0\t0.0\t0.0\t0.22109967582538634\t0.0\n",
      "\t2024-07-31 23:39:00\t0.25882352941176473\t0.0\t0.0\t0.0\t0.0\t0.22109967582538634\t0.0\n",
      "\t2024-07-31 23:40:00\t0.5098039215686274\t0.5098039215686274\t0.5098039215686274\t0.07282913165266106\t0.07282913165266106\t0.22109967582538634\t0.07282913165266106\n",
      "\t2024-07-31 23:41:00\t0.5280898876404495\t0.5280898876404495\t0.5280898876404495\t0.14827054417272528\t0.14827054417272528\t0.14827054417272528\t0.14827054417272528\n",
      "\t2024-07-31 23:42:00\t0.5098039215686274\t0.5098039215686274\t0.5098039215686274\t0.07282913165266106\t0.22109967582538634\t0.07282913165266106\t0.07282913165266106\n",
      "\t2024-07-31 23:43:00\t0.0857142857142857\t0.0\t0.0\t0.0\t0.22109967582538634\t0.0\t0.0\n",
      "\t2024-07-31 23:44:00\t0.06806282722513089\t0.0\t0.0\t0.0\t0.22109967582538634\t0.0\t0.0\n",
      "\t2024-07-31 23:45:00\t0.07042253521126761\t0.0\t0.0\t0.0\t0.20653384949485412\t0.0\t0.0\n",
      "\t2024-07-31 23:46:00\t0.06422018348623854\t0.0\t0.0\t0.0\t0.17687974066030906\t0.0\t0.0\n",
      "\t2024-07-31 23:47:00\t0.06930693069306931\t0.0\t0.0\t0.0\t0.1326598054952318\t0.0\t0.0\n",
      "\t2024-07-31 23:48:00\t0.07058823529411765\t0.0\t0.0\t0.0\t0.08843987033015453\t0.0\t0.0\n",
      "\t2024-07-31 23:49:00\t0.06557377049180328\t0.0\t0.0\t0.0\t0.04421993516507727\t0.0\t0.0\n",
      "\t2024-07-31 23:50:00\t0.07027027027027027\t0.0\t0.0\t0.0\t0.014565826330532213\t0.0\t0.0\n",
      "\t2024-07-31 23:51:00\t0.06862745098039215\t0.0\t0.0\t0.0\t0.0\t0.0\t0.0\n",
      "\t2024-07-31 23:52:00\t0.07058823529411765\t0.0\t0.0\t0.0\t0.0\t0.0\t0.0\n",
      "\t2024-07-31 23:53:00\t0.06779661016949153\t0.0\t0.0\t0.0\t0.0\t0.0\t0.0\n",
      "\t2024-07-31 23:54:00\t0.07058823529411765\t0.0\t0.0\t0.0\t0.0\t0.0\t0.0\n",
      "\t2024-07-31 23:55:00\t0.16470588235294117\t0.0\t0.0\t0.0\t0.0\t0.0\t0.0\n",
      "\t2024-07-31 23:56:00\t0.06842105263157894\t0.0\t0.0\t0.0\t0.0\t0.0\t0.0\n",
      "\t2024-07-31 23:57:00\t0.06666666666666667\t0.0\t0.0\t0.0\t0.0\t0.0\t0.0\n",
      "\t2024-07-31 23:58:00\t0.06989247311827958\t0.0\t0.0\t0.0\t0.0\t0.0\t0.0\n",
      "\t2024-07-31 23:59:00\t0.06334841628959276\t0.0\t0.0\t0.0\t0.0\t0.0\t0.0\n",
      "\t2024-08-01 00:00:00\t0.06467661691542288\t0.0\t0.0\t0.0\t0.0\t0.0\t0.0\n",
      "\t2024-08-01 00:01:00\t0.06914893617021275\t0.0\t0.0\t0.0\t0.0\t0.0\t0.0\n",
      "\t2024-08-01 00:02:00\t0.07058823529411765\t0.0\t0.0\t0.0\t0.0\t0.0\t0.0\n",
      "\t2024-08-01 00:03:00\t0.06735751295336788\t0.0\t0.0\t0.0\t0.0\t0.0\t0.0\n",
      "\t2024-08-01 00:04:00\t0.07058823529411765\t0.0\t0.0\t0.0\t0.0\t0.0\t0.0\n",
      "\t2024-08-01 00:05:00\t0.07954545454545454\t0.0\t0.0\t0.0\t0.0\t0.0\t0.0\n",
      "\t2024-08-01 00:06:00\t0.06701030927835051\t0.0\t0.0\t0.0\t0.0\t0.0\t0.0\n",
      "\t2024-08-01 00:07:00\t0.06598984771573603\t0.0\t0.0\t0.0\t0.0\t0.0\t0.0\n",
      "\t2024-08-01 00:08:00\t0.06632653061224489\t0.0\t0.0\t0.0\t0.0\t0.0\t0.0\n",
      "\t2024-08-01 00:09:00\t0.06274509803921569\t0.0\t0.0\t0.0\t0.0\t0.0\t0.0\n",
      "\t2024-08-01 00:10:00\t0.06486486486486487\t0.0\t0.0\t0.0\t0.0\t0.0\t0.0\n",
      "\t2024-08-01 00:11:00\t0.06741573033707865\t0.0\t0.0\t0.0\t0.0\t0.0\t0.0\n",
      "\t2024-08-01 00:12:00\t0.07058823529411765\t0.0\t0.0\t0.0\t0.0\t0.0\t0.0\n",
      "\t2024-08-01 00:13:00\t0.07058823529411765\t0.0\t0.0\t0.0\t0.0\t0.0\t0.0\n",
      "\t2024-08-01 00:14:00\t0.06666666666666667\t0.0\t0.0\t0.0\t0.0\t0.0\t0.0\n",
      "\t2024-08-01 00:15:00\t0.07058823529411765\t0.0\t0.0\t0.0\t0.0\t0.0\t0.0\n",
      "\t2024-08-01 00:16:00\t0.075\t0.0\t0.0\t0.0\t0.0\t0.0\t0.0\n",
      "\t2024-08-01 00:17:00\t0.06779661016949153\t0.0\t0.0\t0.0\t0.0\t0.0\t0.0\n",
      "\t2024-08-01 00:18:00\t0.09316770186335403\t0.0\t0.0\t0.0\t0.0\t0.0\t0.0\n",
      "\t2024-08-01 00:19:00\t0.06951871657754011\t0.0\t0.0\t0.0\t0.0\t0.0\t0.0\n",
      "\t2024-08-01 00:20:00\t0.06770833333333333\t0.0\t0.0\t0.0\t0.0\t0.0\t0.0\n",
      "\t2024-08-01 00:21:00\t0.07058823529411765\t0.0\t0.0\t0.0\t0.0\t0.0\t0.0\n",
      "\t2024-08-01 00:22:00\t0.07058823529411765\t0.0\t0.0\t0.0\t0.0\t0.0\t0.0\n",
      "\t2024-08-01 00:23:00\t0.0760233918128655\t0.0\t0.0\t0.0\t0.0\t0.0\t0.0\n",
      "\t2024-08-01 00:24:00\t0.06951871657754011\t0.0\t0.0\t0.0\t0.0\t0.0\t0.0\n",
      "\t2024-08-01 00:25:00\t0.07058823529411765\t0.0\t0.0\t0.0\t0.0\t0.0\t0.0\n",
      "\t2024-08-01 00:26:00\t0.07058823529411765\t0.0\t0.0\t0.0\t0.0\t0.0\t0.0\n",
      "\t2024-08-01 00:27:00\t0.07058823529411765\t0.0\t0.0\t0.0\t0.0\t0.0\t0.0\n",
      "\t2024-08-01 00:28:00\t0.09433962264150943\t0.0\t0.0\t0.0\t0.0\t0.0\t0.0\n",
      "\t2024-08-01 00:29:00\t0.07035175879396985\t0.0\t0.0\t0.0\t0.0\t0.0\t0.0\n",
      "\t2024-08-01 00:30:00\t0.07058823529411765\t0.0\t0.0\t0.0\t0.0\t0.0\t0.0\n",
      "\t2024-08-01 00:31:00\t0.06451612903225806\t0.0\t0.0\t0.0\t0.0\t0.0\t0.0\n",
      "\t2024-08-01 00:32:00\t0.06481481481481481\t0.0\t0.0\t0.0\t0.0\t0.0\t0.0\n",
      "\t2024-08-01 00:33:00\t0.0660377358490566\t0.0\t0.0\t0.0\t0.0\t0.0\t0.0\n",
      "\t2024-08-01 00:34:00\t0.06511627906976744\t0.0\t0.0\t0.0\t0.0\t0.0\t0.0\n",
      "\t2024-08-01 00:35:00\t0.06274509803921569\t0.0\t0.0\t0.0\t0.0\t0.0\t0.0\n",
      "\t2024-08-01 00:36:00\t0.07027027027027027\t0.0\t0.0\t0.0\t0.0\t0.0\t0.0\n",
      "\t2024-08-01 00:37:00\t0.06878306878306878\t0.0\t0.0\t0.0\t0.0\t0.0\t0.0\n",
      "\t2024-08-01 00:38:00\t0.07058823529411765\t0.0\t0.0\t0.0\t0.0\t0.0\t0.0\n",
      "\t2024-08-01 00:39:00\t0.06467661691542288\t0.0\t0.0\t0.0\t0.0\t0.0\t0.0\n",
      "\t2024-08-01 00:40:00\t0.06914893617021275\t0.0\t0.0\t0.0\t0.0\t0.0\t0.0\n",
      "\t2024-08-01 00:41:00\t0.0909090909090909\t0.0\t0.0\t0.0\t0.0\t0.0\t0.0\n",
      "\t2024-08-01 00:42:00\t0.07035175879396985\t0.0\t0.0\t0.0\t0.0\t0.0\t0.0\n",
      "\t2024-08-01 00:43:00\t0.07058823529411765\t0.0\t0.0\t0.0\t0.0\t0.0\t0.0\n",
      "\t2024-08-01 00:44:00\t0.07058823529411765\t0.0\t0.0\t0.0\t0.0\t0.0\t0.0\n",
      "\t2024-08-01 00:45:00\t0.06976744186046512\t0.0\t0.0\t0.0\t0.0\t0.0\t0.0\n",
      "\t2024-08-01 00:46:00\t0.06629834254143646\t0.0\t0.0\t0.0\t0.0\t0.0\t0.0\n",
      "\t2024-08-01 00:47:00\t0.06486486486486487\t0.0\t0.0\t0.0\t0.0\t0.0\t0.0\n",
      "\t2024-08-01 00:48:00\t0.07058823529411765\t0.0\t0.0\t0.0\t0.0\t0.0\t0.0\n",
      "\t2024-08-01 00:49:00\t0.07058823529411765\t0.0\t0.0\t0.0\t0.0\t0.0\t0.0\n",
      "\t2024-08-01 00:50:00\t0.07058823529411765\t0.0\t0.0\t0.0\t0.0\t0.0\t0.0\n",
      "\t2024-08-01 00:51:00\t0.06951871657754011\t0.0\t0.0\t0.0\t0.0\t0.0\t0.0\n",
      "\t2024-08-01 00:52:00\t0.06666666666666667\t0.0\t0.0\t0.0\t0.0\t0.0\t0.0\n",
      "\t2024-08-01 00:53:00\t0.06565656565656565\t0.0\t0.0\t0.0\t0.0\t0.0\t0.0\n",
      "\t2024-08-01 00:54:00\t0.07058823529411765\t0.0\t0.0\t0.0\t0.0\t0.0\t0.0\n",
      "\t2024-08-01 00:55:00\t0.07058823529411765\t0.0\t0.0\t0.0\t0.0\t0.0\t0.0\n",
      "\t2024-08-01 00:56:00\t0.07058823529411765\t0.0\t0.0\t0.0\t0.0\t0.0\t0.0\n",
      "\t2024-08-01 00:57:00\t0.07058823529411765\t0.0\t0.0\t0.0\t0.0\t0.0\t0.0\n",
      "\t2024-08-01 00:58:00\t0.07058823529411765\t0.0\t0.0\t0.0\t0.0\t0.0\t0.0\n",
      "\t2024-08-01 00:59:00\t0.06770833333333333\t0.0\t0.0\t0.0\t0.0\t0.0\t0.0\n",
      "\t2024-08-01 01:00:00\t0.07058823529411765\t0.0\t0.0\t0.0\t0.0\t0.0\t0.0\n",
      "\t2024-08-01 01:01:00\t0.06726457399103139\t0.0\t0.0\t0.0\t0.0\t0.0\t0.0\n",
      "\t2024-08-01 01:02:00\t0.06481481481481481\t0.0\t0.0\t0.0\t0.0\t0.0\t0.0\n",
      "\t2024-08-01 01:03:00\t0.0660377358490566\t0.0\t0.0\t0.0\t0.0\t0.0\t0.0\n",
      "\t2024-08-01 01:04:00\t0.06372549019607843\t0.0\t0.0\t0.0\t0.0\t0.0\t0.0\n",
      "\t2024-08-01 01:05:00\t0.07009345794392523\t0.0\t0.0\t0.0\t0.0\t0.0\t0.0\n",
      "\t2024-08-01 01:06:00\t0.06422018348623854\t0.0\t0.0\t0.0\t0.0\t0.0\t0.0\n",
      "\t2024-08-01 01:07:00\t0.06451612903225806\t0.0\t0.0\t0.0\t0.0\t0.0\t0.0\n",
      "\t2024-08-01 01:08:00\t0.06637168141592921\t0.0\t0.0\t0.0\t0.0\t0.0\t0.0\n",
      "\t2024-08-01 01:09:00\t0.06542056074766354\t0.0\t0.0\t0.0\t0.0\t0.0\t0.0\n",
      "\t2024-08-01 01:10:00\t0.06930693069306931\t0.0\t0.0\t0.0\t0.0\t0.0\t0.0\n",
      "\t2024-08-01 01:11:00\t0.06310679611650485\t0.0\t0.0\t0.0\t0.0\t0.0\t0.0\n",
      "\t2024-08-01 01:12:00\t0.07058823529411765\t0.0\t0.0\t0.0\t0.0\t0.0\t0.0\n",
      "\t2024-08-01 01:13:00\t0.07058823529411765\t0.0\t0.0\t0.0\t0.0\t0.0\t0.0\n",
      "\t2024-08-01 01:14:00\t0.07058823529411765\t0.0\t0.0\t0.0\t0.0\t0.0\t0.0\n",
      "\t2024-08-01 01:15:00\t0.06842105263157894\t0.0\t0.0\t0.0\t0.0\t0.0\t0.0\n",
      "\t2024-08-01 01:16:00\t0.06593406593406594\t0.0\t0.0\t0.0\t0.0\t0.0\t0.0\n",
      "\t2024-08-01 01:17:00\t0.07058823529411765\t0.0\t0.0\t0.0\t0.0\t0.0\t0.0\n",
      "\t2024-08-01 01:18:00\t0.06914893617021275\t0.0\t0.0\t0.0\t0.0\t0.0\t0.0\n",
      "\t2024-08-01 01:19:00\t0.07692307692307693\t0.0\t0.0\t0.0\t0.0\t0.0\t0.0\n",
      "\t2024-08-01 01:20:00\t0.07058823529411765\t0.0\t0.0\t0.0\t0.0\t0.0\t0.0\n",
      "\t2024-08-01 01:21:00\t0.06842105263157894\t0.0\t0.0\t0.0\t0.0\t0.0\t0.0\n",
      "\t2024-08-01 01:22:00\t0.06896551724137931\t0.0\t0.0\t0.0\t0.0\t0.0\t0.0\n",
      "\t2024-08-01 01:23:00\t0.06666666666666667\t0.0\t0.0\t0.0\t0.0\t0.0\t0.0\n",
      "\t2024-08-01 01:24:00\t0.06842105263157894\t0.0\t0.0\t0.0\t0.0\t0.0\t0.0\n",
      "\t2024-08-01 01:25:00\t0.06842105263157894\t0.0\t0.0\t0.0\t0.0\t0.0\t0.0\n",
      "\t2024-08-01 01:26:00\t0.07017543859649124\t0.0\t0.0\t0.0\t0.0\t0.0\t0.0\n",
      "\t2024-08-01 01:27:00\t0.07058823529411765\t0.0\t0.0\t0.0\t0.0\t0.0\t0.0\n",
      "\t2024-08-01 01:28:00\t0.07100591715976332\t0.0\t0.0\t0.0\t0.0\t0.0\t0.0\n",
      "\t2024-08-01 01:29:00\t0.07058823529411765\t0.0\t0.0\t0.0\t0.0\t0.0\t0.0\n",
      "\t2024-08-01 01:30:00\t0.07\t0.0\t0.0\t0.0\t0.0\t0.0\t0.0\n",
      "\t2024-08-01 01:31:00\t0.06965174129353234\t0.0\t0.0\t0.0\t0.0\t0.0\t0.0\n",
      "\t2024-08-01 01:32:00\t0.06274509803921569\t0.0\t0.0\t0.0\t0.0\t0.0\t0.0\n",
      "\t2024-08-01 01:33:00\t0.07058823529411765\t0.0\t0.0\t0.0\t0.0\t0.0\t0.0\n",
      "\t2024-08-01 01:34:00\t0.07058823529411765\t0.0\t0.0\t0.0\t0.0\t0.0\t0.0\n",
      "\t2024-08-01 01:35:00\t0.06701030927835051\t0.0\t0.0\t0.0\t0.0\t0.0\t0.0\n",
      "\t2024-08-01 01:36:00\t0.07058823529411765\t0.0\t0.0\t0.0\t0.0\t0.0\t0.0\n",
      "\t2024-08-01 01:37:00\t0.06965174129353234\t0.0\t0.0\t0.0\t0.0\t0.0\t0.0\n",
      "\t2024-08-01 01:38:00\t0.07058823529411765\t0.0\t0.0\t0.0\t0.0\t0.0\t0.0\n",
      "\t2024-08-01 01:39:00\t0.06806282722513089\t0.0\t0.0\t0.0\t0.0\t0.023214285714285715\t0.0\n",
      "\t2024-08-01 01:40:00\t0.1019108280254777\t0.0\t0.0\t0.0\t0.0\t0.06547619047619048\t0.0\n",
      "\t2024-08-01 01:41:00\t0.43137254901960786\t0.0\t0.0\t0.0\t0.0\t0.10773809523809523\t0.0\n",
      "\t2024-08-01 01:42:00\t0.02631578947368421\t0.0\t0.0\t0.0\t0.0\t0.15\t0.0\n",
      "\t2024-08-01 01:43:00\t0.0\t0.0\t0.0\t0.0\t0.0\t0.19226190476190474\t0.0\n",
      "\t2024-08-01 01:44:00\t0.00784313725490196\t0.0\t0.0\t0.0\t0.0\t0.21130952380952378\t0.0\n",
      "\t2024-08-01 01:45:00\t0.00784313725490196\t0.0\t0.0\t0.0\t0.0\t0.21130952380952378\t0.0\n",
      "\t2024-08-01 01:46:00\t0.00784313725490196\t0.0\t0.0\t0.0\t0.0\t0.21130952380952378\t0.0\n",
      "\t2024-08-01 01:47:00\t0.8125\t0.8125\t0.8125\t0.11607142857142858\t0.11607142857142858\t0.21130952380952378\t0.11607142857142858\n",
      "\t2024-08-01 01:48:00\t0.6666666666666666\t0.6666666666666666\t0.6666666666666666\t0.09523809523809523\t0.21130952380952378\t0.09523809523809523\t0.09523809523809523\n",
      "\t2024-08-01 01:49:00\t0.0\t0.0\t0.0\t0.0\t0.21130952380952378\t0.0\t0.0\n",
      "\t2024-08-01 01:50:00\t0.0\t0.0\t0.0\t0.0\t0.21130952380952378\t0.0\t0.0\n",
      "\t2024-08-01 01:51:00\t0.0\t0.0\t0.0\t0.0\t0.21130952380952378\t0.0\t0.0\n",
      "\t2024-08-01 01:52:00\t0.0\t0.0\t0.0\t0.0\t0.1880952380952381\t0.0\t0.0\n",
      "\t2024-08-01 01:53:00\t0.0\t0.0\t0.0\t0.0\t0.14583333333333331\t0.0\t0.0\n",
      "\t2024-08-01 01:54:00\t0.0\t0.0\t0.0\t0.0\t0.10357142857142856\t0.0\t0.0\n",
      "\t2024-08-01 01:55:00\t0.0\t0.0\t0.0\t0.0\t0.061309523809523814\t0.0\t0.0\n",
      "\t2024-08-01 01:56:00\t0.0\t0.0\t0.0\t0.0\t0.019047619047619046\t0.0\t0.0\n",
      "\t2024-08-01 01:57:00\t0.0\t0.0\t0.0\t0.0\t0.0\t0.0\t0.0\n",
      "\t2024-08-01 01:58:00\t0.0\t0.0\t0.0\t0.0\t0.0\t0.0\t0.0\n",
      "\t2024-08-01 01:59:00\t0.0\t0.0\t0.0\t0.0\t0.0\t0.0\t0.0\n"
     ]
    }
   ],
   "source": [
    "activity=\"kitchen\"\n",
    "ux=2\n",
    "cut0=activity_data[activity]['cut0']/2.0\n",
    "ftw_location=activity_data[activity]['ftw_location']\n",
    "agg_location=activity_data[activity]['agg_location']\n",
    "\n",
    "\n",
    "U00=copy.deepcopy(U0)\n",
    "U0[activity][ux][U0[activity][ux] <= cut0*4.0] = 0\n",
    "I[activity][ux]=np.minimum(U[activity][ux],S[activity])\n",
    "I[activity][ux]=FTW_fpw(I[activity][ux],ftw_location)\n",
    "\n",
    "\n",
    "I[activity][ux]=np.minimum(U0[activity][ux],S[activity])\n",
    "\n",
    "fp=FTW_fpw(I[activity][ux],ftw_location)\n",
    "pw=FTW_pw(I[activity][ux],ftw_location)\n",
    "fw=FTW_fw(I[activity][ux],ftw_location)\n",
    "\n",
    "for ix,v in enumerate(I[activity][ux]):\n",
    "    print(\"\\t\"+datetime.fromtimestamp(absT(ix)).strftime(\"%Y-%m-%d %H:%M:%S\")+\"\\t\"+str(U00[activity][ux][ix])+\"\\t\"+str(U0[activity][ux][ix])+\"\\t\"+str(v)+\"\\t\"+str(fp[ix])+\"\\t\"+str(pw[ix])+\"\\t\"+str(fw[ix])+\"\\t\"+str(fp[ix]))"
   ]
  },
  {
   "cell_type": "code",
   "execution_count": null,
   "id": "92f1e566",
   "metadata": {},
   "outputs": [],
   "source": []
  }
 ],
 "metadata": {
  "kernelspec": {
   "display_name": "Python 3 (ipykernel)",
   "language": "python",
   "name": "python3"
  },
  "language_info": {
   "codemirror_mode": {
    "name": "ipython",
    "version": 3
   },
   "file_extension": ".py",
   "mimetype": "text/x-python",
   "name": "python",
   "nbconvert_exporter": "python",
   "pygments_lexer": "ipython3",
   "version": "3.9.19"
  }
 },
 "nbformat": 4,
 "nbformat_minor": 5
}
