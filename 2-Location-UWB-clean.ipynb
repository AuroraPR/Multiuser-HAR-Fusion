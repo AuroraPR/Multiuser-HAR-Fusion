{
 "cells": [
  {
   "cell_type": "code",
   "execution_count": 1,
   "id": "d90a69ab",
   "metadata": {
    "execution": {
     "iopub.execute_input": "2024-08-29T12:26:03.829059Z",
     "iopub.status.busy": "2024-08-29T12:26:03.828933Z",
     "iopub.status.idle": "2024-08-29T12:26:03.840346Z",
     "shell.execute_reply": "2024-08-29T12:26:03.839904Z"
    }
   },
   "outputs": [],
   "source": [
    "%config Completer.use_jedi = False\n",
    "\n",
    "import configparser\n",
    "config = configparser.ConfigParser()\n",
    "config.read('finger-config.txt')\n",
    "\n",
    "source_folder = config.get('Configuration', 'source_folder')\n",
    "time_step = int(config.get('Configuration', 'time_step'))\n",
    "window_size = int(config.get('Configuration', 'window_size'))\n",
    "data_folder = config.get('Configuration', 'data_folder')\n",
    "ini_date = config.get('Configuration', 'ini_date')\n",
    "end_date = config.get('Configuration', 'end_date')\n",
    "\n",
    "\n",
    "\n",
    "anchors=config.get('Configuration', 'anchors')\n",
    "anchors = [(item.strip()) for item in anchors.split(',')]\n",
    "\n",
    "w = int(config.get('Configuration', 'w'))\n",
    "h = int(config.get('Configuration', 'h'))\n",
    "\n",
    "\n",
    "rooms=config.get('Configuration', 'rooms')\n",
    "rooms = [(item.strip()) for item in rooms.split(',')]"
   ]
  },
  {
   "cell_type": "code",
   "execution_count": 2,
   "id": "b86452ce",
   "metadata": {
    "execution": {
     "iopub.execute_input": "2024-08-29T12:26:03.841883Z",
     "iopub.status.busy": "2024-08-29T12:26:03.841673Z",
     "iopub.status.idle": "2024-08-29T12:26:04.171154Z",
     "shell.execute_reply": "2024-08-29T12:26:04.170697Z"
    }
   },
   "outputs": [
    {
     "name": "stdout",
     "output_type": "stream",
     "text": [
      "2024-08-01 01:59:59 End date is 1722470399 day: 19936 2024-08-01 01:59:59\n",
      "2024-07-31 02:00:00\n",
      "2024-07-31 02:00:00 Init date is 1722384000 day: 19935 2024-07-31 02:00:00\n",
      "2024-07-31\n",
      "['16fe', '5b66', 'ed9c']\n"
     ]
    }
   ],
   "source": [
    "import numpy as np\n",
    "from pandas import read_csv    \n",
    "import pandas as pd\n",
    "import time\n",
    "\n",
    "from datetime import datetime\n",
    "\n",
    "off_zone=60*60*2\n",
    "\n",
    "def day_time(ti):\n",
    "    return int((int)((ti+off_zone)/(60*60*24)))\n",
    "\n",
    "\n",
    "def time2str(tt):\n",
    "    return datetime.fromtimestamp(tt).strftime(\"%Y-%m-%d %H:%M:%S\")\n",
    "\n",
    "tN = (int)(datetime.strptime(end_date, '%Y-%m-%d %H:%M:%S').timestamp())\n",
    "print (end_date,\"End date is\", tN, \"day:\",day_time(tN), time2str(tN))\n",
    "\n",
    "\n",
    "print(ini_date)\n",
    "t0 = (int)(datetime.strptime(ini_date, '%Y-%m-%d %H:%M:%S').timestamp())\n",
    "print (ini_date,\"Init date is\", t0, \"day:\",day_time(t0), time2str(t0))\n",
    "\n",
    "\n",
    "\n",
    "\n",
    "def day_time0(ti):\n",
    "    return day_time(ti)-day_time(t0)+1\n",
    "\n",
    "def relT(ti):\n",
    "    return (int)((ti-t0)/time_step)\n",
    "\n",
    "def sizeT():\n",
    "    return relT(tN) \n",
    "day=list(range(day_time(t0),day_time(tN)+1))[0]\n",
    "\n",
    "from datetime import datetime, timedelta\n",
    "\n",
    "\n",
    "def getStrDatefrom(day_number):\n",
    "    # Reference date (1970-01-01)\n",
    "    reference_date = datetime(1970, 1, 1)\n",
    "    \n",
    "    # Compute the date corresponding to the day number\n",
    "    resulting_date = reference_date + timedelta(days=day_number)\n",
    "    \n",
    "    return resulting_date.strftime(\"%Y-%m-%d\")\n",
    "\n",
    "\n",
    "\n",
    "\n",
    "day_str=getStrDatefrom(day)\n",
    "print(day_str)\n",
    "users=config.get('Configuration', day_str)\n",
    "users = [(item.strip()) for item in users.split(',')]\n",
    "\n",
    "\n",
    "print(users)\n"
   ]
  },
  {
   "cell_type": "code",
   "execution_count": 3,
   "id": "8af9c345",
   "metadata": {
    "execution": {
     "iopub.execute_input": "2024-08-29T12:26:04.173090Z",
     "iopub.status.busy": "2024-08-29T12:26:04.172696Z",
     "iopub.status.idle": "2024-08-29T12:26:04.683883Z",
     "shell.execute_reply": "2024-08-29T12:26:04.683289Z"
    }
   },
   "outputs": [
    {
     "name": "stdout",
     "output_type": "stream",
     "text": [
      "./raw-har/ubitrack-uwb/19935.16fe.sourcedata.tsv\n",
      "19935 16fe 1051644\n",
      "./raw-har/ubitrack-uwb/19935.5b66.sourcedata.tsv\n"
     ]
    },
    {
     "name": "stdout",
     "output_type": "stream",
     "text": [
      "19935 5b66 1117276\n",
      "./raw-har/ubitrack-uwb/19935.ed9c.sourcedata.tsv\n",
      "19935 ed9c 901328\n",
      "              time                 date anchor      d\n",
      "0       1722384000  2024-07-31 02:00:00   399a  6.046\n",
      "1       1722384000  2024-07-31 02:00:00   6aca  2.678\n",
      "2       1722384000  2024-07-31 02:00:00   45d2  5.512\n",
      "3       1722384001  2024-07-31 02:00:01   399a  6.060\n",
      "4       1722384001  2024-07-31 02:00:01   6aca  2.678\n",
      "...            ...                  ...    ...    ...\n",
      "262906  1722470396  2024-08-01 01:59:56   2eff  5.719\n",
      "262907  1722470397  2024-08-01 01:59:57   6aca  2.215\n",
      "262908  1722470398  2024-08-01 01:59:58   6aca  2.224\n",
      "262909  1722470399  2024-08-01 01:59:59   2eff  6.173\n",
      "262910  1722470399  2024-08-01 01:59:59   6aca  2.224\n",
      "\n",
      "[262911 rows x 4 columns]\n",
      "              time                 date anchor      d\n",
      "0       1722384000  2024-07-31 02:00:00   8171  4.120\n",
      "1       1722384000  2024-07-31 02:00:00   a304  3.713\n",
      "2       1722384000  2024-07-31 02:00:00   eb38  4.079\n",
      "3       1722384001  2024-07-31 02:00:01   2eff  8.389\n",
      "4       1722384001  2024-07-31 02:00:01   1fa0  1.199\n",
      "...            ...                  ...    ...    ...\n",
      "279315  1722470399  2024-08-01 01:59:59   8171  5.344\n",
      "279317  1722470399  2024-08-01 01:59:59   a304  2.187\n",
      "279313  1722470399  2024-08-01 01:59:59   45d2  3.891\n",
      "279314  1722470399  2024-08-01 01:59:59   1fa0  1.925\n",
      "279318  1722470399  2024-08-01 01:59:59   45d2  3.844\n",
      "\n",
      "[279319 rows x 4 columns]\n",
      "              time                 date anchor      d\n",
      "0       1722384000  2024-07-31 02:00:00   399a  2.182\n",
      "1       1722384000  2024-07-31 02:00:00   c492  4.149\n",
      "2       1722384000  2024-07-31 02:00:00   399a  2.159\n",
      "3       1722384000  2024-07-31 02:00:00   45d2  6.454\n",
      "4       1722384001  2024-07-31 02:00:01   399a  2.196\n",
      "...            ...                  ...    ...    ...\n",
      "225326  1722470398  2024-08-01 01:59:58   399a  1.625\n",
      "225328  1722470398  2024-08-01 01:59:58   c492  3.638\n",
      "225330  1722470399  2024-08-01 01:59:59   1fa0  8.985\n",
      "225329  1722470399  2024-08-01 01:59:59   399a  1.583\n",
      "225331  1722470399  2024-08-01 01:59:59   c492  3.596\n",
      "\n",
      "[225332 rows x 4 columns]\n"
     ]
    }
   ],
   "source": [
    "import os\n",
    "\n",
    "df_total_map = {}\n",
    "for user in users:\n",
    "    df_total_map[user]=None\n",
    "for user in users:\n",
    "    print(os.path.join(source_folder,\"ubitrack-uwb\")+\"/\"+str(day)+\".\"+user+\".sourcedata.tsv\")\n",
    "    try:\n",
    "        series=read_csv(os.path.join(source_folder,\"ubitrack-uwb\")+\"/\"+str(day)+\".\"+user+\".sourcedata.tsv\", sep=\"\\t\", header=None, names=[\"time\",\"date\",\"anchor\",\"d\"])\n",
    "        print(day,user,series.size)\n",
    "        series['time'] = pd.to_numeric(series['time'], errors='coerce')\n",
    "        series = series.dropna(subset=['time'])\n",
    "        #print(\"unique\",np.unique(series[\"anchor\"]))\n",
    "    except Exception as e:\n",
    "        print(\"Not data\",e)\n",
    "        continue\n",
    "    if(df_total_map[user] is None):\n",
    "        df_total_map[user]=series\n",
    "    else:\n",
    "        df_total_map[user] = df_total_map[user].append(series, ignore_index=True)\n",
    "\n",
    "\n",
    "for user in users:\n",
    "    if(df_total_map[user] is not None):\n",
    "        df_total_map[user] = df_total_map[user].sort_values(by='time', ascending=True)\n",
    "    print(df_total_map[user])\n"
   ]
  },
  {
   "cell_type": "code",
   "execution_count": 4,
   "id": "31f730be",
   "metadata": {
    "execution": {
     "iopub.execute_input": "2024-08-29T12:26:04.685680Z",
     "iopub.status.busy": "2024-08-29T12:26:04.685541Z",
     "iopub.status.idle": "2024-08-29T12:28:00.741771Z",
     "shell.execute_reply": "2024-08-29T12:28:00.740959Z"
    }
   },
   "outputs": [
    {
     "name": "stdout",
     "output_type": "stream",
     "text": [
      "16fe\n",
      "1fa0\n"
     ]
    },
    {
     "name": "stdout",
     "output_type": "stream",
     "text": [
      "[[ 10. -10.]\n",
      " [ 10. -10.]\n",
      " [ 10. -10.]\n",
      " ...\n",
      " [ 10. -10.]\n",
      " [ 10. -10.]\n",
      " [ 10. -10.]]\n",
      "2eff\n"
     ]
    },
    {
     "name": "stdout",
     "output_type": "stream",
     "text": [
      "[[ 10.    -10.   ]\n",
      " [ 10.    -10.   ]\n",
      " [ 10.    -10.   ]\n",
      " ...\n",
      " [  5.719   5.719]\n",
      " [ 10.    -10.   ]\n",
      " [ 10.    -10.   ]]\n",
      "399a\n"
     ]
    },
    {
     "name": "stdout",
     "output_type": "stream",
     "text": [
      "[[  6.046   6.046]\n",
      " [  6.06    6.06 ]\n",
      " [  6.037   6.037]\n",
      " ...\n",
      " [ 10.    -10.   ]\n",
      " [ 10.    -10.   ]\n",
      " [ 10.    -10.   ]]\n",
      "45d2\n"
     ]
    },
    {
     "name": "stdout",
     "output_type": "stream",
     "text": [
      "[[  5.512   5.512]\n",
      " [  5.672   5.672]\n",
      " [  5.573   5.573]\n",
      " ...\n",
      " [ 10.    -10.   ]\n",
      " [ 10.    -10.   ]\n",
      " [ 10.    -10.   ]]\n",
      "6aca\n"
     ]
    },
    {
     "name": "stdout",
     "output_type": "stream",
     "text": [
      "[[  2.678   2.678]\n",
      " [  2.678   2.678]\n",
      " [  2.674   2.674]\n",
      " ...\n",
      " [  2.239   2.239]\n",
      " [  2.215   2.215]\n",
      " [ 10.    -10.   ]]\n",
      "8171\n"
     ]
    },
    {
     "name": "stdout",
     "output_type": "stream",
     "text": [
      "[[ 10. -10.]\n",
      " [ 10. -10.]\n",
      " [ 10. -10.]\n",
      " ...\n",
      " [ 10. -10.]\n",
      " [ 10. -10.]\n",
      " [ 10. -10.]]\n",
      "a304\n"
     ]
    },
    {
     "name": "stdout",
     "output_type": "stream",
     "text": [
      "[[ 10. -10.]\n",
      " [ 10. -10.]\n",
      " [ 10. -10.]\n",
      " ...\n",
      " [ 10. -10.]\n",
      " [ 10. -10.]\n",
      " [ 10. -10.]]\n",
      "c492\n"
     ]
    },
    {
     "name": "stdout",
     "output_type": "stream",
     "text": [
      "[[ 10. -10.]\n",
      " [ 10. -10.]\n",
      " [ 10. -10.]\n",
      " ...\n",
      " [ 10. -10.]\n",
      " [ 10. -10.]\n",
      " [ 10. -10.]]\n",
      "eb38\n"
     ]
    },
    {
     "name": "stdout",
     "output_type": "stream",
     "text": [
      "[[ 10. -10.]\n",
      " [ 10. -10.]\n",
      " [ 10. -10.]\n",
      " ...\n",
      " [ 10. -10.]\n",
      " [ 10. -10.]\n",
      " [ 10. -10.]]\n",
      "5b66\n",
      "1fa0\n"
     ]
    },
    {
     "name": "stdout",
     "output_type": "stream",
     "text": [
      "[[ 10.    -10.   ]\n",
      " [  1.199   1.199]\n",
      " [  1.19    1.19 ]\n",
      " ...\n",
      " [  1.751   1.841]\n",
      " [  1.934   2.342]\n",
      " [ 10.    -10.   ]]\n",
      "2eff\n"
     ]
    },
    {
     "name": "stdout",
     "output_type": "stream",
     "text": [
      "[[ 10.    -10.   ]\n",
      " [  8.389   8.389]\n",
      " [  8.333   8.333]\n",
      " ...\n",
      " [ 10.    -10.   ]\n",
      " [ 10.    -10.   ]\n",
      " [ 10.    -10.   ]]\n",
      "399a\n"
     ]
    },
    {
     "name": "stdout",
     "output_type": "stream",
     "text": [
      "[[ 10.    -10.   ]\n",
      " [ 10.    -10.   ]\n",
      " [ 10.    -10.   ]\n",
      " ...\n",
      " [ 10.    -10.   ]\n",
      " [  7.386   7.573]\n",
      " [ 10.    -10.   ]]\n",
      "45d2\n"
     ]
    },
    {
     "name": "stdout",
     "output_type": "stream",
     "text": [
      "[[ 10.    -10.   ]\n",
      " [ 10.    -10.   ]\n",
      " [ 10.    -10.   ]\n",
      " ...\n",
      " [  5.058   5.058]\n",
      " [ 10.    -10.   ]\n",
      " [ 10.    -10.   ]]\n",
      "6aca\n"
     ]
    },
    {
     "name": "stdout",
     "output_type": "stream",
     "text": [
      "[[ 10. -10.]\n",
      " [ 10. -10.]\n",
      " [ 10. -10.]\n",
      " ...\n",
      " [ 10. -10.]\n",
      " [ 10. -10.]\n",
      " [ 10. -10.]]\n",
      "8171\n"
     ]
    },
    {
     "name": "stdout",
     "output_type": "stream",
     "text": [
      "[[  4.12   4.12]\n",
      " [ 10.   -10.  ]\n",
      " [ 10.   -10.  ]\n",
      " ...\n",
      " [ 10.   -10.  ]\n",
      " [ 10.   -10.  ]\n",
      " [ 10.   -10.  ]]\n",
      "a304\n"
     ]
    },
    {
     "name": "stdout",
     "output_type": "stream",
     "text": [
      "[[  3.713   3.713]\n",
      " [  3.708   3.708]\n",
      " [  3.736   3.736]\n",
      " ...\n",
      " [  1.555   1.621]\n",
      " [  1.503   1.747]\n",
      " [ 10.    -10.   ]]\n",
      "c492\n"
     ]
    },
    {
     "name": "stdout",
     "output_type": "stream",
     "text": [
      "[[ 10.    -10.   ]\n",
      " [ 10.    -10.   ]\n",
      " [ 10.    -10.   ]\n",
      " ...\n",
      " [ 10.    -10.   ]\n",
      " [  3.821   3.821]\n",
      " [ 10.    -10.   ]]\n",
      "eb38\n"
     ]
    },
    {
     "name": "stdout",
     "output_type": "stream",
     "text": [
      "[[  4.079   4.079]\n",
      " [  3.39    3.39 ]\n",
      " [  4.36    4.36 ]\n",
      " ...\n",
      " [  5.128   5.128]\n",
      " [ 10.    -10.   ]\n",
      " [ 10.    -10.   ]]\n",
      "ed9c\n",
      "1fa0\n"
     ]
    },
    {
     "name": "stdout",
     "output_type": "stream",
     "text": [
      "[[ 10.    -10.   ]\n",
      " [ 10.    -10.   ]\n",
      " [ 10.    -10.   ]\n",
      " ...\n",
      " [ 10.    -10.   ]\n",
      " [  8.994   8.994]\n",
      " [ 10.    -10.   ]]\n",
      "2eff\n"
     ]
    },
    {
     "name": "stdout",
     "output_type": "stream",
     "text": [
      "[[ 10. -10.]\n",
      " [ 10. -10.]\n",
      " [ 10. -10.]\n",
      " ...\n",
      " [ 10. -10.]\n",
      " [ 10. -10.]\n",
      " [ 10. -10.]]\n",
      "399a\n"
     ]
    },
    {
     "name": "stdout",
     "output_type": "stream",
     "text": [
      "[[  2.159   2.182]\n",
      " [  2.182   2.196]\n",
      " [  2.164   2.22 ]\n",
      " ...\n",
      " [  1.635   1.635]\n",
      " [  1.635   1.635]\n",
      " [ 10.    -10.   ]]\n",
      "45d2\n"
     ]
    },
    {
     "name": "stdout",
     "output_type": "stream",
     "text": [
      "[[  6.454   6.454]\n",
      " [ 10.    -10.   ]\n",
      " [ 10.    -10.   ]\n",
      " ...\n",
      " [ 10.    -10.   ]\n",
      " [ 10.    -10.   ]\n",
      " [ 10.    -10.   ]]\n",
      "6aca\n"
     ]
    },
    {
     "name": "stdout",
     "output_type": "stream",
     "text": [
      "[[ 10. -10.]\n",
      " [ 10. -10.]\n",
      " [ 10. -10.]\n",
      " ...\n",
      " [ 10. -10.]\n",
      " [ 10. -10.]\n",
      " [ 10. -10.]]\n",
      "8171\n"
     ]
    },
    {
     "name": "stdout",
     "output_type": "stream",
     "text": [
      "[[ 10. -10.]\n",
      " [ 10. -10.]\n",
      " [ 10. -10.]\n",
      " ...\n",
      " [ 10. -10.]\n",
      " [ 10. -10.]\n",
      " [ 10. -10.]]\n",
      "a304\n"
     ]
    },
    {
     "name": "stdout",
     "output_type": "stream",
     "text": [
      "[[ 10. -10.]\n",
      " [ 10. -10.]\n",
      " [ 10. -10.]\n",
      " ...\n",
      " [ 10. -10.]\n",
      " [ 10. -10.]\n",
      " [ 10. -10.]]\n",
      "c492\n"
     ]
    },
    {
     "name": "stdout",
     "output_type": "stream",
     "text": [
      "[[  4.149   4.149]\n",
      " [  4.093   4.13 ]\n",
      " [  4.088   4.107]\n",
      " ...\n",
      " [  3.647   3.647]\n",
      " [  3.606   3.606]\n",
      " [ 10.    -10.   ]]\n",
      "eb38\n"
     ]
    },
    {
     "name": "stdout",
     "output_type": "stream",
     "text": [
      "[[ 10. -10.]\n",
      " [ 10. -10.]\n",
      " [ 10. -10.]\n",
      " ...\n",
      " [ 10. -10.]\n",
      " [ 10. -10.]\n",
      " [ 10. -10.]]\n"
     ]
    }
   ],
   "source": [
    "df_total_map2 = {}\n",
    "\n",
    "for user in users:\n",
    "    print(user)\n",
    "    df_total_map2[user]={}\n",
    "    df_total=df_total_map[user]\n",
    "    for anchor in anchors:\n",
    "        print(anchor)\n",
    "        df_total_map2[user][anchor]=np.ones((sizeT(),2))\n",
    "        df_total_map2[user][anchor][:,0]=df_total_map2[user][anchor][:,0]*10\n",
    "        df_total_map2[user][anchor][:,1]=df_total_map2[user][anchor][:,1]*-10\n",
    "        if(df_total is None):\n",
    "            continue\n",
    "        lastVmin,lastVmax=10,-10\n",
    "        i0=0\n",
    "        for index, row in df_total.iterrows():\n",
    "            if(row[\"anchor\"]!=anchor):\n",
    "                continue\n",
    "            iN=relT(int(row[\"time\"]))\n",
    "            if(iN<0):\n",
    "                iN=0\n",
    "            if(iN>=relT(tN)):\n",
    "                iN=relT(tN)-1\n",
    "            #print(iN,i0)\n",
    "            \n",
    "            if(i0!=iN):\n",
    "                #print(\"\\t\",user,anchor,i0,iN,(lastVmin,lastVmax), row[\"d\"])\n",
    "                for ii in range(i0,iN-1,1):\n",
    "                    df_total_map2[user][anchor][ii][0]=10\n",
    "                    df_total_map2[user][anchor][ii][1]=-10\n",
    "                df_total_map2[user][anchor][i0][0]=lastVmin\n",
    "                df_total_map2[user][anchor][i0][1]=lastVmax\n",
    "                i0=iN\n",
    "                lastVmin,lastVmax=row[\"d\"],row[\"d\"]\n",
    "            else:\n",
    "                lastVmin=min(lastVmin,row[\"d\"])\n",
    "                lastVmax=max(lastVmax,row[\"d\"])\n",
    "        print(df_total_map2[user][anchor])\n",
    "\n",
    "        \n"
   ]
  },
  {
   "cell_type": "code",
   "execution_count": 5,
   "id": "80c53b80",
   "metadata": {
    "execution": {
     "iopub.execute_input": "2024-08-29T12:28:00.743596Z",
     "iopub.status.busy": "2024-08-29T12:28:00.743460Z",
     "iopub.status.idle": "2024-08-29T12:28:04.089002Z",
     "shell.execute_reply": "2024-08-29T12:28:04.088519Z"
    }
   },
   "outputs": [
    {
     "name": "stdout",
     "output_type": "stream",
     "text": [
      "16fe\n",
      "1fa0\n",
      "./data//DAY_19935/16fe.1fa0.tsv\n",
      "2eff\n",
      "./data//DAY_19935/16fe.2eff.tsv\n"
     ]
    },
    {
     "name": "stdout",
     "output_type": "stream",
     "text": [
      "399a\n",
      "./data//DAY_19935/16fe.399a.tsv\n",
      "45d2\n",
      "./data//DAY_19935/16fe.45d2.tsv\n"
     ]
    },
    {
     "name": "stdout",
     "output_type": "stream",
     "text": [
      "6aca\n",
      "./data//DAY_19935/16fe.6aca.tsv\n",
      "8171\n",
      "./data//DAY_19935/16fe.8171.tsv\n"
     ]
    },
    {
     "name": "stdout",
     "output_type": "stream",
     "text": [
      "a304\n",
      "./data//DAY_19935/16fe.a304.tsv\n",
      "c492\n",
      "./data//DAY_19935/16fe.c492.tsv\n"
     ]
    },
    {
     "name": "stdout",
     "output_type": "stream",
     "text": [
      "eb38\n",
      "./data//DAY_19935/16fe.eb38.tsv\n",
      "5b66\n",
      "1fa0\n",
      "./data//DAY_19935/5b66.1fa0.tsv\n"
     ]
    },
    {
     "name": "stdout",
     "output_type": "stream",
     "text": [
      "2eff\n",
      "./data//DAY_19935/5b66.2eff.tsv\n",
      "399a\n",
      "./data//DAY_19935/5b66.399a.tsv\n"
     ]
    },
    {
     "name": "stdout",
     "output_type": "stream",
     "text": [
      "45d2\n",
      "./data//DAY_19935/5b66.45d2.tsv\n",
      "6aca\n",
      "./data//DAY_19935/5b66.6aca.tsv\n"
     ]
    },
    {
     "name": "stdout",
     "output_type": "stream",
     "text": [
      "8171\n",
      "./data//DAY_19935/5b66.8171.tsv\n",
      "a304\n",
      "./data//DAY_19935/5b66.a304.tsv\n"
     ]
    },
    {
     "name": "stdout",
     "output_type": "stream",
     "text": [
      "c492\n",
      "./data//DAY_19935/5b66.c492.tsv\n",
      "eb38\n",
      "./data//DAY_19935/5b66.eb38.tsv\n"
     ]
    },
    {
     "name": "stdout",
     "output_type": "stream",
     "text": [
      "ed9c\n",
      "1fa0\n",
      "./data//DAY_19935/ed9c.1fa0.tsv\n",
      "2eff\n",
      "./data//DAY_19935/ed9c.2eff.tsv\n"
     ]
    },
    {
     "name": "stdout",
     "output_type": "stream",
     "text": [
      "399a\n",
      "./data//DAY_19935/ed9c.399a.tsv\n",
      "45d2\n",
      "./data//DAY_19935/ed9c.45d2.tsv\n"
     ]
    },
    {
     "name": "stdout",
     "output_type": "stream",
     "text": [
      "6aca\n",
      "./data//DAY_19935/ed9c.6aca.tsv\n",
      "8171\n",
      "./data//DAY_19935/ed9c.8171.tsv\n"
     ]
    },
    {
     "name": "stdout",
     "output_type": "stream",
     "text": [
      "a304\n",
      "./data//DAY_19935/ed9c.a304.tsv\n",
      "c492\n",
      "./data//DAY_19935/ed9c.c492.tsv\n"
     ]
    },
    {
     "name": "stdout",
     "output_type": "stream",
     "text": [
      "eb38\n",
      "./data//DAY_19935/ed9c.eb38.tsv\n"
     ]
    }
   ],
   "source": [
    "import cv2\n",
    "import os\n",
    "\n",
    "os.makedirs(data_folder+\"/DAY_\"+str(day)+\"/\", exist_ok=True)\n",
    "\n",
    "for user in users:\n",
    "    print(user)\n",
    "    for anchor in anchors:\n",
    "        print(anchor)\n",
    "        print(data_folder+\"/DAY_\"+str(day)+\"/\"+user+\".\"+anchor+\".tsv\")\n",
    "        filew = open(data_folder+\"/DAY_\"+str(day)+\"/\"+user+\".\"+anchor+\".tsv\", \"w\")\n",
    "   \n",
    "        for tx,tt in enumerate(range(t0,tN,time_step)):\n",
    "            #print(tt,time2str(tt),anchor)\n",
    "            #if(day_time(tt) != day):\n",
    "            #    continue\n",
    "\n",
    "#            min_v=10\n",
    "#            max_v=-10\n",
    "\n",
    "#            df_total=df_total_map[user]\n",
    "            #print(df_total)\n",
    "#            df_intervalo = df_total[(df_total['time'] >= (tt-1)) & (df_total['time'] <= (tt)) & (df_total['anchor'] ==anchor) ]\n",
    "#            if(df_intervalo.size>0):\n",
    "#                min_v=min(min_v,np.min(df_intervalo['d']))\n",
    "#                max_v=max(max_v,np.max(df_intervalo['d']))\n",
    "\n",
    "            filew.write(str(tt)+\"\\t\"+str(df_total_map2[user][anchor][tx][0])+\"\\t\"+str(df_total_map2[user][anchor][tx][1])+\"\\n\")\n",
    "        filew.close()\n"
   ]
  },
  {
   "cell_type": "code",
   "execution_count": null,
   "id": "c80d9d57",
   "metadata": {},
   "outputs": [],
   "source": []
  }
 ],
 "metadata": {
  "kernelspec": {
   "display_name": "Python 3 (ipykernel)",
   "language": "python",
   "name": "python3"
  },
  "language_info": {
   "codemirror_mode": {
    "name": "ipython",
    "version": 3
   },
   "file_extension": ".py",
   "mimetype": "text/x-python",
   "name": "python",
   "nbconvert_exporter": "python",
   "pygments_lexer": "ipython3",
   "version": "3.9.19"
  }
 },
 "nbformat": 4,
 "nbformat_minor": 5
}
